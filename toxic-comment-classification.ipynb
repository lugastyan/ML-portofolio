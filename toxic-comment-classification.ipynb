{
 "cells": [
  {
   "cell_type": "code",
   "execution_count": 1,
   "id": "0ccddb57",
   "metadata": {
    "_cell_guid": "b1076dfc-b9ad-4769-8c92-a6c4dae69d19",
    "_uuid": "8f2839f25d086af736a60e9eeb907d3b93b6e0e5",
    "execution": {
     "iopub.execute_input": "2024-05-15T05:17:49.388660Z",
     "iopub.status.busy": "2024-05-15T05:17:49.387892Z",
     "iopub.status.idle": "2024-05-15T05:17:51.737196Z",
     "shell.execute_reply": "2024-05-15T05:17:51.736020Z"
    },
    "papermill": {
     "duration": 2.38216,
     "end_time": "2024-05-15T05:17:51.740049",
     "exception": false,
     "start_time": "2024-05-15T05:17:49.357889",
     "status": "completed"
    },
    "tags": []
   },
   "outputs": [],
   "source": [
    "# Import Libraries\n",
    "import pandas as pd\n",
    "import numpy as np\n",
    "import seaborn as sns\n",
    "import matplotlib.pyplot as plt\n",
    "import warnings\n",
    "warnings.filterwarnings('ignore')"
   ]
  },
  {
   "cell_type": "code",
   "execution_count": null,
   "id": "fa02f252",
   "metadata": {
    "papermill": {
     "duration": 0.026205,
     "end_time": "2024-05-15T05:17:51.795200",
     "exception": false,
     "start_time": "2024-05-15T05:17:51.768995",
     "status": "completed"
    },
    "tags": []
   },
   "outputs": [],
   "source": []
  },
  {
   "cell_type": "code",
   "execution_count": 2,
   "id": "92732f7a",
   "metadata": {
    "execution": {
     "iopub.execute_input": "2024-05-15T05:17:51.850618Z",
     "iopub.status.busy": "2024-05-15T05:17:51.849673Z",
     "iopub.status.idle": "2024-05-15T05:20:22.043997Z",
     "shell.execute_reply": "2024-05-15T05:20:22.042655Z"
    },
    "papermill": {
     "duration": 150.225494,
     "end_time": "2024-05-15T05:20:22.046938",
     "exception": false,
     "start_time": "2024-05-15T05:17:51.821444",
     "status": "completed"
    },
    "tags": []
   },
   "outputs": [
    {
     "name": "stdout",
     "output_type": "stream",
     "text": [
      "\u001b[33mWARNING: Retrying (Retry(total=4, connect=None, read=None, redirect=None, status=None)) after connection broken by 'NewConnectionError('<pip._vendor.urllib3.connection.HTTPSConnection object at 0x79e23cb680d0>: Failed to establish a new connection: [Errno -3] Temporary failure in name resolution')': /simple/contractions/\u001b[0m\u001b[33m\r\n",
      "\u001b[0m\u001b[33mWARNING: Retrying (Retry(total=3, connect=None, read=None, redirect=None, status=None)) after connection broken by 'NewConnectionError('<pip._vendor.urllib3.connection.HTTPSConnection object at 0x79e23cb683d0>: Failed to establish a new connection: [Errno -3] Temporary failure in name resolution')': /simple/contractions/\u001b[0m\u001b[33m\r\n",
      "\u001b[0m\u001b[33mWARNING: Retrying (Retry(total=2, connect=None, read=None, redirect=None, status=None)) after connection broken by 'NewConnectionError('<pip._vendor.urllib3.connection.HTTPSConnection object at 0x79e23cb68670>: Failed to establish a new connection: [Errno -3] Temporary failure in name resolution')': /simple/contractions/\u001b[0m\u001b[33m\r\n",
      "\u001b[0m\u001b[33mWARNING: Retrying (Retry(total=1, connect=None, read=None, redirect=None, status=None)) after connection broken by 'NewConnectionError('<pip._vendor.urllib3.connection.HTTPSConnection object at 0x79e23cb68820>: Failed to establish a new connection: [Errno -3] Temporary failure in name resolution')': /simple/contractions/\u001b[0m\u001b[33m\r\n",
      "\u001b[0m\u001b[33mWARNING: Retrying (Retry(total=0, connect=None, read=None, redirect=None, status=None)) after connection broken by 'NewConnectionError('<pip._vendor.urllib3.connection.HTTPSConnection object at 0x79e23cb689d0>: Failed to establish a new connection: [Errno -3] Temporary failure in name resolution')': /simple/contractions/\u001b[0m\u001b[33m\r\n",
      "\u001b[0m\u001b[31mERROR: Could not find a version that satisfies the requirement contractions (from versions: none)\u001b[0m\u001b[31m\r\n",
      "\u001b[0m\u001b[31mERROR: No matching distribution found for contractions\u001b[0m\u001b[31m\r\n",
      "\u001b[0mNote: you may need to restart the kernel to use updated packages.\n"
     ]
    }
   ],
   "source": [
    "pip install contractions"
   ]
  },
  {
   "cell_type": "code",
   "execution_count": 3,
   "id": "eb7e97a1",
   "metadata": {
    "execution": {
     "iopub.execute_input": "2024-05-15T05:20:22.104561Z",
     "iopub.status.busy": "2024-05-15T05:20:22.104140Z",
     "iopub.status.idle": "2024-05-15T05:20:23.102412Z",
     "shell.execute_reply": "2024-05-15T05:20:23.101017Z"
    },
    "papermill": {
     "duration": 1.030755,
     "end_time": "2024-05-15T05:20:23.105456",
     "exception": false,
     "start_time": "2024-05-15T05:20:22.074701",
     "status": "completed"
    },
    "tags": []
   },
   "outputs": [],
   "source": [
    "import re\n",
    "import nltk\n",
    "import string\n",
    "\n",
    "from nltk.corpus import stopwords\n",
    "from nltk.stem import WordNetLemmatizer\n",
    "from nltk.tokenize import word_tokenize, sent_tokenize\n",
    "from nltk.stem import PorterStemmer, LancasterStemmer, SnowballStemmer\n"
   ]
  },
  {
   "cell_type": "code",
   "execution_count": 4,
   "id": "9d207906",
   "metadata": {
    "execution": {
     "iopub.execute_input": "2024-05-15T05:20:23.162379Z",
     "iopub.status.busy": "2024-05-15T05:20:23.161982Z",
     "iopub.status.idle": "2024-05-15T05:20:25.210098Z",
     "shell.execute_reply": "2024-05-15T05:20:25.208898Z"
    },
    "papermill": {
     "duration": 2.08018,
     "end_time": "2024-05-15T05:20:25.213195",
     "exception": false,
     "start_time": "2024-05-15T05:20:23.133015",
     "status": "completed"
    },
    "tags": []
   },
   "outputs": [],
   "source": [
    "df = pd.read_csv('/kaggle/input/toxiccommment/train.csv')"
   ]
  },
  {
   "cell_type": "raw",
   "id": "4538de8d",
   "metadata": {
    "papermill": {
     "duration": 0.026903,
     "end_time": "2024-05-15T05:20:25.267945",
     "exception": false,
     "start_time": "2024-05-15T05:20:25.241042",
     "status": "completed"
    },
    "tags": []
   },
   "source": [
    "df.head()"
   ]
  },
  {
   "cell_type": "code",
   "execution_count": 5,
   "id": "fc95ab75",
   "metadata": {
    "execution": {
     "iopub.execute_input": "2024-05-15T05:20:25.326437Z",
     "iopub.status.busy": "2024-05-15T05:20:25.325197Z",
     "iopub.status.idle": "2024-05-15T05:20:25.353383Z",
     "shell.execute_reply": "2024-05-15T05:20:25.352226Z"
    },
    "papermill": {
     "duration": 0.060573,
     "end_time": "2024-05-15T05:20:25.356068",
     "exception": false,
     "start_time": "2024-05-15T05:20:25.295495",
     "status": "completed"
    },
    "tags": []
   },
   "outputs": [
    {
     "data": {
      "text/html": [
       "<div>\n",
       "<style scoped>\n",
       "    .dataframe tbody tr th:only-of-type {\n",
       "        vertical-align: middle;\n",
       "    }\n",
       "\n",
       "    .dataframe tbody tr th {\n",
       "        vertical-align: top;\n",
       "    }\n",
       "\n",
       "    .dataframe thead th {\n",
       "        text-align: right;\n",
       "    }\n",
       "</style>\n",
       "<table border=\"1\" class=\"dataframe\">\n",
       "  <thead>\n",
       "    <tr style=\"text-align: right;\">\n",
       "      <th></th>\n",
       "      <th>id</th>\n",
       "      <th>comment_text</th>\n",
       "      <th>toxic</th>\n",
       "      <th>severe_toxic</th>\n",
       "      <th>obscene</th>\n",
       "      <th>threat</th>\n",
       "      <th>insult</th>\n",
       "      <th>identity_hate</th>\n",
       "    </tr>\n",
       "  </thead>\n",
       "  <tbody>\n",
       "    <tr>\n",
       "      <th>0</th>\n",
       "      <td>0000997932d777bf</td>\n",
       "      <td>Explanation\\nWhy the edits made under my usern...</td>\n",
       "      <td>0</td>\n",
       "      <td>0</td>\n",
       "      <td>0</td>\n",
       "      <td>0</td>\n",
       "      <td>0</td>\n",
       "      <td>0</td>\n",
       "    </tr>\n",
       "    <tr>\n",
       "      <th>1</th>\n",
       "      <td>000103f0d9cfb60f</td>\n",
       "      <td>D'aww! He matches this background colour I'm s...</td>\n",
       "      <td>0</td>\n",
       "      <td>0</td>\n",
       "      <td>0</td>\n",
       "      <td>0</td>\n",
       "      <td>0</td>\n",
       "      <td>0</td>\n",
       "    </tr>\n",
       "    <tr>\n",
       "      <th>2</th>\n",
       "      <td>000113f07ec002fd</td>\n",
       "      <td>Hey man, I'm really not trying to edit war. It...</td>\n",
       "      <td>0</td>\n",
       "      <td>0</td>\n",
       "      <td>0</td>\n",
       "      <td>0</td>\n",
       "      <td>0</td>\n",
       "      <td>0</td>\n",
       "    </tr>\n",
       "    <tr>\n",
       "      <th>3</th>\n",
       "      <td>0001b41b1c6bb37e</td>\n",
       "      <td>\"\\nMore\\nI can't make any real suggestions on ...</td>\n",
       "      <td>0</td>\n",
       "      <td>0</td>\n",
       "      <td>0</td>\n",
       "      <td>0</td>\n",
       "      <td>0</td>\n",
       "      <td>0</td>\n",
       "    </tr>\n",
       "    <tr>\n",
       "      <th>4</th>\n",
       "      <td>0001d958c54c6e35</td>\n",
       "      <td>You, sir, are my hero. Any chance you remember...</td>\n",
       "      <td>0</td>\n",
       "      <td>0</td>\n",
       "      <td>0</td>\n",
       "      <td>0</td>\n",
       "      <td>0</td>\n",
       "      <td>0</td>\n",
       "    </tr>\n",
       "  </tbody>\n",
       "</table>\n",
       "</div>"
      ],
      "text/plain": [
       "                 id                                       comment_text  toxic  \\\n",
       "0  0000997932d777bf  Explanation\\nWhy the edits made under my usern...      0   \n",
       "1  000103f0d9cfb60f  D'aww! He matches this background colour I'm s...      0   \n",
       "2  000113f07ec002fd  Hey man, I'm really not trying to edit war. It...      0   \n",
       "3  0001b41b1c6bb37e  \"\\nMore\\nI can't make any real suggestions on ...      0   \n",
       "4  0001d958c54c6e35  You, sir, are my hero. Any chance you remember...      0   \n",
       "\n",
       "   severe_toxic  obscene  threat  insult  identity_hate  \n",
       "0             0        0       0       0              0  \n",
       "1             0        0       0       0              0  \n",
       "2             0        0       0       0              0  \n",
       "3             0        0       0       0              0  \n",
       "4             0        0       0       0              0  "
      ]
     },
     "execution_count": 5,
     "metadata": {},
     "output_type": "execute_result"
    }
   ],
   "source": [
    "df.head()"
   ]
  },
  {
   "cell_type": "code",
   "execution_count": 6,
   "id": "89ab50d2",
   "metadata": {
    "execution": {
     "iopub.execute_input": "2024-05-15T05:20:25.413670Z",
     "iopub.status.busy": "2024-05-15T05:20:25.412506Z",
     "iopub.status.idle": "2024-05-15T05:20:25.482756Z",
     "shell.execute_reply": "2024-05-15T05:20:25.481785Z"
    },
    "papermill": {
     "duration": 0.101658,
     "end_time": "2024-05-15T05:20:25.485369",
     "exception": false,
     "start_time": "2024-05-15T05:20:25.383711",
     "status": "completed"
    },
    "tags": []
   },
   "outputs": [
    {
     "name": "stdout",
     "output_type": "stream",
     "text": [
      "<class 'pandas.core.frame.DataFrame'>\n",
      "RangeIndex: 159571 entries, 0 to 159570\n",
      "Data columns (total 8 columns):\n",
      " #   Column         Non-Null Count   Dtype \n",
      "---  ------         --------------   ----- \n",
      " 0   id             159571 non-null  object\n",
      " 1   comment_text   159571 non-null  object\n",
      " 2   toxic          159571 non-null  int64 \n",
      " 3   severe_toxic   159571 non-null  int64 \n",
      " 4   obscene        159571 non-null  int64 \n",
      " 5   threat         159571 non-null  int64 \n",
      " 6   insult         159571 non-null  int64 \n",
      " 7   identity_hate  159571 non-null  int64 \n",
      "dtypes: int64(6), object(2)\n",
      "memory usage: 9.7+ MB\n"
     ]
    }
   ],
   "source": [
    "df.info()"
   ]
  },
  {
   "cell_type": "code",
   "execution_count": 7,
   "id": "f48248da",
   "metadata": {
    "execution": {
     "iopub.execute_input": "2024-05-15T05:20:25.543533Z",
     "iopub.status.busy": "2024-05-15T05:20:25.543126Z",
     "iopub.status.idle": "2024-05-15T05:20:25.593126Z",
     "shell.execute_reply": "2024-05-15T05:20:25.592217Z"
    },
    "papermill": {
     "duration": 0.081695,
     "end_time": "2024-05-15T05:20:25.595516",
     "exception": false,
     "start_time": "2024-05-15T05:20:25.513821",
     "status": "completed"
    },
    "tags": []
   },
   "outputs": [
    {
     "data": {
      "text/plain": [
       "id               0\n",
       "comment_text     0\n",
       "toxic            0\n",
       "severe_toxic     0\n",
       "obscene          0\n",
       "threat           0\n",
       "insult           0\n",
       "identity_hate    0\n",
       "dtype: int64"
      ]
     },
     "execution_count": 7,
     "metadata": {},
     "output_type": "execute_result"
    }
   ],
   "source": [
    "df.isnull().sum()"
   ]
  },
  {
   "cell_type": "code",
   "execution_count": 8,
   "id": "2d44ec1d",
   "metadata": {
    "execution": {
     "iopub.execute_input": "2024-05-15T05:20:25.717530Z",
     "iopub.status.busy": "2024-05-15T05:20:25.717083Z",
     "iopub.status.idle": "2024-05-15T05:20:25.733719Z",
     "shell.execute_reply": "2024-05-15T05:20:25.732643Z"
    },
    "papermill": {
     "duration": 0.050054,
     "end_time": "2024-05-15T05:20:25.736064",
     "exception": false,
     "start_time": "2024-05-15T05:20:25.686010",
     "status": "completed"
    },
    "tags": []
   },
   "outputs": [
    {
     "data": {
      "text/plain": [
       "(array([0, 1]),\n",
       " array([0, 1]),\n",
       " array([0, 1]),\n",
       " array([0, 1]),\n",
       " array([0, 1]),\n",
       " array([0, 1]))"
      ]
     },
     "execution_count": 8,
     "metadata": {},
     "output_type": "execute_result"
    }
   ],
   "source": [
    "df['toxic'].unique(), df['severe_toxic'].unique(),df['obscene'].unique(), df['threat'].unique(), df['insult'].unique(), df['identity_hate'].unique(), "
   ]
  },
  {
   "cell_type": "code",
   "execution_count": 9,
   "id": "3a6c6249",
   "metadata": {
    "execution": {
     "iopub.execute_input": "2024-05-15T05:20:25.794511Z",
     "iopub.status.busy": "2024-05-15T05:20:25.793670Z",
     "iopub.status.idle": "2024-05-15T05:20:25.805886Z",
     "shell.execute_reply": "2024-05-15T05:20:25.804707Z"
    },
    "papermill": {
     "duration": 0.044399,
     "end_time": "2024-05-15T05:20:25.808479",
     "exception": false,
     "start_time": "2024-05-15T05:20:25.764080",
     "status": "completed"
    },
    "tags": []
   },
   "outputs": [
    {
     "data": {
      "text/plain": [
       "toxic\n",
       "0    144277\n",
       "1     15294\n",
       "Name: count, dtype: int64"
      ]
     },
     "execution_count": 9,
     "metadata": {},
     "output_type": "execute_result"
    }
   ],
   "source": [
    "df['toxic'].value_counts()"
   ]
  },
  {
   "cell_type": "code",
   "execution_count": 10,
   "id": "29cc7f91",
   "metadata": {
    "execution": {
     "iopub.execute_input": "2024-05-15T05:20:25.866740Z",
     "iopub.status.busy": "2024-05-15T05:20:25.866344Z",
     "iopub.status.idle": "2024-05-15T05:20:25.876427Z",
     "shell.execute_reply": "2024-05-15T05:20:25.875362Z"
    },
    "papermill": {
     "duration": 0.042154,
     "end_time": "2024-05-15T05:20:25.878802",
     "exception": false,
     "start_time": "2024-05-15T05:20:25.836648",
     "status": "completed"
    },
    "tags": []
   },
   "outputs": [
    {
     "data": {
      "text/plain": [
       "severe_toxic\n",
       "0    157976\n",
       "1      1595\n",
       "Name: count, dtype: int64"
      ]
     },
     "execution_count": 10,
     "metadata": {},
     "output_type": "execute_result"
    }
   ],
   "source": [
    "df['severe_toxic'].value_counts()"
   ]
  },
  {
   "cell_type": "code",
   "execution_count": 11,
   "id": "01595cc6",
   "metadata": {
    "execution": {
     "iopub.execute_input": "2024-05-15T05:20:25.937697Z",
     "iopub.status.busy": "2024-05-15T05:20:25.936982Z",
     "iopub.status.idle": "2024-05-15T05:20:25.947125Z",
     "shell.execute_reply": "2024-05-15T05:20:25.946068Z"
    },
    "papermill": {
     "duration": 0.0423,
     "end_time": "2024-05-15T05:20:25.949471",
     "exception": false,
     "start_time": "2024-05-15T05:20:25.907171",
     "status": "completed"
    },
    "tags": []
   },
   "outputs": [
    {
     "data": {
      "text/plain": [
       "obscene\n",
       "0    151122\n",
       "1      8449\n",
       "Name: count, dtype: int64"
      ]
     },
     "execution_count": 11,
     "metadata": {},
     "output_type": "execute_result"
    }
   ],
   "source": [
    "df['obscene'].value_counts()"
   ]
  },
  {
   "cell_type": "code",
   "execution_count": 12,
   "id": "737e7667",
   "metadata": {
    "execution": {
     "iopub.execute_input": "2024-05-15T05:20:26.008658Z",
     "iopub.status.busy": "2024-05-15T05:20:26.008235Z",
     "iopub.status.idle": "2024-05-15T05:20:26.018370Z",
     "shell.execute_reply": "2024-05-15T05:20:26.017311Z"
    },
    "papermill": {
     "duration": 0.042464,
     "end_time": "2024-05-15T05:20:26.020752",
     "exception": false,
     "start_time": "2024-05-15T05:20:25.978288",
     "status": "completed"
    },
    "tags": []
   },
   "outputs": [
    {
     "data": {
      "text/plain": [
       "threat\n",
       "0    159093\n",
       "1       478\n",
       "Name: count, dtype: int64"
      ]
     },
     "execution_count": 12,
     "metadata": {},
     "output_type": "execute_result"
    }
   ],
   "source": [
    "df['threat'].value_counts()"
   ]
  },
  {
   "cell_type": "code",
   "execution_count": 13,
   "id": "7787a733",
   "metadata": {
    "execution": {
     "iopub.execute_input": "2024-05-15T05:20:26.080586Z",
     "iopub.status.busy": "2024-05-15T05:20:26.080161Z",
     "iopub.status.idle": "2024-05-15T05:20:26.092880Z",
     "shell.execute_reply": "2024-05-15T05:20:26.091800Z"
    },
    "papermill": {
     "duration": 0.045559,
     "end_time": "2024-05-15T05:20:26.095215",
     "exception": false,
     "start_time": "2024-05-15T05:20:26.049656",
     "status": "completed"
    },
    "tags": []
   },
   "outputs": [
    {
     "data": {
      "text/plain": [
       "(insult\n",
       " 0    151694\n",
       " 1      7877\n",
       " Name: count, dtype: int64,\n",
       " identity_hate\n",
       " 0    158166\n",
       " 1      1405\n",
       " Name: count, dtype: int64)"
      ]
     },
     "execution_count": 13,
     "metadata": {},
     "output_type": "execute_result"
    }
   ],
   "source": [
    "df['insult'].value_counts(), df['identity_hate'].value_counts()"
   ]
  },
  {
   "cell_type": "code",
   "execution_count": 14,
   "id": "eea1c55b",
   "metadata": {
    "execution": {
     "iopub.execute_input": "2024-05-15T05:20:26.154569Z",
     "iopub.status.busy": "2024-05-15T05:20:26.154124Z",
     "iopub.status.idle": "2024-05-15T05:20:26.158732Z",
     "shell.execute_reply": "2024-05-15T05:20:26.157723Z"
    },
    "papermill": {
     "duration": 0.03714,
     "end_time": "2024-05-15T05:20:26.161170",
     "exception": false,
     "start_time": "2024-05-15T05:20:26.124030",
     "status": "completed"
    },
    "tags": []
   },
   "outputs": [],
   "source": [
    "#Data Visualization"
   ]
  },
  {
   "cell_type": "code",
   "execution_count": 15,
   "id": "963dc2f1",
   "metadata": {
    "execution": {
     "iopub.execute_input": "2024-05-15T05:20:26.222284Z",
     "iopub.status.busy": "2024-05-15T05:20:26.221512Z",
     "iopub.status.idle": "2024-05-15T05:20:26.230178Z",
     "shell.execute_reply": "2024-05-15T05:20:26.229273Z"
    },
    "papermill": {
     "duration": 0.041974,
     "end_time": "2024-05-15T05:20:26.232669",
     "exception": false,
     "start_time": "2024-05-15T05:20:26.190695",
     "status": "completed"
    },
    "tags": []
   },
   "outputs": [],
   "source": [
    "sentencetype_graph = df.iloc[:,2:].sum()"
   ]
  },
  {
   "cell_type": "code",
   "execution_count": 16,
   "id": "f600a7bd",
   "metadata": {
    "execution": {
     "iopub.execute_input": "2024-05-15T05:20:26.291953Z",
     "iopub.status.busy": "2024-05-15T05:20:26.291572Z",
     "iopub.status.idle": "2024-05-15T05:20:26.299523Z",
     "shell.execute_reply": "2024-05-15T05:20:26.298412Z"
    },
    "papermill": {
     "duration": 0.040672,
     "end_time": "2024-05-15T05:20:26.302061",
     "exception": false,
     "start_time": "2024-05-15T05:20:26.261389",
     "status": "completed"
    },
    "tags": []
   },
   "outputs": [
    {
     "data": {
      "text/plain": [
       "toxic            15294\n",
       "severe_toxic      1595\n",
       "obscene           8449\n",
       "threat             478\n",
       "insult            7877\n",
       "identity_hate     1405\n",
       "dtype: int64"
      ]
     },
     "execution_count": 16,
     "metadata": {},
     "output_type": "execute_result"
    }
   ],
   "source": [
    "sentencetype_graph"
   ]
  },
  {
   "cell_type": "code",
   "execution_count": 17,
   "id": "d22b2f05",
   "metadata": {
    "execution": {
     "iopub.execute_input": "2024-05-15T05:20:26.364321Z",
     "iopub.status.busy": "2024-05-15T05:20:26.363897Z",
     "iopub.status.idle": "2024-05-15T05:20:26.879093Z",
     "shell.execute_reply": "2024-05-15T05:20:26.877853Z"
    },
    "papermill": {
     "duration": 0.5502,
     "end_time": "2024-05-15T05:20:26.882446",
     "exception": false,
     "start_time": "2024-05-15T05:20:26.332246",
     "status": "completed"
    },
    "tags": []
   },
   "outputs": [
    {
     "data": {
      "text/plain": [
       "[Text(0, 0, 'toxic'),\n",
       " Text(1, 0, 'obscene'),\n",
       " Text(2, 0, 'insult'),\n",
       " Text(3, 0, 'severe_toxic'),\n",
       " Text(4, 0, 'identity_hate'),\n",
       " Text(5, 0, 'threat')]"
      ]
     },
     "execution_count": 17,
     "metadata": {},
     "output_type": "execute_result"
    },
    {
     "data": {
      "image/png": "[encoded data removed]",
      "text/plain": [
       "<Figure size 1500x800 with 1 Axes>"
      ]
     },
     "metadata": {},
     "output_type": "display_data"
    }
   ],
   "source": [
    "sns.set_style('darkgrid')\n",
    "ls=sentencetype_graph.sort_values(ascending=False)\n",
    "\n",
    "plt.figure(figsize=(15,8))\n",
    "\n",
    "temp = sns.barplot(x=ls.index, y=ls.values, alpha=0.8)\n",
    "\n",
    "plt.title('Sentence Type')\n",
    "\n",
    "plt.ylabel('COUNT', fontsize=14)\n",
    "\n",
    "plt.xlabel('All Sentence Type', fontsize = 15)\n",
    "\n",
    "temp.set_xticklabels(rotation=90, labels=ls.index, fontsize=10)"
   ]
  },
  {
   "cell_type": "code",
   "execution_count": 18,
   "id": "65f20073",
   "metadata": {
    "execution": {
     "iopub.execute_input": "2024-05-15T05:20:26.944987Z",
     "iopub.status.busy": "2024-05-15T05:20:26.944611Z",
     "iopub.status.idle": "2024-05-15T05:20:26.948712Z",
     "shell.execute_reply": "2024-05-15T05:20:26.947680Z"
    },
    "papermill": {
     "duration": 0.037944,
     "end_time": "2024-05-15T05:20:26.950922",
     "exception": false,
     "start_time": "2024-05-15T05:20:26.912978",
     "status": "completed"
    },
    "tags": []
   },
   "outputs": [],
   "source": [
    "# there many toxic sentences followed by obscene sentences and very few thretening sentences as seen above "
   ]
  },
  {
   "cell_type": "raw",
   "id": "832a2961",
   "metadata": {
    "papermill": {
     "duration": 0.030021,
     "end_time": "2024-05-15T05:20:27.011588",
     "exception": false,
     "start_time": "2024-05-15T05:20:26.981567",
     "status": "completed"
    },
    "tags": []
   },
   "source": [
    "Text Pre-processing"
   ]
  },
  {
   "cell_type": "code",
   "execution_count": 19,
   "id": "cb88d026",
   "metadata": {
    "execution": {
     "iopub.execute_input": "2024-05-15T05:20:27.073547Z",
     "iopub.status.busy": "2024-05-15T05:20:27.072285Z",
     "iopub.status.idle": "2024-05-15T05:20:27.077538Z",
     "shell.execute_reply": "2024-05-15T05:20:27.076470Z"
    },
    "papermill": {
     "duration": 0.038673,
     "end_time": "2024-05-15T05:20:27.079934",
     "exception": false,
     "start_time": "2024-05-15T05:20:27.041261",
     "status": "completed"
    },
    "tags": []
   },
   "outputs": [],
   "source": [
    "import re\n",
    "import string"
   ]
  },
  {
   "cell_type": "code",
   "execution_count": 20,
   "id": "60a9d8f3",
   "metadata": {
    "execution": {
     "iopub.execute_input": "2024-05-15T05:20:27.143685Z",
     "iopub.status.busy": "2024-05-15T05:20:27.142993Z",
     "iopub.status.idle": "2024-05-15T05:20:51.461569Z",
     "shell.execute_reply": "2024-05-15T05:20:51.460397Z"
    },
    "papermill": {
     "duration": 24.354707,
     "end_time": "2024-05-15T05:20:51.464505",
     "exception": false,
     "start_time": "2024-05-15T05:20:27.109798",
     "status": "completed"
    },
    "tags": []
   },
   "outputs": [],
   "source": [
    "# Removing special character\n",
    "alphanumeric = lambda x: re.sub('\\w*\\d\\w*', ' ',x)\n",
    "punc_lower = lambda x: re.sub('[%s]' % re.escape(string.punctuation), ' ', x.lower())\n",
    "remove_n = lambda x:re.sub('\\n', ' ', x)\n",
    "remove_non_ascii = lambda x:re.sub(r'[^\\x00-\\x7f]', r' ', x)\n",
    "dd = df['comment_text'].map(alphanumeric).map(punc_lower).map(remove_n).map(remove_non_ascii)"
   ]
  },
  {
   "cell_type": "markdown",
   "id": "af9edf99",
   "metadata": {
    "papermill": {
     "duration": 0.029966,
     "end_time": "2024-05-15T05:20:51.524537",
     "exception": false,
     "start_time": "2024-05-15T05:20:51.494571",
     "status": "completed"
    },
    "tags": []
   },
   "source": []
  },
  {
   "cell_type": "code",
   "execution_count": 21,
   "id": "f8c3605f",
   "metadata": {
    "execution": {
     "iopub.execute_input": "2024-05-15T05:20:51.588034Z",
     "iopub.status.busy": "2024-05-15T05:20:51.587642Z",
     "iopub.status.idle": "2024-05-15T05:20:51.609624Z",
     "shell.execute_reply": "2024-05-15T05:20:51.608746Z"
    },
    "papermill": {
     "duration": 0.05677,
     "end_time": "2024-05-15T05:20:51.611776",
     "exception": false,
     "start_time": "2024-05-15T05:20:51.555006",
     "status": "completed"
    },
    "tags": []
   },
   "outputs": [
    {
     "data": {
      "text/html": [
       "<div>\n",
       "<style scoped>\n",
       "    .dataframe tbody tr th:only-of-type {\n",
       "        vertical-align: middle;\n",
       "    }\n",
       "\n",
       "    .dataframe tbody tr th {\n",
       "        vertical-align: top;\n",
       "    }\n",
       "\n",
       "    .dataframe thead th {\n",
       "        text-align: right;\n",
       "    }\n",
       "</style>\n",
       "<table border=\"1\" class=\"dataframe\">\n",
       "  <thead>\n",
       "    <tr style=\"text-align: right;\">\n",
       "      <th></th>\n",
       "      <th>id</th>\n",
       "      <th>comment_text</th>\n",
       "      <th>insult</th>\n",
       "    </tr>\n",
       "  </thead>\n",
       "  <tbody>\n",
       "    <tr>\n",
       "      <th>0</th>\n",
       "      <td>0000997932d777bf</td>\n",
       "      <td>Explanation\\nWhy the edits made under my usern...</td>\n",
       "      <td>0</td>\n",
       "    </tr>\n",
       "    <tr>\n",
       "      <th>1</th>\n",
       "      <td>000103f0d9cfb60f</td>\n",
       "      <td>D'aww! He matches this background colour I'm s...</td>\n",
       "      <td>0</td>\n",
       "    </tr>\n",
       "  </tbody>\n",
       "</table>\n",
       "</div>"
      ],
      "text/plain": [
       "                 id                                       comment_text  insult\n",
       "0  0000997932d777bf  Explanation\\nWhy the edits made under my usern...       0\n",
       "1  000103f0d9cfb60f  D'aww! He matches this background colour I'm s...       0"
      ]
     },
     "execution_count": 21,
     "metadata": {},
     "output_type": "execute_result"
    }
   ],
   "source": [
    "insulting_comment_df = df.loc[:,['id','comment_text','insult']]\n",
    "insulting_comment_df.head(2)"
   ]
  },
  {
   "cell_type": "code",
   "execution_count": 22,
   "id": "ece0f05a",
   "metadata": {
    "execution": {
     "iopub.execute_input": "2024-05-15T05:20:51.673910Z",
     "iopub.status.busy": "2024-05-15T05:20:51.673229Z",
     "iopub.status.idle": "2024-05-15T05:20:51.700906Z",
     "shell.execute_reply": "2024-05-15T05:20:51.700018Z"
    },
    "papermill": {
     "duration": 0.061718,
     "end_time": "2024-05-15T05:20:51.703493",
     "exception": false,
     "start_time": "2024-05-15T05:20:51.641775",
     "status": "completed"
    },
    "tags": []
   },
   "outputs": [
    {
     "data": {
      "text/html": [
       "<div>\n",
       "<style scoped>\n",
       "    .dataframe tbody tr th:only-of-type {\n",
       "        vertical-align: middle;\n",
       "    }\n",
       "\n",
       "    .dataframe tbody tr th {\n",
       "        vertical-align: top;\n",
       "    }\n",
       "\n",
       "    .dataframe thead th {\n",
       "        text-align: right;\n",
       "    }\n",
       "</style>\n",
       "<table border=\"1\" class=\"dataframe\">\n",
       "  <thead>\n",
       "    <tr style=\"text-align: right;\">\n",
       "      <th></th>\n",
       "      <th>id</th>\n",
       "      <th>comment_text</th>\n",
       "      <th>identity_hate</th>\n",
       "    </tr>\n",
       "  </thead>\n",
       "  <tbody>\n",
       "    <tr>\n",
       "      <th>21954</th>\n",
       "      <td>39d7ab815816fbb0</td>\n",
       "      <td>I’m not saying you have to include everything ...</td>\n",
       "      <td>0</td>\n",
       "    </tr>\n",
       "    <tr>\n",
       "      <th>84574</th>\n",
       "      <td>e2483664df8b8fc8</td>\n",
       "      <td>Fine, but also have the courtesy to remove you...</td>\n",
       "      <td>0</td>\n",
       "    </tr>\n",
       "  </tbody>\n",
       "</table>\n",
       "</div>"
      ],
      "text/plain": [
       "                     id                                       comment_text  \\\n",
       "21954  39d7ab815816fbb0  I’m not saying you have to include everything ...   \n",
       "84574  e2483664df8b8fc8  Fine, but also have the courtesy to remove you...   \n",
       "\n",
       "       identity_hate  \n",
       "21954              0  \n",
       "84574              0  "
      ]
     },
     "execution_count": 22,
     "metadata": {},
     "output_type": "execute_result"
    }
   ],
   "source": [
    "identityhate_comment_df=df.loc[:,['id','comment_text','identity_hate']]\n",
    "identityhate_comment_df.sample(2)"
   ]
  },
  {
   "cell_type": "code",
   "execution_count": 23,
   "id": "d5ef4de2",
   "metadata": {
    "execution": {
     "iopub.execute_input": "2024-05-15T05:20:51.766242Z",
     "iopub.status.busy": "2024-05-15T05:20:51.765815Z",
     "iopub.status.idle": "2024-05-15T05:20:51.790251Z",
     "shell.execute_reply": "2024-05-15T05:20:51.789458Z"
    },
    "papermill": {
     "duration": 0.058752,
     "end_time": "2024-05-15T05:20:51.792617",
     "exception": false,
     "start_time": "2024-05-15T05:20:51.733865",
     "status": "completed"
    },
    "tags": []
   },
   "outputs": [
    {
     "data": {
      "text/html": [
       "<div>\n",
       "<style scoped>\n",
       "    .dataframe tbody tr th:only-of-type {\n",
       "        vertical-align: middle;\n",
       "    }\n",
       "\n",
       "    .dataframe tbody tr th {\n",
       "        vertical-align: top;\n",
       "    }\n",
       "\n",
       "    .dataframe thead th {\n",
       "        text-align: right;\n",
       "    }\n",
       "</style>\n",
       "<table border=\"1\" class=\"dataframe\">\n",
       "  <thead>\n",
       "    <tr style=\"text-align: right;\">\n",
       "      <th></th>\n",
       "      <th>id</th>\n",
       "      <th>comment_text</th>\n",
       "      <th>obscene</th>\n",
       "    </tr>\n",
       "  </thead>\n",
       "  <tbody>\n",
       "    <tr>\n",
       "      <th>32245</th>\n",
       "      <td>55b9b16222b81c33</td>\n",
       "      <td>I have reverted a recent edit you made to the ...</td>\n",
       "      <td>0</td>\n",
       "    </tr>\n",
       "    <tr>\n",
       "      <th>127214</th>\n",
       "      <td>a860d71299d2c58f</td>\n",
       "      <td>\"\\n\"\"Content dispute\"\"?!? HE PUT A PLACE IN A ...</td>\n",
       "      <td>0</td>\n",
       "    </tr>\n",
       "  </tbody>\n",
       "</table>\n",
       "</div>"
      ],
      "text/plain": [
       "                      id                                       comment_text  \\\n",
       "32245   55b9b16222b81c33  I have reverted a recent edit you made to the ...   \n",
       "127214  a860d71299d2c58f  \"\\n\"\"Content dispute\"\"?!? HE PUT A PLACE IN A ...   \n",
       "\n",
       "        obscene  \n",
       "32245         0  \n",
       "127214        0  "
      ]
     },
     "execution_count": 23,
     "metadata": {},
     "output_type": "execute_result"
    }
   ],
   "source": [
    "obscene_comment_df = df.loc[:, ['id','comment_text','obscene']]\n",
    "obscene_comment_df.sample(2)"
   ]
  },
  {
   "cell_type": "code",
   "execution_count": 24,
   "id": "67d16ca1",
   "metadata": {
    "execution": {
     "iopub.execute_input": "2024-05-15T05:20:51.857337Z",
     "iopub.status.busy": "2024-05-15T05:20:51.855839Z",
     "iopub.status.idle": "2024-05-15T05:20:51.881186Z",
     "shell.execute_reply": "2024-05-15T05:20:51.880035Z"
    },
    "papermill": {
     "duration": 0.060505,
     "end_time": "2024-05-15T05:20:51.883644",
     "exception": false,
     "start_time": "2024-05-15T05:20:51.823139",
     "status": "completed"
    },
    "tags": []
   },
   "outputs": [
    {
     "data": {
      "text/html": [
       "<div>\n",
       "<style scoped>\n",
       "    .dataframe tbody tr th:only-of-type {\n",
       "        vertical-align: middle;\n",
       "    }\n",
       "\n",
       "    .dataframe tbody tr th {\n",
       "        vertical-align: top;\n",
       "    }\n",
       "\n",
       "    .dataframe thead th {\n",
       "        text-align: right;\n",
       "    }\n",
       "</style>\n",
       "<table border=\"1\" class=\"dataframe\">\n",
       "  <thead>\n",
       "    <tr style=\"text-align: right;\">\n",
       "      <th></th>\n",
       "      <th>id</th>\n",
       "      <th>comment_text</th>\n",
       "      <th>threat</th>\n",
       "    </tr>\n",
       "  </thead>\n",
       "  <tbody>\n",
       "    <tr>\n",
       "      <th>21970</th>\n",
       "      <td>39e3fabbe320cbf9</td>\n",
       "      <td>I'm asking you one last time to quit vandalisi...</td>\n",
       "      <td>0</td>\n",
       "    </tr>\n",
       "    <tr>\n",
       "      <th>65996</th>\n",
       "      <td>b078220803a39f75</td>\n",
       "      <td>band \\n\\nhey were looking for a drummer any on...</td>\n",
       "      <td>0</td>\n",
       "    </tr>\n",
       "  </tbody>\n",
       "</table>\n",
       "</div>"
      ],
      "text/plain": [
       "                     id                                       comment_text  \\\n",
       "21970  39e3fabbe320cbf9  I'm asking you one last time to quit vandalisi...   \n",
       "65996  b078220803a39f75  band \\n\\nhey were looking for a drummer any on...   \n",
       "\n",
       "       threat  \n",
       "21970       0  \n",
       "65996       0  "
      ]
     },
     "execution_count": 24,
     "metadata": {},
     "output_type": "execute_result"
    }
   ],
   "source": [
    "threetening_comment_df = df.loc[:, ['id','comment_text','threat']]\n",
    "threetening_comment_df.sample(2)"
   ]
  },
  {
   "cell_type": "code",
   "execution_count": 25,
   "id": "ff746572",
   "metadata": {
    "execution": {
     "iopub.execute_input": "2024-05-15T05:20:51.947912Z",
     "iopub.status.busy": "2024-05-15T05:20:51.947256Z",
     "iopub.status.idle": "2024-05-15T05:20:51.960640Z",
     "shell.execute_reply": "2024-05-15T05:20:51.959672Z"
    },
    "papermill": {
     "duration": 0.048684,
     "end_time": "2024-05-15T05:20:51.963119",
     "exception": false,
     "start_time": "2024-05-15T05:20:51.914435",
     "status": "completed"
    },
    "tags": []
   },
   "outputs": [],
   "source": [
    "severetoxic_comment_df = df.loc[:, ['id','comment_text','severe_toxic']]"
   ]
  },
  {
   "cell_type": "code",
   "execution_count": 26,
   "id": "500c2c78",
   "metadata": {
    "execution": {
     "iopub.execute_input": "2024-05-15T05:20:52.026926Z",
     "iopub.status.busy": "2024-05-15T05:20:52.026282Z",
     "iopub.status.idle": "2024-05-15T05:20:52.051990Z",
     "shell.execute_reply": "2024-05-15T05:20:52.050893Z"
    },
    "papermill": {
     "duration": 0.060801,
     "end_time": "2024-05-15T05:20:52.054697",
     "exception": false,
     "start_time": "2024-05-15T05:20:51.993896",
     "status": "completed"
    },
    "tags": []
   },
   "outputs": [
    {
     "data": {
      "text/html": [
       "<div>\n",
       "<style scoped>\n",
       "    .dataframe tbody tr th:only-of-type {\n",
       "        vertical-align: middle;\n",
       "    }\n",
       "\n",
       "    .dataframe tbody tr th {\n",
       "        vertical-align: top;\n",
       "    }\n",
       "\n",
       "    .dataframe thead th {\n",
       "        text-align: right;\n",
       "    }\n",
       "</style>\n",
       "<table border=\"1\" class=\"dataframe\">\n",
       "  <thead>\n",
       "    <tr style=\"text-align: right;\">\n",
       "      <th></th>\n",
       "      <th>id</th>\n",
       "      <th>comment_text</th>\n",
       "      <th>toxic</th>\n",
       "    </tr>\n",
       "  </thead>\n",
       "  <tbody>\n",
       "    <tr>\n",
       "      <th>115969</th>\n",
       "      <td>6c16c0cc5ef87861</td>\n",
       "      <td>I deeply regret having to say this, but I beli...</td>\n",
       "      <td>0</td>\n",
       "    </tr>\n",
       "    <tr>\n",
       "      <th>114163</th>\n",
       "      <td>62c83115a7fe79c4</td>\n",
       "      <td>Why delete my original submission, I thought t...</td>\n",
       "      <td>0</td>\n",
       "    </tr>\n",
       "  </tbody>\n",
       "</table>\n",
       "</div>"
      ],
      "text/plain": [
       "                      id                                       comment_text  \\\n",
       "115969  6c16c0cc5ef87861  I deeply regret having to say this, but I beli...   \n",
       "114163  62c83115a7fe79c4  Why delete my original submission, I thought t...   \n",
       "\n",
       "        toxic  \n",
       "115969      0  \n",
       "114163      0  "
      ]
     },
     "execution_count": 26,
     "metadata": {},
     "output_type": "execute_result"
    }
   ],
   "source": [
    "toxic_comment_df = df.loc[:, ['id','comment_text','toxic']]\n",
    "toxic_comment_df.sample(2)"
   ]
  },
  {
   "cell_type": "code",
   "execution_count": 27,
   "id": "a373f317",
   "metadata": {
    "execution": {
     "iopub.execute_input": "2024-05-15T05:20:52.119483Z",
     "iopub.status.busy": "2024-05-15T05:20:52.118782Z",
     "iopub.status.idle": "2024-05-15T05:20:52.185538Z",
     "shell.execute_reply": "2024-05-15T05:20:52.184521Z"
    },
    "papermill": {
     "duration": 0.102269,
     "end_time": "2024-05-15T05:20:52.188164",
     "exception": false,
     "start_time": "2024-05-15T05:20:52.085895",
     "status": "completed"
    },
    "tags": []
   },
   "outputs": [],
   "source": [
    "import wordcloud\n",
    "from PIL import Image\n",
    "from wordcloud import WordCloud, STOPWORDS, ImageColorGenerator\n",
    "from nltk.corpus import stopwords"
   ]
  },
  {
   "cell_type": "code",
   "execution_count": 28,
   "id": "c6a0789f",
   "metadata": {
    "execution": {
     "iopub.execute_input": "2024-05-15T05:20:52.252518Z",
     "iopub.status.busy": "2024-05-15T05:20:52.251894Z",
     "iopub.status.idle": "2024-05-15T05:20:52.259762Z",
     "shell.execute_reply": "2024-05-15T05:20:52.258427Z"
    },
    "papermill": {
     "duration": 0.04283,
     "end_time": "2024-05-15T05:20:52.262273",
     "exception": false,
     "start_time": "2024-05-15T05:20:52.219443",
     "status": "completed"
    },
    "tags": []
   },
   "outputs": [],
   "source": [
    "def wordcloud(df, label):\n",
    "    subset=df[df[label]==1]\n",
    "    text=subset.comment_text.values\n",
    "    wc=WordCloud(background_color='black',max_words=2000)\n",
    "    \n",
    "    wc.generate(' '.join(text))\n",
    "    \n",
    "    plt.figure(figsize=(20,20))\n",
    "    plt.subplot(221)\n",
    "    plt.axis('off')\n",
    "    plt.title(f'word frequented in {label}', fontsize=20)\n",
    "    \n",
    "    plt.imshow(wc.recolor(colormap='gist_earth', random_state=244), alpha=0.98)\n",
    "    \n",
    "    "
   ]
  },
  {
   "cell_type": "code",
   "execution_count": 29,
   "id": "4cee19b6",
   "metadata": {
    "execution": {
     "iopub.execute_input": "2024-05-15T05:20:52.326738Z",
     "iopub.status.busy": "2024-05-15T05:20:52.326354Z",
     "iopub.status.idle": "2024-05-15T05:20:53.567938Z",
     "shell.execute_reply": "2024-05-15T05:20:53.566930Z"
    },
    "papermill": {
     "duration": 1.278555,
     "end_time": "2024-05-15T05:20:53.571906",
     "exception": false,
     "start_time": "2024-05-15T05:20:52.293351",
     "status": "completed"
    },
    "tags": []
   },
   "outputs": [
    {
     "data": {
      "image/png": "[encoded data removed]",
      "text/plain": [
       "<Figure size 2000x2000 with 1 Axes>"
      ]
     },
     "metadata": {},
     "output_type": "display_data"
    }
   ],
   "source": [
    "wordcloud(severetoxic_comment_df, 'severe_toxic')"
   ]
  },
  {
   "cell_type": "code",
   "execution_count": 30,
   "id": "f82a601e",
   "metadata": {
    "execution": {
     "iopub.execute_input": "2024-05-15T05:20:53.642352Z",
     "iopub.status.busy": "2024-05-15T05:20:53.641675Z",
     "iopub.status.idle": "2024-05-15T05:20:56.432512Z",
     "shell.execute_reply": "2024-05-15T05:20:56.431317Z"
    },
    "papermill": {
     "duration": 2.82892,
     "end_time": "2024-05-15T05:20:56.434884",
     "exception": false,
     "start_time": "2024-05-15T05:20:53.605964",
     "status": "completed"
    },
    "tags": []
   },
   "outputs": [
    {
     "data": {
      "image/png": "[encoded data removed]",
      "text/plain": [
       "<Figure size 2000x2000 with 1 Axes>"
      ]
     },
     "metadata": {},
     "output_type": "display_data"
    }
   ],
   "source": [
    "wordcloud(obscene_comment_df, 'obscene')"
   ]
  },
  {
   "cell_type": "code",
   "execution_count": 31,
   "id": "ef25bbbf",
   "metadata": {
    "execution": {
     "iopub.execute_input": "2024-05-15T05:20:56.513512Z",
     "iopub.status.busy": "2024-05-15T05:20:56.513102Z",
     "iopub.status.idle": "2024-05-15T05:20:56.518036Z",
     "shell.execute_reply": "2024-05-15T05:20:56.516809Z"
    },
    "papermill": {
     "duration": 0.046944,
     "end_time": "2024-05-15T05:20:56.520484",
     "exception": false,
     "start_time": "2024-05-15T05:20:56.473540",
     "status": "completed"
    },
    "tags": []
   },
   "outputs": [],
   "source": [
    "# Belancing the target column in the dataset"
   ]
  },
  {
   "cell_type": "code",
   "execution_count": 32,
   "id": "2b0a5030",
   "metadata": {
    "execution": {
     "iopub.execute_input": "2024-05-15T05:20:56.598793Z",
     "iopub.status.busy": "2024-05-15T05:20:56.597678Z",
     "iopub.status.idle": "2024-05-15T05:20:56.609991Z",
     "shell.execute_reply": "2024-05-15T05:20:56.609209Z"
    },
    "papermill": {
     "duration": 0.053355,
     "end_time": "2024-05-15T05:20:56.612140",
     "exception": false,
     "start_time": "2024-05-15T05:20:56.558785",
     "status": "completed"
    },
    "tags": []
   },
   "outputs": [
    {
     "data": {
      "text/html": [
       "<div>\n",
       "<style scoped>\n",
       "    .dataframe tbody tr th:only-of-type {\n",
       "        vertical-align: middle;\n",
       "    }\n",
       "\n",
       "    .dataframe tbody tr th {\n",
       "        vertical-align: top;\n",
       "    }\n",
       "\n",
       "    .dataframe thead th {\n",
       "        text-align: right;\n",
       "    }\n",
       "</style>\n",
       "<table border=\"1\" class=\"dataframe\">\n",
       "  <thead>\n",
       "    <tr style=\"text-align: right;\">\n",
       "      <th></th>\n",
       "      <th>id</th>\n",
       "      <th>comment_text</th>\n",
       "      <th>toxic</th>\n",
       "    </tr>\n",
       "  </thead>\n",
       "  <tbody>\n",
       "    <tr>\n",
       "      <th>0</th>\n",
       "      <td>0000997932d777bf</td>\n",
       "      <td>Explanation\\nWhy the edits made under my usern...</td>\n",
       "      <td>0</td>\n",
       "    </tr>\n",
       "    <tr>\n",
       "      <th>1</th>\n",
       "      <td>000103f0d9cfb60f</td>\n",
       "      <td>D'aww! He matches this background colour I'm s...</td>\n",
       "      <td>0</td>\n",
       "    </tr>\n",
       "    <tr>\n",
       "      <th>2</th>\n",
       "      <td>000113f07ec002fd</td>\n",
       "      <td>Hey man, I'm really not trying to edit war. It...</td>\n",
       "      <td>0</td>\n",
       "    </tr>\n",
       "    <tr>\n",
       "      <th>3</th>\n",
       "      <td>0001b41b1c6bb37e</td>\n",
       "      <td>\"\\nMore\\nI can't make any real suggestions on ...</td>\n",
       "      <td>0</td>\n",
       "    </tr>\n",
       "    <tr>\n",
       "      <th>4</th>\n",
       "      <td>0001d958c54c6e35</td>\n",
       "      <td>You, sir, are my hero. Any chance you remember...</td>\n",
       "      <td>0</td>\n",
       "    </tr>\n",
       "    <tr>\n",
       "      <th>...</th>\n",
       "      <td>...</td>\n",
       "      <td>...</td>\n",
       "      <td>...</td>\n",
       "    </tr>\n",
       "    <tr>\n",
       "      <th>159566</th>\n",
       "      <td>ffe987279560d7ff</td>\n",
       "      <td>\":::::And for the second time of asking, when ...</td>\n",
       "      <td>0</td>\n",
       "    </tr>\n",
       "    <tr>\n",
       "      <th>159567</th>\n",
       "      <td>ffea4adeee384e90</td>\n",
       "      <td>You should be ashamed of yourself \\n\\nThat is ...</td>\n",
       "      <td>0</td>\n",
       "    </tr>\n",
       "    <tr>\n",
       "      <th>159568</th>\n",
       "      <td>ffee36eab5c267c9</td>\n",
       "      <td>Spitzer \\n\\nUmm, theres no actual article for ...</td>\n",
       "      <td>0</td>\n",
       "    </tr>\n",
       "    <tr>\n",
       "      <th>159569</th>\n",
       "      <td>fff125370e4aaaf3</td>\n",
       "      <td>And it looks like it was actually you who put ...</td>\n",
       "      <td>0</td>\n",
       "    </tr>\n",
       "    <tr>\n",
       "      <th>159570</th>\n",
       "      <td>fff46fc426af1f9a</td>\n",
       "      <td>\"\\nAnd ... I really don't think you understand...</td>\n",
       "      <td>0</td>\n",
       "    </tr>\n",
       "  </tbody>\n",
       "</table>\n",
       "<p>159571 rows × 3 columns</p>\n",
       "</div>"
      ],
      "text/plain": [
       "                      id                                       comment_text  \\\n",
       "0       0000997932d777bf  Explanation\\nWhy the edits made under my usern...   \n",
       "1       000103f0d9cfb60f  D'aww! He matches this background colour I'm s...   \n",
       "2       000113f07ec002fd  Hey man, I'm really not trying to edit war. It...   \n",
       "3       0001b41b1c6bb37e  \"\\nMore\\nI can't make any real suggestions on ...   \n",
       "4       0001d958c54c6e35  You, sir, are my hero. Any chance you remember...   \n",
       "...                  ...                                                ...   \n",
       "159566  ffe987279560d7ff  \":::::And for the second time of asking, when ...   \n",
       "159567  ffea4adeee384e90  You should be ashamed of yourself \\n\\nThat is ...   \n",
       "159568  ffee36eab5c267c9  Spitzer \\n\\nUmm, theres no actual article for ...   \n",
       "159569  fff125370e4aaaf3  And it looks like it was actually you who put ...   \n",
       "159570  fff46fc426af1f9a  \"\\nAnd ... I really don't think you understand...   \n",
       "\n",
       "        toxic  \n",
       "0           0  \n",
       "1           0  \n",
       "2           0  \n",
       "3           0  \n",
       "4           0  \n",
       "...       ...  \n",
       "159566      0  \n",
       "159567      0  \n",
       "159568      0  \n",
       "159569      0  \n",
       "159570      0  \n",
       "\n",
       "[159571 rows x 3 columns]"
      ]
     },
     "execution_count": 32,
     "metadata": {},
     "output_type": "execute_result"
    }
   ],
   "source": [
    "toxic_comment_df"
   ]
  },
  {
   "cell_type": "code",
   "execution_count": 33,
   "id": "20c04374",
   "metadata": {
    "execution": {
     "iopub.execute_input": "2024-05-15T05:20:56.690170Z",
     "iopub.status.busy": "2024-05-15T05:20:56.689452Z",
     "iopub.status.idle": "2024-05-15T05:20:56.699810Z",
     "shell.execute_reply": "2024-05-15T05:20:56.699012Z"
    },
    "papermill": {
     "duration": 0.052058,
     "end_time": "2024-05-15T05:20:56.702078",
     "exception": false,
     "start_time": "2024-05-15T05:20:56.650020",
     "status": "completed"
    },
    "tags": []
   },
   "outputs": [
    {
     "data": {
      "text/plain": [
       "5000"
      ]
     },
     "execution_count": 33,
     "metadata": {},
     "output_type": "execute_result"
    }
   ],
   "source": [
    "# Slecting only 5000 toxic comments\n",
    "toxic_comment_balanced_1 = toxic_comment_df[toxic_comment_df['toxic'] == 1].iloc[0:5000, :]\n",
    "len(toxic_comment_balanced_1)"
   ]
  },
  {
   "cell_type": "code",
   "execution_count": 34,
   "id": "8b1ee0d9",
   "metadata": {
    "execution": {
     "iopub.execute_input": "2024-05-15T05:20:56.780229Z",
     "iopub.status.busy": "2024-05-15T05:20:56.779478Z",
     "iopub.status.idle": "2024-05-15T05:20:56.795184Z",
     "shell.execute_reply": "2024-05-15T05:20:56.794378Z"
    },
    "papermill": {
     "duration": 0.057359,
     "end_time": "2024-05-15T05:20:56.797377",
     "exception": false,
     "start_time": "2024-05-15T05:20:56.740018",
     "status": "completed"
    },
    "tags": []
   },
   "outputs": [
    {
     "data": {
      "text/plain": [
       "(5000, 3)"
      ]
     },
     "execution_count": 34,
     "metadata": {},
     "output_type": "execute_result"
    }
   ],
   "source": [
    "# Selectiong only 50000 non toxic comment \n",
    "toxic_comment_balanced_0 = toxic_comment_df[toxic_comment_df['toxic'] == 0].iloc[0:5000, :]\n",
    "toxic_comment_balanced_0.shape"
   ]
  },
  {
   "cell_type": "code",
   "execution_count": 35,
   "id": "3c60cae5",
   "metadata": {
    "execution": {
     "iopub.execute_input": "2024-05-15T05:20:56.877034Z",
     "iopub.status.busy": "2024-05-15T05:20:56.876334Z",
     "iopub.status.idle": "2024-05-15T05:20:56.882601Z",
     "shell.execute_reply": "2024-05-15T05:20:56.881548Z"
    },
    "papermill": {
     "duration": 0.049434,
     "end_time": "2024-05-15T05:20:56.884826",
     "exception": false,
     "start_time": "2024-05-15T05:20:56.835392",
     "status": "completed"
    },
    "tags": []
   },
   "outputs": [],
   "source": [
    "# Concating toxic commment and non toxic comment \n",
    "toxic_comment_balanced = pd.concat([toxic_comment_balanced_1, toxic_comment_balanced_0])"
   ]
  },
  {
   "cell_type": "code",
   "execution_count": 36,
   "id": "160b4e1c",
   "metadata": {
    "execution": {
     "iopub.execute_input": "2024-05-15T05:20:56.962839Z",
     "iopub.status.busy": "2024-05-15T05:20:56.962421Z",
     "iopub.status.idle": "2024-05-15T05:20:56.968743Z",
     "shell.execute_reply": "2024-05-15T05:20:56.967934Z"
    },
    "papermill": {
     "duration": 0.048103,
     "end_time": "2024-05-15T05:20:56.970985",
     "exception": false,
     "start_time": "2024-05-15T05:20:56.922882",
     "status": "completed"
    },
    "tags": []
   },
   "outputs": [
    {
     "data": {
      "text/plain": [
       "(10000, 3)"
      ]
     },
     "execution_count": 36,
     "metadata": {},
     "output_type": "execute_result"
    }
   ],
   "source": [
    "toxic_comment_balanced.shape"
   ]
  },
  {
   "cell_type": "code",
   "execution_count": 37,
   "id": "dfcbb391",
   "metadata": {
    "execution": {
     "iopub.execute_input": "2024-05-15T05:20:57.050723Z",
     "iopub.status.busy": "2024-05-15T05:20:57.049963Z",
     "iopub.status.idle": "2024-05-15T05:20:57.057572Z",
     "shell.execute_reply": "2024-05-15T05:20:57.056584Z"
    },
    "papermill": {
     "duration": 0.049998,
     "end_time": "2024-05-15T05:20:57.059835",
     "exception": false,
     "start_time": "2024-05-15T05:20:57.009837",
     "status": "completed"
    },
    "tags": []
   },
   "outputs": [
    {
     "data": {
      "text/plain": [
       "toxic\n",
       "1    5000\n",
       "0    5000\n",
       "Name: count, dtype: int64"
      ]
     },
     "execution_count": 37,
     "metadata": {},
     "output_type": "execute_result"
    }
   ],
   "source": [
    "toxic_comment_balanced['toxic'].value_counts()\n",
    "# now the toxic and non toxic is balance"
   ]
  },
  {
   "cell_type": "code",
   "execution_count": 38,
   "id": "a11a0fe7",
   "metadata": {
    "execution": {
     "iopub.execute_input": "2024-05-15T05:20:57.139468Z",
     "iopub.status.busy": "2024-05-15T05:20:57.138738Z",
     "iopub.status.idle": "2024-05-15T05:20:57.143529Z",
     "shell.execute_reply": "2024-05-15T05:20:57.142022Z"
    },
    "papermill": {
     "duration": 0.048019,
     "end_time": "2024-05-15T05:20:57.146488",
     "exception": false,
     "start_time": "2024-05-15T05:20:57.098469",
     "status": "completed"
    },
    "tags": []
   },
   "outputs": [],
   "source": [
    "# Repeating the steps for the subset dataset"
   ]
  },
  {
   "cell_type": "code",
   "execution_count": 39,
   "id": "57dd869f",
   "metadata": {
    "execution": {
     "iopub.execute_input": "2024-05-15T05:20:57.228009Z",
     "iopub.status.busy": "2024-05-15T05:20:57.227567Z",
     "iopub.status.idle": "2024-05-15T05:20:57.242809Z",
     "shell.execute_reply": "2024-05-15T05:20:57.241974Z"
    },
    "papermill": {
     "duration": 0.057682,
     "end_time": "2024-05-15T05:20:57.245075",
     "exception": false,
     "start_time": "2024-05-15T05:20:57.187393",
     "status": "completed"
    },
    "tags": []
   },
   "outputs": [
    {
     "data": {
      "text/html": [
       "<div>\n",
       "<style scoped>\n",
       "    .dataframe tbody tr th:only-of-type {\n",
       "        vertical-align: middle;\n",
       "    }\n",
       "\n",
       "    .dataframe tbody tr th {\n",
       "        vertical-align: top;\n",
       "    }\n",
       "\n",
       "    .dataframe thead th {\n",
       "        text-align: right;\n",
       "    }\n",
       "</style>\n",
       "<table border=\"1\" class=\"dataframe\">\n",
       "  <thead>\n",
       "    <tr style=\"text-align: right;\">\n",
       "      <th></th>\n",
       "      <th>id</th>\n",
       "      <th>comment_text</th>\n",
       "      <th>severe_toxic</th>\n",
       "    </tr>\n",
       "  </thead>\n",
       "  <tbody>\n",
       "    <tr>\n",
       "      <th>12130</th>\n",
       "      <td>201dddb0393bd100</td>\n",
       "      <td>\"\\nThank you )  I am très excited!  User Talk ...</td>\n",
       "      <td>0</td>\n",
       "    </tr>\n",
       "    <tr>\n",
       "      <th>20897</th>\n",
       "      <td>3725783f92507033</td>\n",
       "      <td>Hi Scorpion,. I'm a bit aggravated as I provid...</td>\n",
       "      <td>0</td>\n",
       "    </tr>\n",
       "  </tbody>\n",
       "</table>\n",
       "</div>"
      ],
      "text/plain": [
       "                     id                                       comment_text  \\\n",
       "12130  201dddb0393bd100  \"\\nThank you )  I am très excited!  User Talk ...   \n",
       "20897  3725783f92507033  Hi Scorpion,. I'm a bit aggravated as I provid...   \n",
       "\n",
       "       severe_toxic  \n",
       "12130             0  \n",
       "20897             0  "
      ]
     },
     "execution_count": 39,
     "metadata": {},
     "output_type": "execute_result"
    }
   ],
   "source": [
    "severetoxic_comment_df.sample(2)"
   ]
  },
  {
   "cell_type": "code",
   "execution_count": 40,
   "id": "f7cec58d",
   "metadata": {
    "execution": {
     "iopub.execute_input": "2024-05-15T05:20:57.325512Z",
     "iopub.status.busy": "2024-05-15T05:20:57.324311Z",
     "iopub.status.idle": "2024-05-15T05:20:57.334598Z",
     "shell.execute_reply": "2024-05-15T05:20:57.333624Z"
    },
    "papermill": {
     "duration": 0.052619,
     "end_time": "2024-05-15T05:20:57.336722",
     "exception": false,
     "start_time": "2024-05-15T05:20:57.284103",
     "status": "completed"
    },
    "tags": []
   },
   "outputs": [
    {
     "data": {
      "text/plain": [
       "severe_toxic\n",
       "0    157976\n",
       "1      1595\n",
       "Name: count, dtype: int64"
      ]
     },
     "execution_count": 40,
     "metadata": {},
     "output_type": "execute_result"
    }
   ],
   "source": [
    "severetoxic_comment_df['severe_toxic'].value_counts()"
   ]
  },
  {
   "cell_type": "code",
   "execution_count": 41,
   "id": "c6aa7ae2",
   "metadata": {
    "execution": {
     "iopub.execute_input": "2024-05-15T05:20:57.417510Z",
     "iopub.status.busy": "2024-05-15T05:20:57.416263Z",
     "iopub.status.idle": "2024-05-15T05:20:57.424327Z",
     "shell.execute_reply": "2024-05-15T05:20:57.423335Z"
    },
    "papermill": {
     "duration": 0.051425,
     "end_time": "2024-05-15T05:20:57.427077",
     "exception": false,
     "start_time": "2024-05-15T05:20:57.375652",
     "status": "completed"
    },
    "tags": []
   },
   "outputs": [],
   "source": [
    "severe_comment_balanced_1 = severetoxic_comment_df[severetoxic_comment_df['severe_toxic'] == 1].iloc[0:1595, :]"
   ]
  },
  {
   "cell_type": "code",
   "execution_count": 42,
   "id": "0622235f",
   "metadata": {
    "execution": {
     "iopub.execute_input": "2024-05-15T05:20:57.509009Z",
     "iopub.status.busy": "2024-05-15T05:20:57.508610Z",
     "iopub.status.idle": "2024-05-15T05:20:57.524343Z",
     "shell.execute_reply": "2024-05-15T05:20:57.523348Z"
    },
    "papermill": {
     "duration": 0.059803,
     "end_time": "2024-05-15T05:20:57.526995",
     "exception": false,
     "start_time": "2024-05-15T05:20:57.467192",
     "status": "completed"
    },
    "tags": []
   },
   "outputs": [],
   "source": [
    "severe_comment_balanced_0 = severetoxic_comment_df[severetoxic_comment_df['severe_toxic'] == 0].iloc[0:1595, :]"
   ]
  },
  {
   "cell_type": "code",
   "execution_count": 43,
   "id": "4fccbc86",
   "metadata": {
    "execution": {
     "iopub.execute_input": "2024-05-15T05:20:57.608580Z",
     "iopub.status.busy": "2024-05-15T05:20:57.607840Z",
     "iopub.status.idle": "2024-05-15T05:20:57.616232Z",
     "shell.execute_reply": "2024-05-15T05:20:57.615179Z"
    },
    "papermill": {
     "duration": 0.051578,
     "end_time": "2024-05-15T05:20:57.618930",
     "exception": false,
     "start_time": "2024-05-15T05:20:57.567352",
     "status": "completed"
    },
    "tags": []
   },
   "outputs": [
    {
     "data": {
      "text/plain": [
       "((1595, 3), (1595, 3), (3190, 3))"
      ]
     },
     "execution_count": 43,
     "metadata": {},
     "output_type": "execute_result"
    }
   ],
   "source": [
    "severe_comment_balanced = pd.concat([severe_comment_balanced_1, severe_comment_balanced_0])\n",
    "severe_comment_balanced_0.shape, severe_comment_balanced_1.shape,severe_comment_balanced.shape"
   ]
  },
  {
   "cell_type": "code",
   "execution_count": 44,
   "id": "03da74f5",
   "metadata": {
    "execution": {
     "iopub.execute_input": "2024-05-15T05:20:57.699018Z",
     "iopub.status.busy": "2024-05-15T05:20:57.698615Z",
     "iopub.status.idle": "2024-05-15T05:20:57.703241Z",
     "shell.execute_reply": "2024-05-15T05:20:57.702177Z"
    },
    "papermill": {
     "duration": 0.047767,
     "end_time": "2024-05-15T05:20:57.705645",
     "exception": false,
     "start_time": "2024-05-15T05:20:57.657878",
     "status": "completed"
    },
    "tags": []
   },
   "outputs": [],
   "source": [
    "# Repeating the same for obsene comment "
   ]
  },
  {
   "cell_type": "code",
   "execution_count": 45,
   "id": "56194302",
   "metadata": {
    "execution": {
     "iopub.execute_input": "2024-05-15T05:20:57.786482Z",
     "iopub.status.busy": "2024-05-15T05:20:57.786068Z",
     "iopub.status.idle": "2024-05-15T05:20:57.801201Z",
     "shell.execute_reply": "2024-05-15T05:20:57.800098Z"
    },
    "papermill": {
     "duration": 0.058556,
     "end_time": "2024-05-15T05:20:57.803620",
     "exception": false,
     "start_time": "2024-05-15T05:20:57.745064",
     "status": "completed"
    },
    "tags": []
   },
   "outputs": [
    {
     "data": {
      "text/html": [
       "<div>\n",
       "<style scoped>\n",
       "    .dataframe tbody tr th:only-of-type {\n",
       "        vertical-align: middle;\n",
       "    }\n",
       "\n",
       "    .dataframe tbody tr th {\n",
       "        vertical-align: top;\n",
       "    }\n",
       "\n",
       "    .dataframe thead th {\n",
       "        text-align: right;\n",
       "    }\n",
       "</style>\n",
       "<table border=\"1\" class=\"dataframe\">\n",
       "  <thead>\n",
       "    <tr style=\"text-align: right;\">\n",
       "      <th></th>\n",
       "      <th>id</th>\n",
       "      <th>comment_text</th>\n",
       "      <th>obscene</th>\n",
       "    </tr>\n",
       "  </thead>\n",
       "  <tbody>\n",
       "    <tr>\n",
       "      <th>43263</th>\n",
       "      <td>737ad4657f8cda09</td>\n",
       "      <td>Also I will, from now on, keep my pings to a m...</td>\n",
       "      <td>0</td>\n",
       "    </tr>\n",
       "    <tr>\n",
       "      <th>128997</th>\n",
       "      <td>b1d5239201f7a398</td>\n",
       "      <td>In the early years of the war there were mass ...</td>\n",
       "      <td>0</td>\n",
       "    </tr>\n",
       "  </tbody>\n",
       "</table>\n",
       "</div>"
      ],
      "text/plain": [
       "                      id                                       comment_text  \\\n",
       "43263   737ad4657f8cda09  Also I will, from now on, keep my pings to a m...   \n",
       "128997  b1d5239201f7a398  In the early years of the war there were mass ...   \n",
       "\n",
       "        obscene  \n",
       "43263         0  \n",
       "128997        0  "
      ]
     },
     "execution_count": 45,
     "metadata": {},
     "output_type": "execute_result"
    }
   ],
   "source": [
    "obscene_comment_df.sample(2)"
   ]
  },
  {
   "cell_type": "code",
   "execution_count": 46,
   "id": "9885219a",
   "metadata": {
    "execution": {
     "iopub.execute_input": "2024-05-15T05:20:57.885241Z",
     "iopub.status.busy": "2024-05-15T05:20:57.884846Z",
     "iopub.status.idle": "2024-05-15T05:20:57.894116Z",
     "shell.execute_reply": "2024-05-15T05:20:57.893322Z"
    },
    "papermill": {
     "duration": 0.052791,
     "end_time": "2024-05-15T05:20:57.896189",
     "exception": false,
     "start_time": "2024-05-15T05:20:57.843398",
     "status": "completed"
    },
    "tags": []
   },
   "outputs": [
    {
     "data": {
      "text/plain": [
       "obscene\n",
       "0    151122\n",
       "1      8449\n",
       "Name: count, dtype: int64"
      ]
     },
     "execution_count": 46,
     "metadata": {},
     "output_type": "execute_result"
    }
   ],
   "source": [
    "obscene_comment_df['obscene'].value_counts()\n",
    "# There inbalance data"
   ]
  },
  {
   "cell_type": "code",
   "execution_count": 47,
   "id": "74c21055",
   "metadata": {
    "execution": {
     "iopub.execute_input": "2024-05-15T05:20:57.976844Z",
     "iopub.status.busy": "2024-05-15T05:20:57.976471Z",
     "iopub.status.idle": "2024-05-15T05:20:57.984057Z",
     "shell.execute_reply": "2024-05-15T05:20:57.983230Z"
    },
    "papermill": {
     "duration": 0.05044,
     "end_time": "2024-05-15T05:20:57.986108",
     "exception": false,
     "start_time": "2024-05-15T05:20:57.935668",
     "status": "completed"
    },
    "tags": []
   },
   "outputs": [],
   "source": [
    "obscene_comment_df_1 = obscene_comment_df[obscene_comment_df['obscene'] == 1].iloc[0:8449, :]"
   ]
  },
  {
   "cell_type": "code",
   "execution_count": 48,
   "id": "f94c7a87",
   "metadata": {
    "execution": {
     "iopub.execute_input": "2024-05-15T05:20:58.069734Z",
     "iopub.status.busy": "2024-05-15T05:20:58.068771Z",
     "iopub.status.idle": "2024-05-15T05:20:58.083487Z",
     "shell.execute_reply": "2024-05-15T05:20:58.082461Z"
    },
    "papermill": {
     "duration": 0.059508,
     "end_time": "2024-05-15T05:20:58.085776",
     "exception": false,
     "start_time": "2024-05-15T05:20:58.026268",
     "status": "completed"
    },
    "tags": []
   },
   "outputs": [],
   "source": [
    "obscene_comment_df_0 = obscene_comment_df[obscene_comment_df['obscene'] == 0].iloc[0:8449, :]"
   ]
  },
  {
   "cell_type": "code",
   "execution_count": 49,
   "id": "15672479",
   "metadata": {
    "execution": {
     "iopub.execute_input": "2024-05-15T05:20:58.167173Z",
     "iopub.status.busy": "2024-05-15T05:20:58.166462Z",
     "iopub.status.idle": "2024-05-15T05:20:58.175297Z",
     "shell.execute_reply": "2024-05-15T05:20:58.173800Z"
    },
    "papermill": {
     "duration": 0.052115,
     "end_time": "2024-05-15T05:20:58.177790",
     "exception": false,
     "start_time": "2024-05-15T05:20:58.125675",
     "status": "completed"
    },
    "tags": []
   },
   "outputs": [
    {
     "data": {
      "text/plain": [
       "((8449, 3), (8449, 3), (159571, 3))"
      ]
     },
     "execution_count": 49,
     "metadata": {},
     "output_type": "execute_result"
    }
   ],
   "source": [
    "obscene_comment_balanced = pd.concat([obscene_comment_df_1, obscene_comment_df_0])\n",
    "obscene_comment_df_1.shape,  obscene_comment_df_0.shape, obscene_comment_df.shape"
   ]
  },
  {
   "cell_type": "code",
   "execution_count": 50,
   "id": "327f489b",
   "metadata": {
    "execution": {
     "iopub.execute_input": "2024-05-15T05:20:58.259122Z",
     "iopub.status.busy": "2024-05-15T05:20:58.258519Z",
     "iopub.status.idle": "2024-05-15T05:20:58.262198Z",
     "shell.execute_reply": "2024-05-15T05:20:58.261371Z"
    },
    "papermill": {
     "duration": 0.046843,
     "end_time": "2024-05-15T05:20:58.264455",
     "exception": false,
     "start_time": "2024-05-15T05:20:58.217612",
     "status": "completed"
    },
    "tags": []
   },
   "outputs": [],
   "source": [
    "# Repeating the same for thereatening comment"
   ]
  },
  {
   "cell_type": "code",
   "execution_count": 51,
   "id": "a775ea87",
   "metadata": {
    "execution": {
     "iopub.execute_input": "2024-05-15T05:20:58.345980Z",
     "iopub.status.busy": "2024-05-15T05:20:58.345366Z",
     "iopub.status.idle": "2024-05-15T05:20:58.360670Z",
     "shell.execute_reply": "2024-05-15T05:20:58.359542Z"
    },
    "papermill": {
     "duration": 0.05902,
     "end_time": "2024-05-15T05:20:58.363074",
     "exception": false,
     "start_time": "2024-05-15T05:20:58.304054",
     "status": "completed"
    },
    "tags": []
   },
   "outputs": [
    {
     "data": {
      "text/html": [
       "<div>\n",
       "<style scoped>\n",
       "    .dataframe tbody tr th:only-of-type {\n",
       "        vertical-align: middle;\n",
       "    }\n",
       "\n",
       "    .dataframe tbody tr th {\n",
       "        vertical-align: top;\n",
       "    }\n",
       "\n",
       "    .dataframe thead th {\n",
       "        text-align: right;\n",
       "    }\n",
       "</style>\n",
       "<table border=\"1\" class=\"dataframe\">\n",
       "  <thead>\n",
       "    <tr style=\"text-align: right;\">\n",
       "      <th></th>\n",
       "      <th>id</th>\n",
       "      <th>comment_text</th>\n",
       "      <th>threat</th>\n",
       "    </tr>\n",
       "  </thead>\n",
       "  <tbody>\n",
       "    <tr>\n",
       "      <th>27112</th>\n",
       "      <td>47c07450280bac01</td>\n",
       "      <td>\"\\n\\n The Stub Barnstar (4) \\n\\n  The Stub Bar...</td>\n",
       "      <td>0</td>\n",
       "    </tr>\n",
       "    <tr>\n",
       "      <th>128755</th>\n",
       "      <td>b096a49da80da1ce</td>\n",
       "      <td>\"\\n\\nFirst of all, I was only pointing out tha...</td>\n",
       "      <td>0</td>\n",
       "    </tr>\n",
       "  </tbody>\n",
       "</table>\n",
       "</div>"
      ],
      "text/plain": [
       "                      id                                       comment_text  \\\n",
       "27112   47c07450280bac01  \"\\n\\n The Stub Barnstar (4) \\n\\n  The Stub Bar...   \n",
       "128755  b096a49da80da1ce  \"\\n\\nFirst of all, I was only pointing out tha...   \n",
       "\n",
       "        threat  \n",
       "27112        0  \n",
       "128755       0  "
      ]
     },
     "execution_count": 51,
     "metadata": {},
     "output_type": "execute_result"
    }
   ],
   "source": [
    "threetening_comment_df.sample(2)"
   ]
  },
  {
   "cell_type": "code",
   "execution_count": 52,
   "id": "845d5d64",
   "metadata": {
    "execution": {
     "iopub.execute_input": "2024-05-15T05:20:58.446464Z",
     "iopub.status.busy": "2024-05-15T05:20:58.444956Z",
     "iopub.status.idle": "2024-05-15T05:20:58.456332Z",
     "shell.execute_reply": "2024-05-15T05:20:58.455106Z"
    },
    "papermill": {
     "duration": 0.055891,
     "end_time": "2024-05-15T05:20:58.458802",
     "exception": false,
     "start_time": "2024-05-15T05:20:58.402911",
     "status": "completed"
    },
    "tags": []
   },
   "outputs": [
    {
     "data": {
      "text/plain": [
       "threat\n",
       "0    159093\n",
       "1       478\n",
       "Name: count, dtype: int64"
      ]
     },
     "execution_count": 52,
     "metadata": {},
     "output_type": "execute_result"
    }
   ],
   "source": [
    "threetening_comment_df['threat'].value_counts()\n",
    "# There inbalance data"
   ]
  },
  {
   "cell_type": "code",
   "execution_count": 53,
   "id": "c1303998",
   "metadata": {
    "execution": {
     "iopub.execute_input": "2024-05-15T05:20:58.542581Z",
     "iopub.status.busy": "2024-05-15T05:20:58.541833Z",
     "iopub.status.idle": "2024-05-15T05:20:58.548673Z",
     "shell.execute_reply": "2024-05-15T05:20:58.547691Z"
    },
    "papermill": {
     "duration": 0.050972,
     "end_time": "2024-05-15T05:20:58.551107",
     "exception": false,
     "start_time": "2024-05-15T05:20:58.500135",
     "status": "completed"
    },
    "tags": []
   },
   "outputs": [],
   "source": [
    "threat_comment_df_1 = threetening_comment_df[threetening_comment_df['threat'] == 1].iloc[0:478, :]"
   ]
  },
  {
   "cell_type": "code",
   "execution_count": 54,
   "id": "8019b698",
   "metadata": {
    "execution": {
     "iopub.execute_input": "2024-05-15T05:20:58.634298Z",
     "iopub.status.busy": "2024-05-15T05:20:58.633576Z",
     "iopub.status.idle": "2024-05-15T05:20:58.648480Z",
     "shell.execute_reply": "2024-05-15T05:20:58.647494Z"
    },
    "papermill": {
     "duration": 0.059016,
     "end_time": "2024-05-15T05:20:58.651044",
     "exception": false,
     "start_time": "2024-05-15T05:20:58.592028",
     "status": "completed"
    },
    "tags": []
   },
   "outputs": [],
   "source": [
    "threat_comment_df_0 = threetening_comment_df[threetening_comment_df['threat'] == 0].iloc[0:478, :]"
   ]
  },
  {
   "cell_type": "code",
   "execution_count": 55,
   "id": "b0072989",
   "metadata": {
    "execution": {
     "iopub.execute_input": "2024-05-15T05:20:58.734061Z",
     "iopub.status.busy": "2024-05-15T05:20:58.733310Z",
     "iopub.status.idle": "2024-05-15T05:20:58.742385Z",
     "shell.execute_reply": "2024-05-15T05:20:58.741226Z"
    },
    "papermill": {
     "duration": 0.053721,
     "end_time": "2024-05-15T05:20:58.744746",
     "exception": false,
     "start_time": "2024-05-15T05:20:58.691025",
     "status": "completed"
    },
    "tags": []
   },
   "outputs": [
    {
     "data": {
      "text/plain": [
       "((478, 3), (478, 3), (956, 3))"
      ]
     },
     "execution_count": 55,
     "metadata": {},
     "output_type": "execute_result"
    }
   ],
   "source": [
    "threetening_comment_balanced = pd.concat([threat_comment_df_1, threat_comment_df_0])\n",
    "threat_comment_df_1.shape,  threat_comment_df_1.shape, threetening_comment_balanced.shape"
   ]
  },
  {
   "cell_type": "code",
   "execution_count": null,
   "id": "2c5a6221",
   "metadata": {
    "papermill": {
     "duration": 0.040225,
     "end_time": "2024-05-15T05:20:58.826454",
     "exception": false,
     "start_time": "2024-05-15T05:20:58.786229",
     "status": "completed"
    },
    "tags": []
   },
   "outputs": [],
   "source": []
  },
  {
   "cell_type": "code",
   "execution_count": 56,
   "id": "422f29e2",
   "metadata": {
    "execution": {
     "iopub.execute_input": "2024-05-15T05:20:58.910632Z",
     "iopub.status.busy": "2024-05-15T05:20:58.909903Z",
     "iopub.status.idle": "2024-05-15T05:20:58.914167Z",
     "shell.execute_reply": "2024-05-15T05:20:58.913134Z"
    },
    "papermill": {
     "duration": 0.048788,
     "end_time": "2024-05-15T05:20:58.916506",
     "exception": false,
     "start_time": "2024-05-15T05:20:58.867718",
     "status": "completed"
    },
    "tags": []
   },
   "outputs": [],
   "source": [
    "# Repeating the same for identity hate comment"
   ]
  },
  {
   "cell_type": "code",
   "execution_count": 57,
   "id": "5e2b346c",
   "metadata": {
    "execution": {
     "iopub.execute_input": "2024-05-15T05:20:58.999794Z",
     "iopub.status.busy": "2024-05-15T05:20:58.999369Z",
     "iopub.status.idle": "2024-05-15T05:20:59.015569Z",
     "shell.execute_reply": "2024-05-15T05:20:59.014445Z"
    },
    "papermill": {
     "duration": 0.060586,
     "end_time": "2024-05-15T05:20:59.017847",
     "exception": false,
     "start_time": "2024-05-15T05:20:58.957261",
     "status": "completed"
    },
    "tags": []
   },
   "outputs": [
    {
     "data": {
      "text/html": [
       "<div>\n",
       "<style scoped>\n",
       "    .dataframe tbody tr th:only-of-type {\n",
       "        vertical-align: middle;\n",
       "    }\n",
       "\n",
       "    .dataframe tbody tr th {\n",
       "        vertical-align: top;\n",
       "    }\n",
       "\n",
       "    .dataframe thead th {\n",
       "        text-align: right;\n",
       "    }\n",
       "</style>\n",
       "<table border=\"1\" class=\"dataframe\">\n",
       "  <thead>\n",
       "    <tr style=\"text-align: right;\">\n",
       "      <th></th>\n",
       "      <th>id</th>\n",
       "      <th>comment_text</th>\n",
       "      <th>identity_hate</th>\n",
       "    </tr>\n",
       "  </thead>\n",
       "  <tbody>\n",
       "    <tr>\n",
       "      <th>127644</th>\n",
       "      <td>aab97c4af3156525</td>\n",
       "      <td>\"Revisiting neutrality on the Clinton entry==\\...</td>\n",
       "      <td>0</td>\n",
       "    </tr>\n",
       "    <tr>\n",
       "      <th>126503</th>\n",
       "      <td>a49ed30c7ef24b4d</td>\n",
       "      <td>\"\\n\\nProposed change to second par\\n\"\"colonial...</td>\n",
       "      <td>0</td>\n",
       "    </tr>\n",
       "  </tbody>\n",
       "</table>\n",
       "</div>"
      ],
      "text/plain": [
       "                      id                                       comment_text  \\\n",
       "127644  aab97c4af3156525  \"Revisiting neutrality on the Clinton entry==\\...   \n",
       "126503  a49ed30c7ef24b4d  \"\\n\\nProposed change to second par\\n\"\"colonial...   \n",
       "\n",
       "        identity_hate  \n",
       "127644              0  \n",
       "126503              0  "
      ]
     },
     "execution_count": 57,
     "metadata": {},
     "output_type": "execute_result"
    }
   ],
   "source": [
    "identityhate_comment_df.sample(2)"
   ]
  },
  {
   "cell_type": "code",
   "execution_count": 58,
   "id": "5e84f75e",
   "metadata": {
    "execution": {
     "iopub.execute_input": "2024-05-15T05:20:59.104005Z",
     "iopub.status.busy": "2024-05-15T05:20:59.103368Z",
     "iopub.status.idle": "2024-05-15T05:20:59.113466Z",
     "shell.execute_reply": "2024-05-15T05:20:59.112253Z"
    },
    "papermill": {
     "duration": 0.05578,
     "end_time": "2024-05-15T05:20:59.115843",
     "exception": false,
     "start_time": "2024-05-15T05:20:59.060063",
     "status": "completed"
    },
    "tags": []
   },
   "outputs": [
    {
     "data": {
      "text/plain": [
       "identity_hate\n",
       "0    158166\n",
       "1      1405\n",
       "Name: count, dtype: int64"
      ]
     },
     "execution_count": 58,
     "metadata": {},
     "output_type": "execute_result"
    }
   ],
   "source": [
    "identityhate_comment_df['identity_hate'].value_counts()\n",
    "# There inbalance data"
   ]
  },
  {
   "cell_type": "code",
   "execution_count": 59,
   "id": "eaa02f50",
   "metadata": {
    "execution": {
     "iopub.execute_input": "2024-05-15T05:20:59.199478Z",
     "iopub.status.busy": "2024-05-15T05:20:59.199042Z",
     "iopub.status.idle": "2024-05-15T05:20:59.205498Z",
     "shell.execute_reply": "2024-05-15T05:20:59.204580Z"
    },
    "papermill": {
     "duration": 0.051255,
     "end_time": "2024-05-15T05:20:59.207680",
     "exception": false,
     "start_time": "2024-05-15T05:20:59.156425",
     "status": "completed"
    },
    "tags": []
   },
   "outputs": [],
   "source": [
    "identityhate_comment_df_1 = identityhate_comment_df[identityhate_comment_df['identity_hate'] == 1].iloc[0:1405, :]"
   ]
  },
  {
   "cell_type": "code",
   "execution_count": 60,
   "id": "2ce0fe87",
   "metadata": {
    "execution": {
     "iopub.execute_input": "2024-05-15T05:20:59.292270Z",
     "iopub.status.busy": "2024-05-15T05:20:59.291521Z",
     "iopub.status.idle": "2024-05-15T05:20:59.306815Z",
     "shell.execute_reply": "2024-05-15T05:20:59.305585Z"
    },
    "papermill": {
     "duration": 0.060777,
     "end_time": "2024-05-15T05:20:59.309794",
     "exception": false,
     "start_time": "2024-05-15T05:20:59.249017",
     "status": "completed"
    },
    "tags": []
   },
   "outputs": [],
   "source": [
    "identityhate_comment_df_0 = identityhate_comment_df[identityhate_comment_df['identity_hate'] == 0].iloc[0:1405, :]"
   ]
  },
  {
   "cell_type": "code",
   "execution_count": 61,
   "id": "96995438",
   "metadata": {
    "execution": {
     "iopub.execute_input": "2024-05-15T05:20:59.394570Z",
     "iopub.status.busy": "2024-05-15T05:20:59.394106Z",
     "iopub.status.idle": "2024-05-15T05:20:59.402122Z",
     "shell.execute_reply": "2024-05-15T05:20:59.401291Z"
    },
    "papermill": {
     "duration": 0.052796,
     "end_time": "2024-05-15T05:20:59.404484",
     "exception": false,
     "start_time": "2024-05-15T05:20:59.351688",
     "status": "completed"
    },
    "tags": []
   },
   "outputs": [
    {
     "data": {
      "text/plain": [
       "((1405, 3), (1405, 3), (2810, 3))"
      ]
     },
     "execution_count": 61,
     "metadata": {},
     "output_type": "execute_result"
    }
   ],
   "source": [
    "identityhate_comment_balanced = pd.concat([identityhate_comment_df_1, identityhate_comment_df_0])\n",
    "identityhate_comment_df_1.shape, identityhate_comment_df_0.shape, identityhate_comment_balanced.shape"
   ]
  },
  {
   "cell_type": "code",
   "execution_count": 62,
   "id": "fc1420dc",
   "metadata": {
    "execution": {
     "iopub.execute_input": "2024-05-15T05:20:59.489874Z",
     "iopub.status.busy": "2024-05-15T05:20:59.489191Z",
     "iopub.status.idle": "2024-05-15T05:20:59.493026Z",
     "shell.execute_reply": "2024-05-15T05:20:59.492279Z"
    },
    "papermill": {
     "duration": 0.050275,
     "end_time": "2024-05-15T05:20:59.495509",
     "exception": false,
     "start_time": "2024-05-15T05:20:59.445234",
     "status": "completed"
    },
    "tags": []
   },
   "outputs": [],
   "source": [
    "# Repeating the same for insult hate comment"
   ]
  },
  {
   "cell_type": "code",
   "execution_count": 63,
   "id": "d8c263b8",
   "metadata": {
    "execution": {
     "iopub.execute_input": "2024-05-15T05:20:59.580481Z",
     "iopub.status.busy": "2024-05-15T05:20:59.579090Z",
     "iopub.status.idle": "2024-05-15T05:20:59.589781Z",
     "shell.execute_reply": "2024-05-15T05:20:59.588579Z"
    },
    "papermill": {
     "duration": 0.056114,
     "end_time": "2024-05-15T05:20:59.592354",
     "exception": false,
     "start_time": "2024-05-15T05:20:59.536240",
     "status": "completed"
    },
    "tags": []
   },
   "outputs": [
    {
     "data": {
      "text/plain": [
       "insult\n",
       "0    151694\n",
       "1      7877\n",
       "Name: count, dtype: int64"
      ]
     },
     "execution_count": 63,
     "metadata": {},
     "output_type": "execute_result"
    }
   ],
   "source": [
    "insulting_comment_df['insult'].value_counts()"
   ]
  },
  {
   "cell_type": "code",
   "execution_count": 64,
   "id": "0ba52d1d",
   "metadata": {
    "execution": {
     "iopub.execute_input": "2024-05-15T05:20:59.675920Z",
     "iopub.status.busy": "2024-05-15T05:20:59.675497Z",
     "iopub.status.idle": "2024-05-15T05:20:59.683877Z",
     "shell.execute_reply": "2024-05-15T05:20:59.682699Z"
    },
    "papermill": {
     "duration": 0.053052,
     "end_time": "2024-05-15T05:20:59.686298",
     "exception": false,
     "start_time": "2024-05-15T05:20:59.633246",
     "status": "completed"
    },
    "tags": []
   },
   "outputs": [],
   "source": [
    "insulting_comment_df_1 = insulting_comment_df[insulting_comment_df['insult'] == 1].iloc[0:7877, :]"
   ]
  },
  {
   "cell_type": "code",
   "execution_count": 65,
   "id": "28148859",
   "metadata": {
    "execution": {
     "iopub.execute_input": "2024-05-15T05:20:59.770313Z",
     "iopub.status.busy": "2024-05-15T05:20:59.769216Z",
     "iopub.status.idle": "2024-05-15T05:20:59.785615Z",
     "shell.execute_reply": "2024-05-15T05:20:59.784736Z"
    },
    "papermill": {
     "duration": 0.060778,
     "end_time": "2024-05-15T05:20:59.788048",
     "exception": false,
     "start_time": "2024-05-15T05:20:59.727270",
     "status": "completed"
    },
    "tags": []
   },
   "outputs": [],
   "source": [
    "insulting_comment_df_0 = insulting_comment_df[insulting_comment_df['insult'] == 0].iloc[0:7877, :]"
   ]
  },
  {
   "cell_type": "code",
   "execution_count": 66,
   "id": "cde61bab",
   "metadata": {
    "execution": {
     "iopub.execute_input": "2024-05-15T05:20:59.872047Z",
     "iopub.status.busy": "2024-05-15T05:20:59.871395Z",
     "iopub.status.idle": "2024-05-15T05:20:59.879366Z",
     "shell.execute_reply": "2024-05-15T05:20:59.878572Z"
    },
    "papermill": {
     "duration": 0.052452,
     "end_time": "2024-05-15T05:20:59.881455",
     "exception": false,
     "start_time": "2024-05-15T05:20:59.829003",
     "status": "completed"
    },
    "tags": []
   },
   "outputs": [
    {
     "data": {
      "text/plain": [
       "((7877, 3), (7877, 3), (15754, 3))"
      ]
     },
     "execution_count": 66,
     "metadata": {},
     "output_type": "execute_result"
    }
   ],
   "source": [
    "insulting_comment_balanced = pd.concat([insulting_comment_df_1, insulting_comment_df_0])\n",
    "insulting_comment_df_1.shape, insulting_comment_df_0.shape, insulting_comment_balanced.shape"
   ]
  },
  {
   "cell_type": "code",
   "execution_count": null,
   "id": "80815f44",
   "metadata": {
    "papermill": {
     "duration": 0.041052,
     "end_time": "2024-05-15T05:20:59.964077",
     "exception": false,
     "start_time": "2024-05-15T05:20:59.923025",
     "status": "completed"
    },
    "tags": []
   },
   "outputs": [],
   "source": []
  },
  {
   "cell_type": "code",
   "execution_count": null,
   "id": "f3c575f7",
   "metadata": {
    "papermill": {
     "duration": 0.041926,
     "end_time": "2024-05-15T05:21:00.047349",
     "exception": false,
     "start_time": "2024-05-15T05:21:00.005423",
     "status": "completed"
    },
    "tags": []
   },
   "outputs": [],
   "source": []
  },
  {
   "cell_type": "code",
   "execution_count": 67,
   "id": "ba348014",
   "metadata": {
    "execution": {
     "iopub.execute_input": "2024-05-15T05:21:00.132289Z",
     "iopub.status.busy": "2024-05-15T05:21:00.131540Z",
     "iopub.status.idle": "2024-05-15T05:21:00.136393Z",
     "shell.execute_reply": "2024-05-15T05:21:00.135536Z"
    },
    "papermill": {
     "duration": 0.050051,
     "end_time": "2024-05-15T05:21:00.138980",
     "exception": false,
     "start_time": "2024-05-15T05:21:00.088929",
     "status": "completed"
    },
    "tags": []
   },
   "outputs": [],
   "source": [
    "# Machine Learning"
   ]
  },
  {
   "cell_type": "code",
   "execution_count": 68,
   "id": "768fe732",
   "metadata": {
    "execution": {
     "iopub.execute_input": "2024-05-15T05:21:00.223543Z",
     "iopub.status.busy": "2024-05-15T05:21:00.223115Z",
     "iopub.status.idle": "2024-05-15T05:21:00.407984Z",
     "shell.execute_reply": "2024-05-15T05:21:00.406846Z"
    },
    "papermill": {
     "duration": 0.230494,
     "end_time": "2024-05-15T05:21:00.410722",
     "exception": false,
     "start_time": "2024-05-15T05:21:00.180228",
     "status": "completed"
    },
    "tags": []
   },
   "outputs": [],
   "source": [
    "from sklearn import preprocessing\n",
    "from sklearn.feature_selection import SelectFromModel\n",
    "\n",
    "from sklearn.model_selection import train_test_split, KFold, cross_val_score\n",
    "from sklearn.metrics import f1_score, precision_score, recall_score, precision_recall_curve, fbeta_score, confusion_matrix\n",
    "from sklearn.metrics import roc_auc_score, roc_curve\n",
    "\n",
    "from sklearn.linear_model import LogisticRegression\n",
    "from sklearn.neighbors import KNeighborsClassifier\n",
    "from sklearn.naive_bayes import MultinomialNB, BernoulliNB\n",
    "from sklearn.svm import LinearSVC\n",
    "from sklearn.ensemble import RandomForestClassifier\n",
    "\n",
    "from sklearn.feature_extraction.text import CountVectorizer, TfidfVectorizer\n",
    "from nltk import ngrams, bigrams, trigrams"
   ]
  },
  {
   "cell_type": "code",
   "execution_count": 69,
   "id": "d0e630be",
   "metadata": {
    "execution": {
     "iopub.execute_input": "2024-05-15T05:21:00.496847Z",
     "iopub.status.busy": "2024-05-15T05:21:00.496432Z",
     "iopub.status.idle": "2024-05-15T05:21:00.509637Z",
     "shell.execute_reply": "2024-05-15T05:21:00.508454Z"
    },
    "papermill": {
     "duration": 0.060302,
     "end_time": "2024-05-15T05:21:00.511939",
     "exception": false,
     "start_time": "2024-05-15T05:21:00.451637",
     "status": "completed"
    },
    "tags": []
   },
   "outputs": [],
   "source": [
    "def cv_tf_train_test(dataframe, label, vectorizer, ngram):\n",
    "    # split the data into X and y datasets\n",
    "    X = dataframe.comment_text\n",
    "    y = dataframe[label]\n",
    "    \n",
    "    # Split our data into training and test data\n",
    "    X_train, X_test, y_train, y_test = train_test_split(X, y, test_size = 0.3, random_state=50)\n",
    "    \n",
    "    # Using vectorize and removing stopwords\n",
    "    cv1 = vectorizer(ngram_range=(ngram), stop_words='english')\n",
    "    \n",
    "    # transforming x-traian and x-test\n",
    "    X_train_cv1 = cv1.fit_transform(X_train)\n",
    "    X_test_cv1 = cv1.transform(X_test)\n",
    "    \n",
    "    # Machine learning models\n",
    "    \n",
    "    ## Logistic regression\n",
    "    lr = LogisticRegression()\n",
    "    lr.fit(X_train_cv1, y_train)\n",
    "    \n",
    "    ## K-nearest neightbours\n",
    "    knn = KNeighborsClassifier(n_neighbors=5)\n",
    "    knn.fit(X_train_cv1, y_train)\n",
    "    \n",
    "    ## Naive Bayes\n",
    "    bnb = BernoulliNB()\n",
    "    bnb.fit(X_train_cv1, y_train)\n",
    "    \n",
    "    ## Multinomial Naice bayes\n",
    "    mnb = MultinomialNB()\n",
    "    mnb.fit(X_train_cv1, y_train)\n",
    "    \n",
    "    # Support vector machine\n",
    "    svm_model = LinearSVC()\n",
    "    svm_model.fit(X_train_cv1, y_train)\n",
    "    \n",
    "    # Random Forest\n",
    "    randomforest = RandomForestClassifier(n_estimators=100, random_state=50)\n",
    "    randomforest.fit(X_train_cv1, y_train)\n",
    "    \n",
    "    f1_score_data = {'F1 score': [f1_score(lr.predict(X_test_cv1), y_test), f1_score(knn.predict(X_test_cv1), y_test),\n",
    "                                 f1_score(bnb.predict(X_test_cv1), y_test), f1_score(mnb.predict(X_test_cv1), y_test),\n",
    "                                 f1_score(svm_model.predict(X_test_cv1), y_test), f1_score(randomforest.predict(X_test_cv1), y_test)]}\n",
    "    \n",
    "    # Saving f1 score results into a dataframe\n",
    "    df_f1 = pd.DataFrame(f1_score_data, index=['Log Regression', 'KNN','BernoulliNB','MultinomialNB','SVM', 'Random Forest'])\n",
    "    \n",
    "    return df_f1"
   ]
  },
  {
   "cell_type": "code",
   "execution_count": 70,
   "id": "207b3e72",
   "metadata": {
    "execution": {
     "iopub.execute_input": "2024-05-15T05:21:00.596429Z",
     "iopub.status.busy": "2024-05-15T05:21:00.595999Z",
     "iopub.status.idle": "2024-05-15T05:21:00.600838Z",
     "shell.execute_reply": "2024-05-15T05:21:00.599767Z"
    },
    "papermill": {
     "duration": 0.050172,
     "end_time": "2024-05-15T05:21:00.603125",
     "exception": false,
     "start_time": "2024-05-15T05:21:00.552953",
     "status": "completed"
    },
    "tags": []
   },
   "outputs": [],
   "source": [
    "# Evaluating model performance using evaluation metrics"
   ]
  },
  {
   "cell_type": "code",
   "execution_count": 71,
   "id": "3d442760",
   "metadata": {
    "execution": {
     "iopub.execute_input": "2024-05-15T05:21:00.687917Z",
     "iopub.status.busy": "2024-05-15T05:21:00.687508Z",
     "iopub.status.idle": "2024-05-15T05:21:04.037786Z",
     "shell.execute_reply": "2024-05-15T05:21:04.036737Z"
    },
    "papermill": {
     "duration": 3.396148,
     "end_time": "2024-05-15T05:21:04.041082",
     "exception": false,
     "start_time": "2024-05-15T05:21:00.644934",
     "status": "completed"
    },
    "tags": []
   },
   "outputs": [],
   "source": [
    "severe_toxic_comment_cv = cv_tf_train_test(severe_comment_balanced, 'severe_toxic', TfidfVectorizer, (1,1))"
   ]
  },
  {
   "cell_type": "code",
   "execution_count": 72,
   "id": "cfeae5f7",
   "metadata": {
    "execution": {
     "iopub.execute_input": "2024-05-15T05:21:04.127457Z",
     "iopub.status.busy": "2024-05-15T05:21:04.126793Z",
     "iopub.status.idle": "2024-05-15T05:21:04.137477Z",
     "shell.execute_reply": "2024-05-15T05:21:04.136274Z"
    },
    "papermill": {
     "duration": 0.056505,
     "end_time": "2024-05-15T05:21:04.139953",
     "exception": false,
     "start_time": "2024-05-15T05:21:04.083448",
     "status": "completed"
    },
    "tags": []
   },
   "outputs": [
    {
     "data": {
      "text/html": [
       "<div>\n",
       "<style scoped>\n",
       "    .dataframe tbody tr th:only-of-type {\n",
       "        vertical-align: middle;\n",
       "    }\n",
       "\n",
       "    .dataframe tbody tr th {\n",
       "        vertical-align: top;\n",
       "    }\n",
       "\n",
       "    .dataframe thead th {\n",
       "        text-align: right;\n",
       "    }\n",
       "</style>\n",
       "<table border=\"1\" class=\"dataframe\">\n",
       "  <thead>\n",
       "    <tr style=\"text-align: right;\">\n",
       "      <th></th>\n",
       "      <th>F1 score</th>\n",
       "    </tr>\n",
       "  </thead>\n",
       "  <tbody>\n",
       "    <tr>\n",
       "      <th>Log Regression</th>\n",
       "      <td>0.946004</td>\n",
       "    </tr>\n",
       "    <tr>\n",
       "      <th>KNN</th>\n",
       "      <td>0.861836</td>\n",
       "    </tr>\n",
       "    <tr>\n",
       "      <th>BernoulliNB</th>\n",
       "      <td>0.789700</td>\n",
       "    </tr>\n",
       "    <tr>\n",
       "      <th>MultinomialNB</th>\n",
       "      <td>0.930041</td>\n",
       "    </tr>\n",
       "    <tr>\n",
       "      <th>SVM</th>\n",
       "      <td>0.936763</td>\n",
       "    </tr>\n",
       "    <tr>\n",
       "      <th>Random Forest</th>\n",
       "      <td>0.923237</td>\n",
       "    </tr>\n",
       "  </tbody>\n",
       "</table>\n",
       "</div>"
      ],
      "text/plain": [
       "                F1 score\n",
       "Log Regression  0.946004\n",
       "KNN             0.861836\n",
       "BernoulliNB     0.789700\n",
       "MultinomialNB   0.930041\n",
       "SVM             0.936763\n",
       "Random Forest   0.923237"
      ]
     },
     "execution_count": 72,
     "metadata": {},
     "output_type": "execute_result"
    }
   ],
   "source": [
    "severe_toxic_comment_cv\n",
    "# LogRegression is the best estimator for severee toxic"
   ]
  },
  {
   "cell_type": "code",
   "execution_count": 73,
   "id": "b99cb8af",
   "metadata": {
    "execution": {
     "iopub.execute_input": "2024-05-15T05:21:04.224046Z",
     "iopub.status.busy": "2024-05-15T05:21:04.223641Z",
     "iopub.status.idle": "2024-05-15T05:21:44.394334Z",
     "shell.execute_reply": "2024-05-15T05:21:44.393233Z"
    },
    "papermill": {
     "duration": 40.25767,
     "end_time": "2024-05-15T05:21:44.438764",
     "exception": false,
     "start_time": "2024-05-15T05:21:04.181094",
     "status": "completed"
    },
    "tags": []
   },
   "outputs": [
    {
     "data": {
      "text/html": [
       "<div>\n",
       "<style scoped>\n",
       "    .dataframe tbody tr th:only-of-type {\n",
       "        vertical-align: middle;\n",
       "    }\n",
       "\n",
       "    .dataframe tbody tr th {\n",
       "        vertical-align: top;\n",
       "    }\n",
       "\n",
       "    .dataframe thead th {\n",
       "        text-align: right;\n",
       "    }\n",
       "</style>\n",
       "<table border=\"1\" class=\"dataframe\">\n",
       "  <thead>\n",
       "    <tr style=\"text-align: right;\">\n",
       "      <th></th>\n",
       "      <th>F1 score (Obscene)</th>\n",
       "    </tr>\n",
       "  </thead>\n",
       "  <tbody>\n",
       "    <tr>\n",
       "      <th>Log Regression</th>\n",
       "      <td>0.916327</td>\n",
       "    </tr>\n",
       "    <tr>\n",
       "      <th>KNN</th>\n",
       "      <td>0.751443</td>\n",
       "    </tr>\n",
       "    <tr>\n",
       "      <th>BernoulliNB</th>\n",
       "      <td>0.786767</td>\n",
       "    </tr>\n",
       "    <tr>\n",
       "      <th>MultinomialNB</th>\n",
       "      <td>0.898175</td>\n",
       "    </tr>\n",
       "    <tr>\n",
       "      <th>SVM</th>\n",
       "      <td>0.930924</td>\n",
       "    </tr>\n",
       "    <tr>\n",
       "      <th>Random Forest</th>\n",
       "      <td>0.908311</td>\n",
       "    </tr>\n",
       "  </tbody>\n",
       "</table>\n",
       "</div>"
      ],
      "text/plain": [
       "                F1 score (Obscene)\n",
       "Log Regression            0.916327\n",
       "KNN                       0.751443\n",
       "BernoulliNB               0.786767\n",
       "MultinomialNB             0.898175\n",
       "SVM                       0.930924\n",
       "Random Forest             0.908311"
      ]
     },
     "execution_count": 73,
     "metadata": {},
     "output_type": "execute_result"
    }
   ],
   "source": [
    "obscene_toxic_comment_cv = cv_tf_train_test(obscene_comment_balanced, 'obscene', TfidfVectorizer, (1,1))\n",
    "obscene_toxic_comment_cv.rename(columns={'F1 score':'F1 score (Obscene)'}, inplace=True) # Change column name\n",
    "obscene_toxic_comment_cv\n",
    "# LogRegression is the best estimator for obscene toxic"
   ]
  },
  {
   "cell_type": "code",
   "execution_count": 74,
   "id": "4975f315",
   "metadata": {
    "execution": {
     "iopub.execute_input": "2024-05-15T05:21:44.523915Z",
     "iopub.status.busy": "2024-05-15T05:21:44.523524Z",
     "iopub.status.idle": "2024-05-15T05:21:45.349208Z",
     "shell.execute_reply": "2024-05-15T05:21:45.347982Z"
    },
    "papermill": {
     "duration": 0.87149,
     "end_time": "2024-05-15T05:21:45.351947",
     "exception": false,
     "start_time": "2024-05-15T05:21:44.480457",
     "status": "completed"
    },
    "tags": []
   },
   "outputs": [
    {
     "data": {
      "text/html": [
       "<div>\n",
       "<style scoped>\n",
       "    .dataframe tbody tr th:only-of-type {\n",
       "        vertical-align: middle;\n",
       "    }\n",
       "\n",
       "    .dataframe tbody tr th {\n",
       "        vertical-align: top;\n",
       "    }\n",
       "\n",
       "    .dataframe thead th {\n",
       "        text-align: right;\n",
       "    }\n",
       "</style>\n",
       "<table border=\"1\" class=\"dataframe\">\n",
       "  <thead>\n",
       "    <tr style=\"text-align: right;\">\n",
       "      <th></th>\n",
       "      <th>F1 score (threat)</th>\n",
       "    </tr>\n",
       "  </thead>\n",
       "  <tbody>\n",
       "    <tr>\n",
       "      <th>Log Regression</th>\n",
       "      <td>0.905660</td>\n",
       "    </tr>\n",
       "    <tr>\n",
       "      <th>KNN</th>\n",
       "      <td>0.865574</td>\n",
       "    </tr>\n",
       "    <tr>\n",
       "      <th>BernoulliNB</th>\n",
       "      <td>0.751381</td>\n",
       "    </tr>\n",
       "    <tr>\n",
       "      <th>MultinomialNB</th>\n",
       "      <td>0.912281</td>\n",
       "    </tr>\n",
       "    <tr>\n",
       "      <th>SVM</th>\n",
       "      <td>0.898876</td>\n",
       "    </tr>\n",
       "    <tr>\n",
       "      <th>Random Forest</th>\n",
       "      <td>0.904594</td>\n",
       "    </tr>\n",
       "  </tbody>\n",
       "</table>\n",
       "</div>"
      ],
      "text/plain": [
       "                F1 score (threat)\n",
       "Log Regression           0.905660\n",
       "KNN                      0.865574\n",
       "BernoulliNB              0.751381\n",
       "MultinomialNB            0.912281\n",
       "SVM                      0.898876\n",
       "Random Forest            0.904594"
      ]
     },
     "execution_count": 74,
     "metadata": {},
     "output_type": "execute_result"
    }
   ],
   "source": [
    "threetening_toxic_comment_cv = cv_tf_train_test(threetening_comment_balanced, 'threat', TfidfVectorizer, (1,1))\n",
    "threetening_toxic_comment_cv.rename(columns={'F1 score':'F1 score (threat)'}, inplace=True) # Change column name\n",
    "threetening_toxic_comment_cv\n",
    "# MultinomialNB is the best estimator for threeetening comment"
   ]
  },
  {
   "cell_type": "code",
   "execution_count": 75,
   "id": "0c614800",
   "metadata": {
    "execution": {
     "iopub.execute_input": "2024-05-15T05:21:45.437651Z",
     "iopub.status.busy": "2024-05-15T05:21:45.437247Z",
     "iopub.status.idle": "2024-05-15T05:22:24.226422Z",
     "shell.execute_reply": "2024-05-15T05:22:24.225237Z"
    },
    "papermill": {
     "duration": 38.877002,
     "end_time": "2024-05-15T05:22:24.270875",
     "exception": false,
     "start_time": "2024-05-15T05:21:45.393873",
     "status": "completed"
    },
    "tags": []
   },
   "outputs": [
    {
     "data": {
      "text/html": [
       "<div>\n",
       "<style scoped>\n",
       "    .dataframe tbody tr th:only-of-type {\n",
       "        vertical-align: middle;\n",
       "    }\n",
       "\n",
       "    .dataframe tbody tr th {\n",
       "        vertical-align: top;\n",
       "    }\n",
       "\n",
       "    .dataframe thead th {\n",
       "        text-align: right;\n",
       "    }\n",
       "</style>\n",
       "<table border=\"1\" class=\"dataframe\">\n",
       "  <thead>\n",
       "    <tr style=\"text-align: right;\">\n",
       "      <th></th>\n",
       "      <th>F1 score (insult)</th>\n",
       "    </tr>\n",
       "  </thead>\n",
       "  <tbody>\n",
       "    <tr>\n",
       "      <th>Log Regression</th>\n",
       "      <td>0.905841</td>\n",
       "    </tr>\n",
       "    <tr>\n",
       "      <th>KNN</th>\n",
       "      <td>0.414705</td>\n",
       "    </tr>\n",
       "    <tr>\n",
       "      <th>BernoulliNB</th>\n",
       "      <td>0.790218</td>\n",
       "    </tr>\n",
       "    <tr>\n",
       "      <th>MultinomialNB</th>\n",
       "      <td>0.899832</td>\n",
       "    </tr>\n",
       "    <tr>\n",
       "      <th>SVM</th>\n",
       "      <td>0.908157</td>\n",
       "    </tr>\n",
       "    <tr>\n",
       "      <th>Random Forest</th>\n",
       "      <td>0.890742</td>\n",
       "    </tr>\n",
       "  </tbody>\n",
       "</table>\n",
       "</div>"
      ],
      "text/plain": [
       "                F1 score (insult)\n",
       "Log Regression           0.905841\n",
       "KNN                      0.414705\n",
       "BernoulliNB              0.790218\n",
       "MultinomialNB            0.899832\n",
       "SVM                      0.908157\n",
       "Random Forest            0.890742"
      ]
     },
     "execution_count": 75,
     "metadata": {},
     "output_type": "execute_result"
    }
   ],
   "source": [
    "insulting_toxic_comment_cv = cv_tf_train_test(insulting_comment_balanced, 'insult', TfidfVectorizer, (1,1))\n",
    "insulting_toxic_comment_cv.rename(columns={'F1 score':'F1 score (insult)'}, inplace=True) # Change column name\n",
    "insulting_toxic_comment_cv\n",
    "# SVM is the best estimator for insulting comment "
   ]
  },
  {
   "cell_type": "code",
   "execution_count": 76,
   "id": "9ce68cbd",
   "metadata": {
    "execution": {
     "iopub.execute_input": "2024-05-15T05:22:24.356799Z",
     "iopub.status.busy": "2024-05-15T05:22:24.356401Z",
     "iopub.status.idle": "2024-05-15T05:22:27.293284Z",
     "shell.execute_reply": "2024-05-15T05:22:27.292104Z"
    },
    "papermill": {
     "duration": 2.983148,
     "end_time": "2024-05-15T05:22:27.295971",
     "exception": false,
     "start_time": "2024-05-15T05:22:24.312823",
     "status": "completed"
    },
    "tags": []
   },
   "outputs": [
    {
     "data": {
      "text/html": [
       "<div>\n",
       "<style scoped>\n",
       "    .dataframe tbody tr th:only-of-type {\n",
       "        vertical-align: middle;\n",
       "    }\n",
       "\n",
       "    .dataframe tbody tr th {\n",
       "        vertical-align: top;\n",
       "    }\n",
       "\n",
       "    .dataframe thead th {\n",
       "        text-align: right;\n",
       "    }\n",
       "</style>\n",
       "<table border=\"1\" class=\"dataframe\">\n",
       "  <thead>\n",
       "    <tr style=\"text-align: right;\">\n",
       "      <th></th>\n",
       "      <th>F1 score (identity_hate)</th>\n",
       "    </tr>\n",
       "  </thead>\n",
       "  <tbody>\n",
       "    <tr>\n",
       "      <th>Log Regression</th>\n",
       "      <td>0.907063</td>\n",
       "    </tr>\n",
       "    <tr>\n",
       "      <th>KNN</th>\n",
       "      <td>0.825766</td>\n",
       "    </tr>\n",
       "    <tr>\n",
       "      <th>BernoulliNB</th>\n",
       "      <td>0.774879</td>\n",
       "    </tr>\n",
       "    <tr>\n",
       "      <th>MultinomialNB</th>\n",
       "      <td>0.902238</td>\n",
       "    </tr>\n",
       "    <tr>\n",
       "      <th>SVM</th>\n",
       "      <td>0.900857</td>\n",
       "    </tr>\n",
       "    <tr>\n",
       "      <th>Random Forest</th>\n",
       "      <td>0.865604</td>\n",
       "    </tr>\n",
       "  </tbody>\n",
       "</table>\n",
       "</div>"
      ],
      "text/plain": [
       "                F1 score (identity_hate)\n",
       "Log Regression                  0.907063\n",
       "KNN                             0.825766\n",
       "BernoulliNB                     0.774879\n",
       "MultinomialNB                   0.902238\n",
       "SVM                             0.900857\n",
       "Random Forest                   0.865604"
      ]
     },
     "execution_count": 76,
     "metadata": {},
     "output_type": "execute_result"
    }
   ],
   "source": [
    "identityhate_toxic_comment_cv = cv_tf_train_test(identityhate_comment_balanced, 'identity_hate', TfidfVectorizer, (1,1))\n",
    "identityhate_toxic_comment_cv.rename(columns={'F1 score':'F1 score (identity_hate)'}, inplace=True) # Change column name\n",
    "identityhate_toxic_comment_cv\n",
    "# LogRegression is the best estimator for identity hate "
   ]
  },
  {
   "cell_type": "code",
   "execution_count": 77,
   "id": "d7ab69d6",
   "metadata": {
    "execution": {
     "iopub.execute_input": "2024-05-15T05:22:27.383682Z",
     "iopub.status.busy": "2024-05-15T05:22:27.382970Z",
     "iopub.status.idle": "2024-05-15T05:22:27.395846Z",
     "shell.execute_reply": "2024-05-15T05:22:27.394522Z"
    },
    "papermill": {
     "duration": 0.059458,
     "end_time": "2024-05-15T05:22:27.398241",
     "exception": false,
     "start_time": "2024-05-15T05:22:27.338783",
     "status": "completed"
    },
    "tags": []
   },
   "outputs": [
    {
     "data": {
      "text/html": [
       "<div>\n",
       "<style scoped>\n",
       "    .dataframe tbody tr th:only-of-type {\n",
       "        vertical-align: middle;\n",
       "    }\n",
       "\n",
       "    .dataframe tbody tr th {\n",
       "        vertical-align: top;\n",
       "    }\n",
       "\n",
       "    .dataframe thead th {\n",
       "        text-align: right;\n",
       "    }\n",
       "</style>\n",
       "<table border=\"1\" class=\"dataframe\">\n",
       "  <thead>\n",
       "    <tr style=\"text-align: right;\">\n",
       "      <th></th>\n",
       "      <th>id</th>\n",
       "      <th>comment_text</th>\n",
       "      <th>toxic</th>\n",
       "    </tr>\n",
       "  </thead>\n",
       "  <tbody>\n",
       "    <tr>\n",
       "      <th>6</th>\n",
       "      <td>0002bcb3da6cb337</td>\n",
       "      <td>COCKSUCKER BEFORE YOU PISS AROUND ON MY WORK</td>\n",
       "      <td>1</td>\n",
       "    </tr>\n",
       "    <tr>\n",
       "      <th>12</th>\n",
       "      <td>0005c987bdfc9d4b</td>\n",
       "      <td>Hey... what is it..\\n@ | talk .\\nWhat is it......</td>\n",
       "      <td>1</td>\n",
       "    </tr>\n",
       "    <tr>\n",
       "      <th>16</th>\n",
       "      <td>0007e25b2121310b</td>\n",
       "      <td>Bye! \\n\\nDon't look, come or think of comming ...</td>\n",
       "      <td>1</td>\n",
       "    </tr>\n",
       "    <tr>\n",
       "      <th>42</th>\n",
       "      <td>001810bf8c45bf5f</td>\n",
       "      <td>You are gay or antisemmitian? \\n\\nArchangel WH...</td>\n",
       "      <td>1</td>\n",
       "    </tr>\n",
       "    <tr>\n",
       "      <th>43</th>\n",
       "      <td>00190820581d90ce</td>\n",
       "      <td>FUCK YOUR FILTHY MOTHER IN THE ASS, DRY!</td>\n",
       "      <td>1</td>\n",
       "    </tr>\n",
       "    <tr>\n",
       "      <th>...</th>\n",
       "      <td>...</td>\n",
       "      <td>...</td>\n",
       "      <td>...</td>\n",
       "    </tr>\n",
       "    <tr>\n",
       "      <th>5544</th>\n",
       "      <td>0ece9249484eddb9</td>\n",
       "      <td>Electronic Intifada is not an activist site! W...</td>\n",
       "      <td>0</td>\n",
       "    </tr>\n",
       "    <tr>\n",
       "      <th>5545</th>\n",
       "      <td>0ece971b58a3def7</td>\n",
       "      <td>New Genre \\n\\nThe New genre supernatural was u...</td>\n",
       "      <td>0</td>\n",
       "    </tr>\n",
       "    <tr>\n",
       "      <th>5547</th>\n",
       "      <td>0ecf7cde3391615b</td>\n",
       "      <td>— translated as The Second Vatican Council: A ...</td>\n",
       "      <td>0</td>\n",
       "    </tr>\n",
       "    <tr>\n",
       "      <th>5549</th>\n",
       "      <td>0ed11396420e8531</td>\n",
       "      <td>Purpose\\nThis RfC will be used to determine co...</td>\n",
       "      <td>0</td>\n",
       "    </tr>\n",
       "    <tr>\n",
       "      <th>5550</th>\n",
       "      <td>0ed1f43ff87d1a97</td>\n",
       "      <td>\"\\nOne need not be a graduate to be an alumnus...</td>\n",
       "      <td>0</td>\n",
       "    </tr>\n",
       "  </tbody>\n",
       "</table>\n",
       "<p>10000 rows × 3 columns</p>\n",
       "</div>"
      ],
      "text/plain": [
       "                    id                                       comment_text  \\\n",
       "6     0002bcb3da6cb337       COCKSUCKER BEFORE YOU PISS AROUND ON MY WORK   \n",
       "12    0005c987bdfc9d4b  Hey... what is it..\\n@ | talk .\\nWhat is it......   \n",
       "16    0007e25b2121310b  Bye! \\n\\nDon't look, come or think of comming ...   \n",
       "42    001810bf8c45bf5f  You are gay or antisemmitian? \\n\\nArchangel WH...   \n",
       "43    00190820581d90ce           FUCK YOUR FILTHY MOTHER IN THE ASS, DRY!   \n",
       "...                ...                                                ...   \n",
       "5544  0ece9249484eddb9  Electronic Intifada is not an activist site! W...   \n",
       "5545  0ece971b58a3def7  New Genre \\n\\nThe New genre supernatural was u...   \n",
       "5547  0ecf7cde3391615b  — translated as The Second Vatican Council: A ...   \n",
       "5549  0ed11396420e8531  Purpose\\nThis RfC will be used to determine co...   \n",
       "5550  0ed1f43ff87d1a97  \"\\nOne need not be a graduate to be an alumnus...   \n",
       "\n",
       "      toxic  \n",
       "6         1  \n",
       "12        1  \n",
       "16        1  \n",
       "42        1  \n",
       "43        1  \n",
       "...     ...  \n",
       "5544      0  \n",
       "5545      0  \n",
       "5547      0  \n",
       "5549      0  \n",
       "5550      0  \n",
       "\n",
       "[10000 rows x 3 columns]"
      ]
     },
     "execution_count": 77,
     "metadata": {},
     "output_type": "execute_result"
    }
   ],
   "source": [
    "toxic_comment_balanced"
   ]
  },
  {
   "cell_type": "code",
   "execution_count": 78,
   "id": "76234b14",
   "metadata": {
    "execution": {
     "iopub.execute_input": "2024-05-15T05:22:27.485800Z",
     "iopub.status.busy": "2024-05-15T05:22:27.485072Z",
     "iopub.status.idle": "2024-05-15T05:22:39.764622Z",
     "shell.execute_reply": "2024-05-15T05:22:39.763822Z"
    },
    "papermill": {
     "duration": 12.326024,
     "end_time": "2024-05-15T05:22:39.766761",
     "exception": false,
     "start_time": "2024-05-15T05:22:27.440737",
     "status": "completed"
    },
    "tags": []
   },
   "outputs": [
    {
     "data": {
      "text/plain": [
       "array([0, 1, 1, ..., 1, 0, 1])"
      ]
     },
     "execution_count": 78,
     "metadata": {},
     "output_type": "execute_result"
    }
   ],
   "source": [
    "X = toxic_comment_balanced.comment_text\n",
    "y = toxic_comment_balanced['toxic']\n",
    "\n",
    "X_train, X_test, y_train, y_test = train_test_split(X, y, test_size=0.3, random_state=42)\n",
    "\n",
    "tfv = TfidfVectorizer(ngram_range=(1,1), stop_words=['english'] )\n",
    "\n",
    "X_train_fit = tfv.fit_transform(X_train)\n",
    "X_test_fit = tfv.transform(X_test)\n",
    "\n",
    "randomforest = RandomForestClassifier(n_estimators=100, random_state=50)\n",
    "\n",
    "randomforest.fit(X_train_fit, y_train)\n",
    "randomforest.predict(X_test_fit)"
   ]
  },
  {
   "cell_type": "code",
   "execution_count": 79,
   "id": "eba9db4d",
   "metadata": {
    "execution": {
     "iopub.execute_input": "2024-05-15T05:22:39.856114Z",
     "iopub.status.busy": "2024-05-15T05:22:39.855466Z",
     "iopub.status.idle": "2024-05-15T05:22:39.859227Z",
     "shell.execute_reply": "2024-05-15T05:22:39.858428Z"
    },
    "papermill": {
     "duration": 0.05108,
     "end_time": "2024-05-15T05:22:39.861612",
     "exception": false,
     "start_time": "2024-05-15T05:22:39.810532",
     "status": "completed"
    },
    "tags": []
   },
   "outputs": [],
   "source": [
    "# Testing the model to check if the given text is toxic or not"
   ]
  },
  {
   "cell_type": "code",
   "execution_count": 80,
   "id": "936d47fb",
   "metadata": {
    "execution": {
     "iopub.execute_input": "2024-05-15T05:22:39.952442Z",
     "iopub.status.busy": "2024-05-15T05:22:39.951998Z",
     "iopub.status.idle": "2024-05-15T05:22:39.968560Z",
     "shell.execute_reply": "2024-05-15T05:22:39.967440Z"
    },
    "papermill": {
     "duration": 0.064353,
     "end_time": "2024-05-15T05:22:39.971166",
     "exception": false,
     "start_time": "2024-05-15T05:22:39.906813",
     "status": "completed"
    },
    "tags": []
   },
   "outputs": [
    {
     "data": {
      "text/plain": [
       "array([[0.42, 0.58]])"
      ]
     },
     "execution_count": 80,
     "metadata": {},
     "output_type": "execute_result"
    }
   ],
   "source": [
    "comment_1 = ['i killed an insect and ate it']\n",
    "comment_1_vec = tfv.transform(comment_1)\n",
    "randomforest.predict_proba(comment_1_vec)\n",
    "# As seen below the above comment as 58% toxic"
   ]
  },
  {
   "cell_type": "code",
   "execution_count": 81,
   "id": "0aab2dee",
   "metadata": {
    "execution": {
     "iopub.execute_input": "2024-05-15T05:22:40.059565Z",
     "iopub.status.busy": "2024-05-15T05:22:40.058847Z",
     "iopub.status.idle": "2024-05-15T05:22:40.077620Z",
     "shell.execute_reply": "2024-05-15T05:22:40.076466Z"
    },
    "papermill": {
     "duration": 0.065816,
     "end_time": "2024-05-15T05:22:40.080058",
     "exception": false,
     "start_time": "2024-05-15T05:22:40.014242",
     "status": "completed"
    },
    "tags": []
   },
   "outputs": [
    {
     "data": {
      "text/plain": [
       "array([[0.58, 0.42]])"
      ]
     },
     "execution_count": 81,
     "metadata": {},
     "output_type": "execute_result"
    }
   ],
   "source": [
    "comment_2 = ['iis this sentence a good one']\n",
    "comment_2_vec = tfv.transform(comment_2)\n",
    "randomforest.predict_proba(comment_2_vec)\n",
    "# As seen below the above comment as 58% not toxic"
   ]
  },
  {
   "cell_type": "code",
   "execution_count": 82,
   "id": "e5ab6423",
   "metadata": {
    "execution": {
     "iopub.execute_input": "2024-05-15T05:22:40.170552Z",
     "iopub.status.busy": "2024-05-15T05:22:40.169675Z",
     "iopub.status.idle": "2024-05-15T05:22:40.187420Z",
     "shell.execute_reply": "2024-05-15T05:22:40.186248Z"
    },
    "papermill": {
     "duration": 0.065268,
     "end_time": "2024-05-15T05:22:40.189833",
     "exception": false,
     "start_time": "2024-05-15T05:22:40.124565",
     "status": "completed"
    },
    "tags": []
   },
   "outputs": [
    {
     "data": {
      "text/plain": [
       "array([[0.31, 0.69]])"
      ]
     },
     "execution_count": 82,
     "metadata": {},
     "output_type": "execute_result"
    }
   ],
   "source": [
    "comment_3 = ['truth will prevail']\n",
    "comment_3_vec = tfv.transform(comment_3)\n",
    "randomforest.predict_proba(comment_3_vec)\n",
    "# As seen below the above comment as 69% toxic"
   ]
  },
  {
   "cell_type": "markdown",
   "id": "b1bace6c",
   "metadata": {
    "papermill": {
     "duration": 0.04312,
     "end_time": "2024-05-15T05:22:40.276075",
     "exception": false,
     "start_time": "2024-05-15T05:22:40.232955",
     "status": "completed"
    },
    "tags": []
   },
   "source": [
    "Kesimpulan : \n",
    "*     LogRegression is the best estimator for severee toxic\n",
    "*     LogRegression is the best estimator for obscene toxic\n",
    "*     MultinomialNB is the best estimator for threeetening comment\n",
    "*     SVM is the best estimator for insulting comment\n",
    "*     LogRegression is the best estimator for identity hate "
   ]
  },
  {
   "cell_type": "code",
   "execution_count": null,
   "id": "87903b86",
   "metadata": {
    "papermill": {
     "duration": 0.043157,
     "end_time": "2024-05-15T05:22:40.362850",
     "exception": false,
     "start_time": "2024-05-15T05:22:40.319693",
     "status": "completed"
    },
    "tags": []
   },
   "outputs": [],
   "source": []
  },
  {
   "cell_type": "code",
   "execution_count": null,
   "id": "b20bd829",
   "metadata": {
    "papermill": {
     "duration": 0.043033,
     "end_time": "2024-05-15T05:22:40.449127",
     "exception": false,
     "start_time": "2024-05-15T05:22:40.406094",
     "status": "completed"
    },
    "tags": []
   },
   "outputs": [],
   "source": []
  },
  {
   "cell_type": "code",
   "execution_count": null,
   "id": "fb27bc52",
   "metadata": {
    "papermill": {
     "duration": 0.04308,
     "end_time": "2024-05-15T05:22:40.535308",
     "exception": false,
     "start_time": "2024-05-15T05:22:40.492228",
     "status": "completed"
    },
    "tags": []
   },
   "outputs": [],
   "source": []
  }
 ],
 "metadata": {
  "kaggle": {
   "accelerator": "none",
   "dataSources": [
    {
     "datasetId": 4921672,
     "sourceId": 8286408,
     "sourceType": "datasetVersion"
    }
   ],
   "dockerImageVersionId": 30698,
   "isGpuEnabled": false,
   "isInternetEnabled": false,
   "language": "python",
   "sourceType": "notebook"
  },
  "kernelspec": {
   "display_name": "Python 3",
   "language": "python",
   "name": "python3"
  },
  "language_info": {
   "codemirror_mode": {
    "name": "ipython",
    "version": 3
   },
   "file_extension": ".py",
   "mimetype": "text/x-python",
   "name": "python",
   "nbconvert_exporter": "python",
   "pygments_lexer": "ipython3",
   "version": "3.10.13"
  },
  "papermill": {
   "default_parameters": {},
   "duration": 295.104791,
   "end_time": "2024-05-15T05:22:41.401033",
   "environment_variables": {},
   "exception": null,
   "input_path": "__notebook__.ipynb",
   "output_path": "__notebook__.ipynb",
   "parameters": {},
   "start_time": "2024-05-15T05:17:46.296242",
   "version": "2.5.0"
  }
 },
 "nbformat": 4,
 "nbformat_minor": 5
}
