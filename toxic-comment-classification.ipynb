{
 "cells": [
  {
   "cell_type": "code",
   "execution_count": 1,
   "id": "2f698a11",
   "metadata": {
    "_cell_guid": "b1076dfc-b9ad-4769-8c92-a6c4dae69d19",
    "_uuid": "8f2839f25d086af736a60e9eeb907d3b93b6e0e5",
    "execution": {
     "iopub.execute_input": "2024-05-15T06:13:19.418826Z",
     "iopub.status.busy": "2024-05-15T06:13:19.418319Z",
     "iopub.status.idle": "2024-05-15T06:13:22.220963Z",
     "shell.execute_reply": "2024-05-15T06:13:22.219809Z"
    },
    "papermill": {
     "duration": 2.834385,
     "end_time": "2024-05-15T06:13:22.223860",
     "exception": false,
     "start_time": "2024-05-15T06:13:19.389475",
     "status": "completed"
    },
    "tags": []
   },
   "outputs": [],
   "source": [
    "# Import Libraries\n",
    "import pandas as pd\n",
    "import numpy as np\n",
    "import seaborn as sns\n",
    "import matplotlib.pyplot as plt\n",
    "import warnings\n",
    "warnings.filterwarnings('ignore')"
   ]
  },
  {
   "cell_type": "code",
   "execution_count": null,
   "id": "5b689fed",
   "metadata": {
    "papermill": {
     "duration": 0.028763,
     "end_time": "2024-05-15T06:13:22.280597",
     "exception": false,
     "start_time": "2024-05-15T06:13:22.251834",
     "status": "completed"
    },
    "tags": []
   },
   "outputs": [],
   "source": []
  },
  {
   "cell_type": "code",
   "execution_count": 2,
   "id": "61ded643",
   "metadata": {
    "execution": {
     "iopub.execute_input": "2024-05-15T06:13:22.346408Z",
     "iopub.status.busy": "2024-05-15T06:13:22.345152Z",
     "iopub.status.idle": "2024-05-15T06:15:52.689687Z",
     "shell.execute_reply": "2024-05-15T06:15:52.687959Z"
    },
    "papermill": {
     "duration": 150.375834,
     "end_time": "2024-05-15T06:15:52.692723",
     "exception": false,
     "start_time": "2024-05-15T06:13:22.316889",
     "status": "completed"
    },
    "tags": []
   },
   "outputs": [
    {
     "name": "stdout",
     "output_type": "stream",
     "text": [
      "\u001b[33mWARNING: Retrying (Retry(total=4, connect=None, read=None, redirect=None, status=None)) after connection broken by 'NewConnectionError('<pip._vendor.urllib3.connection.HTTPSConnection object at 0x7c22f0258100>: Failed to establish a new connection: [Errno -3] Temporary failure in name resolution')': /simple/contractions/\u001b[0m\u001b[33m\r\n",
      "\u001b[0m\u001b[33mWARNING: Retrying (Retry(total=3, connect=None, read=None, redirect=None, status=None)) after connection broken by 'NewConnectionError('<pip._vendor.urllib3.connection.HTTPSConnection object at 0x7c22f0258400>: Failed to establish a new connection: [Errno -3] Temporary failure in name resolution')': /simple/contractions/\u001b[0m\u001b[33m\r\n",
      "\u001b[0m\u001b[33mWARNING: Retrying (Retry(total=2, connect=None, read=None, redirect=None, status=None)) after connection broken by 'NewConnectionError('<pip._vendor.urllib3.connection.HTTPSConnection object at 0x7c22f02586a0>: Failed to establish a new connection: [Errno -3] Temporary failure in name resolution')': /simple/contractions/\u001b[0m\u001b[33m\r\n",
      "\u001b[0m\u001b[33mWARNING: Retrying (Retry(total=1, connect=None, read=None, redirect=None, status=None)) after connection broken by 'NewConnectionError('<pip._vendor.urllib3.connection.HTTPSConnection object at 0x7c22f0258850>: Failed to establish a new connection: [Errno -3] Temporary failure in name resolution')': /simple/contractions/\u001b[0m\u001b[33m\r\n",
      "\u001b[0m\u001b[33mWARNING: Retrying (Retry(total=0, connect=None, read=None, redirect=None, status=None)) after connection broken by 'NewConnectionError('<pip._vendor.urllib3.connection.HTTPSConnection object at 0x7c22f0258a00>: Failed to establish a new connection: [Errno -3] Temporary failure in name resolution')': /simple/contractions/\u001b[0m\u001b[33m\r\n",
      "\u001b[0m\u001b[31mERROR: Could not find a version that satisfies the requirement contractions (from versions: none)\u001b[0m\u001b[31m\r\n",
      "\u001b[0m\u001b[31mERROR: No matching distribution found for contractions\u001b[0m\u001b[31m\r\n",
      "\u001b[0mNote: you may need to restart the kernel to use updated packages.\n"
     ]
    }
   ],
   "source": [
    "pip install contractions"
   ]
  },
  {
   "cell_type": "code",
   "execution_count": 3,
   "id": "06502267",
   "metadata": {
    "execution": {
     "iopub.execute_input": "2024-05-15T06:15:52.750715Z",
     "iopub.status.busy": "2024-05-15T06:15:52.750251Z",
     "iopub.status.idle": "2024-05-15T06:15:54.015170Z",
     "shell.execute_reply": "2024-05-15T06:15:54.013980Z"
    },
    "papermill": {
     "duration": 1.296819,
     "end_time": "2024-05-15T06:15:54.018017",
     "exception": false,
     "start_time": "2024-05-15T06:15:52.721198",
     "status": "completed"
    },
    "tags": []
   },
   "outputs": [],
   "source": [
    "import re\n",
    "import nltk\n",
    "import string\n",
    "\n",
    "from nltk.corpus import stopwords\n",
    "from nltk.stem import WordNetLemmatizer\n",
    "from nltk.tokenize import word_tokenize, sent_tokenize\n",
    "from nltk.stem import PorterStemmer, LancasterStemmer, SnowballStemmer\n"
   ]
  },
  {
   "cell_type": "code",
   "execution_count": 4,
   "id": "dd35cb2c",
   "metadata": {
    "execution": {
     "iopub.execute_input": "2024-05-15T06:15:54.074035Z",
     "iopub.status.busy": "2024-05-15T06:15:54.073607Z",
     "iopub.status.idle": "2024-05-15T06:15:56.096561Z",
     "shell.execute_reply": "2024-05-15T06:15:56.095395Z"
    },
    "papermill": {
     "duration": 2.05405,
     "end_time": "2024-05-15T06:15:56.099182",
     "exception": false,
     "start_time": "2024-05-15T06:15:54.045132",
     "status": "completed"
    },
    "tags": []
   },
   "outputs": [],
   "source": [
    "df = pd.read_csv('/kaggle/input/toxiccommment/train.csv')"
   ]
  },
  {
   "cell_type": "raw",
   "id": "530ce788",
   "metadata": {
    "papermill": {
     "duration": 0.026792,
     "end_time": "2024-05-15T06:15:56.153088",
     "exception": false,
     "start_time": "2024-05-15T06:15:56.126296",
     "status": "completed"
    },
    "tags": []
   },
   "source": [
    "df.head()"
   ]
  },
  {
   "cell_type": "code",
   "execution_count": 5,
   "id": "a105c359",
   "metadata": {
    "execution": {
     "iopub.execute_input": "2024-05-15T06:15:56.209506Z",
     "iopub.status.busy": "2024-05-15T06:15:56.209039Z",
     "iopub.status.idle": "2024-05-15T06:15:56.245229Z",
     "shell.execute_reply": "2024-05-15T06:15:56.244092Z"
    },
    "papermill": {
     "duration": 0.067692,
     "end_time": "2024-05-15T06:15:56.247695",
     "exception": false,
     "start_time": "2024-05-15T06:15:56.180003",
     "status": "completed"
    },
    "tags": []
   },
   "outputs": [
    {
     "data": {
      "text/html": [
       "<div>\n",
       "<style scoped>\n",
       "    .dataframe tbody tr th:only-of-type {\n",
       "        vertical-align: middle;\n",
       "    }\n",
       "\n",
       "    .dataframe tbody tr th {\n",
       "        vertical-align: top;\n",
       "    }\n",
       "\n",
       "    .dataframe thead th {\n",
       "        text-align: right;\n",
       "    }\n",
       "</style>\n",
       "<table border=\"1\" class=\"dataframe\">\n",
       "  <thead>\n",
       "    <tr style=\"text-align: right;\">\n",
       "      <th></th>\n",
       "      <th>id</th>\n",
       "      <th>comment_text</th>\n",
       "      <th>toxic</th>\n",
       "      <th>severe_toxic</th>\n",
       "      <th>obscene</th>\n",
       "      <th>threat</th>\n",
       "      <th>insult</th>\n",
       "      <th>identity_hate</th>\n",
       "    </tr>\n",
       "  </thead>\n",
       "  <tbody>\n",
       "    <tr>\n",
       "      <th>0</th>\n",
       "      <td>0000997932d777bf</td>\n",
       "      <td>Explanation\\nWhy the edits made under my usern...</td>\n",
       "      <td>0</td>\n",
       "      <td>0</td>\n",
       "      <td>0</td>\n",
       "      <td>0</td>\n",
       "      <td>0</td>\n",
       "      <td>0</td>\n",
       "    </tr>\n",
       "    <tr>\n",
       "      <th>1</th>\n",
       "      <td>000103f0d9cfb60f</td>\n",
       "      <td>D'aww! He matches this background colour I'm s...</td>\n",
       "      <td>0</td>\n",
       "      <td>0</td>\n",
       "      <td>0</td>\n",
       "      <td>0</td>\n",
       "      <td>0</td>\n",
       "      <td>0</td>\n",
       "    </tr>\n",
       "    <tr>\n",
       "      <th>2</th>\n",
       "      <td>000113f07ec002fd</td>\n",
       "      <td>Hey man, I'm really not trying to edit war. It...</td>\n",
       "      <td>0</td>\n",
       "      <td>0</td>\n",
       "      <td>0</td>\n",
       "      <td>0</td>\n",
       "      <td>0</td>\n",
       "      <td>0</td>\n",
       "    </tr>\n",
       "    <tr>\n",
       "      <th>3</th>\n",
       "      <td>0001b41b1c6bb37e</td>\n",
       "      <td>\"\\nMore\\nI can't make any real suggestions on ...</td>\n",
       "      <td>0</td>\n",
       "      <td>0</td>\n",
       "      <td>0</td>\n",
       "      <td>0</td>\n",
       "      <td>0</td>\n",
       "      <td>0</td>\n",
       "    </tr>\n",
       "    <tr>\n",
       "      <th>4</th>\n",
       "      <td>0001d958c54c6e35</td>\n",
       "      <td>You, sir, are my hero. Any chance you remember...</td>\n",
       "      <td>0</td>\n",
       "      <td>0</td>\n",
       "      <td>0</td>\n",
       "      <td>0</td>\n",
       "      <td>0</td>\n",
       "      <td>0</td>\n",
       "    </tr>\n",
       "  </tbody>\n",
       "</table>\n",
       "</div>"
      ],
      "text/plain": [
       "                 id                                       comment_text  toxic  \\\n",
       "0  0000997932d777bf  Explanation\\nWhy the edits made under my usern...      0   \n",
       "1  000103f0d9cfb60f  D'aww! He matches this background colour I'm s...      0   \n",
       "2  000113f07ec002fd  Hey man, I'm really not trying to edit war. It...      0   \n",
       "3  0001b41b1c6bb37e  \"\\nMore\\nI can't make any real suggestions on ...      0   \n",
       "4  0001d958c54c6e35  You, sir, are my hero. Any chance you remember...      0   \n",
       "\n",
       "   severe_toxic  obscene  threat  insult  identity_hate  \n",
       "0             0        0       0       0              0  \n",
       "1             0        0       0       0              0  \n",
       "2             0        0       0       0              0  \n",
       "3             0        0       0       0              0  \n",
       "4             0        0       0       0              0  "
      ]
     },
     "execution_count": 5,
     "metadata": {},
     "output_type": "execute_result"
    }
   ],
   "source": [
    "df.head()"
   ]
  },
  {
   "cell_type": "code",
   "execution_count": 6,
   "id": "99169c30",
   "metadata": {
    "execution": {
     "iopub.execute_input": "2024-05-15T06:15:56.304664Z",
     "iopub.status.busy": "2024-05-15T06:15:56.304030Z",
     "iopub.status.idle": "2024-05-15T06:15:56.378428Z",
     "shell.execute_reply": "2024-05-15T06:15:56.377282Z"
    },
    "papermill": {
     "duration": 0.105946,
     "end_time": "2024-05-15T06:15:56.380987",
     "exception": false,
     "start_time": "2024-05-15T06:15:56.275041",
     "status": "completed"
    },
    "tags": []
   },
   "outputs": [
    {
     "name": "stdout",
     "output_type": "stream",
     "text": [
      "<class 'pandas.core.frame.DataFrame'>\n",
      "RangeIndex: 159571 entries, 0 to 159570\n",
      "Data columns (total 8 columns):\n",
      " #   Column         Non-Null Count   Dtype \n",
      "---  ------         --------------   ----- \n",
      " 0   id             159571 non-null  object\n",
      " 1   comment_text   159571 non-null  object\n",
      " 2   toxic          159571 non-null  int64 \n",
      " 3   severe_toxic   159571 non-null  int64 \n",
      " 4   obscene        159571 non-null  int64 \n",
      " 5   threat         159571 non-null  int64 \n",
      " 6   insult         159571 non-null  int64 \n",
      " 7   identity_hate  159571 non-null  int64 \n",
      "dtypes: int64(6), object(2)\n",
      "memory usage: 9.7+ MB\n"
     ]
    }
   ],
   "source": [
    "df.info()"
   ]
  },
  {
   "cell_type": "code",
   "execution_count": 7,
   "id": "e78ae960",
   "metadata": {
    "execution": {
     "iopub.execute_input": "2024-05-15T06:15:56.439295Z",
     "iopub.status.busy": "2024-05-15T06:15:56.438640Z",
     "iopub.status.idle": "2024-05-15T06:15:56.491315Z",
     "shell.execute_reply": "2024-05-15T06:15:56.489960Z"
    },
    "papermill": {
     "duration": 0.084768,
     "end_time": "2024-05-15T06:15:56.493874",
     "exception": false,
     "start_time": "2024-05-15T06:15:56.409106",
     "status": "completed"
    },
    "tags": []
   },
   "outputs": [
    {
     "data": {
      "text/plain": [
       "id               0\n",
       "comment_text     0\n",
       "toxic            0\n",
       "severe_toxic     0\n",
       "obscene          0\n",
       "threat           0\n",
       "insult           0\n",
       "identity_hate    0\n",
       "dtype: int64"
      ]
     },
     "execution_count": 7,
     "metadata": {},
     "output_type": "execute_result"
    }
   ],
   "source": [
    "df.isnull().sum()"
   ]
  },
  {
   "cell_type": "code",
   "execution_count": 8,
   "id": "b1ddd144",
   "metadata": {
    "execution": {
     "iopub.execute_input": "2024-05-15T06:15:56.618460Z",
     "iopub.status.busy": "2024-05-15T06:15:56.618048Z",
     "iopub.status.idle": "2024-05-15T06:15:56.635710Z",
     "shell.execute_reply": "2024-05-15T06:15:56.634514Z"
    },
    "papermill": {
     "duration": 0.050565,
     "end_time": "2024-05-15T06:15:56.638456",
     "exception": false,
     "start_time": "2024-05-15T06:15:56.587891",
     "status": "completed"
    },
    "tags": []
   },
   "outputs": [
    {
     "data": {
      "text/plain": [
       "(array([0, 1]),\n",
       " array([0, 1]),\n",
       " array([0, 1]),\n",
       " array([0, 1]),\n",
       " array([0, 1]),\n",
       " array([0, 1]))"
      ]
     },
     "execution_count": 8,
     "metadata": {},
     "output_type": "execute_result"
    }
   ],
   "source": [
    "df['toxic'].unique(), df['severe_toxic'].unique(),df['obscene'].unique(), df['threat'].unique(), df['insult'].unique(), df['identity_hate'].unique(), "
   ]
  },
  {
   "cell_type": "code",
   "execution_count": 9,
   "id": "eaa1ab89",
   "metadata": {
    "execution": {
     "iopub.execute_input": "2024-05-15T06:15:56.697044Z",
     "iopub.status.busy": "2024-05-15T06:15:56.696575Z",
     "iopub.status.idle": "2024-05-15T06:15:56.710418Z",
     "shell.execute_reply": "2024-05-15T06:15:56.709252Z"
    },
    "papermill": {
     "duration": 0.046158,
     "end_time": "2024-05-15T06:15:56.713286",
     "exception": false,
     "start_time": "2024-05-15T06:15:56.667128",
     "status": "completed"
    },
    "tags": []
   },
   "outputs": [
    {
     "data": {
      "text/plain": [
       "toxic\n",
       "0    144277\n",
       "1     15294\n",
       "Name: count, dtype: int64"
      ]
     },
     "execution_count": 9,
     "metadata": {},
     "output_type": "execute_result"
    }
   ],
   "source": [
    "df['toxic'].value_counts()"
   ]
  },
  {
   "cell_type": "code",
   "execution_count": 10,
   "id": "49e1b0a6",
   "metadata": {
    "execution": {
     "iopub.execute_input": "2024-05-15T06:15:56.772605Z",
     "iopub.status.busy": "2024-05-15T06:15:56.771784Z",
     "iopub.status.idle": "2024-05-15T06:15:56.782558Z",
     "shell.execute_reply": "2024-05-15T06:15:56.781343Z"
    },
    "papermill": {
     "duration": 0.043636,
     "end_time": "2024-05-15T06:15:56.785321",
     "exception": false,
     "start_time": "2024-05-15T06:15:56.741685",
     "status": "completed"
    },
    "tags": []
   },
   "outputs": [
    {
     "data": {
      "text/plain": [
       "severe_toxic\n",
       "0    157976\n",
       "1      1595\n",
       "Name: count, dtype: int64"
      ]
     },
     "execution_count": 10,
     "metadata": {},
     "output_type": "execute_result"
    }
   ],
   "source": [
    "df['severe_toxic'].value_counts()"
   ]
  },
  {
   "cell_type": "code",
   "execution_count": 11,
   "id": "31cc28c0",
   "metadata": {
    "execution": {
     "iopub.execute_input": "2024-05-15T06:15:56.844972Z",
     "iopub.status.busy": "2024-05-15T06:15:56.843779Z",
     "iopub.status.idle": "2024-05-15T06:15:56.854295Z",
     "shell.execute_reply": "2024-05-15T06:15:56.853112Z"
    },
    "papermill": {
     "duration": 0.042549,
     "end_time": "2024-05-15T06:15:56.856708",
     "exception": false,
     "start_time": "2024-05-15T06:15:56.814159",
     "status": "completed"
    },
    "tags": []
   },
   "outputs": [
    {
     "data": {
      "text/plain": [
       "obscene\n",
       "0    151122\n",
       "1      8449\n",
       "Name: count, dtype: int64"
      ]
     },
     "execution_count": 11,
     "metadata": {},
     "output_type": "execute_result"
    }
   ],
   "source": [
    "df['obscene'].value_counts()"
   ]
  },
  {
   "cell_type": "code",
   "execution_count": 12,
   "id": "92402339",
   "metadata": {
    "execution": {
     "iopub.execute_input": "2024-05-15T06:15:56.916808Z",
     "iopub.status.busy": "2024-05-15T06:15:56.916301Z",
     "iopub.status.idle": "2024-05-15T06:15:56.926033Z",
     "shell.execute_reply": "2024-05-15T06:15:56.924840Z"
    },
    "papermill": {
     "duration": 0.043094,
     "end_time": "2024-05-15T06:15:56.928473",
     "exception": false,
     "start_time": "2024-05-15T06:15:56.885379",
     "status": "completed"
    },
    "tags": []
   },
   "outputs": [
    {
     "data": {
      "text/plain": [
       "threat\n",
       "0    159093\n",
       "1       478\n",
       "Name: count, dtype: int64"
      ]
     },
     "execution_count": 12,
     "metadata": {},
     "output_type": "execute_result"
    }
   ],
   "source": [
    "df['threat'].value_counts()"
   ]
  },
  {
   "cell_type": "code",
   "execution_count": 13,
   "id": "ac0685f5",
   "metadata": {
    "execution": {
     "iopub.execute_input": "2024-05-15T06:15:56.988596Z",
     "iopub.status.busy": "2024-05-15T06:15:56.987591Z",
     "iopub.status.idle": "2024-05-15T06:15:57.000715Z",
     "shell.execute_reply": "2024-05-15T06:15:56.999560Z"
    },
    "papermill": {
     "duration": 0.0459,
     "end_time": "2024-05-15T06:15:57.003301",
     "exception": false,
     "start_time": "2024-05-15T06:15:56.957401",
     "status": "completed"
    },
    "tags": []
   },
   "outputs": [
    {
     "data": {
      "text/plain": [
       "(insult\n",
       " 0    151694\n",
       " 1      7877\n",
       " Name: count, dtype: int64,\n",
       " identity_hate\n",
       " 0    158166\n",
       " 1      1405\n",
       " Name: count, dtype: int64)"
      ]
     },
     "execution_count": 13,
     "metadata": {},
     "output_type": "execute_result"
    }
   ],
   "source": [
    "df['insult'].value_counts(), df['identity_hate'].value_counts()"
   ]
  },
  {
   "cell_type": "code",
   "execution_count": 14,
   "id": "87e531e3",
   "metadata": {
    "execution": {
     "iopub.execute_input": "2024-05-15T06:15:57.063371Z",
     "iopub.status.busy": "2024-05-15T06:15:57.062944Z",
     "iopub.status.idle": "2024-05-15T06:15:57.067746Z",
     "shell.execute_reply": "2024-05-15T06:15:57.066497Z"
    },
    "papermill": {
     "duration": 0.037619,
     "end_time": "2024-05-15T06:15:57.070053",
     "exception": false,
     "start_time": "2024-05-15T06:15:57.032434",
     "status": "completed"
    },
    "tags": []
   },
   "outputs": [],
   "source": [
    "#Data Visualization"
   ]
  },
  {
   "cell_type": "code",
   "execution_count": 15,
   "id": "b64e962c",
   "metadata": {
    "execution": {
     "iopub.execute_input": "2024-05-15T06:15:57.132964Z",
     "iopub.status.busy": "2024-05-15T06:15:57.131486Z",
     "iopub.status.idle": "2024-05-15T06:15:57.141709Z",
     "shell.execute_reply": "2024-05-15T06:15:57.140659Z"
    },
    "papermill": {
     "duration": 0.044283,
     "end_time": "2024-05-15T06:15:57.144344",
     "exception": false,
     "start_time": "2024-05-15T06:15:57.100061",
     "status": "completed"
    },
    "tags": []
   },
   "outputs": [],
   "source": [
    "sentencetype_graph = df.iloc[:,2:].sum()"
   ]
  },
  {
   "cell_type": "code",
   "execution_count": 16,
   "id": "b4be0792",
   "metadata": {
    "execution": {
     "iopub.execute_input": "2024-05-15T06:15:57.205242Z",
     "iopub.status.busy": "2024-05-15T06:15:57.204163Z",
     "iopub.status.idle": "2024-05-15T06:15:57.213032Z",
     "shell.execute_reply": "2024-05-15T06:15:57.212165Z"
    },
    "papermill": {
     "duration": 0.0417,
     "end_time": "2024-05-15T06:15:57.215256",
     "exception": false,
     "start_time": "2024-05-15T06:15:57.173556",
     "status": "completed"
    },
    "tags": []
   },
   "outputs": [
    {
     "data": {
      "text/plain": [
       "toxic            15294\n",
       "severe_toxic      1595\n",
       "obscene           8449\n",
       "threat             478\n",
       "insult            7877\n",
       "identity_hate     1405\n",
       "dtype: int64"
      ]
     },
     "execution_count": 16,
     "metadata": {},
     "output_type": "execute_result"
    }
   ],
   "source": [
    "sentencetype_graph"
   ]
  },
  {
   "cell_type": "code",
   "execution_count": 17,
   "id": "5230f0ae",
   "metadata": {
    "execution": {
     "iopub.execute_input": "2024-05-15T06:15:57.275720Z",
     "iopub.status.busy": "2024-05-15T06:15:57.274849Z",
     "iopub.status.idle": "2024-05-15T06:15:57.814877Z",
     "shell.execute_reply": "2024-05-15T06:15:57.813696Z"
    },
    "papermill": {
     "duration": 0.573496,
     "end_time": "2024-05-15T06:15:57.817785",
     "exception": false,
     "start_time": "2024-05-15T06:15:57.244289",
     "status": "completed"
    },
    "tags": []
   },
   "outputs": [
    {
     "data": {
      "text/plain": [
       "[Text(0, 0, 'toxic'),\n",
       " Text(1, 0, 'obscene'),\n",
       " Text(2, 0, 'insult'),\n",
       " Text(3, 0, 'severe_toxic'),\n",
       " Text(4, 0, 'identity_hate'),\n",
       " Text(5, 0, 'threat')]"
      ]
     },
     "execution_count": 17,
     "metadata": {},
     "output_type": "execute_result"
    },
    {
     "data": {
      "image/png": "[encoded data removed]",
      "text/plain": [
       "<Figure size 1500x800 with 1 Axes>"
      ]
     },
     "metadata": {},
     "output_type": "display_data"
    }
   ],
   "source": [
    "sns.set_style('darkgrid')\n",
    "ls=sentencetype_graph.sort_values(ascending=False)\n",
    "\n",
    "plt.figure(figsize=(15,8))\n",
    "\n",
    "temp = sns.barplot(x=ls.index, y=ls.values, alpha=0.8)\n",
    "\n",
    "plt.title('Sentence Type')\n",
    "\n",
    "plt.ylabel('COUNT', fontsize=14)\n",
    "\n",
    "plt.xlabel('All Sentence Type', fontsize = 15)\n",
    "\n",
    "temp.set_xticklabels(rotation=90, labels=ls.index, fontsize=10)"
   ]
  },
  {
   "cell_type": "code",
   "execution_count": 18,
   "id": "0130d333",
   "metadata": {
    "execution": {
     "iopub.execute_input": "2024-05-15T06:15:57.882938Z",
     "iopub.status.busy": "2024-05-15T06:15:57.882251Z",
     "iopub.status.idle": "2024-05-15T06:15:57.887036Z",
     "shell.execute_reply": "2024-05-15T06:15:57.885933Z"
    },
    "papermill": {
     "duration": 0.040868,
     "end_time": "2024-05-15T06:15:57.889498",
     "exception": false,
     "start_time": "2024-05-15T06:15:57.848630",
     "status": "completed"
    },
    "tags": []
   },
   "outputs": [],
   "source": [
    "# there many toxic sentences followed by obscene sentences and very few thretening sentences as seen above "
   ]
  },
  {
   "cell_type": "raw",
   "id": "72c19ff3",
   "metadata": {
    "papermill": {
     "duration": 0.030189,
     "end_time": "2024-05-15T06:15:57.952299",
     "exception": false,
     "start_time": "2024-05-15T06:15:57.922110",
     "status": "completed"
    },
    "tags": []
   },
   "source": [
    "Text Pre-processing"
   ]
  },
  {
   "cell_type": "code",
   "execution_count": 19,
   "id": "7890b331",
   "metadata": {
    "execution": {
     "iopub.execute_input": "2024-05-15T06:15:58.015035Z",
     "iopub.status.busy": "2024-05-15T06:15:58.013761Z",
     "iopub.status.idle": "2024-05-15T06:15:58.018419Z",
     "shell.execute_reply": "2024-05-15T06:15:58.017617Z"
    },
    "papermill": {
     "duration": 0.039125,
     "end_time": "2024-05-15T06:15:58.021320",
     "exception": false,
     "start_time": "2024-05-15T06:15:57.982195",
     "status": "completed"
    },
    "tags": []
   },
   "outputs": [],
   "source": [
    "import re\n",
    "import string"
   ]
  },
  {
   "cell_type": "code",
   "execution_count": 20,
   "id": "39822d38",
   "metadata": {
    "execution": {
     "iopub.execute_input": "2024-05-15T06:15:58.082931Z",
     "iopub.status.busy": "2024-05-15T06:15:58.082189Z",
     "iopub.status.idle": "2024-05-15T06:16:22.538346Z",
     "shell.execute_reply": "2024-05-15T06:16:22.537018Z"
    },
    "papermill": {
     "duration": 24.490297,
     "end_time": "2024-05-15T06:16:22.541185",
     "exception": false,
     "start_time": "2024-05-15T06:15:58.050888",
     "status": "completed"
    },
    "tags": []
   },
   "outputs": [],
   "source": [
    "# Removing special character\n",
    "alphanumeric = lambda x: re.sub('\\w*\\d\\w*', ' ',x)\n",
    "punc_lower = lambda x: re.sub('[%s]' % re.escape(string.punctuation), ' ', x.lower())\n",
    "remove_n = lambda x:re.sub('\\n', ' ', x)\n",
    "remove_non_ascii = lambda x:re.sub(r'[^\\x00-\\x7f]', r' ', x)\n",
    "dd = df['comment_text'].map(alphanumeric).map(punc_lower).map(remove_n).map(remove_non_ascii)"
   ]
  },
  {
   "cell_type": "markdown",
   "id": "892812fd",
   "metadata": {
    "papermill": {
     "duration": 0.029585,
     "end_time": "2024-05-15T06:16:22.600935",
     "exception": false,
     "start_time": "2024-05-15T06:16:22.571350",
     "status": "completed"
    },
    "tags": []
   },
   "source": []
  },
  {
   "cell_type": "code",
   "execution_count": 21,
   "id": "23cbbb38",
   "metadata": {
    "execution": {
     "iopub.execute_input": "2024-05-15T06:16:22.665624Z",
     "iopub.status.busy": "2024-05-15T06:16:22.665142Z",
     "iopub.status.idle": "2024-05-15T06:16:22.688894Z",
     "shell.execute_reply": "2024-05-15T06:16:22.687614Z"
    },
    "papermill": {
     "duration": 0.060476,
     "end_time": "2024-05-15T06:16:22.691987",
     "exception": false,
     "start_time": "2024-05-15T06:16:22.631511",
     "status": "completed"
    },
    "tags": []
   },
   "outputs": [
    {
     "data": {
      "text/html": [
       "<div>\n",
       "<style scoped>\n",
       "    .dataframe tbody tr th:only-of-type {\n",
       "        vertical-align: middle;\n",
       "    }\n",
       "\n",
       "    .dataframe tbody tr th {\n",
       "        vertical-align: top;\n",
       "    }\n",
       "\n",
       "    .dataframe thead th {\n",
       "        text-align: right;\n",
       "    }\n",
       "</style>\n",
       "<table border=\"1\" class=\"dataframe\">\n",
       "  <thead>\n",
       "    <tr style=\"text-align: right;\">\n",
       "      <th></th>\n",
       "      <th>id</th>\n",
       "      <th>comment_text</th>\n",
       "      <th>insult</th>\n",
       "    </tr>\n",
       "  </thead>\n",
       "  <tbody>\n",
       "    <tr>\n",
       "      <th>0</th>\n",
       "      <td>0000997932d777bf</td>\n",
       "      <td>Explanation\\nWhy the edits made under my usern...</td>\n",
       "      <td>0</td>\n",
       "    </tr>\n",
       "    <tr>\n",
       "      <th>1</th>\n",
       "      <td>000103f0d9cfb60f</td>\n",
       "      <td>D'aww! He matches this background colour I'm s...</td>\n",
       "      <td>0</td>\n",
       "    </tr>\n",
       "  </tbody>\n",
       "</table>\n",
       "</div>"
      ],
      "text/plain": [
       "                 id                                       comment_text  insult\n",
       "0  0000997932d777bf  Explanation\\nWhy the edits made under my usern...       0\n",
       "1  000103f0d9cfb60f  D'aww! He matches this background colour I'm s...       0"
      ]
     },
     "execution_count": 21,
     "metadata": {},
     "output_type": "execute_result"
    }
   ],
   "source": [
    "insulting_comment_df = df.loc[:,['id','comment_text','insult']]\n",
    "insulting_comment_df.head(2)"
   ]
  },
  {
   "cell_type": "code",
   "execution_count": 22,
   "id": "1056852c",
   "metadata": {
    "execution": {
     "iopub.execute_input": "2024-05-15T06:16:22.754630Z",
     "iopub.status.busy": "2024-05-15T06:16:22.754203Z",
     "iopub.status.idle": "2024-05-15T06:16:22.782989Z",
     "shell.execute_reply": "2024-05-15T06:16:22.781879Z"
    },
    "papermill": {
     "duration": 0.062797,
     "end_time": "2024-05-15T06:16:22.785190",
     "exception": false,
     "start_time": "2024-05-15T06:16:22.722393",
     "status": "completed"
    },
    "tags": []
   },
   "outputs": [
    {
     "data": {
      "text/html": [
       "<div>\n",
       "<style scoped>\n",
       "    .dataframe tbody tr th:only-of-type {\n",
       "        vertical-align: middle;\n",
       "    }\n",
       "\n",
       "    .dataframe tbody tr th {\n",
       "        vertical-align: top;\n",
       "    }\n",
       "\n",
       "    .dataframe thead th {\n",
       "        text-align: right;\n",
       "    }\n",
       "</style>\n",
       "<table border=\"1\" class=\"dataframe\">\n",
       "  <thead>\n",
       "    <tr style=\"text-align: right;\">\n",
       "      <th></th>\n",
       "      <th>id</th>\n",
       "      <th>comment_text</th>\n",
       "      <th>identity_hate</th>\n",
       "    </tr>\n",
       "  </thead>\n",
       "  <tbody>\n",
       "    <tr>\n",
       "      <th>51754</th>\n",
       "      <td>8a794141652be1ff</td>\n",
       "      <td>Hmm, when I looked last night there was the /1...</td>\n",
       "      <td>0</td>\n",
       "    </tr>\n",
       "    <tr>\n",
       "      <th>67759</th>\n",
       "      <td>b549333c243466f5</td>\n",
       "      <td>You've got me there! Reverting biased views ab...</td>\n",
       "      <td>0</td>\n",
       "    </tr>\n",
       "  </tbody>\n",
       "</table>\n",
       "</div>"
      ],
      "text/plain": [
       "                     id                                       comment_text  \\\n",
       "51754  8a794141652be1ff  Hmm, when I looked last night there was the /1...   \n",
       "67759  b549333c243466f5  You've got me there! Reverting biased views ab...   \n",
       "\n",
       "       identity_hate  \n",
       "51754              0  \n",
       "67759              0  "
      ]
     },
     "execution_count": 22,
     "metadata": {},
     "output_type": "execute_result"
    }
   ],
   "source": [
    "identityhate_comment_df=df.loc[:,['id','comment_text','identity_hate']]\n",
    "identityhate_comment_df.sample(2)"
   ]
  },
  {
   "cell_type": "code",
   "execution_count": 23,
   "id": "7a443157",
   "metadata": {
    "execution": {
     "iopub.execute_input": "2024-05-15T06:16:22.848028Z",
     "iopub.status.busy": "2024-05-15T06:16:22.847616Z",
     "iopub.status.idle": "2024-05-15T06:16:22.872534Z",
     "shell.execute_reply": "2024-05-15T06:16:22.871326Z"
    },
    "papermill": {
     "duration": 0.059126,
     "end_time": "2024-05-15T06:16:22.874955",
     "exception": false,
     "start_time": "2024-05-15T06:16:22.815829",
     "status": "completed"
    },
    "tags": []
   },
   "outputs": [
    {
     "data": {
      "text/html": [
       "<div>\n",
       "<style scoped>\n",
       "    .dataframe tbody tr th:only-of-type {\n",
       "        vertical-align: middle;\n",
       "    }\n",
       "\n",
       "    .dataframe tbody tr th {\n",
       "        vertical-align: top;\n",
       "    }\n",
       "\n",
       "    .dataframe thead th {\n",
       "        text-align: right;\n",
       "    }\n",
       "</style>\n",
       "<table border=\"1\" class=\"dataframe\">\n",
       "  <thead>\n",
       "    <tr style=\"text-align: right;\">\n",
       "      <th></th>\n",
       "      <th>id</th>\n",
       "      <th>comment_text</th>\n",
       "      <th>obscene</th>\n",
       "    </tr>\n",
       "  </thead>\n",
       "  <tbody>\n",
       "    <tr>\n",
       "      <th>114711</th>\n",
       "      <td>658044967d9af0df</td>\n",
       "      <td>\"\\n\\n Flavio Briatore and template \\n\\nYou are...</td>\n",
       "      <td>0</td>\n",
       "    </tr>\n",
       "    <tr>\n",
       "      <th>123301</th>\n",
       "      <td>938ca66d3b984673</td>\n",
       "      <td>Be a polite and sicnere on on Wikipedia. \\n\\nI...</td>\n",
       "      <td>0</td>\n",
       "    </tr>\n",
       "  </tbody>\n",
       "</table>\n",
       "</div>"
      ],
      "text/plain": [
       "                      id                                       comment_text  \\\n",
       "114711  658044967d9af0df  \"\\n\\n Flavio Briatore and template \\n\\nYou are...   \n",
       "123301  938ca66d3b984673  Be a polite and sicnere on on Wikipedia. \\n\\nI...   \n",
       "\n",
       "        obscene  \n",
       "114711        0  \n",
       "123301        0  "
      ]
     },
     "execution_count": 23,
     "metadata": {},
     "output_type": "execute_result"
    }
   ],
   "source": [
    "obscene_comment_df = df.loc[:, ['id','comment_text','obscene']]\n",
    "obscene_comment_df.sample(2)"
   ]
  },
  {
   "cell_type": "code",
   "execution_count": 24,
   "id": "67658c6e",
   "metadata": {
    "execution": {
     "iopub.execute_input": "2024-05-15T06:16:22.938434Z",
     "iopub.status.busy": "2024-05-15T06:16:22.937992Z",
     "iopub.status.idle": "2024-05-15T06:16:22.964020Z",
     "shell.execute_reply": "2024-05-15T06:16:22.962934Z"
    },
    "papermill": {
     "duration": 0.060712,
     "end_time": "2024-05-15T06:16:22.966656",
     "exception": false,
     "start_time": "2024-05-15T06:16:22.905944",
     "status": "completed"
    },
    "tags": []
   },
   "outputs": [
    {
     "data": {
      "text/html": [
       "<div>\n",
       "<style scoped>\n",
       "    .dataframe tbody tr th:only-of-type {\n",
       "        vertical-align: middle;\n",
       "    }\n",
       "\n",
       "    .dataframe tbody tr th {\n",
       "        vertical-align: top;\n",
       "    }\n",
       "\n",
       "    .dataframe thead th {\n",
       "        text-align: right;\n",
       "    }\n",
       "</style>\n",
       "<table border=\"1\" class=\"dataframe\">\n",
       "  <thead>\n",
       "    <tr style=\"text-align: right;\">\n",
       "      <th></th>\n",
       "      <th>id</th>\n",
       "      <th>comment_text</th>\n",
       "      <th>threat</th>\n",
       "    </tr>\n",
       "  </thead>\n",
       "  <tbody>\n",
       "    <tr>\n",
       "      <th>86189</th>\n",
       "      <td>e687a113af02b2ee</td>\n",
       "      <td>Wettin branches \\n\\nHi. Your views, among othe...</td>\n",
       "      <td>0</td>\n",
       "    </tr>\n",
       "    <tr>\n",
       "      <th>48682</th>\n",
       "      <td>822b70564cb5c74f</td>\n",
       "      <td>\"\\n(multiple actions)\"\"Secondary sources\"\" is ...</td>\n",
       "      <td>0</td>\n",
       "    </tr>\n",
       "  </tbody>\n",
       "</table>\n",
       "</div>"
      ],
      "text/plain": [
       "                     id                                       comment_text  \\\n",
       "86189  e687a113af02b2ee  Wettin branches \\n\\nHi. Your views, among othe...   \n",
       "48682  822b70564cb5c74f  \"\\n(multiple actions)\"\"Secondary sources\"\" is ...   \n",
       "\n",
       "       threat  \n",
       "86189       0  \n",
       "48682       0  "
      ]
     },
     "execution_count": 24,
     "metadata": {},
     "output_type": "execute_result"
    }
   ],
   "source": [
    "threetening_comment_df = df.loc[:, ['id','comment_text','threat']]\n",
    "threetening_comment_df.sample(2)"
   ]
  },
  {
   "cell_type": "code",
   "execution_count": 25,
   "id": "4d8e24f3",
   "metadata": {
    "execution": {
     "iopub.execute_input": "2024-05-15T06:16:23.031059Z",
     "iopub.status.busy": "2024-05-15T06:16:23.030310Z",
     "iopub.status.idle": "2024-05-15T06:16:23.044010Z",
     "shell.execute_reply": "2024-05-15T06:16:23.042932Z"
    },
    "papermill": {
     "duration": 0.049228,
     "end_time": "2024-05-15T06:16:23.046594",
     "exception": false,
     "start_time": "2024-05-15T06:16:22.997366",
     "status": "completed"
    },
    "tags": []
   },
   "outputs": [],
   "source": [
    "severetoxic_comment_df = df.loc[:, ['id','comment_text','severe_toxic']]"
   ]
  },
  {
   "cell_type": "code",
   "execution_count": 26,
   "id": "94ff86b6",
   "metadata": {
    "execution": {
     "iopub.execute_input": "2024-05-15T06:16:23.111978Z",
     "iopub.status.busy": "2024-05-15T06:16:23.111089Z",
     "iopub.status.idle": "2024-05-15T06:16:23.137983Z",
     "shell.execute_reply": "2024-05-15T06:16:23.136724Z"
    },
    "papermill": {
     "duration": 0.062681,
     "end_time": "2024-05-15T06:16:23.140552",
     "exception": false,
     "start_time": "2024-05-15T06:16:23.077871",
     "status": "completed"
    },
    "tags": []
   },
   "outputs": [
    {
     "data": {
      "text/html": [
       "<div>\n",
       "<style scoped>\n",
       "    .dataframe tbody tr th:only-of-type {\n",
       "        vertical-align: middle;\n",
       "    }\n",
       "\n",
       "    .dataframe tbody tr th {\n",
       "        vertical-align: top;\n",
       "    }\n",
       "\n",
       "    .dataframe thead th {\n",
       "        text-align: right;\n",
       "    }\n",
       "</style>\n",
       "<table border=\"1\" class=\"dataframe\">\n",
       "  <thead>\n",
       "    <tr style=\"text-align: right;\">\n",
       "      <th></th>\n",
       "      <th>id</th>\n",
       "      <th>comment_text</th>\n",
       "      <th>toxic</th>\n",
       "    </tr>\n",
       "  </thead>\n",
       "  <tbody>\n",
       "    <tr>\n",
       "      <th>70880</th>\n",
       "      <td>bdb49c41b7d3eba5</td>\n",
       "      <td>I didn't know that voilates copyright.</td>\n",
       "      <td>0</td>\n",
       "    </tr>\n",
       "    <tr>\n",
       "      <th>43559</th>\n",
       "      <td>7446b16529943fd0</td>\n",
       "      <td>\":: The transition problem can be solved as wr...</td>\n",
       "      <td>0</td>\n",
       "    </tr>\n",
       "  </tbody>\n",
       "</table>\n",
       "</div>"
      ],
      "text/plain": [
       "                     id                                       comment_text  \\\n",
       "70880  bdb49c41b7d3eba5             I didn't know that voilates copyright.   \n",
       "43559  7446b16529943fd0  \":: The transition problem can be solved as wr...   \n",
       "\n",
       "       toxic  \n",
       "70880      0  \n",
       "43559      0  "
      ]
     },
     "execution_count": 26,
     "metadata": {},
     "output_type": "execute_result"
    }
   ],
   "source": [
    "toxic_comment_df = df.loc[:, ['id','comment_text','toxic']]\n",
    "toxic_comment_df.sample(2)"
   ]
  },
  {
   "cell_type": "code",
   "execution_count": 27,
   "id": "53b2a4d9",
   "metadata": {
    "execution": {
     "iopub.execute_input": "2024-05-15T06:16:23.205586Z",
     "iopub.status.busy": "2024-05-15T06:16:23.204910Z",
     "iopub.status.idle": "2024-05-15T06:16:23.271941Z",
     "shell.execute_reply": "2024-05-15T06:16:23.270787Z"
    },
    "papermill": {
     "duration": 0.102225,
     "end_time": "2024-05-15T06:16:23.274414",
     "exception": false,
     "start_time": "2024-05-15T06:16:23.172189",
     "status": "completed"
    },
    "tags": []
   },
   "outputs": [],
   "source": [
    "import wordcloud\n",
    "from PIL import Image\n",
    "from wordcloud import WordCloud, STOPWORDS, ImageColorGenerator\n",
    "from nltk.corpus import stopwords"
   ]
  },
  {
   "cell_type": "code",
   "execution_count": 28,
   "id": "662c2fe6",
   "metadata": {
    "execution": {
     "iopub.execute_input": "2024-05-15T06:16:23.338520Z",
     "iopub.status.busy": "2024-05-15T06:16:23.337557Z",
     "iopub.status.idle": "2024-05-15T06:16:23.345274Z",
     "shell.execute_reply": "2024-05-15T06:16:23.343958Z"
    },
    "papermill": {
     "duration": 0.042595,
     "end_time": "2024-05-15T06:16:23.347932",
     "exception": false,
     "start_time": "2024-05-15T06:16:23.305337",
     "status": "completed"
    },
    "tags": []
   },
   "outputs": [],
   "source": [
    "def wordcloud(df, label):\n",
    "    subset=df[df[label]==1]\n",
    "    text=subset.comment_text.values\n",
    "    wc=WordCloud(background_color='black',max_words=2000)\n",
    "    \n",
    "    wc.generate(' '.join(text))\n",
    "    \n",
    "    plt.figure(figsize=(20,20))\n",
    "    plt.subplot(221)\n",
    "    plt.axis('off')\n",
    "    plt.title(f'word frequented in {label}', fontsize=20)\n",
    "    \n",
    "    plt.imshow(wc.recolor(colormap='gist_earth', random_state=244), alpha=0.98)\n",
    "    \n",
    "    "
   ]
  },
  {
   "cell_type": "code",
   "execution_count": 29,
   "id": "98b20203",
   "metadata": {
    "execution": {
     "iopub.execute_input": "2024-05-15T06:16:23.412750Z",
     "iopub.status.busy": "2024-05-15T06:16:23.412303Z",
     "iopub.status.idle": "2024-05-15T06:16:24.682796Z",
     "shell.execute_reply": "2024-05-15T06:16:24.681876Z"
    },
    "papermill": {
     "duration": 1.307314,
     "end_time": "2024-05-15T06:16:24.687031",
     "exception": false,
     "start_time": "2024-05-15T06:16:23.379717",
     "status": "completed"
    },
    "tags": []
   },
   "outputs": [
    {
     "data": {
      "image/png": "[encoded data removed]",
      "text/plain": [
       "<Figure size 2000x2000 with 1 Axes>"
      ]
     },
     "metadata": {},
     "output_type": "display_data"
    }
   ],
   "source": [
    "wordcloud(severetoxic_comment_df, 'severe_toxic')"
   ]
  },
  {
   "cell_type": "code",
   "execution_count": 30,
   "id": "60854e80",
   "metadata": {
    "execution": {
     "iopub.execute_input": "2024-05-15T06:16:24.757644Z",
     "iopub.status.busy": "2024-05-15T06:16:24.756623Z",
     "iopub.status.idle": "2024-05-15T06:16:27.570922Z",
     "shell.execute_reply": "2024-05-15T06:16:27.569715Z"
    },
    "papermill": {
     "duration": 2.852453,
     "end_time": "2024-05-15T06:16:27.573353",
     "exception": false,
     "start_time": "2024-05-15T06:16:24.720900",
     "status": "completed"
    },
    "tags": []
   },
   "outputs": [
    {
     "data": {
      "image/png": "[encoded data removed]",
      "text/plain": [
       "<Figure size 2000x2000 with 1 Axes>"
      ]
     },
     "metadata": {},
     "output_type": "display_data"
    }
   ],
   "source": [
    "wordcloud(obscene_comment_df, 'obscene')"
   ]
  },
  {
   "cell_type": "code",
   "execution_count": 31,
   "id": "10aa6169",
   "metadata": {
    "execution": {
     "iopub.execute_input": "2024-05-15T06:16:27.650248Z",
     "iopub.status.busy": "2024-05-15T06:16:27.649618Z",
     "iopub.status.idle": "2024-05-15T06:16:27.653479Z",
     "shell.execute_reply": "2024-05-15T06:16:27.652628Z"
    },
    "papermill": {
     "duration": 0.044442,
     "end_time": "2024-05-15T06:16:27.655560",
     "exception": false,
     "start_time": "2024-05-15T06:16:27.611118",
     "status": "completed"
    },
    "tags": []
   },
   "outputs": [],
   "source": [
    "# Belancing the target column in the dataset"
   ]
  },
  {
   "cell_type": "code",
   "execution_count": 32,
   "id": "9227520d",
   "metadata": {
    "execution": {
     "iopub.execute_input": "2024-05-15T06:16:27.731577Z",
     "iopub.status.busy": "2024-05-15T06:16:27.730911Z",
     "iopub.status.idle": "2024-05-15T06:16:27.742516Z",
     "shell.execute_reply": "2024-05-15T06:16:27.741606Z"
    },
    "papermill": {
     "duration": 0.052293,
     "end_time": "2024-05-15T06:16:27.744698",
     "exception": false,
     "start_time": "2024-05-15T06:16:27.692405",
     "status": "completed"
    },
    "tags": []
   },
   "outputs": [
    {
     "data": {
      "text/html": [
       "<div>\n",
       "<style scoped>\n",
       "    .dataframe tbody tr th:only-of-type {\n",
       "        vertical-align: middle;\n",
       "    }\n",
       "\n",
       "    .dataframe tbody tr th {\n",
       "        vertical-align: top;\n",
       "    }\n",
       "\n",
       "    .dataframe thead th {\n",
       "        text-align: right;\n",
       "    }\n",
       "</style>\n",
       "<table border=\"1\" class=\"dataframe\">\n",
       "  <thead>\n",
       "    <tr style=\"text-align: right;\">\n",
       "      <th></th>\n",
       "      <th>id</th>\n",
       "      <th>comment_text</th>\n",
       "      <th>toxic</th>\n",
       "    </tr>\n",
       "  </thead>\n",
       "  <tbody>\n",
       "    <tr>\n",
       "      <th>0</th>\n",
       "      <td>0000997932d777bf</td>\n",
       "      <td>Explanation\\nWhy the edits made under my usern...</td>\n",
       "      <td>0</td>\n",
       "    </tr>\n",
       "    <tr>\n",
       "      <th>1</th>\n",
       "      <td>000103f0d9cfb60f</td>\n",
       "      <td>D'aww! He matches this background colour I'm s...</td>\n",
       "      <td>0</td>\n",
       "    </tr>\n",
       "    <tr>\n",
       "      <th>2</th>\n",
       "      <td>000113f07ec002fd</td>\n",
       "      <td>Hey man, I'm really not trying to edit war. It...</td>\n",
       "      <td>0</td>\n",
       "    </tr>\n",
       "    <tr>\n",
       "      <th>3</th>\n",
       "      <td>0001b41b1c6bb37e</td>\n",
       "      <td>\"\\nMore\\nI can't make any real suggestions on ...</td>\n",
       "      <td>0</td>\n",
       "    </tr>\n",
       "    <tr>\n",
       "      <th>4</th>\n",
       "      <td>0001d958c54c6e35</td>\n",
       "      <td>You, sir, are my hero. Any chance you remember...</td>\n",
       "      <td>0</td>\n",
       "    </tr>\n",
       "    <tr>\n",
       "      <th>...</th>\n",
       "      <td>...</td>\n",
       "      <td>...</td>\n",
       "      <td>...</td>\n",
       "    </tr>\n",
       "    <tr>\n",
       "      <th>159566</th>\n",
       "      <td>ffe987279560d7ff</td>\n",
       "      <td>\":::::And for the second time of asking, when ...</td>\n",
       "      <td>0</td>\n",
       "    </tr>\n",
       "    <tr>\n",
       "      <th>159567</th>\n",
       "      <td>ffea4adeee384e90</td>\n",
       "      <td>You should be ashamed of yourself \\n\\nThat is ...</td>\n",
       "      <td>0</td>\n",
       "    </tr>\n",
       "    <tr>\n",
       "      <th>159568</th>\n",
       "      <td>ffee36eab5c267c9</td>\n",
       "      <td>Spitzer \\n\\nUmm, theres no actual article for ...</td>\n",
       "      <td>0</td>\n",
       "    </tr>\n",
       "    <tr>\n",
       "      <th>159569</th>\n",
       "      <td>fff125370e4aaaf3</td>\n",
       "      <td>And it looks like it was actually you who put ...</td>\n",
       "      <td>0</td>\n",
       "    </tr>\n",
       "    <tr>\n",
       "      <th>159570</th>\n",
       "      <td>fff46fc426af1f9a</td>\n",
       "      <td>\"\\nAnd ... I really don't think you understand...</td>\n",
       "      <td>0</td>\n",
       "    </tr>\n",
       "  </tbody>\n",
       "</table>\n",
       "<p>159571 rows × 3 columns</p>\n",
       "</div>"
      ],
      "text/plain": [
       "                      id                                       comment_text  \\\n",
       "0       0000997932d777bf  Explanation\\nWhy the edits made under my usern...   \n",
       "1       000103f0d9cfb60f  D'aww! He matches this background colour I'm s...   \n",
       "2       000113f07ec002fd  Hey man, I'm really not trying to edit war. It...   \n",
       "3       0001b41b1c6bb37e  \"\\nMore\\nI can't make any real suggestions on ...   \n",
       "4       0001d958c54c6e35  You, sir, are my hero. Any chance you remember...   \n",
       "...                  ...                                                ...   \n",
       "159566  ffe987279560d7ff  \":::::And for the second time of asking, when ...   \n",
       "159567  ffea4adeee384e90  You should be ashamed of yourself \\n\\nThat is ...   \n",
       "159568  ffee36eab5c267c9  Spitzer \\n\\nUmm, theres no actual article for ...   \n",
       "159569  fff125370e4aaaf3  And it looks like it was actually you who put ...   \n",
       "159570  fff46fc426af1f9a  \"\\nAnd ... I really don't think you understand...   \n",
       "\n",
       "        toxic  \n",
       "0           0  \n",
       "1           0  \n",
       "2           0  \n",
       "3           0  \n",
       "4           0  \n",
       "...       ...  \n",
       "159566      0  \n",
       "159567      0  \n",
       "159568      0  \n",
       "159569      0  \n",
       "159570      0  \n",
       "\n",
       "[159571 rows x 3 columns]"
      ]
     },
     "execution_count": 32,
     "metadata": {},
     "output_type": "execute_result"
    }
   ],
   "source": [
    "toxic_comment_df"
   ]
  },
  {
   "cell_type": "code",
   "execution_count": 33,
   "id": "d3ebdc85",
   "metadata": {
    "execution": {
     "iopub.execute_input": "2024-05-15T06:16:27.822190Z",
     "iopub.status.busy": "2024-05-15T06:16:27.821581Z",
     "iopub.status.idle": "2024-05-15T06:16:27.831336Z",
     "shell.execute_reply": "2024-05-15T06:16:27.830552Z"
    },
    "papermill": {
     "duration": 0.051149,
     "end_time": "2024-05-15T06:16:27.833475",
     "exception": false,
     "start_time": "2024-05-15T06:16:27.782326",
     "status": "completed"
    },
    "tags": []
   },
   "outputs": [
    {
     "data": {
      "text/plain": [
       "5000"
      ]
     },
     "execution_count": 33,
     "metadata": {},
     "output_type": "execute_result"
    }
   ],
   "source": [
    "# Slecting only 5000 toxic comments\n",
    "toxic_comment_balanced_1 = toxic_comment_df[toxic_comment_df['toxic'] == 1].iloc[0:5000, :]\n",
    "len(toxic_comment_balanced_1)"
   ]
  },
  {
   "cell_type": "code",
   "execution_count": 34,
   "id": "08572c26",
   "metadata": {
    "execution": {
     "iopub.execute_input": "2024-05-15T06:16:27.911338Z",
     "iopub.status.busy": "2024-05-15T06:16:27.910945Z",
     "iopub.status.idle": "2024-05-15T06:16:27.928067Z",
     "shell.execute_reply": "2024-05-15T06:16:27.926745Z"
    },
    "papermill": {
     "duration": 0.059642,
     "end_time": "2024-05-15T06:16:27.930743",
     "exception": false,
     "start_time": "2024-05-15T06:16:27.871101",
     "status": "completed"
    },
    "tags": []
   },
   "outputs": [
    {
     "data": {
      "text/plain": [
       "(5000, 3)"
      ]
     },
     "execution_count": 34,
     "metadata": {},
     "output_type": "execute_result"
    }
   ],
   "source": [
    "# Selectiong only 50000 non toxic comment \n",
    "toxic_comment_balanced_0 = toxic_comment_df[toxic_comment_df['toxic'] == 0].iloc[0:5000, :]\n",
    "toxic_comment_balanced_0.shape"
   ]
  },
  {
   "cell_type": "code",
   "execution_count": 35,
   "id": "a2796826",
   "metadata": {
    "execution": {
     "iopub.execute_input": "2024-05-15T06:16:28.008850Z",
     "iopub.status.busy": "2024-05-15T06:16:28.007798Z",
     "iopub.status.idle": "2024-05-15T06:16:28.014603Z",
     "shell.execute_reply": "2024-05-15T06:16:28.013551Z"
    },
    "papermill": {
     "duration": 0.048995,
     "end_time": "2024-05-15T06:16:28.017471",
     "exception": false,
     "start_time": "2024-05-15T06:16:27.968476",
     "status": "completed"
    },
    "tags": []
   },
   "outputs": [],
   "source": [
    "# Concating toxic commment and non toxic comment \n",
    "toxic_comment_balanced = pd.concat([toxic_comment_balanced_1, toxic_comment_balanced_0])"
   ]
  },
  {
   "cell_type": "code",
   "execution_count": 36,
   "id": "c49c8418",
   "metadata": {
    "execution": {
     "iopub.execute_input": "2024-05-15T06:16:28.097641Z",
     "iopub.status.busy": "2024-05-15T06:16:28.097178Z",
     "iopub.status.idle": "2024-05-15T06:16:28.103812Z",
     "shell.execute_reply": "2024-05-15T06:16:28.102781Z"
    },
    "papermill": {
     "duration": 0.048647,
     "end_time": "2024-05-15T06:16:28.106066",
     "exception": false,
     "start_time": "2024-05-15T06:16:28.057419",
     "status": "completed"
    },
    "tags": []
   },
   "outputs": [
    {
     "data": {
      "text/plain": [
       "(10000, 3)"
      ]
     },
     "execution_count": 36,
     "metadata": {},
     "output_type": "execute_result"
    }
   ],
   "source": [
    "toxic_comment_balanced.shape"
   ]
  },
  {
   "cell_type": "code",
   "execution_count": 37,
   "id": "1fe2741d",
   "metadata": {
    "execution": {
     "iopub.execute_input": "2024-05-15T06:16:28.185350Z",
     "iopub.status.busy": "2024-05-15T06:16:28.184139Z",
     "iopub.status.idle": "2024-05-15T06:16:28.192816Z",
     "shell.execute_reply": "2024-05-15T06:16:28.191841Z"
    },
    "papermill": {
     "duration": 0.050742,
     "end_time": "2024-05-15T06:16:28.195233",
     "exception": false,
     "start_time": "2024-05-15T06:16:28.144491",
     "status": "completed"
    },
    "tags": []
   },
   "outputs": [
    {
     "data": {
      "text/plain": [
       "toxic\n",
       "1    5000\n",
       "0    5000\n",
       "Name: count, dtype: int64"
      ]
     },
     "execution_count": 37,
     "metadata": {},
     "output_type": "execute_result"
    }
   ],
   "source": [
    "toxic_comment_balanced['toxic'].value_counts()\n",
    "# now the toxic and non toxic is balance"
   ]
  },
  {
   "cell_type": "code",
   "execution_count": 38,
   "id": "2fda9bbc",
   "metadata": {
    "execution": {
     "iopub.execute_input": "2024-05-15T06:16:28.274856Z",
     "iopub.status.busy": "2024-05-15T06:16:28.273667Z",
     "iopub.status.idle": "2024-05-15T06:16:28.278727Z",
     "shell.execute_reply": "2024-05-15T06:16:28.277930Z"
    },
    "papermill": {
     "duration": 0.046934,
     "end_time": "2024-05-15T06:16:28.280887",
     "exception": false,
     "start_time": "2024-05-15T06:16:28.233953",
     "status": "completed"
    },
    "tags": []
   },
   "outputs": [],
   "source": [
    "# Repeating the steps for the subset dataset"
   ]
  },
  {
   "cell_type": "code",
   "execution_count": 39,
   "id": "cd826815",
   "metadata": {
    "execution": {
     "iopub.execute_input": "2024-05-15T06:16:28.361247Z",
     "iopub.status.busy": "2024-05-15T06:16:28.360088Z",
     "iopub.status.idle": "2024-05-15T06:16:28.376646Z",
     "shell.execute_reply": "2024-05-15T06:16:28.375439Z"
    },
    "papermill": {
     "duration": 0.058786,
     "end_time": "2024-05-15T06:16:28.379118",
     "exception": false,
     "start_time": "2024-05-15T06:16:28.320332",
     "status": "completed"
    },
    "tags": []
   },
   "outputs": [
    {
     "data": {
      "text/html": [
       "<div>\n",
       "<style scoped>\n",
       "    .dataframe tbody tr th:only-of-type {\n",
       "        vertical-align: middle;\n",
       "    }\n",
       "\n",
       "    .dataframe tbody tr th {\n",
       "        vertical-align: top;\n",
       "    }\n",
       "\n",
       "    .dataframe thead th {\n",
       "        text-align: right;\n",
       "    }\n",
       "</style>\n",
       "<table border=\"1\" class=\"dataframe\">\n",
       "  <thead>\n",
       "    <tr style=\"text-align: right;\">\n",
       "      <th></th>\n",
       "      <th>id</th>\n",
       "      <th>comment_text</th>\n",
       "      <th>severe_toxic</th>\n",
       "    </tr>\n",
       "  </thead>\n",
       "  <tbody>\n",
       "    <tr>\n",
       "      <th>43875</th>\n",
       "      <td>751109ebf98c7ae4</td>\n",
       "      <td>\"\\n\\nRead Wikipedia:Reliable sources, moron. Z...</td>\n",
       "      <td>0</td>\n",
       "    </tr>\n",
       "    <tr>\n",
       "      <th>135373</th>\n",
       "      <td>d4043104e76cad73</td>\n",
       "      <td>Information graffiti \\n\\nI would ask you to re...</td>\n",
       "      <td>0</td>\n",
       "    </tr>\n",
       "  </tbody>\n",
       "</table>\n",
       "</div>"
      ],
      "text/plain": [
       "                      id                                       comment_text  \\\n",
       "43875   751109ebf98c7ae4  \"\\n\\nRead Wikipedia:Reliable sources, moron. Z...   \n",
       "135373  d4043104e76cad73  Information graffiti \\n\\nI would ask you to re...   \n",
       "\n",
       "        severe_toxic  \n",
       "43875              0  \n",
       "135373             0  "
      ]
     },
     "execution_count": 39,
     "metadata": {},
     "output_type": "execute_result"
    }
   ],
   "source": [
    "severetoxic_comment_df.sample(2)"
   ]
  },
  {
   "cell_type": "code",
   "execution_count": 40,
   "id": "1ab3d636",
   "metadata": {
    "execution": {
     "iopub.execute_input": "2024-05-15T06:16:28.459613Z",
     "iopub.status.busy": "2024-05-15T06:16:28.458847Z",
     "iopub.status.idle": "2024-05-15T06:16:28.469346Z",
     "shell.execute_reply": "2024-05-15T06:16:28.468270Z"
    },
    "papermill": {
     "duration": 0.052793,
     "end_time": "2024-05-15T06:16:28.471789",
     "exception": false,
     "start_time": "2024-05-15T06:16:28.418996",
     "status": "completed"
    },
    "tags": []
   },
   "outputs": [
    {
     "data": {
      "text/plain": [
       "severe_toxic\n",
       "0    157976\n",
       "1      1595\n",
       "Name: count, dtype: int64"
      ]
     },
     "execution_count": 40,
     "metadata": {},
     "output_type": "execute_result"
    }
   ],
   "source": [
    "severetoxic_comment_df['severe_toxic'].value_counts()"
   ]
  },
  {
   "cell_type": "code",
   "execution_count": 41,
   "id": "389011f6",
   "metadata": {
    "execution": {
     "iopub.execute_input": "2024-05-15T06:16:28.553031Z",
     "iopub.status.busy": "2024-05-15T06:16:28.552295Z",
     "iopub.status.idle": "2024-05-15T06:16:28.560033Z",
     "shell.execute_reply": "2024-05-15T06:16:28.558747Z"
    },
    "papermill": {
     "duration": 0.050506,
     "end_time": "2024-05-15T06:16:28.562543",
     "exception": false,
     "start_time": "2024-05-15T06:16:28.512037",
     "status": "completed"
    },
    "tags": []
   },
   "outputs": [],
   "source": [
    "severe_comment_balanced_1 = severetoxic_comment_df[severetoxic_comment_df['severe_toxic'] == 1].iloc[0:1595, :]"
   ]
  },
  {
   "cell_type": "code",
   "execution_count": 42,
   "id": "d8ad1ec4",
   "metadata": {
    "execution": {
     "iopub.execute_input": "2024-05-15T06:16:28.643284Z",
     "iopub.status.busy": "2024-05-15T06:16:28.642701Z",
     "iopub.status.idle": "2024-05-15T06:16:28.656610Z",
     "shell.execute_reply": "2024-05-15T06:16:28.655717Z"
    },
    "papermill": {
     "duration": 0.05786,
     "end_time": "2024-05-15T06:16:28.659263",
     "exception": false,
     "start_time": "2024-05-15T06:16:28.601403",
     "status": "completed"
    },
    "tags": []
   },
   "outputs": [],
   "source": [
    "severe_comment_balanced_0 = severetoxic_comment_df[severetoxic_comment_df['severe_toxic'] == 0].iloc[0:1595, :]"
   ]
  },
  {
   "cell_type": "code",
   "execution_count": 43,
   "id": "497bfe82",
   "metadata": {
    "execution": {
     "iopub.execute_input": "2024-05-15T06:16:28.740807Z",
     "iopub.status.busy": "2024-05-15T06:16:28.740141Z",
     "iopub.status.idle": "2024-05-15T06:16:28.747628Z",
     "shell.execute_reply": "2024-05-15T06:16:28.746636Z"
    },
    "papermill": {
     "duration": 0.0515,
     "end_time": "2024-05-15T06:16:28.749987",
     "exception": false,
     "start_time": "2024-05-15T06:16:28.698487",
     "status": "completed"
    },
    "tags": []
   },
   "outputs": [
    {
     "data": {
      "text/plain": [
       "((1595, 3), (1595, 3), (3190, 3))"
      ]
     },
     "execution_count": 43,
     "metadata": {},
     "output_type": "execute_result"
    }
   ],
   "source": [
    "severe_comment_balanced = pd.concat([severe_comment_balanced_1, severe_comment_balanced_0])\n",
    "severe_comment_balanced_0.shape, severe_comment_balanced_1.shape,severe_comment_balanced.shape"
   ]
  },
  {
   "cell_type": "code",
   "execution_count": 44,
   "id": "5828e54e",
   "metadata": {
    "execution": {
     "iopub.execute_input": "2024-05-15T06:16:28.831366Z",
     "iopub.status.busy": "2024-05-15T06:16:28.830712Z",
     "iopub.status.idle": "2024-05-15T06:16:28.834822Z",
     "shell.execute_reply": "2024-05-15T06:16:28.833792Z"
    },
    "papermill": {
     "duration": 0.047859,
     "end_time": "2024-05-15T06:16:28.836924",
     "exception": false,
     "start_time": "2024-05-15T06:16:28.789065",
     "status": "completed"
    },
    "tags": []
   },
   "outputs": [],
   "source": [
    "# Repeating the same for obsene comment "
   ]
  },
  {
   "cell_type": "code",
   "execution_count": 45,
   "id": "8a7d68c1",
   "metadata": {
    "execution": {
     "iopub.execute_input": "2024-05-15T06:16:28.917899Z",
     "iopub.status.busy": "2024-05-15T06:16:28.917229Z",
     "iopub.status.idle": "2024-05-15T06:16:28.932799Z",
     "shell.execute_reply": "2024-05-15T06:16:28.931510Z"
    },
    "papermill": {
     "duration": 0.059491,
     "end_time": "2024-05-15T06:16:28.935200",
     "exception": false,
     "start_time": "2024-05-15T06:16:28.875709",
     "status": "completed"
    },
    "tags": []
   },
   "outputs": [
    {
     "data": {
      "text/html": [
       "<div>\n",
       "<style scoped>\n",
       "    .dataframe tbody tr th:only-of-type {\n",
       "        vertical-align: middle;\n",
       "    }\n",
       "\n",
       "    .dataframe tbody tr th {\n",
       "        vertical-align: top;\n",
       "    }\n",
       "\n",
       "    .dataframe thead th {\n",
       "        text-align: right;\n",
       "    }\n",
       "</style>\n",
       "<table border=\"1\" class=\"dataframe\">\n",
       "  <thead>\n",
       "    <tr style=\"text-align: right;\">\n",
       "      <th></th>\n",
       "      <th>id</th>\n",
       "      <th>comment_text</th>\n",
       "      <th>obscene</th>\n",
       "    </tr>\n",
       "  </thead>\n",
       "  <tbody>\n",
       "    <tr>\n",
       "      <th>153448</th>\n",
       "      <td>9d19434b87f109e5</td>\n",
       "      <td>Myanw is a cockteaseing homophobe.</td>\n",
       "      <td>0</td>\n",
       "    </tr>\n",
       "    <tr>\n",
       "      <th>43589</th>\n",
       "      <td>745dc3e06688fb24</td>\n",
       "      <td>Interesting!  No I did NOT!  Is hyperbole not ...</td>\n",
       "      <td>0</td>\n",
       "    </tr>\n",
       "  </tbody>\n",
       "</table>\n",
       "</div>"
      ],
      "text/plain": [
       "                      id                                       comment_text  \\\n",
       "153448  9d19434b87f109e5                 Myanw is a cockteaseing homophobe.   \n",
       "43589   745dc3e06688fb24  Interesting!  No I did NOT!  Is hyperbole not ...   \n",
       "\n",
       "        obscene  \n",
       "153448        0  \n",
       "43589         0  "
      ]
     },
     "execution_count": 45,
     "metadata": {},
     "output_type": "execute_result"
    }
   ],
   "source": [
    "obscene_comment_df.sample(2)"
   ]
  },
  {
   "cell_type": "code",
   "execution_count": 46,
   "id": "2e7697f0",
   "metadata": {
    "execution": {
     "iopub.execute_input": "2024-05-15T06:16:29.015745Z",
     "iopub.status.busy": "2024-05-15T06:16:29.015106Z",
     "iopub.status.idle": "2024-05-15T06:16:29.024728Z",
     "shell.execute_reply": "2024-05-15T06:16:29.023122Z"
    },
    "papermill": {
     "duration": 0.053107,
     "end_time": "2024-05-15T06:16:29.027497",
     "exception": false,
     "start_time": "2024-05-15T06:16:28.974390",
     "status": "completed"
    },
    "tags": []
   },
   "outputs": [
    {
     "data": {
      "text/plain": [
       "obscene\n",
       "0    151122\n",
       "1      8449\n",
       "Name: count, dtype: int64"
      ]
     },
     "execution_count": 46,
     "metadata": {},
     "output_type": "execute_result"
    }
   ],
   "source": [
    "obscene_comment_df['obscene'].value_counts()\n",
    "# There inbalance data"
   ]
  },
  {
   "cell_type": "code",
   "execution_count": 47,
   "id": "431df8fd",
   "metadata": {
    "execution": {
     "iopub.execute_input": "2024-05-15T06:16:29.108797Z",
     "iopub.status.busy": "2024-05-15T06:16:29.108106Z",
     "iopub.status.idle": "2024-05-15T06:16:29.116947Z",
     "shell.execute_reply": "2024-05-15T06:16:29.115971Z"
    },
    "papermill": {
     "duration": 0.052479,
     "end_time": "2024-05-15T06:16:29.119598",
     "exception": false,
     "start_time": "2024-05-15T06:16:29.067119",
     "status": "completed"
    },
    "tags": []
   },
   "outputs": [],
   "source": [
    "obscene_comment_df_1 = obscene_comment_df[obscene_comment_df['obscene'] == 1].iloc[0:8449, :]"
   ]
  },
  {
   "cell_type": "code",
   "execution_count": 48,
   "id": "c441805f",
   "metadata": {
    "execution": {
     "iopub.execute_input": "2024-05-15T06:16:29.200487Z",
     "iopub.status.busy": "2024-05-15T06:16:29.200097Z",
     "iopub.status.idle": "2024-05-15T06:16:29.215027Z",
     "shell.execute_reply": "2024-05-15T06:16:29.213997Z"
    },
    "papermill": {
     "duration": 0.058754,
     "end_time": "2024-05-15T06:16:29.217997",
     "exception": false,
     "start_time": "2024-05-15T06:16:29.159243",
     "status": "completed"
    },
    "tags": []
   },
   "outputs": [],
   "source": [
    "obscene_comment_df_0 = obscene_comment_df[obscene_comment_df['obscene'] == 0].iloc[0:8449, :]"
   ]
  },
  {
   "cell_type": "code",
   "execution_count": 49,
   "id": "fd65ecba",
   "metadata": {
    "execution": {
     "iopub.execute_input": "2024-05-15T06:16:29.299141Z",
     "iopub.status.busy": "2024-05-15T06:16:29.298732Z",
     "iopub.status.idle": "2024-05-15T06:16:29.307690Z",
     "shell.execute_reply": "2024-05-15T06:16:29.306817Z"
    },
    "papermill": {
     "duration": 0.05202,
     "end_time": "2024-05-15T06:16:29.310028",
     "exception": false,
     "start_time": "2024-05-15T06:16:29.258008",
     "status": "completed"
    },
    "tags": []
   },
   "outputs": [
    {
     "data": {
      "text/plain": [
       "((8449, 3), (8449, 3), (159571, 3))"
      ]
     },
     "execution_count": 49,
     "metadata": {},
     "output_type": "execute_result"
    }
   ],
   "source": [
    "obscene_comment_balanced = pd.concat([obscene_comment_df_1, obscene_comment_df_0])\n",
    "obscene_comment_df_1.shape,  obscene_comment_df_0.shape, obscene_comment_df.shape"
   ]
  },
  {
   "cell_type": "code",
   "execution_count": 50,
   "id": "2a534fbf",
   "metadata": {
    "execution": {
     "iopub.execute_input": "2024-05-15T06:16:29.391198Z",
     "iopub.status.busy": "2024-05-15T06:16:29.390666Z",
     "iopub.status.idle": "2024-05-15T06:16:29.395171Z",
     "shell.execute_reply": "2024-05-15T06:16:29.394346Z"
    },
    "papermill": {
     "duration": 0.047798,
     "end_time": "2024-05-15T06:16:29.397318",
     "exception": false,
     "start_time": "2024-05-15T06:16:29.349520",
     "status": "completed"
    },
    "tags": []
   },
   "outputs": [],
   "source": [
    "# Repeating the same for thereatening comment"
   ]
  },
  {
   "cell_type": "code",
   "execution_count": 51,
   "id": "235fff2b",
   "metadata": {
    "execution": {
     "iopub.execute_input": "2024-05-15T06:16:29.479193Z",
     "iopub.status.busy": "2024-05-15T06:16:29.478384Z",
     "iopub.status.idle": "2024-05-15T06:16:29.494419Z",
     "shell.execute_reply": "2024-05-15T06:16:29.493299Z"
    },
    "papermill": {
     "duration": 0.060007,
     "end_time": "2024-05-15T06:16:29.496983",
     "exception": false,
     "start_time": "2024-05-15T06:16:29.436976",
     "status": "completed"
    },
    "tags": []
   },
   "outputs": [
    {
     "data": {
      "text/html": [
       "<div>\n",
       "<style scoped>\n",
       "    .dataframe tbody tr th:only-of-type {\n",
       "        vertical-align: middle;\n",
       "    }\n",
       "\n",
       "    .dataframe tbody tr th {\n",
       "        vertical-align: top;\n",
       "    }\n",
       "\n",
       "    .dataframe thead th {\n",
       "        text-align: right;\n",
       "    }\n",
       "</style>\n",
       "<table border=\"1\" class=\"dataframe\">\n",
       "  <thead>\n",
       "    <tr style=\"text-align: right;\">\n",
       "      <th></th>\n",
       "      <th>id</th>\n",
       "      <th>comment_text</th>\n",
       "      <th>threat</th>\n",
       "    </tr>\n",
       "  </thead>\n",
       "  <tbody>\n",
       "    <tr>\n",
       "      <th>29447</th>\n",
       "      <td>4e18cc4157d2eebf</td>\n",
       "      <td>Re: Barrymore 1936 photos \\n\\nManaged to drum ...</td>\n",
       "      <td>0</td>\n",
       "    </tr>\n",
       "    <tr>\n",
       "      <th>61703</th>\n",
       "      <td>a52172a498d1638c</td>\n",
       "      <td>oops, I saw blocking warning on your page as w...</td>\n",
       "      <td>0</td>\n",
       "    </tr>\n",
       "  </tbody>\n",
       "</table>\n",
       "</div>"
      ],
      "text/plain": [
       "                     id                                       comment_text  \\\n",
       "29447  4e18cc4157d2eebf  Re: Barrymore 1936 photos \\n\\nManaged to drum ...   \n",
       "61703  a52172a498d1638c  oops, I saw blocking warning on your page as w...   \n",
       "\n",
       "       threat  \n",
       "29447       0  \n",
       "61703       0  "
      ]
     },
     "execution_count": 51,
     "metadata": {},
     "output_type": "execute_result"
    }
   ],
   "source": [
    "threetening_comment_df.sample(2)"
   ]
  },
  {
   "cell_type": "code",
   "execution_count": 52,
   "id": "40f58bee",
   "metadata": {
    "execution": {
     "iopub.execute_input": "2024-05-15T06:16:29.579111Z",
     "iopub.status.busy": "2024-05-15T06:16:29.578657Z",
     "iopub.status.idle": "2024-05-15T06:16:29.589513Z",
     "shell.execute_reply": "2024-05-15T06:16:29.588394Z"
    },
    "papermill": {
     "duration": 0.054868,
     "end_time": "2024-05-15T06:16:29.591892",
     "exception": false,
     "start_time": "2024-05-15T06:16:29.537024",
     "status": "completed"
    },
    "tags": []
   },
   "outputs": [
    {
     "data": {
      "text/plain": [
       "threat\n",
       "0    159093\n",
       "1       478\n",
       "Name: count, dtype: int64"
      ]
     },
     "execution_count": 52,
     "metadata": {},
     "output_type": "execute_result"
    }
   ],
   "source": [
    "threetening_comment_df['threat'].value_counts()\n",
    "# There inbalance data"
   ]
  },
  {
   "cell_type": "code",
   "execution_count": 53,
   "id": "c18d8b2a",
   "metadata": {
    "execution": {
     "iopub.execute_input": "2024-05-15T06:16:29.674389Z",
     "iopub.status.busy": "2024-05-15T06:16:29.674008Z",
     "iopub.status.idle": "2024-05-15T06:16:29.680275Z",
     "shell.execute_reply": "2024-05-15T06:16:29.679247Z"
    },
    "papermill": {
     "duration": 0.050862,
     "end_time": "2024-05-15T06:16:29.682660",
     "exception": false,
     "start_time": "2024-05-15T06:16:29.631798",
     "status": "completed"
    },
    "tags": []
   },
   "outputs": [],
   "source": [
    "threat_comment_df_1 = threetening_comment_df[threetening_comment_df['threat'] == 1].iloc[0:478, :]"
   ]
  },
  {
   "cell_type": "code",
   "execution_count": 54,
   "id": "8a62aabd",
   "metadata": {
    "execution": {
     "iopub.execute_input": "2024-05-15T06:16:29.765339Z",
     "iopub.status.busy": "2024-05-15T06:16:29.764887Z",
     "iopub.status.idle": "2024-05-15T06:16:29.780546Z",
     "shell.execute_reply": "2024-05-15T06:16:29.779368Z"
    },
    "papermill": {
     "duration": 0.059917,
     "end_time": "2024-05-15T06:16:29.783458",
     "exception": false,
     "start_time": "2024-05-15T06:16:29.723541",
     "status": "completed"
    },
    "tags": []
   },
   "outputs": [],
   "source": [
    "threat_comment_df_0 = threetening_comment_df[threetening_comment_df['threat'] == 0].iloc[0:478, :]"
   ]
  },
  {
   "cell_type": "code",
   "execution_count": 55,
   "id": "a95b0f0b",
   "metadata": {
    "execution": {
     "iopub.execute_input": "2024-05-15T06:16:29.866405Z",
     "iopub.status.busy": "2024-05-15T06:16:29.865986Z",
     "iopub.status.idle": "2024-05-15T06:16:29.874456Z",
     "shell.execute_reply": "2024-05-15T06:16:29.873375Z"
    },
    "papermill": {
     "duration": 0.052709,
     "end_time": "2024-05-15T06:16:29.876716",
     "exception": false,
     "start_time": "2024-05-15T06:16:29.824007",
     "status": "completed"
    },
    "tags": []
   },
   "outputs": [
    {
     "data": {
      "text/plain": [
       "((478, 3), (478, 3), (956, 3))"
      ]
     },
     "execution_count": 55,
     "metadata": {},
     "output_type": "execute_result"
    }
   ],
   "source": [
    "threetening_comment_balanced = pd.concat([threat_comment_df_1, threat_comment_df_0])\n",
    "threat_comment_df_1.shape,  threat_comment_df_1.shape, threetening_comment_balanced.shape"
   ]
  },
  {
   "cell_type": "code",
   "execution_count": null,
   "id": "b20b24cf",
   "metadata": {
    "papermill": {
     "duration": 0.04011,
     "end_time": "2024-05-15T06:16:29.957816",
     "exception": false,
     "start_time": "2024-05-15T06:16:29.917706",
     "status": "completed"
    },
    "tags": []
   },
   "outputs": [],
   "source": []
  },
  {
   "cell_type": "code",
   "execution_count": 56,
   "id": "c520182e",
   "metadata": {
    "execution": {
     "iopub.execute_input": "2024-05-15T06:16:30.041608Z",
     "iopub.status.busy": "2024-05-15T06:16:30.041159Z",
     "iopub.status.idle": "2024-05-15T06:16:30.046027Z",
     "shell.execute_reply": "2024-05-15T06:16:30.044932Z"
    },
    "papermill": {
     "duration": 0.05067,
     "end_time": "2024-05-15T06:16:30.048660",
     "exception": false,
     "start_time": "2024-05-15T06:16:29.997990",
     "status": "completed"
    },
    "tags": []
   },
   "outputs": [],
   "source": [
    "# Repeating the same for identity hate comment"
   ]
  },
  {
   "cell_type": "code",
   "execution_count": 57,
   "id": "2b106e7a",
   "metadata": {
    "execution": {
     "iopub.execute_input": "2024-05-15T06:16:30.136491Z",
     "iopub.status.busy": "2024-05-15T06:16:30.135776Z",
     "iopub.status.idle": "2024-05-15T06:16:30.157783Z",
     "shell.execute_reply": "2024-05-15T06:16:30.156430Z"
    },
    "papermill": {
     "duration": 0.071522,
     "end_time": "2024-05-15T06:16:30.160376",
     "exception": false,
     "start_time": "2024-05-15T06:16:30.088854",
     "status": "completed"
    },
    "tags": []
   },
   "outputs": [
    {
     "data": {
      "text/html": [
       "<div>\n",
       "<style scoped>\n",
       "    .dataframe tbody tr th:only-of-type {\n",
       "        vertical-align: middle;\n",
       "    }\n",
       "\n",
       "    .dataframe tbody tr th {\n",
       "        vertical-align: top;\n",
       "    }\n",
       "\n",
       "    .dataframe thead th {\n",
       "        text-align: right;\n",
       "    }\n",
       "</style>\n",
       "<table border=\"1\" class=\"dataframe\">\n",
       "  <thead>\n",
       "    <tr style=\"text-align: right;\">\n",
       "      <th></th>\n",
       "      <th>id</th>\n",
       "      <th>comment_text</th>\n",
       "      <th>identity_hate</th>\n",
       "    </tr>\n",
       "  </thead>\n",
       "  <tbody>\n",
       "    <tr>\n",
       "      <th>23940</th>\n",
       "      <td>3f36f7edd8916a65</td>\n",
       "      <td>ITDTH im very sorry about everything and what ...</td>\n",
       "      <td>0</td>\n",
       "    </tr>\n",
       "    <tr>\n",
       "      <th>66365</th>\n",
       "      <td>b1911ed589dbfe3d</td>\n",
       "      <td>\"\\n\\n Enter the Wu-Tang copy edit request \\n\\n...</td>\n",
       "      <td>0</td>\n",
       "    </tr>\n",
       "  </tbody>\n",
       "</table>\n",
       "</div>"
      ],
      "text/plain": [
       "                     id                                       comment_text  \\\n",
       "23940  3f36f7edd8916a65  ITDTH im very sorry about everything and what ...   \n",
       "66365  b1911ed589dbfe3d  \"\\n\\n Enter the Wu-Tang copy edit request \\n\\n...   \n",
       "\n",
       "       identity_hate  \n",
       "23940              0  \n",
       "66365              0  "
      ]
     },
     "execution_count": 57,
     "metadata": {},
     "output_type": "execute_result"
    }
   ],
   "source": [
    "identityhate_comment_df.sample(2)"
   ]
  },
  {
   "cell_type": "code",
   "execution_count": 58,
   "id": "15711a5a",
   "metadata": {
    "execution": {
     "iopub.execute_input": "2024-05-15T06:16:30.248198Z",
     "iopub.status.busy": "2024-05-15T06:16:30.247434Z",
     "iopub.status.idle": "2024-05-15T06:16:30.258328Z",
     "shell.execute_reply": "2024-05-15T06:16:30.257298Z"
    },
    "papermill": {
     "duration": 0.055981,
     "end_time": "2024-05-15T06:16:30.260567",
     "exception": false,
     "start_time": "2024-05-15T06:16:30.204586",
     "status": "completed"
    },
    "tags": []
   },
   "outputs": [
    {
     "data": {
      "text/plain": [
       "identity_hate\n",
       "0    158166\n",
       "1      1405\n",
       "Name: count, dtype: int64"
      ]
     },
     "execution_count": 58,
     "metadata": {},
     "output_type": "execute_result"
    }
   ],
   "source": [
    "identityhate_comment_df['identity_hate'].value_counts()\n",
    "# There inbalance data"
   ]
  },
  {
   "cell_type": "code",
   "execution_count": 59,
   "id": "6dc59ee2",
   "metadata": {
    "execution": {
     "iopub.execute_input": "2024-05-15T06:16:30.353869Z",
     "iopub.status.busy": "2024-05-15T06:16:30.353343Z",
     "iopub.status.idle": "2024-05-15T06:16:30.360834Z",
     "shell.execute_reply": "2024-05-15T06:16:30.359989Z"
    },
    "papermill": {
     "duration": 0.060881,
     "end_time": "2024-05-15T06:16:30.363143",
     "exception": false,
     "start_time": "2024-05-15T06:16:30.302262",
     "status": "completed"
    },
    "tags": []
   },
   "outputs": [],
   "source": [
    "identityhate_comment_df_1 = identityhate_comment_df[identityhate_comment_df['identity_hate'] == 1].iloc[0:1405, :]"
   ]
  },
  {
   "cell_type": "code",
   "execution_count": 60,
   "id": "7c8fa4f3",
   "metadata": {
    "execution": {
     "iopub.execute_input": "2024-05-15T06:16:30.451431Z",
     "iopub.status.busy": "2024-05-15T06:16:30.450681Z",
     "iopub.status.idle": "2024-05-15T06:16:30.466298Z",
     "shell.execute_reply": "2024-05-15T06:16:30.465273Z"
    },
    "papermill": {
     "duration": 0.062959,
     "end_time": "2024-05-15T06:16:30.469061",
     "exception": false,
     "start_time": "2024-05-15T06:16:30.406102",
     "status": "completed"
    },
    "tags": []
   },
   "outputs": [],
   "source": [
    "identityhate_comment_df_0 = identityhate_comment_df[identityhate_comment_df['identity_hate'] == 0].iloc[0:1405, :]"
   ]
  },
  {
   "cell_type": "code",
   "execution_count": 61,
   "id": "5a534c96",
   "metadata": {
    "execution": {
     "iopub.execute_input": "2024-05-15T06:16:30.559192Z",
     "iopub.status.busy": "2024-05-15T06:16:30.558379Z",
     "iopub.status.idle": "2024-05-15T06:16:30.567361Z",
     "shell.execute_reply": "2024-05-15T06:16:30.566248Z"
    },
    "papermill": {
     "duration": 0.058694,
     "end_time": "2024-05-15T06:16:30.569787",
     "exception": false,
     "start_time": "2024-05-15T06:16:30.511093",
     "status": "completed"
    },
    "tags": []
   },
   "outputs": [
    {
     "data": {
      "text/plain": [
       "((1405, 3), (1405, 3), (2810, 3))"
      ]
     },
     "execution_count": 61,
     "metadata": {},
     "output_type": "execute_result"
    }
   ],
   "source": [
    "identityhate_comment_balanced = pd.concat([identityhate_comment_df_1, identityhate_comment_df_0])\n",
    "identityhate_comment_df_1.shape, identityhate_comment_df_0.shape, identityhate_comment_balanced.shape"
   ]
  },
  {
   "cell_type": "code",
   "execution_count": 62,
   "id": "cba14eba",
   "metadata": {
    "execution": {
     "iopub.execute_input": "2024-05-15T06:16:30.664470Z",
     "iopub.status.busy": "2024-05-15T06:16:30.663671Z",
     "iopub.status.idle": "2024-05-15T06:16:30.668355Z",
     "shell.execute_reply": "2024-05-15T06:16:30.667601Z"
    },
    "papermill": {
     "duration": 0.050897,
     "end_time": "2024-05-15T06:16:30.671112",
     "exception": false,
     "start_time": "2024-05-15T06:16:30.620215",
     "status": "completed"
    },
    "tags": []
   },
   "outputs": [],
   "source": [
    "# Repeating the same for insult hate comment"
   ]
  },
  {
   "cell_type": "code",
   "execution_count": 63,
   "id": "04f082fd",
   "metadata": {
    "execution": {
     "iopub.execute_input": "2024-05-15T06:16:30.756905Z",
     "iopub.status.busy": "2024-05-15T06:16:30.756489Z",
     "iopub.status.idle": "2024-05-15T06:16:30.766494Z",
     "shell.execute_reply": "2024-05-15T06:16:30.765429Z"
    },
    "papermill": {
     "duration": 0.055149,
     "end_time": "2024-05-15T06:16:30.768783",
     "exception": false,
     "start_time": "2024-05-15T06:16:30.713634",
     "status": "completed"
    },
    "tags": []
   },
   "outputs": [
    {
     "data": {
      "text/plain": [
       "insult\n",
       "0    151694\n",
       "1      7877\n",
       "Name: count, dtype: int64"
      ]
     },
     "execution_count": 63,
     "metadata": {},
     "output_type": "execute_result"
    }
   ],
   "source": [
    "insulting_comment_df['insult'].value_counts()"
   ]
  },
  {
   "cell_type": "code",
   "execution_count": 64,
   "id": "8fc694bc",
   "metadata": {
    "execution": {
     "iopub.execute_input": "2024-05-15T06:16:30.854127Z",
     "iopub.status.busy": "2024-05-15T06:16:30.852823Z",
     "iopub.status.idle": "2024-05-15T06:16:30.862687Z",
     "shell.execute_reply": "2024-05-15T06:16:30.861594Z"
    },
    "papermill": {
     "duration": 0.05544,
     "end_time": "2024-05-15T06:16:30.865200",
     "exception": false,
     "start_time": "2024-05-15T06:16:30.809760",
     "status": "completed"
    },
    "tags": []
   },
   "outputs": [],
   "source": [
    "insulting_comment_df_1 = insulting_comment_df[insulting_comment_df['insult'] == 1].iloc[0:7877, :]"
   ]
  },
  {
   "cell_type": "code",
   "execution_count": 65,
   "id": "46e63aa1",
   "metadata": {
    "execution": {
     "iopub.execute_input": "2024-05-15T06:16:30.949723Z",
     "iopub.status.busy": "2024-05-15T06:16:30.948716Z",
     "iopub.status.idle": "2024-05-15T06:16:30.967913Z",
     "shell.execute_reply": "2024-05-15T06:16:30.966889Z"
    },
    "papermill": {
     "duration": 0.064944,
     "end_time": "2024-05-15T06:16:30.970797",
     "exception": false,
     "start_time": "2024-05-15T06:16:30.905853",
     "status": "completed"
    },
    "tags": []
   },
   "outputs": [],
   "source": [
    "insulting_comment_df_0 = insulting_comment_df[insulting_comment_df['insult'] == 0].iloc[0:7877, :]"
   ]
  },
  {
   "cell_type": "code",
   "execution_count": 66,
   "id": "f5b4b981",
   "metadata": {
    "execution": {
     "iopub.execute_input": "2024-05-15T06:16:31.063739Z",
     "iopub.status.busy": "2024-05-15T06:16:31.063199Z",
     "iopub.status.idle": "2024-05-15T06:16:31.073972Z",
     "shell.execute_reply": "2024-05-15T06:16:31.072937Z"
    },
    "papermill": {
     "duration": 0.06431,
     "end_time": "2024-05-15T06:16:31.076229",
     "exception": false,
     "start_time": "2024-05-15T06:16:31.011919",
     "status": "completed"
    },
    "tags": []
   },
   "outputs": [
    {
     "data": {
      "text/plain": [
       "((7877, 3), (7877, 3), (15754, 3))"
      ]
     },
     "execution_count": 66,
     "metadata": {},
     "output_type": "execute_result"
    }
   ],
   "source": [
    "insulting_comment_balanced = pd.concat([insulting_comment_df_1, insulting_comment_df_0])\n",
    "insulting_comment_df_1.shape, insulting_comment_df_0.shape, insulting_comment_balanced.shape"
   ]
  },
  {
   "cell_type": "code",
   "execution_count": null,
   "id": "953a6b19",
   "metadata": {
    "papermill": {
     "duration": 0.044372,
     "end_time": "2024-05-15T06:16:31.164065",
     "exception": false,
     "start_time": "2024-05-15T06:16:31.119693",
     "status": "completed"
    },
    "tags": []
   },
   "outputs": [],
   "source": []
  },
  {
   "cell_type": "code",
   "execution_count": null,
   "id": "0600e80e",
   "metadata": {
    "papermill": {
     "duration": 0.040685,
     "end_time": "2024-05-15T06:16:31.246566",
     "exception": false,
     "start_time": "2024-05-15T06:16:31.205881",
     "status": "completed"
    },
    "tags": []
   },
   "outputs": [],
   "source": []
  },
  {
   "cell_type": "code",
   "execution_count": 67,
   "id": "87e06207",
   "metadata": {
    "execution": {
     "iopub.execute_input": "2024-05-15T06:16:31.332869Z",
     "iopub.status.busy": "2024-05-15T06:16:31.332133Z",
     "iopub.status.idle": "2024-05-15T06:16:31.336217Z",
     "shell.execute_reply": "2024-05-15T06:16:31.335417Z"
    },
    "papermill": {
     "duration": 0.05063,
     "end_time": "2024-05-15T06:16:31.338388",
     "exception": false,
     "start_time": "2024-05-15T06:16:31.287758",
     "status": "completed"
    },
    "tags": []
   },
   "outputs": [],
   "source": [
    "# Machine Learning"
   ]
  },
  {
   "cell_type": "code",
   "execution_count": 68,
   "id": "77057cc9",
   "metadata": {
    "execution": {
     "iopub.execute_input": "2024-05-15T06:16:31.422988Z",
     "iopub.status.busy": "2024-05-15T06:16:31.422197Z",
     "iopub.status.idle": "2024-05-15T06:16:31.630180Z",
     "shell.execute_reply": "2024-05-15T06:16:31.629135Z"
    },
    "papermill": {
     "duration": 0.253324,
     "end_time": "2024-05-15T06:16:31.632916",
     "exception": false,
     "start_time": "2024-05-15T06:16:31.379592",
     "status": "completed"
    },
    "tags": []
   },
   "outputs": [],
   "source": [
    "from sklearn import preprocessing\n",
    "from sklearn.feature_selection import SelectFromModel\n",
    "\n",
    "from sklearn.model_selection import train_test_split, KFold, cross_val_score\n",
    "from sklearn.metrics import f1_score, precision_score, recall_score, precision_recall_curve, fbeta_score, confusion_matrix\n",
    "from sklearn.metrics import roc_auc_score, roc_curve\n",
    "\n",
    "from sklearn.linear_model import LogisticRegression\n",
    "from sklearn.neighbors import KNeighborsClassifier\n",
    "from sklearn.naive_bayes import MultinomialNB, BernoulliNB\n",
    "from sklearn.svm import LinearSVC\n",
    "from sklearn.ensemble import RandomForestClassifier\n",
    "\n",
    "from sklearn.feature_extraction.text import CountVectorizer, TfidfVectorizer\n",
    "from nltk import ngrams, bigrams, trigrams"
   ]
  },
  {
   "cell_type": "code",
   "execution_count": 69,
   "id": "b09dad6e",
   "metadata": {
    "execution": {
     "iopub.execute_input": "2024-05-15T06:16:31.717072Z",
     "iopub.status.busy": "2024-05-15T06:16:31.716431Z",
     "iopub.status.idle": "2024-05-15T06:16:31.728689Z",
     "shell.execute_reply": "2024-05-15T06:16:31.727569Z"
    },
    "papermill": {
     "duration": 0.057417,
     "end_time": "2024-05-15T06:16:31.731209",
     "exception": false,
     "start_time": "2024-05-15T06:16:31.673792",
     "status": "completed"
    },
    "tags": []
   },
   "outputs": [],
   "source": [
    "def cv_tf_train_test(dataframe, label, vectorizer, ngram):\n",
    "    # split the data into X and y datasets\n",
    "    X = dataframe.comment_text\n",
    "    y = dataframe[label]\n",
    "    \n",
    "    # Split our data into training and test data\n",
    "    X_train, X_test, y_train, y_test = train_test_split(X, y, test_size = 0.3, random_state=50)\n",
    "    \n",
    "    # Using vectorize and removing stopwords\n",
    "    cv1 = vectorizer(ngram_range=(ngram), stop_words='english')\n",
    "    \n",
    "    # transforming x-traian and x-test\n",
    "    X_train_cv1 = cv1.fit_transform(X_train)\n",
    "    X_test_cv1 = cv1.transform(X_test)\n",
    "    \n",
    "    # Machine learning models\n",
    "    \n",
    "    ## Logistic regression\n",
    "    lr = LogisticRegression()\n",
    "    lr.fit(X_train_cv1, y_train)\n",
    "    \n",
    "    ## K-nearest neightbours\n",
    "    knn = KNeighborsClassifier(n_neighbors=5)\n",
    "    knn.fit(X_train_cv1, y_train)\n",
    "    \n",
    "    ## Naive Bayes\n",
    "    bnb = BernoulliNB()\n",
    "    bnb.fit(X_train_cv1, y_train)\n",
    "    \n",
    "    ## Multinomial Naice bayes\n",
    "    mnb = MultinomialNB()\n",
    "    mnb.fit(X_train_cv1, y_train)\n",
    "    \n",
    "    # Support vector machine\n",
    "    svm_model = LinearSVC()\n",
    "    svm_model.fit(X_train_cv1, y_train)\n",
    "    \n",
    "    # Random Forest\n",
    "    randomforest = RandomForestClassifier(n_estimators=100, random_state=50)\n",
    "    randomforest.fit(X_train_cv1, y_train)\n",
    "    \n",
    "    f1_score_data = {'F1 score': [f1_score(lr.predict(X_test_cv1), y_test), f1_score(knn.predict(X_test_cv1), y_test),\n",
    "                                 f1_score(bnb.predict(X_test_cv1), y_test), f1_score(mnb.predict(X_test_cv1), y_test),\n",
    "                                 f1_score(svm_model.predict(X_test_cv1), y_test), f1_score(randomforest.predict(X_test_cv1), y_test)]}\n",
    "    \n",
    "    # Saving f1 score results into a dataframe\n",
    "    df_f1 = pd.DataFrame(f1_score_data, index=['Log Regression', 'KNN','BernoulliNB','MultinomialNB','SVM', 'Random Forest'])\n",
    "    \n",
    "    return df_f1"
   ]
  },
  {
   "cell_type": "code",
   "execution_count": 70,
   "id": "f27be4de",
   "metadata": {
    "execution": {
     "iopub.execute_input": "2024-05-15T06:16:31.816541Z",
     "iopub.status.busy": "2024-05-15T06:16:31.815908Z",
     "iopub.status.idle": "2024-05-15T06:16:31.820067Z",
     "shell.execute_reply": "2024-05-15T06:16:31.818947Z"
    },
    "papermill": {
     "duration": 0.049469,
     "end_time": "2024-05-15T06:16:31.822259",
     "exception": false,
     "start_time": "2024-05-15T06:16:31.772790",
     "status": "completed"
    },
    "tags": []
   },
   "outputs": [],
   "source": [
    "# Evaluating model performance using evaluation metrics"
   ]
  },
  {
   "cell_type": "code",
   "execution_count": 71,
   "id": "923d2935",
   "metadata": {
    "execution": {
     "iopub.execute_input": "2024-05-15T06:16:31.906108Z",
     "iopub.status.busy": "2024-05-15T06:16:31.905704Z",
     "iopub.status.idle": "2024-05-15T06:16:35.339006Z",
     "shell.execute_reply": "2024-05-15T06:16:35.337791Z"
    },
    "papermill": {
     "duration": 3.478918,
     "end_time": "2024-05-15T06:16:35.341795",
     "exception": false,
     "start_time": "2024-05-15T06:16:31.862877",
     "status": "completed"
    },
    "tags": []
   },
   "outputs": [],
   "source": [
    "severe_toxic_comment_cv = cv_tf_train_test(severe_comment_balanced, 'severe_toxic', TfidfVectorizer, (1,1))"
   ]
  },
  {
   "cell_type": "code",
   "execution_count": 72,
   "id": "2829c70c",
   "metadata": {
    "execution": {
     "iopub.execute_input": "2024-05-15T06:16:35.446835Z",
     "iopub.status.busy": "2024-05-15T06:16:35.445303Z",
     "iopub.status.idle": "2024-05-15T06:16:35.457053Z",
     "shell.execute_reply": "2024-05-15T06:16:35.456063Z"
    },
    "papermill": {
     "duration": 0.069616,
     "end_time": "2024-05-15T06:16:35.459229",
     "exception": false,
     "start_time": "2024-05-15T06:16:35.389613",
     "status": "completed"
    },
    "tags": []
   },
   "outputs": [
    {
     "data": {
      "text/html": [
       "<div>\n",
       "<style scoped>\n",
       "    .dataframe tbody tr th:only-of-type {\n",
       "        vertical-align: middle;\n",
       "    }\n",
       "\n",
       "    .dataframe tbody tr th {\n",
       "        vertical-align: top;\n",
       "    }\n",
       "\n",
       "    .dataframe thead th {\n",
       "        text-align: right;\n",
       "    }\n",
       "</style>\n",
       "<table border=\"1\" class=\"dataframe\">\n",
       "  <thead>\n",
       "    <tr style=\"text-align: right;\">\n",
       "      <th></th>\n",
       "      <th>F1 score</th>\n",
       "    </tr>\n",
       "  </thead>\n",
       "  <tbody>\n",
       "    <tr>\n",
       "      <th>Log Regression</th>\n",
       "      <td>0.946004</td>\n",
       "    </tr>\n",
       "    <tr>\n",
       "      <th>KNN</th>\n",
       "      <td>0.861836</td>\n",
       "    </tr>\n",
       "    <tr>\n",
       "      <th>BernoulliNB</th>\n",
       "      <td>0.789700</td>\n",
       "    </tr>\n",
       "    <tr>\n",
       "      <th>MultinomialNB</th>\n",
       "      <td>0.930041</td>\n",
       "    </tr>\n",
       "    <tr>\n",
       "      <th>SVM</th>\n",
       "      <td>0.936763</td>\n",
       "    </tr>\n",
       "    <tr>\n",
       "      <th>Random Forest</th>\n",
       "      <td>0.923237</td>\n",
       "    </tr>\n",
       "  </tbody>\n",
       "</table>\n",
       "</div>"
      ],
      "text/plain": [
       "                F1 score\n",
       "Log Regression  0.946004\n",
       "KNN             0.861836\n",
       "BernoulliNB     0.789700\n",
       "MultinomialNB   0.930041\n",
       "SVM             0.936763\n",
       "Random Forest   0.923237"
      ]
     },
     "execution_count": 72,
     "metadata": {},
     "output_type": "execute_result"
    }
   ],
   "source": [
    "severe_toxic_comment_cv\n",
    "# LogRegression is the best estimator for severee toxic"
   ]
  },
  {
   "cell_type": "code",
   "execution_count": 73,
   "id": "f7e24473",
   "metadata": {
    "execution": {
     "iopub.execute_input": "2024-05-15T06:16:35.545625Z",
     "iopub.status.busy": "2024-05-15T06:16:35.544804Z",
     "iopub.status.idle": "2024-05-15T06:17:16.534258Z",
     "shell.execute_reply": "2024-05-15T06:17:16.533324Z"
    },
    "papermill": {
     "duration": 41.076547,
     "end_time": "2024-05-15T06:17:16.577499",
     "exception": false,
     "start_time": "2024-05-15T06:16:35.500952",
     "status": "completed"
    },
    "tags": []
   },
   "outputs": [
    {
     "data": {
      "text/html": [
       "<div>\n",
       "<style scoped>\n",
       "    .dataframe tbody tr th:only-of-type {\n",
       "        vertical-align: middle;\n",
       "    }\n",
       "\n",
       "    .dataframe tbody tr th {\n",
       "        vertical-align: top;\n",
       "    }\n",
       "\n",
       "    .dataframe thead th {\n",
       "        text-align: right;\n",
       "    }\n",
       "</style>\n",
       "<table border=\"1\" class=\"dataframe\">\n",
       "  <thead>\n",
       "    <tr style=\"text-align: right;\">\n",
       "      <th></th>\n",
       "      <th>F1 score (Obscene)</th>\n",
       "    </tr>\n",
       "  </thead>\n",
       "  <tbody>\n",
       "    <tr>\n",
       "      <th>Log Regression</th>\n",
       "      <td>0.916327</td>\n",
       "    </tr>\n",
       "    <tr>\n",
       "      <th>KNN</th>\n",
       "      <td>0.751443</td>\n",
       "    </tr>\n",
       "    <tr>\n",
       "      <th>BernoulliNB</th>\n",
       "      <td>0.786767</td>\n",
       "    </tr>\n",
       "    <tr>\n",
       "      <th>MultinomialNB</th>\n",
       "      <td>0.898175</td>\n",
       "    </tr>\n",
       "    <tr>\n",
       "      <th>SVM</th>\n",
       "      <td>0.930924</td>\n",
       "    </tr>\n",
       "    <tr>\n",
       "      <th>Random Forest</th>\n",
       "      <td>0.908311</td>\n",
       "    </tr>\n",
       "  </tbody>\n",
       "</table>\n",
       "</div>"
      ],
      "text/plain": [
       "                F1 score (Obscene)\n",
       "Log Regression            0.916327\n",
       "KNN                       0.751443\n",
       "BernoulliNB               0.786767\n",
       "MultinomialNB             0.898175\n",
       "SVM                       0.930924\n",
       "Random Forest             0.908311"
      ]
     },
     "execution_count": 73,
     "metadata": {},
     "output_type": "execute_result"
    }
   ],
   "source": [
    "obscene_toxic_comment_cv = cv_tf_train_test(obscene_comment_balanced, 'obscene', TfidfVectorizer, (1,1))\n",
    "obscene_toxic_comment_cv.rename(columns={'F1 score':'F1 score (Obscene)'}, inplace=True) # Change column name\n",
    "obscene_toxic_comment_cv\n",
    "# LogRegression is the best estimator for obscene toxic"
   ]
  },
  {
   "cell_type": "code",
   "execution_count": 74,
   "id": "8b540d9b",
   "metadata": {
    "execution": {
     "iopub.execute_input": "2024-05-15T06:17:16.663124Z",
     "iopub.status.busy": "2024-05-15T06:17:16.662391Z",
     "iopub.status.idle": "2024-05-15T06:17:17.450500Z",
     "shell.execute_reply": "2024-05-15T06:17:17.449601Z"
    },
    "papermill": {
     "duration": 0.83403,
     "end_time": "2024-05-15T06:17:17.452952",
     "exception": false,
     "start_time": "2024-05-15T06:17:16.618922",
     "status": "completed"
    },
    "tags": []
   },
   "outputs": [
    {
     "data": {
      "text/html": [
       "<div>\n",
       "<style scoped>\n",
       "    .dataframe tbody tr th:only-of-type {\n",
       "        vertical-align: middle;\n",
       "    }\n",
       "\n",
       "    .dataframe tbody tr th {\n",
       "        vertical-align: top;\n",
       "    }\n",
       "\n",
       "    .dataframe thead th {\n",
       "        text-align: right;\n",
       "    }\n",
       "</style>\n",
       "<table border=\"1\" class=\"dataframe\">\n",
       "  <thead>\n",
       "    <tr style=\"text-align: right;\">\n",
       "      <th></th>\n",
       "      <th>F1 score (threat)</th>\n",
       "    </tr>\n",
       "  </thead>\n",
       "  <tbody>\n",
       "    <tr>\n",
       "      <th>Log Regression</th>\n",
       "      <td>0.905660</td>\n",
       "    </tr>\n",
       "    <tr>\n",
       "      <th>KNN</th>\n",
       "      <td>0.865574</td>\n",
       "    </tr>\n",
       "    <tr>\n",
       "      <th>BernoulliNB</th>\n",
       "      <td>0.751381</td>\n",
       "    </tr>\n",
       "    <tr>\n",
       "      <th>MultinomialNB</th>\n",
       "      <td>0.912281</td>\n",
       "    </tr>\n",
       "    <tr>\n",
       "      <th>SVM</th>\n",
       "      <td>0.898876</td>\n",
       "    </tr>\n",
       "    <tr>\n",
       "      <th>Random Forest</th>\n",
       "      <td>0.904594</td>\n",
       "    </tr>\n",
       "  </tbody>\n",
       "</table>\n",
       "</div>"
      ],
      "text/plain": [
       "                F1 score (threat)\n",
       "Log Regression           0.905660\n",
       "KNN                      0.865574\n",
       "BernoulliNB              0.751381\n",
       "MultinomialNB            0.912281\n",
       "SVM                      0.898876\n",
       "Random Forest            0.904594"
      ]
     },
     "execution_count": 74,
     "metadata": {},
     "output_type": "execute_result"
    }
   ],
   "source": [
    "threetening_toxic_comment_cv = cv_tf_train_test(threetening_comment_balanced, 'threat', TfidfVectorizer, (1,1))\n",
    "threetening_toxic_comment_cv.rename(columns={'F1 score':'F1 score (threat)'}, inplace=True) # Change column name\n",
    "threetening_toxic_comment_cv\n",
    "# MultinomialNB is the best estimator for threeetening comment"
   ]
  },
  {
   "cell_type": "code",
   "execution_count": 75,
   "id": "797cc36d",
   "metadata": {
    "execution": {
     "iopub.execute_input": "2024-05-15T06:17:17.538712Z",
     "iopub.status.busy": "2024-05-15T06:17:17.538277Z",
     "iopub.status.idle": "2024-05-15T06:17:56.363595Z",
     "shell.execute_reply": "2024-05-15T06:17:56.362565Z"
    },
    "papermill": {
     "duration": 38.913948,
     "end_time": "2024-05-15T06:17:56.408864",
     "exception": false,
     "start_time": "2024-05-15T06:17:17.494916",
     "status": "completed"
    },
    "tags": []
   },
   "outputs": [
    {
     "data": {
      "text/html": [
       "<div>\n",
       "<style scoped>\n",
       "    .dataframe tbody tr th:only-of-type {\n",
       "        vertical-align: middle;\n",
       "    }\n",
       "\n",
       "    .dataframe tbody tr th {\n",
       "        vertical-align: top;\n",
       "    }\n",
       "\n",
       "    .dataframe thead th {\n",
       "        text-align: right;\n",
       "    }\n",
       "</style>\n",
       "<table border=\"1\" class=\"dataframe\">\n",
       "  <thead>\n",
       "    <tr style=\"text-align: right;\">\n",
       "      <th></th>\n",
       "      <th>F1 score (insult)</th>\n",
       "    </tr>\n",
       "  </thead>\n",
       "  <tbody>\n",
       "    <tr>\n",
       "      <th>Log Regression</th>\n",
       "      <td>0.905841</td>\n",
       "    </tr>\n",
       "    <tr>\n",
       "      <th>KNN</th>\n",
       "      <td>0.414705</td>\n",
       "    </tr>\n",
       "    <tr>\n",
       "      <th>BernoulliNB</th>\n",
       "      <td>0.790218</td>\n",
       "    </tr>\n",
       "    <tr>\n",
       "      <th>MultinomialNB</th>\n",
       "      <td>0.899832</td>\n",
       "    </tr>\n",
       "    <tr>\n",
       "      <th>SVM</th>\n",
       "      <td>0.908157</td>\n",
       "    </tr>\n",
       "    <tr>\n",
       "      <th>Random Forest</th>\n",
       "      <td>0.890742</td>\n",
       "    </tr>\n",
       "  </tbody>\n",
       "</table>\n",
       "</div>"
      ],
      "text/plain": [
       "                F1 score (insult)\n",
       "Log Regression           0.905841\n",
       "KNN                      0.414705\n",
       "BernoulliNB              0.790218\n",
       "MultinomialNB            0.899832\n",
       "SVM                      0.908157\n",
       "Random Forest            0.890742"
      ]
     },
     "execution_count": 75,
     "metadata": {},
     "output_type": "execute_result"
    }
   ],
   "source": [
    "insulting_toxic_comment_cv = cv_tf_train_test(insulting_comment_balanced, 'insult', TfidfVectorizer, (1,1))\n",
    "insulting_toxic_comment_cv.rename(columns={'F1 score':'F1 score (insult)'}, inplace=True) # Change column name\n",
    "insulting_toxic_comment_cv\n",
    "# SVM is the best estimator for insulting comment "
   ]
  },
  {
   "cell_type": "code",
   "execution_count": 76,
   "id": "c7356223",
   "metadata": {
    "execution": {
     "iopub.execute_input": "2024-05-15T06:17:56.494824Z",
     "iopub.status.busy": "2024-05-15T06:17:56.493678Z",
     "iopub.status.idle": "2024-05-15T06:17:59.457943Z",
     "shell.execute_reply": "2024-05-15T06:17:59.457133Z"
    },
    "papermill": {
     "duration": 3.009566,
     "end_time": "2024-05-15T06:17:59.460165",
     "exception": false,
     "start_time": "2024-05-15T06:17:56.450599",
     "status": "completed"
    },
    "tags": []
   },
   "outputs": [
    {
     "data": {
      "text/html": [
       "<div>\n",
       "<style scoped>\n",
       "    .dataframe tbody tr th:only-of-type {\n",
       "        vertical-align: middle;\n",
       "    }\n",
       "\n",
       "    .dataframe tbody tr th {\n",
       "        vertical-align: top;\n",
       "    }\n",
       "\n",
       "    .dataframe thead th {\n",
       "        text-align: right;\n",
       "    }\n",
       "</style>\n",
       "<table border=\"1\" class=\"dataframe\">\n",
       "  <thead>\n",
       "    <tr style=\"text-align: right;\">\n",
       "      <th></th>\n",
       "      <th>F1 score (identity_hate)</th>\n",
       "    </tr>\n",
       "  </thead>\n",
       "  <tbody>\n",
       "    <tr>\n",
       "      <th>Log Regression</th>\n",
       "      <td>0.907063</td>\n",
       "    </tr>\n",
       "    <tr>\n",
       "      <th>KNN</th>\n",
       "      <td>0.825766</td>\n",
       "    </tr>\n",
       "    <tr>\n",
       "      <th>BernoulliNB</th>\n",
       "      <td>0.774879</td>\n",
       "    </tr>\n",
       "    <tr>\n",
       "      <th>MultinomialNB</th>\n",
       "      <td>0.902238</td>\n",
       "    </tr>\n",
       "    <tr>\n",
       "      <th>SVM</th>\n",
       "      <td>0.900857</td>\n",
       "    </tr>\n",
       "    <tr>\n",
       "      <th>Random Forest</th>\n",
       "      <td>0.865604</td>\n",
       "    </tr>\n",
       "  </tbody>\n",
       "</table>\n",
       "</div>"
      ],
      "text/plain": [
       "                F1 score (identity_hate)\n",
       "Log Regression                  0.907063\n",
       "KNN                             0.825766\n",
       "BernoulliNB                     0.774879\n",
       "MultinomialNB                   0.902238\n",
       "SVM                             0.900857\n",
       "Random Forest                   0.865604"
      ]
     },
     "execution_count": 76,
     "metadata": {},
     "output_type": "execute_result"
    }
   ],
   "source": [
    "identityhate_toxic_comment_cv = cv_tf_train_test(identityhate_comment_balanced, 'identity_hate', TfidfVectorizer, (1,1))\n",
    "identityhate_toxic_comment_cv.rename(columns={'F1 score':'F1 score (identity_hate)'}, inplace=True) # Change column name\n",
    "identityhate_toxic_comment_cv\n",
    "# LogRegression is the best estimator for identity hate "
   ]
  },
  {
   "cell_type": "code",
   "execution_count": 77,
   "id": "6614b922",
   "metadata": {
    "execution": {
     "iopub.execute_input": "2024-05-15T06:17:59.547362Z",
     "iopub.status.busy": "2024-05-15T06:17:59.546441Z",
     "iopub.status.idle": "2024-05-15T06:17:59.558414Z",
     "shell.execute_reply": "2024-05-15T06:17:59.557261Z"
    },
    "papermill": {
     "duration": 0.058085,
     "end_time": "2024-05-15T06:17:59.560864",
     "exception": false,
     "start_time": "2024-05-15T06:17:59.502779",
     "status": "completed"
    },
    "tags": []
   },
   "outputs": [
    {
     "data": {
      "text/html": [
       "<div>\n",
       "<style scoped>\n",
       "    .dataframe tbody tr th:only-of-type {\n",
       "        vertical-align: middle;\n",
       "    }\n",
       "\n",
       "    .dataframe tbody tr th {\n",
       "        vertical-align: top;\n",
       "    }\n",
       "\n",
       "    .dataframe thead th {\n",
       "        text-align: right;\n",
       "    }\n",
       "</style>\n",
       "<table border=\"1\" class=\"dataframe\">\n",
       "  <thead>\n",
       "    <tr style=\"text-align: right;\">\n",
       "      <th></th>\n",
       "      <th>id</th>\n",
       "      <th>comment_text</th>\n",
       "      <th>toxic</th>\n",
       "    </tr>\n",
       "  </thead>\n",
       "  <tbody>\n",
       "    <tr>\n",
       "      <th>6</th>\n",
       "      <td>0002bcb3da6cb337</td>\n",
       "      <td>COCKSUCKER BEFORE YOU PISS AROUND ON MY WORK</td>\n",
       "      <td>1</td>\n",
       "    </tr>\n",
       "    <tr>\n",
       "      <th>12</th>\n",
       "      <td>0005c987bdfc9d4b</td>\n",
       "      <td>Hey... what is it..\\n@ | talk .\\nWhat is it......</td>\n",
       "      <td>1</td>\n",
       "    </tr>\n",
       "    <tr>\n",
       "      <th>16</th>\n",
       "      <td>0007e25b2121310b</td>\n",
       "      <td>Bye! \\n\\nDon't look, come or think of comming ...</td>\n",
       "      <td>1</td>\n",
       "    </tr>\n",
       "    <tr>\n",
       "      <th>42</th>\n",
       "      <td>001810bf8c45bf5f</td>\n",
       "      <td>You are gay or antisemmitian? \\n\\nArchangel WH...</td>\n",
       "      <td>1</td>\n",
       "    </tr>\n",
       "    <tr>\n",
       "      <th>43</th>\n",
       "      <td>00190820581d90ce</td>\n",
       "      <td>FUCK YOUR FILTHY MOTHER IN THE ASS, DRY!</td>\n",
       "      <td>1</td>\n",
       "    </tr>\n",
       "    <tr>\n",
       "      <th>...</th>\n",
       "      <td>...</td>\n",
       "      <td>...</td>\n",
       "      <td>...</td>\n",
       "    </tr>\n",
       "    <tr>\n",
       "      <th>5544</th>\n",
       "      <td>0ece9249484eddb9</td>\n",
       "      <td>Electronic Intifada is not an activist site! W...</td>\n",
       "      <td>0</td>\n",
       "    </tr>\n",
       "    <tr>\n",
       "      <th>5545</th>\n",
       "      <td>0ece971b58a3def7</td>\n",
       "      <td>New Genre \\n\\nThe New genre supernatural was u...</td>\n",
       "      <td>0</td>\n",
       "    </tr>\n",
       "    <tr>\n",
       "      <th>5547</th>\n",
       "      <td>0ecf7cde3391615b</td>\n",
       "      <td>— translated as The Second Vatican Council: A ...</td>\n",
       "      <td>0</td>\n",
       "    </tr>\n",
       "    <tr>\n",
       "      <th>5549</th>\n",
       "      <td>0ed11396420e8531</td>\n",
       "      <td>Purpose\\nThis RfC will be used to determine co...</td>\n",
       "      <td>0</td>\n",
       "    </tr>\n",
       "    <tr>\n",
       "      <th>5550</th>\n",
       "      <td>0ed1f43ff87d1a97</td>\n",
       "      <td>\"\\nOne need not be a graduate to be an alumnus...</td>\n",
       "      <td>0</td>\n",
       "    </tr>\n",
       "  </tbody>\n",
       "</table>\n",
       "<p>10000 rows × 3 columns</p>\n",
       "</div>"
      ],
      "text/plain": [
       "                    id                                       comment_text  \\\n",
       "6     0002bcb3da6cb337       COCKSUCKER BEFORE YOU PISS AROUND ON MY WORK   \n",
       "12    0005c987bdfc9d4b  Hey... what is it..\\n@ | talk .\\nWhat is it......   \n",
       "16    0007e25b2121310b  Bye! \\n\\nDon't look, come or think of comming ...   \n",
       "42    001810bf8c45bf5f  You are gay or antisemmitian? \\n\\nArchangel WH...   \n",
       "43    00190820581d90ce           FUCK YOUR FILTHY MOTHER IN THE ASS, DRY!   \n",
       "...                ...                                                ...   \n",
       "5544  0ece9249484eddb9  Electronic Intifada is not an activist site! W...   \n",
       "5545  0ece971b58a3def7  New Genre \\n\\nThe New genre supernatural was u...   \n",
       "5547  0ecf7cde3391615b  — translated as The Second Vatican Council: A ...   \n",
       "5549  0ed11396420e8531  Purpose\\nThis RfC will be used to determine co...   \n",
       "5550  0ed1f43ff87d1a97  \"\\nOne need not be a graduate to be an alumnus...   \n",
       "\n",
       "      toxic  \n",
       "6         1  \n",
       "12        1  \n",
       "16        1  \n",
       "42        1  \n",
       "43        1  \n",
       "...     ...  \n",
       "5544      0  \n",
       "5545      0  \n",
       "5547      0  \n",
       "5549      0  \n",
       "5550      0  \n",
       "\n",
       "[10000 rows x 3 columns]"
      ]
     },
     "execution_count": 77,
     "metadata": {},
     "output_type": "execute_result"
    }
   ],
   "source": [
    "toxic_comment_balanced"
   ]
  },
  {
   "cell_type": "code",
   "execution_count": 78,
   "id": "c5b83e72",
   "metadata": {
    "execution": {
     "iopub.execute_input": "2024-05-15T06:17:59.649936Z",
     "iopub.status.busy": "2024-05-15T06:17:59.648776Z",
     "iopub.status.idle": "2024-05-15T06:18:12.025433Z",
     "shell.execute_reply": "2024-05-15T06:18:12.024249Z"
    },
    "papermill": {
     "duration": 12.424119,
     "end_time": "2024-05-15T06:18:12.027892",
     "exception": false,
     "start_time": "2024-05-15T06:17:59.603773",
     "status": "completed"
    },
    "tags": []
   },
   "outputs": [
    {
     "data": {
      "text/plain": [
       "array([0, 1, 1, ..., 1, 0, 1])"
      ]
     },
     "execution_count": 78,
     "metadata": {},
     "output_type": "execute_result"
    }
   ],
   "source": [
    "X = toxic_comment_balanced.comment_text\n",
    "y = toxic_comment_balanced['toxic']\n",
    "\n",
    "X_train, X_test, y_train, y_test = train_test_split(X, y, test_size=0.3, random_state=42)\n",
    "\n",
    "tfv = TfidfVectorizer(ngram_range=(1,1), stop_words=['english'] )\n",
    "\n",
    "X_train_fit = tfv.fit_transform(X_train)\n",
    "X_test_fit = tfv.transform(X_test)\n",
    "\n",
    "randomforest = RandomForestClassifier(n_estimators=100, random_state=50)\n",
    "\n",
    "randomforest.fit(X_train_fit, y_train)\n",
    "randomforest.predict(X_test_fit)"
   ]
  },
  {
   "cell_type": "code",
   "execution_count": 79,
   "id": "ecd2a715",
   "metadata": {
    "execution": {
     "iopub.execute_input": "2024-05-15T06:18:12.115955Z",
     "iopub.status.busy": "2024-05-15T06:18:12.114641Z",
     "iopub.status.idle": "2024-05-15T06:18:12.120263Z",
     "shell.execute_reply": "2024-05-15T06:18:12.119376Z"
    },
    "papermill": {
     "duration": 0.052294,
     "end_time": "2024-05-15T06:18:12.122712",
     "exception": false,
     "start_time": "2024-05-15T06:18:12.070418",
     "status": "completed"
    },
    "tags": []
   },
   "outputs": [],
   "source": [
    "# Testing the model to check if the given text is toxic or not"
   ]
  },
  {
   "cell_type": "code",
   "execution_count": 80,
   "id": "7e6e14d4",
   "metadata": {
    "execution": {
     "iopub.execute_input": "2024-05-15T06:18:12.210446Z",
     "iopub.status.busy": "2024-05-15T06:18:12.209380Z",
     "iopub.status.idle": "2024-05-15T06:18:12.226929Z",
     "shell.execute_reply": "2024-05-15T06:18:12.225859Z"
    },
    "papermill": {
     "duration": 0.063955,
     "end_time": "2024-05-15T06:18:12.229469",
     "exception": false,
     "start_time": "2024-05-15T06:18:12.165514",
     "status": "completed"
    },
    "tags": []
   },
   "outputs": [
    {
     "data": {
      "text/plain": [
       "array([[0.42, 0.58]])"
      ]
     },
     "execution_count": 80,
     "metadata": {},
     "output_type": "execute_result"
    }
   ],
   "source": [
    "comment_1 = ['i killed an insect and ate it']\n",
    "comment_1_vec = tfv.transform(comment_1)\n",
    "randomforest.predict_proba(comment_1_vec)\n",
    "# As seen below the above comment as 58% toxic"
   ]
  },
  {
   "cell_type": "code",
   "execution_count": 81,
   "id": "6028abba",
   "metadata": {
    "execution": {
     "iopub.execute_input": "2024-05-15T06:18:12.317172Z",
     "iopub.status.busy": "2024-05-15T06:18:12.316042Z",
     "iopub.status.idle": "2024-05-15T06:18:12.333451Z",
     "shell.execute_reply": "2024-05-15T06:18:12.332310Z"
    },
    "papermill": {
     "duration": 0.06366,
     "end_time": "2024-05-15T06:18:12.335720",
     "exception": false,
     "start_time": "2024-05-15T06:18:12.272060",
     "status": "completed"
    },
    "tags": []
   },
   "outputs": [
    {
     "data": {
      "text/plain": [
       "array([[0.58, 0.42]])"
      ]
     },
     "execution_count": 81,
     "metadata": {},
     "output_type": "execute_result"
    }
   ],
   "source": [
    "comment_2 = ['iis this sentence a good one']\n",
    "comment_2_vec = tfv.transform(comment_2)\n",
    "randomforest.predict_proba(comment_2_vec)\n",
    "# As seen below the above comment as 58% not toxic"
   ]
  },
  {
   "cell_type": "code",
   "execution_count": 82,
   "id": "0f5fcae3",
   "metadata": {
    "execution": {
     "iopub.execute_input": "2024-05-15T06:18:12.423267Z",
     "iopub.status.busy": "2024-05-15T06:18:12.422623Z",
     "iopub.status.idle": "2024-05-15T06:18:12.438329Z",
     "shell.execute_reply": "2024-05-15T06:18:12.437585Z"
    },
    "papermill": {
     "duration": 0.06226,
     "end_time": "2024-05-15T06:18:12.440624",
     "exception": false,
     "start_time": "2024-05-15T06:18:12.378364",
     "status": "completed"
    },
    "tags": []
   },
   "outputs": [
    {
     "data": {
      "text/plain": [
       "array([[0.31, 0.69]])"
      ]
     },
     "execution_count": 82,
     "metadata": {},
     "output_type": "execute_result"
    }
   ],
   "source": [
    "comment_3 = ['truth will prevail']\n",
    "comment_3_vec = tfv.transform(comment_3)\n",
    "randomforest.predict_proba(comment_3_vec)\n",
    "# As seen below the above comment as 69% toxic"
   ]
  },
  {
   "cell_type": "markdown",
   "id": "f5e91cc9",
   "metadata": {
    "papermill": {
     "duration": 0.042924,
     "end_time": "2024-05-15T06:18:12.529729",
     "exception": false,
     "start_time": "2024-05-15T06:18:12.486805",
     "status": "completed"
    },
    "tags": []
   },
   "source": [
    "Kesimpulan : \n",
    "*     LogRegression is the best estimator for severee toxic\n",
    "*     LogRegression is the best estimator for obscene toxic\n",
    "*     MultinomialNB is the best estimator for threeetening comment\n",
    "*     SVM is the best estimator for insulting comment\n",
    "*     LogRegression is the best estimator for identity hate "
   ]
  },
  {
   "cell_type": "code",
   "execution_count": null,
   "id": "fee98b91",
   "metadata": {
    "papermill": {
     "duration": 0.04387,
     "end_time": "2024-05-15T06:18:12.616817",
     "exception": false,
     "start_time": "2024-05-15T06:18:12.572947",
     "status": "completed"
    },
    "tags": []
   },
   "outputs": [],
   "source": []
  },
  {
   "cell_type": "code",
   "execution_count": null,
   "id": "d9ddb40e",
   "metadata": {
    "papermill": {
     "duration": 0.044385,
     "end_time": "2024-05-15T06:18:12.705107",
     "exception": false,
     "start_time": "2024-05-15T06:18:12.660722",
     "status": "completed"
    },
    "tags": []
   },
   "outputs": [],
   "source": []
  },
  {
   "cell_type": "code",
   "execution_count": null,
   "id": "30b3fac4",
   "metadata": {
    "papermill": {
     "duration": 0.043658,
     "end_time": "2024-05-15T06:18:12.792750",
     "exception": false,
     "start_time": "2024-05-15T06:18:12.749092",
     "status": "completed"
    },
    "tags": []
   },
   "outputs": [],
   "source": []
  }
 ],
 "metadata": {
  "kaggle": {
   "accelerator": "none",
   "dataSources": [
    {
     "datasetId": 4921672,
     "sourceId": 8286408,
     "sourceType": "datasetVersion"
    }
   ],
   "dockerImageVersionId": 30698,
   "isGpuEnabled": false,
   "isInternetEnabled": false,
   "language": "python",
   "sourceType": "notebook"
  },
  "kernelspec": {
   "display_name": "Python 3",
   "language": "python",
   "name": "python3"
  },
  "language_info": {
   "codemirror_mode": {
    "name": "ipython",
    "version": 3
   },
   "file_extension": ".py",
   "mimetype": "text/x-python",
   "name": "python",
   "nbconvert_exporter": "python",
   "pygments_lexer": "ipython3",
   "version": "3.10.13"
  },
  "papermill": {
   "default_parameters": {},
   "duration": 297.521314,
   "end_time": "2024-05-15T06:18:13.761607",
   "environment_variables": {},
   "exception": null,
   "input_path": "__notebook__.ipynb",
   "output_path": "__notebook__.ipynb",
   "parameters": {},
   "start_time": "2024-05-15T06:13:16.240293",
   "version": "2.5.0"
  }
 },
 "nbformat": 4,
 "nbformat_minor": 5
}
