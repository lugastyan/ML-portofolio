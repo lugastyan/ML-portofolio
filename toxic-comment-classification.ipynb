{
 "cells": [
  {
   "cell_type": "code",
   "execution_count": 1,
   "id": "82306850",
   "metadata": {
    "_cell_guid": "b1076dfc-b9ad-4769-8c92-a6c4dae69d19",
    "_uuid": "8f2839f25d086af736a60e9eeb907d3b93b6e0e5",
    "execution": {
     "iopub.execute_input": "2024-05-15T06:24:08.267483Z",
     "iopub.status.busy": "2024-05-15T06:24:08.266291Z",
     "iopub.status.idle": "2024-05-15T06:24:10.680486Z",
     "shell.execute_reply": "2024-05-15T06:24:10.679194Z"
    },
    "papermill": {
     "duration": 2.448015,
     "end_time": "2024-05-15T06:24:10.683488",
     "exception": false,
     "start_time": "2024-05-15T06:24:08.235473",
     "status": "completed"
    },
    "tags": []
   },
   "outputs": [],
   "source": [
    "# Import Libraries\n",
    "import pandas as pd\n",
    "import numpy as np\n",
    "import seaborn as sns\n",
    "import matplotlib.pyplot as plt\n",
    "import warnings\n",
    "warnings.filterwarnings('ignore')"
   ]
  },
  {
   "cell_type": "code",
   "execution_count": null,
   "id": "5ef04075",
   "metadata": {
    "papermill": {
     "duration": 0.027056,
     "end_time": "2024-05-15T06:24:10.738834",
     "exception": false,
     "start_time": "2024-05-15T06:24:10.711778",
     "status": "completed"
    },
    "tags": []
   },
   "outputs": [],
   "source": []
  },
  {
   "cell_type": "code",
   "execution_count": 2,
   "id": "be37385c",
   "metadata": {
    "execution": {
     "iopub.execute_input": "2024-05-15T06:24:10.794420Z",
     "iopub.status.busy": "2024-05-15T06:24:10.793909Z",
     "iopub.status.idle": "2024-05-15T06:26:40.986903Z",
     "shell.execute_reply": "2024-05-15T06:26:40.985519Z"
    },
    "papermill": {
     "duration": 150.223738,
     "end_time": "2024-05-15T06:26:40.989607",
     "exception": false,
     "start_time": "2024-05-15T06:24:10.765869",
     "status": "completed"
    },
    "tags": []
   },
   "outputs": [
    {
     "name": "stdout",
     "output_type": "stream",
     "text": [
      "\u001b[33mWARNING: Retrying (Retry(total=4, connect=None, read=None, redirect=None, status=None)) after connection broken by 'NewConnectionError('<pip._vendor.urllib3.connection.HTTPSConnection object at 0x7b7483e84070>: Failed to establish a new connection: [Errno -3] Temporary failure in name resolution')': /simple/contractions/\u001b[0m\u001b[33m\r\n",
      "\u001b[0m\u001b[33mWARNING: Retrying (Retry(total=3, connect=None, read=None, redirect=None, status=None)) after connection broken by 'NewConnectionError('<pip._vendor.urllib3.connection.HTTPSConnection object at 0x7b7483e84370>: Failed to establish a new connection: [Errno -3] Temporary failure in name resolution')': /simple/contractions/\u001b[0m\u001b[33m\r\n",
      "\u001b[0m\u001b[33mWARNING: Retrying (Retry(total=2, connect=None, read=None, redirect=None, status=None)) after connection broken by 'NewConnectionError('<pip._vendor.urllib3.connection.HTTPSConnection object at 0x7b7483e84610>: Failed to establish a new connection: [Errno -3] Temporary failure in name resolution')': /simple/contractions/\u001b[0m\u001b[33m\r\n",
      "\u001b[0m\u001b[33mWARNING: Retrying (Retry(total=1, connect=None, read=None, redirect=None, status=None)) after connection broken by 'NewConnectionError('<pip._vendor.urllib3.connection.HTTPSConnection object at 0x7b7483e847c0>: Failed to establish a new connection: [Errno -3] Temporary failure in name resolution')': /simple/contractions/\u001b[0m\u001b[33m\r\n",
      "\u001b[0m\u001b[33mWARNING: Retrying (Retry(total=0, connect=None, read=None, redirect=None, status=None)) after connection broken by 'NewConnectionError('<pip._vendor.urllib3.connection.HTTPSConnection object at 0x7b7483e84970>: Failed to establish a new connection: [Errno -3] Temporary failure in name resolution')': /simple/contractions/\u001b[0m\u001b[33m\r\n",
      "\u001b[0m\u001b[31mERROR: Could not find a version that satisfies the requirement contractions (from versions: none)\u001b[0m\u001b[31m\r\n",
      "\u001b[0m\u001b[31mERROR: No matching distribution found for contractions\u001b[0m\u001b[31m\r\n",
      "\u001b[0mNote: you may need to restart the kernel to use updated packages.\n"
     ]
    }
   ],
   "source": [
    "pip install contractions"
   ]
  },
  {
   "cell_type": "code",
   "execution_count": 3,
   "id": "fef66122",
   "metadata": {
    "execution": {
     "iopub.execute_input": "2024-05-15T06:26:41.047631Z",
     "iopub.status.busy": "2024-05-15T06:26:41.047177Z",
     "iopub.status.idle": "2024-05-15T06:26:42.148323Z",
     "shell.execute_reply": "2024-05-15T06:26:42.147220Z"
    },
    "papermill": {
     "duration": 1.133835,
     "end_time": "2024-05-15T06:26:42.150925",
     "exception": false,
     "start_time": "2024-05-15T06:26:41.017090",
     "status": "completed"
    },
    "tags": []
   },
   "outputs": [],
   "source": [
    "import re\n",
    "import nltk\n",
    "import string\n",
    "\n",
    "from nltk.corpus import stopwords\n",
    "from nltk.stem import WordNetLemmatizer\n",
    "from nltk.tokenize import word_tokenize, sent_tokenize\n",
    "from nltk.stem import PorterStemmer, LancasterStemmer, SnowballStemmer\n"
   ]
  },
  {
   "cell_type": "code",
   "execution_count": 4,
   "id": "fcf122ff",
   "metadata": {
    "execution": {
     "iopub.execute_input": "2024-05-15T06:26:42.207047Z",
     "iopub.status.busy": "2024-05-15T06:26:42.206626Z",
     "iopub.status.idle": "2024-05-15T06:26:44.117538Z",
     "shell.execute_reply": "2024-05-15T06:26:44.116317Z"
    },
    "papermill": {
     "duration": 1.942601,
     "end_time": "2024-05-15T06:26:44.120635",
     "exception": false,
     "start_time": "2024-05-15T06:26:42.178034",
     "status": "completed"
    },
    "tags": []
   },
   "outputs": [],
   "source": [
    "df = pd.read_csv('/kaggle/input/toxiccommment/train.csv')"
   ]
  },
  {
   "cell_type": "raw",
   "id": "0af8e182",
   "metadata": {
    "papermill": {
     "duration": 0.027043,
     "end_time": "2024-05-15T06:26:44.176587",
     "exception": false,
     "start_time": "2024-05-15T06:26:44.149544",
     "status": "completed"
    },
    "tags": []
   },
   "source": [
    "df.head()"
   ]
  },
  {
   "cell_type": "code",
   "execution_count": 5,
   "id": "2ce66278",
   "metadata": {
    "execution": {
     "iopub.execute_input": "2024-05-15T06:26:44.232201Z",
     "iopub.status.busy": "2024-05-15T06:26:44.231779Z",
     "iopub.status.idle": "2024-05-15T06:26:44.257950Z",
     "shell.execute_reply": "2024-05-15T06:26:44.256828Z"
    },
    "papermill": {
     "duration": 0.056616,
     "end_time": "2024-05-15T06:26:44.260222",
     "exception": false,
     "start_time": "2024-05-15T06:26:44.203606",
     "status": "completed"
    },
    "tags": []
   },
   "outputs": [
    {
     "data": {
      "text/html": [
       "<div>\n",
       "<style scoped>\n",
       "    .dataframe tbody tr th:only-of-type {\n",
       "        vertical-align: middle;\n",
       "    }\n",
       "\n",
       "    .dataframe tbody tr th {\n",
       "        vertical-align: top;\n",
       "    }\n",
       "\n",
       "    .dataframe thead th {\n",
       "        text-align: right;\n",
       "    }\n",
       "</style>\n",
       "<table border=\"1\" class=\"dataframe\">\n",
       "  <thead>\n",
       "    <tr style=\"text-align: right;\">\n",
       "      <th></th>\n",
       "      <th>id</th>\n",
       "      <th>comment_text</th>\n",
       "      <th>toxic</th>\n",
       "      <th>severe_toxic</th>\n",
       "      <th>obscene</th>\n",
       "      <th>threat</th>\n",
       "      <th>insult</th>\n",
       "      <th>identity_hate</th>\n",
       "    </tr>\n",
       "  </thead>\n",
       "  <tbody>\n",
       "    <tr>\n",
       "      <th>0</th>\n",
       "      <td>0000997932d777bf</td>\n",
       "      <td>Explanation\\nWhy the edits made under my usern...</td>\n",
       "      <td>0</td>\n",
       "      <td>0</td>\n",
       "      <td>0</td>\n",
       "      <td>0</td>\n",
       "      <td>0</td>\n",
       "      <td>0</td>\n",
       "    </tr>\n",
       "    <tr>\n",
       "      <th>1</th>\n",
       "      <td>000103f0d9cfb60f</td>\n",
       "      <td>D'aww! He matches this background colour I'm s...</td>\n",
       "      <td>0</td>\n",
       "      <td>0</td>\n",
       "      <td>0</td>\n",
       "      <td>0</td>\n",
       "      <td>0</td>\n",
       "      <td>0</td>\n",
       "    </tr>\n",
       "    <tr>\n",
       "      <th>2</th>\n",
       "      <td>000113f07ec002fd</td>\n",
       "      <td>Hey man, I'm really not trying to edit war. It...</td>\n",
       "      <td>0</td>\n",
       "      <td>0</td>\n",
       "      <td>0</td>\n",
       "      <td>0</td>\n",
       "      <td>0</td>\n",
       "      <td>0</td>\n",
       "    </tr>\n",
       "    <tr>\n",
       "      <th>3</th>\n",
       "      <td>0001b41b1c6bb37e</td>\n",
       "      <td>\"\\nMore\\nI can't make any real suggestions on ...</td>\n",
       "      <td>0</td>\n",
       "      <td>0</td>\n",
       "      <td>0</td>\n",
       "      <td>0</td>\n",
       "      <td>0</td>\n",
       "      <td>0</td>\n",
       "    </tr>\n",
       "    <tr>\n",
       "      <th>4</th>\n",
       "      <td>0001d958c54c6e35</td>\n",
       "      <td>You, sir, are my hero. Any chance you remember...</td>\n",
       "      <td>0</td>\n",
       "      <td>0</td>\n",
       "      <td>0</td>\n",
       "      <td>0</td>\n",
       "      <td>0</td>\n",
       "      <td>0</td>\n",
       "    </tr>\n",
       "  </tbody>\n",
       "</table>\n",
       "</div>"
      ],
      "text/plain": [
       "                 id                                       comment_text  toxic  \\\n",
       "0  0000997932d777bf  Explanation\\nWhy the edits made under my usern...      0   \n",
       "1  000103f0d9cfb60f  D'aww! He matches this background colour I'm s...      0   \n",
       "2  000113f07ec002fd  Hey man, I'm really not trying to edit war. It...      0   \n",
       "3  0001b41b1c6bb37e  \"\\nMore\\nI can't make any real suggestions on ...      0   \n",
       "4  0001d958c54c6e35  You, sir, are my hero. Any chance you remember...      0   \n",
       "\n",
       "   severe_toxic  obscene  threat  insult  identity_hate  \n",
       "0             0        0       0       0              0  \n",
       "1             0        0       0       0              0  \n",
       "2             0        0       0       0              0  \n",
       "3             0        0       0       0              0  \n",
       "4             0        0       0       0              0  "
      ]
     },
     "execution_count": 5,
     "metadata": {},
     "output_type": "execute_result"
    }
   ],
   "source": [
    "df.head()"
   ]
  },
  {
   "cell_type": "code",
   "execution_count": 6,
   "id": "37895923",
   "metadata": {
    "execution": {
     "iopub.execute_input": "2024-05-15T06:26:44.317090Z",
     "iopub.status.busy": "2024-05-15T06:26:44.316713Z",
     "iopub.status.idle": "2024-05-15T06:26:44.384298Z",
     "shell.execute_reply": "2024-05-15T06:26:44.383141Z"
    },
    "papermill": {
     "duration": 0.099537,
     "end_time": "2024-05-15T06:26:44.387217",
     "exception": false,
     "start_time": "2024-05-15T06:26:44.287680",
     "status": "completed"
    },
    "tags": []
   },
   "outputs": [
    {
     "name": "stdout",
     "output_type": "stream",
     "text": [
      "<class 'pandas.core.frame.DataFrame'>\n",
      "RangeIndex: 159571 entries, 0 to 159570\n",
      "Data columns (total 8 columns):\n",
      " #   Column         Non-Null Count   Dtype \n",
      "---  ------         --------------   ----- \n",
      " 0   id             159571 non-null  object\n",
      " 1   comment_text   159571 non-null  object\n",
      " 2   toxic          159571 non-null  int64 \n",
      " 3   severe_toxic   159571 non-null  int64 \n",
      " 4   obscene        159571 non-null  int64 \n",
      " 5   threat         159571 non-null  int64 \n",
      " 6   insult         159571 non-null  int64 \n",
      " 7   identity_hate  159571 non-null  int64 \n",
      "dtypes: int64(6), object(2)\n",
      "memory usage: 9.7+ MB\n"
     ]
    }
   ],
   "source": [
    "df.info()"
   ]
  },
  {
   "cell_type": "code",
   "execution_count": 7,
   "id": "311c246e",
   "metadata": {
    "execution": {
     "iopub.execute_input": "2024-05-15T06:26:44.445472Z",
     "iopub.status.busy": "2024-05-15T06:26:44.445058Z",
     "iopub.status.idle": "2024-05-15T06:26:44.499349Z",
     "shell.execute_reply": "2024-05-15T06:26:44.497533Z"
    },
    "papermill": {
     "duration": 0.08677,
     "end_time": "2024-05-15T06:26:44.502720",
     "exception": false,
     "start_time": "2024-05-15T06:26:44.415950",
     "status": "completed"
    },
    "tags": []
   },
   "outputs": [
    {
     "data": {
      "text/plain": [
       "id               0\n",
       "comment_text     0\n",
       "toxic            0\n",
       "severe_toxic     0\n",
       "obscene          0\n",
       "threat           0\n",
       "insult           0\n",
       "identity_hate    0\n",
       "dtype: int64"
      ]
     },
     "execution_count": 7,
     "metadata": {},
     "output_type": "execute_result"
    }
   ],
   "source": [
    "df.isnull().sum()"
   ]
  },
  {
   "cell_type": "code",
   "execution_count": 8,
   "id": "62039c05",
   "metadata": {
    "execution": {
     "iopub.execute_input": "2024-05-15T06:26:44.626823Z",
     "iopub.status.busy": "2024-05-15T06:26:44.626411Z",
     "iopub.status.idle": "2024-05-15T06:26:44.644483Z",
     "shell.execute_reply": "2024-05-15T06:26:44.643241Z"
    },
    "papermill": {
     "duration": 0.050493,
     "end_time": "2024-05-15T06:26:44.647392",
     "exception": false,
     "start_time": "2024-05-15T06:26:44.596899",
     "status": "completed"
    },
    "tags": []
   },
   "outputs": [
    {
     "data": {
      "text/plain": [
       "(array([0, 1]),\n",
       " array([0, 1]),\n",
       " array([0, 1]),\n",
       " array([0, 1]),\n",
       " array([0, 1]),\n",
       " array([0, 1]))"
      ]
     },
     "execution_count": 8,
     "metadata": {},
     "output_type": "execute_result"
    }
   ],
   "source": [
    "df['toxic'].unique(), df['severe_toxic'].unique(),df['obscene'].unique(), df['threat'].unique(), df['insult'].unique(), df['identity_hate'].unique(), "
   ]
  },
  {
   "cell_type": "code",
   "execution_count": 9,
   "id": "36f1f1eb",
   "metadata": {
    "execution": {
     "iopub.execute_input": "2024-05-15T06:26:44.710100Z",
     "iopub.status.busy": "2024-05-15T06:26:44.709604Z",
     "iopub.status.idle": "2024-05-15T06:26:44.723565Z",
     "shell.execute_reply": "2024-05-15T06:26:44.722359Z"
    },
    "papermill": {
     "duration": 0.051261,
     "end_time": "2024-05-15T06:26:44.727004",
     "exception": false,
     "start_time": "2024-05-15T06:26:44.675743",
     "status": "completed"
    },
    "tags": []
   },
   "outputs": [
    {
     "data": {
      "text/plain": [
       "toxic\n",
       "0    144277\n",
       "1     15294\n",
       "Name: count, dtype: int64"
      ]
     },
     "execution_count": 9,
     "metadata": {},
     "output_type": "execute_result"
    }
   ],
   "source": [
    "df['toxic'].value_counts()"
   ]
  },
  {
   "cell_type": "code",
   "execution_count": 10,
   "id": "3a42e928",
   "metadata": {
    "execution": {
     "iopub.execute_input": "2024-05-15T06:26:44.799826Z",
     "iopub.status.busy": "2024-05-15T06:26:44.798762Z",
     "iopub.status.idle": "2024-05-15T06:26:44.809137Z",
     "shell.execute_reply": "2024-05-15T06:26:44.807925Z"
    },
    "papermill": {
     "duration": 0.046829,
     "end_time": "2024-05-15T06:26:44.811753",
     "exception": false,
     "start_time": "2024-05-15T06:26:44.764924",
     "status": "completed"
    },
    "tags": []
   },
   "outputs": [
    {
     "data": {
      "text/plain": [
       "severe_toxic\n",
       "0    157976\n",
       "1      1595\n",
       "Name: count, dtype: int64"
      ]
     },
     "execution_count": 10,
     "metadata": {},
     "output_type": "execute_result"
    }
   ],
   "source": [
    "df['severe_toxic'].value_counts()"
   ]
  },
  {
   "cell_type": "code",
   "execution_count": 11,
   "id": "87f53df7",
   "metadata": {
    "execution": {
     "iopub.execute_input": "2024-05-15T06:26:44.870704Z",
     "iopub.status.busy": "2024-05-15T06:26:44.870255Z",
     "iopub.status.idle": "2024-05-15T06:26:44.880874Z",
     "shell.execute_reply": "2024-05-15T06:26:44.879714Z"
    },
    "papermill": {
     "duration": 0.042839,
     "end_time": "2024-05-15T06:26:44.883287",
     "exception": false,
     "start_time": "2024-05-15T06:26:44.840448",
     "status": "completed"
    },
    "tags": []
   },
   "outputs": [
    {
     "data": {
      "text/plain": [
       "obscene\n",
       "0    151122\n",
       "1      8449\n",
       "Name: count, dtype: int64"
      ]
     },
     "execution_count": 11,
     "metadata": {},
     "output_type": "execute_result"
    }
   ],
   "source": [
    "df['obscene'].value_counts()"
   ]
  },
  {
   "cell_type": "code",
   "execution_count": 12,
   "id": "0a6bdaea",
   "metadata": {
    "execution": {
     "iopub.execute_input": "2024-05-15T06:26:44.942049Z",
     "iopub.status.busy": "2024-05-15T06:26:44.941635Z",
     "iopub.status.idle": "2024-05-15T06:26:44.952747Z",
     "shell.execute_reply": "2024-05-15T06:26:44.951666Z"
    },
    "papermill": {
     "duration": 0.043163,
     "end_time": "2024-05-15T06:26:44.955041",
     "exception": false,
     "start_time": "2024-05-15T06:26:44.911878",
     "status": "completed"
    },
    "tags": []
   },
   "outputs": [
    {
     "data": {
      "text/plain": [
       "threat\n",
       "0    159093\n",
       "1       478\n",
       "Name: count, dtype: int64"
      ]
     },
     "execution_count": 12,
     "metadata": {},
     "output_type": "execute_result"
    }
   ],
   "source": [
    "df['threat'].value_counts()"
   ]
  },
  {
   "cell_type": "code",
   "execution_count": 13,
   "id": "4bbb1c55",
   "metadata": {
    "execution": {
     "iopub.execute_input": "2024-05-15T06:26:45.015102Z",
     "iopub.status.busy": "2024-05-15T06:26:45.014650Z",
     "iopub.status.idle": "2024-05-15T06:26:45.027363Z",
     "shell.execute_reply": "2024-05-15T06:26:45.026126Z"
    },
    "papermill": {
     "duration": 0.045799,
     "end_time": "2024-05-15T06:26:45.029571",
     "exception": false,
     "start_time": "2024-05-15T06:26:44.983772",
     "status": "completed"
    },
    "tags": []
   },
   "outputs": [
    {
     "data": {
      "text/plain": [
       "(insult\n",
       " 0    151694\n",
       " 1      7877\n",
       " Name: count, dtype: int64,\n",
       " identity_hate\n",
       " 0    158166\n",
       " 1      1405\n",
       " Name: count, dtype: int64)"
      ]
     },
     "execution_count": 13,
     "metadata": {},
     "output_type": "execute_result"
    }
   ],
   "source": [
    "df['insult'].value_counts(), df['identity_hate'].value_counts()"
   ]
  },
  {
   "cell_type": "code",
   "execution_count": 14,
   "id": "c6d37c42",
   "metadata": {
    "execution": {
     "iopub.execute_input": "2024-05-15T06:26:45.089501Z",
     "iopub.status.busy": "2024-05-15T06:26:45.089106Z",
     "iopub.status.idle": "2024-05-15T06:26:45.093669Z",
     "shell.execute_reply": "2024-05-15T06:26:45.092436Z"
    },
    "papermill": {
     "duration": 0.037315,
     "end_time": "2024-05-15T06:26:45.096026",
     "exception": false,
     "start_time": "2024-05-15T06:26:45.058711",
     "status": "completed"
    },
    "tags": []
   },
   "outputs": [],
   "source": [
    "#Data Visualization"
   ]
  },
  {
   "cell_type": "code",
   "execution_count": 15,
   "id": "962273b0",
   "metadata": {
    "execution": {
     "iopub.execute_input": "2024-05-15T06:26:45.156787Z",
     "iopub.status.busy": "2024-05-15T06:26:45.156349Z",
     "iopub.status.idle": "2024-05-15T06:26:45.164749Z",
     "shell.execute_reply": "2024-05-15T06:26:45.163607Z"
    },
    "papermill": {
     "duration": 0.042284,
     "end_time": "2024-05-15T06:26:45.167391",
     "exception": false,
     "start_time": "2024-05-15T06:26:45.125107",
     "status": "completed"
    },
    "tags": []
   },
   "outputs": [],
   "source": [
    "sentencetype_graph = df.iloc[:,2:].sum()"
   ]
  },
  {
   "cell_type": "code",
   "execution_count": 16,
   "id": "9fa4bf13",
   "metadata": {
    "execution": {
     "iopub.execute_input": "2024-05-15T06:26:45.227670Z",
     "iopub.status.busy": "2024-05-15T06:26:45.227234Z",
     "iopub.status.idle": "2024-05-15T06:26:45.235566Z",
     "shell.execute_reply": "2024-05-15T06:26:45.234427Z"
    },
    "papermill": {
     "duration": 0.041065,
     "end_time": "2024-05-15T06:26:45.237859",
     "exception": false,
     "start_time": "2024-05-15T06:26:45.196794",
     "status": "completed"
    },
    "tags": []
   },
   "outputs": [
    {
     "data": {
      "text/plain": [
       "toxic            15294\n",
       "severe_toxic      1595\n",
       "obscene           8449\n",
       "threat             478\n",
       "insult            7877\n",
       "identity_hate     1405\n",
       "dtype: int64"
      ]
     },
     "execution_count": 16,
     "metadata": {},
     "output_type": "execute_result"
    }
   ],
   "source": [
    "sentencetype_graph"
   ]
  },
  {
   "cell_type": "code",
   "execution_count": 17,
   "id": "ae2a78b6",
   "metadata": {
    "execution": {
     "iopub.execute_input": "2024-05-15T06:26:45.297880Z",
     "iopub.status.busy": "2024-05-15T06:26:45.297430Z",
     "iopub.status.idle": "2024-05-15T06:26:45.829605Z",
     "shell.execute_reply": "2024-05-15T06:26:45.828500Z"
    },
    "papermill": {
     "duration": 0.565254,
     "end_time": "2024-05-15T06:26:45.832294",
     "exception": false,
     "start_time": "2024-05-15T06:26:45.267040",
     "status": "completed"
    },
    "tags": []
   },
   "outputs": [
    {
     "data": {
      "text/plain": [
       "[Text(0, 0, 'toxic'),\n",
       " Text(1, 0, 'obscene'),\n",
       " Text(2, 0, 'insult'),\n",
       " Text(3, 0, 'severe_toxic'),\n",
       " Text(4, 0, 'identity_hate'),\n",
       " Text(5, 0, 'threat')]"
      ]
     },
     "execution_count": 17,
     "metadata": {},
     "output_type": "execute_result"
    },
    {
     "data": {
      "image/png": "[encoded data removed]",
      "text/plain": [
       "<Figure size 1500x800 with 1 Axes>"
      ]
     },
     "metadata": {},
     "output_type": "display_data"
    }
   ],
   "source": [
    "sns.set_style('darkgrid')\n",
    "ls=sentencetype_graph.sort_values(ascending=False)\n",
    "\n",
    "plt.figure(figsize=(15,8))\n",
    "\n",
    "temp = sns.barplot(x=ls.index, y=ls.values, alpha=0.8)\n",
    "\n",
    "plt.title('Sentence Type')\n",
    "\n",
    "plt.ylabel('COUNT', fontsize=14)\n",
    "\n",
    "plt.xlabel('All Sentence Type', fontsize = 15)\n",
    "\n",
    "temp.set_xticklabels(rotation=90, labels=ls.index, fontsize=10)"
   ]
  },
  {
   "cell_type": "code",
   "execution_count": 18,
   "id": "0f1c4293",
   "metadata": {
    "execution": {
     "iopub.execute_input": "2024-05-15T06:26:45.896167Z",
     "iopub.status.busy": "2024-05-15T06:26:45.895106Z",
     "iopub.status.idle": "2024-05-15T06:26:45.899488Z",
     "shell.execute_reply": "2024-05-15T06:26:45.898647Z"
    },
    "papermill": {
     "duration": 0.038812,
     "end_time": "2024-05-15T06:26:45.901604",
     "exception": false,
     "start_time": "2024-05-15T06:26:45.862792",
     "status": "completed"
    },
    "tags": []
   },
   "outputs": [],
   "source": [
    "# there many toxic sentences followed by obscene sentences and very few thretening sentences as seen above "
   ]
  },
  {
   "cell_type": "raw",
   "id": "3044474c",
   "metadata": {
    "papermill": {
     "duration": 0.029382,
     "end_time": "2024-05-15T06:26:45.961163",
     "exception": false,
     "start_time": "2024-05-15T06:26:45.931781",
     "status": "completed"
    },
    "tags": []
   },
   "source": [
    "Text Pre-processing"
   ]
  },
  {
   "cell_type": "code",
   "execution_count": 19,
   "id": "59e27aac",
   "metadata": {
    "execution": {
     "iopub.execute_input": "2024-05-15T06:26:46.024030Z",
     "iopub.status.busy": "2024-05-15T06:26:46.022579Z",
     "iopub.status.idle": "2024-05-15T06:26:46.028168Z",
     "shell.execute_reply": "2024-05-15T06:26:46.026706Z"
    },
    "papermill": {
     "duration": 0.039685,
     "end_time": "2024-05-15T06:26:46.030636",
     "exception": false,
     "start_time": "2024-05-15T06:26:45.990951",
     "status": "completed"
    },
    "tags": []
   },
   "outputs": [],
   "source": [
    "import re\n",
    "import string"
   ]
  },
  {
   "cell_type": "code",
   "execution_count": 20,
   "id": "3742356f",
   "metadata": {
    "execution": {
     "iopub.execute_input": "2024-05-15T06:26:46.092721Z",
     "iopub.status.busy": "2024-05-15T06:26:46.091501Z",
     "iopub.status.idle": "2024-05-15T06:27:11.243929Z",
     "shell.execute_reply": "2024-05-15T06:27:11.242785Z"
    },
    "papermill": {
     "duration": 25.186776,
     "end_time": "2024-05-15T06:27:11.247229",
     "exception": false,
     "start_time": "2024-05-15T06:26:46.060453",
     "status": "completed"
    },
    "tags": []
   },
   "outputs": [],
   "source": [
    "# Removing special character\n",
    "alphanumeric = lambda x: re.sub('\\w*\\d\\w*', ' ',x)\n",
    "punc_lower = lambda x: re.sub('[%s]' % re.escape(string.punctuation), ' ', x.lower())\n",
    "remove_n = lambda x:re.sub('\\n', ' ', x)\n",
    "remove_non_ascii = lambda x:re.sub(r'[^\\x00-\\x7f]', r' ', x)\n",
    "dd = df['comment_text'].map(alphanumeric).map(punc_lower).map(remove_n).map(remove_non_ascii)"
   ]
  },
  {
   "cell_type": "markdown",
   "id": "428fdfa4",
   "metadata": {
    "papermill": {
     "duration": 0.029612,
     "end_time": "2024-05-15T06:27:11.308885",
     "exception": false,
     "start_time": "2024-05-15T06:27:11.279273",
     "status": "completed"
    },
    "tags": []
   },
   "source": []
  },
  {
   "cell_type": "code",
   "execution_count": 21,
   "id": "e7c7486d",
   "metadata": {
    "execution": {
     "iopub.execute_input": "2024-05-15T06:27:11.372351Z",
     "iopub.status.busy": "2024-05-15T06:27:11.371934Z",
     "iopub.status.idle": "2024-05-15T06:27:11.393478Z",
     "shell.execute_reply": "2024-05-15T06:27:11.392278Z"
    },
    "papermill": {
     "duration": 0.057372,
     "end_time": "2024-05-15T06:27:11.395950",
     "exception": false,
     "start_time": "2024-05-15T06:27:11.338578",
     "status": "completed"
    },
    "tags": []
   },
   "outputs": [
    {
     "data": {
      "text/html": [
       "<div>\n",
       "<style scoped>\n",
       "    .dataframe tbody tr th:only-of-type {\n",
       "        vertical-align: middle;\n",
       "    }\n",
       "\n",
       "    .dataframe tbody tr th {\n",
       "        vertical-align: top;\n",
       "    }\n",
       "\n",
       "    .dataframe thead th {\n",
       "        text-align: right;\n",
       "    }\n",
       "</style>\n",
       "<table border=\"1\" class=\"dataframe\">\n",
       "  <thead>\n",
       "    <tr style=\"text-align: right;\">\n",
       "      <th></th>\n",
       "      <th>id</th>\n",
       "      <th>comment_text</th>\n",
       "      <th>insult</th>\n",
       "    </tr>\n",
       "  </thead>\n",
       "  <tbody>\n",
       "    <tr>\n",
       "      <th>0</th>\n",
       "      <td>0000997932d777bf</td>\n",
       "      <td>Explanation\\nWhy the edits made under my usern...</td>\n",
       "      <td>0</td>\n",
       "    </tr>\n",
       "    <tr>\n",
       "      <th>1</th>\n",
       "      <td>000103f0d9cfb60f</td>\n",
       "      <td>D'aww! He matches this background colour I'm s...</td>\n",
       "      <td>0</td>\n",
       "    </tr>\n",
       "  </tbody>\n",
       "</table>\n",
       "</div>"
      ],
      "text/plain": [
       "                 id                                       comment_text  insult\n",
       "0  0000997932d777bf  Explanation\\nWhy the edits made under my usern...       0\n",
       "1  000103f0d9cfb60f  D'aww! He matches this background colour I'm s...       0"
      ]
     },
     "execution_count": 21,
     "metadata": {},
     "output_type": "execute_result"
    }
   ],
   "source": [
    "insulting_comment_df = df.loc[:,['id','comment_text','insult']]\n",
    "insulting_comment_df.head(2)"
   ]
  },
  {
   "cell_type": "code",
   "execution_count": 22,
   "id": "f2c40fe4",
   "metadata": {
    "execution": {
     "iopub.execute_input": "2024-05-15T06:27:11.458500Z",
     "iopub.status.busy": "2024-05-15T06:27:11.457302Z",
     "iopub.status.idle": "2024-05-15T06:27:11.487221Z",
     "shell.execute_reply": "2024-05-15T06:27:11.485929Z"
    },
    "papermill": {
     "duration": 0.063539,
     "end_time": "2024-05-15T06:27:11.489653",
     "exception": false,
     "start_time": "2024-05-15T06:27:11.426114",
     "status": "completed"
    },
    "tags": []
   },
   "outputs": [
    {
     "data": {
      "text/html": [
       "<div>\n",
       "<style scoped>\n",
       "    .dataframe tbody tr th:only-of-type {\n",
       "        vertical-align: middle;\n",
       "    }\n",
       "\n",
       "    .dataframe tbody tr th {\n",
       "        vertical-align: top;\n",
       "    }\n",
       "\n",
       "    .dataframe thead th {\n",
       "        text-align: right;\n",
       "    }\n",
       "</style>\n",
       "<table border=\"1\" class=\"dataframe\">\n",
       "  <thead>\n",
       "    <tr style=\"text-align: right;\">\n",
       "      <th></th>\n",
       "      <th>id</th>\n",
       "      <th>comment_text</th>\n",
       "      <th>identity_hate</th>\n",
       "    </tr>\n",
       "  </thead>\n",
       "  <tbody>\n",
       "    <tr>\n",
       "      <th>141696</th>\n",
       "      <td>f618c38512b917dd</td>\n",
       "      <td>The dangling semi occured in 1997, The driver,...</td>\n",
       "      <td>0</td>\n",
       "    </tr>\n",
       "    <tr>\n",
       "      <th>51002</th>\n",
       "      <td>88655df2e5ab9579</td>\n",
       "      <td>Actually ...  \\n\\nThis entire article needs re...</td>\n",
       "      <td>0</td>\n",
       "    </tr>\n",
       "  </tbody>\n",
       "</table>\n",
       "</div>"
      ],
      "text/plain": [
       "                      id                                       comment_text  \\\n",
       "141696  f618c38512b917dd  The dangling semi occured in 1997, The driver,...   \n",
       "51002   88655df2e5ab9579  Actually ...  \\n\\nThis entire article needs re...   \n",
       "\n",
       "        identity_hate  \n",
       "141696              0  \n",
       "51002               0  "
      ]
     },
     "execution_count": 22,
     "metadata": {},
     "output_type": "execute_result"
    }
   ],
   "source": [
    "identityhate_comment_df=df.loc[:,['id','comment_text','identity_hate']]\n",
    "identityhate_comment_df.sample(2)"
   ]
  },
  {
   "cell_type": "code",
   "execution_count": 23,
   "id": "5026ba2b",
   "metadata": {
    "execution": {
     "iopub.execute_input": "2024-05-15T06:27:11.552841Z",
     "iopub.status.busy": "2024-05-15T06:27:11.552436Z",
     "iopub.status.idle": "2024-05-15T06:27:11.579366Z",
     "shell.execute_reply": "2024-05-15T06:27:11.578258Z"
    },
    "papermill": {
     "duration": 0.061337,
     "end_time": "2024-05-15T06:27:11.582061",
     "exception": false,
     "start_time": "2024-05-15T06:27:11.520724",
     "status": "completed"
    },
    "tags": []
   },
   "outputs": [
    {
     "data": {
      "text/html": [
       "<div>\n",
       "<style scoped>\n",
       "    .dataframe tbody tr th:only-of-type {\n",
       "        vertical-align: middle;\n",
       "    }\n",
       "\n",
       "    .dataframe tbody tr th {\n",
       "        vertical-align: top;\n",
       "    }\n",
       "\n",
       "    .dataframe thead th {\n",
       "        text-align: right;\n",
       "    }\n",
       "</style>\n",
       "<table border=\"1\" class=\"dataframe\">\n",
       "  <thead>\n",
       "    <tr style=\"text-align: right;\">\n",
       "      <th></th>\n",
       "      <th>id</th>\n",
       "      <th>comment_text</th>\n",
       "      <th>obscene</th>\n",
       "    </tr>\n",
       "  </thead>\n",
       "  <tbody>\n",
       "    <tr>\n",
       "      <th>129225</th>\n",
       "      <td>b321ef32ff6049b7</td>\n",
       "      <td>Stifle: You might like to consult this page.</td>\n",
       "      <td>0</td>\n",
       "    </tr>\n",
       "    <tr>\n",
       "      <th>84501</th>\n",
       "      <td>e20d4b07893794f1</td>\n",
       "      <td>\"\\n\\nYou harassed me just as much. You're hara...</td>\n",
       "      <td>0</td>\n",
       "    </tr>\n",
       "  </tbody>\n",
       "</table>\n",
       "</div>"
      ],
      "text/plain": [
       "                      id                                       comment_text  \\\n",
       "129225  b321ef32ff6049b7       Stifle: You might like to consult this page.   \n",
       "84501   e20d4b07893794f1  \"\\n\\nYou harassed me just as much. You're hara...   \n",
       "\n",
       "        obscene  \n",
       "129225        0  \n",
       "84501         0  "
      ]
     },
     "execution_count": 23,
     "metadata": {},
     "output_type": "execute_result"
    }
   ],
   "source": [
    "obscene_comment_df = df.loc[:, ['id','comment_text','obscene']]\n",
    "obscene_comment_df.sample(2)"
   ]
  },
  {
   "cell_type": "code",
   "execution_count": 24,
   "id": "96a01a9c",
   "metadata": {
    "execution": {
     "iopub.execute_input": "2024-05-15T06:27:11.646356Z",
     "iopub.status.busy": "2024-05-15T06:27:11.645356Z",
     "iopub.status.idle": "2024-05-15T06:27:11.670836Z",
     "shell.execute_reply": "2024-05-15T06:27:11.669557Z"
    },
    "papermill": {
     "duration": 0.060005,
     "end_time": "2024-05-15T06:27:11.673397",
     "exception": false,
     "start_time": "2024-05-15T06:27:11.613392",
     "status": "completed"
    },
    "tags": []
   },
   "outputs": [
    {
     "data": {
      "text/html": [
       "<div>\n",
       "<style scoped>\n",
       "    .dataframe tbody tr th:only-of-type {\n",
       "        vertical-align: middle;\n",
       "    }\n",
       "\n",
       "    .dataframe tbody tr th {\n",
       "        vertical-align: top;\n",
       "    }\n",
       "\n",
       "    .dataframe thead th {\n",
       "        text-align: right;\n",
       "    }\n",
       "</style>\n",
       "<table border=\"1\" class=\"dataframe\">\n",
       "  <thead>\n",
       "    <tr style=\"text-align: right;\">\n",
       "      <th></th>\n",
       "      <th>id</th>\n",
       "      <th>comment_text</th>\n",
       "      <th>threat</th>\n",
       "    </tr>\n",
       "  </thead>\n",
       "  <tbody>\n",
       "    <tr>\n",
       "      <th>82223</th>\n",
       "      <td>dbfd1c077f652416</td>\n",
       "      <td>Please email me \\n\\nYou email address is not r...</td>\n",
       "      <td>0</td>\n",
       "    </tr>\n",
       "    <tr>\n",
       "      <th>122963</th>\n",
       "      <td>91d46565def42356</td>\n",
       "      <td>3. You need editors assigned per subject. The ...</td>\n",
       "      <td>0</td>\n",
       "    </tr>\n",
       "  </tbody>\n",
       "</table>\n",
       "</div>"
      ],
      "text/plain": [
       "                      id                                       comment_text  \\\n",
       "82223   dbfd1c077f652416  Please email me \\n\\nYou email address is not r...   \n",
       "122963  91d46565def42356  3. You need editors assigned per subject. The ...   \n",
       "\n",
       "        threat  \n",
       "82223        0  \n",
       "122963       0  "
      ]
     },
     "execution_count": 24,
     "metadata": {},
     "output_type": "execute_result"
    }
   ],
   "source": [
    "threetening_comment_df = df.loc[:, ['id','comment_text','threat']]\n",
    "threetening_comment_df.sample(2)"
   ]
  },
  {
   "cell_type": "code",
   "execution_count": 25,
   "id": "f25057fe",
   "metadata": {
    "execution": {
     "iopub.execute_input": "2024-05-15T06:27:11.739201Z",
     "iopub.status.busy": "2024-05-15T06:27:11.738823Z",
     "iopub.status.idle": "2024-05-15T06:27:11.752044Z",
     "shell.execute_reply": "2024-05-15T06:27:11.751005Z"
    },
    "papermill": {
     "duration": 0.049611,
     "end_time": "2024-05-15T06:27:11.754591",
     "exception": false,
     "start_time": "2024-05-15T06:27:11.704980",
     "status": "completed"
    },
    "tags": []
   },
   "outputs": [],
   "source": [
    "severetoxic_comment_df = df.loc[:, ['id','comment_text','severe_toxic']]"
   ]
  },
  {
   "cell_type": "code",
   "execution_count": 26,
   "id": "19e09500",
   "metadata": {
    "execution": {
     "iopub.execute_input": "2024-05-15T06:27:11.820011Z",
     "iopub.status.busy": "2024-05-15T06:27:11.818936Z",
     "iopub.status.idle": "2024-05-15T06:27:11.845857Z",
     "shell.execute_reply": "2024-05-15T06:27:11.844759Z"
    },
    "papermill": {
     "duration": 0.062307,
     "end_time": "2024-05-15T06:27:11.848565",
     "exception": false,
     "start_time": "2024-05-15T06:27:11.786258",
     "status": "completed"
    },
    "tags": []
   },
   "outputs": [
    {
     "data": {
      "text/html": [
       "<div>\n",
       "<style scoped>\n",
       "    .dataframe tbody tr th:only-of-type {\n",
       "        vertical-align: middle;\n",
       "    }\n",
       "\n",
       "    .dataframe tbody tr th {\n",
       "        vertical-align: top;\n",
       "    }\n",
       "\n",
       "    .dataframe thead th {\n",
       "        text-align: right;\n",
       "    }\n",
       "</style>\n",
       "<table border=\"1\" class=\"dataframe\">\n",
       "  <thead>\n",
       "    <tr style=\"text-align: right;\">\n",
       "      <th></th>\n",
       "      <th>id</th>\n",
       "      <th>comment_text</th>\n",
       "      <th>toxic</th>\n",
       "    </tr>\n",
       "  </thead>\n",
       "  <tbody>\n",
       "    <tr>\n",
       "      <th>15684</th>\n",
       "      <td>296aa11e54dc460d</td>\n",
       "      <td>Thanks \\n\\nWow! An award!</td>\n",
       "      <td>0</td>\n",
       "    </tr>\n",
       "    <tr>\n",
       "      <th>152341</th>\n",
       "      <td>8bddfcfe30a3a57c</td>\n",
       "      <td>\"\\n\\n Collapsing \\n\\nHey Peter - regarding thi...</td>\n",
       "      <td>0</td>\n",
       "    </tr>\n",
       "  </tbody>\n",
       "</table>\n",
       "</div>"
      ],
      "text/plain": [
       "                      id                                       comment_text  \\\n",
       "15684   296aa11e54dc460d                          Thanks \\n\\nWow! An award!   \n",
       "152341  8bddfcfe30a3a57c  \"\\n\\n Collapsing \\n\\nHey Peter - regarding thi...   \n",
       "\n",
       "        toxic  \n",
       "15684       0  \n",
       "152341      0  "
      ]
     },
     "execution_count": 26,
     "metadata": {},
     "output_type": "execute_result"
    }
   ],
   "source": [
    "toxic_comment_df = df.loc[:, ['id','comment_text','toxic']]\n",
    "toxic_comment_df.sample(2)"
   ]
  },
  {
   "cell_type": "code",
   "execution_count": 27,
   "id": "374cbd17",
   "metadata": {
    "execution": {
     "iopub.execute_input": "2024-05-15T06:27:11.912857Z",
     "iopub.status.busy": "2024-05-15T06:27:11.912172Z",
     "iopub.status.idle": "2024-05-15T06:27:11.982564Z",
     "shell.execute_reply": "2024-05-15T06:27:11.981169Z"
    },
    "papermill": {
     "duration": 0.105923,
     "end_time": "2024-05-15T06:27:11.985606",
     "exception": false,
     "start_time": "2024-05-15T06:27:11.879683",
     "status": "completed"
    },
    "tags": []
   },
   "outputs": [],
   "source": [
    "import wordcloud\n",
    "from PIL import Image\n",
    "from wordcloud import WordCloud, STOPWORDS, ImageColorGenerator\n",
    "from nltk.corpus import stopwords"
   ]
  },
  {
   "cell_type": "code",
   "execution_count": 28,
   "id": "e3e67d17",
   "metadata": {
    "execution": {
     "iopub.execute_input": "2024-05-15T06:27:12.052695Z",
     "iopub.status.busy": "2024-05-15T06:27:12.052023Z",
     "iopub.status.idle": "2024-05-15T06:27:12.059886Z",
     "shell.execute_reply": "2024-05-15T06:27:12.058736Z"
    },
    "papermill": {
     "duration": 0.044548,
     "end_time": "2024-05-15T06:27:12.062228",
     "exception": false,
     "start_time": "2024-05-15T06:27:12.017680",
     "status": "completed"
    },
    "tags": []
   },
   "outputs": [],
   "source": [
    "def wordcloud(df, label):\n",
    "    subset=df[df[label]==1]\n",
    "    text=subset.comment_text.values\n",
    "    wc=WordCloud(background_color='black',max_words=2000)\n",
    "    \n",
    "    wc.generate(' '.join(text))\n",
    "    \n",
    "    plt.figure(figsize=(20,20))\n",
    "    plt.subplot(221)\n",
    "    plt.axis('off')\n",
    "    plt.title(f'word frequented in {label}', fontsize=20)\n",
    "    \n",
    "    plt.imshow(wc.recolor(colormap='gist_earth', random_state=244), alpha=0.98)\n",
    "    \n",
    "    "
   ]
  },
  {
   "cell_type": "code",
   "execution_count": 29,
   "id": "b50fcb60",
   "metadata": {
    "execution": {
     "iopub.execute_input": "2024-05-15T06:27:12.128520Z",
     "iopub.status.busy": "2024-05-15T06:27:12.128088Z",
     "iopub.status.idle": "2024-05-15T06:27:13.547947Z",
     "shell.execute_reply": "2024-05-15T06:27:13.547143Z"
    },
    "papermill": {
     "duration": 1.459524,
     "end_time": "2024-05-15T06:27:13.553327",
     "exception": false,
     "start_time": "2024-05-15T06:27:12.093803",
     "status": "completed"
    },
    "tags": []
   },
   "outputs": [
    {
     "data": {
      "image/png": "[encoded data removed]",
      "text/plain": [
       "<Figure size 2000x2000 with 1 Axes>"
      ]
     },
     "metadata": {},
     "output_type": "display_data"
    }
   ],
   "source": [
    "wordcloud(severetoxic_comment_df, 'severe_toxic')"
   ]
  },
  {
   "cell_type": "code",
   "execution_count": 30,
   "id": "a48be7fa",
   "metadata": {
    "execution": {
     "iopub.execute_input": "2024-05-15T06:27:13.627571Z",
     "iopub.status.busy": "2024-05-15T06:27:13.626898Z",
     "iopub.status.idle": "2024-05-15T06:27:16.405606Z",
     "shell.execute_reply": "2024-05-15T06:27:16.404539Z"
    },
    "papermill": {
     "duration": 2.820728,
     "end_time": "2024-05-15T06:27:16.410146",
     "exception": false,
     "start_time": "2024-05-15T06:27:13.589418",
     "status": "completed"
    },
    "tags": []
   },
   "outputs": [
    {
     "data": {
      "image/png": "[encoded data removed]",
      "text/plain": [
       "<Figure size 2000x2000 with 1 Axes>"
      ]
     },
     "metadata": {},
     "output_type": "display_data"
    }
   ],
   "source": [
    "wordcloud(obscene_comment_df, 'obscene')"
   ]
  },
  {
   "cell_type": "code",
   "execution_count": 31,
   "id": "c8796519",
   "metadata": {
    "execution": {
     "iopub.execute_input": "2024-05-15T06:27:16.488197Z",
     "iopub.status.busy": "2024-05-15T06:27:16.487815Z",
     "iopub.status.idle": "2024-05-15T06:27:16.492707Z",
     "shell.execute_reply": "2024-05-15T06:27:16.491748Z"
    },
    "papermill": {
     "duration": 0.046857,
     "end_time": "2024-05-15T06:27:16.495148",
     "exception": false,
     "start_time": "2024-05-15T06:27:16.448291",
     "status": "completed"
    },
    "tags": []
   },
   "outputs": [],
   "source": [
    "# Belancing the target column in the dataset"
   ]
  },
  {
   "cell_type": "code",
   "execution_count": 32,
   "id": "47a9c594",
   "metadata": {
    "execution": {
     "iopub.execute_input": "2024-05-15T06:27:16.572923Z",
     "iopub.status.busy": "2024-05-15T06:27:16.571922Z",
     "iopub.status.idle": "2024-05-15T06:27:16.584443Z",
     "shell.execute_reply": "2024-05-15T06:27:16.583532Z"
    },
    "papermill": {
     "duration": 0.053763,
     "end_time": "2024-05-15T06:27:16.586719",
     "exception": false,
     "start_time": "2024-05-15T06:27:16.532956",
     "status": "completed"
    },
    "tags": []
   },
   "outputs": [
    {
     "data": {
      "text/html": [
       "<div>\n",
       "<style scoped>\n",
       "    .dataframe tbody tr th:only-of-type {\n",
       "        vertical-align: middle;\n",
       "    }\n",
       "\n",
       "    .dataframe tbody tr th {\n",
       "        vertical-align: top;\n",
       "    }\n",
       "\n",
       "    .dataframe thead th {\n",
       "        text-align: right;\n",
       "    }\n",
       "</style>\n",
       "<table border=\"1\" class=\"dataframe\">\n",
       "  <thead>\n",
       "    <tr style=\"text-align: right;\">\n",
       "      <th></th>\n",
       "      <th>id</th>\n",
       "      <th>comment_text</th>\n",
       "      <th>toxic</th>\n",
       "    </tr>\n",
       "  </thead>\n",
       "  <tbody>\n",
       "    <tr>\n",
       "      <th>0</th>\n",
       "      <td>0000997932d777bf</td>\n",
       "      <td>Explanation\\nWhy the edits made under my usern...</td>\n",
       "      <td>0</td>\n",
       "    </tr>\n",
       "    <tr>\n",
       "      <th>1</th>\n",
       "      <td>000103f0d9cfb60f</td>\n",
       "      <td>D'aww! He matches this background colour I'm s...</td>\n",
       "      <td>0</td>\n",
       "    </tr>\n",
       "    <tr>\n",
       "      <th>2</th>\n",
       "      <td>000113f07ec002fd</td>\n",
       "      <td>Hey man, I'm really not trying to edit war. It...</td>\n",
       "      <td>0</td>\n",
       "    </tr>\n",
       "    <tr>\n",
       "      <th>3</th>\n",
       "      <td>0001b41b1c6bb37e</td>\n",
       "      <td>\"\\nMore\\nI can't make any real suggestions on ...</td>\n",
       "      <td>0</td>\n",
       "    </tr>\n",
       "    <tr>\n",
       "      <th>4</th>\n",
       "      <td>0001d958c54c6e35</td>\n",
       "      <td>You, sir, are my hero. Any chance you remember...</td>\n",
       "      <td>0</td>\n",
       "    </tr>\n",
       "    <tr>\n",
       "      <th>...</th>\n",
       "      <td>...</td>\n",
       "      <td>...</td>\n",
       "      <td>...</td>\n",
       "    </tr>\n",
       "    <tr>\n",
       "      <th>159566</th>\n",
       "      <td>ffe987279560d7ff</td>\n",
       "      <td>\":::::And for the second time of asking, when ...</td>\n",
       "      <td>0</td>\n",
       "    </tr>\n",
       "    <tr>\n",
       "      <th>159567</th>\n",
       "      <td>ffea4adeee384e90</td>\n",
       "      <td>You should be ashamed of yourself \\n\\nThat is ...</td>\n",
       "      <td>0</td>\n",
       "    </tr>\n",
       "    <tr>\n",
       "      <th>159568</th>\n",
       "      <td>ffee36eab5c267c9</td>\n",
       "      <td>Spitzer \\n\\nUmm, theres no actual article for ...</td>\n",
       "      <td>0</td>\n",
       "    </tr>\n",
       "    <tr>\n",
       "      <th>159569</th>\n",
       "      <td>fff125370e4aaaf3</td>\n",
       "      <td>And it looks like it was actually you who put ...</td>\n",
       "      <td>0</td>\n",
       "    </tr>\n",
       "    <tr>\n",
       "      <th>159570</th>\n",
       "      <td>fff46fc426af1f9a</td>\n",
       "      <td>\"\\nAnd ... I really don't think you understand...</td>\n",
       "      <td>0</td>\n",
       "    </tr>\n",
       "  </tbody>\n",
       "</table>\n",
       "<p>159571 rows × 3 columns</p>\n",
       "</div>"
      ],
      "text/plain": [
       "                      id                                       comment_text  \\\n",
       "0       0000997932d777bf  Explanation\\nWhy the edits made under my usern...   \n",
       "1       000103f0d9cfb60f  D'aww! He matches this background colour I'm s...   \n",
       "2       000113f07ec002fd  Hey man, I'm really not trying to edit war. It...   \n",
       "3       0001b41b1c6bb37e  \"\\nMore\\nI can't make any real suggestions on ...   \n",
       "4       0001d958c54c6e35  You, sir, are my hero. Any chance you remember...   \n",
       "...                  ...                                                ...   \n",
       "159566  ffe987279560d7ff  \":::::And for the second time of asking, when ...   \n",
       "159567  ffea4adeee384e90  You should be ashamed of yourself \\n\\nThat is ...   \n",
       "159568  ffee36eab5c267c9  Spitzer \\n\\nUmm, theres no actual article for ...   \n",
       "159569  fff125370e4aaaf3  And it looks like it was actually you who put ...   \n",
       "159570  fff46fc426af1f9a  \"\\nAnd ... I really don't think you understand...   \n",
       "\n",
       "        toxic  \n",
       "0           0  \n",
       "1           0  \n",
       "2           0  \n",
       "3           0  \n",
       "4           0  \n",
       "...       ...  \n",
       "159566      0  \n",
       "159567      0  \n",
       "159568      0  \n",
       "159569      0  \n",
       "159570      0  \n",
       "\n",
       "[159571 rows x 3 columns]"
      ]
     },
     "execution_count": 32,
     "metadata": {},
     "output_type": "execute_result"
    }
   ],
   "source": [
    "toxic_comment_df"
   ]
  },
  {
   "cell_type": "code",
   "execution_count": 33,
   "id": "25571e6f",
   "metadata": {
    "execution": {
     "iopub.execute_input": "2024-05-15T06:27:16.666492Z",
     "iopub.status.busy": "2024-05-15T06:27:16.665138Z",
     "iopub.status.idle": "2024-05-15T06:27:16.676433Z",
     "shell.execute_reply": "2024-05-15T06:27:16.675340Z"
    },
    "papermill": {
     "duration": 0.053687,
     "end_time": "2024-05-15T06:27:16.678718",
     "exception": false,
     "start_time": "2024-05-15T06:27:16.625031",
     "status": "completed"
    },
    "tags": []
   },
   "outputs": [
    {
     "data": {
      "text/plain": [
       "5000"
      ]
     },
     "execution_count": 33,
     "metadata": {},
     "output_type": "execute_result"
    }
   ],
   "source": [
    "# Slecting only 5000 toxic comments\n",
    "toxic_comment_balanced_1 = toxic_comment_df[toxic_comment_df['toxic'] == 1].iloc[0:5000, :]\n",
    "len(toxic_comment_balanced_1)"
   ]
  },
  {
   "cell_type": "code",
   "execution_count": 34,
   "id": "f9b53e6c",
   "metadata": {
    "execution": {
     "iopub.execute_input": "2024-05-15T06:27:16.758380Z",
     "iopub.status.busy": "2024-05-15T06:27:16.757773Z",
     "iopub.status.idle": "2024-05-15T06:27:16.773973Z",
     "shell.execute_reply": "2024-05-15T06:27:16.772891Z"
    },
    "papermill": {
     "duration": 0.059563,
     "end_time": "2024-05-15T06:27:16.776859",
     "exception": false,
     "start_time": "2024-05-15T06:27:16.717296",
     "status": "completed"
    },
    "tags": []
   },
   "outputs": [
    {
     "data": {
      "text/plain": [
       "(5000, 3)"
      ]
     },
     "execution_count": 34,
     "metadata": {},
     "output_type": "execute_result"
    }
   ],
   "source": [
    "# Selectiong only 50000 non toxic comment \n",
    "toxic_comment_balanced_0 = toxic_comment_df[toxic_comment_df['toxic'] == 0].iloc[0:5000, :]\n",
    "toxic_comment_balanced_0.shape"
   ]
  },
  {
   "cell_type": "code",
   "execution_count": 35,
   "id": "40676533",
   "metadata": {
    "execution": {
     "iopub.execute_input": "2024-05-15T06:27:16.857562Z",
     "iopub.status.busy": "2024-05-15T06:27:16.856903Z",
     "iopub.status.idle": "2024-05-15T06:27:16.863491Z",
     "shell.execute_reply": "2024-05-15T06:27:16.862543Z"
    },
    "papermill": {
     "duration": 0.050323,
     "end_time": "2024-05-15T06:27:16.865982",
     "exception": false,
     "start_time": "2024-05-15T06:27:16.815659",
     "status": "completed"
    },
    "tags": []
   },
   "outputs": [],
   "source": [
    "# Concating toxic commment and non toxic comment \n",
    "toxic_comment_balanced = pd.concat([toxic_comment_balanced_1, toxic_comment_balanced_0])"
   ]
  },
  {
   "cell_type": "code",
   "execution_count": 36,
   "id": "cb7fb166",
   "metadata": {
    "execution": {
     "iopub.execute_input": "2024-05-15T06:27:16.946292Z",
     "iopub.status.busy": "2024-05-15T06:27:16.945910Z",
     "iopub.status.idle": "2024-05-15T06:27:16.952075Z",
     "shell.execute_reply": "2024-05-15T06:27:16.950963Z"
    },
    "papermill": {
     "duration": 0.049779,
     "end_time": "2024-05-15T06:27:16.954944",
     "exception": false,
     "start_time": "2024-05-15T06:27:16.905165",
     "status": "completed"
    },
    "tags": []
   },
   "outputs": [
    {
     "data": {
      "text/plain": [
       "(10000, 3)"
      ]
     },
     "execution_count": 36,
     "metadata": {},
     "output_type": "execute_result"
    }
   ],
   "source": [
    "toxic_comment_balanced.shape"
   ]
  },
  {
   "cell_type": "code",
   "execution_count": 37,
   "id": "bd871c9b",
   "metadata": {
    "execution": {
     "iopub.execute_input": "2024-05-15T06:27:17.036337Z",
     "iopub.status.busy": "2024-05-15T06:27:17.035972Z",
     "iopub.status.idle": "2024-05-15T06:27:17.044056Z",
     "shell.execute_reply": "2024-05-15T06:27:17.042959Z"
    },
    "papermill": {
     "duration": 0.052583,
     "end_time": "2024-05-15T06:27:17.046765",
     "exception": false,
     "start_time": "2024-05-15T06:27:16.994182",
     "status": "completed"
    },
    "tags": []
   },
   "outputs": [
    {
     "data": {
      "text/plain": [
       "toxic\n",
       "1    5000\n",
       "0    5000\n",
       "Name: count, dtype: int64"
      ]
     },
     "execution_count": 37,
     "metadata": {},
     "output_type": "execute_result"
    }
   ],
   "source": [
    "toxic_comment_balanced['toxic'].value_counts()\n",
    "# now the toxic and non toxic is balance"
   ]
  },
  {
   "cell_type": "code",
   "execution_count": 38,
   "id": "ba8a49ea",
   "metadata": {
    "execution": {
     "iopub.execute_input": "2024-05-15T06:27:17.128126Z",
     "iopub.status.busy": "2024-05-15T06:27:17.127744Z",
     "iopub.status.idle": "2024-05-15T06:27:17.131871Z",
     "shell.execute_reply": "2024-05-15T06:27:17.130763Z"
    },
    "papermill": {
     "duration": 0.047238,
     "end_time": "2024-05-15T06:27:17.134196",
     "exception": false,
     "start_time": "2024-05-15T06:27:17.086958",
     "status": "completed"
    },
    "tags": []
   },
   "outputs": [],
   "source": [
    "# Repeating the steps for the subset dataset"
   ]
  },
  {
   "cell_type": "code",
   "execution_count": 39,
   "id": "94ff7f8c",
   "metadata": {
    "execution": {
     "iopub.execute_input": "2024-05-15T06:27:17.215070Z",
     "iopub.status.busy": "2024-05-15T06:27:17.214705Z",
     "iopub.status.idle": "2024-05-15T06:27:17.230417Z",
     "shell.execute_reply": "2024-05-15T06:27:17.229321Z"
    },
    "papermill": {
     "duration": 0.058825,
     "end_time": "2024-05-15T06:27:17.232830",
     "exception": false,
     "start_time": "2024-05-15T06:27:17.174005",
     "status": "completed"
    },
    "tags": []
   },
   "outputs": [
    {
     "data": {
      "text/html": [
       "<div>\n",
       "<style scoped>\n",
       "    .dataframe tbody tr th:only-of-type {\n",
       "        vertical-align: middle;\n",
       "    }\n",
       "\n",
       "    .dataframe tbody tr th {\n",
       "        vertical-align: top;\n",
       "    }\n",
       "\n",
       "    .dataframe thead th {\n",
       "        text-align: right;\n",
       "    }\n",
       "</style>\n",
       "<table border=\"1\" class=\"dataframe\">\n",
       "  <thead>\n",
       "    <tr style=\"text-align: right;\">\n",
       "      <th></th>\n",
       "      <th>id</th>\n",
       "      <th>comment_text</th>\n",
       "      <th>severe_toxic</th>\n",
       "    </tr>\n",
       "  </thead>\n",
       "  <tbody>\n",
       "    <tr>\n",
       "      <th>92571</th>\n",
       "      <td>f78d8c8126d3bfc5</td>\n",
       "      <td>Stop sabotaging the article I am working onThe...</td>\n",
       "      <td>0</td>\n",
       "    </tr>\n",
       "    <tr>\n",
       "      <th>56569</th>\n",
       "      <td>9721d3a1f0d6e4d8</td>\n",
       "      <td>Lyfe\\n Lyfe is my favorite singer. I'll guess ...</td>\n",
       "      <td>0</td>\n",
       "    </tr>\n",
       "  </tbody>\n",
       "</table>\n",
       "</div>"
      ],
      "text/plain": [
       "                     id                                       comment_text  \\\n",
       "92571  f78d8c8126d3bfc5  Stop sabotaging the article I am working onThe...   \n",
       "56569  9721d3a1f0d6e4d8  Lyfe\\n Lyfe is my favorite singer. I'll guess ...   \n",
       "\n",
       "       severe_toxic  \n",
       "92571             0  \n",
       "56569             0  "
      ]
     },
     "execution_count": 39,
     "metadata": {},
     "output_type": "execute_result"
    }
   ],
   "source": [
    "severetoxic_comment_df.sample(2)"
   ]
  },
  {
   "cell_type": "code",
   "execution_count": 40,
   "id": "2d4a6a5e",
   "metadata": {
    "execution": {
     "iopub.execute_input": "2024-05-15T06:27:17.315152Z",
     "iopub.status.busy": "2024-05-15T06:27:17.314773Z",
     "iopub.status.idle": "2024-05-15T06:27:17.324635Z",
     "shell.execute_reply": "2024-05-15T06:27:17.323523Z"
    },
    "papermill": {
     "duration": 0.054588,
     "end_time": "2024-05-15T06:27:17.326873",
     "exception": false,
     "start_time": "2024-05-15T06:27:17.272285",
     "status": "completed"
    },
    "tags": []
   },
   "outputs": [
    {
     "data": {
      "text/plain": [
       "severe_toxic\n",
       "0    157976\n",
       "1      1595\n",
       "Name: count, dtype: int64"
      ]
     },
     "execution_count": 40,
     "metadata": {},
     "output_type": "execute_result"
    }
   ],
   "source": [
    "severetoxic_comment_df['severe_toxic'].value_counts()"
   ]
  },
  {
   "cell_type": "code",
   "execution_count": 41,
   "id": "7a19802c",
   "metadata": {
    "execution": {
     "iopub.execute_input": "2024-05-15T06:27:17.408168Z",
     "iopub.status.busy": "2024-05-15T06:27:17.407784Z",
     "iopub.status.idle": "2024-05-15T06:27:17.414803Z",
     "shell.execute_reply": "2024-05-15T06:27:17.413907Z"
    },
    "papermill": {
     "duration": 0.050685,
     "end_time": "2024-05-15T06:27:17.417031",
     "exception": false,
     "start_time": "2024-05-15T06:27:17.366346",
     "status": "completed"
    },
    "tags": []
   },
   "outputs": [],
   "source": [
    "severe_comment_balanced_1 = severetoxic_comment_df[severetoxic_comment_df['severe_toxic'] == 1].iloc[0:1595, :]"
   ]
  },
  {
   "cell_type": "code",
   "execution_count": 42,
   "id": "de46136c",
   "metadata": {
    "execution": {
     "iopub.execute_input": "2024-05-15T06:27:17.497649Z",
     "iopub.status.busy": "2024-05-15T06:27:17.497252Z",
     "iopub.status.idle": "2024-05-15T06:27:17.512166Z",
     "shell.execute_reply": "2024-05-15T06:27:17.511196Z"
    },
    "papermill": {
     "duration": 0.058117,
     "end_time": "2024-05-15T06:27:17.514839",
     "exception": false,
     "start_time": "2024-05-15T06:27:17.456722",
     "status": "completed"
    },
    "tags": []
   },
   "outputs": [],
   "source": [
    "severe_comment_balanced_0 = severetoxic_comment_df[severetoxic_comment_df['severe_toxic'] == 0].iloc[0:1595, :]"
   ]
  },
  {
   "cell_type": "code",
   "execution_count": 43,
   "id": "e740b165",
   "metadata": {
    "execution": {
     "iopub.execute_input": "2024-05-15T06:27:17.596917Z",
     "iopub.status.busy": "2024-05-15T06:27:17.596540Z",
     "iopub.status.idle": "2024-05-15T06:27:17.605308Z",
     "shell.execute_reply": "2024-05-15T06:27:17.604197Z"
    },
    "papermill": {
     "duration": 0.052834,
     "end_time": "2024-05-15T06:27:17.608002",
     "exception": false,
     "start_time": "2024-05-15T06:27:17.555168",
     "status": "completed"
    },
    "tags": []
   },
   "outputs": [
    {
     "data": {
      "text/plain": [
       "((1595, 3), (1595, 3), (3190, 3))"
      ]
     },
     "execution_count": 43,
     "metadata": {},
     "output_type": "execute_result"
    }
   ],
   "source": [
    "severe_comment_balanced = pd.concat([severe_comment_balanced_1, severe_comment_balanced_0])\n",
    "severe_comment_balanced_0.shape, severe_comment_balanced_1.shape,severe_comment_balanced.shape"
   ]
  },
  {
   "cell_type": "code",
   "execution_count": 44,
   "id": "49ba8a5c",
   "metadata": {
    "execution": {
     "iopub.execute_input": "2024-05-15T06:27:17.690651Z",
     "iopub.status.busy": "2024-05-15T06:27:17.690214Z",
     "iopub.status.idle": "2024-05-15T06:27:17.695545Z",
     "shell.execute_reply": "2024-05-15T06:27:17.694251Z"
    },
    "papermill": {
     "duration": 0.049535,
     "end_time": "2024-05-15T06:27:17.697973",
     "exception": false,
     "start_time": "2024-05-15T06:27:17.648438",
     "status": "completed"
    },
    "tags": []
   },
   "outputs": [],
   "source": [
    "# Repeating the same for obsene comment "
   ]
  },
  {
   "cell_type": "code",
   "execution_count": 45,
   "id": "7c4887e3",
   "metadata": {
    "execution": {
     "iopub.execute_input": "2024-05-15T06:27:17.780162Z",
     "iopub.status.busy": "2024-05-15T06:27:17.779736Z",
     "iopub.status.idle": "2024-05-15T06:27:17.795368Z",
     "shell.execute_reply": "2024-05-15T06:27:17.794601Z"
    },
    "papermill": {
     "duration": 0.059673,
     "end_time": "2024-05-15T06:27:17.797494",
     "exception": false,
     "start_time": "2024-05-15T06:27:17.737821",
     "status": "completed"
    },
    "tags": []
   },
   "outputs": [
    {
     "data": {
      "text/html": [
       "<div>\n",
       "<style scoped>\n",
       "    .dataframe tbody tr th:only-of-type {\n",
       "        vertical-align: middle;\n",
       "    }\n",
       "\n",
       "    .dataframe tbody tr th {\n",
       "        vertical-align: top;\n",
       "    }\n",
       "\n",
       "    .dataframe thead th {\n",
       "        text-align: right;\n",
       "    }\n",
       "</style>\n",
       "<table border=\"1\" class=\"dataframe\">\n",
       "  <thead>\n",
       "    <tr style=\"text-align: right;\">\n",
       "      <th></th>\n",
       "      <th>id</th>\n",
       "      <th>comment_text</th>\n",
       "      <th>obscene</th>\n",
       "    </tr>\n",
       "  </thead>\n",
       "  <tbody>\n",
       "    <tr>\n",
       "      <th>38504</th>\n",
       "      <td>66c0b71ceb5a4f52</td>\n",
       "      <td>\"\\n\\n Re: Last names \\n\\nDefinitely trivia. Yo...</td>\n",
       "      <td>0</td>\n",
       "    </tr>\n",
       "    <tr>\n",
       "      <th>138713</th>\n",
       "      <td>e62e72e9ab19dc27</td>\n",
       "      <td>Refugee camps in Tindouf Province, Algeria|</td>\n",
       "      <td>0</td>\n",
       "    </tr>\n",
       "  </tbody>\n",
       "</table>\n",
       "</div>"
      ],
      "text/plain": [
       "                      id                                       comment_text  \\\n",
       "38504   66c0b71ceb5a4f52  \"\\n\\n Re: Last names \\n\\nDefinitely trivia. Yo...   \n",
       "138713  e62e72e9ab19dc27        Refugee camps in Tindouf Province, Algeria|   \n",
       "\n",
       "        obscene  \n",
       "38504         0  \n",
       "138713        0  "
      ]
     },
     "execution_count": 45,
     "metadata": {},
     "output_type": "execute_result"
    }
   ],
   "source": [
    "obscene_comment_df.sample(2)"
   ]
  },
  {
   "cell_type": "code",
   "execution_count": 46,
   "id": "d4764c36",
   "metadata": {
    "execution": {
     "iopub.execute_input": "2024-05-15T06:27:17.880706Z",
     "iopub.status.busy": "2024-05-15T06:27:17.880289Z",
     "iopub.status.idle": "2024-05-15T06:27:17.889257Z",
     "shell.execute_reply": "2024-05-15T06:27:17.888525Z"
    },
    "papermill": {
     "duration": 0.052725,
     "end_time": "2024-05-15T06:27:17.891430",
     "exception": false,
     "start_time": "2024-05-15T06:27:17.838705",
     "status": "completed"
    },
    "tags": []
   },
   "outputs": [
    {
     "data": {
      "text/plain": [
       "obscene\n",
       "0    151122\n",
       "1      8449\n",
       "Name: count, dtype: int64"
      ]
     },
     "execution_count": 46,
     "metadata": {},
     "output_type": "execute_result"
    }
   ],
   "source": [
    "obscene_comment_df['obscene'].value_counts()\n",
    "# There inbalance data"
   ]
  },
  {
   "cell_type": "code",
   "execution_count": 47,
   "id": "6ebfb528",
   "metadata": {
    "execution": {
     "iopub.execute_input": "2024-05-15T06:27:17.974804Z",
     "iopub.status.busy": "2024-05-15T06:27:17.974097Z",
     "iopub.status.idle": "2024-05-15T06:27:17.982035Z",
     "shell.execute_reply": "2024-05-15T06:27:17.980882Z"
    },
    "papermill": {
     "duration": 0.05297,
     "end_time": "2024-05-15T06:27:17.984616",
     "exception": false,
     "start_time": "2024-05-15T06:27:17.931646",
     "status": "completed"
    },
    "tags": []
   },
   "outputs": [],
   "source": [
    "obscene_comment_df_1 = obscene_comment_df[obscene_comment_df['obscene'] == 1].iloc[0:8449, :]"
   ]
  },
  {
   "cell_type": "code",
   "execution_count": 48,
   "id": "0546ba1e",
   "metadata": {
    "execution": {
     "iopub.execute_input": "2024-05-15T06:27:18.067948Z",
     "iopub.status.busy": "2024-05-15T06:27:18.066619Z",
     "iopub.status.idle": "2024-05-15T06:27:18.082742Z",
     "shell.execute_reply": "2024-05-15T06:27:18.081523Z"
    },
    "papermill": {
     "duration": 0.060343,
     "end_time": "2024-05-15T06:27:18.085372",
     "exception": false,
     "start_time": "2024-05-15T06:27:18.025029",
     "status": "completed"
    },
    "tags": []
   },
   "outputs": [],
   "source": [
    "obscene_comment_df_0 = obscene_comment_df[obscene_comment_df['obscene'] == 0].iloc[0:8449, :]"
   ]
  },
  {
   "cell_type": "code",
   "execution_count": 49,
   "id": "f23995dd",
   "metadata": {
    "execution": {
     "iopub.execute_input": "2024-05-15T06:27:18.168776Z",
     "iopub.status.busy": "2024-05-15T06:27:18.168106Z",
     "iopub.status.idle": "2024-05-15T06:27:18.177645Z",
     "shell.execute_reply": "2024-05-15T06:27:18.176537Z"
    },
    "papermill": {
     "duration": 0.054506,
     "end_time": "2024-05-15T06:27:18.179931",
     "exception": false,
     "start_time": "2024-05-15T06:27:18.125425",
     "status": "completed"
    },
    "tags": []
   },
   "outputs": [
    {
     "data": {
      "text/plain": [
       "((8449, 3), (8449, 3), (159571, 3))"
      ]
     },
     "execution_count": 49,
     "metadata": {},
     "output_type": "execute_result"
    }
   ],
   "source": [
    "obscene_comment_balanced = pd.concat([obscene_comment_df_1, obscene_comment_df_0])\n",
    "obscene_comment_df_1.shape,  obscene_comment_df_0.shape, obscene_comment_df.shape"
   ]
  },
  {
   "cell_type": "code",
   "execution_count": 50,
   "id": "b98e8e2f",
   "metadata": {
    "execution": {
     "iopub.execute_input": "2024-05-15T06:27:18.265489Z",
     "iopub.status.busy": "2024-05-15T06:27:18.264522Z",
     "iopub.status.idle": "2024-05-15T06:27:18.269034Z",
     "shell.execute_reply": "2024-05-15T06:27:18.268119Z"
    },
    "papermill": {
     "duration": 0.050502,
     "end_time": "2024-05-15T06:27:18.271316",
     "exception": false,
     "start_time": "2024-05-15T06:27:18.220814",
     "status": "completed"
    },
    "tags": []
   },
   "outputs": [],
   "source": [
    "# Repeating the same for thereatening comment"
   ]
  },
  {
   "cell_type": "code",
   "execution_count": 51,
   "id": "e58a19f1",
   "metadata": {
    "execution": {
     "iopub.execute_input": "2024-05-15T06:27:18.355667Z",
     "iopub.status.busy": "2024-05-15T06:27:18.354970Z",
     "iopub.status.idle": "2024-05-15T06:27:18.369570Z",
     "shell.execute_reply": "2024-05-15T06:27:18.368399Z"
    },
    "papermill": {
     "duration": 0.058774,
     "end_time": "2024-05-15T06:27:18.372388",
     "exception": false,
     "start_time": "2024-05-15T06:27:18.313614",
     "status": "completed"
    },
    "tags": []
   },
   "outputs": [
    {
     "data": {
      "text/html": [
       "<div>\n",
       "<style scoped>\n",
       "    .dataframe tbody tr th:only-of-type {\n",
       "        vertical-align: middle;\n",
       "    }\n",
       "\n",
       "    .dataframe tbody tr th {\n",
       "        vertical-align: top;\n",
       "    }\n",
       "\n",
       "    .dataframe thead th {\n",
       "        text-align: right;\n",
       "    }\n",
       "</style>\n",
       "<table border=\"1\" class=\"dataframe\">\n",
       "  <thead>\n",
       "    <tr style=\"text-align: right;\">\n",
       "      <th></th>\n",
       "      <th>id</th>\n",
       "      <th>comment_text</th>\n",
       "      <th>threat</th>\n",
       "    </tr>\n",
       "  </thead>\n",
       "  <tbody>\n",
       "    <tr>\n",
       "      <th>109739</th>\n",
       "      <td>4af67ec445765c9c</td>\n",
       "      <td>Your userpage\\nI suggest you move the table of...</td>\n",
       "      <td>0</td>\n",
       "    </tr>\n",
       "    <tr>\n",
       "      <th>99333</th>\n",
       "      <td>135bd031ef8bc766</td>\n",
       "      <td>Why do you love cock? \\n\\nStop taking down my ...</td>\n",
       "      <td>0</td>\n",
       "    </tr>\n",
       "  </tbody>\n",
       "</table>\n",
       "</div>"
      ],
      "text/plain": [
       "                      id                                       comment_text  \\\n",
       "109739  4af67ec445765c9c  Your userpage\\nI suggest you move the table of...   \n",
       "99333   135bd031ef8bc766  Why do you love cock? \\n\\nStop taking down my ...   \n",
       "\n",
       "        threat  \n",
       "109739       0  \n",
       "99333        0  "
      ]
     },
     "execution_count": 51,
     "metadata": {},
     "output_type": "execute_result"
    }
   ],
   "source": [
    "threetening_comment_df.sample(2)"
   ]
  },
  {
   "cell_type": "code",
   "execution_count": 52,
   "id": "cac99fbd",
   "metadata": {
    "execution": {
     "iopub.execute_input": "2024-05-15T06:27:18.456863Z",
     "iopub.status.busy": "2024-05-15T06:27:18.456188Z",
     "iopub.status.idle": "2024-05-15T06:27:18.466201Z",
     "shell.execute_reply": "2024-05-15T06:27:18.465152Z"
    },
    "papermill": {
     "duration": 0.054475,
     "end_time": "2024-05-15T06:27:18.468711",
     "exception": false,
     "start_time": "2024-05-15T06:27:18.414236",
     "status": "completed"
    },
    "tags": []
   },
   "outputs": [
    {
     "data": {
      "text/plain": [
       "threat\n",
       "0    159093\n",
       "1       478\n",
       "Name: count, dtype: int64"
      ]
     },
     "execution_count": 52,
     "metadata": {},
     "output_type": "execute_result"
    }
   ],
   "source": [
    "threetening_comment_df['threat'].value_counts()\n",
    "# There inbalance data"
   ]
  },
  {
   "cell_type": "code",
   "execution_count": 53,
   "id": "778d3a71",
   "metadata": {
    "execution": {
     "iopub.execute_input": "2024-05-15T06:27:18.552392Z",
     "iopub.status.busy": "2024-05-15T06:27:18.551561Z",
     "iopub.status.idle": "2024-05-15T06:27:18.558487Z",
     "shell.execute_reply": "2024-05-15T06:27:18.557560Z"
    },
    "papermill": {
     "duration": 0.051677,
     "end_time": "2024-05-15T06:27:18.560936",
     "exception": false,
     "start_time": "2024-05-15T06:27:18.509259",
     "status": "completed"
    },
    "tags": []
   },
   "outputs": [],
   "source": [
    "threat_comment_df_1 = threetening_comment_df[threetening_comment_df['threat'] == 1].iloc[0:478, :]"
   ]
  },
  {
   "cell_type": "code",
   "execution_count": 54,
   "id": "6eb81853",
   "metadata": {
    "execution": {
     "iopub.execute_input": "2024-05-15T06:27:18.645525Z",
     "iopub.status.busy": "2024-05-15T06:27:18.644743Z",
     "iopub.status.idle": "2024-05-15T06:27:18.659862Z",
     "shell.execute_reply": "2024-05-15T06:27:18.658782Z"
    },
    "papermill": {
     "duration": 0.059847,
     "end_time": "2024-05-15T06:27:18.662554",
     "exception": false,
     "start_time": "2024-05-15T06:27:18.602707",
     "status": "completed"
    },
    "tags": []
   },
   "outputs": [],
   "source": [
    "threat_comment_df_0 = threetening_comment_df[threetening_comment_df['threat'] == 0].iloc[0:478, :]"
   ]
  },
  {
   "cell_type": "code",
   "execution_count": 55,
   "id": "7ab3486e",
   "metadata": {
    "execution": {
     "iopub.execute_input": "2024-05-15T06:27:18.746332Z",
     "iopub.status.busy": "2024-05-15T06:27:18.745922Z",
     "iopub.status.idle": "2024-05-15T06:27:18.754264Z",
     "shell.execute_reply": "2024-05-15T06:27:18.753080Z"
    },
    "papermill": {
     "duration": 0.05282,
     "end_time": "2024-05-15T06:27:18.756610",
     "exception": false,
     "start_time": "2024-05-15T06:27:18.703790",
     "status": "completed"
    },
    "tags": []
   },
   "outputs": [
    {
     "data": {
      "text/plain": [
       "((478, 3), (478, 3), (956, 3))"
      ]
     },
     "execution_count": 55,
     "metadata": {},
     "output_type": "execute_result"
    }
   ],
   "source": [
    "threetening_comment_balanced = pd.concat([threat_comment_df_1, threat_comment_df_0])\n",
    "threat_comment_df_1.shape,  threat_comment_df_1.shape, threetening_comment_balanced.shape"
   ]
  },
  {
   "cell_type": "code",
   "execution_count": null,
   "id": "299f1078",
   "metadata": {
    "papermill": {
     "duration": 0.040944,
     "end_time": "2024-05-15T06:27:18.838212",
     "exception": false,
     "start_time": "2024-05-15T06:27:18.797268",
     "status": "completed"
    },
    "tags": []
   },
   "outputs": [],
   "source": []
  },
  {
   "cell_type": "code",
   "execution_count": 56,
   "id": "2e922574",
   "metadata": {
    "execution": {
     "iopub.execute_input": "2024-05-15T06:27:18.922095Z",
     "iopub.status.busy": "2024-05-15T06:27:18.921644Z",
     "iopub.status.idle": "2024-05-15T06:27:18.926626Z",
     "shell.execute_reply": "2024-05-15T06:27:18.925545Z"
    },
    "papermill": {
     "duration": 0.049538,
     "end_time": "2024-05-15T06:27:18.928919",
     "exception": false,
     "start_time": "2024-05-15T06:27:18.879381",
     "status": "completed"
    },
    "tags": []
   },
   "outputs": [],
   "source": [
    "# Repeating the same for identity hate comment"
   ]
  },
  {
   "cell_type": "code",
   "execution_count": 57,
   "id": "baa472a1",
   "metadata": {
    "execution": {
     "iopub.execute_input": "2024-05-15T06:27:19.014308Z",
     "iopub.status.busy": "2024-05-15T06:27:19.013885Z",
     "iopub.status.idle": "2024-05-15T06:27:19.030730Z",
     "shell.execute_reply": "2024-05-15T06:27:19.029546Z"
    },
    "papermill": {
     "duration": 0.063563,
     "end_time": "2024-05-15T06:27:19.033522",
     "exception": false,
     "start_time": "2024-05-15T06:27:18.969959",
     "status": "completed"
    },
    "tags": []
   },
   "outputs": [
    {
     "data": {
      "text/html": [
       "<div>\n",
       "<style scoped>\n",
       "    .dataframe tbody tr th:only-of-type {\n",
       "        vertical-align: middle;\n",
       "    }\n",
       "\n",
       "    .dataframe tbody tr th {\n",
       "        vertical-align: top;\n",
       "    }\n",
       "\n",
       "    .dataframe thead th {\n",
       "        text-align: right;\n",
       "    }\n",
       "</style>\n",
       "<table border=\"1\" class=\"dataframe\">\n",
       "  <thead>\n",
       "    <tr style=\"text-align: right;\">\n",
       "      <th></th>\n",
       "      <th>id</th>\n",
       "      <th>comment_text</th>\n",
       "      <th>identity_hate</th>\n",
       "    </tr>\n",
       "  </thead>\n",
       "  <tbody>\n",
       "    <tr>\n",
       "      <th>85459</th>\n",
       "      <td>e496bf479d10ab39</td>\n",
       "      <td>I am convinced that too many people are bad fa...</td>\n",
       "      <td>0</td>\n",
       "    </tr>\n",
       "    <tr>\n",
       "      <th>51442</th>\n",
       "      <td>899c7847276f2f8d</td>\n",
       "      <td>You must be stupid \\n\\nI am referencing an act...</td>\n",
       "      <td>0</td>\n",
       "    </tr>\n",
       "  </tbody>\n",
       "</table>\n",
       "</div>"
      ],
      "text/plain": [
       "                     id                                       comment_text  \\\n",
       "85459  e496bf479d10ab39  I am convinced that too many people are bad fa...   \n",
       "51442  899c7847276f2f8d  You must be stupid \\n\\nI am referencing an act...   \n",
       "\n",
       "       identity_hate  \n",
       "85459              0  \n",
       "51442              0  "
      ]
     },
     "execution_count": 57,
     "metadata": {},
     "output_type": "execute_result"
    }
   ],
   "source": [
    "identityhate_comment_df.sample(2)"
   ]
  },
  {
   "cell_type": "code",
   "execution_count": 58,
   "id": "8e9cfda6",
   "metadata": {
    "execution": {
     "iopub.execute_input": "2024-05-15T06:27:19.120523Z",
     "iopub.status.busy": "2024-05-15T06:27:19.119706Z",
     "iopub.status.idle": "2024-05-15T06:27:19.130800Z",
     "shell.execute_reply": "2024-05-15T06:27:19.129287Z"
    },
    "papermill": {
     "duration": 0.057183,
     "end_time": "2024-05-15T06:27:19.133388",
     "exception": false,
     "start_time": "2024-05-15T06:27:19.076205",
     "status": "completed"
    },
    "tags": []
   },
   "outputs": [
    {
     "data": {
      "text/plain": [
       "identity_hate\n",
       "0    158166\n",
       "1      1405\n",
       "Name: count, dtype: int64"
      ]
     },
     "execution_count": 58,
     "metadata": {},
     "output_type": "execute_result"
    }
   ],
   "source": [
    "identityhate_comment_df['identity_hate'].value_counts()\n",
    "# There inbalance data"
   ]
  },
  {
   "cell_type": "code",
   "execution_count": 59,
   "id": "5bb9800d",
   "metadata": {
    "execution": {
     "iopub.execute_input": "2024-05-15T06:27:19.217735Z",
     "iopub.status.busy": "2024-05-15T06:27:19.217052Z",
     "iopub.status.idle": "2024-05-15T06:27:19.224221Z",
     "shell.execute_reply": "2024-05-15T06:27:19.223406Z"
    },
    "papermill": {
     "duration": 0.052071,
     "end_time": "2024-05-15T06:27:19.226476",
     "exception": false,
     "start_time": "2024-05-15T06:27:19.174405",
     "status": "completed"
    },
    "tags": []
   },
   "outputs": [],
   "source": [
    "identityhate_comment_df_1 = identityhate_comment_df[identityhate_comment_df['identity_hate'] == 1].iloc[0:1405, :]"
   ]
  },
  {
   "cell_type": "code",
   "execution_count": 60,
   "id": "9320c434",
   "metadata": {
    "execution": {
     "iopub.execute_input": "2024-05-15T06:27:19.313218Z",
     "iopub.status.busy": "2024-05-15T06:27:19.312515Z",
     "iopub.status.idle": "2024-05-15T06:27:19.327061Z",
     "shell.execute_reply": "2024-05-15T06:27:19.326064Z"
    },
    "papermill": {
     "duration": 0.061606,
     "end_time": "2024-05-15T06:27:19.329587",
     "exception": false,
     "start_time": "2024-05-15T06:27:19.267981",
     "status": "completed"
    },
    "tags": []
   },
   "outputs": [],
   "source": [
    "identityhate_comment_df_0 = identityhate_comment_df[identityhate_comment_df['identity_hate'] == 0].iloc[0:1405, :]"
   ]
  },
  {
   "cell_type": "code",
   "execution_count": 61,
   "id": "a83c6642",
   "metadata": {
    "execution": {
     "iopub.execute_input": "2024-05-15T06:27:19.415798Z",
     "iopub.status.busy": "2024-05-15T06:27:19.415102Z",
     "iopub.status.idle": "2024-05-15T06:27:19.423267Z",
     "shell.execute_reply": "2024-05-15T06:27:19.422219Z"
    },
    "papermill": {
     "duration": 0.054235,
     "end_time": "2024-05-15T06:27:19.425682",
     "exception": false,
     "start_time": "2024-05-15T06:27:19.371447",
     "status": "completed"
    },
    "tags": []
   },
   "outputs": [
    {
     "data": {
      "text/plain": [
       "((1405, 3), (1405, 3), (2810, 3))"
      ]
     },
     "execution_count": 61,
     "metadata": {},
     "output_type": "execute_result"
    }
   ],
   "source": [
    "identityhate_comment_balanced = pd.concat([identityhate_comment_df_1, identityhate_comment_df_0])\n",
    "identityhate_comment_df_1.shape, identityhate_comment_df_0.shape, identityhate_comment_balanced.shape"
   ]
  },
  {
   "cell_type": "code",
   "execution_count": 62,
   "id": "fb28a3be",
   "metadata": {
    "execution": {
     "iopub.execute_input": "2024-05-15T06:27:19.510878Z",
     "iopub.status.busy": "2024-05-15T06:27:19.510073Z",
     "iopub.status.idle": "2024-05-15T06:27:19.514903Z",
     "shell.execute_reply": "2024-05-15T06:27:19.513954Z"
    },
    "papermill": {
     "duration": 0.050214,
     "end_time": "2024-05-15T06:27:19.517271",
     "exception": false,
     "start_time": "2024-05-15T06:27:19.467057",
     "status": "completed"
    },
    "tags": []
   },
   "outputs": [],
   "source": [
    "# Repeating the same for insult hate comment"
   ]
  },
  {
   "cell_type": "code",
   "execution_count": 63,
   "id": "8435111a",
   "metadata": {
    "execution": {
     "iopub.execute_input": "2024-05-15T06:27:19.602499Z",
     "iopub.status.busy": "2024-05-15T06:27:19.601742Z",
     "iopub.status.idle": "2024-05-15T06:27:19.610931Z",
     "shell.execute_reply": "2024-05-15T06:27:19.609939Z"
    },
    "papermill": {
     "duration": 0.054516,
     "end_time": "2024-05-15T06:27:19.613146",
     "exception": false,
     "start_time": "2024-05-15T06:27:19.558630",
     "status": "completed"
    },
    "tags": []
   },
   "outputs": [
    {
     "data": {
      "text/plain": [
       "insult\n",
       "0    151694\n",
       "1      7877\n",
       "Name: count, dtype: int64"
      ]
     },
     "execution_count": 63,
     "metadata": {},
     "output_type": "execute_result"
    }
   ],
   "source": [
    "insulting_comment_df['insult'].value_counts()"
   ]
  },
  {
   "cell_type": "code",
   "execution_count": 64,
   "id": "4a9b37d7",
   "metadata": {
    "execution": {
     "iopub.execute_input": "2024-05-15T06:27:19.698548Z",
     "iopub.status.busy": "2024-05-15T06:27:19.697847Z",
     "iopub.status.idle": "2024-05-15T06:27:19.705362Z",
     "shell.execute_reply": "2024-05-15T06:27:19.704528Z"
    },
    "papermill": {
     "duration": 0.05338,
     "end_time": "2024-05-15T06:27:19.707935",
     "exception": false,
     "start_time": "2024-05-15T06:27:19.654555",
     "status": "completed"
    },
    "tags": []
   },
   "outputs": [],
   "source": [
    "insulting_comment_df_1 = insulting_comment_df[insulting_comment_df['insult'] == 1].iloc[0:7877, :]"
   ]
  },
  {
   "cell_type": "code",
   "execution_count": 65,
   "id": "46be35e4",
   "metadata": {
    "execution": {
     "iopub.execute_input": "2024-05-15T06:27:19.794100Z",
     "iopub.status.busy": "2024-05-15T06:27:19.793501Z",
     "iopub.status.idle": "2024-05-15T06:27:19.810797Z",
     "shell.execute_reply": "2024-05-15T06:27:19.809817Z"
    },
    "papermill": {
     "duration": 0.063283,
     "end_time": "2024-05-15T06:27:19.813380",
     "exception": false,
     "start_time": "2024-05-15T06:27:19.750097",
     "status": "completed"
    },
    "tags": []
   },
   "outputs": [],
   "source": [
    "insulting_comment_df_0 = insulting_comment_df[insulting_comment_df['insult'] == 0].iloc[0:7877, :]"
   ]
  },
  {
   "cell_type": "code",
   "execution_count": 66,
   "id": "20b9cc3c",
   "metadata": {
    "execution": {
     "iopub.execute_input": "2024-05-15T06:27:19.899369Z",
     "iopub.status.busy": "2024-05-15T06:27:19.898758Z",
     "iopub.status.idle": "2024-05-15T06:27:19.907288Z",
     "shell.execute_reply": "2024-05-15T06:27:19.906212Z"
    },
    "papermill": {
     "duration": 0.054871,
     "end_time": "2024-05-15T06:27:19.909705",
     "exception": false,
     "start_time": "2024-05-15T06:27:19.854834",
     "status": "completed"
    },
    "tags": []
   },
   "outputs": [
    {
     "data": {
      "text/plain": [
       "((7877, 3), (7877, 3), (15754, 3))"
      ]
     },
     "execution_count": 66,
     "metadata": {},
     "output_type": "execute_result"
    }
   ],
   "source": [
    "insulting_comment_balanced = pd.concat([insulting_comment_df_1, insulting_comment_df_0])\n",
    "insulting_comment_df_1.shape, insulting_comment_df_0.shape, insulting_comment_balanced.shape"
   ]
  },
  {
   "cell_type": "code",
   "execution_count": null,
   "id": "7a497e52",
   "metadata": {
    "papermill": {
     "duration": 0.041459,
     "end_time": "2024-05-15T06:27:19.992829",
     "exception": false,
     "start_time": "2024-05-15T06:27:19.951370",
     "status": "completed"
    },
    "tags": []
   },
   "outputs": [],
   "source": []
  },
  {
   "cell_type": "code",
   "execution_count": null,
   "id": "1df24bd6",
   "metadata": {
    "papermill": {
     "duration": 0.041159,
     "end_time": "2024-05-15T06:27:20.076430",
     "exception": false,
     "start_time": "2024-05-15T06:27:20.035271",
     "status": "completed"
    },
    "tags": []
   },
   "outputs": [],
   "source": []
  },
  {
   "cell_type": "code",
   "execution_count": 67,
   "id": "d5780a94",
   "metadata": {
    "execution": {
     "iopub.execute_input": "2024-05-15T06:27:20.162366Z",
     "iopub.status.busy": "2024-05-15T06:27:20.161593Z",
     "iopub.status.idle": "2024-05-15T06:27:20.166188Z",
     "shell.execute_reply": "2024-05-15T06:27:20.165407Z"
    },
    "papermill": {
     "duration": 0.049833,
     "end_time": "2024-05-15T06:27:20.168370",
     "exception": false,
     "start_time": "2024-05-15T06:27:20.118537",
     "status": "completed"
    },
    "tags": []
   },
   "outputs": [],
   "source": [
    "# Machine Learning"
   ]
  },
  {
   "cell_type": "code",
   "execution_count": 68,
   "id": "a982ef21",
   "metadata": {
    "execution": {
     "iopub.execute_input": "2024-05-15T06:27:20.253762Z",
     "iopub.status.busy": "2024-05-15T06:27:20.252992Z",
     "iopub.status.idle": "2024-05-15T06:27:20.439955Z",
     "shell.execute_reply": "2024-05-15T06:27:20.438619Z"
    },
    "papermill": {
     "duration": 0.232976,
     "end_time": "2024-05-15T06:27:20.442787",
     "exception": false,
     "start_time": "2024-05-15T06:27:20.209811",
     "status": "completed"
    },
    "tags": []
   },
   "outputs": [],
   "source": [
    "from sklearn import preprocessing\n",
    "from sklearn.feature_selection import SelectFromModel\n",
    "\n",
    "from sklearn.model_selection import train_test_split, KFold, cross_val_score\n",
    "from sklearn.metrics import f1_score, precision_score, recall_score, precision_recall_curve, fbeta_score, confusion_matrix\n",
    "from sklearn.metrics import roc_auc_score, roc_curve\n",
    "\n",
    "from sklearn.linear_model import LogisticRegression\n",
    "from sklearn.neighbors import KNeighborsClassifier\n",
    "from sklearn.naive_bayes import MultinomialNB, BernoulliNB\n",
    "from sklearn.svm import LinearSVC\n",
    "from sklearn.ensemble import RandomForestClassifier\n",
    "\n",
    "from sklearn.feature_extraction.text import CountVectorizer, TfidfVectorizer\n",
    "from nltk import ngrams, bigrams, trigrams"
   ]
  },
  {
   "cell_type": "code",
   "execution_count": 69,
   "id": "505968c6",
   "metadata": {
    "execution": {
     "iopub.execute_input": "2024-05-15T06:27:20.531455Z",
     "iopub.status.busy": "2024-05-15T06:27:20.530700Z",
     "iopub.status.idle": "2024-05-15T06:27:20.542772Z",
     "shell.execute_reply": "2024-05-15T06:27:20.541955Z"
    },
    "papermill": {
     "duration": 0.058632,
     "end_time": "2024-05-15T06:27:20.545242",
     "exception": false,
     "start_time": "2024-05-15T06:27:20.486610",
     "status": "completed"
    },
    "tags": []
   },
   "outputs": [],
   "source": [
    "def cv_tf_train_test(dataframe, label, vectorizer, ngram):\n",
    "    # split the data into X and y datasets\n",
    "    X = dataframe.comment_text\n",
    "    y = dataframe[label]\n",
    "    \n",
    "    # Split our data into training and test data\n",
    "    X_train, X_test, y_train, y_test = train_test_split(X, y, test_size = 0.3, random_state=50)\n",
    "    \n",
    "    # Using vectorize and removing stopwords\n",
    "    cv1 = vectorizer(ngram_range=(ngram), stop_words='english')\n",
    "    \n",
    "    # transforming x-traian and x-test\n",
    "    X_train_cv1 = cv1.fit_transform(X_train)\n",
    "    X_test_cv1 = cv1.transform(X_test)\n",
    "    \n",
    "    # Machine learning models\n",
    "    \n",
    "    ## Logistic regression\n",
    "    lr = LogisticRegression()\n",
    "    lr.fit(X_train_cv1, y_train)\n",
    "    \n",
    "    ## K-nearest neightbours\n",
    "    knn = KNeighborsClassifier(n_neighbors=5)\n",
    "    knn.fit(X_train_cv1, y_train)\n",
    "    \n",
    "    ## Naive Bayes\n",
    "    bnb = BernoulliNB()\n",
    "    bnb.fit(X_train_cv1, y_train)\n",
    "    \n",
    "    ## Multinomial Naice bayes\n",
    "    mnb = MultinomialNB()\n",
    "    mnb.fit(X_train_cv1, y_train)\n",
    "    \n",
    "    # Support vector machine\n",
    "    svm_model = LinearSVC()\n",
    "    svm_model.fit(X_train_cv1, y_train)\n",
    "    \n",
    "    # Random Forest\n",
    "    randomforest = RandomForestClassifier(n_estimators=100, random_state=50)\n",
    "    randomforest.fit(X_train_cv1, y_train)\n",
    "    \n",
    "    f1_score_data = {'F1 score': [f1_score(lr.predict(X_test_cv1), y_test), f1_score(knn.predict(X_test_cv1), y_test),\n",
    "                                 f1_score(bnb.predict(X_test_cv1), y_test), f1_score(mnb.predict(X_test_cv1), y_test),\n",
    "                                 f1_score(svm_model.predict(X_test_cv1), y_test), f1_score(randomforest.predict(X_test_cv1), y_test)]}\n",
    "    \n",
    "    # Saving f1 score results into a dataframe\n",
    "    df_f1 = pd.DataFrame(f1_score_data, index=['Log Regression', 'KNN','BernoulliNB','MultinomialNB','SVM', 'Random Forest'])\n",
    "    \n",
    "    return df_f1"
   ]
  },
  {
   "cell_type": "code",
   "execution_count": 70,
   "id": "ede2a7d6",
   "metadata": {
    "execution": {
     "iopub.execute_input": "2024-05-15T06:27:20.630719Z",
     "iopub.status.busy": "2024-05-15T06:27:20.629973Z",
     "iopub.status.idle": "2024-05-15T06:27:20.634306Z",
     "shell.execute_reply": "2024-05-15T06:27:20.633449Z"
    },
    "papermill": {
     "duration": 0.049973,
     "end_time": "2024-05-15T06:27:20.636509",
     "exception": false,
     "start_time": "2024-05-15T06:27:20.586536",
     "status": "completed"
    },
    "tags": []
   },
   "outputs": [],
   "source": [
    "# Evaluating model performance using evaluation metrics"
   ]
  },
  {
   "cell_type": "code",
   "execution_count": 71,
   "id": "72ced262",
   "metadata": {
    "execution": {
     "iopub.execute_input": "2024-05-15T06:27:20.721702Z",
     "iopub.status.busy": "2024-05-15T06:27:20.720969Z",
     "iopub.status.idle": "2024-05-15T06:27:24.079016Z",
     "shell.execute_reply": "2024-05-15T06:27:24.078046Z"
    },
    "papermill": {
     "duration": 3.404108,
     "end_time": "2024-05-15T06:27:24.081986",
     "exception": false,
     "start_time": "2024-05-15T06:27:20.677878",
     "status": "completed"
    },
    "tags": []
   },
   "outputs": [],
   "source": [
    "severe_toxic_comment_cv = cv_tf_train_test(severe_comment_balanced, 'severe_toxic', TfidfVectorizer, (1,1))"
   ]
  },
  {
   "cell_type": "code",
   "execution_count": 72,
   "id": "f5ff87bd",
   "metadata": {
    "execution": {
     "iopub.execute_input": "2024-05-15T06:27:24.168070Z",
     "iopub.status.busy": "2024-05-15T06:27:24.167446Z",
     "iopub.status.idle": "2024-05-15T06:27:24.176735Z",
     "shell.execute_reply": "2024-05-15T06:27:24.175792Z"
    },
    "papermill": {
     "duration": 0.055223,
     "end_time": "2024-05-15T06:27:24.179125",
     "exception": false,
     "start_time": "2024-05-15T06:27:24.123902",
     "status": "completed"
    },
    "tags": []
   },
   "outputs": [
    {
     "data": {
      "text/html": [
       "<div>\n",
       "<style scoped>\n",
       "    .dataframe tbody tr th:only-of-type {\n",
       "        vertical-align: middle;\n",
       "    }\n",
       "\n",
       "    .dataframe tbody tr th {\n",
       "        vertical-align: top;\n",
       "    }\n",
       "\n",
       "    .dataframe thead th {\n",
       "        text-align: right;\n",
       "    }\n",
       "</style>\n",
       "<table border=\"1\" class=\"dataframe\">\n",
       "  <thead>\n",
       "    <tr style=\"text-align: right;\">\n",
       "      <th></th>\n",
       "      <th>F1 score</th>\n",
       "    </tr>\n",
       "  </thead>\n",
       "  <tbody>\n",
       "    <tr>\n",
       "      <th>Log Regression</th>\n",
       "      <td>0.946004</td>\n",
       "    </tr>\n",
       "    <tr>\n",
       "      <th>KNN</th>\n",
       "      <td>0.861836</td>\n",
       "    </tr>\n",
       "    <tr>\n",
       "      <th>BernoulliNB</th>\n",
       "      <td>0.789700</td>\n",
       "    </tr>\n",
       "    <tr>\n",
       "      <th>MultinomialNB</th>\n",
       "      <td>0.930041</td>\n",
       "    </tr>\n",
       "    <tr>\n",
       "      <th>SVM</th>\n",
       "      <td>0.936763</td>\n",
       "    </tr>\n",
       "    <tr>\n",
       "      <th>Random Forest</th>\n",
       "      <td>0.923237</td>\n",
       "    </tr>\n",
       "  </tbody>\n",
       "</table>\n",
       "</div>"
      ],
      "text/plain": [
       "                F1 score\n",
       "Log Regression  0.946004\n",
       "KNN             0.861836\n",
       "BernoulliNB     0.789700\n",
       "MultinomialNB   0.930041\n",
       "SVM             0.936763\n",
       "Random Forest   0.923237"
      ]
     },
     "execution_count": 72,
     "metadata": {},
     "output_type": "execute_result"
    }
   ],
   "source": [
    "severe_toxic_comment_cv\n",
    "# LogRegression is the best estimator for severee toxic"
   ]
  },
  {
   "cell_type": "code",
   "execution_count": 73,
   "id": "3a1ca196",
   "metadata": {
    "execution": {
     "iopub.execute_input": "2024-05-15T06:27:24.265412Z",
     "iopub.status.busy": "2024-05-15T06:27:24.264804Z",
     "iopub.status.idle": "2024-05-15T06:28:04.615765Z",
     "shell.execute_reply": "2024-05-15T06:28:04.614551Z"
    },
    "papermill": {
     "duration": 40.439431,
     "end_time": "2024-05-15T06:28:04.660363",
     "exception": false,
     "start_time": "2024-05-15T06:27:24.220932",
     "status": "completed"
    },
    "tags": []
   },
   "outputs": [
    {
     "data": {
      "text/html": [
       "<div>\n",
       "<style scoped>\n",
       "    .dataframe tbody tr th:only-of-type {\n",
       "        vertical-align: middle;\n",
       "    }\n",
       "\n",
       "    .dataframe tbody tr th {\n",
       "        vertical-align: top;\n",
       "    }\n",
       "\n",
       "    .dataframe thead th {\n",
       "        text-align: right;\n",
       "    }\n",
       "</style>\n",
       "<table border=\"1\" class=\"dataframe\">\n",
       "  <thead>\n",
       "    <tr style=\"text-align: right;\">\n",
       "      <th></th>\n",
       "      <th>F1 score (Obscene)</th>\n",
       "    </tr>\n",
       "  </thead>\n",
       "  <tbody>\n",
       "    <tr>\n",
       "      <th>Log Regression</th>\n",
       "      <td>0.916327</td>\n",
       "    </tr>\n",
       "    <tr>\n",
       "      <th>KNN</th>\n",
       "      <td>0.751443</td>\n",
       "    </tr>\n",
       "    <tr>\n",
       "      <th>BernoulliNB</th>\n",
       "      <td>0.786767</td>\n",
       "    </tr>\n",
       "    <tr>\n",
       "      <th>MultinomialNB</th>\n",
       "      <td>0.898175</td>\n",
       "    </tr>\n",
       "    <tr>\n",
       "      <th>SVM</th>\n",
       "      <td>0.930924</td>\n",
       "    </tr>\n",
       "    <tr>\n",
       "      <th>Random Forest</th>\n",
       "      <td>0.908311</td>\n",
       "    </tr>\n",
       "  </tbody>\n",
       "</table>\n",
       "</div>"
      ],
      "text/plain": [
       "                F1 score (Obscene)\n",
       "Log Regression            0.916327\n",
       "KNN                       0.751443\n",
       "BernoulliNB               0.786767\n",
       "MultinomialNB             0.898175\n",
       "SVM                       0.930924\n",
       "Random Forest             0.908311"
      ]
     },
     "execution_count": 73,
     "metadata": {},
     "output_type": "execute_result"
    }
   ],
   "source": [
    "obscene_toxic_comment_cv = cv_tf_train_test(obscene_comment_balanced, 'obscene', TfidfVectorizer, (1,1))\n",
    "obscene_toxic_comment_cv.rename(columns={'F1 score':'F1 score (Obscene)'}, inplace=True) # Change column name\n",
    "obscene_toxic_comment_cv\n",
    "# LogRegression is the best estimator for obscene toxic"
   ]
  },
  {
   "cell_type": "code",
   "execution_count": 74,
   "id": "61a976ea",
   "metadata": {
    "execution": {
     "iopub.execute_input": "2024-05-15T06:28:04.762690Z",
     "iopub.status.busy": "2024-05-15T06:28:04.761875Z",
     "iopub.status.idle": "2024-05-15T06:28:05.573041Z",
     "shell.execute_reply": "2024-05-15T06:28:05.571917Z"
    },
    "papermill": {
     "duration": 0.869916,
     "end_time": "2024-05-15T06:28:05.575558",
     "exception": false,
     "start_time": "2024-05-15T06:28:04.705642",
     "status": "completed"
    },
    "tags": []
   },
   "outputs": [
    {
     "data": {
      "text/html": [
       "<div>\n",
       "<style scoped>\n",
       "    .dataframe tbody tr th:only-of-type {\n",
       "        vertical-align: middle;\n",
       "    }\n",
       "\n",
       "    .dataframe tbody tr th {\n",
       "        vertical-align: top;\n",
       "    }\n",
       "\n",
       "    .dataframe thead th {\n",
       "        text-align: right;\n",
       "    }\n",
       "</style>\n",
       "<table border=\"1\" class=\"dataframe\">\n",
       "  <thead>\n",
       "    <tr style=\"text-align: right;\">\n",
       "      <th></th>\n",
       "      <th>F1 score (threat)</th>\n",
       "    </tr>\n",
       "  </thead>\n",
       "  <tbody>\n",
       "    <tr>\n",
       "      <th>Log Regression</th>\n",
       "      <td>0.905660</td>\n",
       "    </tr>\n",
       "    <tr>\n",
       "      <th>KNN</th>\n",
       "      <td>0.865574</td>\n",
       "    </tr>\n",
       "    <tr>\n",
       "      <th>BernoulliNB</th>\n",
       "      <td>0.751381</td>\n",
       "    </tr>\n",
       "    <tr>\n",
       "      <th>MultinomialNB</th>\n",
       "      <td>0.912281</td>\n",
       "    </tr>\n",
       "    <tr>\n",
       "      <th>SVM</th>\n",
       "      <td>0.898876</td>\n",
       "    </tr>\n",
       "    <tr>\n",
       "      <th>Random Forest</th>\n",
       "      <td>0.904594</td>\n",
       "    </tr>\n",
       "  </tbody>\n",
       "</table>\n",
       "</div>"
      ],
      "text/plain": [
       "                F1 score (threat)\n",
       "Log Regression           0.905660\n",
       "KNN                      0.865574\n",
       "BernoulliNB              0.751381\n",
       "MultinomialNB            0.912281\n",
       "SVM                      0.898876\n",
       "Random Forest            0.904594"
      ]
     },
     "execution_count": 74,
     "metadata": {},
     "output_type": "execute_result"
    }
   ],
   "source": [
    "threetening_toxic_comment_cv = cv_tf_train_test(threetening_comment_balanced, 'threat', TfidfVectorizer, (1,1))\n",
    "threetening_toxic_comment_cv.rename(columns={'F1 score':'F1 score (threat)'}, inplace=True) # Change column name\n",
    "threetening_toxic_comment_cv\n",
    "# MultinomialNB is the best estimator for threeetening comment"
   ]
  },
  {
   "cell_type": "code",
   "execution_count": 75,
   "id": "0d73f602",
   "metadata": {
    "execution": {
     "iopub.execute_input": "2024-05-15T06:28:05.662599Z",
     "iopub.status.busy": "2024-05-15T06:28:05.661956Z",
     "iopub.status.idle": "2024-05-15T06:28:44.718733Z",
     "shell.execute_reply": "2024-05-15T06:28:44.716999Z"
    },
    "papermill": {
     "duration": 39.163675,
     "end_time": "2024-05-15T06:28:44.781317",
     "exception": false,
     "start_time": "2024-05-15T06:28:05.617642",
     "status": "completed"
    },
    "tags": []
   },
   "outputs": [
    {
     "data": {
      "text/html": [
       "<div>\n",
       "<style scoped>\n",
       "    .dataframe tbody tr th:only-of-type {\n",
       "        vertical-align: middle;\n",
       "    }\n",
       "\n",
       "    .dataframe tbody tr th {\n",
       "        vertical-align: top;\n",
       "    }\n",
       "\n",
       "    .dataframe thead th {\n",
       "        text-align: right;\n",
       "    }\n",
       "</style>\n",
       "<table border=\"1\" class=\"dataframe\">\n",
       "  <thead>\n",
       "    <tr style=\"text-align: right;\">\n",
       "      <th></th>\n",
       "      <th>F1 score (insult)</th>\n",
       "    </tr>\n",
       "  </thead>\n",
       "  <tbody>\n",
       "    <tr>\n",
       "      <th>Log Regression</th>\n",
       "      <td>0.905841</td>\n",
       "    </tr>\n",
       "    <tr>\n",
       "      <th>KNN</th>\n",
       "      <td>0.414705</td>\n",
       "    </tr>\n",
       "    <tr>\n",
       "      <th>BernoulliNB</th>\n",
       "      <td>0.790218</td>\n",
       "    </tr>\n",
       "    <tr>\n",
       "      <th>MultinomialNB</th>\n",
       "      <td>0.899832</td>\n",
       "    </tr>\n",
       "    <tr>\n",
       "      <th>SVM</th>\n",
       "      <td>0.908157</td>\n",
       "    </tr>\n",
       "    <tr>\n",
       "      <th>Random Forest</th>\n",
       "      <td>0.890742</td>\n",
       "    </tr>\n",
       "  </tbody>\n",
       "</table>\n",
       "</div>"
      ],
      "text/plain": [
       "                F1 score (insult)\n",
       "Log Regression           0.905841\n",
       "KNN                      0.414705\n",
       "BernoulliNB              0.790218\n",
       "MultinomialNB            0.899832\n",
       "SVM                      0.908157\n",
       "Random Forest            0.890742"
      ]
     },
     "execution_count": 75,
     "metadata": {},
     "output_type": "execute_result"
    }
   ],
   "source": [
    "insulting_toxic_comment_cv = cv_tf_train_test(insulting_comment_balanced, 'insult', TfidfVectorizer, (1,1))\n",
    "insulting_toxic_comment_cv.rename(columns={'F1 score':'F1 score (insult)'}, inplace=True) # Change column name\n",
    "insulting_toxic_comment_cv\n",
    "# SVM is the best estimator for insulting comment "
   ]
  },
  {
   "cell_type": "code",
   "execution_count": 76,
   "id": "6a580801",
   "metadata": {
    "execution": {
     "iopub.execute_input": "2024-05-15T06:28:44.869340Z",
     "iopub.status.busy": "2024-05-15T06:28:44.868970Z",
     "iopub.status.idle": "2024-05-15T06:28:47.828399Z",
     "shell.execute_reply": "2024-05-15T06:28:47.827273Z"
    },
    "papermill": {
     "duration": 3.006067,
     "end_time": "2024-05-15T06:28:47.830907",
     "exception": false,
     "start_time": "2024-05-15T06:28:44.824840",
     "status": "completed"
    },
    "tags": []
   },
   "outputs": [
    {
     "data": {
      "text/html": [
       "<div>\n",
       "<style scoped>\n",
       "    .dataframe tbody tr th:only-of-type {\n",
       "        vertical-align: middle;\n",
       "    }\n",
       "\n",
       "    .dataframe tbody tr th {\n",
       "        vertical-align: top;\n",
       "    }\n",
       "\n",
       "    .dataframe thead th {\n",
       "        text-align: right;\n",
       "    }\n",
       "</style>\n",
       "<table border=\"1\" class=\"dataframe\">\n",
       "  <thead>\n",
       "    <tr style=\"text-align: right;\">\n",
       "      <th></th>\n",
       "      <th>F1 score (identity_hate)</th>\n",
       "    </tr>\n",
       "  </thead>\n",
       "  <tbody>\n",
       "    <tr>\n",
       "      <th>Log Regression</th>\n",
       "      <td>0.907063</td>\n",
       "    </tr>\n",
       "    <tr>\n",
       "      <th>KNN</th>\n",
       "      <td>0.825766</td>\n",
       "    </tr>\n",
       "    <tr>\n",
       "      <th>BernoulliNB</th>\n",
       "      <td>0.774879</td>\n",
       "    </tr>\n",
       "    <tr>\n",
       "      <th>MultinomialNB</th>\n",
       "      <td>0.902238</td>\n",
       "    </tr>\n",
       "    <tr>\n",
       "      <th>SVM</th>\n",
       "      <td>0.900857</td>\n",
       "    </tr>\n",
       "    <tr>\n",
       "      <th>Random Forest</th>\n",
       "      <td>0.865604</td>\n",
       "    </tr>\n",
       "  </tbody>\n",
       "</table>\n",
       "</div>"
      ],
      "text/plain": [
       "                F1 score (identity_hate)\n",
       "Log Regression                  0.907063\n",
       "KNN                             0.825766\n",
       "BernoulliNB                     0.774879\n",
       "MultinomialNB                   0.902238\n",
       "SVM                             0.900857\n",
       "Random Forest                   0.865604"
      ]
     },
     "execution_count": 76,
     "metadata": {},
     "output_type": "execute_result"
    }
   ],
   "source": [
    "identityhate_toxic_comment_cv = cv_tf_train_test(identityhate_comment_balanced, 'identity_hate', TfidfVectorizer, (1,1))\n",
    "identityhate_toxic_comment_cv.rename(columns={'F1 score':'F1 score (identity_hate)'}, inplace=True) # Change column name\n",
    "identityhate_toxic_comment_cv\n",
    "# LogRegression is the best estimator for identity hate "
   ]
  },
  {
   "cell_type": "code",
   "execution_count": 77,
   "id": "c90e35f3",
   "metadata": {
    "execution": {
     "iopub.execute_input": "2024-05-15T06:28:47.918215Z",
     "iopub.status.busy": "2024-05-15T06:28:47.917596Z",
     "iopub.status.idle": "2024-05-15T06:28:47.930096Z",
     "shell.execute_reply": "2024-05-15T06:28:47.928849Z"
    },
    "papermill": {
     "duration": 0.05924,
     "end_time": "2024-05-15T06:28:47.932714",
     "exception": false,
     "start_time": "2024-05-15T06:28:47.873474",
     "status": "completed"
    },
    "tags": []
   },
   "outputs": [
    {
     "data": {
      "text/html": [
       "<div>\n",
       "<style scoped>\n",
       "    .dataframe tbody tr th:only-of-type {\n",
       "        vertical-align: middle;\n",
       "    }\n",
       "\n",
       "    .dataframe tbody tr th {\n",
       "        vertical-align: top;\n",
       "    }\n",
       "\n",
       "    .dataframe thead th {\n",
       "        text-align: right;\n",
       "    }\n",
       "</style>\n",
       "<table border=\"1\" class=\"dataframe\">\n",
       "  <thead>\n",
       "    <tr style=\"text-align: right;\">\n",
       "      <th></th>\n",
       "      <th>id</th>\n",
       "      <th>comment_text</th>\n",
       "      <th>toxic</th>\n",
       "    </tr>\n",
       "  </thead>\n",
       "  <tbody>\n",
       "    <tr>\n",
       "      <th>6</th>\n",
       "      <td>0002bcb3da6cb337</td>\n",
       "      <td>COCKSUCKER BEFORE YOU PISS AROUND ON MY WORK</td>\n",
       "      <td>1</td>\n",
       "    </tr>\n",
       "    <tr>\n",
       "      <th>12</th>\n",
       "      <td>0005c987bdfc9d4b</td>\n",
       "      <td>Hey... what is it..\\n@ | talk .\\nWhat is it......</td>\n",
       "      <td>1</td>\n",
       "    </tr>\n",
       "    <tr>\n",
       "      <th>16</th>\n",
       "      <td>0007e25b2121310b</td>\n",
       "      <td>Bye! \\n\\nDon't look, come or think of comming ...</td>\n",
       "      <td>1</td>\n",
       "    </tr>\n",
       "    <tr>\n",
       "      <th>42</th>\n",
       "      <td>001810bf8c45bf5f</td>\n",
       "      <td>You are gay or antisemmitian? \\n\\nArchangel WH...</td>\n",
       "      <td>1</td>\n",
       "    </tr>\n",
       "    <tr>\n",
       "      <th>43</th>\n",
       "      <td>00190820581d90ce</td>\n",
       "      <td>FUCK YOUR FILTHY MOTHER IN THE ASS, DRY!</td>\n",
       "      <td>1</td>\n",
       "    </tr>\n",
       "    <tr>\n",
       "      <th>...</th>\n",
       "      <td>...</td>\n",
       "      <td>...</td>\n",
       "      <td>...</td>\n",
       "    </tr>\n",
       "    <tr>\n",
       "      <th>5544</th>\n",
       "      <td>0ece9249484eddb9</td>\n",
       "      <td>Electronic Intifada is not an activist site! W...</td>\n",
       "      <td>0</td>\n",
       "    </tr>\n",
       "    <tr>\n",
       "      <th>5545</th>\n",
       "      <td>0ece971b58a3def7</td>\n",
       "      <td>New Genre \\n\\nThe New genre supernatural was u...</td>\n",
       "      <td>0</td>\n",
       "    </tr>\n",
       "    <tr>\n",
       "      <th>5547</th>\n",
       "      <td>0ecf7cde3391615b</td>\n",
       "      <td>— translated as The Second Vatican Council: A ...</td>\n",
       "      <td>0</td>\n",
       "    </tr>\n",
       "    <tr>\n",
       "      <th>5549</th>\n",
       "      <td>0ed11396420e8531</td>\n",
       "      <td>Purpose\\nThis RfC will be used to determine co...</td>\n",
       "      <td>0</td>\n",
       "    </tr>\n",
       "    <tr>\n",
       "      <th>5550</th>\n",
       "      <td>0ed1f43ff87d1a97</td>\n",
       "      <td>\"\\nOne need not be a graduate to be an alumnus...</td>\n",
       "      <td>0</td>\n",
       "    </tr>\n",
       "  </tbody>\n",
       "</table>\n",
       "<p>10000 rows × 3 columns</p>\n",
       "</div>"
      ],
      "text/plain": [
       "                    id                                       comment_text  \\\n",
       "6     0002bcb3da6cb337       COCKSUCKER BEFORE YOU PISS AROUND ON MY WORK   \n",
       "12    0005c987bdfc9d4b  Hey... what is it..\\n@ | talk .\\nWhat is it......   \n",
       "16    0007e25b2121310b  Bye! \\n\\nDon't look, come or think of comming ...   \n",
       "42    001810bf8c45bf5f  You are gay or antisemmitian? \\n\\nArchangel WH...   \n",
       "43    00190820581d90ce           FUCK YOUR FILTHY MOTHER IN THE ASS, DRY!   \n",
       "...                ...                                                ...   \n",
       "5544  0ece9249484eddb9  Electronic Intifada is not an activist site! W...   \n",
       "5545  0ece971b58a3def7  New Genre \\n\\nThe New genre supernatural was u...   \n",
       "5547  0ecf7cde3391615b  — translated as The Second Vatican Council: A ...   \n",
       "5549  0ed11396420e8531  Purpose\\nThis RfC will be used to determine co...   \n",
       "5550  0ed1f43ff87d1a97  \"\\nOne need not be a graduate to be an alumnus...   \n",
       "\n",
       "      toxic  \n",
       "6         1  \n",
       "12        1  \n",
       "16        1  \n",
       "42        1  \n",
       "43        1  \n",
       "...     ...  \n",
       "5544      0  \n",
       "5545      0  \n",
       "5547      0  \n",
       "5549      0  \n",
       "5550      0  \n",
       "\n",
       "[10000 rows x 3 columns]"
      ]
     },
     "execution_count": 77,
     "metadata": {},
     "output_type": "execute_result"
    }
   ],
   "source": [
    "toxic_comment_balanced"
   ]
  },
  {
   "cell_type": "code",
   "execution_count": 78,
   "id": "d1069219",
   "metadata": {
    "execution": {
     "iopub.execute_input": "2024-05-15T06:28:48.023768Z",
     "iopub.status.busy": "2024-05-15T06:28:48.023012Z",
     "iopub.status.idle": "2024-05-15T06:29:00.317241Z",
     "shell.execute_reply": "2024-05-15T06:29:00.316099Z"
    },
    "papermill": {
     "duration": 12.343101,
     "end_time": "2024-05-15T06:29:00.319998",
     "exception": false,
     "start_time": "2024-05-15T06:28:47.976897",
     "status": "completed"
    },
    "tags": []
   },
   "outputs": [
    {
     "data": {
      "text/plain": [
       "array([0, 1, 1, ..., 1, 0, 1])"
      ]
     },
     "execution_count": 78,
     "metadata": {},
     "output_type": "execute_result"
    }
   ],
   "source": [
    "X = toxic_comment_balanced.comment_text\n",
    "y = toxic_comment_balanced['toxic']\n",
    "\n",
    "X_train, X_test, y_train, y_test = train_test_split(X, y, test_size=0.3, random_state=42)\n",
    "\n",
    "tfv = TfidfVectorizer(ngram_range=(1,1), stop_words=['english'] )\n",
    "\n",
    "X_train_fit = tfv.fit_transform(X_train)\n",
    "X_test_fit = tfv.transform(X_test)\n",
    "\n",
    "randomforest = RandomForestClassifier(n_estimators=100, random_state=50)\n",
    "\n",
    "randomforest.fit(X_train_fit, y_train)\n",
    "randomforest.predict(X_test_fit)"
   ]
  },
  {
   "cell_type": "code",
   "execution_count": 79,
   "id": "bee25253",
   "metadata": {
    "execution": {
     "iopub.execute_input": "2024-05-15T06:29:00.409811Z",
     "iopub.status.busy": "2024-05-15T06:29:00.408713Z",
     "iopub.status.idle": "2024-05-15T06:29:00.413655Z",
     "shell.execute_reply": "2024-05-15T06:29:00.412548Z"
    },
    "papermill": {
     "duration": 0.05197,
     "end_time": "2024-05-15T06:29:00.415857",
     "exception": false,
     "start_time": "2024-05-15T06:29:00.363887",
     "status": "completed"
    },
    "tags": []
   },
   "outputs": [],
   "source": [
    "# Testing the model to check if the given text is toxic or not"
   ]
  },
  {
   "cell_type": "code",
   "execution_count": 80,
   "id": "5b60a7ec",
   "metadata": {
    "execution": {
     "iopub.execute_input": "2024-05-15T06:29:00.505246Z",
     "iopub.status.busy": "2024-05-15T06:29:00.504640Z",
     "iopub.status.idle": "2024-05-15T06:29:00.521828Z",
     "shell.execute_reply": "2024-05-15T06:29:00.520500Z"
    },
    "papermill": {
     "duration": 0.06479,
     "end_time": "2024-05-15T06:29:00.524244",
     "exception": false,
     "start_time": "2024-05-15T06:29:00.459454",
     "status": "completed"
    },
    "tags": []
   },
   "outputs": [
    {
     "data": {
      "text/plain": [
       "array([[0.42, 0.58]])"
      ]
     },
     "execution_count": 80,
     "metadata": {},
     "output_type": "execute_result"
    }
   ],
   "source": [
    "comment_1 = ['i killed an insect and ate it']\n",
    "comment_1_vec = tfv.transform(comment_1)\n",
    "randomforest.predict_proba(comment_1_vec)\n",
    "# As seen below the above comment as 58% toxic"
   ]
  },
  {
   "cell_type": "code",
   "execution_count": 81,
   "id": "554b87e7",
   "metadata": {
    "execution": {
     "iopub.execute_input": "2024-05-15T06:29:00.613928Z",
     "iopub.status.busy": "2024-05-15T06:29:00.613286Z",
     "iopub.status.idle": "2024-05-15T06:29:00.630020Z",
     "shell.execute_reply": "2024-05-15T06:29:00.628677Z"
    },
    "papermill": {
     "duration": 0.06431,
     "end_time": "2024-05-15T06:29:00.632560",
     "exception": false,
     "start_time": "2024-05-15T06:29:00.568250",
     "status": "completed"
    },
    "tags": []
   },
   "outputs": [
    {
     "data": {
      "text/plain": [
       "array([[0.58, 0.42]])"
      ]
     },
     "execution_count": 81,
     "metadata": {},
     "output_type": "execute_result"
    }
   ],
   "source": [
    "comment_2 = ['iis this sentence a good one']\n",
    "comment_2_vec = tfv.transform(comment_2)\n",
    "randomforest.predict_proba(comment_2_vec)\n",
    "# As seen below the above comment as 58% not toxic"
   ]
  },
  {
   "cell_type": "code",
   "execution_count": 82,
   "id": "df926ff6",
   "metadata": {
    "execution": {
     "iopub.execute_input": "2024-05-15T06:29:00.721450Z",
     "iopub.status.busy": "2024-05-15T06:29:00.721083Z",
     "iopub.status.idle": "2024-05-15T06:29:00.740096Z",
     "shell.execute_reply": "2024-05-15T06:29:00.738907Z"
    },
    "papermill": {
     "duration": 0.06625,
     "end_time": "2024-05-15T06:29:00.742441",
     "exception": false,
     "start_time": "2024-05-15T06:29:00.676191",
     "status": "completed"
    },
    "tags": []
   },
   "outputs": [
    {
     "data": {
      "text/plain": [
       "array([[0.31, 0.69]])"
      ]
     },
     "execution_count": 82,
     "metadata": {},
     "output_type": "execute_result"
    }
   ],
   "source": [
    "comment_3 = ['truth will prevail']\n",
    "comment_3_vec = tfv.transform(comment_3)\n",
    "randomforest.predict_proba(comment_3_vec)\n",
    "# As seen below the above comment as 69% toxic"
   ]
  },
  {
   "cell_type": "markdown",
   "id": "029c1464",
   "metadata": {
    "papermill": {
     "duration": 0.044041,
     "end_time": "2024-05-15T06:29:00.830653",
     "exception": false,
     "start_time": "2024-05-15T06:29:00.786612",
     "status": "completed"
    },
    "tags": []
   },
   "source": [
    "Kesimpulan : \n",
    "*     LogRegression is the best estimator for severee toxic\n",
    "*     LogRegression is the best estimator for obscene toxic\n",
    "*     MultinomialNB is the best estimator for threeetening comment\n",
    "*     SVM is the best estimator for insulting comment\n",
    "*     LogRegression is the best estimator for identity hate "
   ]
  },
  {
   "cell_type": "code",
   "execution_count": null,
   "id": "1bef11c0",
   "metadata": {
    "papermill": {
     "duration": 0.044737,
     "end_time": "2024-05-15T06:29:00.919625",
     "exception": false,
     "start_time": "2024-05-15T06:29:00.874888",
     "status": "completed"
    },
    "tags": []
   },
   "outputs": [],
   "source": []
  },
  {
   "cell_type": "code",
   "execution_count": null,
   "id": "aa58720c",
   "metadata": {
    "papermill": {
     "duration": 0.044005,
     "end_time": "2024-05-15T06:29:01.007658",
     "exception": false,
     "start_time": "2024-05-15T06:29:00.963653",
     "status": "completed"
    },
    "tags": []
   },
   "outputs": [],
   "source": []
  },
  {
   "cell_type": "code",
   "execution_count": null,
   "id": "f7317784",
   "metadata": {
    "papermill": {
     "duration": 0.043586,
     "end_time": "2024-05-15T06:29:01.095358",
     "exception": false,
     "start_time": "2024-05-15T06:29:01.051772",
     "status": "completed"
    },
    "tags": []
   },
   "outputs": [],
   "source": []
  }
 ],
 "metadata": {
  "kaggle": {
   "accelerator": "none",
   "dataSources": [
    {
     "datasetId": 4921672,
     "sourceId": 8286408,
     "sourceType": "datasetVersion"
    }
   ],
   "dockerImageVersionId": 30698,
   "isGpuEnabled": false,
   "isInternetEnabled": false,
   "language": "python",
   "sourceType": "notebook"
  },
  "kernelspec": {
   "display_name": "Python 3",
   "language": "python",
   "name": "python3"
  },
  "language_info": {
   "codemirror_mode": {
    "name": "ipython",
    "version": 3
   },
   "file_extension": ".py",
   "mimetype": "text/x-python",
   "name": "python",
   "nbconvert_exporter": "python",
   "pygments_lexer": "ipython3",
   "version": "3.10.13"
  },
  "papermill": {
   "default_parameters": {},
   "duration": 296.875296,
   "end_time": "2024-05-15T06:29:01.962875",
   "environment_variables": {},
   "exception": null,
   "input_path": "__notebook__.ipynb",
   "output_path": "__notebook__.ipynb",
   "parameters": {},
   "start_time": "2024-05-15T06:24:05.087579",
   "version": "2.5.0"
  }
 },
 "nbformat": 4,
 "nbformat_minor": 5
}
