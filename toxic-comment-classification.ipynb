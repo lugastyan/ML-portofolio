{
 "cells": [
  {
   "cell_type": "code",
   "execution_count": 1,
   "id": "e5068eb6",
   "metadata": {
    "_cell_guid": "b1076dfc-b9ad-4769-8c92-a6c4dae69d19",
    "_uuid": "8f2839f25d086af736a60e9eeb907d3b93b6e0e5",
    "execution": {
     "iopub.execute_input": "2024-05-15T06:25:52.657564Z",
     "iopub.status.busy": "2024-05-15T06:25:52.657164Z",
     "iopub.status.idle": "2024-05-15T06:25:54.656884Z",
     "shell.execute_reply": "2024-05-15T06:25:54.655936Z"
    },
    "papermill": {
     "duration": 2.022192,
     "end_time": "2024-05-15T06:25:54.659472",
     "exception": false,
     "start_time": "2024-05-15T06:25:52.637280",
     "status": "completed"
    },
    "tags": []
   },
   "outputs": [],
   "source": [
    "# Import Libraries\n",
    "import pandas as pd\n",
    "import numpy as np\n",
    "import seaborn as sns\n",
    "import matplotlib.pyplot as plt\n",
    "import warnings\n",
    "warnings.filterwarnings('ignore')"
   ]
  },
  {
   "cell_type": "code",
   "execution_count": null,
   "id": "0b499ad5",
   "metadata": {
    "papermill": {
     "duration": 0.017736,
     "end_time": "2024-05-15T06:25:54.696545",
     "exception": false,
     "start_time": "2024-05-15T06:25:54.678809",
     "status": "completed"
    },
    "tags": []
   },
   "outputs": [],
   "source": []
  },
  {
   "cell_type": "code",
   "execution_count": 2,
   "id": "87bdb3ee",
   "metadata": {
    "execution": {
     "iopub.execute_input": "2024-05-15T06:25:54.733532Z",
     "iopub.status.busy": "2024-05-15T06:25:54.733033Z",
     "iopub.status.idle": "2024-05-15T06:28:24.613832Z",
     "shell.execute_reply": "2024-05-15T06:28:24.612255Z"
    },
    "papermill": {
     "duration": 149.902259,
     "end_time": "2024-05-15T06:28:24.616321",
     "exception": false,
     "start_time": "2024-05-15T06:25:54.714062",
     "status": "completed"
    },
    "tags": []
   },
   "outputs": [
    {
     "name": "stdout",
     "output_type": "stream",
     "text": [
      "\u001b[33mWARNING: Retrying (Retry(total=4, connect=None, read=None, redirect=None, status=None)) after connection broken by 'NewConnectionError('<pip._vendor.urllib3.connection.HTTPSConnection object at 0x7d897cfec100>: Failed to establish a new connection: [Errno -3] Temporary failure in name resolution')': /simple/contractions/\u001b[0m\u001b[33m\r\n",
      "\u001b[0m\u001b[33mWARNING: Retrying (Retry(total=3, connect=None, read=None, redirect=None, status=None)) after connection broken by 'NewConnectionError('<pip._vendor.urllib3.connection.HTTPSConnection object at 0x7d897cfec400>: Failed to establish a new connection: [Errno -3] Temporary failure in name resolution')': /simple/contractions/\u001b[0m\u001b[33m\r\n",
      "\u001b[0m\u001b[33mWARNING: Retrying (Retry(total=2, connect=None, read=None, redirect=None, status=None)) after connection broken by 'NewConnectionError('<pip._vendor.urllib3.connection.HTTPSConnection object at 0x7d897cfec6a0>: Failed to establish a new connection: [Errno -3] Temporary failure in name resolution')': /simple/contractions/\u001b[0m\u001b[33m\r\n",
      "\u001b[0m\u001b[33mWARNING: Retrying (Retry(total=1, connect=None, read=None, redirect=None, status=None)) after connection broken by 'NewConnectionError('<pip._vendor.urllib3.connection.HTTPSConnection object at 0x7d897cfec850>: Failed to establish a new connection: [Errno -3] Temporary failure in name resolution')': /simple/contractions/\u001b[0m\u001b[33m\r\n",
      "\u001b[0m\u001b[33mWARNING: Retrying (Retry(total=0, connect=None, read=None, redirect=None, status=None)) after connection broken by 'NewConnectionError('<pip._vendor.urllib3.connection.HTTPSConnection object at 0x7d897cfeca00>: Failed to establish a new connection: [Errno -3] Temporary failure in name resolution')': /simple/contractions/\u001b[0m\u001b[33m\r\n",
      "\u001b[0m\u001b[31mERROR: Could not find a version that satisfies the requirement contractions (from versions: none)\u001b[0m\u001b[31m\r\n",
      "\u001b[0m\u001b[31mERROR: No matching distribution found for contractions\u001b[0m\u001b[31m\r\n",
      "\u001b[0mNote: you may need to restart the kernel to use updated packages.\n"
     ]
    }
   ],
   "source": [
    "pip install contractions"
   ]
  },
  {
   "cell_type": "code",
   "execution_count": 3,
   "id": "4ad639fd",
   "metadata": {
    "execution": {
     "iopub.execute_input": "2024-05-15T06:28:24.656017Z",
     "iopub.status.busy": "2024-05-15T06:28:24.655571Z",
     "iopub.status.idle": "2024-05-15T06:28:25.626814Z",
     "shell.execute_reply": "2024-05-15T06:28:25.625882Z"
    },
    "papermill": {
     "duration": 0.995011,
     "end_time": "2024-05-15T06:28:25.629564",
     "exception": false,
     "start_time": "2024-05-15T06:28:24.634553",
     "status": "completed"
    },
    "tags": []
   },
   "outputs": [],
   "source": [
    "import re\n",
    "import nltk\n",
    "import string\n",
    "\n",
    "from nltk.corpus import stopwords\n",
    "from nltk.stem import WordNetLemmatizer\n",
    "from nltk.tokenize import word_tokenize, sent_tokenize\n",
    "from nltk.stem import PorterStemmer, LancasterStemmer, SnowballStemmer\n"
   ]
  },
  {
   "cell_type": "code",
   "execution_count": 4,
   "id": "29407753",
   "metadata": {
    "execution": {
     "iopub.execute_input": "2024-05-15T06:28:25.668010Z",
     "iopub.status.busy": "2024-05-15T06:28:25.667251Z",
     "iopub.status.idle": "2024-05-15T06:28:27.487204Z",
     "shell.execute_reply": "2024-05-15T06:28:27.486281Z"
    },
    "papermill": {
     "duration": 1.841572,
     "end_time": "2024-05-15T06:28:27.489614",
     "exception": false,
     "start_time": "2024-05-15T06:28:25.648042",
     "status": "completed"
    },
    "tags": []
   },
   "outputs": [],
   "source": [
    "df = pd.read_csv('/kaggle/input/toxiccommment/train.csv')"
   ]
  },
  {
   "cell_type": "raw",
   "id": "9348cdd8",
   "metadata": {
    "papermill": {
     "duration": 0.018001,
     "end_time": "2024-05-15T06:28:27.526443",
     "exception": false,
     "start_time": "2024-05-15T06:28:27.508442",
     "status": "completed"
    },
    "tags": []
   },
   "source": [
    "df.head()"
   ]
  },
  {
   "cell_type": "code",
   "execution_count": 5,
   "id": "2d4f9410",
   "metadata": {
    "execution": {
     "iopub.execute_input": "2024-05-15T06:28:27.564277Z",
     "iopub.status.busy": "2024-05-15T06:28:27.563896Z",
     "iopub.status.idle": "2024-05-15T06:28:27.585278Z",
     "shell.execute_reply": "2024-05-15T06:28:27.584227Z"
    },
    "papermill": {
     "duration": 0.043577,
     "end_time": "2024-05-15T06:28:27.588122",
     "exception": false,
     "start_time": "2024-05-15T06:28:27.544545",
     "status": "completed"
    },
    "tags": []
   },
   "outputs": [
    {
     "data": {
      "text/html": [
       "<div>\n",
       "<style scoped>\n",
       "    .dataframe tbody tr th:only-of-type {\n",
       "        vertical-align: middle;\n",
       "    }\n",
       "\n",
       "    .dataframe tbody tr th {\n",
       "        vertical-align: top;\n",
       "    }\n",
       "\n",
       "    .dataframe thead th {\n",
       "        text-align: right;\n",
       "    }\n",
       "</style>\n",
       "<table border=\"1\" class=\"dataframe\">\n",
       "  <thead>\n",
       "    <tr style=\"text-align: right;\">\n",
       "      <th></th>\n",
       "      <th>id</th>\n",
       "      <th>comment_text</th>\n",
       "      <th>toxic</th>\n",
       "      <th>severe_toxic</th>\n",
       "      <th>obscene</th>\n",
       "      <th>threat</th>\n",
       "      <th>insult</th>\n",
       "      <th>identity_hate</th>\n",
       "    </tr>\n",
       "  </thead>\n",
       "  <tbody>\n",
       "    <tr>\n",
       "      <th>0</th>\n",
       "      <td>0000997932d777bf</td>\n",
       "      <td>Explanation\\nWhy the edits made under my usern...</td>\n",
       "      <td>0</td>\n",
       "      <td>0</td>\n",
       "      <td>0</td>\n",
       "      <td>0</td>\n",
       "      <td>0</td>\n",
       "      <td>0</td>\n",
       "    </tr>\n",
       "    <tr>\n",
       "      <th>1</th>\n",
       "      <td>000103f0d9cfb60f</td>\n",
       "      <td>D'aww! He matches this background colour I'm s...</td>\n",
       "      <td>0</td>\n",
       "      <td>0</td>\n",
       "      <td>0</td>\n",
       "      <td>0</td>\n",
       "      <td>0</td>\n",
       "      <td>0</td>\n",
       "    </tr>\n",
       "    <tr>\n",
       "      <th>2</th>\n",
       "      <td>000113f07ec002fd</td>\n",
       "      <td>Hey man, I'm really not trying to edit war. It...</td>\n",
       "      <td>0</td>\n",
       "      <td>0</td>\n",
       "      <td>0</td>\n",
       "      <td>0</td>\n",
       "      <td>0</td>\n",
       "      <td>0</td>\n",
       "    </tr>\n",
       "    <tr>\n",
       "      <th>3</th>\n",
       "      <td>0001b41b1c6bb37e</td>\n",
       "      <td>\"\\nMore\\nI can't make any real suggestions on ...</td>\n",
       "      <td>0</td>\n",
       "      <td>0</td>\n",
       "      <td>0</td>\n",
       "      <td>0</td>\n",
       "      <td>0</td>\n",
       "      <td>0</td>\n",
       "    </tr>\n",
       "    <tr>\n",
       "      <th>4</th>\n",
       "      <td>0001d958c54c6e35</td>\n",
       "      <td>You, sir, are my hero. Any chance you remember...</td>\n",
       "      <td>0</td>\n",
       "      <td>0</td>\n",
       "      <td>0</td>\n",
       "      <td>0</td>\n",
       "      <td>0</td>\n",
       "      <td>0</td>\n",
       "    </tr>\n",
       "  </tbody>\n",
       "</table>\n",
       "</div>"
      ],
      "text/plain": [
       "                 id                                       comment_text  toxic  \\\n",
       "0  0000997932d777bf  Explanation\\nWhy the edits made under my usern...      0   \n",
       "1  000103f0d9cfb60f  D'aww! He matches this background colour I'm s...      0   \n",
       "2  000113f07ec002fd  Hey man, I'm really not trying to edit war. It...      0   \n",
       "3  0001b41b1c6bb37e  \"\\nMore\\nI can't make any real suggestions on ...      0   \n",
       "4  0001d958c54c6e35  You, sir, are my hero. Any chance you remember...      0   \n",
       "\n",
       "   severe_toxic  obscene  threat  insult  identity_hate  \n",
       "0             0        0       0       0              0  \n",
       "1             0        0       0       0              0  \n",
       "2             0        0       0       0              0  \n",
       "3             0        0       0       0              0  \n",
       "4             0        0       0       0              0  "
      ]
     },
     "execution_count": 5,
     "metadata": {},
     "output_type": "execute_result"
    }
   ],
   "source": [
    "df.head()"
   ]
  },
  {
   "cell_type": "code",
   "execution_count": 6,
   "id": "1781771a",
   "metadata": {
    "execution": {
     "iopub.execute_input": "2024-05-15T06:28:27.627806Z",
     "iopub.status.busy": "2024-05-15T06:28:27.627437Z",
     "iopub.status.idle": "2024-05-15T06:28:27.680869Z",
     "shell.execute_reply": "2024-05-15T06:28:27.679795Z"
    },
    "papermill": {
     "duration": 0.075422,
     "end_time": "2024-05-15T06:28:27.683012",
     "exception": false,
     "start_time": "2024-05-15T06:28:27.607590",
     "status": "completed"
    },
    "tags": []
   },
   "outputs": [
    {
     "name": "stdout",
     "output_type": "stream",
     "text": [
      "<class 'pandas.core.frame.DataFrame'>\n",
      "RangeIndex: 159571 entries, 0 to 159570\n",
      "Data columns (total 8 columns):\n",
      " #   Column         Non-Null Count   Dtype \n",
      "---  ------         --------------   ----- \n",
      " 0   id             159571 non-null  object\n",
      " 1   comment_text   159571 non-null  object\n",
      " 2   toxic          159571 non-null  int64 \n",
      " 3   severe_toxic   159571 non-null  int64 \n",
      " 4   obscene        159571 non-null  int64 \n",
      " 5   threat         159571 non-null  int64 \n",
      " 6   insult         159571 non-null  int64 \n",
      " 7   identity_hate  159571 non-null  int64 \n",
      "dtypes: int64(6), object(2)\n",
      "memory usage: 9.7+ MB\n"
     ]
    }
   ],
   "source": [
    "df.info()"
   ]
  },
  {
   "cell_type": "code",
   "execution_count": 7,
   "id": "d5325919",
   "metadata": {
    "execution": {
     "iopub.execute_input": "2024-05-15T06:28:27.722160Z",
     "iopub.status.busy": "2024-05-15T06:28:27.721421Z",
     "iopub.status.idle": "2024-05-15T06:28:27.757093Z",
     "shell.execute_reply": "2024-05-15T06:28:27.755809Z"
    },
    "papermill": {
     "duration": 0.057551,
     "end_time": "2024-05-15T06:28:27.759310",
     "exception": false,
     "start_time": "2024-05-15T06:28:27.701759",
     "status": "completed"
    },
    "tags": []
   },
   "outputs": [
    {
     "data": {
      "text/plain": [
       "id               0\n",
       "comment_text     0\n",
       "toxic            0\n",
       "severe_toxic     0\n",
       "obscene          0\n",
       "threat           0\n",
       "insult           0\n",
       "identity_hate    0\n",
       "dtype: int64"
      ]
     },
     "execution_count": 7,
     "metadata": {},
     "output_type": "execute_result"
    }
   ],
   "source": [
    "df.isnull().sum()"
   ]
  },
  {
   "cell_type": "code",
   "execution_count": 8,
   "id": "aa4b2e45",
   "metadata": {
    "execution": {
     "iopub.execute_input": "2024-05-15T06:28:27.858079Z",
     "iopub.status.busy": "2024-05-15T06:28:27.857698Z",
     "iopub.status.idle": "2024-05-15T06:28:27.872496Z",
     "shell.execute_reply": "2024-05-15T06:28:27.871449Z"
    },
    "papermill": {
     "duration": 0.036993,
     "end_time": "2024-05-15T06:28:27.874631",
     "exception": false,
     "start_time": "2024-05-15T06:28:27.837638",
     "status": "completed"
    },
    "tags": []
   },
   "outputs": [
    {
     "data": {
      "text/plain": [
       "(array([0, 1]),\n",
       " array([0, 1]),\n",
       " array([0, 1]),\n",
       " array([0, 1]),\n",
       " array([0, 1]),\n",
       " array([0, 1]))"
      ]
     },
     "execution_count": 8,
     "metadata": {},
     "output_type": "execute_result"
    }
   ],
   "source": [
    "df['toxic'].unique(), df['severe_toxic'].unique(),df['obscene'].unique(), df['threat'].unique(), df['insult'].unique(), df['identity_hate'].unique(), "
   ]
  },
  {
   "cell_type": "code",
   "execution_count": 9,
   "id": "c0433215",
   "metadata": {
    "execution": {
     "iopub.execute_input": "2024-05-15T06:28:27.913832Z",
     "iopub.status.busy": "2024-05-15T06:28:27.913442Z",
     "iopub.status.idle": "2024-05-15T06:28:27.923484Z",
     "shell.execute_reply": "2024-05-15T06:28:27.922451Z"
    },
    "papermill": {
     "duration": 0.032128,
     "end_time": "2024-05-15T06:28:27.925699",
     "exception": false,
     "start_time": "2024-05-15T06:28:27.893571",
     "status": "completed"
    },
    "tags": []
   },
   "outputs": [
    {
     "data": {
      "text/plain": [
       "toxic\n",
       "0    144277\n",
       "1     15294\n",
       "Name: count, dtype: int64"
      ]
     },
     "execution_count": 9,
     "metadata": {},
     "output_type": "execute_result"
    }
   ],
   "source": [
    "df['toxic'].value_counts()"
   ]
  },
  {
   "cell_type": "code",
   "execution_count": 10,
   "id": "1d0008dc",
   "metadata": {
    "execution": {
     "iopub.execute_input": "2024-05-15T06:28:27.965388Z",
     "iopub.status.busy": "2024-05-15T06:28:27.965026Z",
     "iopub.status.idle": "2024-05-15T06:28:27.974130Z",
     "shell.execute_reply": "2024-05-15T06:28:27.973157Z"
    },
    "papermill": {
     "duration": 0.031419,
     "end_time": "2024-05-15T06:28:27.976290",
     "exception": false,
     "start_time": "2024-05-15T06:28:27.944871",
     "status": "completed"
    },
    "tags": []
   },
   "outputs": [
    {
     "data": {
      "text/plain": [
       "severe_toxic\n",
       "0    157976\n",
       "1      1595\n",
       "Name: count, dtype: int64"
      ]
     },
     "execution_count": 10,
     "metadata": {},
     "output_type": "execute_result"
    }
   ],
   "source": [
    "df['severe_toxic'].value_counts()"
   ]
  },
  {
   "cell_type": "code",
   "execution_count": 11,
   "id": "7d3bbb00",
   "metadata": {
    "execution": {
     "iopub.execute_input": "2024-05-15T06:28:28.016788Z",
     "iopub.status.busy": "2024-05-15T06:28:28.016407Z",
     "iopub.status.idle": "2024-05-15T06:28:28.025853Z",
     "shell.execute_reply": "2024-05-15T06:28:28.024884Z"
    },
    "papermill": {
     "duration": 0.032004,
     "end_time": "2024-05-15T06:28:28.027868",
     "exception": false,
     "start_time": "2024-05-15T06:28:27.995864",
     "status": "completed"
    },
    "tags": []
   },
   "outputs": [
    {
     "data": {
      "text/plain": [
       "obscene\n",
       "0    151122\n",
       "1      8449\n",
       "Name: count, dtype: int64"
      ]
     },
     "execution_count": 11,
     "metadata": {},
     "output_type": "execute_result"
    }
   ],
   "source": [
    "df['obscene'].value_counts()"
   ]
  },
  {
   "cell_type": "code",
   "execution_count": 12,
   "id": "0e11701a",
   "metadata": {
    "execution": {
     "iopub.execute_input": "2024-05-15T06:28:28.069189Z",
     "iopub.status.busy": "2024-05-15T06:28:28.068818Z",
     "iopub.status.idle": "2024-05-15T06:28:28.079206Z",
     "shell.execute_reply": "2024-05-15T06:28:28.077953Z"
    },
    "papermill": {
     "duration": 0.034424,
     "end_time": "2024-05-15T06:28:28.082121",
     "exception": false,
     "start_time": "2024-05-15T06:28:28.047697",
     "status": "completed"
    },
    "tags": []
   },
   "outputs": [
    {
     "data": {
      "text/plain": [
       "threat\n",
       "0    159093\n",
       "1       478\n",
       "Name: count, dtype: int64"
      ]
     },
     "execution_count": 12,
     "metadata": {},
     "output_type": "execute_result"
    }
   ],
   "source": [
    "df['threat'].value_counts()"
   ]
  },
  {
   "cell_type": "code",
   "execution_count": 13,
   "id": "8110ce0f",
   "metadata": {
    "execution": {
     "iopub.execute_input": "2024-05-15T06:28:28.123996Z",
     "iopub.status.busy": "2024-05-15T06:28:28.123022Z",
     "iopub.status.idle": "2024-05-15T06:28:28.133159Z",
     "shell.execute_reply": "2024-05-15T06:28:28.132446Z"
    },
    "papermill": {
     "duration": 0.03269,
     "end_time": "2024-05-15T06:28:28.135103",
     "exception": false,
     "start_time": "2024-05-15T06:28:28.102413",
     "status": "completed"
    },
    "tags": []
   },
   "outputs": [
    {
     "data": {
      "text/plain": [
       "(insult\n",
       " 0    151694\n",
       " 1      7877\n",
       " Name: count, dtype: int64,\n",
       " identity_hate\n",
       " 0    158166\n",
       " 1      1405\n",
       " Name: count, dtype: int64)"
      ]
     },
     "execution_count": 13,
     "metadata": {},
     "output_type": "execute_result"
    }
   ],
   "source": [
    "df['insult'].value_counts(), df['identity_hate'].value_counts()"
   ]
  },
  {
   "cell_type": "code",
   "execution_count": 14,
   "id": "5c02312c",
   "metadata": {
    "execution": {
     "iopub.execute_input": "2024-05-15T06:28:28.176227Z",
     "iopub.status.busy": "2024-05-15T06:28:28.175494Z",
     "iopub.status.idle": "2024-05-15T06:28:28.179993Z",
     "shell.execute_reply": "2024-05-15T06:28:28.179242Z"
    },
    "papermill": {
     "duration": 0.027266,
     "end_time": "2024-05-15T06:28:28.181957",
     "exception": false,
     "start_time": "2024-05-15T06:28:28.154691",
     "status": "completed"
    },
    "tags": []
   },
   "outputs": [],
   "source": [
    "#Data Visualization"
   ]
  },
  {
   "cell_type": "code",
   "execution_count": 15,
   "id": "e9af9425",
   "metadata": {
    "execution": {
     "iopub.execute_input": "2024-05-15T06:28:28.223079Z",
     "iopub.status.busy": "2024-05-15T06:28:28.222152Z",
     "iopub.status.idle": "2024-05-15T06:28:28.229702Z",
     "shell.execute_reply": "2024-05-15T06:28:28.228800Z"
    },
    "papermill": {
     "duration": 0.030096,
     "end_time": "2024-05-15T06:28:28.231839",
     "exception": false,
     "start_time": "2024-05-15T06:28:28.201743",
     "status": "completed"
    },
    "tags": []
   },
   "outputs": [],
   "source": [
    "sentencetype_graph = df.iloc[:,2:].sum()"
   ]
  },
  {
   "cell_type": "code",
   "execution_count": 16,
   "id": "0fa05d89",
   "metadata": {
    "execution": {
     "iopub.execute_input": "2024-05-15T06:28:28.273223Z",
     "iopub.status.busy": "2024-05-15T06:28:28.272263Z",
     "iopub.status.idle": "2024-05-15T06:28:28.278861Z",
     "shell.execute_reply": "2024-05-15T06:28:28.278132Z"
    },
    "papermill": {
     "duration": 0.029435,
     "end_time": "2024-05-15T06:28:28.280776",
     "exception": false,
     "start_time": "2024-05-15T06:28:28.251341",
     "status": "completed"
    },
    "tags": []
   },
   "outputs": [
    {
     "data": {
      "text/plain": [
       "toxic            15294\n",
       "severe_toxic      1595\n",
       "obscene           8449\n",
       "threat             478\n",
       "insult            7877\n",
       "identity_hate     1405\n",
       "dtype: int64"
      ]
     },
     "execution_count": 16,
     "metadata": {},
     "output_type": "execute_result"
    }
   ],
   "source": [
    "sentencetype_graph"
   ]
  },
  {
   "cell_type": "code",
   "execution_count": 17,
   "id": "514d4483",
   "metadata": {
    "execution": {
     "iopub.execute_input": "2024-05-15T06:28:28.322162Z",
     "iopub.status.busy": "2024-05-15T06:28:28.321811Z",
     "iopub.status.idle": "2024-05-15T06:28:28.775856Z",
     "shell.execute_reply": "2024-05-15T06:28:28.774679Z"
    },
    "papermill": {
     "duration": 0.477342,
     "end_time": "2024-05-15T06:28:28.778173",
     "exception": false,
     "start_time": "2024-05-15T06:28:28.300831",
     "status": "completed"
    },
    "tags": []
   },
   "outputs": [
    {
     "data": {
      "text/plain": [
       "[Text(0, 0, 'toxic'),\n",
       " Text(1, 0, 'obscene'),\n",
       " Text(2, 0, 'insult'),\n",
       " Text(3, 0, 'severe_toxic'),\n",
       " Text(4, 0, 'identity_hate'),\n",
       " Text(5, 0, 'threat')]"
      ]
     },
     "execution_count": 17,
     "metadata": {},
     "output_type": "execute_result"
    },
    {
     "data": {
      "image/png": "[encoded data removed]",
      "text/plain": [
       "<Figure size 1500x800 with 1 Axes>"
      ]
     },
     "metadata": {},
     "output_type": "display_data"
    }
   ],
   "source": [
    "sns.set_style('darkgrid')\n",
    "ls=sentencetype_graph.sort_values(ascending=False)\n",
    "\n",
    "plt.figure(figsize=(15,8))\n",
    "\n",
    "temp = sns.barplot(x=ls.index, y=ls.values, alpha=0.8)\n",
    "\n",
    "plt.title('Sentence Type')\n",
    "\n",
    "plt.ylabel('COUNT', fontsize=14)\n",
    "\n",
    "plt.xlabel('All Sentence Type', fontsize = 15)\n",
    "\n",
    "temp.set_xticklabels(rotation=90, labels=ls.index, fontsize=10)"
   ]
  },
  {
   "cell_type": "code",
   "execution_count": 18,
   "id": "3efb8d97",
   "metadata": {
    "execution": {
     "iopub.execute_input": "2024-05-15T06:28:28.821547Z",
     "iopub.status.busy": "2024-05-15T06:28:28.820360Z",
     "iopub.status.idle": "2024-05-15T06:28:28.825127Z",
     "shell.execute_reply": "2024-05-15T06:28:28.824432Z"
    },
    "papermill": {
     "duration": 0.028503,
     "end_time": "2024-05-15T06:28:28.827126",
     "exception": false,
     "start_time": "2024-05-15T06:28:28.798623",
     "status": "completed"
    },
    "tags": []
   },
   "outputs": [],
   "source": [
    "# there many toxic sentences followed by obscene sentences and very few thretening sentences as seen above "
   ]
  },
  {
   "cell_type": "raw",
   "id": "b251e7e0",
   "metadata": {
    "papermill": {
     "duration": 0.019859,
     "end_time": "2024-05-15T06:28:28.867196",
     "exception": false,
     "start_time": "2024-05-15T06:28:28.847337",
     "status": "completed"
    },
    "tags": []
   },
   "source": [
    "Text Pre-processing"
   ]
  },
  {
   "cell_type": "code",
   "execution_count": 19,
   "id": "bda49e8f",
   "metadata": {
    "execution": {
     "iopub.execute_input": "2024-05-15T06:28:28.909481Z",
     "iopub.status.busy": "2024-05-15T06:28:28.909083Z",
     "iopub.status.idle": "2024-05-15T06:28:28.913282Z",
     "shell.execute_reply": "2024-05-15T06:28:28.912189Z"
    },
    "papermill": {
     "duration": 0.028259,
     "end_time": "2024-05-15T06:28:28.915517",
     "exception": false,
     "start_time": "2024-05-15T06:28:28.887258",
     "status": "completed"
    },
    "tags": []
   },
   "outputs": [],
   "source": [
    "import re\n",
    "import string"
   ]
  },
  {
   "cell_type": "code",
   "execution_count": 20,
   "id": "e01c9811",
   "metadata": {
    "execution": {
     "iopub.execute_input": "2024-05-15T06:28:28.958195Z",
     "iopub.status.busy": "2024-05-15T06:28:28.957828Z",
     "iopub.status.idle": "2024-05-15T06:28:42.126076Z",
     "shell.execute_reply": "2024-05-15T06:28:42.124999Z"
    },
    "papermill": {
     "duration": 13.192626,
     "end_time": "2024-05-15T06:28:42.128642",
     "exception": false,
     "start_time": "2024-05-15T06:28:28.936016",
     "status": "completed"
    },
    "tags": []
   },
   "outputs": [],
   "source": [
    "# Removing special character\n",
    "alphanumeric = lambda x: re.sub('\\w*\\d\\w*', ' ',x)\n",
    "punc_lower = lambda x: re.sub('[%s]' % re.escape(string.punctuation), ' ', x.lower())\n",
    "remove_n = lambda x:re.sub('\\n', ' ', x)\n",
    "remove_non_ascii = lambda x:re.sub(r'[^\\x00-\\x7f]', r' ', x)\n",
    "dd = df['comment_text'].map(alphanumeric).map(punc_lower).map(remove_n).map(remove_non_ascii)"
   ]
  },
  {
   "cell_type": "markdown",
   "id": "0d764ee1",
   "metadata": {
    "papermill": {
     "duration": 0.021145,
     "end_time": "2024-05-15T06:28:42.171827",
     "exception": false,
     "start_time": "2024-05-15T06:28:42.150682",
     "status": "completed"
    },
    "tags": []
   },
   "source": []
  },
  {
   "cell_type": "code",
   "execution_count": 21,
   "id": "9d185653",
   "metadata": {
    "execution": {
     "iopub.execute_input": "2024-05-15T06:28:42.215785Z",
     "iopub.status.busy": "2024-05-15T06:28:42.215347Z",
     "iopub.status.idle": "2024-05-15T06:28:42.236011Z",
     "shell.execute_reply": "2024-05-15T06:28:42.235230Z"
    },
    "papermill": {
     "duration": 0.04578,
     "end_time": "2024-05-15T06:28:42.238104",
     "exception": false,
     "start_time": "2024-05-15T06:28:42.192324",
     "status": "completed"
    },
    "tags": []
   },
   "outputs": [
    {
     "data": {
      "text/html": [
       "<div>\n",
       "<style scoped>\n",
       "    .dataframe tbody tr th:only-of-type {\n",
       "        vertical-align: middle;\n",
       "    }\n",
       "\n",
       "    .dataframe tbody tr th {\n",
       "        vertical-align: top;\n",
       "    }\n",
       "\n",
       "    .dataframe thead th {\n",
       "        text-align: right;\n",
       "    }\n",
       "</style>\n",
       "<table border=\"1\" class=\"dataframe\">\n",
       "  <thead>\n",
       "    <tr style=\"text-align: right;\">\n",
       "      <th></th>\n",
       "      <th>id</th>\n",
       "      <th>comment_text</th>\n",
       "      <th>insult</th>\n",
       "    </tr>\n",
       "  </thead>\n",
       "  <tbody>\n",
       "    <tr>\n",
       "      <th>0</th>\n",
       "      <td>0000997932d777bf</td>\n",
       "      <td>Explanation\\nWhy the edits made under my usern...</td>\n",
       "      <td>0</td>\n",
       "    </tr>\n",
       "    <tr>\n",
       "      <th>1</th>\n",
       "      <td>000103f0d9cfb60f</td>\n",
       "      <td>D'aww! He matches this background colour I'm s...</td>\n",
       "      <td>0</td>\n",
       "    </tr>\n",
       "  </tbody>\n",
       "</table>\n",
       "</div>"
      ],
      "text/plain": [
       "                 id                                       comment_text  insult\n",
       "0  0000997932d777bf  Explanation\\nWhy the edits made under my usern...       0\n",
       "1  000103f0d9cfb60f  D'aww! He matches this background colour I'm s...       0"
      ]
     },
     "execution_count": 21,
     "metadata": {},
     "output_type": "execute_result"
    }
   ],
   "source": [
    "insulting_comment_df = df.loc[:,['id','comment_text','insult']]\n",
    "insulting_comment_df.head(2)"
   ]
  },
  {
   "cell_type": "code",
   "execution_count": 22,
   "id": "a3a9e3a6",
   "metadata": {
    "execution": {
     "iopub.execute_input": "2024-05-15T06:28:42.281861Z",
     "iopub.status.busy": "2024-05-15T06:28:42.281139Z",
     "iopub.status.idle": "2024-05-15T06:28:42.307914Z",
     "shell.execute_reply": "2024-05-15T06:28:42.306820Z"
    },
    "papermill": {
     "duration": 0.051016,
     "end_time": "2024-05-15T06:28:42.310081",
     "exception": false,
     "start_time": "2024-05-15T06:28:42.259065",
     "status": "completed"
    },
    "tags": []
   },
   "outputs": [
    {
     "data": {
      "text/html": [
       "<div>\n",
       "<style scoped>\n",
       "    .dataframe tbody tr th:only-of-type {\n",
       "        vertical-align: middle;\n",
       "    }\n",
       "\n",
       "    .dataframe tbody tr th {\n",
       "        vertical-align: top;\n",
       "    }\n",
       "\n",
       "    .dataframe thead th {\n",
       "        text-align: right;\n",
       "    }\n",
       "</style>\n",
       "<table border=\"1\" class=\"dataframe\">\n",
       "  <thead>\n",
       "    <tr style=\"text-align: right;\">\n",
       "      <th></th>\n",
       "      <th>id</th>\n",
       "      <th>comment_text</th>\n",
       "      <th>identity_hate</th>\n",
       "    </tr>\n",
       "  </thead>\n",
       "  <tbody>\n",
       "    <tr>\n",
       "      <th>157505</th>\n",
       "      <td>df617ec32d45a979</td>\n",
       "      <td>\"\\n\\nYou're taking this whole thing too far. T...</td>\n",
       "      <td>0</td>\n",
       "    </tr>\n",
       "    <tr>\n",
       "      <th>43799</th>\n",
       "      <td>74e69d33db8ed495</td>\n",
       "      <td>What games? What pain?  I'm simply stating tha...</td>\n",
       "      <td>0</td>\n",
       "    </tr>\n",
       "  </tbody>\n",
       "</table>\n",
       "</div>"
      ],
      "text/plain": [
       "                      id                                       comment_text  \\\n",
       "157505  df617ec32d45a979  \"\\n\\nYou're taking this whole thing too far. T...   \n",
       "43799   74e69d33db8ed495  What games? What pain?  I'm simply stating tha...   \n",
       "\n",
       "        identity_hate  \n",
       "157505              0  \n",
       "43799               0  "
      ]
     },
     "execution_count": 22,
     "metadata": {},
     "output_type": "execute_result"
    }
   ],
   "source": [
    "identityhate_comment_df=df.loc[:,['id','comment_text','identity_hate']]\n",
    "identityhate_comment_df.sample(2)"
   ]
  },
  {
   "cell_type": "code",
   "execution_count": 23,
   "id": "f5b1afe8",
   "metadata": {
    "execution": {
     "iopub.execute_input": "2024-05-15T06:28:42.353878Z",
     "iopub.status.busy": "2024-05-15T06:28:42.353189Z",
     "iopub.status.idle": "2024-05-15T06:28:42.375832Z",
     "shell.execute_reply": "2024-05-15T06:28:42.375049Z"
    },
    "papermill": {
     "duration": 0.047169,
     "end_time": "2024-05-15T06:28:42.377932",
     "exception": false,
     "start_time": "2024-05-15T06:28:42.330763",
     "status": "completed"
    },
    "tags": []
   },
   "outputs": [
    {
     "data": {
      "text/html": [
       "<div>\n",
       "<style scoped>\n",
       "    .dataframe tbody tr th:only-of-type {\n",
       "        vertical-align: middle;\n",
       "    }\n",
       "\n",
       "    .dataframe tbody tr th {\n",
       "        vertical-align: top;\n",
       "    }\n",
       "\n",
       "    .dataframe thead th {\n",
       "        text-align: right;\n",
       "    }\n",
       "</style>\n",
       "<table border=\"1\" class=\"dataframe\">\n",
       "  <thead>\n",
       "    <tr style=\"text-align: right;\">\n",
       "      <th></th>\n",
       "      <th>id</th>\n",
       "      <th>comment_text</th>\n",
       "      <th>obscene</th>\n",
       "    </tr>\n",
       "  </thead>\n",
       "  <tbody>\n",
       "    <tr>\n",
       "      <th>57049</th>\n",
       "      <td>987f8bfa41004975</td>\n",
       "      <td>C. Fred THANKS SO SO MUCH.\\nI WILL ADD MORE RE...</td>\n",
       "      <td>0</td>\n",
       "    </tr>\n",
       "    <tr>\n",
       "      <th>11653</th>\n",
       "      <td>1ec6a6c77f357f22</td>\n",
       "      <td>Sorry about the late reply. I'll see what I ca...</td>\n",
       "      <td>0</td>\n",
       "    </tr>\n",
       "  </tbody>\n",
       "</table>\n",
       "</div>"
      ],
      "text/plain": [
       "                     id                                       comment_text  \\\n",
       "57049  987f8bfa41004975  C. Fred THANKS SO SO MUCH.\\nI WILL ADD MORE RE...   \n",
       "11653  1ec6a6c77f357f22  Sorry about the late reply. I'll see what I ca...   \n",
       "\n",
       "       obscene  \n",
       "57049        0  \n",
       "11653        0  "
      ]
     },
     "execution_count": 23,
     "metadata": {},
     "output_type": "execute_result"
    }
   ],
   "source": [
    "obscene_comment_df = df.loc[:, ['id','comment_text','obscene']]\n",
    "obscene_comment_df.sample(2)"
   ]
  },
  {
   "cell_type": "code",
   "execution_count": 24,
   "id": "5c5376bb",
   "metadata": {
    "execution": {
     "iopub.execute_input": "2024-05-15T06:28:42.422142Z",
     "iopub.status.busy": "2024-05-15T06:28:42.421476Z",
     "iopub.status.idle": "2024-05-15T06:28:42.446896Z",
     "shell.execute_reply": "2024-05-15T06:28:42.445809Z"
    },
    "papermill": {
     "duration": 0.050343,
     "end_time": "2024-05-15T06:28:42.449182",
     "exception": false,
     "start_time": "2024-05-15T06:28:42.398839",
     "status": "completed"
    },
    "tags": []
   },
   "outputs": [
    {
     "data": {
      "text/html": [
       "<div>\n",
       "<style scoped>\n",
       "    .dataframe tbody tr th:only-of-type {\n",
       "        vertical-align: middle;\n",
       "    }\n",
       "\n",
       "    .dataframe tbody tr th {\n",
       "        vertical-align: top;\n",
       "    }\n",
       "\n",
       "    .dataframe thead th {\n",
       "        text-align: right;\n",
       "    }\n",
       "</style>\n",
       "<table border=\"1\" class=\"dataframe\">\n",
       "  <thead>\n",
       "    <tr style=\"text-align: right;\">\n",
       "      <th></th>\n",
       "      <th>id</th>\n",
       "      <th>comment_text</th>\n",
       "      <th>threat</th>\n",
       "    </tr>\n",
       "  </thead>\n",
       "  <tbody>\n",
       "    <tr>\n",
       "      <th>122467</th>\n",
       "      <td>8f1b623c6855d76b</td>\n",
       "      <td>Wait until sources start calling it a war. We ...</td>\n",
       "      <td>0</td>\n",
       "    </tr>\n",
       "    <tr>\n",
       "      <th>132866</th>\n",
       "      <td>c6dd083e29b0fea2</td>\n",
       "      <td>Why is the top 10 in the world university Adel...</td>\n",
       "      <td>0</td>\n",
       "    </tr>\n",
       "  </tbody>\n",
       "</table>\n",
       "</div>"
      ],
      "text/plain": [
       "                      id                                       comment_text  \\\n",
       "122467  8f1b623c6855d76b  Wait until sources start calling it a war. We ...   \n",
       "132866  c6dd083e29b0fea2  Why is the top 10 in the world university Adel...   \n",
       "\n",
       "        threat  \n",
       "122467       0  \n",
       "132866       0  "
      ]
     },
     "execution_count": 24,
     "metadata": {},
     "output_type": "execute_result"
    }
   ],
   "source": [
    "threetening_comment_df = df.loc[:, ['id','comment_text','threat']]\n",
    "threetening_comment_df.sample(2)"
   ]
  },
  {
   "cell_type": "code",
   "execution_count": 25,
   "id": "c61b38bc",
   "metadata": {
    "execution": {
     "iopub.execute_input": "2024-05-15T06:28:42.493523Z",
     "iopub.status.busy": "2024-05-15T06:28:42.493104Z",
     "iopub.status.idle": "2024-05-15T06:28:42.506651Z",
     "shell.execute_reply": "2024-05-15T06:28:42.505576Z"
    },
    "papermill": {
     "duration": 0.038383,
     "end_time": "2024-05-15T06:28:42.508947",
     "exception": false,
     "start_time": "2024-05-15T06:28:42.470564",
     "status": "completed"
    },
    "tags": []
   },
   "outputs": [],
   "source": [
    "severetoxic_comment_df = df.loc[:, ['id','comment_text','severe_toxic']]"
   ]
  },
  {
   "cell_type": "code",
   "execution_count": 26,
   "id": "4fb8cb32",
   "metadata": {
    "execution": {
     "iopub.execute_input": "2024-05-15T06:28:42.553705Z",
     "iopub.status.busy": "2024-05-15T06:28:42.553291Z",
     "iopub.status.idle": "2024-05-15T06:28:42.578902Z",
     "shell.execute_reply": "2024-05-15T06:28:42.577761Z"
    },
    "papermill": {
     "duration": 0.050686,
     "end_time": "2024-05-15T06:28:42.581388",
     "exception": false,
     "start_time": "2024-05-15T06:28:42.530702",
     "status": "completed"
    },
    "tags": []
   },
   "outputs": [
    {
     "data": {
      "text/html": [
       "<div>\n",
       "<style scoped>\n",
       "    .dataframe tbody tr th:only-of-type {\n",
       "        vertical-align: middle;\n",
       "    }\n",
       "\n",
       "    .dataframe tbody tr th {\n",
       "        vertical-align: top;\n",
       "    }\n",
       "\n",
       "    .dataframe thead th {\n",
       "        text-align: right;\n",
       "    }\n",
       "</style>\n",
       "<table border=\"1\" class=\"dataframe\">\n",
       "  <thead>\n",
       "    <tr style=\"text-align: right;\">\n",
       "      <th></th>\n",
       "      <th>id</th>\n",
       "      <th>comment_text</th>\n",
       "      <th>toxic</th>\n",
       "    </tr>\n",
       "  </thead>\n",
       "  <tbody>\n",
       "    <tr>\n",
       "      <th>44577</th>\n",
       "      <td>771a3831318c4fa9</td>\n",
       "      <td>Be WP:BOLD and do it your self !!! Thanks. —— ...</td>\n",
       "      <td>0</td>\n",
       "    </tr>\n",
       "    <tr>\n",
       "      <th>28833</th>\n",
       "      <td>4c6847b4f29f2ce7</td>\n",
       "      <td>To user 'Ted': I AM NOT VANDALIZING THIS PAGE....</td>\n",
       "      <td>0</td>\n",
       "    </tr>\n",
       "  </tbody>\n",
       "</table>\n",
       "</div>"
      ],
      "text/plain": [
       "                     id                                       comment_text  \\\n",
       "44577  771a3831318c4fa9  Be WP:BOLD and do it your self !!! Thanks. —— ...   \n",
       "28833  4c6847b4f29f2ce7  To user 'Ted': I AM NOT VANDALIZING THIS PAGE....   \n",
       "\n",
       "       toxic  \n",
       "44577      0  \n",
       "28833      0  "
      ]
     },
     "execution_count": 26,
     "metadata": {},
     "output_type": "execute_result"
    }
   ],
   "source": [
    "toxic_comment_df = df.loc[:, ['id','comment_text','toxic']]\n",
    "toxic_comment_df.sample(2)"
   ]
  },
  {
   "cell_type": "code",
   "execution_count": 27,
   "id": "19f32571",
   "metadata": {
    "execution": {
     "iopub.execute_input": "2024-05-15T06:28:42.628087Z",
     "iopub.status.busy": "2024-05-15T06:28:42.627711Z",
     "iopub.status.idle": "2024-05-15T06:28:42.687267Z",
     "shell.execute_reply": "2024-05-15T06:28:42.686358Z"
    },
    "papermill": {
     "duration": 0.086902,
     "end_time": "2024-05-15T06:28:42.689790",
     "exception": false,
     "start_time": "2024-05-15T06:28:42.602888",
     "status": "completed"
    },
    "tags": []
   },
   "outputs": [],
   "source": [
    "import wordcloud\n",
    "from PIL import Image\n",
    "from wordcloud import WordCloud, STOPWORDS, ImageColorGenerator\n",
    "from nltk.corpus import stopwords"
   ]
  },
  {
   "cell_type": "code",
   "execution_count": 28,
   "id": "3c88f5bb",
   "metadata": {
    "execution": {
     "iopub.execute_input": "2024-05-15T06:28:42.734973Z",
     "iopub.status.busy": "2024-05-15T06:28:42.734408Z",
     "iopub.status.idle": "2024-05-15T06:28:42.741234Z",
     "shell.execute_reply": "2024-05-15T06:28:42.740184Z"
    },
    "papermill": {
     "duration": 0.031769,
     "end_time": "2024-05-15T06:28:42.743493",
     "exception": false,
     "start_time": "2024-05-15T06:28:42.711724",
     "status": "completed"
    },
    "tags": []
   },
   "outputs": [],
   "source": [
    "def wordcloud(df, label):\n",
    "    subset=df[df[label]==1]\n",
    "    text=subset.comment_text.values\n",
    "    wc=WordCloud(background_color='black',max_words=2000)\n",
    "    \n",
    "    wc.generate(' '.join(text))\n",
    "    \n",
    "    plt.figure(figsize=(20,20))\n",
    "    plt.subplot(221)\n",
    "    plt.axis('off')\n",
    "    plt.title(f'word frequented in {label}', fontsize=20)\n",
    "    \n",
    "    plt.imshow(wc.recolor(colormap='gist_earth', random_state=244), alpha=0.98)\n",
    "    \n",
    "    "
   ]
  },
  {
   "cell_type": "code",
   "execution_count": 29,
   "id": "44a0d54d",
   "metadata": {
    "execution": {
     "iopub.execute_input": "2024-05-15T06:28:42.789049Z",
     "iopub.status.busy": "2024-05-15T06:28:42.788691Z",
     "iopub.status.idle": "2024-05-15T06:28:43.980472Z",
     "shell.execute_reply": "2024-05-15T06:28:43.979457Z"
    },
    "papermill": {
     "duration": 1.220364,
     "end_time": "2024-05-15T06:28:43.985403",
     "exception": false,
     "start_time": "2024-05-15T06:28:42.765039",
     "status": "completed"
    },
    "tags": []
   },
   "outputs": [
    {
     "data": {
      "image/png": "[encoded data removed]",
      "text/plain": [
       "<Figure size 2000x2000 with 1 Axes>"
      ]
     },
     "metadata": {},
     "output_type": "display_data"
    }
   ],
   "source": [
    "wordcloud(severetoxic_comment_df, 'severe_toxic')"
   ]
  },
  {
   "cell_type": "code",
   "execution_count": 30,
   "id": "74b4cc79",
   "metadata": {
    "execution": {
     "iopub.execute_input": "2024-05-15T06:28:44.038559Z",
     "iopub.status.busy": "2024-05-15T06:28:44.038188Z",
     "iopub.status.idle": "2024-05-15T06:28:46.163520Z",
     "shell.execute_reply": "2024-05-15T06:28:46.162452Z"
    },
    "papermill": {
     "duration": 2.156825,
     "end_time": "2024-05-15T06:28:46.167897",
     "exception": false,
     "start_time": "2024-05-15T06:28:44.011072",
     "status": "completed"
    },
    "tags": []
   },
   "outputs": [
    {
     "data": {
      "image/png": "[encoded data removed]",
      "text/plain": [
       "<Figure size 2000x2000 with 1 Axes>"
      ]
     },
     "metadata": {},
     "output_type": "display_data"
    }
   ],
   "source": [
    "wordcloud(obscene_comment_df, 'obscene')"
   ]
  },
  {
   "cell_type": "code",
   "execution_count": 31,
   "id": "6cb55ee9",
   "metadata": {
    "execution": {
     "iopub.execute_input": "2024-05-15T06:28:46.227597Z",
     "iopub.status.busy": "2024-05-15T06:28:46.227184Z",
     "iopub.status.idle": "2024-05-15T06:28:46.231625Z",
     "shell.execute_reply": "2024-05-15T06:28:46.230476Z"
    },
    "papermill": {
     "duration": 0.036837,
     "end_time": "2024-05-15T06:28:46.233621",
     "exception": false,
     "start_time": "2024-05-15T06:28:46.196784",
     "status": "completed"
    },
    "tags": []
   },
   "outputs": [],
   "source": [
    "# Belancing the target column in the dataset"
   ]
  },
  {
   "cell_type": "code",
   "execution_count": 32,
   "id": "ffb7822d",
   "metadata": {
    "execution": {
     "iopub.execute_input": "2024-05-15T06:28:46.293611Z",
     "iopub.status.busy": "2024-05-15T06:28:46.293200Z",
     "iopub.status.idle": "2024-05-15T06:28:46.304423Z",
     "shell.execute_reply": "2024-05-15T06:28:46.303421Z"
    },
    "papermill": {
     "duration": 0.04394,
     "end_time": "2024-05-15T06:28:46.306698",
     "exception": false,
     "start_time": "2024-05-15T06:28:46.262758",
     "status": "completed"
    },
    "tags": []
   },
   "outputs": [
    {
     "data": {
      "text/html": [
       "<div>\n",
       "<style scoped>\n",
       "    .dataframe tbody tr th:only-of-type {\n",
       "        vertical-align: middle;\n",
       "    }\n",
       "\n",
       "    .dataframe tbody tr th {\n",
       "        vertical-align: top;\n",
       "    }\n",
       "\n",
       "    .dataframe thead th {\n",
       "        text-align: right;\n",
       "    }\n",
       "</style>\n",
       "<table border=\"1\" class=\"dataframe\">\n",
       "  <thead>\n",
       "    <tr style=\"text-align: right;\">\n",
       "      <th></th>\n",
       "      <th>id</th>\n",
       "      <th>comment_text</th>\n",
       "      <th>toxic</th>\n",
       "    </tr>\n",
       "  </thead>\n",
       "  <tbody>\n",
       "    <tr>\n",
       "      <th>0</th>\n",
       "      <td>0000997932d777bf</td>\n",
       "      <td>Explanation\\nWhy the edits made under my usern...</td>\n",
       "      <td>0</td>\n",
       "    </tr>\n",
       "    <tr>\n",
       "      <th>1</th>\n",
       "      <td>000103f0d9cfb60f</td>\n",
       "      <td>D'aww! He matches this background colour I'm s...</td>\n",
       "      <td>0</td>\n",
       "    </tr>\n",
       "    <tr>\n",
       "      <th>2</th>\n",
       "      <td>000113f07ec002fd</td>\n",
       "      <td>Hey man, I'm really not trying to edit war. It...</td>\n",
       "      <td>0</td>\n",
       "    </tr>\n",
       "    <tr>\n",
       "      <th>3</th>\n",
       "      <td>0001b41b1c6bb37e</td>\n",
       "      <td>\"\\nMore\\nI can't make any real suggestions on ...</td>\n",
       "      <td>0</td>\n",
       "    </tr>\n",
       "    <tr>\n",
       "      <th>4</th>\n",
       "      <td>0001d958c54c6e35</td>\n",
       "      <td>You, sir, are my hero. Any chance you remember...</td>\n",
       "      <td>0</td>\n",
       "    </tr>\n",
       "    <tr>\n",
       "      <th>...</th>\n",
       "      <td>...</td>\n",
       "      <td>...</td>\n",
       "      <td>...</td>\n",
       "    </tr>\n",
       "    <tr>\n",
       "      <th>159566</th>\n",
       "      <td>ffe987279560d7ff</td>\n",
       "      <td>\":::::And for the second time of asking, when ...</td>\n",
       "      <td>0</td>\n",
       "    </tr>\n",
       "    <tr>\n",
       "      <th>159567</th>\n",
       "      <td>ffea4adeee384e90</td>\n",
       "      <td>You should be ashamed of yourself \\n\\nThat is ...</td>\n",
       "      <td>0</td>\n",
       "    </tr>\n",
       "    <tr>\n",
       "      <th>159568</th>\n",
       "      <td>ffee36eab5c267c9</td>\n",
       "      <td>Spitzer \\n\\nUmm, theres no actual article for ...</td>\n",
       "      <td>0</td>\n",
       "    </tr>\n",
       "    <tr>\n",
       "      <th>159569</th>\n",
       "      <td>fff125370e4aaaf3</td>\n",
       "      <td>And it looks like it was actually you who put ...</td>\n",
       "      <td>0</td>\n",
       "    </tr>\n",
       "    <tr>\n",
       "      <th>159570</th>\n",
       "      <td>fff46fc426af1f9a</td>\n",
       "      <td>\"\\nAnd ... I really don't think you understand...</td>\n",
       "      <td>0</td>\n",
       "    </tr>\n",
       "  </tbody>\n",
       "</table>\n",
       "<p>159571 rows × 3 columns</p>\n",
       "</div>"
      ],
      "text/plain": [
       "                      id                                       comment_text  \\\n",
       "0       0000997932d777bf  Explanation\\nWhy the edits made under my usern...   \n",
       "1       000103f0d9cfb60f  D'aww! He matches this background colour I'm s...   \n",
       "2       000113f07ec002fd  Hey man, I'm really not trying to edit war. It...   \n",
       "3       0001b41b1c6bb37e  \"\\nMore\\nI can't make any real suggestions on ...   \n",
       "4       0001d958c54c6e35  You, sir, are my hero. Any chance you remember...   \n",
       "...                  ...                                                ...   \n",
       "159566  ffe987279560d7ff  \":::::And for the second time of asking, when ...   \n",
       "159567  ffea4adeee384e90  You should be ashamed of yourself \\n\\nThat is ...   \n",
       "159568  ffee36eab5c267c9  Spitzer \\n\\nUmm, theres no actual article for ...   \n",
       "159569  fff125370e4aaaf3  And it looks like it was actually you who put ...   \n",
       "159570  fff46fc426af1f9a  \"\\nAnd ... I really don't think you understand...   \n",
       "\n",
       "        toxic  \n",
       "0           0  \n",
       "1           0  \n",
       "2           0  \n",
       "3           0  \n",
       "4           0  \n",
       "...       ...  \n",
       "159566      0  \n",
       "159567      0  \n",
       "159568      0  \n",
       "159569      0  \n",
       "159570      0  \n",
       "\n",
       "[159571 rows x 3 columns]"
      ]
     },
     "execution_count": 32,
     "metadata": {},
     "output_type": "execute_result"
    }
   ],
   "source": [
    "toxic_comment_df"
   ]
  },
  {
   "cell_type": "code",
   "execution_count": 33,
   "id": "a2f4e922",
   "metadata": {
    "execution": {
     "iopub.execute_input": "2024-05-15T06:28:46.366527Z",
     "iopub.status.busy": "2024-05-15T06:28:46.366095Z",
     "iopub.status.idle": "2024-05-15T06:28:46.376693Z",
     "shell.execute_reply": "2024-05-15T06:28:46.375653Z"
    },
    "papermill": {
     "duration": 0.043242,
     "end_time": "2024-05-15T06:28:46.378805",
     "exception": false,
     "start_time": "2024-05-15T06:28:46.335563",
     "status": "completed"
    },
    "tags": []
   },
   "outputs": [
    {
     "data": {
      "text/plain": [
       "5000"
      ]
     },
     "execution_count": 33,
     "metadata": {},
     "output_type": "execute_result"
    }
   ],
   "source": [
    "# Slecting only 5000 toxic comments\n",
    "toxic_comment_balanced_1 = toxic_comment_df[toxic_comment_df['toxic'] == 1].iloc[0:5000, :]\n",
    "len(toxic_comment_balanced_1)"
   ]
  },
  {
   "cell_type": "code",
   "execution_count": 34,
   "id": "d4db8024",
   "metadata": {
    "execution": {
     "iopub.execute_input": "2024-05-15T06:28:46.439046Z",
     "iopub.status.busy": "2024-05-15T06:28:46.438457Z",
     "iopub.status.idle": "2024-05-15T06:28:46.454818Z",
     "shell.execute_reply": "2024-05-15T06:28:46.453661Z"
    },
    "papermill": {
     "duration": 0.049556,
     "end_time": "2024-05-15T06:28:46.457412",
     "exception": false,
     "start_time": "2024-05-15T06:28:46.407856",
     "status": "completed"
    },
    "tags": []
   },
   "outputs": [
    {
     "data": {
      "text/plain": [
       "(5000, 3)"
      ]
     },
     "execution_count": 34,
     "metadata": {},
     "output_type": "execute_result"
    }
   ],
   "source": [
    "# Selectiong only 50000 non toxic comment \n",
    "toxic_comment_balanced_0 = toxic_comment_df[toxic_comment_df['toxic'] == 0].iloc[0:5000, :]\n",
    "toxic_comment_balanced_0.shape"
   ]
  },
  {
   "cell_type": "code",
   "execution_count": 35,
   "id": "1bc9a0cc",
   "metadata": {
    "execution": {
     "iopub.execute_input": "2024-05-15T06:28:46.518277Z",
     "iopub.status.busy": "2024-05-15T06:28:46.517892Z",
     "iopub.status.idle": "2024-05-15T06:28:46.524551Z",
     "shell.execute_reply": "2024-05-15T06:28:46.523440Z"
    },
    "papermill": {
     "duration": 0.040044,
     "end_time": "2024-05-15T06:28:46.526652",
     "exception": false,
     "start_time": "2024-05-15T06:28:46.486608",
     "status": "completed"
    },
    "tags": []
   },
   "outputs": [],
   "source": [
    "# Concating toxic commment and non toxic comment \n",
    "toxic_comment_balanced = pd.concat([toxic_comment_balanced_1, toxic_comment_balanced_0])"
   ]
  },
  {
   "cell_type": "code",
   "execution_count": 36,
   "id": "284365c2",
   "metadata": {
    "execution": {
     "iopub.execute_input": "2024-05-15T06:28:46.587477Z",
     "iopub.status.busy": "2024-05-15T06:28:46.586543Z",
     "iopub.status.idle": "2024-05-15T06:28:46.592437Z",
     "shell.execute_reply": "2024-05-15T06:28:46.591661Z"
    },
    "papermill": {
     "duration": 0.038553,
     "end_time": "2024-05-15T06:28:46.594404",
     "exception": false,
     "start_time": "2024-05-15T06:28:46.555851",
     "status": "completed"
    },
    "tags": []
   },
   "outputs": [
    {
     "data": {
      "text/plain": [
       "(10000, 3)"
      ]
     },
     "execution_count": 36,
     "metadata": {},
     "output_type": "execute_result"
    }
   ],
   "source": [
    "toxic_comment_balanced.shape"
   ]
  },
  {
   "cell_type": "code",
   "execution_count": 37,
   "id": "6e9b1c94",
   "metadata": {
    "execution": {
     "iopub.execute_input": "2024-05-15T06:28:46.656279Z",
     "iopub.status.busy": "2024-05-15T06:28:46.655653Z",
     "iopub.status.idle": "2024-05-15T06:28:46.662973Z",
     "shell.execute_reply": "2024-05-15T06:28:46.662233Z"
    },
    "papermill": {
     "duration": 0.040489,
     "end_time": "2024-05-15T06:28:46.664989",
     "exception": false,
     "start_time": "2024-05-15T06:28:46.624500",
     "status": "completed"
    },
    "tags": []
   },
   "outputs": [
    {
     "data": {
      "text/plain": [
       "toxic\n",
       "1    5000\n",
       "0    5000\n",
       "Name: count, dtype: int64"
      ]
     },
     "execution_count": 37,
     "metadata": {},
     "output_type": "execute_result"
    }
   ],
   "source": [
    "toxic_comment_balanced['toxic'].value_counts()\n",
    "# now the toxic and non toxic is balance"
   ]
  },
  {
   "cell_type": "code",
   "execution_count": 38,
   "id": "276e3c0a",
   "metadata": {
    "execution": {
     "iopub.execute_input": "2024-05-15T06:28:46.726811Z",
     "iopub.status.busy": "2024-05-15T06:28:46.725744Z",
     "iopub.status.idle": "2024-05-15T06:28:46.730078Z",
     "shell.execute_reply": "2024-05-15T06:28:46.729331Z"
    },
    "papermill": {
     "duration": 0.037086,
     "end_time": "2024-05-15T06:28:46.731920",
     "exception": false,
     "start_time": "2024-05-15T06:28:46.694834",
     "status": "completed"
    },
    "tags": []
   },
   "outputs": [],
   "source": [
    "# Repeating the steps for the subset dataset"
   ]
  },
  {
   "cell_type": "code",
   "execution_count": 39,
   "id": "5075d40d",
   "metadata": {
    "execution": {
     "iopub.execute_input": "2024-05-15T06:28:46.794077Z",
     "iopub.status.busy": "2024-05-15T06:28:46.793231Z",
     "iopub.status.idle": "2024-05-15T06:28:46.809323Z",
     "shell.execute_reply": "2024-05-15T06:28:46.808609Z"
    },
    "papermill": {
     "duration": 0.049769,
     "end_time": "2024-05-15T06:28:46.811303",
     "exception": false,
     "start_time": "2024-05-15T06:28:46.761534",
     "status": "completed"
    },
    "tags": []
   },
   "outputs": [
    {
     "data": {
      "text/html": [
       "<div>\n",
       "<style scoped>\n",
       "    .dataframe tbody tr th:only-of-type {\n",
       "        vertical-align: middle;\n",
       "    }\n",
       "\n",
       "    .dataframe tbody tr th {\n",
       "        vertical-align: top;\n",
       "    }\n",
       "\n",
       "    .dataframe thead th {\n",
       "        text-align: right;\n",
       "    }\n",
       "</style>\n",
       "<table border=\"1\" class=\"dataframe\">\n",
       "  <thead>\n",
       "    <tr style=\"text-align: right;\">\n",
       "      <th></th>\n",
       "      <th>id</th>\n",
       "      <th>comment_text</th>\n",
       "      <th>severe_toxic</th>\n",
       "    </tr>\n",
       "  </thead>\n",
       "  <tbody>\n",
       "    <tr>\n",
       "      <th>158488</th>\n",
       "      <td>eea183eff85f7804</td>\n",
       "      <td>. Because the first is archived, it may be bet...</td>\n",
       "      <td>0</td>\n",
       "    </tr>\n",
       "    <tr>\n",
       "      <th>57368</th>\n",
       "      <td>9966e2e5b2b5c372</td>\n",
       "      <td>Seriously? SERIOUSLY!!!??? \\n\\nIT'S TOO LONG! ...</td>\n",
       "      <td>0</td>\n",
       "    </tr>\n",
       "  </tbody>\n",
       "</table>\n",
       "</div>"
      ],
      "text/plain": [
       "                      id                                       comment_text  \\\n",
       "158488  eea183eff85f7804  . Because the first is archived, it may be bet...   \n",
       "57368   9966e2e5b2b5c372  Seriously? SERIOUSLY!!!??? \\n\\nIT'S TOO LONG! ...   \n",
       "\n",
       "        severe_toxic  \n",
       "158488             0  \n",
       "57368              0  "
      ]
     },
     "execution_count": 39,
     "metadata": {},
     "output_type": "execute_result"
    }
   ],
   "source": [
    "severetoxic_comment_df.sample(2)"
   ]
  },
  {
   "cell_type": "code",
   "execution_count": 40,
   "id": "abd2ffa7",
   "metadata": {
    "execution": {
     "iopub.execute_input": "2024-05-15T06:28:46.872713Z",
     "iopub.status.busy": "2024-05-15T06:28:46.872033Z",
     "iopub.status.idle": "2024-05-15T06:28:46.880365Z",
     "shell.execute_reply": "2024-05-15T06:28:46.879613Z"
    },
    "papermill": {
     "duration": 0.04139,
     "end_time": "2024-05-15T06:28:46.882198",
     "exception": false,
     "start_time": "2024-05-15T06:28:46.840808",
     "status": "completed"
    },
    "tags": []
   },
   "outputs": [
    {
     "data": {
      "text/plain": [
       "severe_toxic\n",
       "0    157976\n",
       "1      1595\n",
       "Name: count, dtype: int64"
      ]
     },
     "execution_count": 40,
     "metadata": {},
     "output_type": "execute_result"
    }
   ],
   "source": [
    "severetoxic_comment_df['severe_toxic'].value_counts()"
   ]
  },
  {
   "cell_type": "code",
   "execution_count": 41,
   "id": "bce5549f",
   "metadata": {
    "execution": {
     "iopub.execute_input": "2024-05-15T06:28:46.944621Z",
     "iopub.status.busy": "2024-05-15T06:28:46.944004Z",
     "iopub.status.idle": "2024-05-15T06:28:46.949799Z",
     "shell.execute_reply": "2024-05-15T06:28:46.949019Z"
    },
    "papermill": {
     "duration": 0.040323,
     "end_time": "2024-05-15T06:28:46.951903",
     "exception": false,
     "start_time": "2024-05-15T06:28:46.911580",
     "status": "completed"
    },
    "tags": []
   },
   "outputs": [],
   "source": [
    "severe_comment_balanced_1 = severetoxic_comment_df[severetoxic_comment_df['severe_toxic'] == 1].iloc[0:1595, :]"
   ]
  },
  {
   "cell_type": "code",
   "execution_count": 42,
   "id": "156c35e0",
   "metadata": {
    "execution": {
     "iopub.execute_input": "2024-05-15T06:28:47.013478Z",
     "iopub.status.busy": "2024-05-15T06:28:47.012751Z",
     "iopub.status.idle": "2024-05-15T06:28:47.026728Z",
     "shell.execute_reply": "2024-05-15T06:28:47.025718Z"
    },
    "papermill": {
     "duration": 0.04772,
     "end_time": "2024-05-15T06:28:47.029232",
     "exception": false,
     "start_time": "2024-05-15T06:28:46.981512",
     "status": "completed"
    },
    "tags": []
   },
   "outputs": [],
   "source": [
    "severe_comment_balanced_0 = severetoxic_comment_df[severetoxic_comment_df['severe_toxic'] == 0].iloc[0:1595, :]"
   ]
  },
  {
   "cell_type": "code",
   "execution_count": 43,
   "id": "1531f2cb",
   "metadata": {
    "execution": {
     "iopub.execute_input": "2024-05-15T06:28:47.092706Z",
     "iopub.status.busy": "2024-05-15T06:28:47.092035Z",
     "iopub.status.idle": "2024-05-15T06:28:47.099145Z",
     "shell.execute_reply": "2024-05-15T06:28:47.098123Z"
    },
    "papermill": {
     "duration": 0.041944,
     "end_time": "2024-05-15T06:28:47.101442",
     "exception": false,
     "start_time": "2024-05-15T06:28:47.059498",
     "status": "completed"
    },
    "tags": []
   },
   "outputs": [
    {
     "data": {
      "text/plain": [
       "((1595, 3), (1595, 3), (3190, 3))"
      ]
     },
     "execution_count": 43,
     "metadata": {},
     "output_type": "execute_result"
    }
   ],
   "source": [
    "severe_comment_balanced = pd.concat([severe_comment_balanced_1, severe_comment_balanced_0])\n",
    "severe_comment_balanced_0.shape, severe_comment_balanced_1.shape,severe_comment_balanced.shape"
   ]
  },
  {
   "cell_type": "code",
   "execution_count": 44,
   "id": "ee281f84",
   "metadata": {
    "execution": {
     "iopub.execute_input": "2024-05-15T06:28:47.166481Z",
     "iopub.status.busy": "2024-05-15T06:28:47.165485Z",
     "iopub.status.idle": "2024-05-15T06:28:47.170849Z",
     "shell.execute_reply": "2024-05-15T06:28:47.169522Z"
    },
    "papermill": {
     "duration": 0.042437,
     "end_time": "2024-05-15T06:28:47.173607",
     "exception": false,
     "start_time": "2024-05-15T06:28:47.131170",
     "status": "completed"
    },
    "tags": []
   },
   "outputs": [],
   "source": [
    "# Repeating the same for obsene comment "
   ]
  },
  {
   "cell_type": "code",
   "execution_count": 45,
   "id": "7fd41af5",
   "metadata": {
    "execution": {
     "iopub.execute_input": "2024-05-15T06:28:47.237939Z",
     "iopub.status.busy": "2024-05-15T06:28:47.237569Z",
     "iopub.status.idle": "2024-05-15T06:28:47.252348Z",
     "shell.execute_reply": "2024-05-15T06:28:47.251287Z"
    },
    "papermill": {
     "duration": 0.050445,
     "end_time": "2024-05-15T06:28:47.254784",
     "exception": false,
     "start_time": "2024-05-15T06:28:47.204339",
     "status": "completed"
    },
    "tags": []
   },
   "outputs": [
    {
     "data": {
      "text/html": [
       "<div>\n",
       "<style scoped>\n",
       "    .dataframe tbody tr th:only-of-type {\n",
       "        vertical-align: middle;\n",
       "    }\n",
       "\n",
       "    .dataframe tbody tr th {\n",
       "        vertical-align: top;\n",
       "    }\n",
       "\n",
       "    .dataframe thead th {\n",
       "        text-align: right;\n",
       "    }\n",
       "</style>\n",
       "<table border=\"1\" class=\"dataframe\">\n",
       "  <thead>\n",
       "    <tr style=\"text-align: right;\">\n",
       "      <th></th>\n",
       "      <th>id</th>\n",
       "      <th>comment_text</th>\n",
       "      <th>obscene</th>\n",
       "    </tr>\n",
       "  </thead>\n",
       "  <tbody>\n",
       "    <tr>\n",
       "      <th>66685</th>\n",
       "      <td>b270c7bf84b4c75e</td>\n",
       "      <td>\"\\n\\n Letter to the Governing Body on controve...</td>\n",
       "      <td>0</td>\n",
       "    </tr>\n",
       "    <tr>\n",
       "      <th>113939</th>\n",
       "      <td>6163576bda45f298</td>\n",
       "      <td>\"\\nYou may take my word for it that it is. and...</td>\n",
       "      <td>0</td>\n",
       "    </tr>\n",
       "  </tbody>\n",
       "</table>\n",
       "</div>"
      ],
      "text/plain": [
       "                      id                                       comment_text  \\\n",
       "66685   b270c7bf84b4c75e  \"\\n\\n Letter to the Governing Body on controve...   \n",
       "113939  6163576bda45f298  \"\\nYou may take my word for it that it is. and...   \n",
       "\n",
       "        obscene  \n",
       "66685         0  \n",
       "113939        0  "
      ]
     },
     "execution_count": 45,
     "metadata": {},
     "output_type": "execute_result"
    }
   ],
   "source": [
    "obscene_comment_df.sample(2)"
   ]
  },
  {
   "cell_type": "code",
   "execution_count": 46,
   "id": "d135aac5",
   "metadata": {
    "execution": {
     "iopub.execute_input": "2024-05-15T06:28:47.316420Z",
     "iopub.status.busy": "2024-05-15T06:28:47.316029Z",
     "iopub.status.idle": "2024-05-15T06:28:47.325559Z",
     "shell.execute_reply": "2024-05-15T06:28:47.324542Z"
    },
    "papermill": {
     "duration": 0.043024,
     "end_time": "2024-05-15T06:28:47.327671",
     "exception": false,
     "start_time": "2024-05-15T06:28:47.284647",
     "status": "completed"
    },
    "tags": []
   },
   "outputs": [
    {
     "data": {
      "text/plain": [
       "obscene\n",
       "0    151122\n",
       "1      8449\n",
       "Name: count, dtype: int64"
      ]
     },
     "execution_count": 46,
     "metadata": {},
     "output_type": "execute_result"
    }
   ],
   "source": [
    "obscene_comment_df['obscene'].value_counts()\n",
    "# There inbalance data"
   ]
  },
  {
   "cell_type": "code",
   "execution_count": 47,
   "id": "51edfd54",
   "metadata": {
    "execution": {
     "iopub.execute_input": "2024-05-15T06:28:47.389968Z",
     "iopub.status.busy": "2024-05-15T06:28:47.389607Z",
     "iopub.status.idle": "2024-05-15T06:28:47.397512Z",
     "shell.execute_reply": "2024-05-15T06:28:47.396453Z"
    },
    "papermill": {
     "duration": 0.042203,
     "end_time": "2024-05-15T06:28:47.399866",
     "exception": false,
     "start_time": "2024-05-15T06:28:47.357663",
     "status": "completed"
    },
    "tags": []
   },
   "outputs": [],
   "source": [
    "obscene_comment_df_1 = obscene_comment_df[obscene_comment_df['obscene'] == 1].iloc[0:8449, :]"
   ]
  },
  {
   "cell_type": "code",
   "execution_count": 48,
   "id": "b6f6e034",
   "metadata": {
    "execution": {
     "iopub.execute_input": "2024-05-15T06:28:47.463796Z",
     "iopub.status.busy": "2024-05-15T06:28:47.463430Z",
     "iopub.status.idle": "2024-05-15T06:28:47.478261Z",
     "shell.execute_reply": "2024-05-15T06:28:47.477239Z"
    },
    "papermill": {
     "duration": 0.049596,
     "end_time": "2024-05-15T06:28:47.480821",
     "exception": false,
     "start_time": "2024-05-15T06:28:47.431225",
     "status": "completed"
    },
    "tags": []
   },
   "outputs": [],
   "source": [
    "obscene_comment_df_0 = obscene_comment_df[obscene_comment_df['obscene'] == 0].iloc[0:8449, :]"
   ]
  },
  {
   "cell_type": "code",
   "execution_count": 49,
   "id": "6a350fb8",
   "metadata": {
    "execution": {
     "iopub.execute_input": "2024-05-15T06:28:47.543111Z",
     "iopub.status.busy": "2024-05-15T06:28:47.542758Z",
     "iopub.status.idle": "2024-05-15T06:28:47.551187Z",
     "shell.execute_reply": "2024-05-15T06:28:47.550168Z"
    },
    "papermill": {
     "duration": 0.042338,
     "end_time": "2024-05-15T06:28:47.553419",
     "exception": false,
     "start_time": "2024-05-15T06:28:47.511081",
     "status": "completed"
    },
    "tags": []
   },
   "outputs": [
    {
     "data": {
      "text/plain": [
       "((8449, 3), (8449, 3), (159571, 3))"
      ]
     },
     "execution_count": 49,
     "metadata": {},
     "output_type": "execute_result"
    }
   ],
   "source": [
    "obscene_comment_balanced = pd.concat([obscene_comment_df_1, obscene_comment_df_0])\n",
    "obscene_comment_df_1.shape,  obscene_comment_df_0.shape, obscene_comment_df.shape"
   ]
  },
  {
   "cell_type": "code",
   "execution_count": 50,
   "id": "5cd3e9b7",
   "metadata": {
    "execution": {
     "iopub.execute_input": "2024-05-15T06:28:47.618739Z",
     "iopub.status.busy": "2024-05-15T06:28:47.618348Z",
     "iopub.status.idle": "2024-05-15T06:28:47.622675Z",
     "shell.execute_reply": "2024-05-15T06:28:47.621454Z"
    },
    "papermill": {
     "duration": 0.041199,
     "end_time": "2024-05-15T06:28:47.624888",
     "exception": false,
     "start_time": "2024-05-15T06:28:47.583689",
     "status": "completed"
    },
    "tags": []
   },
   "outputs": [],
   "source": [
    "# Repeating the same for thereatening comment"
   ]
  },
  {
   "cell_type": "code",
   "execution_count": 51,
   "id": "7f21d554",
   "metadata": {
    "execution": {
     "iopub.execute_input": "2024-05-15T06:28:47.688159Z",
     "iopub.status.busy": "2024-05-15T06:28:47.687783Z",
     "iopub.status.idle": "2024-05-15T06:28:47.702749Z",
     "shell.execute_reply": "2024-05-15T06:28:47.701668Z"
    },
    "papermill": {
     "duration": 0.049121,
     "end_time": "2024-05-15T06:28:47.704792",
     "exception": false,
     "start_time": "2024-05-15T06:28:47.655671",
     "status": "completed"
    },
    "tags": []
   },
   "outputs": [
    {
     "data": {
      "text/html": [
       "<div>\n",
       "<style scoped>\n",
       "    .dataframe tbody tr th:only-of-type {\n",
       "        vertical-align: middle;\n",
       "    }\n",
       "\n",
       "    .dataframe tbody tr th {\n",
       "        vertical-align: top;\n",
       "    }\n",
       "\n",
       "    .dataframe thead th {\n",
       "        text-align: right;\n",
       "    }\n",
       "</style>\n",
       "<table border=\"1\" class=\"dataframe\">\n",
       "  <thead>\n",
       "    <tr style=\"text-align: right;\">\n",
       "      <th></th>\n",
       "      <th>id</th>\n",
       "      <th>comment_text</th>\n",
       "      <th>threat</th>\n",
       "    </tr>\n",
       "  </thead>\n",
       "  <tbody>\n",
       "    <tr>\n",
       "      <th>125645</th>\n",
       "      <td>a023bfc11d428a36</td>\n",
       "      <td>\", 21 July 2015 (UTC)\\n Sure.  So in this part...</td>\n",
       "      <td>0</td>\n",
       "    </tr>\n",
       "    <tr>\n",
       "      <th>114586</th>\n",
       "      <td>64d66982dd883141</td>\n",
       "      <td>Thank you for recognizing me!</td>\n",
       "      <td>0</td>\n",
       "    </tr>\n",
       "  </tbody>\n",
       "</table>\n",
       "</div>"
      ],
      "text/plain": [
       "                      id                                       comment_text  \\\n",
       "125645  a023bfc11d428a36  \", 21 July 2015 (UTC)\\n Sure.  So in this part...   \n",
       "114586  64d66982dd883141                      Thank you for recognizing me!   \n",
       "\n",
       "        threat  \n",
       "125645       0  \n",
       "114586       0  "
      ]
     },
     "execution_count": 51,
     "metadata": {},
     "output_type": "execute_result"
    }
   ],
   "source": [
    "threetening_comment_df.sample(2)"
   ]
  },
  {
   "cell_type": "code",
   "execution_count": 52,
   "id": "2f3e8b36",
   "metadata": {
    "execution": {
     "iopub.execute_input": "2024-05-15T06:28:47.767394Z",
     "iopub.status.busy": "2024-05-15T06:28:47.766982Z",
     "iopub.status.idle": "2024-05-15T06:28:47.776339Z",
     "shell.execute_reply": "2024-05-15T06:28:47.775272Z"
    },
    "papermill": {
     "duration": 0.04348,
     "end_time": "2024-05-15T06:28:47.778400",
     "exception": false,
     "start_time": "2024-05-15T06:28:47.734920",
     "status": "completed"
    },
    "tags": []
   },
   "outputs": [
    {
     "data": {
      "text/plain": [
       "threat\n",
       "0    159093\n",
       "1       478\n",
       "Name: count, dtype: int64"
      ]
     },
     "execution_count": 52,
     "metadata": {},
     "output_type": "execute_result"
    }
   ],
   "source": [
    "threetening_comment_df['threat'].value_counts()\n",
    "# There inbalance data"
   ]
  },
  {
   "cell_type": "code",
   "execution_count": 53,
   "id": "0ae919e6",
   "metadata": {
    "execution": {
     "iopub.execute_input": "2024-05-15T06:28:47.840783Z",
     "iopub.status.busy": "2024-05-15T06:28:47.840164Z",
     "iopub.status.idle": "2024-05-15T06:28:47.846552Z",
     "shell.execute_reply": "2024-05-15T06:28:47.845739Z"
    },
    "papermill": {
     "duration": 0.040045,
     "end_time": "2024-05-15T06:28:47.848562",
     "exception": false,
     "start_time": "2024-05-15T06:28:47.808517",
     "status": "completed"
    },
    "tags": []
   },
   "outputs": [],
   "source": [
    "threat_comment_df_1 = threetening_comment_df[threetening_comment_df['threat'] == 1].iloc[0:478, :]"
   ]
  },
  {
   "cell_type": "code",
   "execution_count": 54,
   "id": "768c0ef5",
   "metadata": {
    "execution": {
     "iopub.execute_input": "2024-05-15T06:28:47.911243Z",
     "iopub.status.busy": "2024-05-15T06:28:47.910845Z",
     "iopub.status.idle": "2024-05-15T06:28:47.925032Z",
     "shell.execute_reply": "2024-05-15T06:28:47.923876Z"
    },
    "papermill": {
     "duration": 0.048497,
     "end_time": "2024-05-15T06:28:47.927495",
     "exception": false,
     "start_time": "2024-05-15T06:28:47.878998",
     "status": "completed"
    },
    "tags": []
   },
   "outputs": [],
   "source": [
    "threat_comment_df_0 = threetening_comment_df[threetening_comment_df['threat'] == 0].iloc[0:478, :]"
   ]
  },
  {
   "cell_type": "code",
   "execution_count": 55,
   "id": "a8c7f292",
   "metadata": {
    "execution": {
     "iopub.execute_input": "2024-05-15T06:28:47.991117Z",
     "iopub.status.busy": "2024-05-15T06:28:47.990721Z",
     "iopub.status.idle": "2024-05-15T06:28:47.998337Z",
     "shell.execute_reply": "2024-05-15T06:28:47.997255Z"
    },
    "papermill": {
     "duration": 0.041771,
     "end_time": "2024-05-15T06:28:48.000551",
     "exception": false,
     "start_time": "2024-05-15T06:28:47.958780",
     "status": "completed"
    },
    "tags": []
   },
   "outputs": [
    {
     "data": {
      "text/plain": [
       "((478, 3), (478, 3), (956, 3))"
      ]
     },
     "execution_count": 55,
     "metadata": {},
     "output_type": "execute_result"
    }
   ],
   "source": [
    "threetening_comment_balanced = pd.concat([threat_comment_df_1, threat_comment_df_0])\n",
    "threat_comment_df_1.shape,  threat_comment_df_1.shape, threetening_comment_balanced.shape"
   ]
  },
  {
   "cell_type": "code",
   "execution_count": null,
   "id": "455dbe8f",
   "metadata": {
    "papermill": {
     "duration": 0.032225,
     "end_time": "2024-05-15T06:28:48.063870",
     "exception": false,
     "start_time": "2024-05-15T06:28:48.031645",
     "status": "completed"
    },
    "tags": []
   },
   "outputs": [],
   "source": []
  },
  {
   "cell_type": "code",
   "execution_count": 56,
   "id": "5f5626f5",
   "metadata": {
    "execution": {
     "iopub.execute_input": "2024-05-15T06:28:48.129410Z",
     "iopub.status.busy": "2024-05-15T06:28:48.128777Z",
     "iopub.status.idle": "2024-05-15T06:28:48.133026Z",
     "shell.execute_reply": "2024-05-15T06:28:48.132292Z"
    },
    "papermill": {
     "duration": 0.038708,
     "end_time": "2024-05-15T06:28:48.134975",
     "exception": false,
     "start_time": "2024-05-15T06:28:48.096267",
     "status": "completed"
    },
    "tags": []
   },
   "outputs": [],
   "source": [
    "# Repeating the same for identity hate comment"
   ]
  },
  {
   "cell_type": "code",
   "execution_count": 57,
   "id": "1a919d53",
   "metadata": {
    "execution": {
     "iopub.execute_input": "2024-05-15T06:28:48.199143Z",
     "iopub.status.busy": "2024-05-15T06:28:48.198542Z",
     "iopub.status.idle": "2024-05-15T06:28:48.213304Z",
     "shell.execute_reply": "2024-05-15T06:28:48.212236Z"
    },
    "papermill": {
     "duration": 0.04955,
     "end_time": "2024-05-15T06:28:48.215721",
     "exception": false,
     "start_time": "2024-05-15T06:28:48.166171",
     "status": "completed"
    },
    "tags": []
   },
   "outputs": [
    {
     "data": {
      "text/html": [
       "<div>\n",
       "<style scoped>\n",
       "    .dataframe tbody tr th:only-of-type {\n",
       "        vertical-align: middle;\n",
       "    }\n",
       "\n",
       "    .dataframe tbody tr th {\n",
       "        vertical-align: top;\n",
       "    }\n",
       "\n",
       "    .dataframe thead th {\n",
       "        text-align: right;\n",
       "    }\n",
       "</style>\n",
       "<table border=\"1\" class=\"dataframe\">\n",
       "  <thead>\n",
       "    <tr style=\"text-align: right;\">\n",
       "      <th></th>\n",
       "      <th>id</th>\n",
       "      <th>comment_text</th>\n",
       "      <th>identity_hate</th>\n",
       "    </tr>\n",
       "  </thead>\n",
       "  <tbody>\n",
       "    <tr>\n",
       "      <th>60437</th>\n",
       "      <td>a1c77452024b9181</td>\n",
       "      <td>Spadework\\nHi there again, please let me know ...</td>\n",
       "      <td>0</td>\n",
       "    </tr>\n",
       "    <tr>\n",
       "      <th>124082</th>\n",
       "      <td>97a5d08553a152fb</td>\n",
       "      <td>\"\\n\\nAn entry from  appeared on Wikipedia's Ma...</td>\n",
       "      <td>0</td>\n",
       "    </tr>\n",
       "  </tbody>\n",
       "</table>\n",
       "</div>"
      ],
      "text/plain": [
       "                      id                                       comment_text  \\\n",
       "60437   a1c77452024b9181  Spadework\\nHi there again, please let me know ...   \n",
       "124082  97a5d08553a152fb  \"\\n\\nAn entry from  appeared on Wikipedia's Ma...   \n",
       "\n",
       "        identity_hate  \n",
       "60437               0  \n",
       "124082              0  "
      ]
     },
     "execution_count": 57,
     "metadata": {},
     "output_type": "execute_result"
    }
   ],
   "source": [
    "identityhate_comment_df.sample(2)"
   ]
  },
  {
   "cell_type": "code",
   "execution_count": 58,
   "id": "03c7beec",
   "metadata": {
    "execution": {
     "iopub.execute_input": "2024-05-15T06:28:48.279534Z",
     "iopub.status.busy": "2024-05-15T06:28:48.278841Z",
     "iopub.status.idle": "2024-05-15T06:28:48.287324Z",
     "shell.execute_reply": "2024-05-15T06:28:48.286607Z"
    },
    "papermill": {
     "duration": 0.04285,
     "end_time": "2024-05-15T06:28:48.289247",
     "exception": false,
     "start_time": "2024-05-15T06:28:48.246397",
     "status": "completed"
    },
    "tags": []
   },
   "outputs": [
    {
     "data": {
      "text/plain": [
       "identity_hate\n",
       "0    158166\n",
       "1      1405\n",
       "Name: count, dtype: int64"
      ]
     },
     "execution_count": 58,
     "metadata": {},
     "output_type": "execute_result"
    }
   ],
   "source": [
    "identityhate_comment_df['identity_hate'].value_counts()\n",
    "# There inbalance data"
   ]
  },
  {
   "cell_type": "code",
   "execution_count": 59,
   "id": "ca25ecb6",
   "metadata": {
    "execution": {
     "iopub.execute_input": "2024-05-15T06:28:48.353383Z",
     "iopub.status.busy": "2024-05-15T06:28:48.352715Z",
     "iopub.status.idle": "2024-05-15T06:28:48.358623Z",
     "shell.execute_reply": "2024-05-15T06:28:48.357825Z"
    },
    "papermill": {
     "duration": 0.040652,
     "end_time": "2024-05-15T06:28:48.360638",
     "exception": false,
     "start_time": "2024-05-15T06:28:48.319986",
     "status": "completed"
    },
    "tags": []
   },
   "outputs": [],
   "source": [
    "identityhate_comment_df_1 = identityhate_comment_df[identityhate_comment_df['identity_hate'] == 1].iloc[0:1405, :]"
   ]
  },
  {
   "cell_type": "code",
   "execution_count": 60,
   "id": "bbc09d18",
   "metadata": {
    "execution": {
     "iopub.execute_input": "2024-05-15T06:28:48.424551Z",
     "iopub.status.busy": "2024-05-15T06:28:48.423876Z",
     "iopub.status.idle": "2024-05-15T06:28:48.437668Z",
     "shell.execute_reply": "2024-05-15T06:28:48.436740Z"
    },
    "papermill": {
     "duration": 0.048769,
     "end_time": "2024-05-15T06:28:48.440113",
     "exception": false,
     "start_time": "2024-05-15T06:28:48.391344",
     "status": "completed"
    },
    "tags": []
   },
   "outputs": [],
   "source": [
    "identityhate_comment_df_0 = identityhate_comment_df[identityhate_comment_df['identity_hate'] == 0].iloc[0:1405, :]"
   ]
  },
  {
   "cell_type": "code",
   "execution_count": 61,
   "id": "25914c88",
   "metadata": {
    "execution": {
     "iopub.execute_input": "2024-05-15T06:28:48.504650Z",
     "iopub.status.busy": "2024-05-15T06:28:48.504265Z",
     "iopub.status.idle": "2024-05-15T06:28:48.511109Z",
     "shell.execute_reply": "2024-05-15T06:28:48.510051Z"
    },
    "papermill": {
     "duration": 0.04154,
     "end_time": "2024-05-15T06:28:48.513303",
     "exception": false,
     "start_time": "2024-05-15T06:28:48.471763",
     "status": "completed"
    },
    "tags": []
   },
   "outputs": [
    {
     "data": {
      "text/plain": [
       "((1405, 3), (1405, 3), (2810, 3))"
      ]
     },
     "execution_count": 61,
     "metadata": {},
     "output_type": "execute_result"
    }
   ],
   "source": [
    "identityhate_comment_balanced = pd.concat([identityhate_comment_df_1, identityhate_comment_df_0])\n",
    "identityhate_comment_df_1.shape, identityhate_comment_df_0.shape, identityhate_comment_balanced.shape"
   ]
  },
  {
   "cell_type": "code",
   "execution_count": 62,
   "id": "47d20fd2",
   "metadata": {
    "execution": {
     "iopub.execute_input": "2024-05-15T06:28:48.576922Z",
     "iopub.status.busy": "2024-05-15T06:28:48.576523Z",
     "iopub.status.idle": "2024-05-15T06:28:48.581179Z",
     "shell.execute_reply": "2024-05-15T06:28:48.580223Z"
    },
    "papermill": {
     "duration": 0.038971,
     "end_time": "2024-05-15T06:28:48.583256",
     "exception": false,
     "start_time": "2024-05-15T06:28:48.544285",
     "status": "completed"
    },
    "tags": []
   },
   "outputs": [],
   "source": [
    "# Repeating the same for insult hate comment"
   ]
  },
  {
   "cell_type": "code",
   "execution_count": 63,
   "id": "79f8ce7c",
   "metadata": {
    "execution": {
     "iopub.execute_input": "2024-05-15T06:28:48.649223Z",
     "iopub.status.busy": "2024-05-15T06:28:48.648188Z",
     "iopub.status.idle": "2024-05-15T06:28:48.656976Z",
     "shell.execute_reply": "2024-05-15T06:28:48.656244Z"
    },
    "papermill": {
     "duration": 0.044157,
     "end_time": "2024-05-15T06:28:48.658845",
     "exception": false,
     "start_time": "2024-05-15T06:28:48.614688",
     "status": "completed"
    },
    "tags": []
   },
   "outputs": [
    {
     "data": {
      "text/plain": [
       "insult\n",
       "0    151694\n",
       "1      7877\n",
       "Name: count, dtype: int64"
      ]
     },
     "execution_count": 63,
     "metadata": {},
     "output_type": "execute_result"
    }
   ],
   "source": [
    "insulting_comment_df['insult'].value_counts()"
   ]
  },
  {
   "cell_type": "code",
   "execution_count": 64,
   "id": "300ccdcc",
   "metadata": {
    "execution": {
     "iopub.execute_input": "2024-05-15T06:28:48.722558Z",
     "iopub.status.busy": "2024-05-15T06:28:48.721687Z",
     "iopub.status.idle": "2024-05-15T06:28:48.729032Z",
     "shell.execute_reply": "2024-05-15T06:28:48.728270Z"
    },
    "papermill": {
     "duration": 0.041373,
     "end_time": "2024-05-15T06:28:48.731030",
     "exception": false,
     "start_time": "2024-05-15T06:28:48.689657",
     "status": "completed"
    },
    "tags": []
   },
   "outputs": [],
   "source": [
    "insulting_comment_df_1 = insulting_comment_df[insulting_comment_df['insult'] == 1].iloc[0:7877, :]"
   ]
  },
  {
   "cell_type": "code",
   "execution_count": 65,
   "id": "fe4332ba",
   "metadata": {
    "execution": {
     "iopub.execute_input": "2024-05-15T06:28:48.795238Z",
     "iopub.status.busy": "2024-05-15T06:28:48.794585Z",
     "iopub.status.idle": "2024-05-15T06:28:48.811441Z",
     "shell.execute_reply": "2024-05-15T06:28:48.810325Z"
    },
    "papermill": {
     "duration": 0.051775,
     "end_time": "2024-05-15T06:28:48.813836",
     "exception": false,
     "start_time": "2024-05-15T06:28:48.762061",
     "status": "completed"
    },
    "tags": []
   },
   "outputs": [],
   "source": [
    "insulting_comment_df_0 = insulting_comment_df[insulting_comment_df['insult'] == 0].iloc[0:7877, :]"
   ]
  },
  {
   "cell_type": "code",
   "execution_count": 66,
   "id": "3bfff50a",
   "metadata": {
    "execution": {
     "iopub.execute_input": "2024-05-15T06:28:48.878626Z",
     "iopub.status.busy": "2024-05-15T06:28:48.877337Z",
     "iopub.status.idle": "2024-05-15T06:28:48.885360Z",
     "shell.execute_reply": "2024-05-15T06:28:48.884585Z"
    },
    "papermill": {
     "duration": 0.042836,
     "end_time": "2024-05-15T06:28:48.887396",
     "exception": false,
     "start_time": "2024-05-15T06:28:48.844560",
     "status": "completed"
    },
    "tags": []
   },
   "outputs": [
    {
     "data": {
      "text/plain": [
       "((7877, 3), (7877, 3), (15754, 3))"
      ]
     },
     "execution_count": 66,
     "metadata": {},
     "output_type": "execute_result"
    }
   ],
   "source": [
    "insulting_comment_balanced = pd.concat([insulting_comment_df_1, insulting_comment_df_0])\n",
    "insulting_comment_df_1.shape, insulting_comment_df_0.shape, insulting_comment_balanced.shape"
   ]
  },
  {
   "cell_type": "code",
   "execution_count": null,
   "id": "e5a03981",
   "metadata": {
    "papermill": {
     "duration": 0.030949,
     "end_time": "2024-05-15T06:28:48.949537",
     "exception": false,
     "start_time": "2024-05-15T06:28:48.918588",
     "status": "completed"
    },
    "tags": []
   },
   "outputs": [],
   "source": []
  },
  {
   "cell_type": "code",
   "execution_count": null,
   "id": "c3910032",
   "metadata": {
    "papermill": {
     "duration": 0.03107,
     "end_time": "2024-05-15T06:28:49.011671",
     "exception": false,
     "start_time": "2024-05-15T06:28:48.980601",
     "status": "completed"
    },
    "tags": []
   },
   "outputs": [],
   "source": []
  },
  {
   "cell_type": "code",
   "execution_count": 67,
   "id": "2a17b720",
   "metadata": {
    "execution": {
     "iopub.execute_input": "2024-05-15T06:28:49.076617Z",
     "iopub.status.busy": "2024-05-15T06:28:49.075857Z",
     "iopub.status.idle": "2024-05-15T06:28:49.080168Z",
     "shell.execute_reply": "2024-05-15T06:28:49.079037Z"
    },
    "papermill": {
     "duration": 0.039577,
     "end_time": "2024-05-15T06:28:49.082564",
     "exception": false,
     "start_time": "2024-05-15T06:28:49.042987",
     "status": "completed"
    },
    "tags": []
   },
   "outputs": [],
   "source": [
    "# Machine Learning"
   ]
  },
  {
   "cell_type": "code",
   "execution_count": 68,
   "id": "74d65a6b",
   "metadata": {
    "execution": {
     "iopub.execute_input": "2024-05-15T06:28:49.150103Z",
     "iopub.status.busy": "2024-05-15T06:28:49.149309Z",
     "iopub.status.idle": "2024-05-15T06:28:49.331955Z",
     "shell.execute_reply": "2024-05-15T06:28:49.330737Z"
    },
    "papermill": {
     "duration": 0.2191,
     "end_time": "2024-05-15T06:28:49.334586",
     "exception": false,
     "start_time": "2024-05-15T06:28:49.115486",
     "status": "completed"
    },
    "tags": []
   },
   "outputs": [],
   "source": [
    "from sklearn import preprocessing\n",
    "from sklearn.feature_selection import SelectFromModel\n",
    "\n",
    "from sklearn.model_selection import train_test_split, KFold, cross_val_score\n",
    "from sklearn.metrics import f1_score, precision_score, recall_score, precision_recall_curve, fbeta_score, confusion_matrix\n",
    "from sklearn.metrics import roc_auc_score, roc_curve\n",
    "\n",
    "from sklearn.linear_model import LogisticRegression\n",
    "from sklearn.neighbors import KNeighborsClassifier\n",
    "from sklearn.naive_bayes import MultinomialNB, BernoulliNB\n",
    "from sklearn.svm import LinearSVC\n",
    "from sklearn.ensemble import RandomForestClassifier\n",
    "\n",
    "from sklearn.feature_extraction.text import CountVectorizer, TfidfVectorizer\n",
    "from nltk import ngrams, bigrams, trigrams"
   ]
  },
  {
   "cell_type": "code",
   "execution_count": 69,
   "id": "f513f8ea",
   "metadata": {
    "execution": {
     "iopub.execute_input": "2024-05-15T06:28:49.398730Z",
     "iopub.status.busy": "2024-05-15T06:28:49.398317Z",
     "iopub.status.idle": "2024-05-15T06:28:49.409481Z",
     "shell.execute_reply": "2024-05-15T06:28:49.408492Z"
    },
    "papermill": {
     "duration": 0.045871,
     "end_time": "2024-05-15T06:28:49.411631",
     "exception": false,
     "start_time": "2024-05-15T06:28:49.365760",
     "status": "completed"
    },
    "tags": []
   },
   "outputs": [],
   "source": [
    "def cv_tf_train_test(dataframe, label, vectorizer, ngram):\n",
    "    # split the data into X and y datasets\n",
    "    X = dataframe.comment_text\n",
    "    y = dataframe[label]\n",
    "    \n",
    "    # Split our data into training and test data\n",
    "    X_train, X_test, y_train, y_test = train_test_split(X, y, test_size = 0.3, random_state=50)\n",
    "    \n",
    "    # Using vectorize and removing stopwords\n",
    "    cv1 = vectorizer(ngram_range=(ngram), stop_words='english')\n",
    "    \n",
    "    # transforming x-traian and x-test\n",
    "    X_train_cv1 = cv1.fit_transform(X_train)\n",
    "    X_test_cv1 = cv1.transform(X_test)\n",
    "    \n",
    "    # Machine learning models\n",
    "    \n",
    "    ## Logistic regression\n",
    "    lr = LogisticRegression()\n",
    "    lr.fit(X_train_cv1, y_train)\n",
    "    \n",
    "    ## K-nearest neightbours\n",
    "    knn = KNeighborsClassifier(n_neighbors=5)\n",
    "    knn.fit(X_train_cv1, y_train)\n",
    "    \n",
    "    ## Naive Bayes\n",
    "    bnb = BernoulliNB()\n",
    "    bnb.fit(X_train_cv1, y_train)\n",
    "    \n",
    "    ## Multinomial Naice bayes\n",
    "    mnb = MultinomialNB()\n",
    "    mnb.fit(X_train_cv1, y_train)\n",
    "    \n",
    "    # Support vector machine\n",
    "    svm_model = LinearSVC()\n",
    "    svm_model.fit(X_train_cv1, y_train)\n",
    "    \n",
    "    # Random Forest\n",
    "    randomforest = RandomForestClassifier(n_estimators=100, random_state=50)\n",
    "    randomforest.fit(X_train_cv1, y_train)\n",
    "    \n",
    "    f1_score_data = {'F1 score': [f1_score(lr.predict(X_test_cv1), y_test), f1_score(knn.predict(X_test_cv1), y_test),\n",
    "                                 f1_score(bnb.predict(X_test_cv1), y_test), f1_score(mnb.predict(X_test_cv1), y_test),\n",
    "                                 f1_score(svm_model.predict(X_test_cv1), y_test), f1_score(randomforest.predict(X_test_cv1), y_test)]}\n",
    "    \n",
    "    # Saving f1 score results into a dataframe\n",
    "    df_f1 = pd.DataFrame(f1_score_data, index=['Log Regression', 'KNN','BernoulliNB','MultinomialNB','SVM', 'Random Forest'])\n",
    "    \n",
    "    return df_f1"
   ]
  },
  {
   "cell_type": "code",
   "execution_count": 70,
   "id": "9fc71a18",
   "metadata": {
    "execution": {
     "iopub.execute_input": "2024-05-15T06:28:49.478753Z",
     "iopub.status.busy": "2024-05-15T06:28:49.478216Z",
     "iopub.status.idle": "2024-05-15T06:28:49.483210Z",
     "shell.execute_reply": "2024-05-15T06:28:49.481910Z"
    },
    "papermill": {
     "duration": 0.041576,
     "end_time": "2024-05-15T06:28:49.485528",
     "exception": false,
     "start_time": "2024-05-15T06:28:49.443952",
     "status": "completed"
    },
    "tags": []
   },
   "outputs": [],
   "source": [
    "# Evaluating model performance using evaluation metrics"
   ]
  },
  {
   "cell_type": "code",
   "execution_count": 71,
   "id": "f7540c28",
   "metadata": {
    "execution": {
     "iopub.execute_input": "2024-05-15T06:28:49.559232Z",
     "iopub.status.busy": "2024-05-15T06:28:49.558646Z",
     "iopub.status.idle": "2024-05-15T06:28:52.928085Z",
     "shell.execute_reply": "2024-05-15T06:28:52.926787Z"
    },
    "papermill": {
     "duration": 3.406034,
     "end_time": "2024-05-15T06:28:52.930800",
     "exception": false,
     "start_time": "2024-05-15T06:28:49.524766",
     "status": "completed"
    },
    "tags": []
   },
   "outputs": [],
   "source": [
    "severe_toxic_comment_cv = cv_tf_train_test(severe_comment_balanced, 'severe_toxic', TfidfVectorizer, (1,1))"
   ]
  },
  {
   "cell_type": "code",
   "execution_count": 72,
   "id": "1fd57a47",
   "metadata": {
    "execution": {
     "iopub.execute_input": "2024-05-15T06:28:52.996598Z",
     "iopub.status.busy": "2024-05-15T06:28:52.995854Z",
     "iopub.status.idle": "2024-05-15T06:28:53.006179Z",
     "shell.execute_reply": "2024-05-15T06:28:53.005102Z"
    },
    "papermill": {
     "duration": 0.045333,
     "end_time": "2024-05-15T06:28:53.008228",
     "exception": false,
     "start_time": "2024-05-15T06:28:52.962895",
     "status": "completed"
    },
    "tags": []
   },
   "outputs": [
    {
     "data": {
      "text/html": [
       "<div>\n",
       "<style scoped>\n",
       "    .dataframe tbody tr th:only-of-type {\n",
       "        vertical-align: middle;\n",
       "    }\n",
       "\n",
       "    .dataframe tbody tr th {\n",
       "        vertical-align: top;\n",
       "    }\n",
       "\n",
       "    .dataframe thead th {\n",
       "        text-align: right;\n",
       "    }\n",
       "</style>\n",
       "<table border=\"1\" class=\"dataframe\">\n",
       "  <thead>\n",
       "    <tr style=\"text-align: right;\">\n",
       "      <th></th>\n",
       "      <th>F1 score</th>\n",
       "    </tr>\n",
       "  </thead>\n",
       "  <tbody>\n",
       "    <tr>\n",
       "      <th>Log Regression</th>\n",
       "      <td>0.946004</td>\n",
       "    </tr>\n",
       "    <tr>\n",
       "      <th>KNN</th>\n",
       "      <td>0.861836</td>\n",
       "    </tr>\n",
       "    <tr>\n",
       "      <th>BernoulliNB</th>\n",
       "      <td>0.789700</td>\n",
       "    </tr>\n",
       "    <tr>\n",
       "      <th>MultinomialNB</th>\n",
       "      <td>0.930041</td>\n",
       "    </tr>\n",
       "    <tr>\n",
       "      <th>SVM</th>\n",
       "      <td>0.936763</td>\n",
       "    </tr>\n",
       "    <tr>\n",
       "      <th>Random Forest</th>\n",
       "      <td>0.923237</td>\n",
       "    </tr>\n",
       "  </tbody>\n",
       "</table>\n",
       "</div>"
      ],
      "text/plain": [
       "                F1 score\n",
       "Log Regression  0.946004\n",
       "KNN             0.861836\n",
       "BernoulliNB     0.789700\n",
       "MultinomialNB   0.930041\n",
       "SVM             0.936763\n",
       "Random Forest   0.923237"
      ]
     },
     "execution_count": 72,
     "metadata": {},
     "output_type": "execute_result"
    }
   ],
   "source": [
    "severe_toxic_comment_cv\n",
    "# LogRegression is the best estimator for severee toxic"
   ]
  },
  {
   "cell_type": "code",
   "execution_count": 73,
   "id": "6c024b4a",
   "metadata": {
    "execution": {
     "iopub.execute_input": "2024-05-15T06:28:53.073684Z",
     "iopub.status.busy": "2024-05-15T06:28:53.073278Z",
     "iopub.status.idle": "2024-05-15T06:29:34.084852Z",
     "shell.execute_reply": "2024-05-15T06:29:34.083998Z"
    },
    "papermill": {
     "duration": 41.077994,
     "end_time": "2024-05-15T06:29:34.117592",
     "exception": false,
     "start_time": "2024-05-15T06:28:53.039598",
     "status": "completed"
    },
    "tags": []
   },
   "outputs": [
    {
     "data": {
      "text/html": [
       "<div>\n",
       "<style scoped>\n",
       "    .dataframe tbody tr th:only-of-type {\n",
       "        vertical-align: middle;\n",
       "    }\n",
       "\n",
       "    .dataframe tbody tr th {\n",
       "        vertical-align: top;\n",
       "    }\n",
       "\n",
       "    .dataframe thead th {\n",
       "        text-align: right;\n",
       "    }\n",
       "</style>\n",
       "<table border=\"1\" class=\"dataframe\">\n",
       "  <thead>\n",
       "    <tr style=\"text-align: right;\">\n",
       "      <th></th>\n",
       "      <th>F1 score (Obscene)</th>\n",
       "    </tr>\n",
       "  </thead>\n",
       "  <tbody>\n",
       "    <tr>\n",
       "      <th>Log Regression</th>\n",
       "      <td>0.916327</td>\n",
       "    </tr>\n",
       "    <tr>\n",
       "      <th>KNN</th>\n",
       "      <td>0.751443</td>\n",
       "    </tr>\n",
       "    <tr>\n",
       "      <th>BernoulliNB</th>\n",
       "      <td>0.786767</td>\n",
       "    </tr>\n",
       "    <tr>\n",
       "      <th>MultinomialNB</th>\n",
       "      <td>0.898175</td>\n",
       "    </tr>\n",
       "    <tr>\n",
       "      <th>SVM</th>\n",
       "      <td>0.930924</td>\n",
       "    </tr>\n",
       "    <tr>\n",
       "      <th>Random Forest</th>\n",
       "      <td>0.908311</td>\n",
       "    </tr>\n",
       "  </tbody>\n",
       "</table>\n",
       "</div>"
      ],
      "text/plain": [
       "                F1 score (Obscene)\n",
       "Log Regression            0.916327\n",
       "KNN                       0.751443\n",
       "BernoulliNB               0.786767\n",
       "MultinomialNB             0.898175\n",
       "SVM                       0.930924\n",
       "Random Forest             0.908311"
      ]
     },
     "execution_count": 73,
     "metadata": {},
     "output_type": "execute_result"
    }
   ],
   "source": [
    "obscene_toxic_comment_cv = cv_tf_train_test(obscene_comment_balanced, 'obscene', TfidfVectorizer, (1,1))\n",
    "obscene_toxic_comment_cv.rename(columns={'F1 score':'F1 score (Obscene)'}, inplace=True) # Change column name\n",
    "obscene_toxic_comment_cv\n",
    "# LogRegression is the best estimator for obscene toxic"
   ]
  },
  {
   "cell_type": "code",
   "execution_count": 74,
   "id": "fd103bdf",
   "metadata": {
    "execution": {
     "iopub.execute_input": "2024-05-15T06:29:34.183331Z",
     "iopub.status.busy": "2024-05-15T06:29:34.182144Z",
     "iopub.status.idle": "2024-05-15T06:29:34.893150Z",
     "shell.execute_reply": "2024-05-15T06:29:34.892038Z"
    },
    "papermill": {
     "duration": 0.745683,
     "end_time": "2024-05-15T06:29:34.895348",
     "exception": false,
     "start_time": "2024-05-15T06:29:34.149665",
     "status": "completed"
    },
    "tags": []
   },
   "outputs": [
    {
     "data": {
      "text/html": [
       "<div>\n",
       "<style scoped>\n",
       "    .dataframe tbody tr th:only-of-type {\n",
       "        vertical-align: middle;\n",
       "    }\n",
       "\n",
       "    .dataframe tbody tr th {\n",
       "        vertical-align: top;\n",
       "    }\n",
       "\n",
       "    .dataframe thead th {\n",
       "        text-align: right;\n",
       "    }\n",
       "</style>\n",
       "<table border=\"1\" class=\"dataframe\">\n",
       "  <thead>\n",
       "    <tr style=\"text-align: right;\">\n",
       "      <th></th>\n",
       "      <th>F1 score (threat)</th>\n",
       "    </tr>\n",
       "  </thead>\n",
       "  <tbody>\n",
       "    <tr>\n",
       "      <th>Log Regression</th>\n",
       "      <td>0.905660</td>\n",
       "    </tr>\n",
       "    <tr>\n",
       "      <th>KNN</th>\n",
       "      <td>0.865574</td>\n",
       "    </tr>\n",
       "    <tr>\n",
       "      <th>BernoulliNB</th>\n",
       "      <td>0.751381</td>\n",
       "    </tr>\n",
       "    <tr>\n",
       "      <th>MultinomialNB</th>\n",
       "      <td>0.912281</td>\n",
       "    </tr>\n",
       "    <tr>\n",
       "      <th>SVM</th>\n",
       "      <td>0.898876</td>\n",
       "    </tr>\n",
       "    <tr>\n",
       "      <th>Random Forest</th>\n",
       "      <td>0.904594</td>\n",
       "    </tr>\n",
       "  </tbody>\n",
       "</table>\n",
       "</div>"
      ],
      "text/plain": [
       "                F1 score (threat)\n",
       "Log Regression           0.905660\n",
       "KNN                      0.865574\n",
       "BernoulliNB              0.751381\n",
       "MultinomialNB            0.912281\n",
       "SVM                      0.898876\n",
       "Random Forest            0.904594"
      ]
     },
     "execution_count": 74,
     "metadata": {},
     "output_type": "execute_result"
    }
   ],
   "source": [
    "threetening_toxic_comment_cv = cv_tf_train_test(threetening_comment_balanced, 'threat', TfidfVectorizer, (1,1))\n",
    "threetening_toxic_comment_cv.rename(columns={'F1 score':'F1 score (threat)'}, inplace=True) # Change column name\n",
    "threetening_toxic_comment_cv\n",
    "# MultinomialNB is the best estimator for threeetening comment"
   ]
  },
  {
   "cell_type": "code",
   "execution_count": 75,
   "id": "ab3e5ff1",
   "metadata": {
    "execution": {
     "iopub.execute_input": "2024-05-15T06:29:34.962625Z",
     "iopub.status.busy": "2024-05-15T06:29:34.961930Z",
     "iopub.status.idle": "2024-05-15T06:30:14.300838Z",
     "shell.execute_reply": "2024-05-15T06:30:14.299689Z"
    },
    "papermill": {
     "duration": 39.406239,
     "end_time": "2024-05-15T06:30:14.334653",
     "exception": false,
     "start_time": "2024-05-15T06:29:34.928414",
     "status": "completed"
    },
    "tags": []
   },
   "outputs": [
    {
     "data": {
      "text/html": [
       "<div>\n",
       "<style scoped>\n",
       "    .dataframe tbody tr th:only-of-type {\n",
       "        vertical-align: middle;\n",
       "    }\n",
       "\n",
       "    .dataframe tbody tr th {\n",
       "        vertical-align: top;\n",
       "    }\n",
       "\n",
       "    .dataframe thead th {\n",
       "        text-align: right;\n",
       "    }\n",
       "</style>\n",
       "<table border=\"1\" class=\"dataframe\">\n",
       "  <thead>\n",
       "    <tr style=\"text-align: right;\">\n",
       "      <th></th>\n",
       "      <th>F1 score (insult)</th>\n",
       "    </tr>\n",
       "  </thead>\n",
       "  <tbody>\n",
       "    <tr>\n",
       "      <th>Log Regression</th>\n",
       "      <td>0.905841</td>\n",
       "    </tr>\n",
       "    <tr>\n",
       "      <th>KNN</th>\n",
       "      <td>0.414705</td>\n",
       "    </tr>\n",
       "    <tr>\n",
       "      <th>BernoulliNB</th>\n",
       "      <td>0.790218</td>\n",
       "    </tr>\n",
       "    <tr>\n",
       "      <th>MultinomialNB</th>\n",
       "      <td>0.899832</td>\n",
       "    </tr>\n",
       "    <tr>\n",
       "      <th>SVM</th>\n",
       "      <td>0.908157</td>\n",
       "    </tr>\n",
       "    <tr>\n",
       "      <th>Random Forest</th>\n",
       "      <td>0.890742</td>\n",
       "    </tr>\n",
       "  </tbody>\n",
       "</table>\n",
       "</div>"
      ],
      "text/plain": [
       "                F1 score (insult)\n",
       "Log Regression           0.905841\n",
       "KNN                      0.414705\n",
       "BernoulliNB              0.790218\n",
       "MultinomialNB            0.899832\n",
       "SVM                      0.908157\n",
       "Random Forest            0.890742"
      ]
     },
     "execution_count": 75,
     "metadata": {},
     "output_type": "execute_result"
    }
   ],
   "source": [
    "insulting_toxic_comment_cv = cv_tf_train_test(insulting_comment_balanced, 'insult', TfidfVectorizer, (1,1))\n",
    "insulting_toxic_comment_cv.rename(columns={'F1 score':'F1 score (insult)'}, inplace=True) # Change column name\n",
    "insulting_toxic_comment_cv\n",
    "# SVM is the best estimator for insulting comment "
   ]
  },
  {
   "cell_type": "code",
   "execution_count": 76,
   "id": "6f030bd3",
   "metadata": {
    "execution": {
     "iopub.execute_input": "2024-05-15T06:30:14.401133Z",
     "iopub.status.busy": "2024-05-15T06:30:14.400442Z",
     "iopub.status.idle": "2024-05-15T06:30:17.042931Z",
     "shell.execute_reply": "2024-05-15T06:30:17.041778Z"
    },
    "papermill": {
     "duration": 2.678283,
     "end_time": "2024-05-15T06:30:17.045169",
     "exception": false,
     "start_time": "2024-05-15T06:30:14.366886",
     "status": "completed"
    },
    "tags": []
   },
   "outputs": [
    {
     "data": {
      "text/html": [
       "<div>\n",
       "<style scoped>\n",
       "    .dataframe tbody tr th:only-of-type {\n",
       "        vertical-align: middle;\n",
       "    }\n",
       "\n",
       "    .dataframe tbody tr th {\n",
       "        vertical-align: top;\n",
       "    }\n",
       "\n",
       "    .dataframe thead th {\n",
       "        text-align: right;\n",
       "    }\n",
       "</style>\n",
       "<table border=\"1\" class=\"dataframe\">\n",
       "  <thead>\n",
       "    <tr style=\"text-align: right;\">\n",
       "      <th></th>\n",
       "      <th>F1 score (identity_hate)</th>\n",
       "    </tr>\n",
       "  </thead>\n",
       "  <tbody>\n",
       "    <tr>\n",
       "      <th>Log Regression</th>\n",
       "      <td>0.907063</td>\n",
       "    </tr>\n",
       "    <tr>\n",
       "      <th>KNN</th>\n",
       "      <td>0.825766</td>\n",
       "    </tr>\n",
       "    <tr>\n",
       "      <th>BernoulliNB</th>\n",
       "      <td>0.774879</td>\n",
       "    </tr>\n",
       "    <tr>\n",
       "      <th>MultinomialNB</th>\n",
       "      <td>0.902238</td>\n",
       "    </tr>\n",
       "    <tr>\n",
       "      <th>SVM</th>\n",
       "      <td>0.900857</td>\n",
       "    </tr>\n",
       "    <tr>\n",
       "      <th>Random Forest</th>\n",
       "      <td>0.865604</td>\n",
       "    </tr>\n",
       "  </tbody>\n",
       "</table>\n",
       "</div>"
      ],
      "text/plain": [
       "                F1 score (identity_hate)\n",
       "Log Regression                  0.907063\n",
       "KNN                             0.825766\n",
       "BernoulliNB                     0.774879\n",
       "MultinomialNB                   0.902238\n",
       "SVM                             0.900857\n",
       "Random Forest                   0.865604"
      ]
     },
     "execution_count": 76,
     "metadata": {},
     "output_type": "execute_result"
    }
   ],
   "source": [
    "identityhate_toxic_comment_cv = cv_tf_train_test(identityhate_comment_balanced, 'identity_hate', TfidfVectorizer, (1,1))\n",
    "identityhate_toxic_comment_cv.rename(columns={'F1 score':'F1 score (identity_hate)'}, inplace=True) # Change column name\n",
    "identityhate_toxic_comment_cv\n",
    "# LogRegression is the best estimator for identity hate "
   ]
  },
  {
   "cell_type": "code",
   "execution_count": 77,
   "id": "d5efda3e",
   "metadata": {
    "execution": {
     "iopub.execute_input": "2024-05-15T06:30:17.111833Z",
     "iopub.status.busy": "2024-05-15T06:30:17.111476Z",
     "iopub.status.idle": "2024-05-15T06:30:17.122826Z",
     "shell.execute_reply": "2024-05-15T06:30:17.121850Z"
    },
    "papermill": {
     "duration": 0.047153,
     "end_time": "2024-05-15T06:30:17.124883",
     "exception": false,
     "start_time": "2024-05-15T06:30:17.077730",
     "status": "completed"
    },
    "tags": []
   },
   "outputs": [
    {
     "data": {
      "text/html": [
       "<div>\n",
       "<style scoped>\n",
       "    .dataframe tbody tr th:only-of-type {\n",
       "        vertical-align: middle;\n",
       "    }\n",
       "\n",
       "    .dataframe tbody tr th {\n",
       "        vertical-align: top;\n",
       "    }\n",
       "\n",
       "    .dataframe thead th {\n",
       "        text-align: right;\n",
       "    }\n",
       "</style>\n",
       "<table border=\"1\" class=\"dataframe\">\n",
       "  <thead>\n",
       "    <tr style=\"text-align: right;\">\n",
       "      <th></th>\n",
       "      <th>id</th>\n",
       "      <th>comment_text</th>\n",
       "      <th>toxic</th>\n",
       "    </tr>\n",
       "  </thead>\n",
       "  <tbody>\n",
       "    <tr>\n",
       "      <th>6</th>\n",
       "      <td>0002bcb3da6cb337</td>\n",
       "      <td>COCKSUCKER BEFORE YOU PISS AROUND ON MY WORK</td>\n",
       "      <td>1</td>\n",
       "    </tr>\n",
       "    <tr>\n",
       "      <th>12</th>\n",
       "      <td>0005c987bdfc9d4b</td>\n",
       "      <td>Hey... what is it..\\n@ | talk .\\nWhat is it......</td>\n",
       "      <td>1</td>\n",
       "    </tr>\n",
       "    <tr>\n",
       "      <th>16</th>\n",
       "      <td>0007e25b2121310b</td>\n",
       "      <td>Bye! \\n\\nDon't look, come or think of comming ...</td>\n",
       "      <td>1</td>\n",
       "    </tr>\n",
       "    <tr>\n",
       "      <th>42</th>\n",
       "      <td>001810bf8c45bf5f</td>\n",
       "      <td>You are gay or antisemmitian? \\n\\nArchangel WH...</td>\n",
       "      <td>1</td>\n",
       "    </tr>\n",
       "    <tr>\n",
       "      <th>43</th>\n",
       "      <td>00190820581d90ce</td>\n",
       "      <td>FUCK YOUR FILTHY MOTHER IN THE ASS, DRY!</td>\n",
       "      <td>1</td>\n",
       "    </tr>\n",
       "    <tr>\n",
       "      <th>...</th>\n",
       "      <td>...</td>\n",
       "      <td>...</td>\n",
       "      <td>...</td>\n",
       "    </tr>\n",
       "    <tr>\n",
       "      <th>5544</th>\n",
       "      <td>0ece9249484eddb9</td>\n",
       "      <td>Electronic Intifada is not an activist site! W...</td>\n",
       "      <td>0</td>\n",
       "    </tr>\n",
       "    <tr>\n",
       "      <th>5545</th>\n",
       "      <td>0ece971b58a3def7</td>\n",
       "      <td>New Genre \\n\\nThe New genre supernatural was u...</td>\n",
       "      <td>0</td>\n",
       "    </tr>\n",
       "    <tr>\n",
       "      <th>5547</th>\n",
       "      <td>0ecf7cde3391615b</td>\n",
       "      <td>— translated as The Second Vatican Council: A ...</td>\n",
       "      <td>0</td>\n",
       "    </tr>\n",
       "    <tr>\n",
       "      <th>5549</th>\n",
       "      <td>0ed11396420e8531</td>\n",
       "      <td>Purpose\\nThis RfC will be used to determine co...</td>\n",
       "      <td>0</td>\n",
       "    </tr>\n",
       "    <tr>\n",
       "      <th>5550</th>\n",
       "      <td>0ed1f43ff87d1a97</td>\n",
       "      <td>\"\\nOne need not be a graduate to be an alumnus...</td>\n",
       "      <td>0</td>\n",
       "    </tr>\n",
       "  </tbody>\n",
       "</table>\n",
       "<p>10000 rows × 3 columns</p>\n",
       "</div>"
      ],
      "text/plain": [
       "                    id                                       comment_text  \\\n",
       "6     0002bcb3da6cb337       COCKSUCKER BEFORE YOU PISS AROUND ON MY WORK   \n",
       "12    0005c987bdfc9d4b  Hey... what is it..\\n@ | talk .\\nWhat is it......   \n",
       "16    0007e25b2121310b  Bye! \\n\\nDon't look, come or think of comming ...   \n",
       "42    001810bf8c45bf5f  You are gay or antisemmitian? \\n\\nArchangel WH...   \n",
       "43    00190820581d90ce           FUCK YOUR FILTHY MOTHER IN THE ASS, DRY!   \n",
       "...                ...                                                ...   \n",
       "5544  0ece9249484eddb9  Electronic Intifada is not an activist site! W...   \n",
       "5545  0ece971b58a3def7  New Genre \\n\\nThe New genre supernatural was u...   \n",
       "5547  0ecf7cde3391615b  — translated as The Second Vatican Council: A ...   \n",
       "5549  0ed11396420e8531  Purpose\\nThis RfC will be used to determine co...   \n",
       "5550  0ed1f43ff87d1a97  \"\\nOne need not be a graduate to be an alumnus...   \n",
       "\n",
       "      toxic  \n",
       "6         1  \n",
       "12        1  \n",
       "16        1  \n",
       "42        1  \n",
       "43        1  \n",
       "...     ...  \n",
       "5544      0  \n",
       "5545      0  \n",
       "5547      0  \n",
       "5549      0  \n",
       "5550      0  \n",
       "\n",
       "[10000 rows x 3 columns]"
      ]
     },
     "execution_count": 77,
     "metadata": {},
     "output_type": "execute_result"
    }
   ],
   "source": [
    "toxic_comment_balanced"
   ]
  },
  {
   "cell_type": "code",
   "execution_count": 78,
   "id": "eaef380d",
   "metadata": {
    "execution": {
     "iopub.execute_input": "2024-05-15T06:30:17.192253Z",
     "iopub.status.busy": "2024-05-15T06:30:17.191219Z",
     "iopub.status.idle": "2024-05-15T06:30:29.041298Z",
     "shell.execute_reply": "2024-05-15T06:30:29.040136Z"
    },
    "papermill": {
     "duration": 11.887245,
     "end_time": "2024-05-15T06:30:29.044073",
     "exception": false,
     "start_time": "2024-05-15T06:30:17.156828",
     "status": "completed"
    },
    "tags": []
   },
   "outputs": [
    {
     "data": {
      "text/plain": [
       "array([0, 1, 1, ..., 1, 0, 1])"
      ]
     },
     "execution_count": 78,
     "metadata": {},
     "output_type": "execute_result"
    }
   ],
   "source": [
    "X = toxic_comment_balanced.comment_text\n",
    "y = toxic_comment_balanced['toxic']\n",
    "\n",
    "X_train, X_test, y_train, y_test = train_test_split(X, y, test_size=0.3, random_state=42)\n",
    "\n",
    "tfv = TfidfVectorizer(ngram_range=(1,1), stop_words=['english'] )\n",
    "\n",
    "X_train_fit = tfv.fit_transform(X_train)\n",
    "X_test_fit = tfv.transform(X_test)\n",
    "\n",
    "randomforest = RandomForestClassifier(n_estimators=100, random_state=50)\n",
    "\n",
    "randomforest.fit(X_train_fit, y_train)\n",
    "randomforest.predict(X_test_fit)"
   ]
  },
  {
   "cell_type": "code",
   "execution_count": 79,
   "id": "cb5169d8",
   "metadata": {
    "execution": {
     "iopub.execute_input": "2024-05-15T06:30:29.111522Z",
     "iopub.status.busy": "2024-05-15T06:30:29.110532Z",
     "iopub.status.idle": "2024-05-15T06:30:29.115269Z",
     "shell.execute_reply": "2024-05-15T06:30:29.114439Z"
    },
    "papermill": {
     "duration": 0.040826,
     "end_time": "2024-05-15T06:30:29.117394",
     "exception": false,
     "start_time": "2024-05-15T06:30:29.076568",
     "status": "completed"
    },
    "tags": []
   },
   "outputs": [],
   "source": [
    "# Testing the model to check if the given text is toxic or not"
   ]
  },
  {
   "cell_type": "code",
   "execution_count": 80,
   "id": "3b8abd9f",
   "metadata": {
    "execution": {
     "iopub.execute_input": "2024-05-15T06:30:29.185398Z",
     "iopub.status.busy": "2024-05-15T06:30:29.185022Z",
     "iopub.status.idle": "2024-05-15T06:30:29.202024Z",
     "shell.execute_reply": "2024-05-15T06:30:29.200906Z"
    },
    "papermill": {
     "duration": 0.053625,
     "end_time": "2024-05-15T06:30:29.204445",
     "exception": false,
     "start_time": "2024-05-15T06:30:29.150820",
     "status": "completed"
    },
    "tags": []
   },
   "outputs": [
    {
     "data": {
      "text/plain": [
       "array([[0.42, 0.58]])"
      ]
     },
     "execution_count": 80,
     "metadata": {},
     "output_type": "execute_result"
    }
   ],
   "source": [
    "comment_1 = ['i killed an insect and ate it']\n",
    "comment_1_vec = tfv.transform(comment_1)\n",
    "randomforest.predict_proba(comment_1_vec)\n",
    "# As seen below the above comment as 58% toxic"
   ]
  },
  {
   "cell_type": "code",
   "execution_count": 81,
   "id": "187591ef",
   "metadata": {
    "execution": {
     "iopub.execute_input": "2024-05-15T06:30:29.273014Z",
     "iopub.status.busy": "2024-05-15T06:30:29.272307Z",
     "iopub.status.idle": "2024-05-15T06:30:29.287778Z",
     "shell.execute_reply": "2024-05-15T06:30:29.286682Z"
    },
    "papermill": {
     "duration": 0.052689,
     "end_time": "2024-05-15T06:30:29.290176",
     "exception": false,
     "start_time": "2024-05-15T06:30:29.237487",
     "status": "completed"
    },
    "tags": []
   },
   "outputs": [
    {
     "data": {
      "text/plain": [
       "array([[0.58, 0.42]])"
      ]
     },
     "execution_count": 81,
     "metadata": {},
     "output_type": "execute_result"
    }
   ],
   "source": [
    "comment_2 = ['iis this sentence a good one']\n",
    "comment_2_vec = tfv.transform(comment_2)\n",
    "randomforest.predict_proba(comment_2_vec)\n",
    "# As seen below the above comment as 58% not toxic"
   ]
  },
  {
   "cell_type": "code",
   "execution_count": 82,
   "id": "7cef67b3",
   "metadata": {
    "execution": {
     "iopub.execute_input": "2024-05-15T06:30:29.359756Z",
     "iopub.status.busy": "2024-05-15T06:30:29.359329Z",
     "iopub.status.idle": "2024-05-15T06:30:29.375725Z",
     "shell.execute_reply": "2024-05-15T06:30:29.374623Z"
    },
    "papermill": {
     "duration": 0.053897,
     "end_time": "2024-05-15T06:30:29.378105",
     "exception": false,
     "start_time": "2024-05-15T06:30:29.324208",
     "status": "completed"
    },
    "tags": []
   },
   "outputs": [
    {
     "data": {
      "text/plain": [
       "array([[0.31, 0.69]])"
      ]
     },
     "execution_count": 82,
     "metadata": {},
     "output_type": "execute_result"
    }
   ],
   "source": [
    "comment_3 = ['truth will prevail']\n",
    "comment_3_vec = tfv.transform(comment_3)\n",
    "randomforest.predict_proba(comment_3_vec)\n",
    "# As seen below the above comment as 69% toxic"
   ]
  },
  {
   "cell_type": "markdown",
   "id": "99ad0a45",
   "metadata": {
    "papermill": {
     "duration": 0.033087,
     "end_time": "2024-05-15T06:30:29.444698",
     "exception": false,
     "start_time": "2024-05-15T06:30:29.411611",
     "status": "completed"
    },
    "tags": []
   },
   "source": [
    "Kesimpulan : \n",
    "*     LogRegression is the best estimator for severee toxic\n",
    "*     LogRegression is the best estimator for obscene toxic\n",
    "*     MultinomialNB is the best estimator for threeetening comment\n",
    "*     SVM is the best estimator for insulting comment\n",
    "*     LogRegression is the best estimator for identity hate "
   ]
  },
  {
   "cell_type": "code",
   "execution_count": null,
   "id": "690bdce9",
   "metadata": {
    "papermill": {
     "duration": 0.035359,
     "end_time": "2024-05-15T06:30:29.513263",
     "exception": false,
     "start_time": "2024-05-15T06:30:29.477904",
     "status": "completed"
    },
    "tags": []
   },
   "outputs": [],
   "source": []
  },
  {
   "cell_type": "code",
   "execution_count": null,
   "id": "068ae0a9",
   "metadata": {
    "papermill": {
     "duration": 0.03257,
     "end_time": "2024-05-15T06:30:29.580343",
     "exception": false,
     "start_time": "2024-05-15T06:30:29.547773",
     "status": "completed"
    },
    "tags": []
   },
   "outputs": [],
   "source": []
  },
  {
   "cell_type": "code",
   "execution_count": null,
   "id": "fb4db1cd",
   "metadata": {
    "papermill": {
     "duration": 0.036966,
     "end_time": "2024-05-15T06:30:29.650124",
     "exception": false,
     "start_time": "2024-05-15T06:30:29.613158",
     "status": "completed"
    },
    "tags": []
   },
   "outputs": [],
   "source": []
  }
 ],
 "metadata": {
  "kaggle": {
   "accelerator": "none",
   "dataSources": [
    {
     "datasetId": 4921672,
     "sourceId": 8286408,
     "sourceType": "datasetVersion"
    }
   ],
   "dockerImageVersionId": 30698,
   "isGpuEnabled": false,
   "isInternetEnabled": false,
   "language": "python",
   "sourceType": "notebook"
  },
  "kernelspec": {
   "display_name": "Python 3",
   "language": "python",
   "name": "python3"
  },
  "language_info": {
   "codemirror_mode": {
    "name": "ipython",
    "version": 3
   },
   "file_extension": ".py",
   "mimetype": "text/x-python",
   "name": "python",
   "nbconvert_exporter": "python",
   "pygments_lexer": "ipython3",
   "version": "3.10.13"
  },
  "papermill": {
   "default_parameters": {},
   "duration": 280.52002,
   "end_time": "2024-05-15T06:30:30.513414",
   "environment_variables": {},
   "exception": null,
   "input_path": "__notebook__.ipynb",
   "output_path": "__notebook__.ipynb",
   "parameters": {},
   "start_time": "2024-05-15T06:25:49.993394",
   "version": "2.5.0"
  }
 },
 "nbformat": 4,
 "nbformat_minor": 5
}
