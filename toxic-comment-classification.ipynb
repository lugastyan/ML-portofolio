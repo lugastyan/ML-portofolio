{
 "cells": [
  {
   "cell_type": "code",
   "execution_count": 1,
   "id": "fe3b78fd",
   "metadata": {
    "_cell_guid": "b1076dfc-b9ad-4769-8c92-a6c4dae69d19",
    "_uuid": "8f2839f25d086af736a60e9eeb907d3b93b6e0e5",
    "execution": {
     "iopub.execute_input": "2024-05-15T06:16:15.369188Z",
     "iopub.status.busy": "2024-05-15T06:16:15.368431Z",
     "iopub.status.idle": "2024-05-15T06:16:17.819322Z",
     "shell.execute_reply": "2024-05-15T06:16:17.818106Z"
    },
    "papermill": {
     "duration": 2.477455,
     "end_time": "2024-05-15T06:16:17.822185",
     "exception": false,
     "start_time": "2024-05-15T06:16:15.344730",
     "status": "completed"
    },
    "tags": []
   },
   "outputs": [],
   "source": [
    "# Import Libraries\n",
    "import pandas as pd\n",
    "import numpy as np\n",
    "import seaborn as sns\n",
    "import matplotlib.pyplot as plt\n",
    "import warnings\n",
    "warnings.filterwarnings('ignore')"
   ]
  },
  {
   "cell_type": "code",
   "execution_count": null,
   "id": "79550a3c",
   "metadata": {
    "papermill": {
     "duration": 0.018188,
     "end_time": "2024-05-15T06:16:17.860751",
     "exception": false,
     "start_time": "2024-05-15T06:16:17.842563",
     "status": "completed"
    },
    "tags": []
   },
   "outputs": [],
   "source": []
  },
  {
   "cell_type": "code",
   "execution_count": 2,
   "id": "8be20f36",
   "metadata": {
    "execution": {
     "iopub.execute_input": "2024-05-15T06:16:17.899576Z",
     "iopub.status.busy": "2024-05-15T06:16:17.899003Z",
     "iopub.status.idle": "2024-05-15T06:18:47.931159Z",
     "shell.execute_reply": "2024-05-15T06:18:47.929708Z"
    },
    "papermill": {
     "duration": 150.054091,
     "end_time": "2024-05-15T06:18:47.933695",
     "exception": false,
     "start_time": "2024-05-15T06:16:17.879604",
     "status": "completed"
    },
    "tags": []
   },
   "outputs": [
    {
     "name": "stdout",
     "output_type": "stream",
     "text": [
      "\u001b[33mWARNING: Retrying (Retry(total=4, connect=None, read=None, redirect=None, status=None)) after connection broken by 'NewConnectionError('<pip._vendor.urllib3.connection.HTTPSConnection object at 0x7a41e19b40d0>: Failed to establish a new connection: [Errno -3] Temporary failure in name resolution')': /simple/contractions/\u001b[0m\u001b[33m\r\n",
      "\u001b[0m\u001b[33mWARNING: Retrying (Retry(total=3, connect=None, read=None, redirect=None, status=None)) after connection broken by 'NewConnectionError('<pip._vendor.urllib3.connection.HTTPSConnection object at 0x7a41e19b43d0>: Failed to establish a new connection: [Errno -3] Temporary failure in name resolution')': /simple/contractions/\u001b[0m\u001b[33m\r\n",
      "\u001b[0m\u001b[33mWARNING: Retrying (Retry(total=2, connect=None, read=None, redirect=None, status=None)) after connection broken by 'NewConnectionError('<pip._vendor.urllib3.connection.HTTPSConnection object at 0x7a41e19b4670>: Failed to establish a new connection: [Errno -3] Temporary failure in name resolution')': /simple/contractions/\u001b[0m\u001b[33m\r\n",
      "\u001b[0m\u001b[33mWARNING: Retrying (Retry(total=1, connect=None, read=None, redirect=None, status=None)) after connection broken by 'NewConnectionError('<pip._vendor.urllib3.connection.HTTPSConnection object at 0x7a41e19b4820>: Failed to establish a new connection: [Errno -3] Temporary failure in name resolution')': /simple/contractions/\u001b[0m\u001b[33m\r\n",
      "\u001b[0m\u001b[33mWARNING: Retrying (Retry(total=0, connect=None, read=None, redirect=None, status=None)) after connection broken by 'NewConnectionError('<pip._vendor.urllib3.connection.HTTPSConnection object at 0x7a41e19b49d0>: Failed to establish a new connection: [Errno -3] Temporary failure in name resolution')': /simple/contractions/\u001b[0m\u001b[33m\r\n",
      "\u001b[0m\u001b[31mERROR: Could not find a version that satisfies the requirement contractions (from versions: none)\u001b[0m\u001b[31m\r\n",
      "\u001b[0m\u001b[31mERROR: No matching distribution found for contractions\u001b[0m\u001b[31m\r\n",
      "\u001b[0mNote: you may need to restart the kernel to use updated packages.\n"
     ]
    }
   ],
   "source": [
    "pip install contractions"
   ]
  },
  {
   "cell_type": "code",
   "execution_count": 3,
   "id": "bd64184d",
   "metadata": {
    "execution": {
     "iopub.execute_input": "2024-05-15T06:18:47.974660Z",
     "iopub.status.busy": "2024-05-15T06:18:47.973977Z",
     "iopub.status.idle": "2024-05-15T06:18:48.988595Z",
     "shell.execute_reply": "2024-05-15T06:18:48.987454Z"
    },
    "papermill": {
     "duration": 1.038671,
     "end_time": "2024-05-15T06:18:48.991233",
     "exception": false,
     "start_time": "2024-05-15T06:18:47.952562",
     "status": "completed"
    },
    "tags": []
   },
   "outputs": [],
   "source": [
    "import re\n",
    "import nltk\n",
    "import string\n",
    "\n",
    "from nltk.corpus import stopwords\n",
    "from nltk.stem import WordNetLemmatizer\n",
    "from nltk.tokenize import word_tokenize, sent_tokenize\n",
    "from nltk.stem import PorterStemmer, LancasterStemmer, SnowballStemmer\n"
   ]
  },
  {
   "cell_type": "code",
   "execution_count": 4,
   "id": "da26e078",
   "metadata": {
    "execution": {
     "iopub.execute_input": "2024-05-15T06:18:49.030288Z",
     "iopub.status.busy": "2024-05-15T06:18:49.029898Z",
     "iopub.status.idle": "2024-05-15T06:18:50.938297Z",
     "shell.execute_reply": "2024-05-15T06:18:50.937154Z"
    },
    "papermill": {
     "duration": 1.931068,
     "end_time": "2024-05-15T06:18:50.941056",
     "exception": false,
     "start_time": "2024-05-15T06:18:49.009988",
     "status": "completed"
    },
    "tags": []
   },
   "outputs": [],
   "source": [
    "df = pd.read_csv('/kaggle/input/toxiccommment/train.csv')"
   ]
  },
  {
   "cell_type": "raw",
   "id": "ce3c34af",
   "metadata": {
    "papermill": {
     "duration": 0.021855,
     "end_time": "2024-05-15T06:18:50.981473",
     "exception": false,
     "start_time": "2024-05-15T06:18:50.959618",
     "status": "completed"
    },
    "tags": []
   },
   "source": [
    "df.head()"
   ]
  },
  {
   "cell_type": "code",
   "execution_count": 5,
   "id": "e9bd4428",
   "metadata": {
    "execution": {
     "iopub.execute_input": "2024-05-15T06:18:51.022797Z",
     "iopub.status.busy": "2024-05-15T06:18:51.022386Z",
     "iopub.status.idle": "2024-05-15T06:18:51.047891Z",
     "shell.execute_reply": "2024-05-15T06:18:51.046705Z"
    },
    "papermill": {
     "duration": 0.048817,
     "end_time": "2024-05-15T06:18:51.050542",
     "exception": false,
     "start_time": "2024-05-15T06:18:51.001725",
     "status": "completed"
    },
    "tags": []
   },
   "outputs": [
    {
     "data": {
      "text/html": [
       "<div>\n",
       "<style scoped>\n",
       "    .dataframe tbody tr th:only-of-type {\n",
       "        vertical-align: middle;\n",
       "    }\n",
       "\n",
       "    .dataframe tbody tr th {\n",
       "        vertical-align: top;\n",
       "    }\n",
       "\n",
       "    .dataframe thead th {\n",
       "        text-align: right;\n",
       "    }\n",
       "</style>\n",
       "<table border=\"1\" class=\"dataframe\">\n",
       "  <thead>\n",
       "    <tr style=\"text-align: right;\">\n",
       "      <th></th>\n",
       "      <th>id</th>\n",
       "      <th>comment_text</th>\n",
       "      <th>toxic</th>\n",
       "      <th>severe_toxic</th>\n",
       "      <th>obscene</th>\n",
       "      <th>threat</th>\n",
       "      <th>insult</th>\n",
       "      <th>identity_hate</th>\n",
       "    </tr>\n",
       "  </thead>\n",
       "  <tbody>\n",
       "    <tr>\n",
       "      <th>0</th>\n",
       "      <td>0000997932d777bf</td>\n",
       "      <td>Explanation\\nWhy the edits made under my usern...</td>\n",
       "      <td>0</td>\n",
       "      <td>0</td>\n",
       "      <td>0</td>\n",
       "      <td>0</td>\n",
       "      <td>0</td>\n",
       "      <td>0</td>\n",
       "    </tr>\n",
       "    <tr>\n",
       "      <th>1</th>\n",
       "      <td>000103f0d9cfb60f</td>\n",
       "      <td>D'aww! He matches this background colour I'm s...</td>\n",
       "      <td>0</td>\n",
       "      <td>0</td>\n",
       "      <td>0</td>\n",
       "      <td>0</td>\n",
       "      <td>0</td>\n",
       "      <td>0</td>\n",
       "    </tr>\n",
       "    <tr>\n",
       "      <th>2</th>\n",
       "      <td>000113f07ec002fd</td>\n",
       "      <td>Hey man, I'm really not trying to edit war. It...</td>\n",
       "      <td>0</td>\n",
       "      <td>0</td>\n",
       "      <td>0</td>\n",
       "      <td>0</td>\n",
       "      <td>0</td>\n",
       "      <td>0</td>\n",
       "    </tr>\n",
       "    <tr>\n",
       "      <th>3</th>\n",
       "      <td>0001b41b1c6bb37e</td>\n",
       "      <td>\"\\nMore\\nI can't make any real suggestions on ...</td>\n",
       "      <td>0</td>\n",
       "      <td>0</td>\n",
       "      <td>0</td>\n",
       "      <td>0</td>\n",
       "      <td>0</td>\n",
       "      <td>0</td>\n",
       "    </tr>\n",
       "    <tr>\n",
       "      <th>4</th>\n",
       "      <td>0001d958c54c6e35</td>\n",
       "      <td>You, sir, are my hero. Any chance you remember...</td>\n",
       "      <td>0</td>\n",
       "      <td>0</td>\n",
       "      <td>0</td>\n",
       "      <td>0</td>\n",
       "      <td>0</td>\n",
       "      <td>0</td>\n",
       "    </tr>\n",
       "  </tbody>\n",
       "</table>\n",
       "</div>"
      ],
      "text/plain": [
       "                 id                                       comment_text  toxic  \\\n",
       "0  0000997932d777bf  Explanation\\nWhy the edits made under my usern...      0   \n",
       "1  000103f0d9cfb60f  D'aww! He matches this background colour I'm s...      0   \n",
       "2  000113f07ec002fd  Hey man, I'm really not trying to edit war. It...      0   \n",
       "3  0001b41b1c6bb37e  \"\\nMore\\nI can't make any real suggestions on ...      0   \n",
       "4  0001d958c54c6e35  You, sir, are my hero. Any chance you remember...      0   \n",
       "\n",
       "   severe_toxic  obscene  threat  insult  identity_hate  \n",
       "0             0        0       0       0              0  \n",
       "1             0        0       0       0              0  \n",
       "2             0        0       0       0              0  \n",
       "3             0        0       0       0              0  \n",
       "4             0        0       0       0              0  "
      ]
     },
     "execution_count": 5,
     "metadata": {},
     "output_type": "execute_result"
    }
   ],
   "source": [
    "df.head()"
   ]
  },
  {
   "cell_type": "code",
   "execution_count": 6,
   "id": "accebbd3",
   "metadata": {
    "execution": {
     "iopub.execute_input": "2024-05-15T06:18:51.090603Z",
     "iopub.status.busy": "2024-05-15T06:18:51.090188Z",
     "iopub.status.idle": "2024-05-15T06:18:51.146541Z",
     "shell.execute_reply": "2024-05-15T06:18:51.145157Z"
    },
    "papermill": {
     "duration": 0.079302,
     "end_time": "2024-05-15T06:18:51.149099",
     "exception": false,
     "start_time": "2024-05-15T06:18:51.069797",
     "status": "completed"
    },
    "tags": []
   },
   "outputs": [
    {
     "name": "stdout",
     "output_type": "stream",
     "text": [
      "<class 'pandas.core.frame.DataFrame'>\n",
      "RangeIndex: 159571 entries, 0 to 159570\n",
      "Data columns (total 8 columns):\n",
      " #   Column         Non-Null Count   Dtype \n",
      "---  ------         --------------   ----- \n",
      " 0   id             159571 non-null  object\n",
      " 1   comment_text   159571 non-null  object\n",
      " 2   toxic          159571 non-null  int64 \n",
      " 3   severe_toxic   159571 non-null  int64 \n",
      " 4   obscene        159571 non-null  int64 \n",
      " 5   threat         159571 non-null  int64 \n",
      " 6   insult         159571 non-null  int64 \n",
      " 7   identity_hate  159571 non-null  int64 \n",
      "dtypes: int64(6), object(2)\n",
      "memory usage: 9.7+ MB\n"
     ]
    }
   ],
   "source": [
    "df.info()"
   ]
  },
  {
   "cell_type": "code",
   "execution_count": 7,
   "id": "cf9e889b",
   "metadata": {
    "execution": {
     "iopub.execute_input": "2024-05-15T06:18:51.189645Z",
     "iopub.status.busy": "2024-05-15T06:18:51.188508Z",
     "iopub.status.idle": "2024-05-15T06:18:51.226100Z",
     "shell.execute_reply": "2024-05-15T06:18:51.224800Z"
    },
    "papermill": {
     "duration": 0.060249,
     "end_time": "2024-05-15T06:18:51.228374",
     "exception": false,
     "start_time": "2024-05-15T06:18:51.168125",
     "status": "completed"
    },
    "tags": []
   },
   "outputs": [
    {
     "data": {
      "text/plain": [
       "id               0\n",
       "comment_text     0\n",
       "toxic            0\n",
       "severe_toxic     0\n",
       "obscene          0\n",
       "threat           0\n",
       "insult           0\n",
       "identity_hate    0\n",
       "dtype: int64"
      ]
     },
     "execution_count": 7,
     "metadata": {},
     "output_type": "execute_result"
    }
   ],
   "source": [
    "df.isnull().sum()"
   ]
  },
  {
   "cell_type": "code",
   "execution_count": 8,
   "id": "3dde5d56",
   "metadata": {
    "execution": {
     "iopub.execute_input": "2024-05-15T06:18:51.333533Z",
     "iopub.status.busy": "2024-05-15T06:18:51.332404Z",
     "iopub.status.idle": "2024-05-15T06:18:51.349008Z",
     "shell.execute_reply": "2024-05-15T06:18:51.348196Z"
    },
    "papermill": {
     "duration": 0.039115,
     "end_time": "2024-05-15T06:18:51.351071",
     "exception": false,
     "start_time": "2024-05-15T06:18:51.311956",
     "status": "completed"
    },
    "tags": []
   },
   "outputs": [
    {
     "data": {
      "text/plain": [
       "(array([0, 1]),\n",
       " array([0, 1]),\n",
       " array([0, 1]),\n",
       " array([0, 1]),\n",
       " array([0, 1]),\n",
       " array([0, 1]))"
      ]
     },
     "execution_count": 8,
     "metadata": {},
     "output_type": "execute_result"
    }
   ],
   "source": [
    "df['toxic'].unique(), df['severe_toxic'].unique(),df['obscene'].unique(), df['threat'].unique(), df['insult'].unique(), df['identity_hate'].unique(), "
   ]
  },
  {
   "cell_type": "code",
   "execution_count": 9,
   "id": "98fc5b64",
   "metadata": {
    "execution": {
     "iopub.execute_input": "2024-05-15T06:18:51.392681Z",
     "iopub.status.busy": "2024-05-15T06:18:51.391812Z",
     "iopub.status.idle": "2024-05-15T06:18:51.401975Z",
     "shell.execute_reply": "2024-05-15T06:18:51.401047Z"
    },
    "papermill": {
     "duration": 0.033412,
     "end_time": "2024-05-15T06:18:51.404283",
     "exception": false,
     "start_time": "2024-05-15T06:18:51.370871",
     "status": "completed"
    },
    "tags": []
   },
   "outputs": [
    {
     "data": {
      "text/plain": [
       "toxic\n",
       "0    144277\n",
       "1     15294\n",
       "Name: count, dtype: int64"
      ]
     },
     "execution_count": 9,
     "metadata": {},
     "output_type": "execute_result"
    }
   ],
   "source": [
    "df['toxic'].value_counts()"
   ]
  },
  {
   "cell_type": "code",
   "execution_count": 10,
   "id": "f30c3b98",
   "metadata": {
    "execution": {
     "iopub.execute_input": "2024-05-15T06:18:51.445534Z",
     "iopub.status.busy": "2024-05-15T06:18:51.444894Z",
     "iopub.status.idle": "2024-05-15T06:18:51.453861Z",
     "shell.execute_reply": "2024-05-15T06:18:51.452800Z"
    },
    "papermill": {
     "duration": 0.032482,
     "end_time": "2024-05-15T06:18:51.456377",
     "exception": false,
     "start_time": "2024-05-15T06:18:51.423895",
     "status": "completed"
    },
    "tags": []
   },
   "outputs": [
    {
     "data": {
      "text/plain": [
       "severe_toxic\n",
       "0    157976\n",
       "1      1595\n",
       "Name: count, dtype: int64"
      ]
     },
     "execution_count": 10,
     "metadata": {},
     "output_type": "execute_result"
    }
   ],
   "source": [
    "df['severe_toxic'].value_counts()"
   ]
  },
  {
   "cell_type": "code",
   "execution_count": 11,
   "id": "75d2bc16",
   "metadata": {
    "execution": {
     "iopub.execute_input": "2024-05-15T06:18:51.498580Z",
     "iopub.status.busy": "2024-05-15T06:18:51.498135Z",
     "iopub.status.idle": "2024-05-15T06:18:51.508283Z",
     "shell.execute_reply": "2024-05-15T06:18:51.507040Z"
    },
    "papermill": {
     "duration": 0.034355,
     "end_time": "2024-05-15T06:18:51.510602",
     "exception": false,
     "start_time": "2024-05-15T06:18:51.476247",
     "status": "completed"
    },
    "tags": []
   },
   "outputs": [
    {
     "data": {
      "text/plain": [
       "obscene\n",
       "0    151122\n",
       "1      8449\n",
       "Name: count, dtype: int64"
      ]
     },
     "execution_count": 11,
     "metadata": {},
     "output_type": "execute_result"
    }
   ],
   "source": [
    "df['obscene'].value_counts()"
   ]
  },
  {
   "cell_type": "code",
   "execution_count": 12,
   "id": "dd2ddec9",
   "metadata": {
    "execution": {
     "iopub.execute_input": "2024-05-15T06:18:51.555303Z",
     "iopub.status.busy": "2024-05-15T06:18:51.554224Z",
     "iopub.status.idle": "2024-05-15T06:18:51.564249Z",
     "shell.execute_reply": "2024-05-15T06:18:51.563114Z"
    },
    "papermill": {
     "duration": 0.035147,
     "end_time": "2024-05-15T06:18:51.566646",
     "exception": false,
     "start_time": "2024-05-15T06:18:51.531499",
     "status": "completed"
    },
    "tags": []
   },
   "outputs": [
    {
     "data": {
      "text/plain": [
       "threat\n",
       "0    159093\n",
       "1       478\n",
       "Name: count, dtype: int64"
      ]
     },
     "execution_count": 12,
     "metadata": {},
     "output_type": "execute_result"
    }
   ],
   "source": [
    "df['threat'].value_counts()"
   ]
  },
  {
   "cell_type": "code",
   "execution_count": 13,
   "id": "51027d83",
   "metadata": {
    "execution": {
     "iopub.execute_input": "2024-05-15T06:18:51.609797Z",
     "iopub.status.busy": "2024-05-15T06:18:51.609139Z",
     "iopub.status.idle": "2024-05-15T06:18:51.623242Z",
     "shell.execute_reply": "2024-05-15T06:18:51.622106Z"
    },
    "papermill": {
     "duration": 0.038811,
     "end_time": "2024-05-15T06:18:51.625915",
     "exception": false,
     "start_time": "2024-05-15T06:18:51.587104",
     "status": "completed"
    },
    "tags": []
   },
   "outputs": [
    {
     "data": {
      "text/plain": [
       "(insult\n",
       " 0    151694\n",
       " 1      7877\n",
       " Name: count, dtype: int64,\n",
       " identity_hate\n",
       " 0    158166\n",
       " 1      1405\n",
       " Name: count, dtype: int64)"
      ]
     },
     "execution_count": 13,
     "metadata": {},
     "output_type": "execute_result"
    }
   ],
   "source": [
    "df['insult'].value_counts(), df['identity_hate'].value_counts()"
   ]
  },
  {
   "cell_type": "code",
   "execution_count": 14,
   "id": "1237dc5a",
   "metadata": {
    "execution": {
     "iopub.execute_input": "2024-05-15T06:18:51.670857Z",
     "iopub.status.busy": "2024-05-15T06:18:51.669730Z",
     "iopub.status.idle": "2024-05-15T06:18:51.675268Z",
     "shell.execute_reply": "2024-05-15T06:18:51.674137Z"
    },
    "papermill": {
     "duration": 0.030397,
     "end_time": "2024-05-15T06:18:51.677584",
     "exception": false,
     "start_time": "2024-05-15T06:18:51.647187",
     "status": "completed"
    },
    "tags": []
   },
   "outputs": [],
   "source": [
    "#Data Visualization"
   ]
  },
  {
   "cell_type": "code",
   "execution_count": 15,
   "id": "45d666a5",
   "metadata": {
    "execution": {
     "iopub.execute_input": "2024-05-15T06:18:51.719564Z",
     "iopub.status.busy": "2024-05-15T06:18:51.719154Z",
     "iopub.status.idle": "2024-05-15T06:18:51.728125Z",
     "shell.execute_reply": "2024-05-15T06:18:51.726950Z"
    },
    "papermill": {
     "duration": 0.03272,
     "end_time": "2024-05-15T06:18:51.730616",
     "exception": false,
     "start_time": "2024-05-15T06:18:51.697896",
     "status": "completed"
    },
    "tags": []
   },
   "outputs": [],
   "source": [
    "sentencetype_graph = df.iloc[:,2:].sum()"
   ]
  },
  {
   "cell_type": "code",
   "execution_count": 16,
   "id": "e14d1815",
   "metadata": {
    "execution": {
     "iopub.execute_input": "2024-05-15T06:18:51.774847Z",
     "iopub.status.busy": "2024-05-15T06:18:51.774457Z",
     "iopub.status.idle": "2024-05-15T06:18:51.783029Z",
     "shell.execute_reply": "2024-05-15T06:18:51.781579Z"
    },
    "papermill": {
     "duration": 0.034704,
     "end_time": "2024-05-15T06:18:51.785264",
     "exception": false,
     "start_time": "2024-05-15T06:18:51.750560",
     "status": "completed"
    },
    "tags": []
   },
   "outputs": [
    {
     "data": {
      "text/plain": [
       "toxic            15294\n",
       "severe_toxic      1595\n",
       "obscene           8449\n",
       "threat             478\n",
       "insult            7877\n",
       "identity_hate     1405\n",
       "dtype: int64"
      ]
     },
     "execution_count": 16,
     "metadata": {},
     "output_type": "execute_result"
    }
   ],
   "source": [
    "sentencetype_graph"
   ]
  },
  {
   "cell_type": "code",
   "execution_count": 17,
   "id": "bbabb20c",
   "metadata": {
    "execution": {
     "iopub.execute_input": "2024-05-15T06:18:51.829925Z",
     "iopub.status.busy": "2024-05-15T06:18:51.829029Z",
     "iopub.status.idle": "2024-05-15T06:18:52.322412Z",
     "shell.execute_reply": "2024-05-15T06:18:52.321267Z"
    },
    "papermill": {
     "duration": 0.517591,
     "end_time": "2024-05-15T06:18:52.324728",
     "exception": false,
     "start_time": "2024-05-15T06:18:51.807137",
     "status": "completed"
    },
    "tags": []
   },
   "outputs": [
    {
     "data": {
      "text/plain": [
       "[Text(0, 0, 'toxic'),\n",
       " Text(1, 0, 'obscene'),\n",
       " Text(2, 0, 'insult'),\n",
       " Text(3, 0, 'severe_toxic'),\n",
       " Text(4, 0, 'identity_hate'),\n",
       " Text(5, 0, 'threat')]"
      ]
     },
     "execution_count": 17,
     "metadata": {},
     "output_type": "execute_result"
    },
    {
     "data": {
      "image/png": "[encoded data removed]",
      "text/plain": [
       "<Figure size 1500x800 with 1 Axes>"
      ]
     },
     "metadata": {},
     "output_type": "display_data"
    }
   ],
   "source": [
    "sns.set_style('darkgrid')\n",
    "ls=sentencetype_graph.sort_values(ascending=False)\n",
    "\n",
    "plt.figure(figsize=(15,8))\n",
    "\n",
    "temp = sns.barplot(x=ls.index, y=ls.values, alpha=0.8)\n",
    "\n",
    "plt.title('Sentence Type')\n",
    "\n",
    "plt.ylabel('COUNT', fontsize=14)\n",
    "\n",
    "plt.xlabel('All Sentence Type', fontsize = 15)\n",
    "\n",
    "temp.set_xticklabels(rotation=90, labels=ls.index, fontsize=10)"
   ]
  },
  {
   "cell_type": "code",
   "execution_count": 18,
   "id": "8971d61d",
   "metadata": {
    "execution": {
     "iopub.execute_input": "2024-05-15T06:18:52.368914Z",
     "iopub.status.busy": "2024-05-15T06:18:52.368496Z",
     "iopub.status.idle": "2024-05-15T06:18:52.373209Z",
     "shell.execute_reply": "2024-05-15T06:18:52.372083Z"
    },
    "papermill": {
     "duration": 0.029889,
     "end_time": "2024-05-15T06:18:52.375551",
     "exception": false,
     "start_time": "2024-05-15T06:18:52.345662",
     "status": "completed"
    },
    "tags": []
   },
   "outputs": [],
   "source": [
    "# there many toxic sentences followed by obscene sentences and very few thretening sentences as seen above "
   ]
  },
  {
   "cell_type": "raw",
   "id": "e42dae48",
   "metadata": {
    "papermill": {
     "duration": 0.020399,
     "end_time": "2024-05-15T06:18:52.416832",
     "exception": false,
     "start_time": "2024-05-15T06:18:52.396433",
     "status": "completed"
    },
    "tags": []
   },
   "source": [
    "Text Pre-processing"
   ]
  },
  {
   "cell_type": "code",
   "execution_count": 19,
   "id": "f8c20e8a",
   "metadata": {
    "execution": {
     "iopub.execute_input": "2024-05-15T06:18:52.460692Z",
     "iopub.status.busy": "2024-05-15T06:18:52.460289Z",
     "iopub.status.idle": "2024-05-15T06:18:52.464805Z",
     "shell.execute_reply": "2024-05-15T06:18:52.463698Z"
    },
    "papermill": {
     "duration": 0.029228,
     "end_time": "2024-05-15T06:18:52.467057",
     "exception": false,
     "start_time": "2024-05-15T06:18:52.437829",
     "status": "completed"
    },
    "tags": []
   },
   "outputs": [],
   "source": [
    "import re\n",
    "import string"
   ]
  },
  {
   "cell_type": "code",
   "execution_count": 20,
   "id": "52b62363",
   "metadata": {
    "execution": {
     "iopub.execute_input": "2024-05-15T06:18:52.511320Z",
     "iopub.status.busy": "2024-05-15T06:18:52.510322Z",
     "iopub.status.idle": "2024-05-15T06:19:05.804764Z",
     "shell.execute_reply": "2024-05-15T06:19:05.803627Z"
    },
    "papermill": {
     "duration": 13.319849,
     "end_time": "2024-05-15T06:19:05.808196",
     "exception": false,
     "start_time": "2024-05-15T06:18:52.488347",
     "status": "completed"
    },
    "tags": []
   },
   "outputs": [],
   "source": [
    "# Removing special character\n",
    "alphanumeric = lambda x: re.sub('\\w*\\d\\w*', ' ',x)\n",
    "punc_lower = lambda x: re.sub('[%s]' % re.escape(string.punctuation), ' ', x.lower())\n",
    "remove_n = lambda x:re.sub('\\n', ' ', x)\n",
    "remove_non_ascii = lambda x:re.sub(r'[^\\x00-\\x7f]', r' ', x)\n",
    "dd = df['comment_text'].map(alphanumeric).map(punc_lower).map(remove_n).map(remove_non_ascii)"
   ]
  },
  {
   "cell_type": "markdown",
   "id": "9faee9c0",
   "metadata": {
    "papermill": {
     "duration": 0.021534,
     "end_time": "2024-05-15T06:19:05.856763",
     "exception": false,
     "start_time": "2024-05-15T06:19:05.835229",
     "status": "completed"
    },
    "tags": []
   },
   "source": []
  },
  {
   "cell_type": "code",
   "execution_count": 21,
   "id": "cf2d44bc",
   "metadata": {
    "execution": {
     "iopub.execute_input": "2024-05-15T06:19:05.901344Z",
     "iopub.status.busy": "2024-05-15T06:19:05.900933Z",
     "iopub.status.idle": "2024-05-15T06:19:05.923095Z",
     "shell.execute_reply": "2024-05-15T06:19:05.921965Z"
    },
    "papermill": {
     "duration": 0.047845,
     "end_time": "2024-05-15T06:19:05.925443",
     "exception": false,
     "start_time": "2024-05-15T06:19:05.877598",
     "status": "completed"
    },
    "tags": []
   },
   "outputs": [
    {
     "data": {
      "text/html": [
       "<div>\n",
       "<style scoped>\n",
       "    .dataframe tbody tr th:only-of-type {\n",
       "        vertical-align: middle;\n",
       "    }\n",
       "\n",
       "    .dataframe tbody tr th {\n",
       "        vertical-align: top;\n",
       "    }\n",
       "\n",
       "    .dataframe thead th {\n",
       "        text-align: right;\n",
       "    }\n",
       "</style>\n",
       "<table border=\"1\" class=\"dataframe\">\n",
       "  <thead>\n",
       "    <tr style=\"text-align: right;\">\n",
       "      <th></th>\n",
       "      <th>id</th>\n",
       "      <th>comment_text</th>\n",
       "      <th>insult</th>\n",
       "    </tr>\n",
       "  </thead>\n",
       "  <tbody>\n",
       "    <tr>\n",
       "      <th>0</th>\n",
       "      <td>0000997932d777bf</td>\n",
       "      <td>Explanation\\nWhy the edits made under my usern...</td>\n",
       "      <td>0</td>\n",
       "    </tr>\n",
       "    <tr>\n",
       "      <th>1</th>\n",
       "      <td>000103f0d9cfb60f</td>\n",
       "      <td>D'aww! He matches this background colour I'm s...</td>\n",
       "      <td>0</td>\n",
       "    </tr>\n",
       "  </tbody>\n",
       "</table>\n",
       "</div>"
      ],
      "text/plain": [
       "                 id                                       comment_text  insult\n",
       "0  0000997932d777bf  Explanation\\nWhy the edits made under my usern...       0\n",
       "1  000103f0d9cfb60f  D'aww! He matches this background colour I'm s...       0"
      ]
     },
     "execution_count": 21,
     "metadata": {},
     "output_type": "execute_result"
    }
   ],
   "source": [
    "insulting_comment_df = df.loc[:,['id','comment_text','insult']]\n",
    "insulting_comment_df.head(2)"
   ]
  },
  {
   "cell_type": "code",
   "execution_count": 22,
   "id": "bd1b93c1",
   "metadata": {
    "execution": {
     "iopub.execute_input": "2024-05-15T06:19:05.969932Z",
     "iopub.status.busy": "2024-05-15T06:19:05.969182Z",
     "iopub.status.idle": "2024-05-15T06:19:05.998997Z",
     "shell.execute_reply": "2024-05-15T06:19:05.997895Z"
    },
    "papermill": {
     "duration": 0.054664,
     "end_time": "2024-05-15T06:19:06.001264",
     "exception": false,
     "start_time": "2024-05-15T06:19:05.946600",
     "status": "completed"
    },
    "tags": []
   },
   "outputs": [
    {
     "data": {
      "text/html": [
       "<div>\n",
       "<style scoped>\n",
       "    .dataframe tbody tr th:only-of-type {\n",
       "        vertical-align: middle;\n",
       "    }\n",
       "\n",
       "    .dataframe tbody tr th {\n",
       "        vertical-align: top;\n",
       "    }\n",
       "\n",
       "    .dataframe thead th {\n",
       "        text-align: right;\n",
       "    }\n",
       "</style>\n",
       "<table border=\"1\" class=\"dataframe\">\n",
       "  <thead>\n",
       "    <tr style=\"text-align: right;\">\n",
       "      <th></th>\n",
       "      <th>id</th>\n",
       "      <th>comment_text</th>\n",
       "      <th>identity_hate</th>\n",
       "    </tr>\n",
       "  </thead>\n",
       "  <tbody>\n",
       "    <tr>\n",
       "      <th>124664</th>\n",
       "      <td>9aec3e1c69556aa8</td>\n",
       "      <td>Your article is not notable enough for Wikiped...</td>\n",
       "      <td>0</td>\n",
       "    </tr>\n",
       "    <tr>\n",
       "      <th>78192</th>\n",
       "      <td>d1495b979d59dd6b</td>\n",
       "      <td>BUT User:Amortias i didnt attack you. Is it A-...</td>\n",
       "      <td>0</td>\n",
       "    </tr>\n",
       "  </tbody>\n",
       "</table>\n",
       "</div>"
      ],
      "text/plain": [
       "                      id                                       comment_text  \\\n",
       "124664  9aec3e1c69556aa8  Your article is not notable enough for Wikiped...   \n",
       "78192   d1495b979d59dd6b  BUT User:Amortias i didnt attack you. Is it A-...   \n",
       "\n",
       "        identity_hate  \n",
       "124664              0  \n",
       "78192               0  "
      ]
     },
     "execution_count": 22,
     "metadata": {},
     "output_type": "execute_result"
    }
   ],
   "source": [
    "identityhate_comment_df=df.loc[:,['id','comment_text','identity_hate']]\n",
    "identityhate_comment_df.sample(2)"
   ]
  },
  {
   "cell_type": "code",
   "execution_count": 23,
   "id": "7b176c6c",
   "metadata": {
    "execution": {
     "iopub.execute_input": "2024-05-15T06:19:06.045703Z",
     "iopub.status.busy": "2024-05-15T06:19:06.044922Z",
     "iopub.status.idle": "2024-05-15T06:19:06.069769Z",
     "shell.execute_reply": "2024-05-15T06:19:06.068944Z"
    },
    "papermill": {
     "duration": 0.049435,
     "end_time": "2024-05-15T06:19:06.071708",
     "exception": false,
     "start_time": "2024-05-15T06:19:06.022273",
     "status": "completed"
    },
    "tags": []
   },
   "outputs": [
    {
     "data": {
      "text/html": [
       "<div>\n",
       "<style scoped>\n",
       "    .dataframe tbody tr th:only-of-type {\n",
       "        vertical-align: middle;\n",
       "    }\n",
       "\n",
       "    .dataframe tbody tr th {\n",
       "        vertical-align: top;\n",
       "    }\n",
       "\n",
       "    .dataframe thead th {\n",
       "        text-align: right;\n",
       "    }\n",
       "</style>\n",
       "<table border=\"1\" class=\"dataframe\">\n",
       "  <thead>\n",
       "    <tr style=\"text-align: right;\">\n",
       "      <th></th>\n",
       "      <th>id</th>\n",
       "      <th>comment_text</th>\n",
       "      <th>obscene</th>\n",
       "    </tr>\n",
       "  </thead>\n",
       "  <tbody>\n",
       "    <tr>\n",
       "      <th>100185</th>\n",
       "      <td>18537e61cd7950c0</td>\n",
       "      <td>Thanks for the info.</td>\n",
       "      <td>0</td>\n",
       "    </tr>\n",
       "    <tr>\n",
       "      <th>14386</th>\n",
       "      <td>25ff647ecfe2b4d8</td>\n",
       "      <td>I have a article that was just published, conf...</td>\n",
       "      <td>0</td>\n",
       "    </tr>\n",
       "  </tbody>\n",
       "</table>\n",
       "</div>"
      ],
      "text/plain": [
       "                      id                                       comment_text  \\\n",
       "100185  18537e61cd7950c0                               Thanks for the info.   \n",
       "14386   25ff647ecfe2b4d8  I have a article that was just published, conf...   \n",
       "\n",
       "        obscene  \n",
       "100185        0  \n",
       "14386         0  "
      ]
     },
     "execution_count": 23,
     "metadata": {},
     "output_type": "execute_result"
    }
   ],
   "source": [
    "obscene_comment_df = df.loc[:, ['id','comment_text','obscene']]\n",
    "obscene_comment_df.sample(2)"
   ]
  },
  {
   "cell_type": "code",
   "execution_count": 24,
   "id": "fc985fc0",
   "metadata": {
    "execution": {
     "iopub.execute_input": "2024-05-15T06:19:06.116401Z",
     "iopub.status.busy": "2024-05-15T06:19:06.115430Z",
     "iopub.status.idle": "2024-05-15T06:19:06.139768Z",
     "shell.execute_reply": "2024-05-15T06:19:06.138912Z"
    },
    "papermill": {
     "duration": 0.049042,
     "end_time": "2024-05-15T06:19:06.141950",
     "exception": false,
     "start_time": "2024-05-15T06:19:06.092908",
     "status": "completed"
    },
    "tags": []
   },
   "outputs": [
    {
     "data": {
      "text/html": [
       "<div>\n",
       "<style scoped>\n",
       "    .dataframe tbody tr th:only-of-type {\n",
       "        vertical-align: middle;\n",
       "    }\n",
       "\n",
       "    .dataframe tbody tr th {\n",
       "        vertical-align: top;\n",
       "    }\n",
       "\n",
       "    .dataframe thead th {\n",
       "        text-align: right;\n",
       "    }\n",
       "</style>\n",
       "<table border=\"1\" class=\"dataframe\">\n",
       "  <thead>\n",
       "    <tr style=\"text-align: right;\">\n",
       "      <th></th>\n",
       "      <th>id</th>\n",
       "      <th>comment_text</th>\n",
       "      <th>threat</th>\n",
       "    </tr>\n",
       "  </thead>\n",
       "  <tbody>\n",
       "    <tr>\n",
       "      <th>52405</th>\n",
       "      <td>8c37fa0074e75e76</td>\n",
       "      <td>I believe that everything that I have added an...</td>\n",
       "      <td>0</td>\n",
       "    </tr>\n",
       "    <tr>\n",
       "      <th>127686</th>\n",
       "      <td>aaf25cecf9dd6cb1</td>\n",
       "      <td>So what can be done about it? J.Aldred</td>\n",
       "      <td>0</td>\n",
       "    </tr>\n",
       "  </tbody>\n",
       "</table>\n",
       "</div>"
      ],
      "text/plain": [
       "                      id                                       comment_text  \\\n",
       "52405   8c37fa0074e75e76  I believe that everything that I have added an...   \n",
       "127686  aaf25cecf9dd6cb1             So what can be done about it? J.Aldred   \n",
       "\n",
       "        threat  \n",
       "52405        0  \n",
       "127686       0  "
      ]
     },
     "execution_count": 24,
     "metadata": {},
     "output_type": "execute_result"
    }
   ],
   "source": [
    "threetening_comment_df = df.loc[:, ['id','comment_text','threat']]\n",
    "threetening_comment_df.sample(2)"
   ]
  },
  {
   "cell_type": "code",
   "execution_count": 25,
   "id": "ce2e77d1",
   "metadata": {
    "execution": {
     "iopub.execute_input": "2024-05-15T06:19:06.186674Z",
     "iopub.status.busy": "2024-05-15T06:19:06.185991Z",
     "iopub.status.idle": "2024-05-15T06:19:06.199102Z",
     "shell.execute_reply": "2024-05-15T06:19:06.198202Z"
    },
    "papermill": {
     "duration": 0.038728,
     "end_time": "2024-05-15T06:19:06.202023",
     "exception": false,
     "start_time": "2024-05-15T06:19:06.163295",
     "status": "completed"
    },
    "tags": []
   },
   "outputs": [],
   "source": [
    "severetoxic_comment_df = df.loc[:, ['id','comment_text','severe_toxic']]"
   ]
  },
  {
   "cell_type": "code",
   "execution_count": 26,
   "id": "5fbd19c3",
   "metadata": {
    "execution": {
     "iopub.execute_input": "2024-05-15T06:19:06.246510Z",
     "iopub.status.busy": "2024-05-15T06:19:06.246077Z",
     "iopub.status.idle": "2024-05-15T06:19:06.270691Z",
     "shell.execute_reply": "2024-05-15T06:19:06.269556Z"
    },
    "papermill": {
     "duration": 0.049366,
     "end_time": "2024-05-15T06:19:06.273075",
     "exception": false,
     "start_time": "2024-05-15T06:19:06.223709",
     "status": "completed"
    },
    "tags": []
   },
   "outputs": [
    {
     "data": {
      "text/html": [
       "<div>\n",
       "<style scoped>\n",
       "    .dataframe tbody tr th:only-of-type {\n",
       "        vertical-align: middle;\n",
       "    }\n",
       "\n",
       "    .dataframe tbody tr th {\n",
       "        vertical-align: top;\n",
       "    }\n",
       "\n",
       "    .dataframe thead th {\n",
       "        text-align: right;\n",
       "    }\n",
       "</style>\n",
       "<table border=\"1\" class=\"dataframe\">\n",
       "  <thead>\n",
       "    <tr style=\"text-align: right;\">\n",
       "      <th></th>\n",
       "      <th>id</th>\n",
       "      <th>comment_text</th>\n",
       "      <th>toxic</th>\n",
       "    </tr>\n",
       "  </thead>\n",
       "  <tbody>\n",
       "    <tr>\n",
       "      <th>143095</th>\n",
       "      <td>fd3e30a7ac1da8fb</td>\n",
       "      <td>\"\\n\\n Proposal to Delete this article.   \\n\\nN...</td>\n",
       "      <td>0</td>\n",
       "    </tr>\n",
       "    <tr>\n",
       "      <th>100736</th>\n",
       "      <td>1b2bc9069d8f93d1</td>\n",
       "      <td>\"\\n\\n woops \\n\\nSorry, I didn't mean to revert...</td>\n",
       "      <td>0</td>\n",
       "    </tr>\n",
       "  </tbody>\n",
       "</table>\n",
       "</div>"
      ],
      "text/plain": [
       "                      id                                       comment_text  \\\n",
       "143095  fd3e30a7ac1da8fb  \"\\n\\n Proposal to Delete this article.   \\n\\nN...   \n",
       "100736  1b2bc9069d8f93d1  \"\\n\\n woops \\n\\nSorry, I didn't mean to revert...   \n",
       "\n",
       "        toxic  \n",
       "143095      0  \n",
       "100736      0  "
      ]
     },
     "execution_count": 26,
     "metadata": {},
     "output_type": "execute_result"
    }
   ],
   "source": [
    "toxic_comment_df = df.loc[:, ['id','comment_text','toxic']]\n",
    "toxic_comment_df.sample(2)"
   ]
  },
  {
   "cell_type": "code",
   "execution_count": 27,
   "id": "296f8bcc",
   "metadata": {
    "execution": {
     "iopub.execute_input": "2024-05-15T06:19:06.319132Z",
     "iopub.status.busy": "2024-05-15T06:19:06.318730Z",
     "iopub.status.idle": "2024-05-15T06:19:06.384081Z",
     "shell.execute_reply": "2024-05-15T06:19:06.383023Z"
    },
    "papermill": {
     "duration": 0.090743,
     "end_time": "2024-05-15T06:19:06.386832",
     "exception": false,
     "start_time": "2024-05-15T06:19:06.296089",
     "status": "completed"
    },
    "tags": []
   },
   "outputs": [],
   "source": [
    "import wordcloud\n",
    "from PIL import Image\n",
    "from wordcloud import WordCloud, STOPWORDS, ImageColorGenerator\n",
    "from nltk.corpus import stopwords"
   ]
  },
  {
   "cell_type": "code",
   "execution_count": 28,
   "id": "1dcab050",
   "metadata": {
    "execution": {
     "iopub.execute_input": "2024-05-15T06:19:06.433080Z",
     "iopub.status.busy": "2024-05-15T06:19:06.432499Z",
     "iopub.status.idle": "2024-05-15T06:19:06.439405Z",
     "shell.execute_reply": "2024-05-15T06:19:06.438311Z"
    },
    "papermill": {
     "duration": 0.03227,
     "end_time": "2024-05-15T06:19:06.441485",
     "exception": false,
     "start_time": "2024-05-15T06:19:06.409215",
     "status": "completed"
    },
    "tags": []
   },
   "outputs": [],
   "source": [
    "def wordcloud(df, label):\n",
    "    subset=df[df[label]==1]\n",
    "    text=subset.comment_text.values\n",
    "    wc=WordCloud(background_color='black',max_words=2000)\n",
    "    \n",
    "    wc.generate(' '.join(text))\n",
    "    \n",
    "    plt.figure(figsize=(20,20))\n",
    "    plt.subplot(221)\n",
    "    plt.axis('off')\n",
    "    plt.title(f'word frequented in {label}', fontsize=20)\n",
    "    \n",
    "    plt.imshow(wc.recolor(colormap='gist_earth', random_state=244), alpha=0.98)\n",
    "    \n",
    "    "
   ]
  },
  {
   "cell_type": "code",
   "execution_count": 29,
   "id": "e8d86033",
   "metadata": {
    "execution": {
     "iopub.execute_input": "2024-05-15T06:19:06.486652Z",
     "iopub.status.busy": "2024-05-15T06:19:06.485843Z",
     "iopub.status.idle": "2024-05-15T06:19:07.733881Z",
     "shell.execute_reply": "2024-05-15T06:19:07.733043Z"
    },
    "papermill": {
     "duration": 1.275144,
     "end_time": "2024-05-15T06:19:07.738147",
     "exception": false,
     "start_time": "2024-05-15T06:19:06.463003",
     "status": "completed"
    },
    "tags": []
   },
   "outputs": [
    {
     "data": {
      "image/png": "[encoded data removed]",
      "text/plain": [
       "<Figure size 2000x2000 with 1 Axes>"
      ]
     },
     "metadata": {},
     "output_type": "display_data"
    }
   ],
   "source": [
    "wordcloud(severetoxic_comment_df, 'severe_toxic')"
   ]
  },
  {
   "cell_type": "code",
   "execution_count": 30,
   "id": "9247487b",
   "metadata": {
    "execution": {
     "iopub.execute_input": "2024-05-15T06:19:07.791763Z",
     "iopub.status.busy": "2024-05-15T06:19:07.790498Z",
     "iopub.status.idle": "2024-05-15T06:19:09.976450Z",
     "shell.execute_reply": "2024-05-15T06:19:09.975351Z"
    },
    "papermill": {
     "duration": 2.216692,
     "end_time": "2024-05-15T06:19:09.980425",
     "exception": false,
     "start_time": "2024-05-15T06:19:07.763733",
     "status": "completed"
    },
    "tags": []
   },
   "outputs": [
    {
     "data": {
      "image/png": "[encoded data removed]",
      "text/plain": [
       "<Figure size 2000x2000 with 1 Axes>"
      ]
     },
     "metadata": {},
     "output_type": "display_data"
    }
   ],
   "source": [
    "wordcloud(obscene_comment_df, 'obscene')"
   ]
  },
  {
   "cell_type": "code",
   "execution_count": 31,
   "id": "8076e112",
   "metadata": {
    "execution": {
     "iopub.execute_input": "2024-05-15T06:19:10.039594Z",
     "iopub.status.busy": "2024-05-15T06:19:10.039167Z",
     "iopub.status.idle": "2024-05-15T06:19:10.043759Z",
     "shell.execute_reply": "2024-05-15T06:19:10.042419Z"
    },
    "papermill": {
     "duration": 0.036999,
     "end_time": "2024-05-15T06:19:10.045981",
     "exception": false,
     "start_time": "2024-05-15T06:19:10.008982",
     "status": "completed"
    },
    "tags": []
   },
   "outputs": [],
   "source": [
    "# Belancing the target column in the dataset"
   ]
  },
  {
   "cell_type": "code",
   "execution_count": 32,
   "id": "42174aae",
   "metadata": {
    "execution": {
     "iopub.execute_input": "2024-05-15T06:19:10.105447Z",
     "iopub.status.busy": "2024-05-15T06:19:10.105011Z",
     "iopub.status.idle": "2024-05-15T06:19:10.117682Z",
     "shell.execute_reply": "2024-05-15T06:19:10.116471Z"
    },
    "papermill": {
     "duration": 0.04555,
     "end_time": "2024-05-15T06:19:10.120001",
     "exception": false,
     "start_time": "2024-05-15T06:19:10.074451",
     "status": "completed"
    },
    "tags": []
   },
   "outputs": [
    {
     "data": {
      "text/html": [
       "<div>\n",
       "<style scoped>\n",
       "    .dataframe tbody tr th:only-of-type {\n",
       "        vertical-align: middle;\n",
       "    }\n",
       "\n",
       "    .dataframe tbody tr th {\n",
       "        vertical-align: top;\n",
       "    }\n",
       "\n",
       "    .dataframe thead th {\n",
       "        text-align: right;\n",
       "    }\n",
       "</style>\n",
       "<table border=\"1\" class=\"dataframe\">\n",
       "  <thead>\n",
       "    <tr style=\"text-align: right;\">\n",
       "      <th></th>\n",
       "      <th>id</th>\n",
       "      <th>comment_text</th>\n",
       "      <th>toxic</th>\n",
       "    </tr>\n",
       "  </thead>\n",
       "  <tbody>\n",
       "    <tr>\n",
       "      <th>0</th>\n",
       "      <td>0000997932d777bf</td>\n",
       "      <td>Explanation\\nWhy the edits made under my usern...</td>\n",
       "      <td>0</td>\n",
       "    </tr>\n",
       "    <tr>\n",
       "      <th>1</th>\n",
       "      <td>000103f0d9cfb60f</td>\n",
       "      <td>D'aww! He matches this background colour I'm s...</td>\n",
       "      <td>0</td>\n",
       "    </tr>\n",
       "    <tr>\n",
       "      <th>2</th>\n",
       "      <td>000113f07ec002fd</td>\n",
       "      <td>Hey man, I'm really not trying to edit war. It...</td>\n",
       "      <td>0</td>\n",
       "    </tr>\n",
       "    <tr>\n",
       "      <th>3</th>\n",
       "      <td>0001b41b1c6bb37e</td>\n",
       "      <td>\"\\nMore\\nI can't make any real suggestions on ...</td>\n",
       "      <td>0</td>\n",
       "    </tr>\n",
       "    <tr>\n",
       "      <th>4</th>\n",
       "      <td>0001d958c54c6e35</td>\n",
       "      <td>You, sir, are my hero. Any chance you remember...</td>\n",
       "      <td>0</td>\n",
       "    </tr>\n",
       "    <tr>\n",
       "      <th>...</th>\n",
       "      <td>...</td>\n",
       "      <td>...</td>\n",
       "      <td>...</td>\n",
       "    </tr>\n",
       "    <tr>\n",
       "      <th>159566</th>\n",
       "      <td>ffe987279560d7ff</td>\n",
       "      <td>\":::::And for the second time of asking, when ...</td>\n",
       "      <td>0</td>\n",
       "    </tr>\n",
       "    <tr>\n",
       "      <th>159567</th>\n",
       "      <td>ffea4adeee384e90</td>\n",
       "      <td>You should be ashamed of yourself \\n\\nThat is ...</td>\n",
       "      <td>0</td>\n",
       "    </tr>\n",
       "    <tr>\n",
       "      <th>159568</th>\n",
       "      <td>ffee36eab5c267c9</td>\n",
       "      <td>Spitzer \\n\\nUmm, theres no actual article for ...</td>\n",
       "      <td>0</td>\n",
       "    </tr>\n",
       "    <tr>\n",
       "      <th>159569</th>\n",
       "      <td>fff125370e4aaaf3</td>\n",
       "      <td>And it looks like it was actually you who put ...</td>\n",
       "      <td>0</td>\n",
       "    </tr>\n",
       "    <tr>\n",
       "      <th>159570</th>\n",
       "      <td>fff46fc426af1f9a</td>\n",
       "      <td>\"\\nAnd ... I really don't think you understand...</td>\n",
       "      <td>0</td>\n",
       "    </tr>\n",
       "  </tbody>\n",
       "</table>\n",
       "<p>159571 rows × 3 columns</p>\n",
       "</div>"
      ],
      "text/plain": [
       "                      id                                       comment_text  \\\n",
       "0       0000997932d777bf  Explanation\\nWhy the edits made under my usern...   \n",
       "1       000103f0d9cfb60f  D'aww! He matches this background colour I'm s...   \n",
       "2       000113f07ec002fd  Hey man, I'm really not trying to edit war. It...   \n",
       "3       0001b41b1c6bb37e  \"\\nMore\\nI can't make any real suggestions on ...   \n",
       "4       0001d958c54c6e35  You, sir, are my hero. Any chance you remember...   \n",
       "...                  ...                                                ...   \n",
       "159566  ffe987279560d7ff  \":::::And for the second time of asking, when ...   \n",
       "159567  ffea4adeee384e90  You should be ashamed of yourself \\n\\nThat is ...   \n",
       "159568  ffee36eab5c267c9  Spitzer \\n\\nUmm, theres no actual article for ...   \n",
       "159569  fff125370e4aaaf3  And it looks like it was actually you who put ...   \n",
       "159570  fff46fc426af1f9a  \"\\nAnd ... I really don't think you understand...   \n",
       "\n",
       "        toxic  \n",
       "0           0  \n",
       "1           0  \n",
       "2           0  \n",
       "3           0  \n",
       "4           0  \n",
       "...       ...  \n",
       "159566      0  \n",
       "159567      0  \n",
       "159568      0  \n",
       "159569      0  \n",
       "159570      0  \n",
       "\n",
       "[159571 rows x 3 columns]"
      ]
     },
     "execution_count": 32,
     "metadata": {},
     "output_type": "execute_result"
    }
   ],
   "source": [
    "toxic_comment_df"
   ]
  },
  {
   "cell_type": "code",
   "execution_count": 33,
   "id": "29df3f10",
   "metadata": {
    "execution": {
     "iopub.execute_input": "2024-05-15T06:19:10.181404Z",
     "iopub.status.busy": "2024-05-15T06:19:10.180963Z",
     "iopub.status.idle": "2024-05-15T06:19:10.192595Z",
     "shell.execute_reply": "2024-05-15T06:19:10.191292Z"
    },
    "papermill": {
     "duration": 0.045688,
     "end_time": "2024-05-15T06:19:10.195595",
     "exception": false,
     "start_time": "2024-05-15T06:19:10.149907",
     "status": "completed"
    },
    "tags": []
   },
   "outputs": [
    {
     "data": {
      "text/plain": [
       "5000"
      ]
     },
     "execution_count": 33,
     "metadata": {},
     "output_type": "execute_result"
    }
   ],
   "source": [
    "# Slecting only 5000 toxic comments\n",
    "toxic_comment_balanced_1 = toxic_comment_df[toxic_comment_df['toxic'] == 1].iloc[0:5000, :]\n",
    "len(toxic_comment_balanced_1)"
   ]
  },
  {
   "cell_type": "code",
   "execution_count": 34,
   "id": "48ad9a15",
   "metadata": {
    "execution": {
     "iopub.execute_input": "2024-05-15T06:19:10.262097Z",
     "iopub.status.busy": "2024-05-15T06:19:10.261703Z",
     "iopub.status.idle": "2024-05-15T06:19:10.278335Z",
     "shell.execute_reply": "2024-05-15T06:19:10.277234Z"
    },
    "papermill": {
     "duration": 0.053547,
     "end_time": "2024-05-15T06:19:10.280811",
     "exception": false,
     "start_time": "2024-05-15T06:19:10.227264",
     "status": "completed"
    },
    "tags": []
   },
   "outputs": [
    {
     "data": {
      "text/plain": [
       "(5000, 3)"
      ]
     },
     "execution_count": 34,
     "metadata": {},
     "output_type": "execute_result"
    }
   ],
   "source": [
    "# Selectiong only 50000 non toxic comment \n",
    "toxic_comment_balanced_0 = toxic_comment_df[toxic_comment_df['toxic'] == 0].iloc[0:5000, :]\n",
    "toxic_comment_balanced_0.shape"
   ]
  },
  {
   "cell_type": "code",
   "execution_count": 35,
   "id": "8c2c437b",
   "metadata": {
    "execution": {
     "iopub.execute_input": "2024-05-15T06:19:10.342924Z",
     "iopub.status.busy": "2024-05-15T06:19:10.341914Z",
     "iopub.status.idle": "2024-05-15T06:19:10.348644Z",
     "shell.execute_reply": "2024-05-15T06:19:10.347346Z"
    },
    "papermill": {
     "duration": 0.041161,
     "end_time": "2024-05-15T06:19:10.351610",
     "exception": false,
     "start_time": "2024-05-15T06:19:10.310449",
     "status": "completed"
    },
    "tags": []
   },
   "outputs": [],
   "source": [
    "# Concating toxic commment and non toxic comment \n",
    "toxic_comment_balanced = pd.concat([toxic_comment_balanced_1, toxic_comment_balanced_0])"
   ]
  },
  {
   "cell_type": "code",
   "execution_count": 36,
   "id": "c10e3a43",
   "metadata": {
    "execution": {
     "iopub.execute_input": "2024-05-15T06:19:10.412609Z",
     "iopub.status.busy": "2024-05-15T06:19:10.412171Z",
     "iopub.status.idle": "2024-05-15T06:19:10.418305Z",
     "shell.execute_reply": "2024-05-15T06:19:10.417447Z"
    },
    "papermill": {
     "duration": 0.039428,
     "end_time": "2024-05-15T06:19:10.420543",
     "exception": false,
     "start_time": "2024-05-15T06:19:10.381115",
     "status": "completed"
    },
    "tags": []
   },
   "outputs": [
    {
     "data": {
      "text/plain": [
       "(10000, 3)"
      ]
     },
     "execution_count": 36,
     "metadata": {},
     "output_type": "execute_result"
    }
   ],
   "source": [
    "toxic_comment_balanced.shape"
   ]
  },
  {
   "cell_type": "code",
   "execution_count": 37,
   "id": "9252eee2",
   "metadata": {
    "execution": {
     "iopub.execute_input": "2024-05-15T06:19:10.483099Z",
     "iopub.status.busy": "2024-05-15T06:19:10.482639Z",
     "iopub.status.idle": "2024-05-15T06:19:10.492696Z",
     "shell.execute_reply": "2024-05-15T06:19:10.491387Z"
    },
    "papermill": {
     "duration": 0.04464,
     "end_time": "2024-05-15T06:19:10.495238",
     "exception": false,
     "start_time": "2024-05-15T06:19:10.450598",
     "status": "completed"
    },
    "tags": []
   },
   "outputs": [
    {
     "data": {
      "text/plain": [
       "toxic\n",
       "1    5000\n",
       "0    5000\n",
       "Name: count, dtype: int64"
      ]
     },
     "execution_count": 37,
     "metadata": {},
     "output_type": "execute_result"
    }
   ],
   "source": [
    "toxic_comment_balanced['toxic'].value_counts()\n",
    "# now the toxic and non toxic is balance"
   ]
  },
  {
   "cell_type": "code",
   "execution_count": 38,
   "id": "a603b1e8",
   "metadata": {
    "execution": {
     "iopub.execute_input": "2024-05-15T06:19:10.557230Z",
     "iopub.status.busy": "2024-05-15T06:19:10.556819Z",
     "iopub.status.idle": "2024-05-15T06:19:10.561968Z",
     "shell.execute_reply": "2024-05-15T06:19:10.560644Z"
    },
    "papermill": {
     "duration": 0.039073,
     "end_time": "2024-05-15T06:19:10.564277",
     "exception": false,
     "start_time": "2024-05-15T06:19:10.525204",
     "status": "completed"
    },
    "tags": []
   },
   "outputs": [],
   "source": [
    "# Repeating the steps for the subset dataset"
   ]
  },
  {
   "cell_type": "code",
   "execution_count": 39,
   "id": "1cdbb1da",
   "metadata": {
    "execution": {
     "iopub.execute_input": "2024-05-15T06:19:10.626726Z",
     "iopub.status.busy": "2024-05-15T06:19:10.626289Z",
     "iopub.status.idle": "2024-05-15T06:19:10.641821Z",
     "shell.execute_reply": "2024-05-15T06:19:10.641053Z"
    },
    "papermill": {
     "duration": 0.049962,
     "end_time": "2024-05-15T06:19:10.643900",
     "exception": false,
     "start_time": "2024-05-15T06:19:10.593938",
     "status": "completed"
    },
    "tags": []
   },
   "outputs": [
    {
     "data": {
      "text/html": [
       "<div>\n",
       "<style scoped>\n",
       "    .dataframe tbody tr th:only-of-type {\n",
       "        vertical-align: middle;\n",
       "    }\n",
       "\n",
       "    .dataframe tbody tr th {\n",
       "        vertical-align: top;\n",
       "    }\n",
       "\n",
       "    .dataframe thead th {\n",
       "        text-align: right;\n",
       "    }\n",
       "</style>\n",
       "<table border=\"1\" class=\"dataframe\">\n",
       "  <thead>\n",
       "    <tr style=\"text-align: right;\">\n",
       "      <th></th>\n",
       "      <th>id</th>\n",
       "      <th>comment_text</th>\n",
       "      <th>severe_toxic</th>\n",
       "    </tr>\n",
       "  </thead>\n",
       "  <tbody>\n",
       "    <tr>\n",
       "      <th>37061</th>\n",
       "      <td>62f078e4c932f51c</td>\n",
       "      <td>Why include the mosaic from the Arian baptiste...</td>\n",
       "      <td>0</td>\n",
       "    </tr>\n",
       "    <tr>\n",
       "      <th>70857</th>\n",
       "      <td>bda77c6ce413c267</td>\n",
       "      <td>Indiana Wesleyan University \\n\\nI appreciate y...</td>\n",
       "      <td>0</td>\n",
       "    </tr>\n",
       "  </tbody>\n",
       "</table>\n",
       "</div>"
      ],
      "text/plain": [
       "                     id                                       comment_text  \\\n",
       "37061  62f078e4c932f51c  Why include the mosaic from the Arian baptiste...   \n",
       "70857  bda77c6ce413c267  Indiana Wesleyan University \\n\\nI appreciate y...   \n",
       "\n",
       "       severe_toxic  \n",
       "37061             0  \n",
       "70857             0  "
      ]
     },
     "execution_count": 39,
     "metadata": {},
     "output_type": "execute_result"
    }
   ],
   "source": [
    "severetoxic_comment_df.sample(2)"
   ]
  },
  {
   "cell_type": "code",
   "execution_count": 40,
   "id": "983bddb6",
   "metadata": {
    "execution": {
     "iopub.execute_input": "2024-05-15T06:19:10.708399Z",
     "iopub.status.busy": "2024-05-15T06:19:10.707287Z",
     "iopub.status.idle": "2024-05-15T06:19:10.716190Z",
     "shell.execute_reply": "2024-05-15T06:19:10.715433Z"
    },
    "papermill": {
     "duration": 0.044356,
     "end_time": "2024-05-15T06:19:10.718292",
     "exception": false,
     "start_time": "2024-05-15T06:19:10.673936",
     "status": "completed"
    },
    "tags": []
   },
   "outputs": [
    {
     "data": {
      "text/plain": [
       "severe_toxic\n",
       "0    157976\n",
       "1      1595\n",
       "Name: count, dtype: int64"
      ]
     },
     "execution_count": 40,
     "metadata": {},
     "output_type": "execute_result"
    }
   ],
   "source": [
    "severetoxic_comment_df['severe_toxic'].value_counts()"
   ]
  },
  {
   "cell_type": "code",
   "execution_count": 41,
   "id": "81932546",
   "metadata": {
    "execution": {
     "iopub.execute_input": "2024-05-15T06:19:10.781277Z",
     "iopub.status.busy": "2024-05-15T06:19:10.780857Z",
     "iopub.status.idle": "2024-05-15T06:19:10.787952Z",
     "shell.execute_reply": "2024-05-15T06:19:10.786877Z"
    },
    "papermill": {
     "duration": 0.041859,
     "end_time": "2024-05-15T06:19:10.790299",
     "exception": false,
     "start_time": "2024-05-15T06:19:10.748440",
     "status": "completed"
    },
    "tags": []
   },
   "outputs": [],
   "source": [
    "severe_comment_balanced_1 = severetoxic_comment_df[severetoxic_comment_df['severe_toxic'] == 1].iloc[0:1595, :]"
   ]
  },
  {
   "cell_type": "code",
   "execution_count": 42,
   "id": "2aae9f90",
   "metadata": {
    "execution": {
     "iopub.execute_input": "2024-05-15T06:19:10.853685Z",
     "iopub.status.busy": "2024-05-15T06:19:10.853034Z",
     "iopub.status.idle": "2024-05-15T06:19:10.870412Z",
     "shell.execute_reply": "2024-05-15T06:19:10.869392Z"
    },
    "papermill": {
     "duration": 0.051684,
     "end_time": "2024-05-15T06:19:10.872964",
     "exception": false,
     "start_time": "2024-05-15T06:19:10.821280",
     "status": "completed"
    },
    "tags": []
   },
   "outputs": [],
   "source": [
    "severe_comment_balanced_0 = severetoxic_comment_df[severetoxic_comment_df['severe_toxic'] == 0].iloc[0:1595, :]"
   ]
  },
  {
   "cell_type": "code",
   "execution_count": 43,
   "id": "27ea5393",
   "metadata": {
    "execution": {
     "iopub.execute_input": "2024-05-15T06:19:10.935352Z",
     "iopub.status.busy": "2024-05-15T06:19:10.934613Z",
     "iopub.status.idle": "2024-05-15T06:19:10.942565Z",
     "shell.execute_reply": "2024-05-15T06:19:10.941547Z"
    },
    "papermill": {
     "duration": 0.0416,
     "end_time": "2024-05-15T06:19:10.944673",
     "exception": false,
     "start_time": "2024-05-15T06:19:10.903073",
     "status": "completed"
    },
    "tags": []
   },
   "outputs": [
    {
     "data": {
      "text/plain": [
       "((1595, 3), (1595, 3), (3190, 3))"
      ]
     },
     "execution_count": 43,
     "metadata": {},
     "output_type": "execute_result"
    }
   ],
   "source": [
    "severe_comment_balanced = pd.concat([severe_comment_balanced_1, severe_comment_balanced_0])\n",
    "severe_comment_balanced_0.shape, severe_comment_balanced_1.shape,severe_comment_balanced.shape"
   ]
  },
  {
   "cell_type": "code",
   "execution_count": 44,
   "id": "063d979d",
   "metadata": {
    "execution": {
     "iopub.execute_input": "2024-05-15T06:19:11.007403Z",
     "iopub.status.busy": "2024-05-15T06:19:11.006754Z",
     "iopub.status.idle": "2024-05-15T06:19:11.011286Z",
     "shell.execute_reply": "2024-05-15T06:19:11.010382Z"
    },
    "papermill": {
     "duration": 0.038667,
     "end_time": "2024-05-15T06:19:11.013618",
     "exception": false,
     "start_time": "2024-05-15T06:19:10.974951",
     "status": "completed"
    },
    "tags": []
   },
   "outputs": [],
   "source": [
    "# Repeating the same for obsene comment "
   ]
  },
  {
   "cell_type": "code",
   "execution_count": 45,
   "id": "f7e40b1f",
   "metadata": {
    "execution": {
     "iopub.execute_input": "2024-05-15T06:19:11.076089Z",
     "iopub.status.busy": "2024-05-15T06:19:11.075718Z",
     "iopub.status.idle": "2024-05-15T06:19:11.090585Z",
     "shell.execute_reply": "2024-05-15T06:19:11.089388Z"
    },
    "papermill": {
     "duration": 0.048664,
     "end_time": "2024-05-15T06:19:11.092916",
     "exception": false,
     "start_time": "2024-05-15T06:19:11.044252",
     "status": "completed"
    },
    "tags": []
   },
   "outputs": [
    {
     "data": {
      "text/html": [
       "<div>\n",
       "<style scoped>\n",
       "    .dataframe tbody tr th:only-of-type {\n",
       "        vertical-align: middle;\n",
       "    }\n",
       "\n",
       "    .dataframe tbody tr th {\n",
       "        vertical-align: top;\n",
       "    }\n",
       "\n",
       "    .dataframe thead th {\n",
       "        text-align: right;\n",
       "    }\n",
       "</style>\n",
       "<table border=\"1\" class=\"dataframe\">\n",
       "  <thead>\n",
       "    <tr style=\"text-align: right;\">\n",
       "      <th></th>\n",
       "      <th>id</th>\n",
       "      <th>comment_text</th>\n",
       "      <th>obscene</th>\n",
       "    </tr>\n",
       "  </thead>\n",
       "  <tbody>\n",
       "    <tr>\n",
       "      <th>88022</th>\n",
       "      <td>eb7a040377e3fbc9</td>\n",
       "      <td>Business Operations Expansion \\n\\nI would like...</td>\n",
       "      <td>0</td>\n",
       "    </tr>\n",
       "    <tr>\n",
       "      <th>35740</th>\n",
       "      <td>5f822fa21e6a61fa</td>\n",
       "      <td>If you could check any changes since my final ...</td>\n",
       "      <td>0</td>\n",
       "    </tr>\n",
       "  </tbody>\n",
       "</table>\n",
       "</div>"
      ],
      "text/plain": [
       "                     id                                       comment_text  \\\n",
       "88022  eb7a040377e3fbc9  Business Operations Expansion \\n\\nI would like...   \n",
       "35740  5f822fa21e6a61fa  If you could check any changes since my final ...   \n",
       "\n",
       "       obscene  \n",
       "88022        0  \n",
       "35740        0  "
      ]
     },
     "execution_count": 45,
     "metadata": {},
     "output_type": "execute_result"
    }
   ],
   "source": [
    "obscene_comment_df.sample(2)"
   ]
  },
  {
   "cell_type": "code",
   "execution_count": 46,
   "id": "b2f08522",
   "metadata": {
    "execution": {
     "iopub.execute_input": "2024-05-15T06:19:11.155386Z",
     "iopub.status.busy": "2024-05-15T06:19:11.154670Z",
     "iopub.status.idle": "2024-05-15T06:19:11.163344Z",
     "shell.execute_reply": "2024-05-15T06:19:11.162467Z"
    },
    "papermill": {
     "duration": 0.042482,
     "end_time": "2024-05-15T06:19:11.165548",
     "exception": false,
     "start_time": "2024-05-15T06:19:11.123066",
     "status": "completed"
    },
    "tags": []
   },
   "outputs": [
    {
     "data": {
      "text/plain": [
       "obscene\n",
       "0    151122\n",
       "1      8449\n",
       "Name: count, dtype: int64"
      ]
     },
     "execution_count": 46,
     "metadata": {},
     "output_type": "execute_result"
    }
   ],
   "source": [
    "obscene_comment_df['obscene'].value_counts()\n",
    "# There inbalance data"
   ]
  },
  {
   "cell_type": "code",
   "execution_count": 47,
   "id": "9c1455e2",
   "metadata": {
    "execution": {
     "iopub.execute_input": "2024-05-15T06:19:11.228469Z",
     "iopub.status.busy": "2024-05-15T06:19:11.227770Z",
     "iopub.status.idle": "2024-05-15T06:19:11.235149Z",
     "shell.execute_reply": "2024-05-15T06:19:11.234309Z"
    },
    "papermill": {
     "duration": 0.041423,
     "end_time": "2024-05-15T06:19:11.237335",
     "exception": false,
     "start_time": "2024-05-15T06:19:11.195912",
     "status": "completed"
    },
    "tags": []
   },
   "outputs": [],
   "source": [
    "obscene_comment_df_1 = obscene_comment_df[obscene_comment_df['obscene'] == 1].iloc[0:8449, :]"
   ]
  },
  {
   "cell_type": "code",
   "execution_count": 48,
   "id": "404b03ca",
   "metadata": {
    "execution": {
     "iopub.execute_input": "2024-05-15T06:19:11.299626Z",
     "iopub.status.busy": "2024-05-15T06:19:11.298920Z",
     "iopub.status.idle": "2024-05-15T06:19:11.312704Z",
     "shell.execute_reply": "2024-05-15T06:19:11.311647Z"
    },
    "papermill": {
     "duration": 0.047787,
     "end_time": "2024-05-15T06:19:11.315164",
     "exception": false,
     "start_time": "2024-05-15T06:19:11.267377",
     "status": "completed"
    },
    "tags": []
   },
   "outputs": [],
   "source": [
    "obscene_comment_df_0 = obscene_comment_df[obscene_comment_df['obscene'] == 0].iloc[0:8449, :]"
   ]
  },
  {
   "cell_type": "code",
   "execution_count": 49,
   "id": "cd47ab0b",
   "metadata": {
    "execution": {
     "iopub.execute_input": "2024-05-15T06:19:11.377734Z",
     "iopub.status.busy": "2024-05-15T06:19:11.377284Z",
     "iopub.status.idle": "2024-05-15T06:19:11.385382Z",
     "shell.execute_reply": "2024-05-15T06:19:11.384471Z"
    },
    "papermill": {
     "duration": 0.041707,
     "end_time": "2024-05-15T06:19:11.387353",
     "exception": false,
     "start_time": "2024-05-15T06:19:11.345646",
     "status": "completed"
    },
    "tags": []
   },
   "outputs": [
    {
     "data": {
      "text/plain": [
       "((8449, 3), (8449, 3), (159571, 3))"
      ]
     },
     "execution_count": 49,
     "metadata": {},
     "output_type": "execute_result"
    }
   ],
   "source": [
    "obscene_comment_balanced = pd.concat([obscene_comment_df_1, obscene_comment_df_0])\n",
    "obscene_comment_df_1.shape,  obscene_comment_df_0.shape, obscene_comment_df.shape"
   ]
  },
  {
   "cell_type": "code",
   "execution_count": 50,
   "id": "fd940f73",
   "metadata": {
    "execution": {
     "iopub.execute_input": "2024-05-15T06:19:11.450140Z",
     "iopub.status.busy": "2024-05-15T06:19:11.449452Z",
     "iopub.status.idle": "2024-05-15T06:19:11.453175Z",
     "shell.execute_reply": "2024-05-15T06:19:11.452429Z"
    },
    "papermill": {
     "duration": 0.037723,
     "end_time": "2024-05-15T06:19:11.455322",
     "exception": false,
     "start_time": "2024-05-15T06:19:11.417599",
     "status": "completed"
    },
    "tags": []
   },
   "outputs": [],
   "source": [
    "# Repeating the same for thereatening comment"
   ]
  },
  {
   "cell_type": "code",
   "execution_count": 51,
   "id": "df9d7d74",
   "metadata": {
    "execution": {
     "iopub.execute_input": "2024-05-15T06:19:11.520313Z",
     "iopub.status.busy": "2024-05-15T06:19:11.519660Z",
     "iopub.status.idle": "2024-05-15T06:19:11.534541Z",
     "shell.execute_reply": "2024-05-15T06:19:11.533391Z"
    },
    "papermill": {
     "duration": 0.050704,
     "end_time": "2024-05-15T06:19:11.536823",
     "exception": false,
     "start_time": "2024-05-15T06:19:11.486119",
     "status": "completed"
    },
    "tags": []
   },
   "outputs": [
    {
     "data": {
      "text/html": [
       "<div>\n",
       "<style scoped>\n",
       "    .dataframe tbody tr th:only-of-type {\n",
       "        vertical-align: middle;\n",
       "    }\n",
       "\n",
       "    .dataframe tbody tr th {\n",
       "        vertical-align: top;\n",
       "    }\n",
       "\n",
       "    .dataframe thead th {\n",
       "        text-align: right;\n",
       "    }\n",
       "</style>\n",
       "<table border=\"1\" class=\"dataframe\">\n",
       "  <thead>\n",
       "    <tr style=\"text-align: right;\">\n",
       "      <th></th>\n",
       "      <th>id</th>\n",
       "      <th>comment_text</th>\n",
       "      <th>threat</th>\n",
       "    </tr>\n",
       "  </thead>\n",
       "  <tbody>\n",
       "    <tr>\n",
       "      <th>43048</th>\n",
       "      <td>72d8591b73fa55a0</td>\n",
       "      <td>I have accepted your apology. Maybe our paths ...</td>\n",
       "      <td>0</td>\n",
       "    </tr>\n",
       "    <tr>\n",
       "      <th>23400</th>\n",
       "      <td>3dcc456445980035</td>\n",
       "      <td>p&gt;Yes you called him idiot. But who cares. \\nW...</td>\n",
       "      <td>0</td>\n",
       "    </tr>\n",
       "  </tbody>\n",
       "</table>\n",
       "</div>"
      ],
      "text/plain": [
       "                     id                                       comment_text  \\\n",
       "43048  72d8591b73fa55a0  I have accepted your apology. Maybe our paths ...   \n",
       "23400  3dcc456445980035  p>Yes you called him idiot. But who cares. \\nW...   \n",
       "\n",
       "       threat  \n",
       "43048       0  \n",
       "23400       0  "
      ]
     },
     "execution_count": 51,
     "metadata": {},
     "output_type": "execute_result"
    }
   ],
   "source": [
    "threetening_comment_df.sample(2)"
   ]
  },
  {
   "cell_type": "code",
   "execution_count": 52,
   "id": "7ebee27f",
   "metadata": {
    "execution": {
     "iopub.execute_input": "2024-05-15T06:19:11.601558Z",
     "iopub.status.busy": "2024-05-15T06:19:11.601125Z",
     "iopub.status.idle": "2024-05-15T06:19:11.610816Z",
     "shell.execute_reply": "2024-05-15T06:19:11.609776Z"
    },
    "papermill": {
     "duration": 0.045568,
     "end_time": "2024-05-15T06:19:11.613062",
     "exception": false,
     "start_time": "2024-05-15T06:19:11.567494",
     "status": "completed"
    },
    "tags": []
   },
   "outputs": [
    {
     "data": {
      "text/plain": [
       "threat\n",
       "0    159093\n",
       "1       478\n",
       "Name: count, dtype: int64"
      ]
     },
     "execution_count": 52,
     "metadata": {},
     "output_type": "execute_result"
    }
   ],
   "source": [
    "threetening_comment_df['threat'].value_counts()\n",
    "# There inbalance data"
   ]
  },
  {
   "cell_type": "code",
   "execution_count": 53,
   "id": "8cc6d0c8",
   "metadata": {
    "execution": {
     "iopub.execute_input": "2024-05-15T06:19:11.676806Z",
     "iopub.status.busy": "2024-05-15T06:19:11.676383Z",
     "iopub.status.idle": "2024-05-15T06:19:11.684395Z",
     "shell.execute_reply": "2024-05-15T06:19:11.682120Z"
    },
    "papermill": {
     "duration": 0.043719,
     "end_time": "2024-05-15T06:19:11.687639",
     "exception": false,
     "start_time": "2024-05-15T06:19:11.643920",
     "status": "completed"
    },
    "tags": []
   },
   "outputs": [],
   "source": [
    "threat_comment_df_1 = threetening_comment_df[threetening_comment_df['threat'] == 1].iloc[0:478, :]"
   ]
  },
  {
   "cell_type": "code",
   "execution_count": 54,
   "id": "b85adaef",
   "metadata": {
    "execution": {
     "iopub.execute_input": "2024-05-15T06:19:11.752433Z",
     "iopub.status.busy": "2024-05-15T06:19:11.751647Z",
     "iopub.status.idle": "2024-05-15T06:19:11.766887Z",
     "shell.execute_reply": "2024-05-15T06:19:11.765999Z"
    },
    "papermill": {
     "duration": 0.049891,
     "end_time": "2024-05-15T06:19:11.769293",
     "exception": false,
     "start_time": "2024-05-15T06:19:11.719402",
     "status": "completed"
    },
    "tags": []
   },
   "outputs": [],
   "source": [
    "threat_comment_df_0 = threetening_comment_df[threetening_comment_df['threat'] == 0].iloc[0:478, :]"
   ]
  },
  {
   "cell_type": "code",
   "execution_count": 55,
   "id": "5ebbae5a",
   "metadata": {
    "execution": {
     "iopub.execute_input": "2024-05-15T06:19:11.835322Z",
     "iopub.status.busy": "2024-05-15T06:19:11.834096Z",
     "iopub.status.idle": "2024-05-15T06:19:11.843003Z",
     "shell.execute_reply": "2024-05-15T06:19:11.841764Z"
    },
    "papermill": {
     "duration": 0.04327,
     "end_time": "2024-05-15T06:19:11.845041",
     "exception": false,
     "start_time": "2024-05-15T06:19:11.801771",
     "status": "completed"
    },
    "tags": []
   },
   "outputs": [
    {
     "data": {
      "text/plain": [
       "((478, 3), (478, 3), (956, 3))"
      ]
     },
     "execution_count": 55,
     "metadata": {},
     "output_type": "execute_result"
    }
   ],
   "source": [
    "threetening_comment_balanced = pd.concat([threat_comment_df_1, threat_comment_df_0])\n",
    "threat_comment_df_1.shape,  threat_comment_df_1.shape, threetening_comment_balanced.shape"
   ]
  },
  {
   "cell_type": "code",
   "execution_count": null,
   "id": "0ec16fb8",
   "metadata": {
    "papermill": {
     "duration": 0.033488,
     "end_time": "2024-05-15T06:19:11.909619",
     "exception": false,
     "start_time": "2024-05-15T06:19:11.876131",
     "status": "completed"
    },
    "tags": []
   },
   "outputs": [],
   "source": []
  },
  {
   "cell_type": "code",
   "execution_count": 56,
   "id": "958478b5",
   "metadata": {
    "execution": {
     "iopub.execute_input": "2024-05-15T06:19:11.974013Z",
     "iopub.status.busy": "2024-05-15T06:19:11.973338Z",
     "iopub.status.idle": "2024-05-15T06:19:11.977477Z",
     "shell.execute_reply": "2024-05-15T06:19:11.976664Z"
    },
    "papermill": {
     "duration": 0.038417,
     "end_time": "2024-05-15T06:19:11.979513",
     "exception": false,
     "start_time": "2024-05-15T06:19:11.941096",
     "status": "completed"
    },
    "tags": []
   },
   "outputs": [],
   "source": [
    "# Repeating the same for identity hate comment"
   ]
  },
  {
   "cell_type": "code",
   "execution_count": 57,
   "id": "81e54ab5",
   "metadata": {
    "execution": {
     "iopub.execute_input": "2024-05-15T06:19:12.043893Z",
     "iopub.status.busy": "2024-05-15T06:19:12.043182Z",
     "iopub.status.idle": "2024-05-15T06:19:12.057367Z",
     "shell.execute_reply": "2024-05-15T06:19:12.056135Z"
    },
    "papermill": {
     "duration": 0.049499,
     "end_time": "2024-05-15T06:19:12.060140",
     "exception": false,
     "start_time": "2024-05-15T06:19:12.010641",
     "status": "completed"
    },
    "tags": []
   },
   "outputs": [
    {
     "data": {
      "text/html": [
       "<div>\n",
       "<style scoped>\n",
       "    .dataframe tbody tr th:only-of-type {\n",
       "        vertical-align: middle;\n",
       "    }\n",
       "\n",
       "    .dataframe tbody tr th {\n",
       "        vertical-align: top;\n",
       "    }\n",
       "\n",
       "    .dataframe thead th {\n",
       "        text-align: right;\n",
       "    }\n",
       "</style>\n",
       "<table border=\"1\" class=\"dataframe\">\n",
       "  <thead>\n",
       "    <tr style=\"text-align: right;\">\n",
       "      <th></th>\n",
       "      <th>id</th>\n",
       "      <th>comment_text</th>\n",
       "      <th>identity_hate</th>\n",
       "    </tr>\n",
       "  </thead>\n",
       "  <tbody>\n",
       "    <tr>\n",
       "      <th>117475</th>\n",
       "      <td>73a8d58b19edf4df</td>\n",
       "      <td>\"Thanks for experimenting with the page User:G...</td>\n",
       "      <td>0</td>\n",
       "    </tr>\n",
       "    <tr>\n",
       "      <th>61954</th>\n",
       "      <td>a5cc0e465ab4f3c7</td>\n",
       "      <td>Doctor Who articles \\n\\nI'm not sure quite wha...</td>\n",
       "      <td>0</td>\n",
       "    </tr>\n",
       "  </tbody>\n",
       "</table>\n",
       "</div>"
      ],
      "text/plain": [
       "                      id                                       comment_text  \\\n",
       "117475  73a8d58b19edf4df  \"Thanks for experimenting with the page User:G...   \n",
       "61954   a5cc0e465ab4f3c7  Doctor Who articles \\n\\nI'm not sure quite wha...   \n",
       "\n",
       "        identity_hate  \n",
       "117475              0  \n",
       "61954               0  "
      ]
     },
     "execution_count": 57,
     "metadata": {},
     "output_type": "execute_result"
    }
   ],
   "source": [
    "identityhate_comment_df.sample(2)"
   ]
  },
  {
   "cell_type": "code",
   "execution_count": 58,
   "id": "303286de",
   "metadata": {
    "execution": {
     "iopub.execute_input": "2024-05-15T06:19:12.141893Z",
     "iopub.status.busy": "2024-05-15T06:19:12.141104Z",
     "iopub.status.idle": "2024-05-15T06:19:12.150840Z",
     "shell.execute_reply": "2024-05-15T06:19:12.150025Z"
    },
    "papermill": {
     "duration": 0.054799,
     "end_time": "2024-05-15T06:19:12.152958",
     "exception": false,
     "start_time": "2024-05-15T06:19:12.098159",
     "status": "completed"
    },
    "tags": []
   },
   "outputs": [
    {
     "data": {
      "text/plain": [
       "identity_hate\n",
       "0    158166\n",
       "1      1405\n",
       "Name: count, dtype: int64"
      ]
     },
     "execution_count": 58,
     "metadata": {},
     "output_type": "execute_result"
    }
   ],
   "source": [
    "identityhate_comment_df['identity_hate'].value_counts()\n",
    "# There inbalance data"
   ]
  },
  {
   "cell_type": "code",
   "execution_count": 59,
   "id": "6376ecf5",
   "metadata": {
    "execution": {
     "iopub.execute_input": "2024-05-15T06:19:12.218626Z",
     "iopub.status.busy": "2024-05-15T06:19:12.217975Z",
     "iopub.status.idle": "2024-05-15T06:19:12.224236Z",
     "shell.execute_reply": "2024-05-15T06:19:12.223245Z"
    },
    "papermill": {
     "duration": 0.042071,
     "end_time": "2024-05-15T06:19:12.226682",
     "exception": false,
     "start_time": "2024-05-15T06:19:12.184611",
     "status": "completed"
    },
    "tags": []
   },
   "outputs": [],
   "source": [
    "identityhate_comment_df_1 = identityhate_comment_df[identityhate_comment_df['identity_hate'] == 1].iloc[0:1405, :]"
   ]
  },
  {
   "cell_type": "code",
   "execution_count": 60,
   "id": "7cf9ea4c",
   "metadata": {
    "execution": {
     "iopub.execute_input": "2024-05-15T06:19:12.291463Z",
     "iopub.status.busy": "2024-05-15T06:19:12.291009Z",
     "iopub.status.idle": "2024-05-15T06:19:12.305389Z",
     "shell.execute_reply": "2024-05-15T06:19:12.304415Z"
    },
    "papermill": {
     "duration": 0.049766,
     "end_time": "2024-05-15T06:19:12.307741",
     "exception": false,
     "start_time": "2024-05-15T06:19:12.257975",
     "status": "completed"
    },
    "tags": []
   },
   "outputs": [],
   "source": [
    "identityhate_comment_df_0 = identityhate_comment_df[identityhate_comment_df['identity_hate'] == 0].iloc[0:1405, :]"
   ]
  },
  {
   "cell_type": "code",
   "execution_count": 61,
   "id": "93a26b42",
   "metadata": {
    "execution": {
     "iopub.execute_input": "2024-05-15T06:19:12.372086Z",
     "iopub.status.busy": "2024-05-15T06:19:12.371707Z",
     "iopub.status.idle": "2024-05-15T06:19:12.379286Z",
     "shell.execute_reply": "2024-05-15T06:19:12.378312Z"
    },
    "papermill": {
     "duration": 0.042479,
     "end_time": "2024-05-15T06:19:12.381405",
     "exception": false,
     "start_time": "2024-05-15T06:19:12.338926",
     "status": "completed"
    },
    "tags": []
   },
   "outputs": [
    {
     "data": {
      "text/plain": [
       "((1405, 3), (1405, 3), (2810, 3))"
      ]
     },
     "execution_count": 61,
     "metadata": {},
     "output_type": "execute_result"
    }
   ],
   "source": [
    "identityhate_comment_balanced = pd.concat([identityhate_comment_df_1, identityhate_comment_df_0])\n",
    "identityhate_comment_df_1.shape, identityhate_comment_df_0.shape, identityhate_comment_balanced.shape"
   ]
  },
  {
   "cell_type": "code",
   "execution_count": 62,
   "id": "8feede8f",
   "metadata": {
    "execution": {
     "iopub.execute_input": "2024-05-15T06:19:12.445526Z",
     "iopub.status.busy": "2024-05-15T06:19:12.445150Z",
     "iopub.status.idle": "2024-05-15T06:19:12.449344Z",
     "shell.execute_reply": "2024-05-15T06:19:12.448334Z"
    },
    "papermill": {
     "duration": 0.038891,
     "end_time": "2024-05-15T06:19:12.451555",
     "exception": false,
     "start_time": "2024-05-15T06:19:12.412664",
     "status": "completed"
    },
    "tags": []
   },
   "outputs": [],
   "source": [
    "# Repeating the same for insult hate comment"
   ]
  },
  {
   "cell_type": "code",
   "execution_count": 63,
   "id": "e4b19177",
   "metadata": {
    "execution": {
     "iopub.execute_input": "2024-05-15T06:19:12.517343Z",
     "iopub.status.busy": "2024-05-15T06:19:12.516959Z",
     "iopub.status.idle": "2024-05-15T06:19:12.527142Z",
     "shell.execute_reply": "2024-05-15T06:19:12.526011Z"
    },
    "papermill": {
     "duration": 0.046031,
     "end_time": "2024-05-15T06:19:12.529697",
     "exception": false,
     "start_time": "2024-05-15T06:19:12.483666",
     "status": "completed"
    },
    "tags": []
   },
   "outputs": [
    {
     "data": {
      "text/plain": [
       "insult\n",
       "0    151694\n",
       "1      7877\n",
       "Name: count, dtype: int64"
      ]
     },
     "execution_count": 63,
     "metadata": {},
     "output_type": "execute_result"
    }
   ],
   "source": [
    "insulting_comment_df['insult'].value_counts()"
   ]
  },
  {
   "cell_type": "code",
   "execution_count": 64,
   "id": "762b3b5e",
   "metadata": {
    "execution": {
     "iopub.execute_input": "2024-05-15T06:19:12.595799Z",
     "iopub.status.busy": "2024-05-15T06:19:12.595399Z",
     "iopub.status.idle": "2024-05-15T06:19:12.603601Z",
     "shell.execute_reply": "2024-05-15T06:19:12.602426Z"
    },
    "papermill": {
     "duration": 0.044171,
     "end_time": "2024-05-15T06:19:12.606095",
     "exception": false,
     "start_time": "2024-05-15T06:19:12.561924",
     "status": "completed"
    },
    "tags": []
   },
   "outputs": [],
   "source": [
    "insulting_comment_df_1 = insulting_comment_df[insulting_comment_df['insult'] == 1].iloc[0:7877, :]"
   ]
  },
  {
   "cell_type": "code",
   "execution_count": 65,
   "id": "b03ba82a",
   "metadata": {
    "execution": {
     "iopub.execute_input": "2024-05-15T06:19:12.672747Z",
     "iopub.status.busy": "2024-05-15T06:19:12.672294Z",
     "iopub.status.idle": "2024-05-15T06:19:12.690021Z",
     "shell.execute_reply": "2024-05-15T06:19:12.689059Z"
    },
    "papermill": {
     "duration": 0.055004,
     "end_time": "2024-05-15T06:19:12.692481",
     "exception": false,
     "start_time": "2024-05-15T06:19:12.637477",
     "status": "completed"
    },
    "tags": []
   },
   "outputs": [],
   "source": [
    "insulting_comment_df_0 = insulting_comment_df[insulting_comment_df['insult'] == 0].iloc[0:7877, :]"
   ]
  },
  {
   "cell_type": "code",
   "execution_count": 66,
   "id": "201119bc",
   "metadata": {
    "execution": {
     "iopub.execute_input": "2024-05-15T06:19:12.758219Z",
     "iopub.status.busy": "2024-05-15T06:19:12.757861Z",
     "iopub.status.idle": "2024-05-15T06:19:12.767108Z",
     "shell.execute_reply": "2024-05-15T06:19:12.765998Z"
    },
    "papermill": {
     "duration": 0.044556,
     "end_time": "2024-05-15T06:19:12.769340",
     "exception": false,
     "start_time": "2024-05-15T06:19:12.724784",
     "status": "completed"
    },
    "tags": []
   },
   "outputs": [
    {
     "data": {
      "text/plain": [
       "((7877, 3), (7877, 3), (15754, 3))"
      ]
     },
     "execution_count": 66,
     "metadata": {},
     "output_type": "execute_result"
    }
   ],
   "source": [
    "insulting_comment_balanced = pd.concat([insulting_comment_df_1, insulting_comment_df_0])\n",
    "insulting_comment_df_1.shape, insulting_comment_df_0.shape, insulting_comment_balanced.shape"
   ]
  },
  {
   "cell_type": "code",
   "execution_count": null,
   "id": "525c9263",
   "metadata": {
    "papermill": {
     "duration": 0.031414,
     "end_time": "2024-05-15T06:19:12.832587",
     "exception": false,
     "start_time": "2024-05-15T06:19:12.801173",
     "status": "completed"
    },
    "tags": []
   },
   "outputs": [],
   "source": []
  },
  {
   "cell_type": "code",
   "execution_count": null,
   "id": "96ec3326",
   "metadata": {
    "papermill": {
     "duration": 0.031057,
     "end_time": "2024-05-15T06:19:12.895283",
     "exception": false,
     "start_time": "2024-05-15T06:19:12.864226",
     "status": "completed"
    },
    "tags": []
   },
   "outputs": [],
   "source": []
  },
  {
   "cell_type": "code",
   "execution_count": 67,
   "id": "8715c90f",
   "metadata": {
    "execution": {
     "iopub.execute_input": "2024-05-15T06:19:12.960267Z",
     "iopub.status.busy": "2024-05-15T06:19:12.959397Z",
     "iopub.status.idle": "2024-05-15T06:19:12.963843Z",
     "shell.execute_reply": "2024-05-15T06:19:12.963070Z"
    },
    "papermill": {
     "duration": 0.038954,
     "end_time": "2024-05-15T06:19:12.965814",
     "exception": false,
     "start_time": "2024-05-15T06:19:12.926860",
     "status": "completed"
    },
    "tags": []
   },
   "outputs": [],
   "source": [
    "# Machine Learning"
   ]
  },
  {
   "cell_type": "code",
   "execution_count": 68,
   "id": "b6e005ec",
   "metadata": {
    "execution": {
     "iopub.execute_input": "2024-05-15T06:19:13.030719Z",
     "iopub.status.busy": "2024-05-15T06:19:13.030060Z",
     "iopub.status.idle": "2024-05-15T06:19:13.230910Z",
     "shell.execute_reply": "2024-05-15T06:19:13.229712Z"
    },
    "papermill": {
     "duration": 0.236323,
     "end_time": "2024-05-15T06:19:13.233454",
     "exception": false,
     "start_time": "2024-05-15T06:19:12.997131",
     "status": "completed"
    },
    "tags": []
   },
   "outputs": [],
   "source": [
    "from sklearn import preprocessing\n",
    "from sklearn.feature_selection import SelectFromModel\n",
    "\n",
    "from sklearn.model_selection import train_test_split, KFold, cross_val_score\n",
    "from sklearn.metrics import f1_score, precision_score, recall_score, precision_recall_curve, fbeta_score, confusion_matrix\n",
    "from sklearn.metrics import roc_auc_score, roc_curve\n",
    "\n",
    "from sklearn.linear_model import LogisticRegression\n",
    "from sklearn.neighbors import KNeighborsClassifier\n",
    "from sklearn.naive_bayes import MultinomialNB, BernoulliNB\n",
    "from sklearn.svm import LinearSVC\n",
    "from sklearn.ensemble import RandomForestClassifier\n",
    "\n",
    "from sklearn.feature_extraction.text import CountVectorizer, TfidfVectorizer\n",
    "from nltk import ngrams, bigrams, trigrams"
   ]
  },
  {
   "cell_type": "code",
   "execution_count": 69,
   "id": "298d1905",
   "metadata": {
    "execution": {
     "iopub.execute_input": "2024-05-15T06:19:13.298057Z",
     "iopub.status.busy": "2024-05-15T06:19:13.297663Z",
     "iopub.status.idle": "2024-05-15T06:19:13.308498Z",
     "shell.execute_reply": "2024-05-15T06:19:13.307424Z"
    },
    "papermill": {
     "duration": 0.045984,
     "end_time": "2024-05-15T06:19:13.310808",
     "exception": false,
     "start_time": "2024-05-15T06:19:13.264824",
     "status": "completed"
    },
    "tags": []
   },
   "outputs": [],
   "source": [
    "def cv_tf_train_test(dataframe, label, vectorizer, ngram):\n",
    "    # split the data into X and y datasets\n",
    "    X = dataframe.comment_text\n",
    "    y = dataframe[label]\n",
    "    \n",
    "    # Split our data into training and test data\n",
    "    X_train, X_test, y_train, y_test = train_test_split(X, y, test_size = 0.3, random_state=50)\n",
    "    \n",
    "    # Using vectorize and removing stopwords\n",
    "    cv1 = vectorizer(ngram_range=(ngram), stop_words='english')\n",
    "    \n",
    "    # transforming x-traian and x-test\n",
    "    X_train_cv1 = cv1.fit_transform(X_train)\n",
    "    X_test_cv1 = cv1.transform(X_test)\n",
    "    \n",
    "    # Machine learning models\n",
    "    \n",
    "    ## Logistic regression\n",
    "    lr = LogisticRegression()\n",
    "    lr.fit(X_train_cv1, y_train)\n",
    "    \n",
    "    ## K-nearest neightbours\n",
    "    knn = KNeighborsClassifier(n_neighbors=5)\n",
    "    knn.fit(X_train_cv1, y_train)\n",
    "    \n",
    "    ## Naive Bayes\n",
    "    bnb = BernoulliNB()\n",
    "    bnb.fit(X_train_cv1, y_train)\n",
    "    \n",
    "    ## Multinomial Naice bayes\n",
    "    mnb = MultinomialNB()\n",
    "    mnb.fit(X_train_cv1, y_train)\n",
    "    \n",
    "    # Support vector machine\n",
    "    svm_model = LinearSVC()\n",
    "    svm_model.fit(X_train_cv1, y_train)\n",
    "    \n",
    "    # Random Forest\n",
    "    randomforest = RandomForestClassifier(n_estimators=100, random_state=50)\n",
    "    randomforest.fit(X_train_cv1, y_train)\n",
    "    \n",
    "    f1_score_data = {'F1 score': [f1_score(lr.predict(X_test_cv1), y_test), f1_score(knn.predict(X_test_cv1), y_test),\n",
    "                                 f1_score(bnb.predict(X_test_cv1), y_test), f1_score(mnb.predict(X_test_cv1), y_test),\n",
    "                                 f1_score(svm_model.predict(X_test_cv1), y_test), f1_score(randomforest.predict(X_test_cv1), y_test)]}\n",
    "    \n",
    "    # Saving f1 score results into a dataframe\n",
    "    df_f1 = pd.DataFrame(f1_score_data, index=['Log Regression', 'KNN','BernoulliNB','MultinomialNB','SVM', 'Random Forest'])\n",
    "    \n",
    "    return df_f1"
   ]
  },
  {
   "cell_type": "code",
   "execution_count": 70,
   "id": "b9a5ba01",
   "metadata": {
    "execution": {
     "iopub.execute_input": "2024-05-15T06:19:13.375601Z",
     "iopub.status.busy": "2024-05-15T06:19:13.374961Z",
     "iopub.status.idle": "2024-05-15T06:19:13.379544Z",
     "shell.execute_reply": "2024-05-15T06:19:13.378522Z"
    },
    "papermill": {
     "duration": 0.039437,
     "end_time": "2024-05-15T06:19:13.381701",
     "exception": false,
     "start_time": "2024-05-15T06:19:13.342264",
     "status": "completed"
    },
    "tags": []
   },
   "outputs": [],
   "source": [
    "# Evaluating model performance using evaluation metrics"
   ]
  },
  {
   "cell_type": "code",
   "execution_count": 71,
   "id": "733b7ccd",
   "metadata": {
    "execution": {
     "iopub.execute_input": "2024-05-15T06:19:13.445955Z",
     "iopub.status.busy": "2024-05-15T06:19:13.445597Z",
     "iopub.status.idle": "2024-05-15T06:19:16.596544Z",
     "shell.execute_reply": "2024-05-15T06:19:16.595343Z"
    },
    "papermill": {
     "duration": 3.186316,
     "end_time": "2024-05-15T06:19:16.599284",
     "exception": false,
     "start_time": "2024-05-15T06:19:13.412968",
     "status": "completed"
    },
    "tags": []
   },
   "outputs": [],
   "source": [
    "severe_toxic_comment_cv = cv_tf_train_test(severe_comment_balanced, 'severe_toxic', TfidfVectorizer, (1,1))"
   ]
  },
  {
   "cell_type": "code",
   "execution_count": 72,
   "id": "9f96e86d",
   "metadata": {
    "execution": {
     "iopub.execute_input": "2024-05-15T06:19:16.665980Z",
     "iopub.status.busy": "2024-05-15T06:19:16.665584Z",
     "iopub.status.idle": "2024-05-15T06:19:16.676317Z",
     "shell.execute_reply": "2024-05-15T06:19:16.675304Z"
    },
    "papermill": {
     "duration": 0.046544,
     "end_time": "2024-05-15T06:19:16.678423",
     "exception": false,
     "start_time": "2024-05-15T06:19:16.631879",
     "status": "completed"
    },
    "tags": []
   },
   "outputs": [
    {
     "data": {
      "text/html": [
       "<div>\n",
       "<style scoped>\n",
       "    .dataframe tbody tr th:only-of-type {\n",
       "        vertical-align: middle;\n",
       "    }\n",
       "\n",
       "    .dataframe tbody tr th {\n",
       "        vertical-align: top;\n",
       "    }\n",
       "\n",
       "    .dataframe thead th {\n",
       "        text-align: right;\n",
       "    }\n",
       "</style>\n",
       "<table border=\"1\" class=\"dataframe\">\n",
       "  <thead>\n",
       "    <tr style=\"text-align: right;\">\n",
       "      <th></th>\n",
       "      <th>F1 score</th>\n",
       "    </tr>\n",
       "  </thead>\n",
       "  <tbody>\n",
       "    <tr>\n",
       "      <th>Log Regression</th>\n",
       "      <td>0.946004</td>\n",
       "    </tr>\n",
       "    <tr>\n",
       "      <th>KNN</th>\n",
       "      <td>0.861836</td>\n",
       "    </tr>\n",
       "    <tr>\n",
       "      <th>BernoulliNB</th>\n",
       "      <td>0.789700</td>\n",
       "    </tr>\n",
       "    <tr>\n",
       "      <th>MultinomialNB</th>\n",
       "      <td>0.930041</td>\n",
       "    </tr>\n",
       "    <tr>\n",
       "      <th>SVM</th>\n",
       "      <td>0.936763</td>\n",
       "    </tr>\n",
       "    <tr>\n",
       "      <th>Random Forest</th>\n",
       "      <td>0.923237</td>\n",
       "    </tr>\n",
       "  </tbody>\n",
       "</table>\n",
       "</div>"
      ],
      "text/plain": [
       "                F1 score\n",
       "Log Regression  0.946004\n",
       "KNN             0.861836\n",
       "BernoulliNB     0.789700\n",
       "MultinomialNB   0.930041\n",
       "SVM             0.936763\n",
       "Random Forest   0.923237"
      ]
     },
     "execution_count": 72,
     "metadata": {},
     "output_type": "execute_result"
    }
   ],
   "source": [
    "severe_toxic_comment_cv\n",
    "# LogRegression is the best estimator for severee toxic"
   ]
  },
  {
   "cell_type": "code",
   "execution_count": 73,
   "id": "4e9e413a",
   "metadata": {
    "execution": {
     "iopub.execute_input": "2024-05-15T06:19:16.748258Z",
     "iopub.status.busy": "2024-05-15T06:19:16.747876Z",
     "iopub.status.idle": "2024-05-15T06:19:57.057731Z",
     "shell.execute_reply": "2024-05-15T06:19:57.056425Z"
    },
    "papermill": {
     "duration": 40.37814,
     "end_time": "2024-05-15T06:19:57.091463",
     "exception": false,
     "start_time": "2024-05-15T06:19:16.713323",
     "status": "completed"
    },
    "tags": []
   },
   "outputs": [
    {
     "data": {
      "text/html": [
       "<div>\n",
       "<style scoped>\n",
       "    .dataframe tbody tr th:only-of-type {\n",
       "        vertical-align: middle;\n",
       "    }\n",
       "\n",
       "    .dataframe tbody tr th {\n",
       "        vertical-align: top;\n",
       "    }\n",
       "\n",
       "    .dataframe thead th {\n",
       "        text-align: right;\n",
       "    }\n",
       "</style>\n",
       "<table border=\"1\" class=\"dataframe\">\n",
       "  <thead>\n",
       "    <tr style=\"text-align: right;\">\n",
       "      <th></th>\n",
       "      <th>F1 score (Obscene)</th>\n",
       "    </tr>\n",
       "  </thead>\n",
       "  <tbody>\n",
       "    <tr>\n",
       "      <th>Log Regression</th>\n",
       "      <td>0.916327</td>\n",
       "    </tr>\n",
       "    <tr>\n",
       "      <th>KNN</th>\n",
       "      <td>0.751443</td>\n",
       "    </tr>\n",
       "    <tr>\n",
       "      <th>BernoulliNB</th>\n",
       "      <td>0.786767</td>\n",
       "    </tr>\n",
       "    <tr>\n",
       "      <th>MultinomialNB</th>\n",
       "      <td>0.898175</td>\n",
       "    </tr>\n",
       "    <tr>\n",
       "      <th>SVM</th>\n",
       "      <td>0.930924</td>\n",
       "    </tr>\n",
       "    <tr>\n",
       "      <th>Random Forest</th>\n",
       "      <td>0.908311</td>\n",
       "    </tr>\n",
       "  </tbody>\n",
       "</table>\n",
       "</div>"
      ],
      "text/plain": [
       "                F1 score (Obscene)\n",
       "Log Regression            0.916327\n",
       "KNN                       0.751443\n",
       "BernoulliNB               0.786767\n",
       "MultinomialNB             0.898175\n",
       "SVM                       0.930924\n",
       "Random Forest             0.908311"
      ]
     },
     "execution_count": 73,
     "metadata": {},
     "output_type": "execute_result"
    }
   ],
   "source": [
    "obscene_toxic_comment_cv = cv_tf_train_test(obscene_comment_balanced, 'obscene', TfidfVectorizer, (1,1))\n",
    "obscene_toxic_comment_cv.rename(columns={'F1 score':'F1 score (Obscene)'}, inplace=True) # Change column name\n",
    "obscene_toxic_comment_cv\n",
    "# LogRegression is the best estimator for obscene toxic"
   ]
  },
  {
   "cell_type": "code",
   "execution_count": 74,
   "id": "bb7eeb86",
   "metadata": {
    "execution": {
     "iopub.execute_input": "2024-05-15T06:19:57.158512Z",
     "iopub.status.busy": "2024-05-15T06:19:57.158076Z",
     "iopub.status.idle": "2024-05-15T06:19:57.861564Z",
     "shell.execute_reply": "2024-05-15T06:19:57.860293Z"
    },
    "papermill": {
     "duration": 0.739934,
     "end_time": "2024-05-15T06:19:57.863907",
     "exception": false,
     "start_time": "2024-05-15T06:19:57.123973",
     "status": "completed"
    },
    "tags": []
   },
   "outputs": [
    {
     "data": {
      "text/html": [
       "<div>\n",
       "<style scoped>\n",
       "    .dataframe tbody tr th:only-of-type {\n",
       "        vertical-align: middle;\n",
       "    }\n",
       "\n",
       "    .dataframe tbody tr th {\n",
       "        vertical-align: top;\n",
       "    }\n",
       "\n",
       "    .dataframe thead th {\n",
       "        text-align: right;\n",
       "    }\n",
       "</style>\n",
       "<table border=\"1\" class=\"dataframe\">\n",
       "  <thead>\n",
       "    <tr style=\"text-align: right;\">\n",
       "      <th></th>\n",
       "      <th>F1 score (threat)</th>\n",
       "    </tr>\n",
       "  </thead>\n",
       "  <tbody>\n",
       "    <tr>\n",
       "      <th>Log Regression</th>\n",
       "      <td>0.905660</td>\n",
       "    </tr>\n",
       "    <tr>\n",
       "      <th>KNN</th>\n",
       "      <td>0.865574</td>\n",
       "    </tr>\n",
       "    <tr>\n",
       "      <th>BernoulliNB</th>\n",
       "      <td>0.751381</td>\n",
       "    </tr>\n",
       "    <tr>\n",
       "      <th>MultinomialNB</th>\n",
       "      <td>0.912281</td>\n",
       "    </tr>\n",
       "    <tr>\n",
       "      <th>SVM</th>\n",
       "      <td>0.898876</td>\n",
       "    </tr>\n",
       "    <tr>\n",
       "      <th>Random Forest</th>\n",
       "      <td>0.904594</td>\n",
       "    </tr>\n",
       "  </tbody>\n",
       "</table>\n",
       "</div>"
      ],
      "text/plain": [
       "                F1 score (threat)\n",
       "Log Regression           0.905660\n",
       "KNN                      0.865574\n",
       "BernoulliNB              0.751381\n",
       "MultinomialNB            0.912281\n",
       "SVM                      0.898876\n",
       "Random Forest            0.904594"
      ]
     },
     "execution_count": 74,
     "metadata": {},
     "output_type": "execute_result"
    }
   ],
   "source": [
    "threetening_toxic_comment_cv = cv_tf_train_test(threetening_comment_balanced, 'threat', TfidfVectorizer, (1,1))\n",
    "threetening_toxic_comment_cv.rename(columns={'F1 score':'F1 score (threat)'}, inplace=True) # Change column name\n",
    "threetening_toxic_comment_cv\n",
    "# MultinomialNB is the best estimator for threeetening comment"
   ]
  },
  {
   "cell_type": "code",
   "execution_count": 75,
   "id": "f9c296fe",
   "metadata": {
    "execution": {
     "iopub.execute_input": "2024-05-15T06:19:57.932371Z",
     "iopub.status.busy": "2024-05-15T06:19:57.931940Z",
     "iopub.status.idle": "2024-05-15T06:20:36.947242Z",
     "shell.execute_reply": "2024-05-15T06:20:36.946159Z"
    },
    "papermill": {
     "duration": 39.082834,
     "end_time": "2024-05-15T06:20:36.981239",
     "exception": false,
     "start_time": "2024-05-15T06:19:57.898405",
     "status": "completed"
    },
    "tags": []
   },
   "outputs": [
    {
     "data": {
      "text/html": [
       "<div>\n",
       "<style scoped>\n",
       "    .dataframe tbody tr th:only-of-type {\n",
       "        vertical-align: middle;\n",
       "    }\n",
       "\n",
       "    .dataframe tbody tr th {\n",
       "        vertical-align: top;\n",
       "    }\n",
       "\n",
       "    .dataframe thead th {\n",
       "        text-align: right;\n",
       "    }\n",
       "</style>\n",
       "<table border=\"1\" class=\"dataframe\">\n",
       "  <thead>\n",
       "    <tr style=\"text-align: right;\">\n",
       "      <th></th>\n",
       "      <th>F1 score (insult)</th>\n",
       "    </tr>\n",
       "  </thead>\n",
       "  <tbody>\n",
       "    <tr>\n",
       "      <th>Log Regression</th>\n",
       "      <td>0.905841</td>\n",
       "    </tr>\n",
       "    <tr>\n",
       "      <th>KNN</th>\n",
       "      <td>0.414705</td>\n",
       "    </tr>\n",
       "    <tr>\n",
       "      <th>BernoulliNB</th>\n",
       "      <td>0.790218</td>\n",
       "    </tr>\n",
       "    <tr>\n",
       "      <th>MultinomialNB</th>\n",
       "      <td>0.899832</td>\n",
       "    </tr>\n",
       "    <tr>\n",
       "      <th>SVM</th>\n",
       "      <td>0.908157</td>\n",
       "    </tr>\n",
       "    <tr>\n",
       "      <th>Random Forest</th>\n",
       "      <td>0.890742</td>\n",
       "    </tr>\n",
       "  </tbody>\n",
       "</table>\n",
       "</div>"
      ],
      "text/plain": [
       "                F1 score (insult)\n",
       "Log Regression           0.905841\n",
       "KNN                      0.414705\n",
       "BernoulliNB              0.790218\n",
       "MultinomialNB            0.899832\n",
       "SVM                      0.908157\n",
       "Random Forest            0.890742"
      ]
     },
     "execution_count": 75,
     "metadata": {},
     "output_type": "execute_result"
    }
   ],
   "source": [
    "insulting_toxic_comment_cv = cv_tf_train_test(insulting_comment_balanced, 'insult', TfidfVectorizer, (1,1))\n",
    "insulting_toxic_comment_cv.rename(columns={'F1 score':'F1 score (insult)'}, inplace=True) # Change column name\n",
    "insulting_toxic_comment_cv\n",
    "# SVM is the best estimator for insulting comment "
   ]
  },
  {
   "cell_type": "code",
   "execution_count": 76,
   "id": "36221c8e",
   "metadata": {
    "execution": {
     "iopub.execute_input": "2024-05-15T06:20:37.047678Z",
     "iopub.status.busy": "2024-05-15T06:20:37.047245Z",
     "iopub.status.idle": "2024-05-15T06:20:39.737940Z",
     "shell.execute_reply": "2024-05-15T06:20:39.736473Z"
    },
    "papermill": {
     "duration": 2.727999,
     "end_time": "2024-05-15T06:20:39.741429",
     "exception": false,
     "start_time": "2024-05-15T06:20:37.013430",
     "status": "completed"
    },
    "tags": []
   },
   "outputs": [
    {
     "data": {
      "text/html": [
       "<div>\n",
       "<style scoped>\n",
       "    .dataframe tbody tr th:only-of-type {\n",
       "        vertical-align: middle;\n",
       "    }\n",
       "\n",
       "    .dataframe tbody tr th {\n",
       "        vertical-align: top;\n",
       "    }\n",
       "\n",
       "    .dataframe thead th {\n",
       "        text-align: right;\n",
       "    }\n",
       "</style>\n",
       "<table border=\"1\" class=\"dataframe\">\n",
       "  <thead>\n",
       "    <tr style=\"text-align: right;\">\n",
       "      <th></th>\n",
       "      <th>F1 score (identity_hate)</th>\n",
       "    </tr>\n",
       "  </thead>\n",
       "  <tbody>\n",
       "    <tr>\n",
       "      <th>Log Regression</th>\n",
       "      <td>0.907063</td>\n",
       "    </tr>\n",
       "    <tr>\n",
       "      <th>KNN</th>\n",
       "      <td>0.825766</td>\n",
       "    </tr>\n",
       "    <tr>\n",
       "      <th>BernoulliNB</th>\n",
       "      <td>0.774879</td>\n",
       "    </tr>\n",
       "    <tr>\n",
       "      <th>MultinomialNB</th>\n",
       "      <td>0.902238</td>\n",
       "    </tr>\n",
       "    <tr>\n",
       "      <th>SVM</th>\n",
       "      <td>0.900857</td>\n",
       "    </tr>\n",
       "    <tr>\n",
       "      <th>Random Forest</th>\n",
       "      <td>0.865604</td>\n",
       "    </tr>\n",
       "  </tbody>\n",
       "</table>\n",
       "</div>"
      ],
      "text/plain": [
       "                F1 score (identity_hate)\n",
       "Log Regression                  0.907063\n",
       "KNN                             0.825766\n",
       "BernoulliNB                     0.774879\n",
       "MultinomialNB                   0.902238\n",
       "SVM                             0.900857\n",
       "Random Forest                   0.865604"
      ]
     },
     "execution_count": 76,
     "metadata": {},
     "output_type": "execute_result"
    }
   ],
   "source": [
    "identityhate_toxic_comment_cv = cv_tf_train_test(identityhate_comment_balanced, 'identity_hate', TfidfVectorizer, (1,1))\n",
    "identityhate_toxic_comment_cv.rename(columns={'F1 score':'F1 score (identity_hate)'}, inplace=True) # Change column name\n",
    "identityhate_toxic_comment_cv\n",
    "# LogRegression is the best estimator for identity hate "
   ]
  },
  {
   "cell_type": "code",
   "execution_count": 77,
   "id": "88f90b56",
   "metadata": {
    "execution": {
     "iopub.execute_input": "2024-05-15T06:20:39.822393Z",
     "iopub.status.busy": "2024-05-15T06:20:39.820799Z",
     "iopub.status.idle": "2024-05-15T06:20:39.834766Z",
     "shell.execute_reply": "2024-05-15T06:20:39.833559Z"
    },
    "papermill": {
     "duration": 0.051192,
     "end_time": "2024-05-15T06:20:39.837247",
     "exception": false,
     "start_time": "2024-05-15T06:20:39.786055",
     "status": "completed"
    },
    "tags": []
   },
   "outputs": [
    {
     "data": {
      "text/html": [
       "<div>\n",
       "<style scoped>\n",
       "    .dataframe tbody tr th:only-of-type {\n",
       "        vertical-align: middle;\n",
       "    }\n",
       "\n",
       "    .dataframe tbody tr th {\n",
       "        vertical-align: top;\n",
       "    }\n",
       "\n",
       "    .dataframe thead th {\n",
       "        text-align: right;\n",
       "    }\n",
       "</style>\n",
       "<table border=\"1\" class=\"dataframe\">\n",
       "  <thead>\n",
       "    <tr style=\"text-align: right;\">\n",
       "      <th></th>\n",
       "      <th>id</th>\n",
       "      <th>comment_text</th>\n",
       "      <th>toxic</th>\n",
       "    </tr>\n",
       "  </thead>\n",
       "  <tbody>\n",
       "    <tr>\n",
       "      <th>6</th>\n",
       "      <td>0002bcb3da6cb337</td>\n",
       "      <td>COCKSUCKER BEFORE YOU PISS AROUND ON MY WORK</td>\n",
       "      <td>1</td>\n",
       "    </tr>\n",
       "    <tr>\n",
       "      <th>12</th>\n",
       "      <td>0005c987bdfc9d4b</td>\n",
       "      <td>Hey... what is it..\\n@ | talk .\\nWhat is it......</td>\n",
       "      <td>1</td>\n",
       "    </tr>\n",
       "    <tr>\n",
       "      <th>16</th>\n",
       "      <td>0007e25b2121310b</td>\n",
       "      <td>Bye! \\n\\nDon't look, come or think of comming ...</td>\n",
       "      <td>1</td>\n",
       "    </tr>\n",
       "    <tr>\n",
       "      <th>42</th>\n",
       "      <td>001810bf8c45bf5f</td>\n",
       "      <td>You are gay or antisemmitian? \\n\\nArchangel WH...</td>\n",
       "      <td>1</td>\n",
       "    </tr>\n",
       "    <tr>\n",
       "      <th>43</th>\n",
       "      <td>00190820581d90ce</td>\n",
       "      <td>FUCK YOUR FILTHY MOTHER IN THE ASS, DRY!</td>\n",
       "      <td>1</td>\n",
       "    </tr>\n",
       "    <tr>\n",
       "      <th>...</th>\n",
       "      <td>...</td>\n",
       "      <td>...</td>\n",
       "      <td>...</td>\n",
       "    </tr>\n",
       "    <tr>\n",
       "      <th>5544</th>\n",
       "      <td>0ece9249484eddb9</td>\n",
       "      <td>Electronic Intifada is not an activist site! W...</td>\n",
       "      <td>0</td>\n",
       "    </tr>\n",
       "    <tr>\n",
       "      <th>5545</th>\n",
       "      <td>0ece971b58a3def7</td>\n",
       "      <td>New Genre \\n\\nThe New genre supernatural was u...</td>\n",
       "      <td>0</td>\n",
       "    </tr>\n",
       "    <tr>\n",
       "      <th>5547</th>\n",
       "      <td>0ecf7cde3391615b</td>\n",
       "      <td>— translated as The Second Vatican Council: A ...</td>\n",
       "      <td>0</td>\n",
       "    </tr>\n",
       "    <tr>\n",
       "      <th>5549</th>\n",
       "      <td>0ed11396420e8531</td>\n",
       "      <td>Purpose\\nThis RfC will be used to determine co...</td>\n",
       "      <td>0</td>\n",
       "    </tr>\n",
       "    <tr>\n",
       "      <th>5550</th>\n",
       "      <td>0ed1f43ff87d1a97</td>\n",
       "      <td>\"\\nOne need not be a graduate to be an alumnus...</td>\n",
       "      <td>0</td>\n",
       "    </tr>\n",
       "  </tbody>\n",
       "</table>\n",
       "<p>10000 rows × 3 columns</p>\n",
       "</div>"
      ],
      "text/plain": [
       "                    id                                       comment_text  \\\n",
       "6     0002bcb3da6cb337       COCKSUCKER BEFORE YOU PISS AROUND ON MY WORK   \n",
       "12    0005c987bdfc9d4b  Hey... what is it..\\n@ | talk .\\nWhat is it......   \n",
       "16    0007e25b2121310b  Bye! \\n\\nDon't look, come or think of comming ...   \n",
       "42    001810bf8c45bf5f  You are gay or antisemmitian? \\n\\nArchangel WH...   \n",
       "43    00190820581d90ce           FUCK YOUR FILTHY MOTHER IN THE ASS, DRY!   \n",
       "...                ...                                                ...   \n",
       "5544  0ece9249484eddb9  Electronic Intifada is not an activist site! W...   \n",
       "5545  0ece971b58a3def7  New Genre \\n\\nThe New genre supernatural was u...   \n",
       "5547  0ecf7cde3391615b  — translated as The Second Vatican Council: A ...   \n",
       "5549  0ed11396420e8531  Purpose\\nThis RfC will be used to determine co...   \n",
       "5550  0ed1f43ff87d1a97  \"\\nOne need not be a graduate to be an alumnus...   \n",
       "\n",
       "      toxic  \n",
       "6         1  \n",
       "12        1  \n",
       "16        1  \n",
       "42        1  \n",
       "43        1  \n",
       "...     ...  \n",
       "5544      0  \n",
       "5545      0  \n",
       "5547      0  \n",
       "5549      0  \n",
       "5550      0  \n",
       "\n",
       "[10000 rows x 3 columns]"
      ]
     },
     "execution_count": 77,
     "metadata": {},
     "output_type": "execute_result"
    }
   ],
   "source": [
    "toxic_comment_balanced"
   ]
  },
  {
   "cell_type": "code",
   "execution_count": 78,
   "id": "2ba8a5be",
   "metadata": {
    "execution": {
     "iopub.execute_input": "2024-05-15T06:20:39.908109Z",
     "iopub.status.busy": "2024-05-15T06:20:39.906712Z",
     "iopub.status.idle": "2024-05-15T06:20:52.157975Z",
     "shell.execute_reply": "2024-05-15T06:20:52.156800Z"
    },
    "papermill": {
     "duration": 12.289972,
     "end_time": "2024-05-15T06:20:52.160654",
     "exception": false,
     "start_time": "2024-05-15T06:20:39.870682",
     "status": "completed"
    },
    "tags": []
   },
   "outputs": [
    {
     "data": {
      "text/plain": [
       "array([0, 1, 1, ..., 1, 0, 1])"
      ]
     },
     "execution_count": 78,
     "metadata": {},
     "output_type": "execute_result"
    }
   ],
   "source": [
    "X = toxic_comment_balanced.comment_text\n",
    "y = toxic_comment_balanced['toxic']\n",
    "\n",
    "X_train, X_test, y_train, y_test = train_test_split(X, y, test_size=0.3, random_state=42)\n",
    "\n",
    "tfv = TfidfVectorizer(ngram_range=(1,1), stop_words=['english'] )\n",
    "\n",
    "X_train_fit = tfv.fit_transform(X_train)\n",
    "X_test_fit = tfv.transform(X_test)\n",
    "\n",
    "randomforest = RandomForestClassifier(n_estimators=100, random_state=50)\n",
    "\n",
    "randomforest.fit(X_train_fit, y_train)\n",
    "randomforest.predict(X_test_fit)"
   ]
  },
  {
   "cell_type": "code",
   "execution_count": 79,
   "id": "14b8923b",
   "metadata": {
    "execution": {
     "iopub.execute_input": "2024-05-15T06:20:52.230939Z",
     "iopub.status.busy": "2024-05-15T06:20:52.230529Z",
     "iopub.status.idle": "2024-05-15T06:20:52.234433Z",
     "shell.execute_reply": "2024-05-15T06:20:52.233572Z"
    },
    "papermill": {
     "duration": 0.040848,
     "end_time": "2024-05-15T06:20:52.236460",
     "exception": false,
     "start_time": "2024-05-15T06:20:52.195612",
     "status": "completed"
    },
    "tags": []
   },
   "outputs": [],
   "source": [
    "# Testing the model to check if the given text is toxic or not"
   ]
  },
  {
   "cell_type": "code",
   "execution_count": 80,
   "id": "331ef732",
   "metadata": {
    "execution": {
     "iopub.execute_input": "2024-05-15T06:20:52.306436Z",
     "iopub.status.busy": "2024-05-15T06:20:52.305762Z",
     "iopub.status.idle": "2024-05-15T06:20:52.321389Z",
     "shell.execute_reply": "2024-05-15T06:20:52.320202Z"
    },
    "papermill": {
     "duration": 0.053709,
     "end_time": "2024-05-15T06:20:52.323874",
     "exception": false,
     "start_time": "2024-05-15T06:20:52.270165",
     "status": "completed"
    },
    "tags": []
   },
   "outputs": [
    {
     "data": {
      "text/plain": [
       "array([[0.42, 0.58]])"
      ]
     },
     "execution_count": 80,
     "metadata": {},
     "output_type": "execute_result"
    }
   ],
   "source": [
    "comment_1 = ['i killed an insect and ate it']\n",
    "comment_1_vec = tfv.transform(comment_1)\n",
    "randomforest.predict_proba(comment_1_vec)\n",
    "# As seen below the above comment as 58% toxic"
   ]
  },
  {
   "cell_type": "code",
   "execution_count": 81,
   "id": "2bd80239",
   "metadata": {
    "execution": {
     "iopub.execute_input": "2024-05-15T06:20:52.392717Z",
     "iopub.status.busy": "2024-05-15T06:20:52.392270Z",
     "iopub.status.idle": "2024-05-15T06:20:52.408176Z",
     "shell.execute_reply": "2024-05-15T06:20:52.407106Z"
    },
    "papermill": {
     "duration": 0.053084,
     "end_time": "2024-05-15T06:20:52.410558",
     "exception": false,
     "start_time": "2024-05-15T06:20:52.357474",
     "status": "completed"
    },
    "tags": []
   },
   "outputs": [
    {
     "data": {
      "text/plain": [
       "array([[0.58, 0.42]])"
      ]
     },
     "execution_count": 81,
     "metadata": {},
     "output_type": "execute_result"
    }
   ],
   "source": [
    "comment_2 = ['iis this sentence a good one']\n",
    "comment_2_vec = tfv.transform(comment_2)\n",
    "randomforest.predict_proba(comment_2_vec)\n",
    "# As seen below the above comment as 58% not toxic"
   ]
  },
  {
   "cell_type": "code",
   "execution_count": 82,
   "id": "442791e0",
   "metadata": {
    "execution": {
     "iopub.execute_input": "2024-05-15T06:20:52.479379Z",
     "iopub.status.busy": "2024-05-15T06:20:52.478924Z",
     "iopub.status.idle": "2024-05-15T06:20:52.497423Z",
     "shell.execute_reply": "2024-05-15T06:20:52.496293Z"
    },
    "papermill": {
     "duration": 0.05629,
     "end_time": "2024-05-15T06:20:52.500008",
     "exception": false,
     "start_time": "2024-05-15T06:20:52.443718",
     "status": "completed"
    },
    "tags": []
   },
   "outputs": [
    {
     "data": {
      "text/plain": [
       "array([[0.31, 0.69]])"
      ]
     },
     "execution_count": 82,
     "metadata": {},
     "output_type": "execute_result"
    }
   ],
   "source": [
    "comment_3 = ['truth will prevail']\n",
    "comment_3_vec = tfv.transform(comment_3)\n",
    "randomforest.predict_proba(comment_3_vec)\n",
    "# As seen below the above comment as 69% toxic"
   ]
  },
  {
   "cell_type": "markdown",
   "id": "8c142312",
   "metadata": {
    "papermill": {
     "duration": 0.033341,
     "end_time": "2024-05-15T06:20:52.567129",
     "exception": false,
     "start_time": "2024-05-15T06:20:52.533788",
     "status": "completed"
    },
    "tags": []
   },
   "source": [
    "Kesimpulan : \n",
    "*     LogRegression is the best estimator for severee toxic\n",
    "*     LogRegression is the best estimator for obscene toxic\n",
    "*     MultinomialNB is the best estimator for threeetening comment\n",
    "*     SVM is the best estimator for insulting comment\n",
    "*     LogRegression is the best estimator for identity hate "
   ]
  },
  {
   "cell_type": "code",
   "execution_count": null,
   "id": "9307f173",
   "metadata": {
    "papermill": {
     "duration": 0.034485,
     "end_time": "2024-05-15T06:20:52.635746",
     "exception": false,
     "start_time": "2024-05-15T06:20:52.601261",
     "status": "completed"
    },
    "tags": []
   },
   "outputs": [],
   "source": []
  },
  {
   "cell_type": "code",
   "execution_count": null,
   "id": "9ae4939e",
   "metadata": {
    "papermill": {
     "duration": 0.033301,
     "end_time": "2024-05-15T06:20:52.702543",
     "exception": false,
     "start_time": "2024-05-15T06:20:52.669242",
     "status": "completed"
    },
    "tags": []
   },
   "outputs": [],
   "source": []
  },
  {
   "cell_type": "code",
   "execution_count": null,
   "id": "8b5a3d29",
   "metadata": {
    "papermill": {
     "duration": 0.033761,
     "end_time": "2024-05-15T06:20:52.769847",
     "exception": false,
     "start_time": "2024-05-15T06:20:52.736086",
     "status": "completed"
    },
    "tags": []
   },
   "outputs": [],
   "source": []
  }
 ],
 "metadata": {
  "kaggle": {
   "accelerator": "none",
   "dataSources": [
    {
     "datasetId": 4921672,
     "sourceId": 8286408,
     "sourceType": "datasetVersion"
    }
   ],
   "dockerImageVersionId": 30698,
   "isGpuEnabled": false,
   "isInternetEnabled": false,
   "language": "python",
   "sourceType": "notebook"
  },
  "kernelspec": {
   "display_name": "Python 3",
   "language": "python",
   "name": "python3"
  },
  "language_info": {
   "codemirror_mode": {
    "name": "ipython",
    "version": 3
   },
   "file_extension": ".py",
   "mimetype": "text/x-python",
   "name": "python",
   "nbconvert_exporter": "python",
   "pygments_lexer": "ipython3",
   "version": "3.10.13"
  },
  "papermill": {
   "default_parameters": {},
   "duration": 281.150163,
   "end_time": "2024-05-15T06:20:53.628442",
   "environment_variables": {},
   "exception": null,
   "input_path": "__notebook__.ipynb",
   "output_path": "__notebook__.ipynb",
   "parameters": {},
   "start_time": "2024-05-15T06:16:12.478279",
   "version": "2.5.0"
  }
 },
 "nbformat": 4,
 "nbformat_minor": 5
}
