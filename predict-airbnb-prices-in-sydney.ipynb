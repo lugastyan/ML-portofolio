{
 "cells": [
  {
   "cell_type": "raw",
   "id": "9caf637f",
   "metadata": {
    "_cell_guid": "b1076dfc-b9ad-4769-8c92-a6c4dae69d19",
    "_uuid": "8f2839f25d086af736a60e9eeb907d3b93b6e0e5",
    "papermill": {
     "duration": 0.007235,
     "end_time": "2024-02-05T09:12:31.684761",
     "exception": false,
     "start_time": "2024-02-05T09:12:31.677526",
     "status": "completed"
    },
    "tags": []
   },
   "source": [
    "# This Python 3 environment comes with many helpful analytics libraries installed\n",
    "# It is defined by the kaggle/python Docker image: https://github.com/kaggle/docker-python\n",
    "# For example, here's several helpful packages to load\n",
    "\n",
    "import numpy as np # linear algebra\n",
    "import pandas as pd # data processing, CSV file I/O (e.g. pd.read_csv)\n",
    "\n",
    "# Input data files are available in the read-only \"../input/\" directory\n",
    "# For example, running this (by clicking run or pressing Shift+Enter) will list all files under the input directory\n",
    "\n",
    "import os\n",
    "for dirname, _, filenames in os.walk('/kaggle/input'):\n",
    "    for filename in filenames:\n",
    "        print(os.path.join(dirname, filename))\n",
    "\n",
    "# You can write up to 20GB to the current directory (/kaggle/working/) that gets preserved as output when you create a version using \"Save & Run All\" \n",
    "# You can also write temporary files to /kaggle/temp/, but they won't be saved outside of the current session"
   ]
  },
  {
   "cell_type": "markdown",
   "id": "51ec39b5",
   "metadata": {
    "papermill": {
     "duration": 0.006796,
     "end_time": "2024-02-05T09:12:31.698591",
     "exception": false,
     "start_time": "2024-02-05T09:12:31.691795",
     "status": "completed"
    },
    "tags": []
   },
   "source": [
    "Selamat datang di Airbnb Analysis Corp! Tugas kita adalah menetapkan harga harian yang bersaing untuk rumah klien di Bondi Beach. Saat ini, pemilik menetapkan harga $500. Kita perlu memperkirakan nilai yang adil yang seharusnya dienakkan oleh pemilik. Berikut adalah info tentang rumah tersebut. Saat kita bikin model ini, kita menyadari bahwa Airbnb bisa pakai model ini untuk tentuin harga yang adil buat properti apa pun di database mereka; kita praktis bikin saran harga buat semua calon tuan rumah!\n",
    "\n",
    "Pemilik sudah menjadi tuan rumah sejak Agustus 2010\n",
    "Lokasi: lon:151.274506, lat:33.889087\n",
    "Skor ulasan saat ini 95,0 dengan 53 ulasan\n",
    "Menginap minimum 4 malam\n",
    "Rumah bisa menampung 10 orang.\n",
    "Pemilik saat ini menetapkan biaya kebersihan sebesar $370\n",
    "Rumah memiliki 3 kamar mandi, 5 kamar tidur, 7 tempat tidur.\n",
    "Rumah tersedia selama 255 dari 365 hari berikutnya\n",
    "Klien terverifikasi, dan mereka adalah tuan rumah super.\n",
    "Kebijakan pembatalan ketat dengan periode penangguhan 14 hari.\n",
    "Tuan rumah memerlukan deposit keamanan sebesar $1,500\n",
    "Semua nilai ini berlaku ketat untuk bulan Juli 2018.\n",
    "\n",
    "\n",
    "\n",
    "\n",
    "\n"
   ]
  },
  {
   "cell_type": "code",
   "execution_count": 1,
   "id": "0bbe3daa",
   "metadata": {
    "execution": {
     "iopub.execute_input": "2024-02-05T09:12:31.714798Z",
     "iopub.status.busy": "2024-02-05T09:12:31.713936Z",
     "iopub.status.idle": "2024-02-05T09:12:31.730916Z",
     "shell.execute_reply": "2024-02-05T09:12:31.729850Z"
    },
    "papermill": {
     "duration": 0.028267,
     "end_time": "2024-02-05T09:12:31.733842",
     "exception": false,
     "start_time": "2024-02-05T09:12:31.705575",
     "status": "completed"
    },
    "tags": []
   },
   "outputs": [],
   "source": [
    "# Defining the sample client data\n",
    "from dateutil import parser\n",
    "dict_client = {}\n",
    "\n",
    "dict_client['city'] = 'Bondi Beach'\n",
    "dict_client['longitude'] = 151.274506\n",
    "dict_client['latitude'] = -33.889087\n",
    "dict_client['review_scores_rating'] = 95\n",
    "dict_client['number_of_reviews'] = 53\n",
    "dict_client['minimum_nights'] = 4\n",
    "dict_client['accommodates'] = 10\n",
    "dict_client['bathrooms'] = 3\n",
    "dict_client['bedrooms'] = 5\n",
    "dict_client['beds'] = 7\n",
    "dict_client['security_deposit'] = 1500\n",
    "dict_client['cleaning_fee'] = 370\n",
    "dict_client['property_type'] = 'House'\n",
    "dict_client['room_type'] = 'Entire home/apt'\n",
    "dict_client['availability_365'] = 255 \n",
    "dict_client['host_identity_verified'] = 't' ## 1 for yes, 0 for no \n",
    "dict_client['host_is_superhost'] = 't'\n",
    "dict_client['cancellation_policy'] = 'strict_14_with_grace_period'\n",
    "dict_client['host_since'] = parser.parse('01-08-2010')"
   ]
  },
  {
   "cell_type": "code",
   "execution_count": null,
   "id": "c212e87b",
   "metadata": {
    "papermill": {
     "duration": 0.006156,
     "end_time": "2024-02-05T09:12:31.746540",
     "exception": false,
     "start_time": "2024-02-05T09:12:31.740384",
     "status": "completed"
    },
    "tags": []
   },
   "outputs": [],
   "source": []
  },
  {
   "cell_type": "markdown",
   "id": "ca367569",
   "metadata": {
    "papermill": {
     "duration": 0.006837,
     "end_time": "2024-02-05T09:12:31.760000",
     "exception": false,
     "start_time": "2024-02-05T09:12:31.753163",
     "status": "completed"
    },
    "tags": []
   },
   "source": [
    "Get The Data"
   ]
  },
  {
   "cell_type": "code",
   "execution_count": 2,
   "id": "021eb962",
   "metadata": {
    "execution": {
     "iopub.execute_input": "2024-02-05T09:12:31.775495Z",
     "iopub.status.busy": "2024-02-05T09:12:31.774693Z",
     "iopub.status.idle": "2024-02-05T09:12:37.504493Z",
     "shell.execute_reply": "2024-02-05T09:12:37.503244Z"
    },
    "papermill": {
     "duration": 5.741169,
     "end_time": "2024-02-05T09:12:37.507868",
     "exception": false,
     "start_time": "2024-02-05T09:12:31.766699",
     "status": "completed"
    },
    "tags": []
   },
   "outputs": [
    {
     "name": "stderr",
     "output_type": "stream",
     "text": [
      "/tmp/ipykernel_18/4153482700.py:4: DtypeWarning: Columns (36,54,55) have mixed types. Specify dtype option on import or set low_memory=False.\n",
      "  df = pd.read_csv('/kaggle/input/sydney-airbnb/sydney_airbnb.csv')\n"
     ]
    },
    {
     "data": {
      "text/html": [
       "<div>\n",
       "<style scoped>\n",
       "    .dataframe tbody tr th:only-of-type {\n",
       "        vertical-align: middle;\n",
       "    }\n",
       "\n",
       "    .dataframe tbody tr th {\n",
       "        vertical-align: top;\n",
       "    }\n",
       "\n",
       "    .dataframe thead th {\n",
       "        text-align: right;\n",
       "    }\n",
       "</style>\n",
       "<table border=\"1\" class=\"dataframe\">\n",
       "  <thead>\n",
       "    <tr style=\"text-align: right;\">\n",
       "      <th></th>\n",
       "      <th>id</th>\n",
       "      <th>listing_url</th>\n",
       "      <th>name</th>\n",
       "      <th>summary</th>\n",
       "      <th>space</th>\n",
       "      <th>description</th>\n",
       "      <th>neighborhood_overview</th>\n",
       "      <th>notes</th>\n",
       "      <th>transit</th>\n",
       "      <th>access</th>\n",
       "      <th>...</th>\n",
       "      <th>review_scores_checkin</th>\n",
       "      <th>review_scores_communication</th>\n",
       "      <th>review_scores_location</th>\n",
       "      <th>review_scores_value</th>\n",
       "      <th>instant_bookable</th>\n",
       "      <th>cancellation_policy</th>\n",
       "      <th>require_guest_profile_picture</th>\n",
       "      <th>require_guest_phone_verification</th>\n",
       "      <th>calculated_host_listings_count</th>\n",
       "      <th>reviews_per_month</th>\n",
       "    </tr>\n",
       "  </thead>\n",
       "  <tbody>\n",
       "    <tr>\n",
       "      <th>0</th>\n",
       "      <td>11156</td>\n",
       "      <td>https://www.airbnb.com/rooms/11156</td>\n",
       "      <td>An Oasis in the City</td>\n",
       "      <td>Very central to the city which can be reached ...</td>\n",
       "      <td>Potts Pt. is a vibrant  and popular inner-city...</td>\n",
       "      <td>Very central to the city which can be reached ...</td>\n",
       "      <td>It is very close to everything and everywhere,...</td>\n",
       "      <td>$150.00 key security deposit, refundable on re...</td>\n",
       "      <td>It is 7 minutes walk to the Kings Cross.train ...</td>\n",
       "      <td>Kitchen &amp; laundry facilities.   Shared bathroom.</td>\n",
       "      <td>...</td>\n",
       "      <td>10.0</td>\n",
       "      <td>10.0</td>\n",
       "      <td>10.0</td>\n",
       "      <td>9.0</td>\n",
       "      <td>f</td>\n",
       "      <td>moderate</td>\n",
       "      <td>f</td>\n",
       "      <td>f</td>\n",
       "      <td>1</td>\n",
       "      <td>1.69</td>\n",
       "    </tr>\n",
       "    <tr>\n",
       "      <th>1</th>\n",
       "      <td>12351</td>\n",
       "      <td>https://www.airbnb.com/rooms/12351</td>\n",
       "      <td>Sydney City &amp; Harbour at the door</td>\n",
       "      <td>Come stay with Vinh &amp; Stuart (Awarded as one o...</td>\n",
       "      <td>We're pretty relaxed hosts, and we fully appre...</td>\n",
       "      <td>Come stay with Vinh &amp; Stuart (Awarded as one o...</td>\n",
       "      <td>Pyrmont is an inner-city village of Sydney, on...</td>\n",
       "      <td>We've a few reasons for the 6.00pm arrival tim...</td>\n",
       "      <td>Our home is centrally located and an easy walk...</td>\n",
       "      <td>We look forward to welcoming you just as we wo...</td>\n",
       "      <td>...</td>\n",
       "      <td>10.0</td>\n",
       "      <td>10.0</td>\n",
       "      <td>10.0</td>\n",
       "      <td>10.0</td>\n",
       "      <td>f</td>\n",
       "      <td>strict_14_with_grace_period</td>\n",
       "      <td>t</td>\n",
       "      <td>t</td>\n",
       "      <td>2</td>\n",
       "      <td>4.83</td>\n",
       "    </tr>\n",
       "    <tr>\n",
       "      <th>2</th>\n",
       "      <td>14250</td>\n",
       "      <td>https://www.airbnb.com/rooms/14250</td>\n",
       "      <td>Manly Harbour House</td>\n",
       "      <td>Beautifully renovated, spacious and quiet, our...</td>\n",
       "      <td>Our home is a thirty minute walk along the sea...</td>\n",
       "      <td>Beautifully renovated, spacious and quiet, our...</td>\n",
       "      <td>Balgowlah Heights is one of the most prestigio...</td>\n",
       "      <td>NaN</td>\n",
       "      <td>Balgowlah - Manly bus # 131 or #132  (Bus stop...</td>\n",
       "      <td>Guests have access to whole house except locke...</td>\n",
       "      <td>...</td>\n",
       "      <td>10.0</td>\n",
       "      <td>8.0</td>\n",
       "      <td>10.0</td>\n",
       "      <td>10.0</td>\n",
       "      <td>f</td>\n",
       "      <td>strict_14_with_grace_period</td>\n",
       "      <td>f</td>\n",
       "      <td>f</td>\n",
       "      <td>2</td>\n",
       "      <td>0.03</td>\n",
       "    </tr>\n",
       "    <tr>\n",
       "      <th>3</th>\n",
       "      <td>14935</td>\n",
       "      <td>https://www.airbnb.com/rooms/14935</td>\n",
       "      <td>Eco-conscious Travellers: Private Room</td>\n",
       "      <td>Welcome! This apartment will suit a short term...</td>\n",
       "      <td>I live upstairs in my own room with my own bat...</td>\n",
       "      <td>Welcome! This apartment will suit a short term...</td>\n",
       "      <td>NaN</td>\n",
       "      <td>The building can be hard to find, so please en...</td>\n",
       "      <td>DIRECTIONS VIA TAXI: Get dropped off at Renwic...</td>\n",
       "      <td>I work from home most times - so if I'm home, ...</td>\n",
       "      <td>...</td>\n",
       "      <td>9.0</td>\n",
       "      <td>10.0</td>\n",
       "      <td>9.0</td>\n",
       "      <td>9.0</td>\n",
       "      <td>f</td>\n",
       "      <td>moderate</td>\n",
       "      <td>f</td>\n",
       "      <td>f</td>\n",
       "      <td>2</td>\n",
       "      <td>2.14</td>\n",
       "    </tr>\n",
       "    <tr>\n",
       "      <th>4</th>\n",
       "      <td>14974</td>\n",
       "      <td>https://www.airbnb.com/rooms/14974</td>\n",
       "      <td>Eco-conscious Traveller: Sofa Couch</td>\n",
       "      <td>Welcome! This apartment will suit a short term...</td>\n",
       "      <td>Comes with a fully equipped gym and pool - whi...</td>\n",
       "      <td>Welcome! This apartment will suit a short term...</td>\n",
       "      <td>NaN</td>\n",
       "      <td>I live upstairs in my own room with my own bat...</td>\n",
       "      <td>DIRECTIONS VIA TAXI: Get dropped off at Renwic...</td>\n",
       "      <td>I work from home most times - so if I'm home, ...</td>\n",
       "      <td>...</td>\n",
       "      <td>9.0</td>\n",
       "      <td>9.0</td>\n",
       "      <td>9.0</td>\n",
       "      <td>9.0</td>\n",
       "      <td>f</td>\n",
       "      <td>moderate</td>\n",
       "      <td>f</td>\n",
       "      <td>f</td>\n",
       "      <td>2</td>\n",
       "      <td>1.78</td>\n",
       "    </tr>\n",
       "  </tbody>\n",
       "</table>\n",
       "<p>5 rows × 84 columns</p>\n",
       "</div>"
      ],
      "text/plain": [
       "      id                         listing_url  \\\n",
       "0  11156  https://www.airbnb.com/rooms/11156   \n",
       "1  12351  https://www.airbnb.com/rooms/12351   \n",
       "2  14250  https://www.airbnb.com/rooms/14250   \n",
       "3  14935  https://www.airbnb.com/rooms/14935   \n",
       "4  14974  https://www.airbnb.com/rooms/14974   \n",
       "\n",
       "                                     name  \\\n",
       "0                    An Oasis in the City   \n",
       "1       Sydney City & Harbour at the door   \n",
       "2                     Manly Harbour House   \n",
       "3  Eco-conscious Travellers: Private Room   \n",
       "4     Eco-conscious Traveller: Sofa Couch   \n",
       "\n",
       "                                             summary  \\\n",
       "0  Very central to the city which can be reached ...   \n",
       "1  Come stay with Vinh & Stuart (Awarded as one o...   \n",
       "2  Beautifully renovated, spacious and quiet, our...   \n",
       "3  Welcome! This apartment will suit a short term...   \n",
       "4  Welcome! This apartment will suit a short term...   \n",
       "\n",
       "                                               space  \\\n",
       "0  Potts Pt. is a vibrant  and popular inner-city...   \n",
       "1  We're pretty relaxed hosts, and we fully appre...   \n",
       "2  Our home is a thirty minute walk along the sea...   \n",
       "3  I live upstairs in my own room with my own bat...   \n",
       "4  Comes with a fully equipped gym and pool - whi...   \n",
       "\n",
       "                                         description  \\\n",
       "0  Very central to the city which can be reached ...   \n",
       "1  Come stay with Vinh & Stuart (Awarded as one o...   \n",
       "2  Beautifully renovated, spacious and quiet, our...   \n",
       "3  Welcome! This apartment will suit a short term...   \n",
       "4  Welcome! This apartment will suit a short term...   \n",
       "\n",
       "                               neighborhood_overview  \\\n",
       "0  It is very close to everything and everywhere,...   \n",
       "1  Pyrmont is an inner-city village of Sydney, on...   \n",
       "2  Balgowlah Heights is one of the most prestigio...   \n",
       "3                                                NaN   \n",
       "4                                                NaN   \n",
       "\n",
       "                                               notes  \\\n",
       "0  $150.00 key security deposit, refundable on re...   \n",
       "1  We've a few reasons for the 6.00pm arrival tim...   \n",
       "2                                                NaN   \n",
       "3  The building can be hard to find, so please en...   \n",
       "4  I live upstairs in my own room with my own bat...   \n",
       "\n",
       "                                             transit  \\\n",
       "0  It is 7 minutes walk to the Kings Cross.train ...   \n",
       "1  Our home is centrally located and an easy walk...   \n",
       "2  Balgowlah - Manly bus # 131 or #132  (Bus stop...   \n",
       "3  DIRECTIONS VIA TAXI: Get dropped off at Renwic...   \n",
       "4  DIRECTIONS VIA TAXI: Get dropped off at Renwic...   \n",
       "\n",
       "                                              access  ...  \\\n",
       "0   Kitchen & laundry facilities.   Shared bathroom.  ...   \n",
       "1  We look forward to welcoming you just as we wo...  ...   \n",
       "2  Guests have access to whole house except locke...  ...   \n",
       "3  I work from home most times - so if I'm home, ...  ...   \n",
       "4  I work from home most times - so if I'm home, ...  ...   \n",
       "\n",
       "  review_scores_checkin review_scores_communication review_scores_location  \\\n",
       "0                  10.0                        10.0                   10.0   \n",
       "1                  10.0                        10.0                   10.0   \n",
       "2                  10.0                         8.0                   10.0   \n",
       "3                   9.0                        10.0                    9.0   \n",
       "4                   9.0                         9.0                    9.0   \n",
       "\n",
       "   review_scores_value instant_bookable          cancellation_policy  \\\n",
       "0                  9.0                f                     moderate   \n",
       "1                 10.0                f  strict_14_with_grace_period   \n",
       "2                 10.0                f  strict_14_with_grace_period   \n",
       "3                  9.0                f                     moderate   \n",
       "4                  9.0                f                     moderate   \n",
       "\n",
       "  require_guest_profile_picture require_guest_phone_verification  \\\n",
       "0                             f                                f   \n",
       "1                             t                                t   \n",
       "2                             f                                f   \n",
       "3                             f                                f   \n",
       "4                             f                                f   \n",
       "\n",
       "  calculated_host_listings_count reviews_per_month  \n",
       "0                              1              1.69  \n",
       "1                              2              4.83  \n",
       "2                              2              0.03  \n",
       "3                              2              2.14  \n",
       "4                              2              1.78  \n",
       "\n",
       "[5 rows x 84 columns]"
      ]
     },
     "execution_count": 2,
     "metadata": {},
     "output_type": "execute_result"
    }
   ],
   "source": [
    "from pathlib import Path\n",
    "import pandas as pd\n",
    "\n",
    "df = pd.read_csv('/kaggle/input/sydney-airbnb/sydney_airbnb.csv')\n",
    "df.head()"
   ]
  },
  {
   "cell_type": "code",
   "execution_count": 3,
   "id": "51168eb6",
   "metadata": {
    "execution": {
     "iopub.execute_input": "2024-02-05T09:12:37.524372Z",
     "iopub.status.busy": "2024-02-05T09:12:37.523953Z",
     "iopub.status.idle": "2024-02-05T09:12:37.532601Z",
     "shell.execute_reply": "2024-02-05T09:12:37.531487Z"
    },
    "papermill": {
     "duration": 0.019988,
     "end_time": "2024-02-05T09:12:37.535222",
     "exception": false,
     "start_time": "2024-02-05T09:12:37.515234",
     "status": "completed"
    },
    "tags": []
   },
   "outputs": [
    {
     "data": {
      "text/plain": [
       "Index(['id', 'listing_url', 'name', 'summary', 'space', 'description',\n",
       "       'neighborhood_overview', 'notes', 'transit', 'access', 'interaction',\n",
       "       'house_rules', 'picture_url', 'host_id', 'host_url', 'host_name',\n",
       "       'host_since', 'host_location', 'host_about', 'host_response_time',\n",
       "       'host_response_rate', 'host_is_superhost', 'host_thumbnail_url',\n",
       "       'host_picture_url', 'host_neighbourhood', 'host_listings_count',\n",
       "       'host_total_listings_count', 'host_verifications',\n",
       "       'host_has_profile_pic', 'host_identity_verified', 'street',\n",
       "       'neighbourhood', 'neighbourhood_cleansed',\n",
       "       'neighbourhood_group_cleansed', 'city', 'state', 'zipcode', 'market',\n",
       "       'smart_location', 'country_code', 'country', 'latitude', 'longitude',\n",
       "       'is_location_exact', 'property_type', 'room_type', 'accommodates',\n",
       "       'bathrooms', 'bedrooms', 'beds', 'bed_type', 'amenities', 'square_feet',\n",
       "       'price', 'weekly_price', 'monthly_price', 'security_deposit',\n",
       "       'cleaning_fee', 'guests_included', 'extra_people', 'minimum_nights',\n",
       "       'maximum_nights', 'calendar_updated', 'has_availability',\n",
       "       'availability_30', 'availability_60', 'availability_90',\n",
       "       'availability_365', 'number_of_reviews', 'first_review', 'last_review',\n",
       "       'review_scores_rating', 'review_scores_accuracy',\n",
       "       'review_scores_cleanliness', 'review_scores_checkin',\n",
       "       'review_scores_communication', 'review_scores_location',\n",
       "       'review_scores_value', 'instant_bookable', 'cancellation_policy',\n",
       "       'require_guest_profile_picture', 'require_guest_phone_verification',\n",
       "       'calculated_host_listings_count', 'reviews_per_month'],\n",
       "      dtype='object')"
      ]
     },
     "execution_count": 3,
     "metadata": {},
     "output_type": "execute_result"
    }
   ],
   "source": [
    "df.columns"
   ]
  },
  {
   "cell_type": "markdown",
   "id": "e94fe34d",
   "metadata": {
    "papermill": {
     "duration": 0.007596,
     "end_time": "2024-02-05T09:12:37.550198",
     "exception": false,
     "start_time": "2024-02-05T09:12:37.542602",
     "status": "completed"
    },
    "tags": []
   },
   "source": []
  },
  {
   "cell_type": "code",
   "execution_count": 4,
   "id": "4c11fdac",
   "metadata": {
    "execution": {
     "iopub.execute_input": "2024-02-05T09:12:37.566831Z",
     "iopub.status.busy": "2024-02-05T09:12:37.566389Z",
     "iopub.status.idle": "2024-02-05T09:12:37.577708Z",
     "shell.execute_reply": "2024-02-05T09:12:37.576473Z"
    },
    "papermill": {
     "duration": 0.023119,
     "end_time": "2024-02-05T09:12:37.580628",
     "exception": false,
     "start_time": "2024-02-05T09:12:37.557509",
     "status": "completed"
    },
    "tags": []
   },
   "outputs": [],
   "source": [
    "# We just use some features\n",
    "incl = ['price', 'city', 'longitude', 'latitude', 'review_scores_rating', 'number_of_reviews', 'minimum_nights', 'security_deposit', 'cleaning_fee', 'accommodates', 'bathrooms', 'bedrooms', 'beds', 'property_type', 'availability_365', 'host_identity_verified', 'host_is_superhost', 'host_since', 'cancellation_policy']\n",
    "\n",
    "df = df[incl]"
   ]
  },
  {
   "cell_type": "code",
   "execution_count": 5,
   "id": "baa7a8cb",
   "metadata": {
    "execution": {
     "iopub.execute_input": "2024-02-05T09:12:37.598241Z",
     "iopub.status.busy": "2024-02-05T09:12:37.596858Z",
     "iopub.status.idle": "2024-02-05T09:12:37.632957Z",
     "shell.execute_reply": "2024-02-05T09:12:37.631291Z"
    },
    "papermill": {
     "duration": 0.048301,
     "end_time": "2024-02-05T09:12:37.636349",
     "exception": false,
     "start_time": "2024-02-05T09:12:37.588048",
     "status": "completed"
    },
    "tags": []
   },
   "outputs": [
    {
     "data": {
      "text/html": [
       "<div>\n",
       "<style scoped>\n",
       "    .dataframe tbody tr th:only-of-type {\n",
       "        vertical-align: middle;\n",
       "    }\n",
       "\n",
       "    .dataframe tbody tr th {\n",
       "        vertical-align: top;\n",
       "    }\n",
       "\n",
       "    .dataframe thead th {\n",
       "        text-align: right;\n",
       "    }\n",
       "</style>\n",
       "<table border=\"1\" class=\"dataframe\">\n",
       "  <thead>\n",
       "    <tr style=\"text-align: right;\">\n",
       "      <th></th>\n",
       "      <th>price</th>\n",
       "      <th>city</th>\n",
       "      <th>longitude</th>\n",
       "      <th>latitude</th>\n",
       "      <th>review_scores_rating</th>\n",
       "      <th>number_of_reviews</th>\n",
       "      <th>minimum_nights</th>\n",
       "      <th>security_deposit</th>\n",
       "      <th>cleaning_fee</th>\n",
       "      <th>accommodates</th>\n",
       "      <th>bathrooms</th>\n",
       "      <th>bedrooms</th>\n",
       "      <th>beds</th>\n",
       "      <th>property_type</th>\n",
       "      <th>availability_365</th>\n",
       "      <th>host_identity_verified</th>\n",
       "      <th>host_is_superhost</th>\n",
       "      <th>host_since</th>\n",
       "      <th>cancellation_policy</th>\n",
       "    </tr>\n",
       "  </thead>\n",
       "  <tbody>\n",
       "    <tr>\n",
       "      <th>0</th>\n",
       "      <td>$65.00</td>\n",
       "      <td>Potts Point</td>\n",
       "      <td>151.226562</td>\n",
       "      <td>-33.869168</td>\n",
       "      <td>92.0</td>\n",
       "      <td>177</td>\n",
       "      <td>2</td>\n",
       "      <td>NaN</td>\n",
       "      <td>NaN</td>\n",
       "      <td>1</td>\n",
       "      <td>NaN</td>\n",
       "      <td>1.0</td>\n",
       "      <td>1.0</td>\n",
       "      <td>Apartment</td>\n",
       "      <td>339</td>\n",
       "      <td>f</td>\n",
       "      <td>t</td>\n",
       "      <td>23/09/09</td>\n",
       "      <td>moderate</td>\n",
       "    </tr>\n",
       "    <tr>\n",
       "      <th>1</th>\n",
       "      <td>$98.00</td>\n",
       "      <td>Pyrmont</td>\n",
       "      <td>151.191896</td>\n",
       "      <td>-33.865153</td>\n",
       "      <td>95.0</td>\n",
       "      <td>468</td>\n",
       "      <td>2</td>\n",
       "      <td>$0.00</td>\n",
       "      <td>$55.00</td>\n",
       "      <td>2</td>\n",
       "      <td>1.0</td>\n",
       "      <td>1.0</td>\n",
       "      <td>1.0</td>\n",
       "      <td>Townhouse</td>\n",
       "      <td>188</td>\n",
       "      <td>t</td>\n",
       "      <td>f</td>\n",
       "      <td>14/05/09</td>\n",
       "      <td>strict_14_with_grace_period</td>\n",
       "    </tr>\n",
       "    <tr>\n",
       "      <th>2</th>\n",
       "      <td>$469.00</td>\n",
       "      <td>Balgowlah</td>\n",
       "      <td>151.261722</td>\n",
       "      <td>-33.800929</td>\n",
       "      <td>100.0</td>\n",
       "      <td>1</td>\n",
       "      <td>5</td>\n",
       "      <td>$900.00</td>\n",
       "      <td>$100.00</td>\n",
       "      <td>6</td>\n",
       "      <td>3.0</td>\n",
       "      <td>3.0</td>\n",
       "      <td>3.0</td>\n",
       "      <td>House</td>\n",
       "      <td>168</td>\n",
       "      <td>t</td>\n",
       "      <td>f</td>\n",
       "      <td>20/11/09</td>\n",
       "      <td>strict_14_with_grace_period</td>\n",
       "    </tr>\n",
       "    <tr>\n",
       "      <th>3</th>\n",
       "      <td>$63.00</td>\n",
       "      <td>Redfern</td>\n",
       "      <td>151.200450</td>\n",
       "      <td>-33.890765</td>\n",
       "      <td>89.0</td>\n",
       "      <td>172</td>\n",
       "      <td>2</td>\n",
       "      <td>NaN</td>\n",
       "      <td>NaN</td>\n",
       "      <td>2</td>\n",
       "      <td>1.0</td>\n",
       "      <td>1.0</td>\n",
       "      <td>1.0</td>\n",
       "      <td>Apartment</td>\n",
       "      <td>215</td>\n",
       "      <td>t</td>\n",
       "      <td>f</td>\n",
       "      <td>30/11/09</td>\n",
       "      <td>moderate</td>\n",
       "    </tr>\n",
       "    <tr>\n",
       "      <th>4</th>\n",
       "      <td>$39.00</td>\n",
       "      <td>Redfern</td>\n",
       "      <td>151.200896</td>\n",
       "      <td>-33.889667</td>\n",
       "      <td>90.0</td>\n",
       "      <td>147</td>\n",
       "      <td>2</td>\n",
       "      <td>NaN</td>\n",
       "      <td>NaN</td>\n",
       "      <td>1</td>\n",
       "      <td>2.0</td>\n",
       "      <td>1.0</td>\n",
       "      <td>1.0</td>\n",
       "      <td>Apartment</td>\n",
       "      <td>287</td>\n",
       "      <td>t</td>\n",
       "      <td>f</td>\n",
       "      <td>30/11/09</td>\n",
       "      <td>moderate</td>\n",
       "    </tr>\n",
       "  </tbody>\n",
       "</table>\n",
       "</div>"
      ],
      "text/plain": [
       "      price         city   longitude   latitude  review_scores_rating  \\\n",
       "0   $65.00   Potts Point  151.226562 -33.869168                  92.0   \n",
       "1   $98.00       Pyrmont  151.191896 -33.865153                  95.0   \n",
       "2  $469.00     Balgowlah  151.261722 -33.800929                 100.0   \n",
       "3   $63.00       Redfern  151.200450 -33.890765                  89.0   \n",
       "4   $39.00       Redfern  151.200896 -33.889667                  90.0   \n",
       "\n",
       "   number_of_reviews  minimum_nights security_deposit cleaning_fee  \\\n",
       "0                177               2              NaN          NaN   \n",
       "1                468               2           $0.00       $55.00    \n",
       "2                  1               5         $900.00      $100.00    \n",
       "3                172               2              NaN          NaN   \n",
       "4                147               2              NaN          NaN   \n",
       "\n",
       "   accommodates  bathrooms  bedrooms  beds property_type  availability_365  \\\n",
       "0             1        NaN       1.0   1.0     Apartment               339   \n",
       "1             2        1.0       1.0   1.0     Townhouse               188   \n",
       "2             6        3.0       3.0   3.0         House               168   \n",
       "3             2        1.0       1.0   1.0     Apartment               215   \n",
       "4             1        2.0       1.0   1.0     Apartment               287   \n",
       "\n",
       "  host_identity_verified host_is_superhost host_since  \\\n",
       "0                      f                 t   23/09/09   \n",
       "1                      t                 f   14/05/09   \n",
       "2                      t                 f   20/11/09   \n",
       "3                      t                 f   30/11/09   \n",
       "4                      t                 f   30/11/09   \n",
       "\n",
       "           cancellation_policy  \n",
       "0                     moderate  \n",
       "1  strict_14_with_grace_period  \n",
       "2  strict_14_with_grace_period  \n",
       "3                     moderate  \n",
       "4                     moderate  "
      ]
     },
     "execution_count": 5,
     "metadata": {},
     "output_type": "execute_result"
    }
   ],
   "source": [
    "df.head()"
   ]
  },
  {
   "cell_type": "code",
   "execution_count": 6,
   "id": "dace9546",
   "metadata": {
    "execution": {
     "iopub.execute_input": "2024-02-05T09:12:37.659546Z",
     "iopub.status.busy": "2024-02-05T09:12:37.659139Z",
     "iopub.status.idle": "2024-02-05T09:12:37.668510Z",
     "shell.execute_reply": "2024-02-05T09:12:37.667125Z"
    },
    "papermill": {
     "duration": 0.025417,
     "end_time": "2024-02-05T09:12:37.672160",
     "exception": false,
     "start_time": "2024-02-05T09:12:37.646743",
     "status": "completed"
    },
    "tags": []
   },
   "outputs": [
    {
     "data": {
      "text/plain": [
       "(27070, 19)"
      ]
     },
     "execution_count": 6,
     "metadata": {},
     "output_type": "execute_result"
    }
   ],
   "source": [
    "df.shape"
   ]
  },
  {
   "cell_type": "markdown",
   "id": "b7529d5e",
   "metadata": {
    "papermill": {
     "duration": 0.008525,
     "end_time": "2024-02-05T09:12:37.690865",
     "exception": false,
     "start_time": "2024-02-05T09:12:37.682340",
     "status": "completed"
    },
    "tags": []
   },
   "source": [
    "The rpice field currently has '$' in it and is a string. Let's remove it and convert it to a float datatype.\n",
    "Also convert 'host_since' into data time format."
   ]
  },
  {
   "cell_type": "code",
   "execution_count": 7,
   "id": "b2ae7d45",
   "metadata": {
    "execution": {
     "iopub.execute_input": "2024-02-05T09:12:37.717403Z",
     "iopub.status.busy": "2024-02-05T09:12:37.716830Z",
     "iopub.status.idle": "2024-02-05T09:12:37.991577Z",
     "shell.execute_reply": "2024-02-05T09:12:37.990022Z"
    },
    "papermill": {
     "duration": 0.295364,
     "end_time": "2024-02-05T09:12:37.997006",
     "exception": false,
     "start_time": "2024-02-05T09:12:37.701642",
     "status": "completed"
    },
    "tags": []
   },
   "outputs": [],
   "source": [
    "# import regrex\n",
    "import re\n",
    "\n",
    "# The price fields in our data frame\n",
    "price_list = ['price','cleaning_fee','security_deposit']\n",
    "\n",
    "# We change any blanks to 0 and use our regex function to remove anythings that isn't a number\n",
    "for col in price_list:\n",
    "    df[col] = df[col].fillna('0')\n",
    "    df[col] = df[col].apply(lambda x: float(re.sub('[^0-9eE.]','',x)) if len(x)>0 else 0)\n",
    "\n"
   ]
  },
  {
   "cell_type": "code",
   "execution_count": 8,
   "id": "a0460fe6",
   "metadata": {
    "execution": {
     "iopub.execute_input": "2024-02-05T09:12:38.020391Z",
     "iopub.status.busy": "2024-02-05T09:12:38.019882Z",
     "iopub.status.idle": "2024-02-05T09:12:38.247243Z",
     "shell.execute_reply": "2024-02-05T09:12:38.245834Z"
    },
    "papermill": {
     "duration": 0.241959,
     "end_time": "2024-02-05T09:12:38.249932",
     "exception": false,
     "start_time": "2024-02-05T09:12:38.007973",
     "status": "completed"
    },
    "tags": []
   },
   "outputs": [
    {
     "name": "stderr",
     "output_type": "stream",
     "text": [
      "/tmp/ipykernel_18/410833246.py:1: UserWarning: Could not infer format, so each element will be parsed individually, falling back to `dateutil`. To ensure parsing is consistent and as-expected, please specify a format.\n",
      "  df['host_since'] = pd.to_datetime(df['host_since'])\n"
     ]
    }
   ],
   "source": [
    "df['host_since'] = pd.to_datetime(df['host_since'])"
   ]
  },
  {
   "cell_type": "code",
   "execution_count": 9,
   "id": "857cf683",
   "metadata": {
    "execution": {
     "iopub.execute_input": "2024-02-05T09:12:38.267727Z",
     "iopub.status.busy": "2024-02-05T09:12:38.267309Z",
     "iopub.status.idle": "2024-02-05T09:12:38.275412Z",
     "shell.execute_reply": "2024-02-05T09:12:38.274154Z"
    },
    "papermill": {
     "duration": 0.020062,
     "end_time": "2024-02-05T09:12:38.277979",
     "exception": false,
     "start_time": "2024-02-05T09:12:38.257917",
     "status": "completed"
    },
    "tags": []
   },
   "outputs": [
    {
     "data": {
      "text/plain": [
       "Timestamp('2009-11-30 00:00:00')"
      ]
     },
     "execution_count": 9,
     "metadata": {},
     "output_type": "execute_result"
    }
   ],
   "source": [
    "df['host_since'][4]"
   ]
  },
  {
   "cell_type": "code",
   "execution_count": 10,
   "id": "c53d623a",
   "metadata": {
    "execution": {
     "iopub.execute_input": "2024-02-05T09:12:38.297525Z",
     "iopub.status.busy": "2024-02-05T09:12:38.296504Z",
     "iopub.status.idle": "2024-02-05T09:12:38.310752Z",
     "shell.execute_reply": "2024-02-05T09:12:38.309356Z"
    },
    "papermill": {
     "duration": 0.026532,
     "end_time": "2024-02-05T09:12:38.313633",
     "exception": false,
     "start_time": "2024-02-05T09:12:38.287101",
     "status": "completed"
    },
    "tags": []
   },
   "outputs": [
    {
     "data": {
      "text/plain": [
       "20199     37.0\n",
       "3318     189.0\n",
       "5514     370.0\n",
       "5160     161.0\n",
       "2747     120.0\n",
       "13925    150.0\n",
       "21578    148.0\n",
       "23847    940.0\n",
       "10959     38.0\n",
       "2478     170.0\n",
       "Name: price, dtype: float64"
      ]
     },
     "execution_count": 10,
     "metadata": {},
     "output_type": "execute_result"
    }
   ],
   "source": [
    "df['price'].sample(10)"
   ]
  },
  {
   "cell_type": "code",
   "execution_count": 11,
   "id": "301382ce",
   "metadata": {
    "execution": {
     "iopub.execute_input": "2024-02-05T09:12:38.332475Z",
     "iopub.status.busy": "2024-02-05T09:12:38.332088Z",
     "iopub.status.idle": "2024-02-05T09:12:38.374463Z",
     "shell.execute_reply": "2024-02-05T09:12:38.372697Z"
    },
    "papermill": {
     "duration": 0.05507,
     "end_time": "2024-02-05T09:12:38.377393",
     "exception": false,
     "start_time": "2024-02-05T09:12:38.322323",
     "status": "completed"
    },
    "tags": []
   },
   "outputs": [
    {
     "name": "stdout",
     "output_type": "stream",
     "text": [
      "<class 'pandas.core.frame.DataFrame'>\n",
      "RangeIndex: 27070 entries, 0 to 27069\n",
      "Data columns (total 19 columns):\n",
      " #   Column                  Non-Null Count  Dtype         \n",
      "---  ------                  --------------  -----         \n",
      " 0   price                   27070 non-null  float64       \n",
      " 1   city                    27037 non-null  object        \n",
      " 2   longitude               27070 non-null  float64       \n",
      " 3   latitude                27070 non-null  float64       \n",
      " 4   review_scores_rating    19512 non-null  float64       \n",
      " 5   number_of_reviews       27070 non-null  int64         \n",
      " 6   minimum_nights          27070 non-null  int64         \n",
      " 7   security_deposit        27070 non-null  float64       \n",
      " 8   cleaning_fee            27070 non-null  float64       \n",
      " 9   accommodates            27070 non-null  int64         \n",
      " 10  bathrooms               27048 non-null  float64       \n",
      " 11  bedrooms                27062 non-null  float64       \n",
      " 12  beds                    27037 non-null  float64       \n",
      " 13  property_type           27070 non-null  object        \n",
      " 14  availability_365        27070 non-null  int64         \n",
      " 15  host_identity_verified  27035 non-null  object        \n",
      " 16  host_is_superhost       27035 non-null  object        \n",
      " 17  host_since              27035 non-null  datetime64[ns]\n",
      " 18  cancellation_policy     27070 non-null  object        \n",
      "dtypes: datetime64[ns](1), float64(9), int64(4), object(5)\n",
      "memory usage: 3.9+ MB\n"
     ]
    }
   ],
   "source": [
    "df.info()"
   ]
  },
  {
   "cell_type": "code",
   "execution_count": 12,
   "id": "b65a3fb7",
   "metadata": {
    "execution": {
     "iopub.execute_input": "2024-02-05T09:12:38.398496Z",
     "iopub.status.busy": "2024-02-05T09:12:38.397577Z",
     "iopub.status.idle": "2024-02-05T09:12:40.411558Z",
     "shell.execute_reply": "2024-02-05T09:12:40.410119Z"
    },
    "papermill": {
     "duration": 2.027741,
     "end_time": "2024-02-05T09:12:40.414158",
     "exception": false,
     "start_time": "2024-02-05T09:12:38.386417",
     "status": "completed"
    },
    "tags": []
   },
   "outputs": [
    {
     "data": {
      "text/plain": [
       "<Axes: ylabel='price'>"
      ]
     },
     "execution_count": 12,
     "metadata": {},
     "output_type": "execute_result"
    },
    {
     "data": {
      "image/png": "[encoded data removed]",
      "text/plain": [
       "<Figure size 640x480 with 1 Axes>"
      ]
     },
     "metadata": {},
     "output_type": "display_data"
    }
   ],
   "source": [
    "# Use boxplot to check for igh price values (outlier)\n",
    "import seaborn as sns\n",
    "\n",
    "sns.boxplot(y=df['price'])"
   ]
  },
  {
   "cell_type": "code",
   "execution_count": 13,
   "id": "0578ef27",
   "metadata": {
    "execution": {
     "iopub.execute_input": "2024-02-05T09:12:40.434435Z",
     "iopub.status.busy": "2024-02-05T09:12:40.434021Z",
     "iopub.status.idle": "2024-02-05T09:12:40.442652Z",
     "shell.execute_reply": "2024-02-05T09:12:40.441429Z"
    },
    "papermill": {
     "duration": 0.021753,
     "end_time": "2024-02-05T09:12:40.445161",
     "exception": false,
     "start_time": "2024-02-05T09:12:40.423408",
     "status": "completed"
    },
    "tags": []
   },
   "outputs": [
    {
     "data": {
      "text/plain": [
       "13.808558337216192"
      ]
     },
     "execution_count": 13,
     "metadata": {},
     "output_type": "execute_result"
    }
   ],
   "source": [
    "# We can see a few high value prices, with the majority being close to bottom (seem like ~100-200)\n",
    "# We now use skew to check for the summetry of the data distribution (0 being perfectly symetrical)\n",
    "df['price'].skew()"
   ]
  }
 ],
 "metadata": {
  "kaggle": {
   "accelerator": "none",
   "dataSources": [
    {
     "datasetId": 4401320,
     "sourceId": 7558100,
     "sourceType": "datasetVersion"
    }
   ],
   "dockerImageVersionId": 30646,
   "isGpuEnabled": false,
   "isInternetEnabled": false,
   "language": "python",
   "sourceType": "notebook"
  },
  "kernelspec": {
   "display_name": "Python 3",
   "language": "python",
   "name": "python3"
  },
  "language_info": {
   "codemirror_mode": {
    "name": "ipython",
    "version": 3
   },
   "file_extension": ".py",
   "mimetype": "text/x-python",
   "name": "python",
   "nbconvert_exporter": "python",
   "pygments_lexer": "ipython3",
   "version": "3.10.13"
  },
  "papermill": {
   "default_parameters": {},
   "duration": 12.664981,
   "end_time": "2024-02-05T09:12:41.076691",
   "environment_variables": {},
   "exception": null,
   "input_path": "__notebook__.ipynb",
   "output_path": "__notebook__.ipynb",
   "parameters": {},
   "start_time": "2024-02-05T09:12:28.411710",
   "version": "2.5.0"
  }
 },
 "nbformat": 4,
 "nbformat_minor": 5
}
