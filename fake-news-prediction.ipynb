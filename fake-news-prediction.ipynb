{
 "cells": [
  {
   "cell_type": "markdown",
   "id": "9e235d24",
   "metadata": {
    "papermill": {
     "duration": 0.005197,
     "end_time": "2024-04-06T07:52:04.859685",
     "exception": false,
     "start_time": "2024-04-06T07:52:04.854488",
     "status": "completed"
    },
    "tags": []
   },
   "source": [
    "About the dataset : \n",
    "1. id     : unique id for a news article\n",
    "2. tittle : the title of a news artickle\n",
    "3. author : author of the news artickle\n",
    "4. text   : the tect of the article, could be incomplete\n",
    "5. label  : a label that maks whether the news article is real or fake\n",
    "\n",
    "   1 : fake\n",
    "   0 : real"
   ]
  },
  {
   "cell_type": "markdown",
   "id": "95af0e68",
   "metadata": {
    "papermill": {
     "duration": 0.003513,
     "end_time": "2024-04-06T07:52:04.867343",
     "exception": false,
     "start_time": "2024-04-06T07:52:04.863830",
     "status": "completed"
    },
    "tags": []
   },
   "source": [
    "Tentang dataset:\n",
    "1. id: id unik untuk sebuah artikel berita\n",
    "2. judul: judul dari sebuah artikel berita\n",
    "3. penulis: penulis dari artikel berita\n",
    "4. teks: teks dari artikel, bisa jadi tidak lengkap\n",
    "5. label: label yang menandakan apakah artikel berita itu nyata atau palsu\n",
    "   1 : fake\n",
    "   0 : real"
   ]
  },
  {
   "cell_type": "code",
   "execution_count": 1,
   "id": "cf828107",
   "metadata": {
    "_cell_guid": "b1076dfc-b9ad-4769-8c92-a6c4dae69d19",
    "_uuid": "8f2839f25d086af736a60e9eeb907d3b93b6e0e5",
    "execution": {
     "iopub.execute_input": "2024-04-06T07:52:04.876397Z",
     "iopub.status.busy": "2024-04-06T07:52:04.875616Z",
     "iopub.status.idle": "2024-04-06T07:52:08.046294Z",
     "shell.execute_reply": "2024-04-06T07:52:08.044861Z"
    },
    "papermill": {
     "duration": 3.178371,
     "end_time": "2024-04-06T07:52:08.049116",
     "exception": false,
     "start_time": "2024-04-06T07:52:04.870745",
     "status": "completed"
    },
    "tags": []
   },
   "outputs": [],
   "source": [
    "import numpy as np\n",
    "import pandas as pd\n",
    "import re\n",
    "from nltk.corpus import stopwords\n",
    "from nltk.stem import PorterStemmer\n",
    "from sklearn.feature_extraction.text import TfidfVectorizer\n",
    "from sklearn.model_selection import train_test_split\n",
    "from sklearn.linear_model import LogisticRegression\n",
    "from sklearn.metrics import accuracy_score\n"
   ]
  },
  {
   "cell_type": "code",
   "execution_count": 2,
   "id": "95bf9861",
   "metadata": {
    "execution": {
     "iopub.execute_input": "2024-04-06T07:52:08.058725Z",
     "iopub.status.busy": "2024-04-06T07:52:08.057943Z",
     "iopub.status.idle": "2024-04-06T07:52:28.111959Z",
     "shell.execute_reply": "2024-04-06T07:52:28.110673Z"
    },
    "papermill": {
     "duration": 20.062574,
     "end_time": "2024-04-06T07:52:28.115262",
     "exception": false,
     "start_time": "2024-04-06T07:52:08.052688",
     "status": "completed"
    },
    "tags": []
   },
   "outputs": [
    {
     "name": "stdout",
     "output_type": "stream",
     "text": [
      "[nltk_data] Error loading stopwords: <urlopen error [Errno -3]\n",
      "[nltk_data]     Temporary failure in name resolution>\n"
     ]
    },
    {
     "data": {
      "text/plain": [
       "False"
      ]
     },
     "execution_count": 2,
     "metadata": {},
     "output_type": "execute_result"
    }
   ],
   "source": [
    "import nltk\n",
    "nltk.download('stopwords')"
   ]
  },
  {
   "cell_type": "code",
   "execution_count": 3,
   "id": "14460f08",
   "metadata": {
    "execution": {
     "iopub.execute_input": "2024-04-06T07:52:28.126285Z",
     "iopub.status.busy": "2024-04-06T07:52:28.125708Z",
     "iopub.status.idle": "2024-04-06T07:52:28.140332Z",
     "shell.execute_reply": "2024-04-06T07:52:28.139038Z"
    },
    "papermill": {
     "duration": 0.024174,
     "end_time": "2024-04-06T07:52:28.143225",
     "exception": false,
     "start_time": "2024-04-06T07:52:28.119051",
     "status": "completed"
    },
    "tags": []
   },
   "outputs": [
    {
     "name": "stdout",
     "output_type": "stream",
     "text": [
      "['i', 'me', 'my', 'myself', 'we', 'our', 'ours', 'ourselves', 'you', \"you're\", \"you've\", \"you'll\", \"you'd\", 'your', 'yours', 'yourself', 'yourselves', 'he', 'him', 'his', 'himself', 'she', \"she's\", 'her', 'hers', 'herself', 'it', \"it's\", 'its', 'itself', 'they', 'them', 'their', 'theirs', 'themselves', 'what', 'which', 'who', 'whom', 'this', 'that', \"that'll\", 'these', 'those', 'am', 'is', 'are', 'was', 'were', 'be', 'been', 'being', 'have', 'has', 'had', 'having', 'do', 'does', 'did', 'doing', 'a', 'an', 'the', 'and', 'but', 'if', 'or', 'because', 'as', 'until', 'while', 'of', 'at', 'by', 'for', 'with', 'about', 'against', 'between', 'into', 'through', 'during', 'before', 'after', 'above', 'below', 'to', 'from', 'up', 'down', 'in', 'out', 'on', 'off', 'over', 'under', 'again', 'further', 'then', 'once', 'here', 'there', 'when', 'where', 'why', 'how', 'all', 'any', 'both', 'each', 'few', 'more', 'most', 'other', 'some', 'such', 'no', 'nor', 'not', 'only', 'own', 'same', 'so', 'than', 'too', 'very', 's', 't', 'can', 'will', 'just', 'don', \"don't\", 'should', \"should've\", 'now', 'd', 'll', 'm', 'o', 're', 've', 'y', 'ain', 'aren', \"aren't\", 'couldn', \"couldn't\", 'didn', \"didn't\", 'doesn', \"doesn't\", 'hadn', \"hadn't\", 'hasn', \"hasn't\", 'haven', \"haven't\", 'isn', \"isn't\", 'ma', 'mightn', \"mightn't\", 'mustn', \"mustn't\", 'needn', \"needn't\", 'shan', \"shan't\", 'shouldn', \"shouldn't\", 'wasn', \"wasn't\", 'weren', \"weren't\", 'won', \"won't\", 'wouldn', \"wouldn't\"]\n"
     ]
    }
   ],
   "source": [
    "print(stopwords.words('english'))"
   ]
  },
  {
   "cell_type": "markdown",
   "id": "09b54d5d",
   "metadata": {
    "papermill": {
     "duration": 0.003813,
     "end_time": "2024-04-06T07:52:28.151993",
     "exception": false,
     "start_time": "2024-04-06T07:52:28.148180",
     "status": "completed"
    },
    "tags": []
   },
   "source": [
    "Data Preprocessing"
   ]
  },
  {
   "cell_type": "code",
   "execution_count": 4,
   "id": "7e54dff7",
   "metadata": {
    "execution": {
     "iopub.execute_input": "2024-04-06T07:52:28.162593Z",
     "iopub.status.busy": "2024-04-06T07:52:28.162216Z",
     "iopub.status.idle": "2024-04-06T07:52:31.159537Z",
     "shell.execute_reply": "2024-04-06T07:52:31.158288Z"
    },
    "papermill": {
     "duration": 3.006597,
     "end_time": "2024-04-06T07:52:31.162499",
     "exception": false,
     "start_time": "2024-04-06T07:52:28.155902",
     "status": "completed"
    },
    "tags": []
   },
   "outputs": [
    {
     "data": {
      "text/html": [
       "<div>\n",
       "<style scoped>\n",
       "    .dataframe tbody tr th:only-of-type {\n",
       "        vertical-align: middle;\n",
       "    }\n",
       "\n",
       "    .dataframe tbody tr th {\n",
       "        vertical-align: top;\n",
       "    }\n",
       "\n",
       "    .dataframe thead th {\n",
       "        text-align: right;\n",
       "    }\n",
       "</style>\n",
       "<table border=\"1\" class=\"dataframe\">\n",
       "  <thead>\n",
       "    <tr style=\"text-align: right;\">\n",
       "      <th></th>\n",
       "      <th>id</th>\n",
       "      <th>title</th>\n",
       "      <th>author</th>\n",
       "      <th>text</th>\n",
       "      <th>label</th>\n",
       "    </tr>\n",
       "  </thead>\n",
       "  <tbody>\n",
       "    <tr>\n",
       "      <th>0</th>\n",
       "      <td>0</td>\n",
       "      <td>House Dem Aide: We Didn’t Even See Comey’s Let...</td>\n",
       "      <td>Darrell Lucus</td>\n",
       "      <td>House Dem Aide: We Didn’t Even See Comey’s Let...</td>\n",
       "      <td>1</td>\n",
       "    </tr>\n",
       "    <tr>\n",
       "      <th>1</th>\n",
       "      <td>1</td>\n",
       "      <td>FLYNN: Hillary Clinton, Big Woman on Campus - ...</td>\n",
       "      <td>Daniel J. Flynn</td>\n",
       "      <td>Ever get the feeling your life circles the rou...</td>\n",
       "      <td>0</td>\n",
       "    </tr>\n",
       "    <tr>\n",
       "      <th>2</th>\n",
       "      <td>2</td>\n",
       "      <td>Why the Truth Might Get You Fired</td>\n",
       "      <td>Consortiumnews.com</td>\n",
       "      <td>Why the Truth Might Get You Fired October 29, ...</td>\n",
       "      <td>1</td>\n",
       "    </tr>\n",
       "    <tr>\n",
       "      <th>3</th>\n",
       "      <td>3</td>\n",
       "      <td>15 Civilians Killed In Single US Airstrike Hav...</td>\n",
       "      <td>Jessica Purkiss</td>\n",
       "      <td>Videos 15 Civilians Killed In Single US Airstr...</td>\n",
       "      <td>1</td>\n",
       "    </tr>\n",
       "    <tr>\n",
       "      <th>4</th>\n",
       "      <td>4</td>\n",
       "      <td>Iranian woman jailed for fictional unpublished...</td>\n",
       "      <td>Howard Portnoy</td>\n",
       "      <td>Print \\nAn Iranian woman has been sentenced to...</td>\n",
       "      <td>1</td>\n",
       "    </tr>\n",
       "    <tr>\n",
       "      <th>...</th>\n",
       "      <td>...</td>\n",
       "      <td>...</td>\n",
       "      <td>...</td>\n",
       "      <td>...</td>\n",
       "      <td>...</td>\n",
       "    </tr>\n",
       "    <tr>\n",
       "      <th>20795</th>\n",
       "      <td>20795</td>\n",
       "      <td>Rapper T.I.: Trump a ’Poster Child For White S...</td>\n",
       "      <td>Jerome Hudson</td>\n",
       "      <td>Rapper T. I. unloaded on black celebrities who...</td>\n",
       "      <td>0</td>\n",
       "    </tr>\n",
       "    <tr>\n",
       "      <th>20796</th>\n",
       "      <td>20796</td>\n",
       "      <td>N.F.L. Playoffs: Schedule, Matchups and Odds -...</td>\n",
       "      <td>Benjamin Hoffman</td>\n",
       "      <td>When the Green Bay Packers lost to the Washing...</td>\n",
       "      <td>0</td>\n",
       "    </tr>\n",
       "    <tr>\n",
       "      <th>20797</th>\n",
       "      <td>20797</td>\n",
       "      <td>Macy’s Is Said to Receive Takeover Approach by...</td>\n",
       "      <td>Michael J. de la Merced and Rachel Abrams</td>\n",
       "      <td>The Macy’s of today grew from the union of sev...</td>\n",
       "      <td>0</td>\n",
       "    </tr>\n",
       "    <tr>\n",
       "      <th>20798</th>\n",
       "      <td>20798</td>\n",
       "      <td>NATO, Russia To Hold Parallel Exercises In Bal...</td>\n",
       "      <td>Alex Ansary</td>\n",
       "      <td>NATO, Russia To Hold Parallel Exercises In Bal...</td>\n",
       "      <td>1</td>\n",
       "    </tr>\n",
       "    <tr>\n",
       "      <th>20799</th>\n",
       "      <td>20799</td>\n",
       "      <td>What Keeps the F-35 Alive</td>\n",
       "      <td>David Swanson</td>\n",
       "      <td>David Swanson is an author, activist, journa...</td>\n",
       "      <td>1</td>\n",
       "    </tr>\n",
       "  </tbody>\n",
       "</table>\n",
       "<p>20800 rows × 5 columns</p>\n",
       "</div>"
      ],
      "text/plain": [
       "          id                                              title  \\\n",
       "0          0  House Dem Aide: We Didn’t Even See Comey’s Let...   \n",
       "1          1  FLYNN: Hillary Clinton, Big Woman on Campus - ...   \n",
       "2          2                  Why the Truth Might Get You Fired   \n",
       "3          3  15 Civilians Killed In Single US Airstrike Hav...   \n",
       "4          4  Iranian woman jailed for fictional unpublished...   \n",
       "...      ...                                                ...   \n",
       "20795  20795  Rapper T.I.: Trump a ’Poster Child For White S...   \n",
       "20796  20796  N.F.L. Playoffs: Schedule, Matchups and Odds -...   \n",
       "20797  20797  Macy’s Is Said to Receive Takeover Approach by...   \n",
       "20798  20798  NATO, Russia To Hold Parallel Exercises In Bal...   \n",
       "20799  20799                          What Keeps the F-35 Alive   \n",
       "\n",
       "                                          author  \\\n",
       "0                                  Darrell Lucus   \n",
       "1                                Daniel J. Flynn   \n",
       "2                             Consortiumnews.com   \n",
       "3                                Jessica Purkiss   \n",
       "4                                 Howard Portnoy   \n",
       "...                                          ...   \n",
       "20795                              Jerome Hudson   \n",
       "20796                           Benjamin Hoffman   \n",
       "20797  Michael J. de la Merced and Rachel Abrams   \n",
       "20798                                Alex Ansary   \n",
       "20799                              David Swanson   \n",
       "\n",
       "                                                    text  label  \n",
       "0      House Dem Aide: We Didn’t Even See Comey’s Let...      1  \n",
       "1      Ever get the feeling your life circles the rou...      0  \n",
       "2      Why the Truth Might Get You Fired October 29, ...      1  \n",
       "3      Videos 15 Civilians Killed In Single US Airstr...      1  \n",
       "4      Print \\nAn Iranian woman has been sentenced to...      1  \n",
       "...                                                  ...    ...  \n",
       "20795  Rapper T. I. unloaded on black celebrities who...      0  \n",
       "20796  When the Green Bay Packers lost to the Washing...      0  \n",
       "20797  The Macy’s of today grew from the union of sev...      0  \n",
       "20798  NATO, Russia To Hold Parallel Exercises In Bal...      1  \n",
       "20799    David Swanson is an author, activist, journa...      1  \n",
       "\n",
       "[20800 rows x 5 columns]"
      ]
     },
     "execution_count": 4,
     "metadata": {},
     "output_type": "execute_result"
    }
   ],
   "source": [
    "# loading the dataset\n",
    "df = pd.read_csv('/kaggle/input/fake-news/train.csv')\n",
    "df"
   ]
  },
  {
   "cell_type": "code",
   "execution_count": 5,
   "id": "fd100ac2",
   "metadata": {
    "execution": {
     "iopub.execute_input": "2024-04-06T07:52:31.172687Z",
     "iopub.status.busy": "2024-04-06T07:52:31.172304Z",
     "iopub.status.idle": "2024-04-06T07:52:31.178350Z",
     "shell.execute_reply": "2024-04-06T07:52:31.177435Z"
    },
    "papermill": {
     "duration": 0.013758,
     "end_time": "2024-04-06T07:52:31.180645",
     "exception": false,
     "start_time": "2024-04-06T07:52:31.166887",
     "status": "completed"
    },
    "tags": []
   },
   "outputs": [
    {
     "data": {
      "text/plain": [
       "(20800, 5)"
      ]
     },
     "execution_count": 5,
     "metadata": {},
     "output_type": "execute_result"
    }
   ],
   "source": [
    "df.shape"
   ]
  },
  {
   "cell_type": "code",
   "execution_count": 6,
   "id": "dfdee299",
   "metadata": {
    "execution": {
     "iopub.execute_input": "2024-04-06T07:52:31.191768Z",
     "iopub.status.busy": "2024-04-06T07:52:31.191170Z",
     "iopub.status.idle": "2024-04-06T07:52:31.208260Z",
     "shell.execute_reply": "2024-04-06T07:52:31.207018Z"
    },
    "papermill": {
     "duration": 0.025336,
     "end_time": "2024-04-06T07:52:31.210888",
     "exception": false,
     "start_time": "2024-04-06T07:52:31.185552",
     "status": "completed"
    },
    "tags": []
   },
   "outputs": [
    {
     "data": {
      "text/plain": [
       "id           0\n",
       "title      558\n",
       "author    1957\n",
       "text        39\n",
       "label        0\n",
       "dtype: int64"
      ]
     },
     "execution_count": 6,
     "metadata": {},
     "output_type": "execute_result"
    }
   ],
   "source": [
    "# counting the number of missing values\n",
    "df.isnull().sum()"
   ]
  },
  {
   "cell_type": "code",
   "execution_count": 7,
   "id": "f43c1d74",
   "metadata": {
    "execution": {
     "iopub.execute_input": "2024-04-06T07:52:31.221483Z",
     "iopub.status.busy": "2024-04-06T07:52:31.221059Z",
     "iopub.status.idle": "2024-04-06T07:52:31.239627Z",
     "shell.execute_reply": "2024-04-06T07:52:31.238360Z"
    },
    "papermill": {
     "duration": 0.026796,
     "end_time": "2024-04-06T07:52:31.242202",
     "exception": false,
     "start_time": "2024-04-06T07:52:31.215406",
     "status": "completed"
    },
    "tags": []
   },
   "outputs": [],
   "source": [
    "# replacing the nun values with empty string\n",
    "df = df.fillna('')"
   ]
  },
  {
   "cell_type": "code",
   "execution_count": 8,
   "id": "0da1d654",
   "metadata": {
    "execution": {
     "iopub.execute_input": "2024-04-06T07:52:31.255231Z",
     "iopub.status.busy": "2024-04-06T07:52:31.254446Z",
     "iopub.status.idle": "2024-04-06T07:52:31.271692Z",
     "shell.execute_reply": "2024-04-06T07:52:31.270209Z"
    },
    "papermill": {
     "duration": 0.027056,
     "end_time": "2024-04-06T07:52:31.274529",
     "exception": false,
     "start_time": "2024-04-06T07:52:31.247473",
     "status": "completed"
    },
    "tags": []
   },
   "outputs": [
    {
     "data": {
      "text/plain": [
       "id        0\n",
       "title     0\n",
       "author    0\n",
       "text      0\n",
       "label     0\n",
       "dtype: int64"
      ]
     },
     "execution_count": 8,
     "metadata": {},
     "output_type": "execute_result"
    }
   ],
   "source": [
    "df.isnull().sum()"
   ]
  },
  {
   "cell_type": "code",
   "execution_count": null,
   "id": "7aa17de7",
   "metadata": {
    "papermill": {
     "duration": 0.004276,
     "end_time": "2024-04-06T07:52:31.283608",
     "exception": false,
     "start_time": "2024-04-06T07:52:31.279332",
     "status": "completed"
    },
    "tags": []
   },
   "outputs": [],
   "source": []
  }
 ],
 "metadata": {
  "kaggle": {
   "accelerator": "none",
   "dataSources": [
    {
     "datasetId": 4741369,
     "sourceId": 8041925,
     "sourceType": "datasetVersion"
    }
   ],
   "dockerImageVersionId": 30673,
   "isGpuEnabled": false,
   "isInternetEnabled": false,
   "language": "python",
   "sourceType": "notebook"
  },
  "kernelspec": {
   "display_name": "Python 3",
   "language": "python",
   "name": "python3"
  },
  "language_info": {
   "codemirror_mode": {
    "name": "ipython",
    "version": 3
   },
   "file_extension": ".py",
   "mimetype": "text/x-python",
   "name": "python",
   "nbconvert_exporter": "python",
   "pygments_lexer": "ipython3",
   "version": "3.10.13"
  },
  "papermill": {
   "default_parameters": {},
   "duration": 30.196217,
   "end_time": "2024-04-06T07:52:32.011821",
   "environment_variables": {},
   "exception": null,
   "input_path": "__notebook__.ipynb",
   "output_path": "__notebook__.ipynb",
   "parameters": {},
   "start_time": "2024-04-06T07:52:01.815604",
   "version": "2.5.0"
  }
 },
 "nbformat": 4,
 "nbformat_minor": 5
}
