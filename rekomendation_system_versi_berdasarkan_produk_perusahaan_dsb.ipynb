{
  "nbformat": 4,
  "nbformat_minor": 0,
  "metadata": {
    "colab": {
      "provenance": [],
      "authorship_tag": "ABX9TyOJ6EwvQsTQnL0kFGI7E0pg",
      "include_colab_link": true
    },
    "kernelspec": {
      "name": "python3",
      "display_name": "Python 3"
    },
    "language_info": {
      "name": "python"
    }
  },
  "cells": [
    {
      "cell_type": "markdown",
      "metadata": {
        "id": "view-in-github",
        "colab_type": "text"
      },
      "source": [
        "<a href=\"https://colab.research.google.com/github/lugastyan/ML-portofolio/blob/main/rekomendation_system_versi_berdasarkan_produk_perusahaan_dsb.ipynb\" target=\"_parent\"><img src=\"https://colab.research.google.com/assets/colab-badge.svg\" alt=\"Open In Colab\"/></a>"
      ]
    },
    {
      "cell_type": "markdown",
      "source": [
        "# library"
      ],
      "metadata": {
        "id": "3WT0IUHg5OOO"
      }
    },
    {
      "cell_type": "code",
      "source": [
        "!pip install rake_nltk"
      ],
      "metadata": {
        "colab": {
          "base_uri": "https://localhost:8080/"
        },
        "id": "wa-56hb07vft",
        "outputId": "839467cf-1a7c-46fe-b969-fd0e3c0c6a15"
      },
      "execution_count": null,
      "outputs": [
        {
          "output_type": "stream",
          "name": "stdout",
          "text": [
            "Looking in indexes: https://pypi.org/simple, https://us-python.pkg.dev/colab-wheels/public/simple/\n",
            "Requirement already satisfied: rake_nltk in /usr/local/lib/python3.10/dist-packages (1.0.6)\n",
            "Requirement already satisfied: nltk<4.0.0,>=3.6.2 in /usr/local/lib/python3.10/dist-packages (from rake_nltk) (3.8.1)\n",
            "Requirement already satisfied: click in /usr/local/lib/python3.10/dist-packages (from nltk<4.0.0,>=3.6.2->rake_nltk) (8.1.3)\n",
            "Requirement already satisfied: joblib in /usr/local/lib/python3.10/dist-packages (from nltk<4.0.0,>=3.6.2->rake_nltk) (1.2.0)\n",
            "Requirement already satisfied: regex>=2021.8.3 in /usr/local/lib/python3.10/dist-packages (from nltk<4.0.0,>=3.6.2->rake_nltk) (2022.10.31)\n",
            "Requirement already satisfied: tqdm in /usr/local/lib/python3.10/dist-packages (from nltk<4.0.0,>=3.6.2->rake_nltk) (4.65.0)\n"
          ]
        }
      ]
    },
    {
      "cell_type": "code",
      "execution_count": null,
      "metadata": {
        "id": "bEQJJpCQ5NAn",
        "colab": {
          "base_uri": "https://localhost:8080/"
        },
        "outputId": "36f45954-4594-4fef-fd3f-00606ed7529f"
      },
      "outputs": [
        {
          "output_type": "stream",
          "name": "stderr",
          "text": [
            "[nltk_data] Downloading package stopwords to /root/nltk_data...\n",
            "[nltk_data]   Package stopwords is already up-to-date!\n",
            "[nltk_data] Downloading package punkt to /root/nltk_data...\n",
            "[nltk_data]   Package punkt is already up-to-date!\n"
          ]
        }
      ],
      "source": [
        "import pandas as pd\n",
        "import numpy as np\n",
        "from sklearn.feature_extraction.text import TfidfVectorizer\n",
        "from sklearn.metrics.pairwise import cosine_similarity\n",
        "\n",
        "from sklearn.metrics.pairwise import cosine_similarity\n",
        "from sklearn.feature_extraction.text import CountVectorizer\n",
        "\n",
        "import rake_nltk\n",
        "from rake_nltk import Rake\n",
        "import nltk\n",
        "nltk.download('stopwords')\n",
        "nltk.download('punkt')\n",
        "\n",
        "from bs4 import BeautifulSoup #untuk perHTMLan"
      ]
    },
    {
      "cell_type": "markdown",
      "source": [
        "# Load dataset"
      ],
      "metadata": {
        "id": "xuLi3Oug-QRD"
      }
    },
    {
      "cell_type": "code",
      "source": [
        "from google.colab import drive\n",
        "drive.mount('/content/drive')"
      ],
      "metadata": {
        "colab": {
          "base_uri": "https://localhost:8080/"
        },
        "id": "tLvCN4Nz-KDe",
        "outputId": "b54427d3-21c2-4614-ca24-11acf076e470"
      },
      "execution_count": null,
      "outputs": [
        {
          "output_type": "stream",
          "name": "stdout",
          "text": [
            "Drive already mounted at /content/drive; to attempt to forcibly remount, call drive.mount(\"/content/drive\", force_remount=True).\n"
          ]
        }
      ]
    },
    {
      "cell_type": "code",
      "source": [
        "df = pd.read_csv('/content/drive/MyDrive/PINA dataset/semua_versi_4___edwin_2023-05-10T04_25_24.475027Z.csv')"
      ],
      "metadata": {
        "id": "7ZXBkQoP-W2x"
      },
      "execution_count": null,
      "outputs": []
    },
    {
      "cell_type": "code",
      "source": [
        "df_user = pd.read_csv('/content/drive/MyDrive/PINA dataset/user_portfolio.csv')"
      ],
      "metadata": {
        "id": "VxAk4LzM4H_n"
      },
      "execution_count": null,
      "outputs": []
    },
    {
      "cell_type": "code",
      "source": [
        "df_user.head()"
      ],
      "metadata": {
        "colab": {
          "base_uri": "https://localhost:8080/"
        },
        "id": "QEd3yWwYAKcC",
        "outputId": "b0eaec50-fa74-41a4-b6f2-fed9ac1037eb"
      },
      "execution_count": null,
      "outputs": [
        {
          "output_type": "execute_result",
          "data": {
            "text/plain": [
              "  clientportfolioclientid clientportfoliostockid  clientportfoliobalance  \\\n",
              "0                 0000003                   FIMP              19000000.0   \n",
              "1                   01OLK                   BOLT                   100.0   \n",
              "2                       3                   CASH              47051800.0   \n",
              "3             ADANGWAH107                   TLKM                   100.0   \n",
              "4                  ADIN99                   TRIM                   100.0   \n",
              "\n",
              "  clientportfoliodate  date_rank_per_user  \n",
              "0          2023-05-05                   1  \n",
              "1          2023-05-05                   1  \n",
              "2          2022-03-28                   1  \n",
              "3          2023-05-05                   1  \n",
              "4          2023-05-05                   1  "
            ],
            "text/html": [
              "\n",
              "  <div id=\"df-98688622-b2c1-4fdc-a1b5-e317d9486987\">\n",
              "    <div class=\"colab-df-container\">\n",
              "      <div>\n",
              "<style scoped>\n",
              "    .dataframe tbody tr th:only-of-type {\n",
              "        vertical-align: middle;\n",
              "    }\n",
              "\n",
              "    .dataframe tbody tr th {\n",
              "        vertical-align: top;\n",
              "    }\n",
              "\n",
              "    .dataframe thead th {\n",
              "        text-align: right;\n",
              "    }\n",
              "</style>\n",
              "<table border=\"1\" class=\"dataframe\">\n",
              "  <thead>\n",
              "    <tr style=\"text-align: right;\">\n",
              "      <th></th>\n",
              "      <th>clientportfolioclientid</th>\n",
              "      <th>clientportfoliostockid</th>\n",
              "      <th>clientportfoliobalance</th>\n",
              "      <th>clientportfoliodate</th>\n",
              "      <th>date_rank_per_user</th>\n",
              "    </tr>\n",
              "  </thead>\n",
              "  <tbody>\n",
              "    <tr>\n",
              "      <th>0</th>\n",
              "      <td>0000003</td>\n",
              "      <td>FIMP</td>\n",
              "      <td>19000000.0</td>\n",
              "      <td>2023-05-05</td>\n",
              "      <td>1</td>\n",
              "    </tr>\n",
              "    <tr>\n",
              "      <th>1</th>\n",
              "      <td>01OLK</td>\n",
              "      <td>BOLT</td>\n",
              "      <td>100.0</td>\n",
              "      <td>2023-05-05</td>\n",
              "      <td>1</td>\n",
              "    </tr>\n",
              "    <tr>\n",
              "      <th>2</th>\n",
              "      <td>3</td>\n",
              "      <td>CASH</td>\n",
              "      <td>47051800.0</td>\n",
              "      <td>2022-03-28</td>\n",
              "      <td>1</td>\n",
              "    </tr>\n",
              "    <tr>\n",
              "      <th>3</th>\n",
              "      <td>ADANGWAH107</td>\n",
              "      <td>TLKM</td>\n",
              "      <td>100.0</td>\n",
              "      <td>2023-05-05</td>\n",
              "      <td>1</td>\n",
              "    </tr>\n",
              "    <tr>\n",
              "      <th>4</th>\n",
              "      <td>ADIN99</td>\n",
              "      <td>TRIM</td>\n",
              "      <td>100.0</td>\n",
              "      <td>2023-05-05</td>\n",
              "      <td>1</td>\n",
              "    </tr>\n",
              "  </tbody>\n",
              "</table>\n",
              "</div>\n",
              "      <button class=\"colab-df-convert\" onclick=\"convertToInteractive('df-98688622-b2c1-4fdc-a1b5-e317d9486987')\"\n",
              "              title=\"Convert this dataframe to an interactive table.\"\n",
              "              style=\"display:none;\">\n",
              "        \n",
              "  <svg xmlns=\"http://www.w3.org/2000/svg\" height=\"24px\"viewBox=\"0 0 24 24\"\n",
              "       width=\"24px\">\n",
              "    <path d=\"M0 0h24v24H0V0z\" fill=\"none\"/>\n",
              "    <path d=\"M18.56 5.44l.94 2.06.94-2.06 2.06-.94-2.06-.94-.94-2.06-.94 2.06-2.06.94zm-11 1L8.5 8.5l.94-2.06 2.06-.94-2.06-.94L8.5 2.5l-.94 2.06-2.06.94zm10 10l.94 2.06.94-2.06 2.06-.94-2.06-.94-.94-2.06-.94 2.06-2.06.94z\"/><path d=\"M17.41 7.96l-1.37-1.37c-.4-.4-.92-.59-1.43-.59-.52 0-1.04.2-1.43.59L10.3 9.45l-7.72 7.72c-.78.78-.78 2.05 0 2.83L4 21.41c.39.39.9.59 1.41.59.51 0 1.02-.2 1.41-.59l7.78-7.78 2.81-2.81c.8-.78.8-2.07 0-2.86zM5.41 20L4 18.59l7.72-7.72 1.47 1.35L5.41 20z\"/>\n",
              "  </svg>\n",
              "      </button>\n",
              "      \n",
              "  <style>\n",
              "    .colab-df-container {\n",
              "      display:flex;\n",
              "      flex-wrap:wrap;\n",
              "      gap: 12px;\n",
              "    }\n",
              "\n",
              "    .colab-df-convert {\n",
              "      background-color: #E8F0FE;\n",
              "      border: none;\n",
              "      border-radius: 50%;\n",
              "      cursor: pointer;\n",
              "      display: none;\n",
              "      fill: #1967D2;\n",
              "      height: 32px;\n",
              "      padding: 0 0 0 0;\n",
              "      width: 32px;\n",
              "    }\n",
              "\n",
              "    .colab-df-convert:hover {\n",
              "      background-color: #E2EBFA;\n",
              "      box-shadow: 0px 1px 2px rgba(60, 64, 67, 0.3), 0px 1px 3px 1px rgba(60, 64, 67, 0.15);\n",
              "      fill: #174EA6;\n",
              "    }\n",
              "\n",
              "    [theme=dark] .colab-df-convert {\n",
              "      background-color: #3B4455;\n",
              "      fill: #D2E3FC;\n",
              "    }\n",
              "\n",
              "    [theme=dark] .colab-df-convert:hover {\n",
              "      background-color: #434B5C;\n",
              "      box-shadow: 0px 1px 3px 1px rgba(0, 0, 0, 0.15);\n",
              "      filter: drop-shadow(0px 1px 2px rgba(0, 0, 0, 0.3));\n",
              "      fill: #FFFFFF;\n",
              "    }\n",
              "  </style>\n",
              "\n",
              "      <script>\n",
              "        const buttonEl =\n",
              "          document.querySelector('#df-98688622-b2c1-4fdc-a1b5-e317d9486987 button.colab-df-convert');\n",
              "        buttonEl.style.display =\n",
              "          google.colab.kernel.accessAllowed ? 'block' : 'none';\n",
              "\n",
              "        async function convertToInteractive(key) {\n",
              "          const element = document.querySelector('#df-98688622-b2c1-4fdc-a1b5-e317d9486987');\n",
              "          const dataTable =\n",
              "            await google.colab.kernel.invokeFunction('convertToInteractive',\n",
              "                                                     [key], {});\n",
              "          if (!dataTable) return;\n",
              "\n",
              "          const docLinkHtml = 'Like what you see? Visit the ' +\n",
              "            '<a target=\"_blank\" href=https://colab.research.google.com/notebooks/data_table.ipynb>data table notebook</a>'\n",
              "            + ' to learn more about interactive tables.';\n",
              "          element.innerHTML = '';\n",
              "          dataTable['output_type'] = 'display_data';\n",
              "          await google.colab.output.renderOutput(dataTable, element);\n",
              "          const docLink = document.createElement('div');\n",
              "          docLink.innerHTML = docLinkHtml;\n",
              "          element.appendChild(docLink);\n",
              "        }\n",
              "      </script>\n",
              "    </div>\n",
              "  </div>\n",
              "  "
            ]
          },
          "metadata": {},
          "execution_count": 219
        }
      ]
    },
    {
      "cell_type": "code",
      "source": [
        "df_grouped = pd.DataFrame(df_user.groupby('clientportfolioclientid')['clientportfoliostockid'].agg(list))"
      ],
      "metadata": {
        "id": "K1rVu0Q1AcNz"
      },
      "execution_count": null,
      "outputs": []
    },
    {
      "cell_type": "code",
      "source": [
        "df_grouped = df_grouped.reset_index()"
      ],
      "metadata": {
        "id": "ax41A96hA9zA"
      },
      "execution_count": null,
      "outputs": []
    },
    {
      "cell_type": "code",
      "source": [
        "df_grouped.head()"
      ],
      "metadata": {
        "colab": {
          "base_uri": "https://localhost:8080/"
        },
        "id": "Jkd42hVvTpch",
        "outputId": "be4505c1-6b5e-4975-c10a-e42b3194c442"
      },
      "execution_count": null,
      "outputs": [
        {
          "output_type": "execute_result",
          "data": {
            "text/plain": [
              "  clientportfolioclientid clientportfoliostockid\n",
              "0                 0000003                 [FIMP]\n",
              "1                   01OLK                 [BOLT]\n",
              "2                       3                 [CASH]\n",
              "3             ADANGWAH107                 [TLKM]\n",
              "4                  ADIN99                 [TRIM]"
            ],
            "text/html": [
              "\n",
              "  <div id=\"df-c1a42f7f-94eb-43b2-92c4-d20b87cfb16f\">\n",
              "    <div class=\"colab-df-container\">\n",
              "      <div>\n",
              "<style scoped>\n",
              "    .dataframe tbody tr th:only-of-type {\n",
              "        vertical-align: middle;\n",
              "    }\n",
              "\n",
              "    .dataframe tbody tr th {\n",
              "        vertical-align: top;\n",
              "    }\n",
              "\n",
              "    .dataframe thead th {\n",
              "        text-align: right;\n",
              "    }\n",
              "</style>\n",
              "<table border=\"1\" class=\"dataframe\">\n",
              "  <thead>\n",
              "    <tr style=\"text-align: right;\">\n",
              "      <th></th>\n",
              "      <th>clientportfolioclientid</th>\n",
              "      <th>clientportfoliostockid</th>\n",
              "    </tr>\n",
              "  </thead>\n",
              "  <tbody>\n",
              "    <tr>\n",
              "      <th>0</th>\n",
              "      <td>0000003</td>\n",
              "      <td>[FIMP]</td>\n",
              "    </tr>\n",
              "    <tr>\n",
              "      <th>1</th>\n",
              "      <td>01OLK</td>\n",
              "      <td>[BOLT]</td>\n",
              "    </tr>\n",
              "    <tr>\n",
              "      <th>2</th>\n",
              "      <td>3</td>\n",
              "      <td>[CASH]</td>\n",
              "    </tr>\n",
              "    <tr>\n",
              "      <th>3</th>\n",
              "      <td>ADANGWAH107</td>\n",
              "      <td>[TLKM]</td>\n",
              "    </tr>\n",
              "    <tr>\n",
              "      <th>4</th>\n",
              "      <td>ADIN99</td>\n",
              "      <td>[TRIM]</td>\n",
              "    </tr>\n",
              "  </tbody>\n",
              "</table>\n",
              "</div>\n",
              "      <button class=\"colab-df-convert\" onclick=\"convertToInteractive('df-c1a42f7f-94eb-43b2-92c4-d20b87cfb16f')\"\n",
              "              title=\"Convert this dataframe to an interactive table.\"\n",
              "              style=\"display:none;\">\n",
              "        \n",
              "  <svg xmlns=\"http://www.w3.org/2000/svg\" height=\"24px\"viewBox=\"0 0 24 24\"\n",
              "       width=\"24px\">\n",
              "    <path d=\"M0 0h24v24H0V0z\" fill=\"none\"/>\n",
              "    <path d=\"M18.56 5.44l.94 2.06.94-2.06 2.06-.94-2.06-.94-.94-2.06-.94 2.06-2.06.94zm-11 1L8.5 8.5l.94-2.06 2.06-.94-2.06-.94L8.5 2.5l-.94 2.06-2.06.94zm10 10l.94 2.06.94-2.06 2.06-.94-2.06-.94-.94-2.06-.94 2.06-2.06.94z\"/><path d=\"M17.41 7.96l-1.37-1.37c-.4-.4-.92-.59-1.43-.59-.52 0-1.04.2-1.43.59L10.3 9.45l-7.72 7.72c-.78.78-.78 2.05 0 2.83L4 21.41c.39.39.9.59 1.41.59.51 0 1.02-.2 1.41-.59l7.78-7.78 2.81-2.81c.8-.78.8-2.07 0-2.86zM5.41 20L4 18.59l7.72-7.72 1.47 1.35L5.41 20z\"/>\n",
              "  </svg>\n",
              "      </button>\n",
              "      \n",
              "  <style>\n",
              "    .colab-df-container {\n",
              "      display:flex;\n",
              "      flex-wrap:wrap;\n",
              "      gap: 12px;\n",
              "    }\n",
              "\n",
              "    .colab-df-convert {\n",
              "      background-color: #E8F0FE;\n",
              "      border: none;\n",
              "      border-radius: 50%;\n",
              "      cursor: pointer;\n",
              "      display: none;\n",
              "      fill: #1967D2;\n",
              "      height: 32px;\n",
              "      padding: 0 0 0 0;\n",
              "      width: 32px;\n",
              "    }\n",
              "\n",
              "    .colab-df-convert:hover {\n",
              "      background-color: #E2EBFA;\n",
              "      box-shadow: 0px 1px 2px rgba(60, 64, 67, 0.3), 0px 1px 3px 1px rgba(60, 64, 67, 0.15);\n",
              "      fill: #174EA6;\n",
              "    }\n",
              "\n",
              "    [theme=dark] .colab-df-convert {\n",
              "      background-color: #3B4455;\n",
              "      fill: #D2E3FC;\n",
              "    }\n",
              "\n",
              "    [theme=dark] .colab-df-convert:hover {\n",
              "      background-color: #434B5C;\n",
              "      box-shadow: 0px 1px 3px 1px rgba(0, 0, 0, 0.15);\n",
              "      filter: drop-shadow(0px 1px 2px rgba(0, 0, 0, 0.3));\n",
              "      fill: #FFFFFF;\n",
              "    }\n",
              "  </style>\n",
              "\n",
              "      <script>\n",
              "        const buttonEl =\n",
              "          document.querySelector('#df-c1a42f7f-94eb-43b2-92c4-d20b87cfb16f button.colab-df-convert');\n",
              "        buttonEl.style.display =\n",
              "          google.colab.kernel.accessAllowed ? 'block' : 'none';\n",
              "\n",
              "        async function convertToInteractive(key) {\n",
              "          const element = document.querySelector('#df-c1a42f7f-94eb-43b2-92c4-d20b87cfb16f');\n",
              "          const dataTable =\n",
              "            await google.colab.kernel.invokeFunction('convertToInteractive',\n",
              "                                                     [key], {});\n",
              "          if (!dataTable) return;\n",
              "\n",
              "          const docLinkHtml = 'Like what you see? Visit the ' +\n",
              "            '<a target=\"_blank\" href=https://colab.research.google.com/notebooks/data_table.ipynb>data table notebook</a>'\n",
              "            + ' to learn more about interactive tables.';\n",
              "          element.innerHTML = '';\n",
              "          dataTable['output_type'] = 'display_data';\n",
              "          await google.colab.output.renderOutput(dataTable, element);\n",
              "          const docLink = document.createElement('div');\n",
              "          docLink.innerHTML = docLinkHtml;\n",
              "          element.appendChild(docLink);\n",
              "        }\n",
              "      </script>\n",
              "    </div>\n",
              "  </div>\n",
              "  "
            ]
          },
          "metadata": {},
          "execution_count": 222
        }
      ]
    },
    {
      "cell_type": "code",
      "source": [
        "df_grouped.columns  = ['id','portofolio']"
      ],
      "metadata": {
        "id": "daFM65ZsBhEC"
      },
      "execution_count": null,
      "outputs": []
    },
    {
      "cell_type": "code",
      "source": [
        "df_grouped.head()"
      ],
      "metadata": {
        "colab": {
          "base_uri": "https://localhost:8080/"
        },
        "id": "4U2Oe_pJRXjI",
        "outputId": "45221f35-96fa-4f8e-ee8f-19edb875da44"
      },
      "execution_count": null,
      "outputs": [
        {
          "output_type": "execute_result",
          "data": {
            "text/plain": [
              "            id portofolio\n",
              "0      0000003     [FIMP]\n",
              "1        01OLK     [BOLT]\n",
              "2            3     [CASH]\n",
              "3  ADANGWAH107     [TLKM]\n",
              "4       ADIN99     [TRIM]"
            ],
            "text/html": [
              "\n",
              "  <div id=\"df-66b0858a-54a4-4f4a-b5e8-e8b557962d1e\">\n",
              "    <div class=\"colab-df-container\">\n",
              "      <div>\n",
              "<style scoped>\n",
              "    .dataframe tbody tr th:only-of-type {\n",
              "        vertical-align: middle;\n",
              "    }\n",
              "\n",
              "    .dataframe tbody tr th {\n",
              "        vertical-align: top;\n",
              "    }\n",
              "\n",
              "    .dataframe thead th {\n",
              "        text-align: right;\n",
              "    }\n",
              "</style>\n",
              "<table border=\"1\" class=\"dataframe\">\n",
              "  <thead>\n",
              "    <tr style=\"text-align: right;\">\n",
              "      <th></th>\n",
              "      <th>id</th>\n",
              "      <th>portofolio</th>\n",
              "    </tr>\n",
              "  </thead>\n",
              "  <tbody>\n",
              "    <tr>\n",
              "      <th>0</th>\n",
              "      <td>0000003</td>\n",
              "      <td>[FIMP]</td>\n",
              "    </tr>\n",
              "    <tr>\n",
              "      <th>1</th>\n",
              "      <td>01OLK</td>\n",
              "      <td>[BOLT]</td>\n",
              "    </tr>\n",
              "    <tr>\n",
              "      <th>2</th>\n",
              "      <td>3</td>\n",
              "      <td>[CASH]</td>\n",
              "    </tr>\n",
              "    <tr>\n",
              "      <th>3</th>\n",
              "      <td>ADANGWAH107</td>\n",
              "      <td>[TLKM]</td>\n",
              "    </tr>\n",
              "    <tr>\n",
              "      <th>4</th>\n",
              "      <td>ADIN99</td>\n",
              "      <td>[TRIM]</td>\n",
              "    </tr>\n",
              "  </tbody>\n",
              "</table>\n",
              "</div>\n",
              "      <button class=\"colab-df-convert\" onclick=\"convertToInteractive('df-66b0858a-54a4-4f4a-b5e8-e8b557962d1e')\"\n",
              "              title=\"Convert this dataframe to an interactive table.\"\n",
              "              style=\"display:none;\">\n",
              "        \n",
              "  <svg xmlns=\"http://www.w3.org/2000/svg\" height=\"24px\"viewBox=\"0 0 24 24\"\n",
              "       width=\"24px\">\n",
              "    <path d=\"M0 0h24v24H0V0z\" fill=\"none\"/>\n",
              "    <path d=\"M18.56 5.44l.94 2.06.94-2.06 2.06-.94-2.06-.94-.94-2.06-.94 2.06-2.06.94zm-11 1L8.5 8.5l.94-2.06 2.06-.94-2.06-.94L8.5 2.5l-.94 2.06-2.06.94zm10 10l.94 2.06.94-2.06 2.06-.94-2.06-.94-.94-2.06-.94 2.06-2.06.94z\"/><path d=\"M17.41 7.96l-1.37-1.37c-.4-.4-.92-.59-1.43-.59-.52 0-1.04.2-1.43.59L10.3 9.45l-7.72 7.72c-.78.78-.78 2.05 0 2.83L4 21.41c.39.39.9.59 1.41.59.51 0 1.02-.2 1.41-.59l7.78-7.78 2.81-2.81c.8-.78.8-2.07 0-2.86zM5.41 20L4 18.59l7.72-7.72 1.47 1.35L5.41 20z\"/>\n",
              "  </svg>\n",
              "      </button>\n",
              "      \n",
              "  <style>\n",
              "    .colab-df-container {\n",
              "      display:flex;\n",
              "      flex-wrap:wrap;\n",
              "      gap: 12px;\n",
              "    }\n",
              "\n",
              "    .colab-df-convert {\n",
              "      background-color: #E8F0FE;\n",
              "      border: none;\n",
              "      border-radius: 50%;\n",
              "      cursor: pointer;\n",
              "      display: none;\n",
              "      fill: #1967D2;\n",
              "      height: 32px;\n",
              "      padding: 0 0 0 0;\n",
              "      width: 32px;\n",
              "    }\n",
              "\n",
              "    .colab-df-convert:hover {\n",
              "      background-color: #E2EBFA;\n",
              "      box-shadow: 0px 1px 2px rgba(60, 64, 67, 0.3), 0px 1px 3px 1px rgba(60, 64, 67, 0.15);\n",
              "      fill: #174EA6;\n",
              "    }\n",
              "\n",
              "    [theme=dark] .colab-df-convert {\n",
              "      background-color: #3B4455;\n",
              "      fill: #D2E3FC;\n",
              "    }\n",
              "\n",
              "    [theme=dark] .colab-df-convert:hover {\n",
              "      background-color: #434B5C;\n",
              "      box-shadow: 0px 1px 3px 1px rgba(0, 0, 0, 0.15);\n",
              "      filter: drop-shadow(0px 1px 2px rgba(0, 0, 0, 0.3));\n",
              "      fill: #FFFFFF;\n",
              "    }\n",
              "  </style>\n",
              "\n",
              "      <script>\n",
              "        const buttonEl =\n",
              "          document.querySelector('#df-66b0858a-54a4-4f4a-b5e8-e8b557962d1e button.colab-df-convert');\n",
              "        buttonEl.style.display =\n",
              "          google.colab.kernel.accessAllowed ? 'block' : 'none';\n",
              "\n",
              "        async function convertToInteractive(key) {\n",
              "          const element = document.querySelector('#df-66b0858a-54a4-4f4a-b5e8-e8b557962d1e');\n",
              "          const dataTable =\n",
              "            await google.colab.kernel.invokeFunction('convertToInteractive',\n",
              "                                                     [key], {});\n",
              "          if (!dataTable) return;\n",
              "\n",
              "          const docLinkHtml = 'Like what you see? Visit the ' +\n",
              "            '<a target=\"_blank\" href=https://colab.research.google.com/notebooks/data_table.ipynb>data table notebook</a>'\n",
              "            + ' to learn more about interactive tables.';\n",
              "          element.innerHTML = '';\n",
              "          dataTable['output_type'] = 'display_data';\n",
              "          await google.colab.output.renderOutput(dataTable, element);\n",
              "          const docLink = document.createElement('div');\n",
              "          docLink.innerHTML = docLinkHtml;\n",
              "          element.appendChild(docLink);\n",
              "        }\n",
              "      </script>\n",
              "    </div>\n",
              "  </div>\n",
              "  "
            ]
          },
          "metadata": {},
          "execution_count": 224
        }
      ]
    },
    {
      "cell_type": "code",
      "source": [
        "df_grouped.info()"
      ],
      "metadata": {
        "colab": {
          "base_uri": "https://localhost:8080/"
        },
        "id": "F8qMjkoV_gXe",
        "outputId": "f711a26c-7264-4586-da6f-1a4f1a9fec48"
      },
      "execution_count": null,
      "outputs": [
        {
          "output_type": "stream",
          "name": "stdout",
          "text": [
            "<class 'pandas.core.frame.DataFrame'>\n",
            "RangeIndex: 555 entries, 0 to 554\n",
            "Data columns (total 2 columns):\n",
            " #   Column      Non-Null Count  Dtype \n",
            "---  ------      --------------  ----- \n",
            " 0   id          555 non-null    object\n",
            " 1   portofolio  555 non-null    object\n",
            "dtypes: object(2)\n",
            "memory usage: 8.8+ KB\n"
          ]
        }
      ]
    },
    {
      "cell_type": "code",
      "source": [
        "print(df_grouped['id'].nunique())"
      ],
      "metadata": {
        "colab": {
          "base_uri": "https://localhost:8080/"
        },
        "id": "NXw_XqLS4gRn",
        "outputId": "8faebcc8-c0ae-44e0-83cf-53b352b68779"
      },
      "execution_count": null,
      "outputs": [
        {
          "output_type": "stream",
          "name": "stdout",
          "text": [
            "555\n"
          ]
        }
      ]
    },
    {
      "cell_type": "code",
      "source": [
        "df_user = df_grouped"
      ],
      "metadata": {
        "id": "VPBHGxzrOkYR"
      },
      "execution_count": null,
      "outputs": []
    },
    {
      "cell_type": "code",
      "source": [
        "df.info()"
      ],
      "metadata": {
        "id": "oWTU69Rw_0A4",
        "colab": {
          "base_uri": "https://localhost:8080/"
        },
        "outputId": "8dfd8a41-863e-4eca-ca1c-6cc28a7f7456"
      },
      "execution_count": null,
      "outputs": [
        {
          "output_type": "stream",
          "name": "stdout",
          "text": [
            "<class 'pandas.core.frame.DataFrame'>\n",
            "RangeIndex: 883 entries, 0 to 882\n",
            "Data columns (total 54 columns):\n",
            " #   Column                   Non-Null Count  Dtype  \n",
            "---  ------                   --------------  -----  \n",
            " 0   _id                      883 non-null    object \n",
            " 1   sector                   883 non-null    object \n",
            " 2   idx                      883 non-null    object \n",
            " 3   thematic                 883 non-null    object \n",
            " 4   general_info             865 non-null    object \n",
            " 5   business_product         669 non-null    object \n",
            " 6   total_asset_growth       853 non-null    float64\n",
            " 7   price_sales_ratio        845 non-null    float64\n",
            " 8   sales_growth             834 non-null    float64\n",
            " 9   quick_ratio              849 non-null    float64\n",
            " 10  cost_of_goods_sold       853 non-null    float64\n",
            " 11  cash_flow_per_share      850 non-null    float64\n",
            " 12  net_income_growth        839 non-null    float64\n",
            " 13  operating_profit         853 non-null    float64\n",
            " 14  income_before_tax        853 non-null    float64\n",
            " 15  total_assets             853 non-null    float64\n",
            " 16  total_equity             853 non-null    float64\n",
            " 17  total_liabilities        853 non-null    float64\n",
            " 18  debt_to_equity_ratio     853 non-null    float64\n",
            " 19  cash_equivalent          853 non-null    float64\n",
            " 20  total_sales              853 non-null    float64\n",
            " 21  operating_profit_margin  848 non-null    float64\n",
            " 22  gross_profit_margin      848 non-null    float64\n",
            " 23  net_profit_margin        848 non-null    float64\n",
            " 24  net_income               853 non-null    float64\n",
            " 25  market_cap               861 non-null    float64\n",
            " 26  dailyReturn              861 non-null    float64\n",
            " 27  monthlyReturn            861 non-null    float64\n",
            " 28  annualReturn             861 non-null    float64\n",
            " 29  threeYearReturn          861 non-null    float64\n",
            " 30  fiveYearReturn           861 non-null    float64\n",
            " 31  tenYearReturn            789 non-null    float64\n",
            " 32  listedShare              863 non-null    float64\n",
            " 33  tradableVolume           801 non-null    float64\n",
            " 34  offerVolume              801 non-null    float64\n",
            " 35  tradableValue            858 non-null    float64\n",
            " 36  openPrice                863 non-null    float64\n",
            " 37  closePrice               863 non-null    float64\n",
            " 38  averagePrice             863 non-null    float64\n",
            " 39  lastTradedPrice          863 non-null    float64\n",
            " 40  lowTradedPrice           863 non-null    float64\n",
            " 41  highTradedPrice          863 non-null    float64\n",
            " 42  bidPrice                 749 non-null    float64\n",
            " 43  offerPrice               801 non-null    float64\n",
            " 44  book_value_per_share     853 non-null    float64\n",
            " 45  eps                      778 non-null    float64\n",
            " 46  pbv                      863 non-null    float64\n",
            " 47  roa                      853 non-null    float64\n",
            " 48  roe                      853 non-null    float64\n",
            " 49  per                      787 non-null    float64\n",
            " 50  description              669 non-null    object \n",
            " 51  underwriter              669 non-null    object \n",
            " 52  shareholders             669 non-null    object \n",
            " 53  industry                 883 non-null    object \n",
            "dtypes: float64(44), object(10)\n",
            "memory usage: 372.6+ KB\n"
          ]
        }
      ]
    },
    {
      "cell_type": "code",
      "source": [
        "df_user\n"
      ],
      "metadata": {
        "colab": {
          "base_uri": "https://localhost:8080/"
        },
        "id": "JJu2ifqYOos1",
        "outputId": "d3a94744-905e-4f74-9a84-309f195ed771"
      },
      "execution_count": null,
      "outputs": [
        {
          "output_type": "execute_result",
          "data": {
            "text/plain": [
              "              id                                        portofolio\n",
              "0        0000003                                            [FIMP]\n",
              "1          01OLK                                            [BOLT]\n",
              "2              3                                            [CASH]\n",
              "3    ADANGWAH107                                            [TLKM]\n",
              "4         ADIN99                                            [TRIM]\n",
              "..           ...                                               ...\n",
              "550   YOHANHAR19                                      [MTDL, SIDO]\n",
              "551   YULISPRA20  [CMPP, WSKT, WIKA, KAEF, BRMS, BUKA, GOTO, PTPP]\n",
              "552   YUSUFARI20                                      [SWID, NINE]\n",
              "553   aldialha39                                [AMMS, ANTM, AVIA]\n",
              "554   wukhimin56        [BSDE, ALDO, CSRA, SMRA, BBCA, ASSA, SMDR]\n",
              "\n",
              "[555 rows x 2 columns]"
            ],
            "text/html": [
              "\n",
              "  <div id=\"df-5cef3a41-6faf-417a-8ff8-b60489271b34\">\n",
              "    <div class=\"colab-df-container\">\n",
              "      <div>\n",
              "<style scoped>\n",
              "    .dataframe tbody tr th:only-of-type {\n",
              "        vertical-align: middle;\n",
              "    }\n",
              "\n",
              "    .dataframe tbody tr th {\n",
              "        vertical-align: top;\n",
              "    }\n",
              "\n",
              "    .dataframe thead th {\n",
              "        text-align: right;\n",
              "    }\n",
              "</style>\n",
              "<table border=\"1\" class=\"dataframe\">\n",
              "  <thead>\n",
              "    <tr style=\"text-align: right;\">\n",
              "      <th></th>\n",
              "      <th>id</th>\n",
              "      <th>portofolio</th>\n",
              "    </tr>\n",
              "  </thead>\n",
              "  <tbody>\n",
              "    <tr>\n",
              "      <th>0</th>\n",
              "      <td>0000003</td>\n",
              "      <td>[FIMP]</td>\n",
              "    </tr>\n",
              "    <tr>\n",
              "      <th>1</th>\n",
              "      <td>01OLK</td>\n",
              "      <td>[BOLT]</td>\n",
              "    </tr>\n",
              "    <tr>\n",
              "      <th>2</th>\n",
              "      <td>3</td>\n",
              "      <td>[CASH]</td>\n",
              "    </tr>\n",
              "    <tr>\n",
              "      <th>3</th>\n",
              "      <td>ADANGWAH107</td>\n",
              "      <td>[TLKM]</td>\n",
              "    </tr>\n",
              "    <tr>\n",
              "      <th>4</th>\n",
              "      <td>ADIN99</td>\n",
              "      <td>[TRIM]</td>\n",
              "    </tr>\n",
              "    <tr>\n",
              "      <th>...</th>\n",
              "      <td>...</td>\n",
              "      <td>...</td>\n",
              "    </tr>\n",
              "    <tr>\n",
              "      <th>550</th>\n",
              "      <td>YOHANHAR19</td>\n",
              "      <td>[MTDL, SIDO]</td>\n",
              "    </tr>\n",
              "    <tr>\n",
              "      <th>551</th>\n",
              "      <td>YULISPRA20</td>\n",
              "      <td>[CMPP, WSKT, WIKA, KAEF, BRMS, BUKA, GOTO, PTPP]</td>\n",
              "    </tr>\n",
              "    <tr>\n",
              "      <th>552</th>\n",
              "      <td>YUSUFARI20</td>\n",
              "      <td>[SWID, NINE]</td>\n",
              "    </tr>\n",
              "    <tr>\n",
              "      <th>553</th>\n",
              "      <td>aldialha39</td>\n",
              "      <td>[AMMS, ANTM, AVIA]</td>\n",
              "    </tr>\n",
              "    <tr>\n",
              "      <th>554</th>\n",
              "      <td>wukhimin56</td>\n",
              "      <td>[BSDE, ALDO, CSRA, SMRA, BBCA, ASSA, SMDR]</td>\n",
              "    </tr>\n",
              "  </tbody>\n",
              "</table>\n",
              "<p>555 rows × 2 columns</p>\n",
              "</div>\n",
              "      <button class=\"colab-df-convert\" onclick=\"convertToInteractive('df-5cef3a41-6faf-417a-8ff8-b60489271b34')\"\n",
              "              title=\"Convert this dataframe to an interactive table.\"\n",
              "              style=\"display:none;\">\n",
              "        \n",
              "  <svg xmlns=\"http://www.w3.org/2000/svg\" height=\"24px\"viewBox=\"0 0 24 24\"\n",
              "       width=\"24px\">\n",
              "    <path d=\"M0 0h24v24H0V0z\" fill=\"none\"/>\n",
              "    <path d=\"M18.56 5.44l.94 2.06.94-2.06 2.06-.94-2.06-.94-.94-2.06-.94 2.06-2.06.94zm-11 1L8.5 8.5l.94-2.06 2.06-.94-2.06-.94L8.5 2.5l-.94 2.06-2.06.94zm10 10l.94 2.06.94-2.06 2.06-.94-2.06-.94-.94-2.06-.94 2.06-2.06.94z\"/><path d=\"M17.41 7.96l-1.37-1.37c-.4-.4-.92-.59-1.43-.59-.52 0-1.04.2-1.43.59L10.3 9.45l-7.72 7.72c-.78.78-.78 2.05 0 2.83L4 21.41c.39.39.9.59 1.41.59.51 0 1.02-.2 1.41-.59l7.78-7.78 2.81-2.81c.8-.78.8-2.07 0-2.86zM5.41 20L4 18.59l7.72-7.72 1.47 1.35L5.41 20z\"/>\n",
              "  </svg>\n",
              "      </button>\n",
              "      \n",
              "  <style>\n",
              "    .colab-df-container {\n",
              "      display:flex;\n",
              "      flex-wrap:wrap;\n",
              "      gap: 12px;\n",
              "    }\n",
              "\n",
              "    .colab-df-convert {\n",
              "      background-color: #E8F0FE;\n",
              "      border: none;\n",
              "      border-radius: 50%;\n",
              "      cursor: pointer;\n",
              "      display: none;\n",
              "      fill: #1967D2;\n",
              "      height: 32px;\n",
              "      padding: 0 0 0 0;\n",
              "      width: 32px;\n",
              "    }\n",
              "\n",
              "    .colab-df-convert:hover {\n",
              "      background-color: #E2EBFA;\n",
              "      box-shadow: 0px 1px 2px rgba(60, 64, 67, 0.3), 0px 1px 3px 1px rgba(60, 64, 67, 0.15);\n",
              "      fill: #174EA6;\n",
              "    }\n",
              "\n",
              "    [theme=dark] .colab-df-convert {\n",
              "      background-color: #3B4455;\n",
              "      fill: #D2E3FC;\n",
              "    }\n",
              "\n",
              "    [theme=dark] .colab-df-convert:hover {\n",
              "      background-color: #434B5C;\n",
              "      box-shadow: 0px 1px 3px 1px rgba(0, 0, 0, 0.15);\n",
              "      filter: drop-shadow(0px 1px 2px rgba(0, 0, 0, 0.3));\n",
              "      fill: #FFFFFF;\n",
              "    }\n",
              "  </style>\n",
              "\n",
              "      <script>\n",
              "        const buttonEl =\n",
              "          document.querySelector('#df-5cef3a41-6faf-417a-8ff8-b60489271b34 button.colab-df-convert');\n",
              "        buttonEl.style.display =\n",
              "          google.colab.kernel.accessAllowed ? 'block' : 'none';\n",
              "\n",
              "        async function convertToInteractive(key) {\n",
              "          const element = document.querySelector('#df-5cef3a41-6faf-417a-8ff8-b60489271b34');\n",
              "          const dataTable =\n",
              "            await google.colab.kernel.invokeFunction('convertToInteractive',\n",
              "                                                     [key], {});\n",
              "          if (!dataTable) return;\n",
              "\n",
              "          const docLinkHtml = 'Like what you see? Visit the ' +\n",
              "            '<a target=\"_blank\" href=https://colab.research.google.com/notebooks/data_table.ipynb>data table notebook</a>'\n",
              "            + ' to learn more about interactive tables.';\n",
              "          element.innerHTML = '';\n",
              "          dataTable['output_type'] = 'display_data';\n",
              "          await google.colab.output.renderOutput(dataTable, element);\n",
              "          const docLink = document.createElement('div');\n",
              "          docLink.innerHTML = docLinkHtml;\n",
              "          element.appendChild(docLink);\n",
              "        }\n",
              "      </script>\n",
              "    </div>\n",
              "  </div>\n",
              "  "
            ]
          },
          "metadata": {},
          "execution_count": 229
        }
      ]
    },
    {
      "cell_type": "markdown",
      "source": [
        "# Missing Value"
      ],
      "metadata": {
        "id": "Uky5dcKa_pQ1"
      }
    },
    {
      "cell_type": "markdown",
      "source": [
        "Missing value akan diisi dengan rata-rata.\n",
        "Tidak dihapus karena data _id itu merupakan data semua saham di PINA\n"
      ],
      "metadata": {
        "id": "7QDn56SDA0O6"
      }
    },
    {
      "cell_type": "code",
      "source": [
        "df.isnull().sum() #cek yang NaNT"
      ],
      "metadata": {
        "colab": {
          "base_uri": "https://localhost:8080/"
        },
        "id": "_hrO4y-R_rYw",
        "outputId": "75f6ccb7-f092-45e9-9f71-bdf8692bb384"
      },
      "execution_count": null,
      "outputs": [
        {
          "output_type": "execute_result",
          "data": {
            "text/plain": [
              "_id                          0\n",
              "sector                       0\n",
              "idx                          0\n",
              "thematic                     0\n",
              "general_info                18\n",
              "business_product           214\n",
              "total_asset_growth          30\n",
              "price_sales_ratio           38\n",
              "sales_growth                49\n",
              "quick_ratio                 34\n",
              "cost_of_goods_sold          30\n",
              "cash_flow_per_share         33\n",
              "net_income_growth           44\n",
              "operating_profit            30\n",
              "income_before_tax           30\n",
              "total_assets                30\n",
              "total_equity                30\n",
              "total_liabilities           30\n",
              "debt_to_equity_ratio        30\n",
              "cash_equivalent             30\n",
              "total_sales                 30\n",
              "operating_profit_margin     35\n",
              "gross_profit_margin         35\n",
              "net_profit_margin           35\n",
              "net_income                  30\n",
              "market_cap                  22\n",
              "dailyReturn                 22\n",
              "monthlyReturn               22\n",
              "annualReturn                22\n",
              "threeYearReturn             22\n",
              "fiveYearReturn              22\n",
              "tenYearReturn               94\n",
              "listedShare                 20\n",
              "tradableVolume              82\n",
              "offerVolume                 82\n",
              "tradableValue               25\n",
              "openPrice                   20\n",
              "closePrice                  20\n",
              "averagePrice                20\n",
              "lastTradedPrice             20\n",
              "lowTradedPrice              20\n",
              "highTradedPrice             20\n",
              "bidPrice                   134\n",
              "offerPrice                  82\n",
              "book_value_per_share        30\n",
              "eps                        105\n",
              "pbv                         20\n",
              "roa                         30\n",
              "roe                         30\n",
              "per                         96\n",
              "description                214\n",
              "underwriter                214\n",
              "shareholders               214\n",
              "industry                     0\n",
              "dtype: int64"
            ]
          },
          "metadata": {},
          "execution_count": 230
        }
      ]
    },
    {
      "cell_type": "code",
      "source": [
        "#mengisi NaN kolum general_info dengan string kosong\n",
        "df['general_info'].fillna('', inplace=True)"
      ],
      "metadata": {
        "id": "lo5F784YG77H"
      },
      "execution_count": null,
      "outputs": []
    },
    {
      "cell_type": "code",
      "source": [
        "count = df['_id'].nunique()\n",
        "print(count)"
      ],
      "metadata": {
        "colab": {
          "base_uri": "https://localhost:8080/"
        },
        "id": "o8oXOMz0ANwJ",
        "outputId": "77092ba8-802a-4338-e8d8-671f564b644f"
      },
      "execution_count": null,
      "outputs": [
        {
          "output_type": "stream",
          "name": "stdout",
          "text": [
            "883\n"
          ]
        }
      ]
    },
    {
      "cell_type": "code",
      "source": [
        "df.fillna(df.mean(), inplace=True) #mengisi dengan nilai rata-rata"
      ],
      "metadata": {
        "colab": {
          "base_uri": "https://localhost:8080/"
        },
        "id": "KK0ETcvZArJW",
        "outputId": "34fc363e-2483-4d94-ebb6-0c00206e7640"
      },
      "execution_count": null,
      "outputs": [
        {
          "output_type": "stream",
          "name": "stderr",
          "text": [
            "<ipython-input-233-9598921fdd30>:1: FutureWarning: The default value of numeric_only in DataFrame.mean is deprecated. In a future version, it will default to False. In addition, specifying 'numeric_only=None' is deprecated. Select only valid columns or specify the value of numeric_only to silence this warning.\n",
            "  df.fillna(df.mean(), inplace=True) #mengisi dengan nilai rata-rata\n"
          ]
        }
      ]
    },
    {
      "cell_type": "code",
      "source": [
        "df.info()"
      ],
      "metadata": {
        "id": "at64pTPACKz3",
        "colab": {
          "base_uri": "https://localhost:8080/"
        },
        "outputId": "f9e140d1-9b84-482b-b395-5f2071d6f723"
      },
      "execution_count": null,
      "outputs": [
        {
          "output_type": "stream",
          "name": "stdout",
          "text": [
            "<class 'pandas.core.frame.DataFrame'>\n",
            "RangeIndex: 883 entries, 0 to 882\n",
            "Data columns (total 54 columns):\n",
            " #   Column                   Non-Null Count  Dtype  \n",
            "---  ------                   --------------  -----  \n",
            " 0   _id                      883 non-null    object \n",
            " 1   sector                   883 non-null    object \n",
            " 2   idx                      883 non-null    object \n",
            " 3   thematic                 883 non-null    object \n",
            " 4   general_info             883 non-null    object \n",
            " 5   business_product         669 non-null    object \n",
            " 6   total_asset_growth       883 non-null    float64\n",
            " 7   price_sales_ratio        883 non-null    float64\n",
            " 8   sales_growth             883 non-null    float64\n",
            " 9   quick_ratio              883 non-null    float64\n",
            " 10  cost_of_goods_sold       883 non-null    float64\n",
            " 11  cash_flow_per_share      883 non-null    float64\n",
            " 12  net_income_growth        883 non-null    float64\n",
            " 13  operating_profit         883 non-null    float64\n",
            " 14  income_before_tax        883 non-null    float64\n",
            " 15  total_assets             883 non-null    float64\n",
            " 16  total_equity             883 non-null    float64\n",
            " 17  total_liabilities        883 non-null    float64\n",
            " 18  debt_to_equity_ratio     883 non-null    float64\n",
            " 19  cash_equivalent          883 non-null    float64\n",
            " 20  total_sales              883 non-null    float64\n",
            " 21  operating_profit_margin  883 non-null    float64\n",
            " 22  gross_profit_margin      883 non-null    float64\n",
            " 23  net_profit_margin        883 non-null    float64\n",
            " 24  net_income               883 non-null    float64\n",
            " 25  market_cap               883 non-null    float64\n",
            " 26  dailyReturn              883 non-null    float64\n",
            " 27  monthlyReturn            883 non-null    float64\n",
            " 28  annualReturn             883 non-null    float64\n",
            " 29  threeYearReturn          883 non-null    float64\n",
            " 30  fiveYearReturn           883 non-null    float64\n",
            " 31  tenYearReturn            883 non-null    float64\n",
            " 32  listedShare              883 non-null    float64\n",
            " 33  tradableVolume           883 non-null    float64\n",
            " 34  offerVolume              883 non-null    float64\n",
            " 35  tradableValue            883 non-null    float64\n",
            " 36  openPrice                883 non-null    float64\n",
            " 37  closePrice               883 non-null    float64\n",
            " 38  averagePrice             883 non-null    float64\n",
            " 39  lastTradedPrice          883 non-null    float64\n",
            " 40  lowTradedPrice           883 non-null    float64\n",
            " 41  highTradedPrice          883 non-null    float64\n",
            " 42  bidPrice                 883 non-null    float64\n",
            " 43  offerPrice               883 non-null    float64\n",
            " 44  book_value_per_share     883 non-null    float64\n",
            " 45  eps                      883 non-null    float64\n",
            " 46  pbv                      883 non-null    float64\n",
            " 47  roa                      883 non-null    float64\n",
            " 48  roe                      883 non-null    float64\n",
            " 49  per                      883 non-null    float64\n",
            " 50  description              669 non-null    object \n",
            " 51  underwriter              669 non-null    object \n",
            " 52  shareholders             669 non-null    object \n",
            " 53  industry                 883 non-null    object \n",
            "dtypes: float64(44), object(10)\n",
            "memory usage: 372.6+ KB\n"
          ]
        }
      ]
    },
    {
      "cell_type": "code",
      "source": [
        "df.columns"
      ],
      "metadata": {
        "colab": {
          "base_uri": "https://localhost:8080/"
        },
        "id": "v-kFF72vkE2g",
        "outputId": "e8aede9e-362c-418d-962c-3db565a207b4"
      },
      "execution_count": null,
      "outputs": [
        {
          "output_type": "execute_result",
          "data": {
            "text/plain": [
              "Index(['_id', 'sector', 'idx', 'thematic', 'general_info', 'business_product',\n",
              "       'total_asset_growth', 'price_sales_ratio', 'sales_growth',\n",
              "       'quick_ratio', 'cost_of_goods_sold', 'cash_flow_per_share',\n",
              "       'net_income_growth', 'operating_profit', 'income_before_tax',\n",
              "       'total_assets', 'total_equity', 'total_liabilities',\n",
              "       'debt_to_equity_ratio', 'cash_equivalent', 'total_sales',\n",
              "       'operating_profit_margin', 'gross_profit_margin', 'net_profit_margin',\n",
              "       'net_income', 'market_cap', 'dailyReturn', 'monthlyReturn',\n",
              "       'annualReturn', 'threeYearReturn', 'fiveYearReturn', 'tenYearReturn',\n",
              "       'listedShare', 'tradableVolume', 'offerVolume', 'tradableValue',\n",
              "       'openPrice', 'closePrice', 'averagePrice', 'lastTradedPrice',\n",
              "       'lowTradedPrice', 'highTradedPrice', 'bidPrice', 'offerPrice',\n",
              "       'book_value_per_share', 'eps', 'pbv', 'roa', 'roe', 'per',\n",
              "       'description', 'underwriter', 'shareholders', 'industry'],\n",
              "      dtype='object')"
            ]
          },
          "metadata": {},
          "execution_count": 235
        }
      ]
    },
    {
      "cell_type": "code",
      "source": [
        "#yang NaN ini diisi sama ''\n",
        "df[['business_product','description', 'underwriter', 'shareholders']] = df[['business_product','description', 'underwriter', 'shareholders']].fillna('')"
      ],
      "metadata": {
        "id": "Vs-gV4o0j0FD"
      },
      "execution_count": null,
      "outputs": []
    },
    {
      "cell_type": "code",
      "source": [
        "df.info()"
      ],
      "metadata": {
        "colab": {
          "base_uri": "https://localhost:8080/"
        },
        "id": "0QxrBRdCh89g",
        "outputId": "e6428d2c-2f94-4c29-ef5a-8dfeb09e9d13"
      },
      "execution_count": null,
      "outputs": [
        {
          "output_type": "stream",
          "name": "stdout",
          "text": [
            "<class 'pandas.core.frame.DataFrame'>\n",
            "RangeIndex: 883 entries, 0 to 882\n",
            "Data columns (total 54 columns):\n",
            " #   Column                   Non-Null Count  Dtype  \n",
            "---  ------                   --------------  -----  \n",
            " 0   _id                      883 non-null    object \n",
            " 1   sector                   883 non-null    object \n",
            " 2   idx                      883 non-null    object \n",
            " 3   thematic                 883 non-null    object \n",
            " 4   general_info             883 non-null    object \n",
            " 5   business_product         883 non-null    object \n",
            " 6   total_asset_growth       883 non-null    float64\n",
            " 7   price_sales_ratio        883 non-null    float64\n",
            " 8   sales_growth             883 non-null    float64\n",
            " 9   quick_ratio              883 non-null    float64\n",
            " 10  cost_of_goods_sold       883 non-null    float64\n",
            " 11  cash_flow_per_share      883 non-null    float64\n",
            " 12  net_income_growth        883 non-null    float64\n",
            " 13  operating_profit         883 non-null    float64\n",
            " 14  income_before_tax        883 non-null    float64\n",
            " 15  total_assets             883 non-null    float64\n",
            " 16  total_equity             883 non-null    float64\n",
            " 17  total_liabilities        883 non-null    float64\n",
            " 18  debt_to_equity_ratio     883 non-null    float64\n",
            " 19  cash_equivalent          883 non-null    float64\n",
            " 20  total_sales              883 non-null    float64\n",
            " 21  operating_profit_margin  883 non-null    float64\n",
            " 22  gross_profit_margin      883 non-null    float64\n",
            " 23  net_profit_margin        883 non-null    float64\n",
            " 24  net_income               883 non-null    float64\n",
            " 25  market_cap               883 non-null    float64\n",
            " 26  dailyReturn              883 non-null    float64\n",
            " 27  monthlyReturn            883 non-null    float64\n",
            " 28  annualReturn             883 non-null    float64\n",
            " 29  threeYearReturn          883 non-null    float64\n",
            " 30  fiveYearReturn           883 non-null    float64\n",
            " 31  tenYearReturn            883 non-null    float64\n",
            " 32  listedShare              883 non-null    float64\n",
            " 33  tradableVolume           883 non-null    float64\n",
            " 34  offerVolume              883 non-null    float64\n",
            " 35  tradableValue            883 non-null    float64\n",
            " 36  openPrice                883 non-null    float64\n",
            " 37  closePrice               883 non-null    float64\n",
            " 38  averagePrice             883 non-null    float64\n",
            " 39  lastTradedPrice          883 non-null    float64\n",
            " 40  lowTradedPrice           883 non-null    float64\n",
            " 41  highTradedPrice          883 non-null    float64\n",
            " 42  bidPrice                 883 non-null    float64\n",
            " 43  offerPrice               883 non-null    float64\n",
            " 44  book_value_per_share     883 non-null    float64\n",
            " 45  eps                      883 non-null    float64\n",
            " 46  pbv                      883 non-null    float64\n",
            " 47  roa                      883 non-null    float64\n",
            " 48  roe                      883 non-null    float64\n",
            " 49  per                      883 non-null    float64\n",
            " 50  description              883 non-null    object \n",
            " 51  underwriter              883 non-null    object \n",
            " 52  shareholders             883 non-null    object \n",
            " 53  industry                 883 non-null    object \n",
            "dtypes: float64(44), object(10)\n",
            "memory usage: 372.6+ KB\n"
          ]
        }
      ]
    },
    {
      "cell_type": "code",
      "source": [
        "df.columns"
      ],
      "metadata": {
        "colab": {
          "base_uri": "https://localhost:8080/"
        },
        "id": "noi2Tzn7i25z",
        "outputId": "7afb9be9-1950-4284-a347-ea8bba56811b"
      },
      "execution_count": null,
      "outputs": [
        {
          "output_type": "execute_result",
          "data": {
            "text/plain": [
              "Index(['_id', 'sector', 'idx', 'thematic', 'general_info', 'business_product',\n",
              "       'total_asset_growth', 'price_sales_ratio', 'sales_growth',\n",
              "       'quick_ratio', 'cost_of_goods_sold', 'cash_flow_per_share',\n",
              "       'net_income_growth', 'operating_profit', 'income_before_tax',\n",
              "       'total_assets', 'total_equity', 'total_liabilities',\n",
              "       'debt_to_equity_ratio', 'cash_equivalent', 'total_sales',\n",
              "       'operating_profit_margin', 'gross_profit_margin', 'net_profit_margin',\n",
              "       'net_income', 'market_cap', 'dailyReturn', 'monthlyReturn',\n",
              "       'annualReturn', 'threeYearReturn', 'fiveYearReturn', 'tenYearReturn',\n",
              "       'listedShare', 'tradableVolume', 'offerVolume', 'tradableValue',\n",
              "       'openPrice', 'closePrice', 'averagePrice', 'lastTradedPrice',\n",
              "       'lowTradedPrice', 'highTradedPrice', 'bidPrice', 'offerPrice',\n",
              "       'book_value_per_share', 'eps', 'pbv', 'roa', 'roe', 'per',\n",
              "       'description', 'underwriter', 'shareholders', 'industry'],\n",
              "      dtype='object')"
            ]
          },
          "metadata": {},
          "execution_count": 238
        }
      ]
    },
    {
      "cell_type": "markdown",
      "source": [
        "# Menghapus Kolum tidak penting"
      ],
      "metadata": {
        "id": "SUNr5n56i9-s"
      }
    },
    {
      "cell_type": "code",
      "source": [
        "#aku akan menghapus semua yang float karena ini versi menggunakan bacotan okay\n",
        "columns_to_drop = ['total_asset_growth', 'price_sales_ratio', 'sales_growth',\n",
        "       'quick_ratio', 'cost_of_goods_sold', 'cash_flow_per_share',\n",
        "       'net_income_growth', 'operating_profit', 'income_before_tax',\n",
        "       'total_assets', 'total_equity', 'total_liabilities',\n",
        "       'debt_to_equity_ratio', 'cash_equivalent', 'total_sales',\n",
        "       'operating_profit_margin', 'gross_profit_margin', 'net_profit_margin',\n",
        "       'net_income', 'market_cap', 'dailyReturn', 'monthlyReturn',\n",
        "       'annualReturn', 'threeYearReturn', 'fiveYearReturn', 'tenYearReturn',\n",
        "       'listedShare', 'tradableVolume', 'offerVolume', 'tradableValue',\n",
        "       'openPrice', 'closePrice', 'averagePrice', 'lastTradedPrice',\n",
        "       'lowTradedPrice', 'highTradedPrice', 'bidPrice', 'offerPrice',\n",
        "       'book_value_per_share', 'eps', 'pbv', 'roa', 'roe', 'per']\n",
        "df = df.drop(columns=columns_to_drop)\n"
      ],
      "metadata": {
        "id": "3ryRU_sEiUmm"
      },
      "execution_count": null,
      "outputs": []
    },
    {
      "cell_type": "code",
      "source": [
        "df.head()"
      ],
      "metadata": {
        "colab": {
          "base_uri": "https://localhost:8080/",
          "height": 582
        },
        "id": "8oqzO39k38AY",
        "outputId": "cf235c55-e5d7-4c09-c01b-0b640af137c1"
      },
      "execution_count": null,
      "outputs": [
        {
          "output_type": "execute_result",
          "data": {
            "text/plain": [
              "    _id             sector                                                idx  \\\n",
              "0  AALI   [\"Non-Siklikal\"]  [\"IDXSMC-LIQ\" \"JII70\" \"ESGQKEHATI\" \"IDX80\" \"IS...   \n",
              "1  ABBA       [\"Siklikal\"]                                                 []   \n",
              "2  ABDA       [\"Keuangan\"]                                     [\"IDXSMC-COM\"]   \n",
              "3  ABMM  [\"Perindustrian\"]                  [\"IDXSMC-COM\" \"KOMPAS100\" \"ISSI\"]   \n",
              "4  ACES       [\"Siklikal\"]  [\"IDXSMC-LIQ\" \"JII\" \"IDX80\" \"IDXQ30\" \"ISSI\" \"I...   \n",
              "\n",
              "                                     thematic  \\\n",
              "0                                          []   \n",
              "1                                          []   \n",
              "2                                          []   \n",
              "3  [\"Value Investing\" \"Komoditas Supercycle\"]   \n",
              "4        [\"Retailer Indonesia\" \"ESG Leaders\"]   \n",
              "\n",
              "                                        general_info  \\\n",
              "0  PT Astra Agro Lestari Tbk (IDX: AALI) adalah a...   \n",
              "1  PT Mahaka Media Tbk (IDX: ABBA) merupakan peru...   \n",
              "2  PT Asuransi Bina Dana Arta Tbk (IDX: ABDA) mer...   \n",
              "3  PT ABM Investama Tbk (IDX: ABMM) merupakan emi...   \n",
              "4  PT Ace Hardware Indonesia Tbk (IDX: ACES) adal...   \n",
              "\n",
              "                                    business_product  \\\n",
              "0  <p>Based&#32;on&#32;the&#32;Company&#39;s&#32;...   \n",
              "1                                                      \n",
              "2  <p>The&#32;Company&#32;is&#32;engaged&#32;in&#...   \n",
              "3  <p>The&#32;Company&#39;s&#32;scope&#32;of&#32;...   \n",
              "4  <p>The&#32;Company&#39;s&#32;scope&#32;of&#32;...   \n",
              "\n",
              "                                         description  \\\n",
              "0  <p>Astra&#32;Agro&#32;Lestari&#44;&#32;PT&#32;...   \n",
              "1                                                      \n",
              "2  <p>PT&#32;Asuransi&#32;Bina&#32;Dana&#32;Arta&...   \n",
              "3  <p>ABM&#32;Investama&#44;&#32;PT&#32;&#40;the&...   \n",
              "4  <p>PT&#32;Ace&#32;Hardware&#32;Indonesia&#32;&...   \n",
              "\n",
              "                                         underwriter  \\\n",
              "0  <table cellspacing=\"0\" cellpadding=\"0\"><tbody>...   \n",
              "1                                                      \n",
              "2  <table cellspacing=\"0\" cellpadding=\"0\"><tbody>...   \n",
              "3  <table cellspacing=\"0\" cellpadding=\"0\"><tbody>...   \n",
              "4  <table cellspacing=\"0\" cellpadding=\"0\"><tbody>...   \n",
              "\n",
              "                                        shareholders  \\\n",
              "0  <table cellspacing=\"0\" cellpadding=\"0\"><tbody>...   \n",
              "1                                                      \n",
              "2  <table cellspacing=\"0\" cellpadding=\"0\"><tbody>...   \n",
              "3  <table cellspacing=\"0\" cellpadding=\"0\"><tbody>...   \n",
              "4  <table cellspacing=\"0\" cellpadding=\"0\"><tbody>...   \n",
              "\n",
              "                          industry  \n",
              "0         Produk Makanan Pertanian  \n",
              "1                            Media  \n",
              "2                         Asuransi  \n",
              "3  Perusahaan Holding Multi-sektor  \n",
              "4                     Ritel Khusus  "
            ],
            "text/html": [
              "\n",
              "  <div id=\"df-f2f8e7c8-26e5-4ae4-9d8b-36617c6a3e4b\">\n",
              "    <div class=\"colab-df-container\">\n",
              "      <div>\n",
              "<style scoped>\n",
              "    .dataframe tbody tr th:only-of-type {\n",
              "        vertical-align: middle;\n",
              "    }\n",
              "\n",
              "    .dataframe tbody tr th {\n",
              "        vertical-align: top;\n",
              "    }\n",
              "\n",
              "    .dataframe thead th {\n",
              "        text-align: right;\n",
              "    }\n",
              "</style>\n",
              "<table border=\"1\" class=\"dataframe\">\n",
              "  <thead>\n",
              "    <tr style=\"text-align: right;\">\n",
              "      <th></th>\n",
              "      <th>_id</th>\n",
              "      <th>sector</th>\n",
              "      <th>idx</th>\n",
              "      <th>thematic</th>\n",
              "      <th>general_info</th>\n",
              "      <th>business_product</th>\n",
              "      <th>description</th>\n",
              "      <th>underwriter</th>\n",
              "      <th>shareholders</th>\n",
              "      <th>industry</th>\n",
              "    </tr>\n",
              "  </thead>\n",
              "  <tbody>\n",
              "    <tr>\n",
              "      <th>0</th>\n",
              "      <td>AALI</td>\n",
              "      <td>[\"Non-Siklikal\"]</td>\n",
              "      <td>[\"IDXSMC-LIQ\" \"JII70\" \"ESGQKEHATI\" \"IDX80\" \"IS...</td>\n",
              "      <td>[]</td>\n",
              "      <td>PT Astra Agro Lestari Tbk (IDX: AALI) adalah a...</td>\n",
              "      <td>&lt;p&gt;Based&amp;#32;on&amp;#32;the&amp;#32;Company&amp;#39;s&amp;#32;...</td>\n",
              "      <td>&lt;p&gt;Astra&amp;#32;Agro&amp;#32;Lestari&amp;#44;&amp;#32;PT&amp;#32;...</td>\n",
              "      <td>&lt;table cellspacing=\"0\" cellpadding=\"0\"&gt;&lt;tbody&gt;...</td>\n",
              "      <td>&lt;table cellspacing=\"0\" cellpadding=\"0\"&gt;&lt;tbody&gt;...</td>\n",
              "      <td>Produk Makanan Pertanian</td>\n",
              "    </tr>\n",
              "    <tr>\n",
              "      <th>1</th>\n",
              "      <td>ABBA</td>\n",
              "      <td>[\"Siklikal\"]</td>\n",
              "      <td>[]</td>\n",
              "      <td>[]</td>\n",
              "      <td>PT Mahaka Media Tbk (IDX: ABBA) merupakan peru...</td>\n",
              "      <td></td>\n",
              "      <td></td>\n",
              "      <td></td>\n",
              "      <td></td>\n",
              "      <td>Media</td>\n",
              "    </tr>\n",
              "    <tr>\n",
              "      <th>2</th>\n",
              "      <td>ABDA</td>\n",
              "      <td>[\"Keuangan\"]</td>\n",
              "      <td>[\"IDXSMC-COM\"]</td>\n",
              "      <td>[]</td>\n",
              "      <td>PT Asuransi Bina Dana Arta Tbk (IDX: ABDA) mer...</td>\n",
              "      <td>&lt;p&gt;The&amp;#32;Company&amp;#32;is&amp;#32;engaged&amp;#32;in&amp;#...</td>\n",
              "      <td>&lt;p&gt;PT&amp;#32;Asuransi&amp;#32;Bina&amp;#32;Dana&amp;#32;Arta&amp;...</td>\n",
              "      <td>&lt;table cellspacing=\"0\" cellpadding=\"0\"&gt;&lt;tbody&gt;...</td>\n",
              "      <td>&lt;table cellspacing=\"0\" cellpadding=\"0\"&gt;&lt;tbody&gt;...</td>\n",
              "      <td>Asuransi</td>\n",
              "    </tr>\n",
              "    <tr>\n",
              "      <th>3</th>\n",
              "      <td>ABMM</td>\n",
              "      <td>[\"Perindustrian\"]</td>\n",
              "      <td>[\"IDXSMC-COM\" \"KOMPAS100\" \"ISSI\"]</td>\n",
              "      <td>[\"Value Investing\" \"Komoditas Supercycle\"]</td>\n",
              "      <td>PT ABM Investama Tbk (IDX: ABMM) merupakan emi...</td>\n",
              "      <td>&lt;p&gt;The&amp;#32;Company&amp;#39;s&amp;#32;scope&amp;#32;of&amp;#32;...</td>\n",
              "      <td>&lt;p&gt;ABM&amp;#32;Investama&amp;#44;&amp;#32;PT&amp;#32;&amp;#40;the&amp;...</td>\n",
              "      <td>&lt;table cellspacing=\"0\" cellpadding=\"0\"&gt;&lt;tbody&gt;...</td>\n",
              "      <td>&lt;table cellspacing=\"0\" cellpadding=\"0\"&gt;&lt;tbody&gt;...</td>\n",
              "      <td>Perusahaan Holding Multi-sektor</td>\n",
              "    </tr>\n",
              "    <tr>\n",
              "      <th>4</th>\n",
              "      <td>ACES</td>\n",
              "      <td>[\"Siklikal\"]</td>\n",
              "      <td>[\"IDXSMC-LIQ\" \"JII\" \"IDX80\" \"IDXQ30\" \"ISSI\" \"I...</td>\n",
              "      <td>[\"Retailer Indonesia\" \"ESG Leaders\"]</td>\n",
              "      <td>PT Ace Hardware Indonesia Tbk (IDX: ACES) adal...</td>\n",
              "      <td>&lt;p&gt;The&amp;#32;Company&amp;#39;s&amp;#32;scope&amp;#32;of&amp;#32;...</td>\n",
              "      <td>&lt;p&gt;PT&amp;#32;Ace&amp;#32;Hardware&amp;#32;Indonesia&amp;#32;&amp;...</td>\n",
              "      <td>&lt;table cellspacing=\"0\" cellpadding=\"0\"&gt;&lt;tbody&gt;...</td>\n",
              "      <td>&lt;table cellspacing=\"0\" cellpadding=\"0\"&gt;&lt;tbody&gt;...</td>\n",
              "      <td>Ritel Khusus</td>\n",
              "    </tr>\n",
              "  </tbody>\n",
              "</table>\n",
              "</div>\n",
              "      <button class=\"colab-df-convert\" onclick=\"convertToInteractive('df-f2f8e7c8-26e5-4ae4-9d8b-36617c6a3e4b')\"\n",
              "              title=\"Convert this dataframe to an interactive table.\"\n",
              "              style=\"display:none;\">\n",
              "        \n",
              "  <svg xmlns=\"http://www.w3.org/2000/svg\" height=\"24px\"viewBox=\"0 0 24 24\"\n",
              "       width=\"24px\">\n",
              "    <path d=\"M0 0h24v24H0V0z\" fill=\"none\"/>\n",
              "    <path d=\"M18.56 5.44l.94 2.06.94-2.06 2.06-.94-2.06-.94-.94-2.06-.94 2.06-2.06.94zm-11 1L8.5 8.5l.94-2.06 2.06-.94-2.06-.94L8.5 2.5l-.94 2.06-2.06.94zm10 10l.94 2.06.94-2.06 2.06-.94-2.06-.94-.94-2.06-.94 2.06-2.06.94z\"/><path d=\"M17.41 7.96l-1.37-1.37c-.4-.4-.92-.59-1.43-.59-.52 0-1.04.2-1.43.59L10.3 9.45l-7.72 7.72c-.78.78-.78 2.05 0 2.83L4 21.41c.39.39.9.59 1.41.59.51 0 1.02-.2 1.41-.59l7.78-7.78 2.81-2.81c.8-.78.8-2.07 0-2.86zM5.41 20L4 18.59l7.72-7.72 1.47 1.35L5.41 20z\"/>\n",
              "  </svg>\n",
              "      </button>\n",
              "      \n",
              "  <style>\n",
              "    .colab-df-container {\n",
              "      display:flex;\n",
              "      flex-wrap:wrap;\n",
              "      gap: 12px;\n",
              "    }\n",
              "\n",
              "    .colab-df-convert {\n",
              "      background-color: #E8F0FE;\n",
              "      border: none;\n",
              "      border-radius: 50%;\n",
              "      cursor: pointer;\n",
              "      display: none;\n",
              "      fill: #1967D2;\n",
              "      height: 32px;\n",
              "      padding: 0 0 0 0;\n",
              "      width: 32px;\n",
              "    }\n",
              "\n",
              "    .colab-df-convert:hover {\n",
              "      background-color: #E2EBFA;\n",
              "      box-shadow: 0px 1px 2px rgba(60, 64, 67, 0.3), 0px 1px 3px 1px rgba(60, 64, 67, 0.15);\n",
              "      fill: #174EA6;\n",
              "    }\n",
              "\n",
              "    [theme=dark] .colab-df-convert {\n",
              "      background-color: #3B4455;\n",
              "      fill: #D2E3FC;\n",
              "    }\n",
              "\n",
              "    [theme=dark] .colab-df-convert:hover {\n",
              "      background-color: #434B5C;\n",
              "      box-shadow: 0px 1px 3px 1px rgba(0, 0, 0, 0.15);\n",
              "      filter: drop-shadow(0px 1px 2px rgba(0, 0, 0, 0.3));\n",
              "      fill: #FFFFFF;\n",
              "    }\n",
              "  </style>\n",
              "\n",
              "      <script>\n",
              "        const buttonEl =\n",
              "          document.querySelector('#df-f2f8e7c8-26e5-4ae4-9d8b-36617c6a3e4b button.colab-df-convert');\n",
              "        buttonEl.style.display =\n",
              "          google.colab.kernel.accessAllowed ? 'block' : 'none';\n",
              "\n",
              "        async function convertToInteractive(key) {\n",
              "          const element = document.querySelector('#df-f2f8e7c8-26e5-4ae4-9d8b-36617c6a3e4b');\n",
              "          const dataTable =\n",
              "            await google.colab.kernel.invokeFunction('convertToInteractive',\n",
              "                                                     [key], {});\n",
              "          if (!dataTable) return;\n",
              "\n",
              "          const docLinkHtml = 'Like what you see? Visit the ' +\n",
              "            '<a target=\"_blank\" href=https://colab.research.google.com/notebooks/data_table.ipynb>data table notebook</a>'\n",
              "            + ' to learn more about interactive tables.';\n",
              "          element.innerHTML = '';\n",
              "          dataTable['output_type'] = 'display_data';\n",
              "          await google.colab.output.renderOutput(dataTable, element);\n",
              "          const docLink = document.createElement('div');\n",
              "          docLink.innerHTML = docLinkHtml;\n",
              "          element.appendChild(docLink);\n",
              "        }\n",
              "      </script>\n",
              "    </div>\n",
              "  </div>\n",
              "  "
            ]
          },
          "metadata": {},
          "execution_count": 240
        }
      ]
    },
    {
      "cell_type": "code",
      "source": [
        "#ini dihapusin karena terlihat tidak penting, sudah dicek\n",
        "columns_to_drop = ['idx','general_info','description','underwriter','shareholders']\n",
        "df = df.drop(columns=columns_to_drop)"
      ],
      "metadata": {
        "id": "vh_8StiAjvOB"
      },
      "execution_count": null,
      "outputs": []
    },
    {
      "cell_type": "code",
      "source": [
        "df.head(1)"
      ],
      "metadata": {
        "colab": {
          "base_uri": "https://localhost:8080/",
          "height": 80
        },
        "id": "9JSzkRggiUqG",
        "outputId": "a5c59362-527c-4973-e992-1bd0c531b823"
      },
      "execution_count": null,
      "outputs": [
        {
          "output_type": "execute_result",
          "data": {
            "text/plain": [
              "    _id            sector thematic  \\\n",
              "0  AALI  [\"Non-Siklikal\"]       []   \n",
              "\n",
              "                                    business_product                  industry  \n",
              "0  <p>Based&#32;on&#32;the&#32;Company&#39;s&#32;...  Produk Makanan Pertanian  "
            ],
            "text/html": [
              "\n",
              "  <div id=\"df-1738cd88-db97-402d-93f1-96a4510a0117\">\n",
              "    <div class=\"colab-df-container\">\n",
              "      <div>\n",
              "<style scoped>\n",
              "    .dataframe tbody tr th:only-of-type {\n",
              "        vertical-align: middle;\n",
              "    }\n",
              "\n",
              "    .dataframe tbody tr th {\n",
              "        vertical-align: top;\n",
              "    }\n",
              "\n",
              "    .dataframe thead th {\n",
              "        text-align: right;\n",
              "    }\n",
              "</style>\n",
              "<table border=\"1\" class=\"dataframe\">\n",
              "  <thead>\n",
              "    <tr style=\"text-align: right;\">\n",
              "      <th></th>\n",
              "      <th>_id</th>\n",
              "      <th>sector</th>\n",
              "      <th>thematic</th>\n",
              "      <th>business_product</th>\n",
              "      <th>industry</th>\n",
              "    </tr>\n",
              "  </thead>\n",
              "  <tbody>\n",
              "    <tr>\n",
              "      <th>0</th>\n",
              "      <td>AALI</td>\n",
              "      <td>[\"Non-Siklikal\"]</td>\n",
              "      <td>[]</td>\n",
              "      <td>&lt;p&gt;Based&amp;#32;on&amp;#32;the&amp;#32;Company&amp;#39;s&amp;#32;...</td>\n",
              "      <td>Produk Makanan Pertanian</td>\n",
              "    </tr>\n",
              "  </tbody>\n",
              "</table>\n",
              "</div>\n",
              "      <button class=\"colab-df-convert\" onclick=\"convertToInteractive('df-1738cd88-db97-402d-93f1-96a4510a0117')\"\n",
              "              title=\"Convert this dataframe to an interactive table.\"\n",
              "              style=\"display:none;\">\n",
              "        \n",
              "  <svg xmlns=\"http://www.w3.org/2000/svg\" height=\"24px\"viewBox=\"0 0 24 24\"\n",
              "       width=\"24px\">\n",
              "    <path d=\"M0 0h24v24H0V0z\" fill=\"none\"/>\n",
              "    <path d=\"M18.56 5.44l.94 2.06.94-2.06 2.06-.94-2.06-.94-.94-2.06-.94 2.06-2.06.94zm-11 1L8.5 8.5l.94-2.06 2.06-.94-2.06-.94L8.5 2.5l-.94 2.06-2.06.94zm10 10l.94 2.06.94-2.06 2.06-.94-2.06-.94-.94-2.06-.94 2.06-2.06.94z\"/><path d=\"M17.41 7.96l-1.37-1.37c-.4-.4-.92-.59-1.43-.59-.52 0-1.04.2-1.43.59L10.3 9.45l-7.72 7.72c-.78.78-.78 2.05 0 2.83L4 21.41c.39.39.9.59 1.41.59.51 0 1.02-.2 1.41-.59l7.78-7.78 2.81-2.81c.8-.78.8-2.07 0-2.86zM5.41 20L4 18.59l7.72-7.72 1.47 1.35L5.41 20z\"/>\n",
              "  </svg>\n",
              "      </button>\n",
              "      \n",
              "  <style>\n",
              "    .colab-df-container {\n",
              "      display:flex;\n",
              "      flex-wrap:wrap;\n",
              "      gap: 12px;\n",
              "    }\n",
              "\n",
              "    .colab-df-convert {\n",
              "      background-color: #E8F0FE;\n",
              "      border: none;\n",
              "      border-radius: 50%;\n",
              "      cursor: pointer;\n",
              "      display: none;\n",
              "      fill: #1967D2;\n",
              "      height: 32px;\n",
              "      padding: 0 0 0 0;\n",
              "      width: 32px;\n",
              "    }\n",
              "\n",
              "    .colab-df-convert:hover {\n",
              "      background-color: #E2EBFA;\n",
              "      box-shadow: 0px 1px 2px rgba(60, 64, 67, 0.3), 0px 1px 3px 1px rgba(60, 64, 67, 0.15);\n",
              "      fill: #174EA6;\n",
              "    }\n",
              "\n",
              "    [theme=dark] .colab-df-convert {\n",
              "      background-color: #3B4455;\n",
              "      fill: #D2E3FC;\n",
              "    }\n",
              "\n",
              "    [theme=dark] .colab-df-convert:hover {\n",
              "      background-color: #434B5C;\n",
              "      box-shadow: 0px 1px 3px 1px rgba(0, 0, 0, 0.15);\n",
              "      filter: drop-shadow(0px 1px 2px rgba(0, 0, 0, 0.3));\n",
              "      fill: #FFFFFF;\n",
              "    }\n",
              "  </style>\n",
              "\n",
              "      <script>\n",
              "        const buttonEl =\n",
              "          document.querySelector('#df-1738cd88-db97-402d-93f1-96a4510a0117 button.colab-df-convert');\n",
              "        buttonEl.style.display =\n",
              "          google.colab.kernel.accessAllowed ? 'block' : 'none';\n",
              "\n",
              "        async function convertToInteractive(key) {\n",
              "          const element = document.querySelector('#df-1738cd88-db97-402d-93f1-96a4510a0117');\n",
              "          const dataTable =\n",
              "            await google.colab.kernel.invokeFunction('convertToInteractive',\n",
              "                                                     [key], {});\n",
              "          if (!dataTable) return;\n",
              "\n",
              "          const docLinkHtml = 'Like what you see? Visit the ' +\n",
              "            '<a target=\"_blank\" href=https://colab.research.google.com/notebooks/data_table.ipynb>data table notebook</a>'\n",
              "            + ' to learn more about interactive tables.';\n",
              "          element.innerHTML = '';\n",
              "          dataTable['output_type'] = 'display_data';\n",
              "          await google.colab.output.renderOutput(dataTable, element);\n",
              "          const docLink = document.createElement('div');\n",
              "          docLink.innerHTML = docLinkHtml;\n",
              "          element.appendChild(docLink);\n",
              "        }\n",
              "      </script>\n",
              "    </div>\n",
              "  </div>\n",
              "  "
            ]
          },
          "metadata": {},
          "execution_count": 242
        }
      ]
    },
    {
      "cell_type": "markdown",
      "source": [
        "# Pengolahan Lebih lanjut"
      ],
      "metadata": {
        "id": "TpnlboySj_I8"
      }
    },
    {
      "cell_type": "code",
      "source": [
        "#menjadikan _id menjadi index\n",
        "df.set_index('_id', inplace = True)\n",
        "df.head()"
      ],
      "metadata": {
        "colab": {
          "base_uri": "https://localhost:8080/",
          "height": 237
        },
        "id": "NnlGFvLg9S8f",
        "outputId": "1da22296-764e-4458-e568-bef5c3956283"
      },
      "execution_count": null,
      "outputs": [
        {
          "output_type": "execute_result",
          "data": {
            "text/plain": [
              "                 sector                                    thematic  \\\n",
              "_id                                                                   \n",
              "AALI   [\"Non-Siklikal\"]                                          []   \n",
              "ABBA       [\"Siklikal\"]                                          []   \n",
              "ABDA       [\"Keuangan\"]                                          []   \n",
              "ABMM  [\"Perindustrian\"]  [\"Value Investing\" \"Komoditas Supercycle\"]   \n",
              "ACES       [\"Siklikal\"]        [\"Retailer Indonesia\" \"ESG Leaders\"]   \n",
              "\n",
              "                                       business_product  \\\n",
              "_id                                                       \n",
              "AALI  <p>Based&#32;on&#32;the&#32;Company&#39;s&#32;...   \n",
              "ABBA                                                      \n",
              "ABDA  <p>The&#32;Company&#32;is&#32;engaged&#32;in&#...   \n",
              "ABMM  <p>The&#32;Company&#39;s&#32;scope&#32;of&#32;...   \n",
              "ACES  <p>The&#32;Company&#39;s&#32;scope&#32;of&#32;...   \n",
              "\n",
              "                             industry  \n",
              "_id                                    \n",
              "AALI         Produk Makanan Pertanian  \n",
              "ABBA                            Media  \n",
              "ABDA                         Asuransi  \n",
              "ABMM  Perusahaan Holding Multi-sektor  \n",
              "ACES                     Ritel Khusus  "
            ],
            "text/html": [
              "\n",
              "  <div id=\"df-4e66aa59-bc61-4127-9e20-af395d98a632\">\n",
              "    <div class=\"colab-df-container\">\n",
              "      <div>\n",
              "<style scoped>\n",
              "    .dataframe tbody tr th:only-of-type {\n",
              "        vertical-align: middle;\n",
              "    }\n",
              "\n",
              "    .dataframe tbody tr th {\n",
              "        vertical-align: top;\n",
              "    }\n",
              "\n",
              "    .dataframe thead th {\n",
              "        text-align: right;\n",
              "    }\n",
              "</style>\n",
              "<table border=\"1\" class=\"dataframe\">\n",
              "  <thead>\n",
              "    <tr style=\"text-align: right;\">\n",
              "      <th></th>\n",
              "      <th>sector</th>\n",
              "      <th>thematic</th>\n",
              "      <th>business_product</th>\n",
              "      <th>industry</th>\n",
              "    </tr>\n",
              "    <tr>\n",
              "      <th>_id</th>\n",
              "      <th></th>\n",
              "      <th></th>\n",
              "      <th></th>\n",
              "      <th></th>\n",
              "    </tr>\n",
              "  </thead>\n",
              "  <tbody>\n",
              "    <tr>\n",
              "      <th>AALI</th>\n",
              "      <td>[\"Non-Siklikal\"]</td>\n",
              "      <td>[]</td>\n",
              "      <td>&lt;p&gt;Based&amp;#32;on&amp;#32;the&amp;#32;Company&amp;#39;s&amp;#32;...</td>\n",
              "      <td>Produk Makanan Pertanian</td>\n",
              "    </tr>\n",
              "    <tr>\n",
              "      <th>ABBA</th>\n",
              "      <td>[\"Siklikal\"]</td>\n",
              "      <td>[]</td>\n",
              "      <td></td>\n",
              "      <td>Media</td>\n",
              "    </tr>\n",
              "    <tr>\n",
              "      <th>ABDA</th>\n",
              "      <td>[\"Keuangan\"]</td>\n",
              "      <td>[]</td>\n",
              "      <td>&lt;p&gt;The&amp;#32;Company&amp;#32;is&amp;#32;engaged&amp;#32;in&amp;#...</td>\n",
              "      <td>Asuransi</td>\n",
              "    </tr>\n",
              "    <tr>\n",
              "      <th>ABMM</th>\n",
              "      <td>[\"Perindustrian\"]</td>\n",
              "      <td>[\"Value Investing\" \"Komoditas Supercycle\"]</td>\n",
              "      <td>&lt;p&gt;The&amp;#32;Company&amp;#39;s&amp;#32;scope&amp;#32;of&amp;#32;...</td>\n",
              "      <td>Perusahaan Holding Multi-sektor</td>\n",
              "    </tr>\n",
              "    <tr>\n",
              "      <th>ACES</th>\n",
              "      <td>[\"Siklikal\"]</td>\n",
              "      <td>[\"Retailer Indonesia\" \"ESG Leaders\"]</td>\n",
              "      <td>&lt;p&gt;The&amp;#32;Company&amp;#39;s&amp;#32;scope&amp;#32;of&amp;#32;...</td>\n",
              "      <td>Ritel Khusus</td>\n",
              "    </tr>\n",
              "  </tbody>\n",
              "</table>\n",
              "</div>\n",
              "      <button class=\"colab-df-convert\" onclick=\"convertToInteractive('df-4e66aa59-bc61-4127-9e20-af395d98a632')\"\n",
              "              title=\"Convert this dataframe to an interactive table.\"\n",
              "              style=\"display:none;\">\n",
              "        \n",
              "  <svg xmlns=\"http://www.w3.org/2000/svg\" height=\"24px\"viewBox=\"0 0 24 24\"\n",
              "       width=\"24px\">\n",
              "    <path d=\"M0 0h24v24H0V0z\" fill=\"none\"/>\n",
              "    <path d=\"M18.56 5.44l.94 2.06.94-2.06 2.06-.94-2.06-.94-.94-2.06-.94 2.06-2.06.94zm-11 1L8.5 8.5l.94-2.06 2.06-.94-2.06-.94L8.5 2.5l-.94 2.06-2.06.94zm10 10l.94 2.06.94-2.06 2.06-.94-2.06-.94-.94-2.06-.94 2.06-2.06.94z\"/><path d=\"M17.41 7.96l-1.37-1.37c-.4-.4-.92-.59-1.43-.59-.52 0-1.04.2-1.43.59L10.3 9.45l-7.72 7.72c-.78.78-.78 2.05 0 2.83L4 21.41c.39.39.9.59 1.41.59.51 0 1.02-.2 1.41-.59l7.78-7.78 2.81-2.81c.8-.78.8-2.07 0-2.86zM5.41 20L4 18.59l7.72-7.72 1.47 1.35L5.41 20z\"/>\n",
              "  </svg>\n",
              "      </button>\n",
              "      \n",
              "  <style>\n",
              "    .colab-df-container {\n",
              "      display:flex;\n",
              "      flex-wrap:wrap;\n",
              "      gap: 12px;\n",
              "    }\n",
              "\n",
              "    .colab-df-convert {\n",
              "      background-color: #E8F0FE;\n",
              "      border: none;\n",
              "      border-radius: 50%;\n",
              "      cursor: pointer;\n",
              "      display: none;\n",
              "      fill: #1967D2;\n",
              "      height: 32px;\n",
              "      padding: 0 0 0 0;\n",
              "      width: 32px;\n",
              "    }\n",
              "\n",
              "    .colab-df-convert:hover {\n",
              "      background-color: #E2EBFA;\n",
              "      box-shadow: 0px 1px 2px rgba(60, 64, 67, 0.3), 0px 1px 3px 1px rgba(60, 64, 67, 0.15);\n",
              "      fill: #174EA6;\n",
              "    }\n",
              "\n",
              "    [theme=dark] .colab-df-convert {\n",
              "      background-color: #3B4455;\n",
              "      fill: #D2E3FC;\n",
              "    }\n",
              "\n",
              "    [theme=dark] .colab-df-convert:hover {\n",
              "      background-color: #434B5C;\n",
              "      box-shadow: 0px 1px 3px 1px rgba(0, 0, 0, 0.15);\n",
              "      filter: drop-shadow(0px 1px 2px rgba(0, 0, 0, 0.3));\n",
              "      fill: #FFFFFF;\n",
              "    }\n",
              "  </style>\n",
              "\n",
              "      <script>\n",
              "        const buttonEl =\n",
              "          document.querySelector('#df-4e66aa59-bc61-4127-9e20-af395d98a632 button.colab-df-convert');\n",
              "        buttonEl.style.display =\n",
              "          google.colab.kernel.accessAllowed ? 'block' : 'none';\n",
              "\n",
              "        async function convertToInteractive(key) {\n",
              "          const element = document.querySelector('#df-4e66aa59-bc61-4127-9e20-af395d98a632');\n",
              "          const dataTable =\n",
              "            await google.colab.kernel.invokeFunction('convertToInteractive',\n",
              "                                                     [key], {});\n",
              "          if (!dataTable) return;\n",
              "\n",
              "          const docLinkHtml = 'Like what you see? Visit the ' +\n",
              "            '<a target=\"_blank\" href=https://colab.research.google.com/notebooks/data_table.ipynb>data table notebook</a>'\n",
              "            + ' to learn more about interactive tables.';\n",
              "          element.innerHTML = '';\n",
              "          dataTable['output_type'] = 'display_data';\n",
              "          await google.colab.output.renderOutput(dataTable, element);\n",
              "          const docLink = document.createElement('div');\n",
              "          docLink.innerHTML = docLinkHtml;\n",
              "          element.appendChild(docLink);\n",
              "        }\n",
              "      </script>\n",
              "    </div>\n",
              "  </div>\n",
              "  "
            ]
          },
          "metadata": {},
          "execution_count": 243
        }
      ]
    },
    {
      "cell_type": "code",
      "source": [
        "#bacot ah HTML HTMLan, hapus, musnahkan\n",
        "def html_to_string(html_code):\n",
        "    soup = BeautifulSoup(html_code, 'html.parser')\n",
        "    return soup.get_text()\n"
      ],
      "metadata": {
        "id": "L6IwIDTgjPu7"
      },
      "execution_count": null,
      "outputs": []
    },
    {
      "cell_type": "code",
      "source": [
        "df['business_product'] = df['business_product'].apply(html_to_string)"
      ],
      "metadata": {
        "id": "QxpZZ3KfktOH"
      },
      "execution_count": null,
      "outputs": []
    },
    {
      "cell_type": "code",
      "source": [
        "df.head()"
      ],
      "metadata": {
        "colab": {
          "base_uri": "https://localhost:8080/",
          "height": 237
        },
        "id": "a1IxmFnQkp5E",
        "outputId": "8d83b146-c76f-4943-a494-1097c9dd7612"
      },
      "execution_count": null,
      "outputs": [
        {
          "output_type": "execute_result",
          "data": {
            "text/plain": [
              "                 sector                                    thematic  \\\n",
              "_id                                                                   \n",
              "AALI   [\"Non-Siklikal\"]                                          []   \n",
              "ABBA       [\"Siklikal\"]                                          []   \n",
              "ABDA       [\"Keuangan\"]                                          []   \n",
              "ABMM  [\"Perindustrian\"]  [\"Value Investing\" \"Komoditas Supercycle\"]   \n",
              "ACES       [\"Siklikal\"]        [\"Retailer Indonesia\" \"ESG Leaders\"]   \n",
              "\n",
              "                                       business_product  \\\n",
              "_id                                                       \n",
              "AALI  Based on the Company's articles of association...   \n",
              "ABBA                                                      \n",
              "ABDA  The Company is engaged in general insurance bu...   \n",
              "ABMM  The Company's scope of activities are conducti...   \n",
              "ACES  The Company's scope of activities consist of g...   \n",
              "\n",
              "                             industry  \n",
              "_id                                    \n",
              "AALI         Produk Makanan Pertanian  \n",
              "ABBA                            Media  \n",
              "ABDA                         Asuransi  \n",
              "ABMM  Perusahaan Holding Multi-sektor  \n",
              "ACES                     Ritel Khusus  "
            ],
            "text/html": [
              "\n",
              "  <div id=\"df-1fa5e383-0d5d-4329-8ad8-897f7461bb07\">\n",
              "    <div class=\"colab-df-container\">\n",
              "      <div>\n",
              "<style scoped>\n",
              "    .dataframe tbody tr th:only-of-type {\n",
              "        vertical-align: middle;\n",
              "    }\n",
              "\n",
              "    .dataframe tbody tr th {\n",
              "        vertical-align: top;\n",
              "    }\n",
              "\n",
              "    .dataframe thead th {\n",
              "        text-align: right;\n",
              "    }\n",
              "</style>\n",
              "<table border=\"1\" class=\"dataframe\">\n",
              "  <thead>\n",
              "    <tr style=\"text-align: right;\">\n",
              "      <th></th>\n",
              "      <th>sector</th>\n",
              "      <th>thematic</th>\n",
              "      <th>business_product</th>\n",
              "      <th>industry</th>\n",
              "    </tr>\n",
              "    <tr>\n",
              "      <th>_id</th>\n",
              "      <th></th>\n",
              "      <th></th>\n",
              "      <th></th>\n",
              "      <th></th>\n",
              "    </tr>\n",
              "  </thead>\n",
              "  <tbody>\n",
              "    <tr>\n",
              "      <th>AALI</th>\n",
              "      <td>[\"Non-Siklikal\"]</td>\n",
              "      <td>[]</td>\n",
              "      <td>Based on the Company's articles of association...</td>\n",
              "      <td>Produk Makanan Pertanian</td>\n",
              "    </tr>\n",
              "    <tr>\n",
              "      <th>ABBA</th>\n",
              "      <td>[\"Siklikal\"]</td>\n",
              "      <td>[]</td>\n",
              "      <td></td>\n",
              "      <td>Media</td>\n",
              "    </tr>\n",
              "    <tr>\n",
              "      <th>ABDA</th>\n",
              "      <td>[\"Keuangan\"]</td>\n",
              "      <td>[]</td>\n",
              "      <td>The Company is engaged in general insurance bu...</td>\n",
              "      <td>Asuransi</td>\n",
              "    </tr>\n",
              "    <tr>\n",
              "      <th>ABMM</th>\n",
              "      <td>[\"Perindustrian\"]</td>\n",
              "      <td>[\"Value Investing\" \"Komoditas Supercycle\"]</td>\n",
              "      <td>The Company's scope of activities are conducti...</td>\n",
              "      <td>Perusahaan Holding Multi-sektor</td>\n",
              "    </tr>\n",
              "    <tr>\n",
              "      <th>ACES</th>\n",
              "      <td>[\"Siklikal\"]</td>\n",
              "      <td>[\"Retailer Indonesia\" \"ESG Leaders\"]</td>\n",
              "      <td>The Company's scope of activities consist of g...</td>\n",
              "      <td>Ritel Khusus</td>\n",
              "    </tr>\n",
              "  </tbody>\n",
              "</table>\n",
              "</div>\n",
              "      <button class=\"colab-df-convert\" onclick=\"convertToInteractive('df-1fa5e383-0d5d-4329-8ad8-897f7461bb07')\"\n",
              "              title=\"Convert this dataframe to an interactive table.\"\n",
              "              style=\"display:none;\">\n",
              "        \n",
              "  <svg xmlns=\"http://www.w3.org/2000/svg\" height=\"24px\"viewBox=\"0 0 24 24\"\n",
              "       width=\"24px\">\n",
              "    <path d=\"M0 0h24v24H0V0z\" fill=\"none\"/>\n",
              "    <path d=\"M18.56 5.44l.94 2.06.94-2.06 2.06-.94-2.06-.94-.94-2.06-.94 2.06-2.06.94zm-11 1L8.5 8.5l.94-2.06 2.06-.94-2.06-.94L8.5 2.5l-.94 2.06-2.06.94zm10 10l.94 2.06.94-2.06 2.06-.94-2.06-.94-.94-2.06-.94 2.06-2.06.94z\"/><path d=\"M17.41 7.96l-1.37-1.37c-.4-.4-.92-.59-1.43-.59-.52 0-1.04.2-1.43.59L10.3 9.45l-7.72 7.72c-.78.78-.78 2.05 0 2.83L4 21.41c.39.39.9.59 1.41.59.51 0 1.02-.2 1.41-.59l7.78-7.78 2.81-2.81c.8-.78.8-2.07 0-2.86zM5.41 20L4 18.59l7.72-7.72 1.47 1.35L5.41 20z\"/>\n",
              "  </svg>\n",
              "      </button>\n",
              "      \n",
              "  <style>\n",
              "    .colab-df-container {\n",
              "      display:flex;\n",
              "      flex-wrap:wrap;\n",
              "      gap: 12px;\n",
              "    }\n",
              "\n",
              "    .colab-df-convert {\n",
              "      background-color: #E8F0FE;\n",
              "      border: none;\n",
              "      border-radius: 50%;\n",
              "      cursor: pointer;\n",
              "      display: none;\n",
              "      fill: #1967D2;\n",
              "      height: 32px;\n",
              "      padding: 0 0 0 0;\n",
              "      width: 32px;\n",
              "    }\n",
              "\n",
              "    .colab-df-convert:hover {\n",
              "      background-color: #E2EBFA;\n",
              "      box-shadow: 0px 1px 2px rgba(60, 64, 67, 0.3), 0px 1px 3px 1px rgba(60, 64, 67, 0.15);\n",
              "      fill: #174EA6;\n",
              "    }\n",
              "\n",
              "    [theme=dark] .colab-df-convert {\n",
              "      background-color: #3B4455;\n",
              "      fill: #D2E3FC;\n",
              "    }\n",
              "\n",
              "    [theme=dark] .colab-df-convert:hover {\n",
              "      background-color: #434B5C;\n",
              "      box-shadow: 0px 1px 3px 1px rgba(0, 0, 0, 0.15);\n",
              "      filter: drop-shadow(0px 1px 2px rgba(0, 0, 0, 0.3));\n",
              "      fill: #FFFFFF;\n",
              "    }\n",
              "  </style>\n",
              "\n",
              "      <script>\n",
              "        const buttonEl =\n",
              "          document.querySelector('#df-1fa5e383-0d5d-4329-8ad8-897f7461bb07 button.colab-df-convert');\n",
              "        buttonEl.style.display =\n",
              "          google.colab.kernel.accessAllowed ? 'block' : 'none';\n",
              "\n",
              "        async function convertToInteractive(key) {\n",
              "          const element = document.querySelector('#df-1fa5e383-0d5d-4329-8ad8-897f7461bb07');\n",
              "          const dataTable =\n",
              "            await google.colab.kernel.invokeFunction('convertToInteractive',\n",
              "                                                     [key], {});\n",
              "          if (!dataTable) return;\n",
              "\n",
              "          const docLinkHtml = 'Like what you see? Visit the ' +\n",
              "            '<a target=\"_blank\" href=https://colab.research.google.com/notebooks/data_table.ipynb>data table notebook</a>'\n",
              "            + ' to learn more about interactive tables.';\n",
              "          element.innerHTML = '';\n",
              "          dataTable['output_type'] = 'display_data';\n",
              "          await google.colab.output.renderOutput(dataTable, element);\n",
              "          const docLink = document.createElement('div');\n",
              "          docLink.innerHTML = docLinkHtml;\n",
              "          element.appendChild(docLink);\n",
              "        }\n",
              "      </script>\n",
              "    </div>\n",
              "  </div>\n",
              "  "
            ]
          },
          "metadata": {},
          "execution_count": 246
        }
      ]
    },
    {
      "cell_type": "code",
      "source": [
        "df['business_product'][0]"
      ],
      "metadata": {
        "colab": {
          "base_uri": "https://localhost:8080/",
          "height": 54
        },
        "id": "hvquvULul56e",
        "outputId": "bc56c884-2530-400b-9dd8-83128c404501"
      },
      "execution_count": null,
      "outputs": [
        {
          "output_type": "execute_result",
          "data": {
            "text/plain": [
              "\"Based on the Company's articles of association, the scope of its activities is to engage in plantation operation, general trading, manufacturing, transportation, consultation and services.\""
            ],
            "application/vnd.google.colaboratory.intrinsic+json": {
              "type": "string"
            }
          },
          "metadata": {},
          "execution_count": 247
        }
      ]
    },
    {
      "cell_type": "markdown",
      "source": [],
      "metadata": {
        "id": "pQLyA1JNX4dw"
      }
    },
    {
      "cell_type": "code",
      "source": [
        "df.head(1)"
      ],
      "metadata": {
        "colab": {
          "base_uri": "https://localhost:8080/",
          "height": 112
        },
        "id": "L8CxhsYDmEzw",
        "outputId": "a59abcb4-7e64-4f63-e306-91fb161ba231"
      },
      "execution_count": null,
      "outputs": [
        {
          "output_type": "execute_result",
          "data": {
            "text/plain": [
              "                sector thematic  \\\n",
              "_id                               \n",
              "AALI  [\"Non-Siklikal\"]       []   \n",
              "\n",
              "                                       business_product  \\\n",
              "_id                                                       \n",
              "AALI  Based on the Company's articles of association...   \n",
              "\n",
              "                      industry  \n",
              "_id                             \n",
              "AALI  Produk Makanan Pertanian  "
            ],
            "text/html": [
              "\n",
              "  <div id=\"df-14a44abd-e039-42cd-8fcf-97814a85609b\">\n",
              "    <div class=\"colab-df-container\">\n",
              "      <div>\n",
              "<style scoped>\n",
              "    .dataframe tbody tr th:only-of-type {\n",
              "        vertical-align: middle;\n",
              "    }\n",
              "\n",
              "    .dataframe tbody tr th {\n",
              "        vertical-align: top;\n",
              "    }\n",
              "\n",
              "    .dataframe thead th {\n",
              "        text-align: right;\n",
              "    }\n",
              "</style>\n",
              "<table border=\"1\" class=\"dataframe\">\n",
              "  <thead>\n",
              "    <tr style=\"text-align: right;\">\n",
              "      <th></th>\n",
              "      <th>sector</th>\n",
              "      <th>thematic</th>\n",
              "      <th>business_product</th>\n",
              "      <th>industry</th>\n",
              "    </tr>\n",
              "    <tr>\n",
              "      <th>_id</th>\n",
              "      <th></th>\n",
              "      <th></th>\n",
              "      <th></th>\n",
              "      <th></th>\n",
              "    </tr>\n",
              "  </thead>\n",
              "  <tbody>\n",
              "    <tr>\n",
              "      <th>AALI</th>\n",
              "      <td>[\"Non-Siklikal\"]</td>\n",
              "      <td>[]</td>\n",
              "      <td>Based on the Company's articles of association...</td>\n",
              "      <td>Produk Makanan Pertanian</td>\n",
              "    </tr>\n",
              "  </tbody>\n",
              "</table>\n",
              "</div>\n",
              "      <button class=\"colab-df-convert\" onclick=\"convertToInteractive('df-14a44abd-e039-42cd-8fcf-97814a85609b')\"\n",
              "              title=\"Convert this dataframe to an interactive table.\"\n",
              "              style=\"display:none;\">\n",
              "        \n",
              "  <svg xmlns=\"http://www.w3.org/2000/svg\" height=\"24px\"viewBox=\"0 0 24 24\"\n",
              "       width=\"24px\">\n",
              "    <path d=\"M0 0h24v24H0V0z\" fill=\"none\"/>\n",
              "    <path d=\"M18.56 5.44l.94 2.06.94-2.06 2.06-.94-2.06-.94-.94-2.06-.94 2.06-2.06.94zm-11 1L8.5 8.5l.94-2.06 2.06-.94-2.06-.94L8.5 2.5l-.94 2.06-2.06.94zm10 10l.94 2.06.94-2.06 2.06-.94-2.06-.94-.94-2.06-.94 2.06-2.06.94z\"/><path d=\"M17.41 7.96l-1.37-1.37c-.4-.4-.92-.59-1.43-.59-.52 0-1.04.2-1.43.59L10.3 9.45l-7.72 7.72c-.78.78-.78 2.05 0 2.83L4 21.41c.39.39.9.59 1.41.59.51 0 1.02-.2 1.41-.59l7.78-7.78 2.81-2.81c.8-.78.8-2.07 0-2.86zM5.41 20L4 18.59l7.72-7.72 1.47 1.35L5.41 20z\"/>\n",
              "  </svg>\n",
              "      </button>\n",
              "      \n",
              "  <style>\n",
              "    .colab-df-container {\n",
              "      display:flex;\n",
              "      flex-wrap:wrap;\n",
              "      gap: 12px;\n",
              "    }\n",
              "\n",
              "    .colab-df-convert {\n",
              "      background-color: #E8F0FE;\n",
              "      border: none;\n",
              "      border-radius: 50%;\n",
              "      cursor: pointer;\n",
              "      display: none;\n",
              "      fill: #1967D2;\n",
              "      height: 32px;\n",
              "      padding: 0 0 0 0;\n",
              "      width: 32px;\n",
              "    }\n",
              "\n",
              "    .colab-df-convert:hover {\n",
              "      background-color: #E2EBFA;\n",
              "      box-shadow: 0px 1px 2px rgba(60, 64, 67, 0.3), 0px 1px 3px 1px rgba(60, 64, 67, 0.15);\n",
              "      fill: #174EA6;\n",
              "    }\n",
              "\n",
              "    [theme=dark] .colab-df-convert {\n",
              "      background-color: #3B4455;\n",
              "      fill: #D2E3FC;\n",
              "    }\n",
              "\n",
              "    [theme=dark] .colab-df-convert:hover {\n",
              "      background-color: #434B5C;\n",
              "      box-shadow: 0px 1px 3px 1px rgba(0, 0, 0, 0.15);\n",
              "      filter: drop-shadow(0px 1px 2px rgba(0, 0, 0, 0.3));\n",
              "      fill: #FFFFFF;\n",
              "    }\n",
              "  </style>\n",
              "\n",
              "      <script>\n",
              "        const buttonEl =\n",
              "          document.querySelector('#df-14a44abd-e039-42cd-8fcf-97814a85609b button.colab-df-convert');\n",
              "        buttonEl.style.display =\n",
              "          google.colab.kernel.accessAllowed ? 'block' : 'none';\n",
              "\n",
              "        async function convertToInteractive(key) {\n",
              "          const element = document.querySelector('#df-14a44abd-e039-42cd-8fcf-97814a85609b');\n",
              "          const dataTable =\n",
              "            await google.colab.kernel.invokeFunction('convertToInteractive',\n",
              "                                                     [key], {});\n",
              "          if (!dataTable) return;\n",
              "\n",
              "          const docLinkHtml = 'Like what you see? Visit the ' +\n",
              "            '<a target=\"_blank\" href=https://colab.research.google.com/notebooks/data_table.ipynb>data table notebook</a>'\n",
              "            + ' to learn more about interactive tables.';\n",
              "          element.innerHTML = '';\n",
              "          dataTable['output_type'] = 'display_data';\n",
              "          await google.colab.output.renderOutput(dataTable, element);\n",
              "          const docLink = document.createElement('div');\n",
              "          docLink.innerHTML = docLinkHtml;\n",
              "          element.appendChild(docLink);\n",
              "        }\n",
              "      </script>\n",
              "    </div>\n",
              "  </div>\n",
              "  "
            ]
          },
          "metadata": {},
          "execution_count": 248
        }
      ]
    },
    {
      "cell_type": "markdown",
      "source": [
        "## Mendapatkan keyword dari business product"
      ],
      "metadata": {
        "id": "Fs6V4vmJkZ4Z"
      }
    },
    {
      "cell_type": "code",
      "source": [
        "df['key_words_business_product'] = ''  # Menetapkan nilai awal untuk kolom 'key_words'\n",
        "\n",
        "for index, row in df.iterrows():\n",
        "    plot = row['business_product']\n",
        "    r = Rake()\n",
        "    r.extract_keywords_from_text(plot)\n",
        "    key_words_dict_scores = r.get_word_degrees()\n",
        "    df.at[index, 'key_words_business_product'] = list(key_words_dict_scores.keys())"
      ],
      "metadata": {
        "id": "Nx7j9vRX7pIR"
      },
      "execution_count": null,
      "outputs": []
    },
    {
      "cell_type": "markdown",
      "source": [
        "# Sector dihilangkan simbol simbolnya"
      ],
      "metadata": {
        "id": "Tx6eDDdBklis"
      }
    },
    {
      "cell_type": "code",
      "source": [
        "df['sector'] = df['sector'].str.replace('[', '').str.replace('\"', '').str.replace(']', '')\n",
        "df.head()"
      ],
      "metadata": {
        "id": "7ffnDynm_z7p",
        "colab": {
          "base_uri": "https://localhost:8080/",
          "height": 372
        },
        "outputId": "f17c1b20-9233-4964-c540-a96e9b906ef5"
      },
      "execution_count": null,
      "outputs": [
        {
          "output_type": "stream",
          "name": "stderr",
          "text": [
            "<ipython-input-250-c1d3450769de>:1: FutureWarning: The default value of regex will change from True to False in a future version. In addition, single character regular expressions will *not* be treated as literal strings when regex=True.\n",
            "  df['sector'] = df['sector'].str.replace('[', '').str.replace('\"', '').str.replace(']', '')\n"
          ]
        },
        {
          "output_type": "execute_result",
          "data": {
            "text/plain": [
              "             sector                                    thematic  \\\n",
              "_id                                                               \n",
              "AALI   Non-Siklikal                                          []   \n",
              "ABBA       Siklikal                                          []   \n",
              "ABDA       Keuangan                                          []   \n",
              "ABMM  Perindustrian  [\"Value Investing\" \"Komoditas Supercycle\"]   \n",
              "ACES       Siklikal        [\"Retailer Indonesia\" \"ESG Leaders\"]   \n",
              "\n",
              "                                       business_product  \\\n",
              "_id                                                       \n",
              "AALI  Based on the Company's articles of association...   \n",
              "ABBA                                                      \n",
              "ABDA  The Company is engaged in general insurance bu...   \n",
              "ABMM  The Company's scope of activities are conducti...   \n",
              "ACES  The Company's scope of activities consist of g...   \n",
              "\n",
              "                             industry  \\\n",
              "_id                                     \n",
              "AALI         Produk Makanan Pertanian   \n",
              "ABBA                            Media   \n",
              "ABDA                         Asuransi   \n",
              "ABMM  Perusahaan Holding Multi-sektor   \n",
              "ACES                     Ritel Khusus   \n",
              "\n",
              "                             key_words_business_product  \n",
              "_id                                                      \n",
              "AALI  [based, company, articles, association, scope,...  \n",
              "ABBA                                                 []  \n",
              "ABDA  [company, engaged, general, insurance, busines...  \n",
              "ABMM  [company, scope, activities, conducting, busin...  \n",
              "ACES  [company, scope, activities, consist, general,...  "
            ],
            "text/html": [
              "\n",
              "  <div id=\"df-f442fd7b-d732-4d76-96a0-d9ebe1970e19\">\n",
              "    <div class=\"colab-df-container\">\n",
              "      <div>\n",
              "<style scoped>\n",
              "    .dataframe tbody tr th:only-of-type {\n",
              "        vertical-align: middle;\n",
              "    }\n",
              "\n",
              "    .dataframe tbody tr th {\n",
              "        vertical-align: top;\n",
              "    }\n",
              "\n",
              "    .dataframe thead th {\n",
              "        text-align: right;\n",
              "    }\n",
              "</style>\n",
              "<table border=\"1\" class=\"dataframe\">\n",
              "  <thead>\n",
              "    <tr style=\"text-align: right;\">\n",
              "      <th></th>\n",
              "      <th>sector</th>\n",
              "      <th>thematic</th>\n",
              "      <th>business_product</th>\n",
              "      <th>industry</th>\n",
              "      <th>key_words_business_product</th>\n",
              "    </tr>\n",
              "    <tr>\n",
              "      <th>_id</th>\n",
              "      <th></th>\n",
              "      <th></th>\n",
              "      <th></th>\n",
              "      <th></th>\n",
              "      <th></th>\n",
              "    </tr>\n",
              "  </thead>\n",
              "  <tbody>\n",
              "    <tr>\n",
              "      <th>AALI</th>\n",
              "      <td>Non-Siklikal</td>\n",
              "      <td>[]</td>\n",
              "      <td>Based on the Company's articles of association...</td>\n",
              "      <td>Produk Makanan Pertanian</td>\n",
              "      <td>[based, company, articles, association, scope,...</td>\n",
              "    </tr>\n",
              "    <tr>\n",
              "      <th>ABBA</th>\n",
              "      <td>Siklikal</td>\n",
              "      <td>[]</td>\n",
              "      <td></td>\n",
              "      <td>Media</td>\n",
              "      <td>[]</td>\n",
              "    </tr>\n",
              "    <tr>\n",
              "      <th>ABDA</th>\n",
              "      <td>Keuangan</td>\n",
              "      <td>[]</td>\n",
              "      <td>The Company is engaged in general insurance bu...</td>\n",
              "      <td>Asuransi</td>\n",
              "      <td>[company, engaged, general, insurance, busines...</td>\n",
              "    </tr>\n",
              "    <tr>\n",
              "      <th>ABMM</th>\n",
              "      <td>Perindustrian</td>\n",
              "      <td>[\"Value Investing\" \"Komoditas Supercycle\"]</td>\n",
              "      <td>The Company's scope of activities are conducti...</td>\n",
              "      <td>Perusahaan Holding Multi-sektor</td>\n",
              "      <td>[company, scope, activities, conducting, busin...</td>\n",
              "    </tr>\n",
              "    <tr>\n",
              "      <th>ACES</th>\n",
              "      <td>Siklikal</td>\n",
              "      <td>[\"Retailer Indonesia\" \"ESG Leaders\"]</td>\n",
              "      <td>The Company's scope of activities consist of g...</td>\n",
              "      <td>Ritel Khusus</td>\n",
              "      <td>[company, scope, activities, consist, general,...</td>\n",
              "    </tr>\n",
              "  </tbody>\n",
              "</table>\n",
              "</div>\n",
              "      <button class=\"colab-df-convert\" onclick=\"convertToInteractive('df-f442fd7b-d732-4d76-96a0-d9ebe1970e19')\"\n",
              "              title=\"Convert this dataframe to an interactive table.\"\n",
              "              style=\"display:none;\">\n",
              "        \n",
              "  <svg xmlns=\"http://www.w3.org/2000/svg\" height=\"24px\"viewBox=\"0 0 24 24\"\n",
              "       width=\"24px\">\n",
              "    <path d=\"M0 0h24v24H0V0z\" fill=\"none\"/>\n",
              "    <path d=\"M18.56 5.44l.94 2.06.94-2.06 2.06-.94-2.06-.94-.94-2.06-.94 2.06-2.06.94zm-11 1L8.5 8.5l.94-2.06 2.06-.94-2.06-.94L8.5 2.5l-.94 2.06-2.06.94zm10 10l.94 2.06.94-2.06 2.06-.94-2.06-.94-.94-2.06-.94 2.06-2.06.94z\"/><path d=\"M17.41 7.96l-1.37-1.37c-.4-.4-.92-.59-1.43-.59-.52 0-1.04.2-1.43.59L10.3 9.45l-7.72 7.72c-.78.78-.78 2.05 0 2.83L4 21.41c.39.39.9.59 1.41.59.51 0 1.02-.2 1.41-.59l7.78-7.78 2.81-2.81c.8-.78.8-2.07 0-2.86zM5.41 20L4 18.59l7.72-7.72 1.47 1.35L5.41 20z\"/>\n",
              "  </svg>\n",
              "      </button>\n",
              "      \n",
              "  <style>\n",
              "    .colab-df-container {\n",
              "      display:flex;\n",
              "      flex-wrap:wrap;\n",
              "      gap: 12px;\n",
              "    }\n",
              "\n",
              "    .colab-df-convert {\n",
              "      background-color: #E8F0FE;\n",
              "      border: none;\n",
              "      border-radius: 50%;\n",
              "      cursor: pointer;\n",
              "      display: none;\n",
              "      fill: #1967D2;\n",
              "      height: 32px;\n",
              "      padding: 0 0 0 0;\n",
              "      width: 32px;\n",
              "    }\n",
              "\n",
              "    .colab-df-convert:hover {\n",
              "      background-color: #E2EBFA;\n",
              "      box-shadow: 0px 1px 2px rgba(60, 64, 67, 0.3), 0px 1px 3px 1px rgba(60, 64, 67, 0.15);\n",
              "      fill: #174EA6;\n",
              "    }\n",
              "\n",
              "    [theme=dark] .colab-df-convert {\n",
              "      background-color: #3B4455;\n",
              "      fill: #D2E3FC;\n",
              "    }\n",
              "\n",
              "    [theme=dark] .colab-df-convert:hover {\n",
              "      background-color: #434B5C;\n",
              "      box-shadow: 0px 1px 3px 1px rgba(0, 0, 0, 0.15);\n",
              "      filter: drop-shadow(0px 1px 2px rgba(0, 0, 0, 0.3));\n",
              "      fill: #FFFFFF;\n",
              "    }\n",
              "  </style>\n",
              "\n",
              "      <script>\n",
              "        const buttonEl =\n",
              "          document.querySelector('#df-f442fd7b-d732-4d76-96a0-d9ebe1970e19 button.colab-df-convert');\n",
              "        buttonEl.style.display =\n",
              "          google.colab.kernel.accessAllowed ? 'block' : 'none';\n",
              "\n",
              "        async function convertToInteractive(key) {\n",
              "          const element = document.querySelector('#df-f442fd7b-d732-4d76-96a0-d9ebe1970e19');\n",
              "          const dataTable =\n",
              "            await google.colab.kernel.invokeFunction('convertToInteractive',\n",
              "                                                     [key], {});\n",
              "          if (!dataTable) return;\n",
              "\n",
              "          const docLinkHtml = 'Like what you see? Visit the ' +\n",
              "            '<a target=\"_blank\" href=https://colab.research.google.com/notebooks/data_table.ipynb>data table notebook</a>'\n",
              "            + ' to learn more about interactive tables.';\n",
              "          element.innerHTML = '';\n",
              "          dataTable['output_type'] = 'display_data';\n",
              "          await google.colab.output.renderOutput(dataTable, element);\n",
              "          const docLink = document.createElement('div');\n",
              "          docLink.innerHTML = docLinkHtml;\n",
              "          element.appendChild(docLink);\n",
              "        }\n",
              "      </script>\n",
              "    </div>\n",
              "  </div>\n",
              "  "
            ]
          },
          "metadata": {},
          "execution_count": 250
        }
      ]
    },
    {
      "cell_type": "code",
      "source": [
        "df['sector'] = df['sector'].str.lower()"
      ],
      "metadata": {
        "id": "W9tX937IkwKW"
      },
      "execution_count": null,
      "outputs": []
    },
    {
      "cell_type": "code",
      "source": [
        "df['sector'].unique()"
      ],
      "metadata": {
        "colab": {
          "base_uri": "https://localhost:8080/"
        },
        "id": "0IhtQXa1sDn9",
        "outputId": "8e7bac5a-8d2d-4993-a5ed-f76a3597877b"
      },
      "execution_count": null,
      "outputs": [
        {
          "output_type": "execute_result",
          "data": {
            "text/plain": [
              "array(['non-siklikal', 'siklikal', 'keuangan', 'perindustrian',\n",
              "       'infrastruktur', 'properti', 'barang baku', 'energi',\n",
              "       'transportasi', 'teknologi', '', 'kesehatan',\n",
              "       'non-siklikal siklikal'], dtype=object)"
            ]
          },
          "metadata": {},
          "execution_count": 252
        }
      ]
    },
    {
      "cell_type": "code",
      "source": [
        "df['sector'] = df['sector'].map(lambda x:x.split(' '))\n",
        "for index, row in df.iterrows():\n",
        "  row['sector'] = ''.join(row['sector']).lower() #disatukan supaya dianggap satu hal"
      ],
      "metadata": {
        "id": "ZmD3qGI_P5-N"
      },
      "execution_count": null,
      "outputs": []
    },
    {
      "cell_type": "code",
      "source": [
        "df.head()"
      ],
      "metadata": {
        "colab": {
          "base_uri": "https://localhost:8080/",
          "height": 316
        },
        "id": "_Bzy1YPNsfj9",
        "outputId": "b19e1519-22d3-4be4-81b2-11a304858e18"
      },
      "execution_count": null,
      "outputs": [
        {
          "output_type": "execute_result",
          "data": {
            "text/plain": [
              "             sector                                    thematic  \\\n",
              "_id                                                               \n",
              "AALI   non-siklikal                                          []   \n",
              "ABBA       siklikal                                          []   \n",
              "ABDA       keuangan                                          []   \n",
              "ABMM  perindustrian  [\"Value Investing\" \"Komoditas Supercycle\"]   \n",
              "ACES       siklikal        [\"Retailer Indonesia\" \"ESG Leaders\"]   \n",
              "\n",
              "                                       business_product  \\\n",
              "_id                                                       \n",
              "AALI  Based on the Company's articles of association...   \n",
              "ABBA                                                      \n",
              "ABDA  The Company is engaged in general insurance bu...   \n",
              "ABMM  The Company's scope of activities are conducti...   \n",
              "ACES  The Company's scope of activities consist of g...   \n",
              "\n",
              "                             industry  \\\n",
              "_id                                     \n",
              "AALI         Produk Makanan Pertanian   \n",
              "ABBA                            Media   \n",
              "ABDA                         Asuransi   \n",
              "ABMM  Perusahaan Holding Multi-sektor   \n",
              "ACES                     Ritel Khusus   \n",
              "\n",
              "                             key_words_business_product  \n",
              "_id                                                      \n",
              "AALI  [based, company, articles, association, scope,...  \n",
              "ABBA                                                 []  \n",
              "ABDA  [company, engaged, general, insurance, busines...  \n",
              "ABMM  [company, scope, activities, conducting, busin...  \n",
              "ACES  [company, scope, activities, consist, general,...  "
            ],
            "text/html": [
              "\n",
              "  <div id=\"df-48e25649-52e5-4223-b2b2-505cf322d2e6\">\n",
              "    <div class=\"colab-df-container\">\n",
              "      <div>\n",
              "<style scoped>\n",
              "    .dataframe tbody tr th:only-of-type {\n",
              "        vertical-align: middle;\n",
              "    }\n",
              "\n",
              "    .dataframe tbody tr th {\n",
              "        vertical-align: top;\n",
              "    }\n",
              "\n",
              "    .dataframe thead th {\n",
              "        text-align: right;\n",
              "    }\n",
              "</style>\n",
              "<table border=\"1\" class=\"dataframe\">\n",
              "  <thead>\n",
              "    <tr style=\"text-align: right;\">\n",
              "      <th></th>\n",
              "      <th>sector</th>\n",
              "      <th>thematic</th>\n",
              "      <th>business_product</th>\n",
              "      <th>industry</th>\n",
              "      <th>key_words_business_product</th>\n",
              "    </tr>\n",
              "    <tr>\n",
              "      <th>_id</th>\n",
              "      <th></th>\n",
              "      <th></th>\n",
              "      <th></th>\n",
              "      <th></th>\n",
              "      <th></th>\n",
              "    </tr>\n",
              "  </thead>\n",
              "  <tbody>\n",
              "    <tr>\n",
              "      <th>AALI</th>\n",
              "      <td>non-siklikal</td>\n",
              "      <td>[]</td>\n",
              "      <td>Based on the Company's articles of association...</td>\n",
              "      <td>Produk Makanan Pertanian</td>\n",
              "      <td>[based, company, articles, association, scope,...</td>\n",
              "    </tr>\n",
              "    <tr>\n",
              "      <th>ABBA</th>\n",
              "      <td>siklikal</td>\n",
              "      <td>[]</td>\n",
              "      <td></td>\n",
              "      <td>Media</td>\n",
              "      <td>[]</td>\n",
              "    </tr>\n",
              "    <tr>\n",
              "      <th>ABDA</th>\n",
              "      <td>keuangan</td>\n",
              "      <td>[]</td>\n",
              "      <td>The Company is engaged in general insurance bu...</td>\n",
              "      <td>Asuransi</td>\n",
              "      <td>[company, engaged, general, insurance, busines...</td>\n",
              "    </tr>\n",
              "    <tr>\n",
              "      <th>ABMM</th>\n",
              "      <td>perindustrian</td>\n",
              "      <td>[\"Value Investing\" \"Komoditas Supercycle\"]</td>\n",
              "      <td>The Company's scope of activities are conducti...</td>\n",
              "      <td>Perusahaan Holding Multi-sektor</td>\n",
              "      <td>[company, scope, activities, conducting, busin...</td>\n",
              "    </tr>\n",
              "    <tr>\n",
              "      <th>ACES</th>\n",
              "      <td>siklikal</td>\n",
              "      <td>[\"Retailer Indonesia\" \"ESG Leaders\"]</td>\n",
              "      <td>The Company's scope of activities consist of g...</td>\n",
              "      <td>Ritel Khusus</td>\n",
              "      <td>[company, scope, activities, consist, general,...</td>\n",
              "    </tr>\n",
              "  </tbody>\n",
              "</table>\n",
              "</div>\n",
              "      <button class=\"colab-df-convert\" onclick=\"convertToInteractive('df-48e25649-52e5-4223-b2b2-505cf322d2e6')\"\n",
              "              title=\"Convert this dataframe to an interactive table.\"\n",
              "              style=\"display:none;\">\n",
              "        \n",
              "  <svg xmlns=\"http://www.w3.org/2000/svg\" height=\"24px\"viewBox=\"0 0 24 24\"\n",
              "       width=\"24px\">\n",
              "    <path d=\"M0 0h24v24H0V0z\" fill=\"none\"/>\n",
              "    <path d=\"M18.56 5.44l.94 2.06.94-2.06 2.06-.94-2.06-.94-.94-2.06-.94 2.06-2.06.94zm-11 1L8.5 8.5l.94-2.06 2.06-.94-2.06-.94L8.5 2.5l-.94 2.06-2.06.94zm10 10l.94 2.06.94-2.06 2.06-.94-2.06-.94-.94-2.06-.94 2.06-2.06.94z\"/><path d=\"M17.41 7.96l-1.37-1.37c-.4-.4-.92-.59-1.43-.59-.52 0-1.04.2-1.43.59L10.3 9.45l-7.72 7.72c-.78.78-.78 2.05 0 2.83L4 21.41c.39.39.9.59 1.41.59.51 0 1.02-.2 1.41-.59l7.78-7.78 2.81-2.81c.8-.78.8-2.07 0-2.86zM5.41 20L4 18.59l7.72-7.72 1.47 1.35L5.41 20z\"/>\n",
              "  </svg>\n",
              "      </button>\n",
              "      \n",
              "  <style>\n",
              "    .colab-df-container {\n",
              "      display:flex;\n",
              "      flex-wrap:wrap;\n",
              "      gap: 12px;\n",
              "    }\n",
              "\n",
              "    .colab-df-convert {\n",
              "      background-color: #E8F0FE;\n",
              "      border: none;\n",
              "      border-radius: 50%;\n",
              "      cursor: pointer;\n",
              "      display: none;\n",
              "      fill: #1967D2;\n",
              "      height: 32px;\n",
              "      padding: 0 0 0 0;\n",
              "      width: 32px;\n",
              "    }\n",
              "\n",
              "    .colab-df-convert:hover {\n",
              "      background-color: #E2EBFA;\n",
              "      box-shadow: 0px 1px 2px rgba(60, 64, 67, 0.3), 0px 1px 3px 1px rgba(60, 64, 67, 0.15);\n",
              "      fill: #174EA6;\n",
              "    }\n",
              "\n",
              "    [theme=dark] .colab-df-convert {\n",
              "      background-color: #3B4455;\n",
              "      fill: #D2E3FC;\n",
              "    }\n",
              "\n",
              "    [theme=dark] .colab-df-convert:hover {\n",
              "      background-color: #434B5C;\n",
              "      box-shadow: 0px 1px 3px 1px rgba(0, 0, 0, 0.15);\n",
              "      filter: drop-shadow(0px 1px 2px rgba(0, 0, 0, 0.3));\n",
              "      fill: #FFFFFF;\n",
              "    }\n",
              "  </style>\n",
              "\n",
              "      <script>\n",
              "        const buttonEl =\n",
              "          document.querySelector('#df-48e25649-52e5-4223-b2b2-505cf322d2e6 button.colab-df-convert');\n",
              "        buttonEl.style.display =\n",
              "          google.colab.kernel.accessAllowed ? 'block' : 'none';\n",
              "\n",
              "        async function convertToInteractive(key) {\n",
              "          const element = document.querySelector('#df-48e25649-52e5-4223-b2b2-505cf322d2e6');\n",
              "          const dataTable =\n",
              "            await google.colab.kernel.invokeFunction('convertToInteractive',\n",
              "                                                     [key], {});\n",
              "          if (!dataTable) return;\n",
              "\n",
              "          const docLinkHtml = 'Like what you see? Visit the ' +\n",
              "            '<a target=\"_blank\" href=https://colab.research.google.com/notebooks/data_table.ipynb>data table notebook</a>'\n",
              "            + ' to learn more about interactive tables.';\n",
              "          element.innerHTML = '';\n",
              "          dataTable['output_type'] = 'display_data';\n",
              "          await google.colab.output.renderOutput(dataTable, element);\n",
              "          const docLink = document.createElement('div');\n",
              "          docLink.innerHTML = docLinkHtml;\n",
              "          element.appendChild(docLink);\n",
              "        }\n",
              "      </script>\n",
              "    </div>\n",
              "  </div>\n",
              "  "
            ]
          },
          "metadata": {},
          "execution_count": 254
        }
      ]
    },
    {
      "cell_type": "code",
      "source": [
        "df['sector'][400]"
      ],
      "metadata": {
        "colab": {
          "base_uri": "https://localhost:8080/",
          "height": 36
        },
        "id": "DgAXiDQns1f2",
        "outputId": "824ef746-4bfc-4c84-e9f0-f267bc38a94c"
      },
      "execution_count": null,
      "outputs": [
        {
          "output_type": "execute_result",
          "data": {
            "text/plain": [
              "'barangbaku'"
            ],
            "application/vnd.google.colaboratory.intrinsic+json": {
              "type": "string"
            }
          },
          "metadata": {},
          "execution_count": 255
        }
      ]
    },
    {
      "cell_type": "code",
      "source": [
        "df['sector'] = df['sector'].map(lambda x : x.split(' '))"
      ],
      "metadata": {
        "id": "y5Iq_PCNVwvd"
      },
      "execution_count": null,
      "outputs": []
    },
    {
      "cell_type": "markdown",
      "source": [
        "# Thematic menghilangkan simbol simbol"
      ],
      "metadata": {
        "id": "yilBWtOJlD2y"
      }
    },
    {
      "cell_type": "code",
      "source": [
        "df['thematic'] = df['thematic'].str.replace('[', '').str.replace('\"', '').str.replace(']', '')"
      ],
      "metadata": {
        "colab": {
          "base_uri": "https://localhost:8080/"
        },
        "id": "ys4zUnZpAYxi",
        "outputId": "85764d5a-fc1b-482a-dbff-04e91b8b60e1"
      },
      "execution_count": null,
      "outputs": [
        {
          "output_type": "stream",
          "name": "stderr",
          "text": [
            "<ipython-input-257-8b033f66425a>:1: FutureWarning: The default value of regex will change from True to False in a future version. In addition, single character regular expressions will *not* be treated as literal strings when regex=True.\n",
            "  df['thematic'] = df['thematic'].str.replace('[', '').str.replace('\"', '').str.replace(']', '')\n"
          ]
        }
      ]
    },
    {
      "cell_type": "code",
      "source": [
        "df['thematic'][400]"
      ],
      "metadata": {
        "colab": {
          "base_uri": "https://localhost:8080/",
          "height": 36
        },
        "id": "XBF-xIm-p49F",
        "outputId": "f04dec8f-58d6-4142-d72a-2959191bc49c"
      },
      "execution_count": null,
      "outputs": [
        {
          "output_type": "execute_result",
          "data": {
            "text/plain": [
              "''"
            ],
            "application/vnd.google.colaboratory.intrinsic+json": {
              "type": "string"
            }
          },
          "metadata": {},
          "execution_count": 258
        }
      ]
    },
    {
      "cell_type": "code",
      "source": [
        "empty_count = df['thematic'].value_counts()['']\n",
        "print(empty_count)"
      ],
      "metadata": {
        "colab": {
          "base_uri": "https://localhost:8080/"
        },
        "id": "0hXsRKa-qNLF",
        "outputId": "949284f6-e915-4023-9d72-60f7e29eafbc"
      },
      "execution_count": null,
      "outputs": [
        {
          "output_type": "stream",
          "name": "stdout",
          "text": [
            "746\n"
          ]
        }
      ]
    },
    {
      "cell_type": "code",
      "source": [
        "non_empty_count = df['thematic'].notna().sum()\n",
        "print(non_empty_count)"
      ],
      "metadata": {
        "colab": {
          "base_uri": "https://localhost:8080/"
        },
        "id": "sXI8NReZqbOx",
        "outputId": "d7a6bf38-2fcc-474d-be2f-4599f471f398"
      },
      "execution_count": null,
      "outputs": [
        {
          "output_type": "stream",
          "name": "stdout",
          "text": [
            "883\n"
          ]
        }
      ]
    },
    {
      "cell_type": "code",
      "source": [
        "883 - 746"
      ],
      "metadata": {
        "colab": {
          "base_uri": "https://localhost:8080/"
        },
        "id": "QjSN8b-yqw95",
        "outputId": "70c1a6e5-e227-41b2-839d-09fd2d2b3d47"
      },
      "execution_count": null,
      "outputs": [
        {
          "output_type": "execute_result",
          "data": {
            "text/plain": [
              "137"
            ]
          },
          "metadata": {},
          "execution_count": 261
        }
      ]
    },
    {
      "cell_type": "code",
      "source": [
        "df['thematic'].nunique()"
      ],
      "metadata": {
        "colab": {
          "base_uri": "https://localhost:8080/"
        },
        "id": "a3QyKCAmnauc",
        "outputId": "2989355b-45d0-4594-cda6-ec2c881fd6e1"
      },
      "execution_count": null,
      "outputs": [
        {
          "output_type": "execute_result",
          "data": {
            "text/plain": [
              "49"
            ]
          },
          "metadata": {},
          "execution_count": 262
        }
      ]
    },
    {
      "cell_type": "code",
      "source": [
        "df['thematic'].unique()"
      ],
      "metadata": {
        "colab": {
          "base_uri": "https://localhost:8080/"
        },
        "id": "XTqni2EcUoYw",
        "outputId": "59894d07-41c0-4a95-bd2a-4549a3d338c8"
      },
      "execution_count": null,
      "outputs": [
        {
          "output_type": "execute_result",
          "data": {
            "text/plain": [
              "array(['', 'Value Investing Komoditas Supercycle',\n",
              "       'Retailer Indonesia ESG Leaders', 'Infrastruktur +62',\n",
              "       'High Dividend', 'Komoditas Supercycle',\n",
              "       'Komoditas Supercycle High Dividend Saham Syariah ', 'ESG Leaders',\n",
              "       'Kecil Tapi Kuat!',\n",
              "       'Saham Syariah  Komoditas Supercycle High Dividend',\n",
              "       'Sektor Properti', 'Sektor Terbesar IHSG: BANKS! Terbesar di IDX',\n",
              "       'High Dividend Terbesar di IDX', 'ESG Leaders Sektor Properti',\n",
              "       'Technology for The Future', 'Saham Syariah ',\n",
              "       'High Dividend ESG Leaders Sektor Terbesar IHSG: BANKS! Terbesar di IDX',\n",
              "       'Sektor Terbesar IHSG: BANKS!',\n",
              "       'Sektor Terbesar IHSG: BANKS! Value Investing', 'Indonesia Sehat',\n",
              "       'Sektor Terbesar IHSG: BANKS! Saham Syariah ',\n",
              "       'ESG Leaders Saham Syariah ',\n",
              "       'Saham Syariah  Terbesar di IDX Komoditas Supercycle',\n",
              "       'Indonesia FMCG', 'High Dividend Saham Syariah  Terbesar di IDX',\n",
              "       'Terbesar di IDX Technology for The Future',\n",
              "       'Terbesar di IDX Saham Syariah ', 'Retailer Indonesia',\n",
              "       'Indonesia FMCG Terbesar di IDX Value Investing',\n",
              "       'Value Investing',\n",
              "       'High Dividend Indonesia FMCG ESG Leaders Terbesar di IDX',\n",
              "       'Saham Syariah  Indonesia FMCG Terbesar di IDX',\n",
              "       'Saham Syariah  Komoditas Supercycle',\n",
              "       'High Dividend Indonesia FMCG Saham Syariah  Value Investing',\n",
              "       'Komoditas Supercycle High Dividend',\n",
              "       'ESG Leaders Infrastruktur +62',\n",
              "       'Saham Syariah  Indonesia Sehat High Dividend',\n",
              "       'ESG Leaders Retailer Indonesia', 'ESG Leaders Indonesia Sehat',\n",
              "       'Kecil Tapi Kuat! Saham Syariah ',\n",
              "       'Technology for The Future Value Investing',\n",
              "       'Indonesia FMCG Retailer Indonesia',\n",
              "       'Indonesia Sehat Value Investing',\n",
              "       'ESG Leaders Retailer Indonesia Indonesia FMCG',\n",
              "       'High Dividend ESG Leaders Terbesar di IDX Saham Syariah ',\n",
              "       'High Dividend ESG Leaders', 'Saham Syariah  Terbesar di IDX',\n",
              "       'Saham Syariah  Terbesar di IDX Komoditas Supercycle High Dividend',\n",
              "       'Indonesia FMCG Saham Syariah  Terbesar di IDX ESG Leaders High Dividend'],\n",
              "      dtype=object)"
            ]
          },
          "metadata": {},
          "execution_count": 263
        }
      ]
    },
    {
      "cell_type": "markdown",
      "source": [
        "***Sepertinya thematic tidak terkait dengan produk perusahaan jadi hapus aja***"
      ],
      "metadata": {
        "id": "D2ur9d0sUy-Y"
      }
    },
    {
      "cell_type": "code",
      "source": [
        "columns_to_drop = ['thematic']\n",
        "df = df.drop(columns=columns_to_drop)"
      ],
      "metadata": {
        "id": "48KpDCFFr0IY"
      },
      "execution_count": null,
      "outputs": []
    },
    {
      "cell_type": "code",
      "source": [
        "#thmeatic dihapus saja"
      ],
      "metadata": {
        "id": "HdpvyuZirssl"
      },
      "execution_count": null,
      "outputs": []
    },
    {
      "cell_type": "code",
      "source": [
        "df.head()"
      ],
      "metadata": {
        "colab": {
          "base_uri": "https://localhost:8080/",
          "height": 237
        },
        "id": "O5C99Igir-wF",
        "outputId": "6ad9bb61-4403-408e-a7c9-fc3731e121c6"
      },
      "execution_count": null,
      "outputs": [
        {
          "output_type": "execute_result",
          "data": {
            "text/plain": [
              "               sector                         industry  \\\n",
              "_id                                                      \n",
              "AALI   [non-siklikal]         [produkmakananpertanian]   \n",
              "ABBA       [siklikal]                          [media]   \n",
              "ABDA       [keuangan]                       [asuransi]   \n",
              "ABMM  [perindustrian]  [perusahaanholdingmulti-sektor]   \n",
              "ACES       [siklikal]                    [ritelkhusus]   \n",
              "\n",
              "                             key_words_business_product  \n",
              "_id                                                      \n",
              "AALI  [based, company, articles, association, scope,...  \n",
              "ABBA                                                 []  \n",
              "ABDA  [company, engaged, general, insurance, busines...  \n",
              "ABMM  [company, scope, activities, conducting, busin...  \n",
              "ACES  [company, scope, activities, consist, general,...  "
            ],
            "text/html": [
              "\n",
              "  <div id=\"df-cb4cfd32-dfc1-4dca-802b-37273abffc92\">\n",
              "    <div class=\"colab-df-container\">\n",
              "      <div>\n",
              "<style scoped>\n",
              "    .dataframe tbody tr th:only-of-type {\n",
              "        vertical-align: middle;\n",
              "    }\n",
              "\n",
              "    .dataframe tbody tr th {\n",
              "        vertical-align: top;\n",
              "    }\n",
              "\n",
              "    .dataframe thead th {\n",
              "        text-align: right;\n",
              "    }\n",
              "</style>\n",
              "<table border=\"1\" class=\"dataframe\">\n",
              "  <thead>\n",
              "    <tr style=\"text-align: right;\">\n",
              "      <th></th>\n",
              "      <th>sector</th>\n",
              "      <th>industry</th>\n",
              "      <th>key_words_business_product</th>\n",
              "    </tr>\n",
              "    <tr>\n",
              "      <th>_id</th>\n",
              "      <th></th>\n",
              "      <th></th>\n",
              "      <th></th>\n",
              "    </tr>\n",
              "  </thead>\n",
              "  <tbody>\n",
              "    <tr>\n",
              "      <th>AALI</th>\n",
              "      <td>[non-siklikal]</td>\n",
              "      <td>[produkmakananpertanian]</td>\n",
              "      <td>[based, company, articles, association, scope,...</td>\n",
              "    </tr>\n",
              "    <tr>\n",
              "      <th>ABBA</th>\n",
              "      <td>[siklikal]</td>\n",
              "      <td>[media]</td>\n",
              "      <td>[]</td>\n",
              "    </tr>\n",
              "    <tr>\n",
              "      <th>ABDA</th>\n",
              "      <td>[keuangan]</td>\n",
              "      <td>[asuransi]</td>\n",
              "      <td>[company, engaged, general, insurance, busines...</td>\n",
              "    </tr>\n",
              "    <tr>\n",
              "      <th>ABMM</th>\n",
              "      <td>[perindustrian]</td>\n",
              "      <td>[perusahaanholdingmulti-sektor]</td>\n",
              "      <td>[company, scope, activities, conducting, busin...</td>\n",
              "    </tr>\n",
              "    <tr>\n",
              "      <th>ACES</th>\n",
              "      <td>[siklikal]</td>\n",
              "      <td>[ritelkhusus]</td>\n",
              "      <td>[company, scope, activities, consist, general,...</td>\n",
              "    </tr>\n",
              "  </tbody>\n",
              "</table>\n",
              "</div>\n",
              "      <button class=\"colab-df-convert\" onclick=\"convertToInteractive('df-cb4cfd32-dfc1-4dca-802b-37273abffc92')\"\n",
              "              title=\"Convert this dataframe to an interactive table.\"\n",
              "              style=\"display:none;\">\n",
              "        \n",
              "  <svg xmlns=\"http://www.w3.org/2000/svg\" height=\"24px\"viewBox=\"0 0 24 24\"\n",
              "       width=\"24px\">\n",
              "    <path d=\"M0 0h24v24H0V0z\" fill=\"none\"/>\n",
              "    <path d=\"M18.56 5.44l.94 2.06.94-2.06 2.06-.94-2.06-.94-.94-2.06-.94 2.06-2.06.94zm-11 1L8.5 8.5l.94-2.06 2.06-.94-2.06-.94L8.5 2.5l-.94 2.06-2.06.94zm10 10l.94 2.06.94-2.06 2.06-.94-2.06-.94-.94-2.06-.94 2.06-2.06.94z\"/><path d=\"M17.41 7.96l-1.37-1.37c-.4-.4-.92-.59-1.43-.59-.52 0-1.04.2-1.43.59L10.3 9.45l-7.72 7.72c-.78.78-.78 2.05 0 2.83L4 21.41c.39.39.9.59 1.41.59.51 0 1.02-.2 1.41-.59l7.78-7.78 2.81-2.81c.8-.78.8-2.07 0-2.86zM5.41 20L4 18.59l7.72-7.72 1.47 1.35L5.41 20z\"/>\n",
              "  </svg>\n",
              "      </button>\n",
              "      \n",
              "  <style>\n",
              "    .colab-df-container {\n",
              "      display:flex;\n",
              "      flex-wrap:wrap;\n",
              "      gap: 12px;\n",
              "    }\n",
              "\n",
              "    .colab-df-convert {\n",
              "      background-color: #E8F0FE;\n",
              "      border: none;\n",
              "      border-radius: 50%;\n",
              "      cursor: pointer;\n",
              "      display: none;\n",
              "      fill: #1967D2;\n",
              "      height: 32px;\n",
              "      padding: 0 0 0 0;\n",
              "      width: 32px;\n",
              "    }\n",
              "\n",
              "    .colab-df-convert:hover {\n",
              "      background-color: #E2EBFA;\n",
              "      box-shadow: 0px 1px 2px rgba(60, 64, 67, 0.3), 0px 1px 3px 1px rgba(60, 64, 67, 0.15);\n",
              "      fill: #174EA6;\n",
              "    }\n",
              "\n",
              "    [theme=dark] .colab-df-convert {\n",
              "      background-color: #3B4455;\n",
              "      fill: #D2E3FC;\n",
              "    }\n",
              "\n",
              "    [theme=dark] .colab-df-convert:hover {\n",
              "      background-color: #434B5C;\n",
              "      box-shadow: 0px 1px 3px 1px rgba(0, 0, 0, 0.15);\n",
              "      filter: drop-shadow(0px 1px 2px rgba(0, 0, 0, 0.3));\n",
              "      fill: #FFFFFF;\n",
              "    }\n",
              "  </style>\n",
              "\n",
              "      <script>\n",
              "        const buttonEl =\n",
              "          document.querySelector('#df-cb4cfd32-dfc1-4dca-802b-37273abffc92 button.colab-df-convert');\n",
              "        buttonEl.style.display =\n",
              "          google.colab.kernel.accessAllowed ? 'block' : 'none';\n",
              "\n",
              "        async function convertToInteractive(key) {\n",
              "          const element = document.querySelector('#df-cb4cfd32-dfc1-4dca-802b-37273abffc92');\n",
              "          const dataTable =\n",
              "            await google.colab.kernel.invokeFunction('convertToInteractive',\n",
              "                                                     [key], {});\n",
              "          if (!dataTable) return;\n",
              "\n",
              "          const docLinkHtml = 'Like what you see? Visit the ' +\n",
              "            '<a target=\"_blank\" href=https://colab.research.google.com/notebooks/data_table.ipynb>data table notebook</a>'\n",
              "            + ' to learn more about interactive tables.';\n",
              "          element.innerHTML = '';\n",
              "          dataTable['output_type'] = 'display_data';\n",
              "          await google.colab.output.renderOutput(dataTable, element);\n",
              "          const docLink = document.createElement('div');\n",
              "          docLink.innerHTML = docLinkHtml;\n",
              "          element.appendChild(docLink);\n",
              "        }\n",
              "      </script>\n",
              "    </div>\n",
              "  </div>\n",
              "  "
            ]
          },
          "metadata": {},
          "execution_count": 276
        }
      ]
    },
    {
      "cell_type": "markdown",
      "source": [
        "# Industri mau diapain nih"
      ],
      "metadata": {
        "id": "DEJ2sXcTuLNc"
      }
    },
    {
      "cell_type": "code",
      "source": [
        "df['industry'].nunique()"
      ],
      "metadata": {
        "colab": {
          "base_uri": "https://localhost:8080/"
        },
        "id": "UMvyfPbbuPB9",
        "outputId": "33604cf0-8a4d-4ec1-b523-be87791f7380"
      },
      "execution_count": null,
      "outputs": [
        {
          "output_type": "execute_result",
          "data": {
            "text/plain": [
              "59"
            ]
          },
          "metadata": {},
          "execution_count": 266
        }
      ]
    },
    {
      "cell_type": "code",
      "source": [
        "df['industry'].unique()"
      ],
      "metadata": {
        "colab": {
          "base_uri": "https://localhost:8080/"
        },
        "id": "Z4_hKguruVGw",
        "outputId": "23dea78f-e3cb-41c9-9118-a8f40d5a9d78"
      },
      "execution_count": null,
      "outputs": [
        {
          "output_type": "execute_result",
          "data": {
            "text/plain": [
              "array(['Produk Makanan Pertanian', 'Media', 'Asuransi',\n",
              "       'Perusahaan Holding Multi-sektor', 'Ritel Khusus',\n",
              "       'Konstruksi Bangunan', 'Pengelola & Pengembang Real Estat',\n",
              "       'Minuman', 'Pembiayaan Konsumen', 'Barang Kimia', 'Batu Bara',\n",
              "       'Bank', 'Makanan Olahan', 'Pariwisata & Rekreasi', 'Minyak & Gas',\n",
              "       'Logistik & Pengantaran', 'Wadah & Kemasan', 'Logam & Mineral',\n",
              "       'Produk & Perlengkapan Bangunan', 'Machinery', 'Jasa Investasi',\n",
              "       'Perdagangan Ritel Barang Primer',\n",
              "       'Pendukung Minyak, Gas & Batu Bara',\n",
              "       'Perusahaan Holding & Investasi', 'Pakaian & Barang Mewah',\n",
              "       'Utilitas Listrik', 'Jasa Komersial',\n",
              "       'Pengangkutan Darat Penumpang', 'Jasa & Konsultan TI',\n",
              "       'Komponen Otomotif', 'Aplikasi & Jasa Internet',\n",
              "       'Perangkat Komputer', 'Material Konstruksi',\n",
              "       'Jasa Telekomunikasi Nirkabel',\n",
              "       'Peralatan Olah Raga & Barang Hobi', 'Pendidikan & Jasa Penunjang',\n",
              "       'Penyedia Jasa Kesehatan', 'Operator Infrastruktur Transportasi',\n",
              "       'Barang Rumah Tangga', 'Kelistrikan', 'Maskapai Penerbangan',\n",
              "       'Perhutanan & Kertas', 'Farmasi', 'Bahan Bakar Alternatif',\n",
              "       'Produk Perawatan Tubuh', 'Hiburan & Film', 'Rokok',\n",
              "       'Perangkat, Instrumen & Komponen Elektronik', 'Utilitas Gas',\n",
              "       'Peralatan & Perlengkapan Kesehatan', 'Jasa Profesional',\n",
              "       'Peralatan Jaringan', 'Perangkat Lunak', 'Jasa Telekomunikasi',\n",
              "       'Peralatan Energi Alternatif', 'Department Store',\n",
              "       'Distributor Barang Konsumen', 'Produk Keperluan Rumah Tangga',\n",
              "       'Perdagangan Aneka Barang Perindustrian'], dtype=object)"
            ]
          },
          "metadata": {},
          "execution_count": 265
        }
      ]
    },
    {
      "cell_type": "code",
      "source": [
        "empty_count = df['industry'].value_counts()['Pendukung Minyak, Gas & Batu Bara']\n",
        "print(empty_count)"
      ],
      "metadata": {
        "colab": {
          "base_uri": "https://localhost:8080/"
        },
        "id": "2vrZhGPVuihL",
        "outputId": "408b84a7-ab06-4ff4-a84a-b487426f1c78"
      },
      "execution_count": null,
      "outputs": [
        {
          "output_type": "stream",
          "name": "stdout",
          "text": [
            "17\n"
          ]
        }
      ]
    },
    {
      "cell_type": "code",
      "source": [
        "df['industry'] = df['industry'].map(lambda x:x.split(' '))\n",
        "for index, row in df.iterrows():\n",
        "  row['industry'] = ''.join(row['industry']).lower() #disatukan supaya diperlakukan sebagai satu objek"
      ],
      "metadata": {
        "id": "dB3t9Lt0vkR1"
      },
      "execution_count": null,
      "outputs": []
    },
    {
      "cell_type": "code",
      "source": [
        "df['industry'] = df['industry'].map(lambda x : x.split(' '))"
      ],
      "metadata": {
        "id": "hge-5WSGxn02"
      },
      "execution_count": null,
      "outputs": []
    },
    {
      "cell_type": "code",
      "source": [
        "df['industry']"
      ],
      "metadata": {
        "id": "wCPOOT5qBKw2",
        "colab": {
          "base_uri": "https://localhost:8080/"
        },
        "outputId": "017a6eea-6d27-4a6c-94ee-2b3746602d74"
      },
      "execution_count": null,
      "outputs": [
        {
          "output_type": "execute_result",
          "data": {
            "text/plain": [
              "_id\n",
              "AALI           [produkmakananpertanian]\n",
              "ABBA                            [media]\n",
              "ABDA                         [asuransi]\n",
              "ABMM    [perusahaanholdingmulti-sektor]\n",
              "ACES                      [ritelkhusus]\n",
              "                     ...               \n",
              "ZATA    [perusahaanholdingmulti-sektor]\n",
              "ZBRA                      [utilitasgas]\n",
              "ZINC                    [logam&mineral]\n",
              "ZONE                      [ritelkhusus]\n",
              "ZYRX                [perangkatkomputer]\n",
              "Name: industry, Length: 883, dtype: object"
            ]
          },
          "metadata": {},
          "execution_count": 270
        }
      ]
    },
    {
      "cell_type": "code",
      "source": [
        "df.head(1)"
      ],
      "metadata": {
        "colab": {
          "base_uri": "https://localhost:8080/",
          "height": 112
        },
        "id": "EWhyzqWsvZNi",
        "outputId": "1cef319e-f329-4e01-f81b-d94c485ad3e2"
      },
      "execution_count": null,
      "outputs": [
        {
          "output_type": "execute_result",
          "data": {
            "text/plain": [
              "              sector thematic  \\\n",
              "_id                             \n",
              "AALI  [non-siklikal]            \n",
              "\n",
              "                                       business_product  \\\n",
              "_id                                                       \n",
              "AALI  Based on the Company's articles of association...   \n",
              "\n",
              "                      industry  \\\n",
              "_id                              \n",
              "AALI  [produkmakananpertanian]   \n",
              "\n",
              "                             key_words_business_product  \n",
              "_id                                                      \n",
              "AALI  [based, company, articles, association, scope,...  "
            ],
            "text/html": [
              "\n",
              "  <div id=\"df-4b9e8549-e7de-4516-ae1a-728518f9f895\">\n",
              "    <div class=\"colab-df-container\">\n",
              "      <div>\n",
              "<style scoped>\n",
              "    .dataframe tbody tr th:only-of-type {\n",
              "        vertical-align: middle;\n",
              "    }\n",
              "\n",
              "    .dataframe tbody tr th {\n",
              "        vertical-align: top;\n",
              "    }\n",
              "\n",
              "    .dataframe thead th {\n",
              "        text-align: right;\n",
              "    }\n",
              "</style>\n",
              "<table border=\"1\" class=\"dataframe\">\n",
              "  <thead>\n",
              "    <tr style=\"text-align: right;\">\n",
              "      <th></th>\n",
              "      <th>sector</th>\n",
              "      <th>thematic</th>\n",
              "      <th>business_product</th>\n",
              "      <th>industry</th>\n",
              "      <th>key_words_business_product</th>\n",
              "    </tr>\n",
              "    <tr>\n",
              "      <th>_id</th>\n",
              "      <th></th>\n",
              "      <th></th>\n",
              "      <th></th>\n",
              "      <th></th>\n",
              "      <th></th>\n",
              "    </tr>\n",
              "  </thead>\n",
              "  <tbody>\n",
              "    <tr>\n",
              "      <th>AALI</th>\n",
              "      <td>[non-siklikal]</td>\n",
              "      <td></td>\n",
              "      <td>Based on the Company's articles of association...</td>\n",
              "      <td>[produkmakananpertanian]</td>\n",
              "      <td>[based, company, articles, association, scope,...</td>\n",
              "    </tr>\n",
              "  </tbody>\n",
              "</table>\n",
              "</div>\n",
              "      <button class=\"colab-df-convert\" onclick=\"convertToInteractive('df-4b9e8549-e7de-4516-ae1a-728518f9f895')\"\n",
              "              title=\"Convert this dataframe to an interactive table.\"\n",
              "              style=\"display:none;\">\n",
              "        \n",
              "  <svg xmlns=\"http://www.w3.org/2000/svg\" height=\"24px\"viewBox=\"0 0 24 24\"\n",
              "       width=\"24px\">\n",
              "    <path d=\"M0 0h24v24H0V0z\" fill=\"none\"/>\n",
              "    <path d=\"M18.56 5.44l.94 2.06.94-2.06 2.06-.94-2.06-.94-.94-2.06-.94 2.06-2.06.94zm-11 1L8.5 8.5l.94-2.06 2.06-.94-2.06-.94L8.5 2.5l-.94 2.06-2.06.94zm10 10l.94 2.06.94-2.06 2.06-.94-2.06-.94-.94-2.06-.94 2.06-2.06.94z\"/><path d=\"M17.41 7.96l-1.37-1.37c-.4-.4-.92-.59-1.43-.59-.52 0-1.04.2-1.43.59L10.3 9.45l-7.72 7.72c-.78.78-.78 2.05 0 2.83L4 21.41c.39.39.9.59 1.41.59.51 0 1.02-.2 1.41-.59l7.78-7.78 2.81-2.81c.8-.78.8-2.07 0-2.86zM5.41 20L4 18.59l7.72-7.72 1.47 1.35L5.41 20z\"/>\n",
              "  </svg>\n",
              "      </button>\n",
              "      \n",
              "  <style>\n",
              "    .colab-df-container {\n",
              "      display:flex;\n",
              "      flex-wrap:wrap;\n",
              "      gap: 12px;\n",
              "    }\n",
              "\n",
              "    .colab-df-convert {\n",
              "      background-color: #E8F0FE;\n",
              "      border: none;\n",
              "      border-radius: 50%;\n",
              "      cursor: pointer;\n",
              "      display: none;\n",
              "      fill: #1967D2;\n",
              "      height: 32px;\n",
              "      padding: 0 0 0 0;\n",
              "      width: 32px;\n",
              "    }\n",
              "\n",
              "    .colab-df-convert:hover {\n",
              "      background-color: #E2EBFA;\n",
              "      box-shadow: 0px 1px 2px rgba(60, 64, 67, 0.3), 0px 1px 3px 1px rgba(60, 64, 67, 0.15);\n",
              "      fill: #174EA6;\n",
              "    }\n",
              "\n",
              "    [theme=dark] .colab-df-convert {\n",
              "      background-color: #3B4455;\n",
              "      fill: #D2E3FC;\n",
              "    }\n",
              "\n",
              "    [theme=dark] .colab-df-convert:hover {\n",
              "      background-color: #434B5C;\n",
              "      box-shadow: 0px 1px 3px 1px rgba(0, 0, 0, 0.15);\n",
              "      filter: drop-shadow(0px 1px 2px rgba(0, 0, 0, 0.3));\n",
              "      fill: #FFFFFF;\n",
              "    }\n",
              "  </style>\n",
              "\n",
              "      <script>\n",
              "        const buttonEl =\n",
              "          document.querySelector('#df-4b9e8549-e7de-4516-ae1a-728518f9f895 button.colab-df-convert');\n",
              "        buttonEl.style.display =\n",
              "          google.colab.kernel.accessAllowed ? 'block' : 'none';\n",
              "\n",
              "        async function convertToInteractive(key) {\n",
              "          const element = document.querySelector('#df-4b9e8549-e7de-4516-ae1a-728518f9f895');\n",
              "          const dataTable =\n",
              "            await google.colab.kernel.invokeFunction('convertToInteractive',\n",
              "                                                     [key], {});\n",
              "          if (!dataTable) return;\n",
              "\n",
              "          const docLinkHtml = 'Like what you see? Visit the ' +\n",
              "            '<a target=\"_blank\" href=https://colab.research.google.com/notebooks/data_table.ipynb>data table notebook</a>'\n",
              "            + ' to learn more about interactive tables.';\n",
              "          element.innerHTML = '';\n",
              "          dataTable['output_type'] = 'display_data';\n",
              "          await google.colab.output.renderOutput(dataTable, element);\n",
              "          const docLink = document.createElement('div');\n",
              "          docLink.innerHTML = docLinkHtml;\n",
              "          element.appendChild(docLink);\n",
              "        }\n",
              "      </script>\n",
              "    </div>\n",
              "  </div>\n",
              "  "
            ]
          },
          "metadata": {},
          "execution_count": 271
        }
      ]
    },
    {
      "cell_type": "markdown",
      "source": [
        "## Menghapus business_product"
      ],
      "metadata": {
        "id": "tao9x0J9vd9I"
      }
    },
    {
      "cell_type": "code",
      "source": [
        "#businessproduct dihapus karena sudah ada key_word_business_product\n",
        "columns_to_drop = ['business_product']\n",
        "df = df.drop(columns=columns_to_drop)"
      ],
      "metadata": {
        "id": "2Fe-IJecvhhM"
      },
      "execution_count": null,
      "outputs": []
    },
    {
      "cell_type": "code",
      "source": [
        "df.head()"
      ],
      "metadata": {
        "colab": {
          "base_uri": "https://localhost:8080/",
          "height": 237
        },
        "id": "KDlz9kvcvnwP",
        "outputId": "32fa2c81-5568-47ea-85f3-4317360a7e7a"
      },
      "execution_count": null,
      "outputs": [
        {
          "output_type": "execute_result",
          "data": {
            "text/plain": [
              "               sector                         industry  \\\n",
              "_id                                                      \n",
              "AALI   [non-siklikal]         [produkmakananpertanian]   \n",
              "ABBA       [siklikal]                          [media]   \n",
              "ABDA       [keuangan]                       [asuransi]   \n",
              "ABMM  [perindustrian]  [perusahaanholdingmulti-sektor]   \n",
              "ACES       [siklikal]                    [ritelkhusus]   \n",
              "\n",
              "                             key_words_business_product  \n",
              "_id                                                      \n",
              "AALI  [based, company, articles, association, scope,...  \n",
              "ABBA                                                 []  \n",
              "ABDA  [company, engaged, general, insurance, busines...  \n",
              "ABMM  [company, scope, activities, conducting, busin...  \n",
              "ACES  [company, scope, activities, consist, general,...  "
            ],
            "text/html": [
              "\n",
              "  <div id=\"df-7aeecd37-83ee-4240-881b-1e8fb6edd9af\">\n",
              "    <div class=\"colab-df-container\">\n",
              "      <div>\n",
              "<style scoped>\n",
              "    .dataframe tbody tr th:only-of-type {\n",
              "        vertical-align: middle;\n",
              "    }\n",
              "\n",
              "    .dataframe tbody tr th {\n",
              "        vertical-align: top;\n",
              "    }\n",
              "\n",
              "    .dataframe thead th {\n",
              "        text-align: right;\n",
              "    }\n",
              "</style>\n",
              "<table border=\"1\" class=\"dataframe\">\n",
              "  <thead>\n",
              "    <tr style=\"text-align: right;\">\n",
              "      <th></th>\n",
              "      <th>sector</th>\n",
              "      <th>industry</th>\n",
              "      <th>key_words_business_product</th>\n",
              "    </tr>\n",
              "    <tr>\n",
              "      <th>_id</th>\n",
              "      <th></th>\n",
              "      <th></th>\n",
              "      <th></th>\n",
              "    </tr>\n",
              "  </thead>\n",
              "  <tbody>\n",
              "    <tr>\n",
              "      <th>AALI</th>\n",
              "      <td>[non-siklikal]</td>\n",
              "      <td>[produkmakananpertanian]</td>\n",
              "      <td>[based, company, articles, association, scope,...</td>\n",
              "    </tr>\n",
              "    <tr>\n",
              "      <th>ABBA</th>\n",
              "      <td>[siklikal]</td>\n",
              "      <td>[media]</td>\n",
              "      <td>[]</td>\n",
              "    </tr>\n",
              "    <tr>\n",
              "      <th>ABDA</th>\n",
              "      <td>[keuangan]</td>\n",
              "      <td>[asuransi]</td>\n",
              "      <td>[company, engaged, general, insurance, busines...</td>\n",
              "    </tr>\n",
              "    <tr>\n",
              "      <th>ABMM</th>\n",
              "      <td>[perindustrian]</td>\n",
              "      <td>[perusahaanholdingmulti-sektor]</td>\n",
              "      <td>[company, scope, activities, conducting, busin...</td>\n",
              "    </tr>\n",
              "    <tr>\n",
              "      <th>ACES</th>\n",
              "      <td>[siklikal]</td>\n",
              "      <td>[ritelkhusus]</td>\n",
              "      <td>[company, scope, activities, consist, general,...</td>\n",
              "    </tr>\n",
              "  </tbody>\n",
              "</table>\n",
              "</div>\n",
              "      <button class=\"colab-df-convert\" onclick=\"convertToInteractive('df-7aeecd37-83ee-4240-881b-1e8fb6edd9af')\"\n",
              "              title=\"Convert this dataframe to an interactive table.\"\n",
              "              style=\"display:none;\">\n",
              "        \n",
              "  <svg xmlns=\"http://www.w3.org/2000/svg\" height=\"24px\"viewBox=\"0 0 24 24\"\n",
              "       width=\"24px\">\n",
              "    <path d=\"M0 0h24v24H0V0z\" fill=\"none\"/>\n",
              "    <path d=\"M18.56 5.44l.94 2.06.94-2.06 2.06-.94-2.06-.94-.94-2.06-.94 2.06-2.06.94zm-11 1L8.5 8.5l.94-2.06 2.06-.94-2.06-.94L8.5 2.5l-.94 2.06-2.06.94zm10 10l.94 2.06.94-2.06 2.06-.94-2.06-.94-.94-2.06-.94 2.06-2.06.94z\"/><path d=\"M17.41 7.96l-1.37-1.37c-.4-.4-.92-.59-1.43-.59-.52 0-1.04.2-1.43.59L10.3 9.45l-7.72 7.72c-.78.78-.78 2.05 0 2.83L4 21.41c.39.39.9.59 1.41.59.51 0 1.02-.2 1.41-.59l7.78-7.78 2.81-2.81c.8-.78.8-2.07 0-2.86zM5.41 20L4 18.59l7.72-7.72 1.47 1.35L5.41 20z\"/>\n",
              "  </svg>\n",
              "      </button>\n",
              "      \n",
              "  <style>\n",
              "    .colab-df-container {\n",
              "      display:flex;\n",
              "      flex-wrap:wrap;\n",
              "      gap: 12px;\n",
              "    }\n",
              "\n",
              "    .colab-df-convert {\n",
              "      background-color: #E8F0FE;\n",
              "      border: none;\n",
              "      border-radius: 50%;\n",
              "      cursor: pointer;\n",
              "      display: none;\n",
              "      fill: #1967D2;\n",
              "      height: 32px;\n",
              "      padding: 0 0 0 0;\n",
              "      width: 32px;\n",
              "    }\n",
              "\n",
              "    .colab-df-convert:hover {\n",
              "      background-color: #E2EBFA;\n",
              "      box-shadow: 0px 1px 2px rgba(60, 64, 67, 0.3), 0px 1px 3px 1px rgba(60, 64, 67, 0.15);\n",
              "      fill: #174EA6;\n",
              "    }\n",
              "\n",
              "    [theme=dark] .colab-df-convert {\n",
              "      background-color: #3B4455;\n",
              "      fill: #D2E3FC;\n",
              "    }\n",
              "\n",
              "    [theme=dark] .colab-df-convert:hover {\n",
              "      background-color: #434B5C;\n",
              "      box-shadow: 0px 1px 3px 1px rgba(0, 0, 0, 0.15);\n",
              "      filter: drop-shadow(0px 1px 2px rgba(0, 0, 0, 0.3));\n",
              "      fill: #FFFFFF;\n",
              "    }\n",
              "  </style>\n",
              "\n",
              "      <script>\n",
              "        const buttonEl =\n",
              "          document.querySelector('#df-7aeecd37-83ee-4240-881b-1e8fb6edd9af button.colab-df-convert');\n",
              "        buttonEl.style.display =\n",
              "          google.colab.kernel.accessAllowed ? 'block' : 'none';\n",
              "\n",
              "        async function convertToInteractive(key) {\n",
              "          const element = document.querySelector('#df-7aeecd37-83ee-4240-881b-1e8fb6edd9af');\n",
              "          const dataTable =\n",
              "            await google.colab.kernel.invokeFunction('convertToInteractive',\n",
              "                                                     [key], {});\n",
              "          if (!dataTable) return;\n",
              "\n",
              "          const docLinkHtml = 'Like what you see? Visit the ' +\n",
              "            '<a target=\"_blank\" href=https://colab.research.google.com/notebooks/data_table.ipynb>data table notebook</a>'\n",
              "            + ' to learn more about interactive tables.';\n",
              "          element.innerHTML = '';\n",
              "          dataTable['output_type'] = 'display_data';\n",
              "          await google.colab.output.renderOutput(dataTable, element);\n",
              "          const docLink = document.createElement('div');\n",
              "          docLink.innerHTML = docLinkHtml;\n",
              "          element.appendChild(docLink);\n",
              "        }\n",
              "      </script>\n",
              "    </div>\n",
              "  </div>\n",
              "  "
            ]
          },
          "metadata": {},
          "execution_count": 277
        }
      ]
    },
    {
      "cell_type": "markdown",
      "source": [
        "# Bag_of_words (kumpulkan semua kata)"
      ],
      "metadata": {
        "id": "HLQa00aExP6D"
      }
    },
    {
      "cell_type": "code",
      "source": [
        "df['bag_of_words'] = ''\n",
        "columns = df.columns\n",
        "for index, row in df.iterrows():\n",
        "  words= ''\n",
        "  for col in columns:\n",
        "      words = words + ' '.join(row[col]) + ' '\n",
        "\n",
        "  row['bag_of_words'] = words\n"
      ],
      "metadata": {
        "id": "YHIIO_DIIzhI"
      },
      "execution_count": null,
      "outputs": []
    },
    {
      "cell_type": "code",
      "source": [
        "df.head(3)"
      ],
      "metadata": {
        "colab": {
          "base_uri": "https://localhost:8080/",
          "height": 174
        },
        "id": "A4MwximVxdoc",
        "outputId": "e592bb41-93be-4dd5-e745-9e0bf248e416"
      },
      "execution_count": null,
      "outputs": [
        {
          "output_type": "execute_result",
          "data": {
            "text/plain": [
              "              sector                  industry  \\\n",
              "_id                                              \n",
              "AALI  [non-siklikal]  [produkmakananpertanian]   \n",
              "ABBA      [siklikal]                   [media]   \n",
              "ABDA      [keuangan]                [asuransi]   \n",
              "\n",
              "                             key_words_business_product  \\\n",
              "_id                                                       \n",
              "AALI  [based, company, articles, association, scope,...   \n",
              "ABBA                                                 []   \n",
              "ABDA  [company, engaged, general, insurance, busines...   \n",
              "\n",
              "                                           bag_of_words  \n",
              "_id                                                      \n",
              "AALI  non-siklikal produkmakananpertanian based comp...  \n",
              "ABBA                                  siklikal media     \n",
              "ABDA  keuangan asuransi company engaged general insu...  "
            ],
            "text/html": [
              "\n",
              "  <div id=\"df-02cf3908-c79b-4a42-bbb2-3778b9faa0fc\">\n",
              "    <div class=\"colab-df-container\">\n",
              "      <div>\n",
              "<style scoped>\n",
              "    .dataframe tbody tr th:only-of-type {\n",
              "        vertical-align: middle;\n",
              "    }\n",
              "\n",
              "    .dataframe tbody tr th {\n",
              "        vertical-align: top;\n",
              "    }\n",
              "\n",
              "    .dataframe thead th {\n",
              "        text-align: right;\n",
              "    }\n",
              "</style>\n",
              "<table border=\"1\" class=\"dataframe\">\n",
              "  <thead>\n",
              "    <tr style=\"text-align: right;\">\n",
              "      <th></th>\n",
              "      <th>sector</th>\n",
              "      <th>industry</th>\n",
              "      <th>key_words_business_product</th>\n",
              "      <th>bag_of_words</th>\n",
              "    </tr>\n",
              "    <tr>\n",
              "      <th>_id</th>\n",
              "      <th></th>\n",
              "      <th></th>\n",
              "      <th></th>\n",
              "      <th></th>\n",
              "    </tr>\n",
              "  </thead>\n",
              "  <tbody>\n",
              "    <tr>\n",
              "      <th>AALI</th>\n",
              "      <td>[non-siklikal]</td>\n",
              "      <td>[produkmakananpertanian]</td>\n",
              "      <td>[based, company, articles, association, scope,...</td>\n",
              "      <td>non-siklikal produkmakananpertanian based comp...</td>\n",
              "    </tr>\n",
              "    <tr>\n",
              "      <th>ABBA</th>\n",
              "      <td>[siklikal]</td>\n",
              "      <td>[media]</td>\n",
              "      <td>[]</td>\n",
              "      <td>siklikal media</td>\n",
              "    </tr>\n",
              "    <tr>\n",
              "      <th>ABDA</th>\n",
              "      <td>[keuangan]</td>\n",
              "      <td>[asuransi]</td>\n",
              "      <td>[company, engaged, general, insurance, busines...</td>\n",
              "      <td>keuangan asuransi company engaged general insu...</td>\n",
              "    </tr>\n",
              "  </tbody>\n",
              "</table>\n",
              "</div>\n",
              "      <button class=\"colab-df-convert\" onclick=\"convertToInteractive('df-02cf3908-c79b-4a42-bbb2-3778b9faa0fc')\"\n",
              "              title=\"Convert this dataframe to an interactive table.\"\n",
              "              style=\"display:none;\">\n",
              "        \n",
              "  <svg xmlns=\"http://www.w3.org/2000/svg\" height=\"24px\"viewBox=\"0 0 24 24\"\n",
              "       width=\"24px\">\n",
              "    <path d=\"M0 0h24v24H0V0z\" fill=\"none\"/>\n",
              "    <path d=\"M18.56 5.44l.94 2.06.94-2.06 2.06-.94-2.06-.94-.94-2.06-.94 2.06-2.06.94zm-11 1L8.5 8.5l.94-2.06 2.06-.94-2.06-.94L8.5 2.5l-.94 2.06-2.06.94zm10 10l.94 2.06.94-2.06 2.06-.94-2.06-.94-.94-2.06-.94 2.06-2.06.94z\"/><path d=\"M17.41 7.96l-1.37-1.37c-.4-.4-.92-.59-1.43-.59-.52 0-1.04.2-1.43.59L10.3 9.45l-7.72 7.72c-.78.78-.78 2.05 0 2.83L4 21.41c.39.39.9.59 1.41.59.51 0 1.02-.2 1.41-.59l7.78-7.78 2.81-2.81c.8-.78.8-2.07 0-2.86zM5.41 20L4 18.59l7.72-7.72 1.47 1.35L5.41 20z\"/>\n",
              "  </svg>\n",
              "      </button>\n",
              "      \n",
              "  <style>\n",
              "    .colab-df-container {\n",
              "      display:flex;\n",
              "      flex-wrap:wrap;\n",
              "      gap: 12px;\n",
              "    }\n",
              "\n",
              "    .colab-df-convert {\n",
              "      background-color: #E8F0FE;\n",
              "      border: none;\n",
              "      border-radius: 50%;\n",
              "      cursor: pointer;\n",
              "      display: none;\n",
              "      fill: #1967D2;\n",
              "      height: 32px;\n",
              "      padding: 0 0 0 0;\n",
              "      width: 32px;\n",
              "    }\n",
              "\n",
              "    .colab-df-convert:hover {\n",
              "      background-color: #E2EBFA;\n",
              "      box-shadow: 0px 1px 2px rgba(60, 64, 67, 0.3), 0px 1px 3px 1px rgba(60, 64, 67, 0.15);\n",
              "      fill: #174EA6;\n",
              "    }\n",
              "\n",
              "    [theme=dark] .colab-df-convert {\n",
              "      background-color: #3B4455;\n",
              "      fill: #D2E3FC;\n",
              "    }\n",
              "\n",
              "    [theme=dark] .colab-df-convert:hover {\n",
              "      background-color: #434B5C;\n",
              "      box-shadow: 0px 1px 3px 1px rgba(0, 0, 0, 0.15);\n",
              "      filter: drop-shadow(0px 1px 2px rgba(0, 0, 0, 0.3));\n",
              "      fill: #FFFFFF;\n",
              "    }\n",
              "  </style>\n",
              "\n",
              "      <script>\n",
              "        const buttonEl =\n",
              "          document.querySelector('#df-02cf3908-c79b-4a42-bbb2-3778b9faa0fc button.colab-df-convert');\n",
              "        buttonEl.style.display =\n",
              "          google.colab.kernel.accessAllowed ? 'block' : 'none';\n",
              "\n",
              "        async function convertToInteractive(key) {\n",
              "          const element = document.querySelector('#df-02cf3908-c79b-4a42-bbb2-3778b9faa0fc');\n",
              "          const dataTable =\n",
              "            await google.colab.kernel.invokeFunction('convertToInteractive',\n",
              "                                                     [key], {});\n",
              "          if (!dataTable) return;\n",
              "\n",
              "          const docLinkHtml = 'Like what you see? Visit the ' +\n",
              "            '<a target=\"_blank\" href=https://colab.research.google.com/notebooks/data_table.ipynb>data table notebook</a>'\n",
              "            + ' to learn more about interactive tables.';\n",
              "          element.innerHTML = '';\n",
              "          dataTable['output_type'] = 'display_data';\n",
              "          await google.colab.output.renderOutput(dataTable, element);\n",
              "          const docLink = document.createElement('div');\n",
              "          docLink.innerHTML = docLinkHtml;\n",
              "          element.appendChild(docLink);\n",
              "        }\n",
              "      </script>\n",
              "    </div>\n",
              "  </div>\n",
              "  "
            ]
          },
          "metadata": {},
          "execution_count": 279
        }
      ]
    },
    {
      "cell_type": "code",
      "source": [
        "df['bag_of_words'][400]"
      ],
      "metadata": {
        "colab": {
          "base_uri": "https://localhost:8080/",
          "height": 36
        },
        "id": "r0vt4RcOxv36",
        "outputId": "f83e2627-5c52-4fe7-aa61-86b5d1247adc"
      },
      "execution_count": null,
      "outputs": [
        {
          "output_type": "execute_result",
          "data": {
            "text/plain": [
              "'barangbaku wadah&kemasan company scope activities plastic sheets industry trading imports  '"
            ],
            "application/vnd.google.colaboratory.intrinsic+json": {
              "type": "string"
            }
          },
          "metadata": {},
          "execution_count": 280
        }
      ]
    },
    {
      "cell_type": "code",
      "source": [
        "df.iloc[400]"
      ],
      "metadata": {
        "colab": {
          "base_uri": "https://localhost:8080/"
        },
        "id": "-nsxqyEiWdh6",
        "outputId": "9cb37673-d82a-42b7-a308-d2e8d9db1ff9"
      },
      "execution_count": null,
      "outputs": [
        {
          "output_type": "execute_result",
          "data": {
            "text/plain": [
              "sector                                                             [barangbaku]\n",
              "industry                                                        [wadah&kemasan]\n",
              "key_words_business_product    [company, scope, activities, plastic, sheets, ...\n",
              "bag_of_words                  barangbaku wadah&kemasan company scope activit...\n",
              "Name: IPOL, dtype: object"
            ]
          },
          "metadata": {},
          "execution_count": 281
        }
      ]
    },
    {
      "cell_type": "markdown",
      "source": [
        "## Menghapus double spase"
      ],
      "metadata": {
        "id": "CT7hIYr9x99r"
      }
    },
    {
      "cell_type": "code",
      "source": [
        "df['bag_of_words'] = df['bag_of_words'].str.replace(r'\\s\\s', ' ')"
      ],
      "metadata": {
        "colab": {
          "base_uri": "https://localhost:8080/"
        },
        "id": "hHcY34R_x8GK",
        "outputId": "78b8736c-80f6-48f6-f6d2-0910f32d7606"
      },
      "execution_count": null,
      "outputs": [
        {
          "output_type": "stream",
          "name": "stderr",
          "text": [
            "<ipython-input-284-df9588f9567a>:1: FutureWarning: The default value of regex will change from True to False in a future version.\n",
            "  df['bag_of_words'] = df['bag_of_words'].str.replace(r'\\s\\s', ' ')\n"
          ]
        }
      ]
    },
    {
      "cell_type": "code",
      "source": [
        "#mengecek ada berapa baris yang mengandung double space\n",
        "df['bag_of_words'].str.contains(r'\\s\\s').sum()"
      ],
      "metadata": {
        "colab": {
          "base_uri": "https://localhost:8080/"
        },
        "id": "x9JRwWcyyMed",
        "outputId": "34200fae-3bb2-4bfd-d9d2-963b1ce9a08b"
      },
      "execution_count": null,
      "outputs": [
        {
          "output_type": "execute_result",
          "data": {
            "text/plain": [
              "0"
            ]
          },
          "metadata": {},
          "execution_count": 285
        }
      ]
    },
    {
      "cell_type": "markdown",
      "source": [
        "## Menghapus spase yang ada di belakang kalimat"
      ],
      "metadata": {
        "id": "psPsbN1ZyP2L"
      }
    },
    {
      "cell_type": "code",
      "source": [
        "#menghapus karakter spasi diakhir kaliamt\n",
        "df['bag_of_words'] = df['bag_of_words'].str.rstrip()"
      ],
      "metadata": {
        "id": "21e-_YvZyTG6"
      },
      "execution_count": null,
      "outputs": []
    },
    {
      "cell_type": "markdown",
      "source": [
        "## Menghapus karakter khusus"
      ],
      "metadata": {
        "id": "neovysOKyY5o"
      }
    },
    {
      "cell_type": "code",
      "source": [
        "#menghilangkan karakter khusus\n",
        "df['bag_of_words'] = df['bag_of_words'].str.replace('[^\\w\\s]', '', regex=True)"
      ],
      "metadata": {
        "id": "Vg8kLETXydU8"
      },
      "execution_count": null,
      "outputs": []
    },
    {
      "cell_type": "code",
      "source": [
        "df.head(1)"
      ],
      "metadata": {
        "colab": {
          "base_uri": "https://localhost:8080/",
          "height": 112
        },
        "id": "6jgwJsO-BxYp",
        "outputId": "d12802bc-8800-44f8-f695-daff3722e5f7"
      },
      "execution_count": null,
      "outputs": [
        {
          "output_type": "execute_result",
          "data": {
            "text/plain": [
              "              sector                  industry  \\\n",
              "_id                                              \n",
              "AALI  [non-siklikal]  [produkmakananpertanian]   \n",
              "\n",
              "                             key_words_business_product  \\\n",
              "_id                                                       \n",
              "AALI  [based, company, articles, association, scope,...   \n",
              "\n",
              "                                           bag_of_words  \n",
              "_id                                                      \n",
              "AALI  nonsiklikal produkmakananpertanian based compa...  "
            ],
            "text/html": [
              "\n",
              "  <div id=\"df-4274ee32-e2ef-479e-900e-96513099f88a\">\n",
              "    <div class=\"colab-df-container\">\n",
              "      <div>\n",
              "<style scoped>\n",
              "    .dataframe tbody tr th:only-of-type {\n",
              "        vertical-align: middle;\n",
              "    }\n",
              "\n",
              "    .dataframe tbody tr th {\n",
              "        vertical-align: top;\n",
              "    }\n",
              "\n",
              "    .dataframe thead th {\n",
              "        text-align: right;\n",
              "    }\n",
              "</style>\n",
              "<table border=\"1\" class=\"dataframe\">\n",
              "  <thead>\n",
              "    <tr style=\"text-align: right;\">\n",
              "      <th></th>\n",
              "      <th>sector</th>\n",
              "      <th>industry</th>\n",
              "      <th>key_words_business_product</th>\n",
              "      <th>bag_of_words</th>\n",
              "    </tr>\n",
              "    <tr>\n",
              "      <th>_id</th>\n",
              "      <th></th>\n",
              "      <th></th>\n",
              "      <th></th>\n",
              "      <th></th>\n",
              "    </tr>\n",
              "  </thead>\n",
              "  <tbody>\n",
              "    <tr>\n",
              "      <th>AALI</th>\n",
              "      <td>[non-siklikal]</td>\n",
              "      <td>[produkmakananpertanian]</td>\n",
              "      <td>[based, company, articles, association, scope,...</td>\n",
              "      <td>nonsiklikal produkmakananpertanian based compa...</td>\n",
              "    </tr>\n",
              "  </tbody>\n",
              "</table>\n",
              "</div>\n",
              "      <button class=\"colab-df-convert\" onclick=\"convertToInteractive('df-4274ee32-e2ef-479e-900e-96513099f88a')\"\n",
              "              title=\"Convert this dataframe to an interactive table.\"\n",
              "              style=\"display:none;\">\n",
              "        \n",
              "  <svg xmlns=\"http://www.w3.org/2000/svg\" height=\"24px\"viewBox=\"0 0 24 24\"\n",
              "       width=\"24px\">\n",
              "    <path d=\"M0 0h24v24H0V0z\" fill=\"none\"/>\n",
              "    <path d=\"M18.56 5.44l.94 2.06.94-2.06 2.06-.94-2.06-.94-.94-2.06-.94 2.06-2.06.94zm-11 1L8.5 8.5l.94-2.06 2.06-.94-2.06-.94L8.5 2.5l-.94 2.06-2.06.94zm10 10l.94 2.06.94-2.06 2.06-.94-2.06-.94-.94-2.06-.94 2.06-2.06.94z\"/><path d=\"M17.41 7.96l-1.37-1.37c-.4-.4-.92-.59-1.43-.59-.52 0-1.04.2-1.43.59L10.3 9.45l-7.72 7.72c-.78.78-.78 2.05 0 2.83L4 21.41c.39.39.9.59 1.41.59.51 0 1.02-.2 1.41-.59l7.78-7.78 2.81-2.81c.8-.78.8-2.07 0-2.86zM5.41 20L4 18.59l7.72-7.72 1.47 1.35L5.41 20z\"/>\n",
              "  </svg>\n",
              "      </button>\n",
              "      \n",
              "  <style>\n",
              "    .colab-df-container {\n",
              "      display:flex;\n",
              "      flex-wrap:wrap;\n",
              "      gap: 12px;\n",
              "    }\n",
              "\n",
              "    .colab-df-convert {\n",
              "      background-color: #E8F0FE;\n",
              "      border: none;\n",
              "      border-radius: 50%;\n",
              "      cursor: pointer;\n",
              "      display: none;\n",
              "      fill: #1967D2;\n",
              "      height: 32px;\n",
              "      padding: 0 0 0 0;\n",
              "      width: 32px;\n",
              "    }\n",
              "\n",
              "    .colab-df-convert:hover {\n",
              "      background-color: #E2EBFA;\n",
              "      box-shadow: 0px 1px 2px rgba(60, 64, 67, 0.3), 0px 1px 3px 1px rgba(60, 64, 67, 0.15);\n",
              "      fill: #174EA6;\n",
              "    }\n",
              "\n",
              "    [theme=dark] .colab-df-convert {\n",
              "      background-color: #3B4455;\n",
              "      fill: #D2E3FC;\n",
              "    }\n",
              "\n",
              "    [theme=dark] .colab-df-convert:hover {\n",
              "      background-color: #434B5C;\n",
              "      box-shadow: 0px 1px 3px 1px rgba(0, 0, 0, 0.15);\n",
              "      filter: drop-shadow(0px 1px 2px rgba(0, 0, 0, 0.3));\n",
              "      fill: #FFFFFF;\n",
              "    }\n",
              "  </style>\n",
              "\n",
              "      <script>\n",
              "        const buttonEl =\n",
              "          document.querySelector('#df-4274ee32-e2ef-479e-900e-96513099f88a button.colab-df-convert');\n",
              "        buttonEl.style.display =\n",
              "          google.colab.kernel.accessAllowed ? 'block' : 'none';\n",
              "\n",
              "        async function convertToInteractive(key) {\n",
              "          const element = document.querySelector('#df-4274ee32-e2ef-479e-900e-96513099f88a');\n",
              "          const dataTable =\n",
              "            await google.colab.kernel.invokeFunction('convertToInteractive',\n",
              "                                                     [key], {});\n",
              "          if (!dataTable) return;\n",
              "\n",
              "          const docLinkHtml = 'Like what you see? Visit the ' +\n",
              "            '<a target=\"_blank\" href=https://colab.research.google.com/notebooks/data_table.ipynb>data table notebook</a>'\n",
              "            + ' to learn more about interactive tables.';\n",
              "          element.innerHTML = '';\n",
              "          dataTable['output_type'] = 'display_data';\n",
              "          await google.colab.output.renderOutput(dataTable, element);\n",
              "          const docLink = document.createElement('div');\n",
              "          docLink.innerHTML = docLinkHtml;\n",
              "          element.appendChild(docLink);\n",
              "        }\n",
              "      </script>\n",
              "    </div>\n",
              "  </div>\n",
              "  "
            ]
          },
          "metadata": {},
          "execution_count": 288
        }
      ]
    },
    {
      "cell_type": "markdown",
      "source": [
        "## Hapus sektor dan **kew_word_business_product**"
      ],
      "metadata": {
        "id": "PKttoXhwykku"
      }
    },
    {
      "cell_type": "code",
      "source": [
        "df"
      ],
      "metadata": {
        "colab": {
          "base_uri": "https://localhost:8080/",
          "height": 455
        },
        "id": "KRjHKDXQgzo0",
        "outputId": "c2ac2e34-ade1-4cc0-bb4f-4bf284fa37e4"
      },
      "execution_count": null,
      "outputs": [
        {
          "output_type": "execute_result",
          "data": {
            "text/plain": [
              "               sector                         industry  \\\n",
              "_id                                                      \n",
              "AALI   [non-siklikal]         [produkmakananpertanian]   \n",
              "ABBA       [siklikal]                          [media]   \n",
              "ABDA       [keuangan]                       [asuransi]   \n",
              "ABMM  [perindustrian]  [perusahaanholdingmulti-sektor]   \n",
              "ACES       [siklikal]                    [ritelkhusus]   \n",
              "...               ...                              ...   \n",
              "ZATA  [perindustrian]  [perusahaanholdingmulti-sektor]   \n",
              "ZBRA  [infrastruktur]                    [utilitasgas]   \n",
              "ZINC     [barangbaku]                  [logam&mineral]   \n",
              "ZONE       [siklikal]                    [ritelkhusus]   \n",
              "ZYRX      [teknologi]              [perangkatkomputer]   \n",
              "\n",
              "                             key_words_business_product  \\\n",
              "_id                                                       \n",
              "AALI  [based, company, articles, association, scope,...   \n",
              "ABBA                                                 []   \n",
              "ABDA  [company, engaged, general, insurance, busines...   \n",
              "ABMM  [company, scope, activities, conducting, busin...   \n",
              "ACES  [company, scope, activities, consist, general,...   \n",
              "...                                                 ...   \n",
              "ZATA                                                 []   \n",
              "ZBRA  [scope, activities, company, mainly, engage, p...   \n",
              "ZINC  [pt, kapuas, prima, coal, tbk, company, conduc...   \n",
              "ZONE  [company, operates, business, group, engaged, ...   \n",
              "ZYRX  [company, ’, scope, activities, comprise, manu...   \n",
              "\n",
              "                                           bag_of_words  \n",
              "_id                                                      \n",
              "AALI  nonsiklikal produkmakananpertanian based compa...  \n",
              "ABBA                                     siklikal media  \n",
              "ABDA  keuangan asuransi company engaged general insu...  \n",
              "ABMM  perindustrian perusahaanholdingmultisektor com...  \n",
              "ACES  siklikal ritelkhusus company scope activities ...  \n",
              "...                                                 ...  \n",
              "ZATA         perindustrian perusahaanholdingmultisektor  \n",
              "ZBRA  infrastruktur utilitasgas scope activities com...  \n",
              "ZINC  barangbaku logammineral pt kapuas prima coal t...  \n",
              "ZONE  siklikal ritelkhusus company operates business...  \n",
              "ZYRX  teknologi perangkatkomputer company  scope act...  \n",
              "\n",
              "[883 rows x 4 columns]"
            ],
            "text/html": [
              "\n",
              "  <div id=\"df-a526091f-1493-4fa8-855a-7c6867294629\">\n",
              "    <div class=\"colab-df-container\">\n",
              "      <div>\n",
              "<style scoped>\n",
              "    .dataframe tbody tr th:only-of-type {\n",
              "        vertical-align: middle;\n",
              "    }\n",
              "\n",
              "    .dataframe tbody tr th {\n",
              "        vertical-align: top;\n",
              "    }\n",
              "\n",
              "    .dataframe thead th {\n",
              "        text-align: right;\n",
              "    }\n",
              "</style>\n",
              "<table border=\"1\" class=\"dataframe\">\n",
              "  <thead>\n",
              "    <tr style=\"text-align: right;\">\n",
              "      <th></th>\n",
              "      <th>sector</th>\n",
              "      <th>industry</th>\n",
              "      <th>key_words_business_product</th>\n",
              "      <th>bag_of_words</th>\n",
              "    </tr>\n",
              "    <tr>\n",
              "      <th>_id</th>\n",
              "      <th></th>\n",
              "      <th></th>\n",
              "      <th></th>\n",
              "      <th></th>\n",
              "    </tr>\n",
              "  </thead>\n",
              "  <tbody>\n",
              "    <tr>\n",
              "      <th>AALI</th>\n",
              "      <td>[non-siklikal]</td>\n",
              "      <td>[produkmakananpertanian]</td>\n",
              "      <td>[based, company, articles, association, scope,...</td>\n",
              "      <td>nonsiklikal produkmakananpertanian based compa...</td>\n",
              "    </tr>\n",
              "    <tr>\n",
              "      <th>ABBA</th>\n",
              "      <td>[siklikal]</td>\n",
              "      <td>[media]</td>\n",
              "      <td>[]</td>\n",
              "      <td>siklikal media</td>\n",
              "    </tr>\n",
              "    <tr>\n",
              "      <th>ABDA</th>\n",
              "      <td>[keuangan]</td>\n",
              "      <td>[asuransi]</td>\n",
              "      <td>[company, engaged, general, insurance, busines...</td>\n",
              "      <td>keuangan asuransi company engaged general insu...</td>\n",
              "    </tr>\n",
              "    <tr>\n",
              "      <th>ABMM</th>\n",
              "      <td>[perindustrian]</td>\n",
              "      <td>[perusahaanholdingmulti-sektor]</td>\n",
              "      <td>[company, scope, activities, conducting, busin...</td>\n",
              "      <td>perindustrian perusahaanholdingmultisektor com...</td>\n",
              "    </tr>\n",
              "    <tr>\n",
              "      <th>ACES</th>\n",
              "      <td>[siklikal]</td>\n",
              "      <td>[ritelkhusus]</td>\n",
              "      <td>[company, scope, activities, consist, general,...</td>\n",
              "      <td>siklikal ritelkhusus company scope activities ...</td>\n",
              "    </tr>\n",
              "    <tr>\n",
              "      <th>...</th>\n",
              "      <td>...</td>\n",
              "      <td>...</td>\n",
              "      <td>...</td>\n",
              "      <td>...</td>\n",
              "    </tr>\n",
              "    <tr>\n",
              "      <th>ZATA</th>\n",
              "      <td>[perindustrian]</td>\n",
              "      <td>[perusahaanholdingmulti-sektor]</td>\n",
              "      <td>[]</td>\n",
              "      <td>perindustrian perusahaanholdingmultisektor</td>\n",
              "    </tr>\n",
              "    <tr>\n",
              "      <th>ZBRA</th>\n",
              "      <td>[infrastruktur]</td>\n",
              "      <td>[utilitasgas]</td>\n",
              "      <td>[scope, activities, company, mainly, engage, p...</td>\n",
              "      <td>infrastruktur utilitasgas scope activities com...</td>\n",
              "    </tr>\n",
              "    <tr>\n",
              "      <th>ZINC</th>\n",
              "      <td>[barangbaku]</td>\n",
              "      <td>[logam&amp;mineral]</td>\n",
              "      <td>[pt, kapuas, prima, coal, tbk, company, conduc...</td>\n",
              "      <td>barangbaku logammineral pt kapuas prima coal t...</td>\n",
              "    </tr>\n",
              "    <tr>\n",
              "      <th>ZONE</th>\n",
              "      <td>[siklikal]</td>\n",
              "      <td>[ritelkhusus]</td>\n",
              "      <td>[company, operates, business, group, engaged, ...</td>\n",
              "      <td>siklikal ritelkhusus company operates business...</td>\n",
              "    </tr>\n",
              "    <tr>\n",
              "      <th>ZYRX</th>\n",
              "      <td>[teknologi]</td>\n",
              "      <td>[perangkatkomputer]</td>\n",
              "      <td>[company, ’, scope, activities, comprise, manu...</td>\n",
              "      <td>teknologi perangkatkomputer company  scope act...</td>\n",
              "    </tr>\n",
              "  </tbody>\n",
              "</table>\n",
              "<p>883 rows × 4 columns</p>\n",
              "</div>\n",
              "      <button class=\"colab-df-convert\" onclick=\"convertToInteractive('df-a526091f-1493-4fa8-855a-7c6867294629')\"\n",
              "              title=\"Convert this dataframe to an interactive table.\"\n",
              "              style=\"display:none;\">\n",
              "        \n",
              "  <svg xmlns=\"http://www.w3.org/2000/svg\" height=\"24px\"viewBox=\"0 0 24 24\"\n",
              "       width=\"24px\">\n",
              "    <path d=\"M0 0h24v24H0V0z\" fill=\"none\"/>\n",
              "    <path d=\"M18.56 5.44l.94 2.06.94-2.06 2.06-.94-2.06-.94-.94-2.06-.94 2.06-2.06.94zm-11 1L8.5 8.5l.94-2.06 2.06-.94-2.06-.94L8.5 2.5l-.94 2.06-2.06.94zm10 10l.94 2.06.94-2.06 2.06-.94-2.06-.94-.94-2.06-.94 2.06-2.06.94z\"/><path d=\"M17.41 7.96l-1.37-1.37c-.4-.4-.92-.59-1.43-.59-.52 0-1.04.2-1.43.59L10.3 9.45l-7.72 7.72c-.78.78-.78 2.05 0 2.83L4 21.41c.39.39.9.59 1.41.59.51 0 1.02-.2 1.41-.59l7.78-7.78 2.81-2.81c.8-.78.8-2.07 0-2.86zM5.41 20L4 18.59l7.72-7.72 1.47 1.35L5.41 20z\"/>\n",
              "  </svg>\n",
              "      </button>\n",
              "      \n",
              "  <style>\n",
              "    .colab-df-container {\n",
              "      display:flex;\n",
              "      flex-wrap:wrap;\n",
              "      gap: 12px;\n",
              "    }\n",
              "\n",
              "    .colab-df-convert {\n",
              "      background-color: #E8F0FE;\n",
              "      border: none;\n",
              "      border-radius: 50%;\n",
              "      cursor: pointer;\n",
              "      display: none;\n",
              "      fill: #1967D2;\n",
              "      height: 32px;\n",
              "      padding: 0 0 0 0;\n",
              "      width: 32px;\n",
              "    }\n",
              "\n",
              "    .colab-df-convert:hover {\n",
              "      background-color: #E2EBFA;\n",
              "      box-shadow: 0px 1px 2px rgba(60, 64, 67, 0.3), 0px 1px 3px 1px rgba(60, 64, 67, 0.15);\n",
              "      fill: #174EA6;\n",
              "    }\n",
              "\n",
              "    [theme=dark] .colab-df-convert {\n",
              "      background-color: #3B4455;\n",
              "      fill: #D2E3FC;\n",
              "    }\n",
              "\n",
              "    [theme=dark] .colab-df-convert:hover {\n",
              "      background-color: #434B5C;\n",
              "      box-shadow: 0px 1px 3px 1px rgba(0, 0, 0, 0.15);\n",
              "      filter: drop-shadow(0px 1px 2px rgba(0, 0, 0, 0.3));\n",
              "      fill: #FFFFFF;\n",
              "    }\n",
              "  </style>\n",
              "\n",
              "      <script>\n",
              "        const buttonEl =\n",
              "          document.querySelector('#df-a526091f-1493-4fa8-855a-7c6867294629 button.colab-df-convert');\n",
              "        buttonEl.style.display =\n",
              "          google.colab.kernel.accessAllowed ? 'block' : 'none';\n",
              "\n",
              "        async function convertToInteractive(key) {\n",
              "          const element = document.querySelector('#df-a526091f-1493-4fa8-855a-7c6867294629');\n",
              "          const dataTable =\n",
              "            await google.colab.kernel.invokeFunction('convertToInteractive',\n",
              "                                                     [key], {});\n",
              "          if (!dataTable) return;\n",
              "\n",
              "          const docLinkHtml = 'Like what you see? Visit the ' +\n",
              "            '<a target=\"_blank\" href=https://colab.research.google.com/notebooks/data_table.ipynb>data table notebook</a>'\n",
              "            + ' to learn more about interactive tables.';\n",
              "          element.innerHTML = '';\n",
              "          dataTable['output_type'] = 'display_data';\n",
              "          await google.colab.output.renderOutput(dataTable, element);\n",
              "          const docLink = document.createElement('div');\n",
              "          docLink.innerHTML = docLinkHtml;\n",
              "          element.appendChild(docLink);\n",
              "        }\n",
              "      </script>\n",
              "    </div>\n",
              "  </div>\n",
              "  "
            ]
          },
          "metadata": {},
          "execution_count": 289
        }
      ]
    },
    {
      "cell_type": "code",
      "source": [
        "df = df.drop(columns=['industry','key_words_business_product'])"
      ],
      "metadata": {
        "id": "C4FfCIb_DJ-B"
      },
      "execution_count": null,
      "outputs": []
    },
    {
      "cell_type": "code",
      "source": [
        "df = df.drop(columns=['sector'])"
      ],
      "metadata": {
        "id": "ziNpzzZuzJlj"
      },
      "execution_count": null,
      "outputs": []
    },
    {
      "cell_type": "code",
      "source": [
        "df.head()"
      ],
      "metadata": {
        "colab": {
          "base_uri": "https://localhost:8080/",
          "height": 237
        },
        "id": "DQSCG7nxDa4b",
        "outputId": "8abc0122-b56c-4916-f3f1-f2477ceba038"
      },
      "execution_count": null,
      "outputs": [
        {
          "output_type": "execute_result",
          "data": {
            "text/plain": [
              "                                           bag_of_words\n",
              "_id                                                    \n",
              "AALI  nonsiklikal produkmakananpertanian based compa...\n",
              "ABBA                                     siklikal media\n",
              "ABDA  keuangan asuransi company engaged general insu...\n",
              "ABMM  perindustrian perusahaanholdingmultisektor com...\n",
              "ACES  siklikal ritelkhusus company scope activities ..."
            ],
            "text/html": [
              "\n",
              "  <div id=\"df-9c5ab5cf-afc3-47c5-9bc2-fe4312126fc6\">\n",
              "    <div class=\"colab-df-container\">\n",
              "      <div>\n",
              "<style scoped>\n",
              "    .dataframe tbody tr th:only-of-type {\n",
              "        vertical-align: middle;\n",
              "    }\n",
              "\n",
              "    .dataframe tbody tr th {\n",
              "        vertical-align: top;\n",
              "    }\n",
              "\n",
              "    .dataframe thead th {\n",
              "        text-align: right;\n",
              "    }\n",
              "</style>\n",
              "<table border=\"1\" class=\"dataframe\">\n",
              "  <thead>\n",
              "    <tr style=\"text-align: right;\">\n",
              "      <th></th>\n",
              "      <th>bag_of_words</th>\n",
              "    </tr>\n",
              "    <tr>\n",
              "      <th>_id</th>\n",
              "      <th></th>\n",
              "    </tr>\n",
              "  </thead>\n",
              "  <tbody>\n",
              "    <tr>\n",
              "      <th>AALI</th>\n",
              "      <td>nonsiklikal produkmakananpertanian based compa...</td>\n",
              "    </tr>\n",
              "    <tr>\n",
              "      <th>ABBA</th>\n",
              "      <td>siklikal media</td>\n",
              "    </tr>\n",
              "    <tr>\n",
              "      <th>ABDA</th>\n",
              "      <td>keuangan asuransi company engaged general insu...</td>\n",
              "    </tr>\n",
              "    <tr>\n",
              "      <th>ABMM</th>\n",
              "      <td>perindustrian perusahaanholdingmultisektor com...</td>\n",
              "    </tr>\n",
              "    <tr>\n",
              "      <th>ACES</th>\n",
              "      <td>siklikal ritelkhusus company scope activities ...</td>\n",
              "    </tr>\n",
              "  </tbody>\n",
              "</table>\n",
              "</div>\n",
              "      <button class=\"colab-df-convert\" onclick=\"convertToInteractive('df-9c5ab5cf-afc3-47c5-9bc2-fe4312126fc6')\"\n",
              "              title=\"Convert this dataframe to an interactive table.\"\n",
              "              style=\"display:none;\">\n",
              "        \n",
              "  <svg xmlns=\"http://www.w3.org/2000/svg\" height=\"24px\"viewBox=\"0 0 24 24\"\n",
              "       width=\"24px\">\n",
              "    <path d=\"M0 0h24v24H0V0z\" fill=\"none\"/>\n",
              "    <path d=\"M18.56 5.44l.94 2.06.94-2.06 2.06-.94-2.06-.94-.94-2.06-.94 2.06-2.06.94zm-11 1L8.5 8.5l.94-2.06 2.06-.94-2.06-.94L8.5 2.5l-.94 2.06-2.06.94zm10 10l.94 2.06.94-2.06 2.06-.94-2.06-.94-.94-2.06-.94 2.06-2.06.94z\"/><path d=\"M17.41 7.96l-1.37-1.37c-.4-.4-.92-.59-1.43-.59-.52 0-1.04.2-1.43.59L10.3 9.45l-7.72 7.72c-.78.78-.78 2.05 0 2.83L4 21.41c.39.39.9.59 1.41.59.51 0 1.02-.2 1.41-.59l7.78-7.78 2.81-2.81c.8-.78.8-2.07 0-2.86zM5.41 20L4 18.59l7.72-7.72 1.47 1.35L5.41 20z\"/>\n",
              "  </svg>\n",
              "      </button>\n",
              "      \n",
              "  <style>\n",
              "    .colab-df-container {\n",
              "      display:flex;\n",
              "      flex-wrap:wrap;\n",
              "      gap: 12px;\n",
              "    }\n",
              "\n",
              "    .colab-df-convert {\n",
              "      background-color: #E8F0FE;\n",
              "      border: none;\n",
              "      border-radius: 50%;\n",
              "      cursor: pointer;\n",
              "      display: none;\n",
              "      fill: #1967D2;\n",
              "      height: 32px;\n",
              "      padding: 0 0 0 0;\n",
              "      width: 32px;\n",
              "    }\n",
              "\n",
              "    .colab-df-convert:hover {\n",
              "      background-color: #E2EBFA;\n",
              "      box-shadow: 0px 1px 2px rgba(60, 64, 67, 0.3), 0px 1px 3px 1px rgba(60, 64, 67, 0.15);\n",
              "      fill: #174EA6;\n",
              "    }\n",
              "\n",
              "    [theme=dark] .colab-df-convert {\n",
              "      background-color: #3B4455;\n",
              "      fill: #D2E3FC;\n",
              "    }\n",
              "\n",
              "    [theme=dark] .colab-df-convert:hover {\n",
              "      background-color: #434B5C;\n",
              "      box-shadow: 0px 1px 3px 1px rgba(0, 0, 0, 0.15);\n",
              "      filter: drop-shadow(0px 1px 2px rgba(0, 0, 0, 0.3));\n",
              "      fill: #FFFFFF;\n",
              "    }\n",
              "  </style>\n",
              "\n",
              "      <script>\n",
              "        const buttonEl =\n",
              "          document.querySelector('#df-9c5ab5cf-afc3-47c5-9bc2-fe4312126fc6 button.colab-df-convert');\n",
              "        buttonEl.style.display =\n",
              "          google.colab.kernel.accessAllowed ? 'block' : 'none';\n",
              "\n",
              "        async function convertToInteractive(key) {\n",
              "          const element = document.querySelector('#df-9c5ab5cf-afc3-47c5-9bc2-fe4312126fc6');\n",
              "          const dataTable =\n",
              "            await google.colab.kernel.invokeFunction('convertToInteractive',\n",
              "                                                     [key], {});\n",
              "          if (!dataTable) return;\n",
              "\n",
              "          const docLinkHtml = 'Like what you see? Visit the ' +\n",
              "            '<a target=\"_blank\" href=https://colab.research.google.com/notebooks/data_table.ipynb>data table notebook</a>'\n",
              "            + ' to learn more about interactive tables.';\n",
              "          element.innerHTML = '';\n",
              "          dataTable['output_type'] = 'display_data';\n",
              "          await google.colab.output.renderOutput(dataTable, element);\n",
              "          const docLink = document.createElement('div');\n",
              "          docLink.innerHTML = docLinkHtml;\n",
              "          element.appendChild(docLink);\n",
              "        }\n",
              "      </script>\n",
              "    </div>\n",
              "  </div>\n",
              "  "
            ]
          },
          "metadata": {},
          "execution_count": 292
        }
      ]
    },
    {
      "cell_type": "markdown",
      "source": [
        "# CountVectorize"
      ],
      "metadata": {
        "id": "RaUAMktAzSeY"
      }
    },
    {
      "cell_type": "code",
      "source": [
        "count = CountVectorizer()\n",
        "count_matrix = count.fit_transform(df['bag_of_words'])"
      ],
      "metadata": {
        "id": "4vgOYQ6SImTt"
      },
      "execution_count": null,
      "outputs": []
    },
    {
      "cell_type": "code",
      "source": [
        "count_matrix"
      ],
      "metadata": {
        "colab": {
          "base_uri": "https://localhost:8080/"
        },
        "id": "hfPLDThOImYC",
        "outputId": "bbe038f5-51e7-4b35-f89b-67e4a723b7e7"
      },
      "execution_count": null,
      "outputs": [
        {
          "output_type": "execute_result",
          "data": {
            "text/plain": [
              "<883x2742 sparse matrix of type '<class 'numpy.int64'>'\n",
              "\twith 13412 stored elements in Compressed Sparse Row format>"
            ]
          },
          "metadata": {},
          "execution_count": 299
        }
      ]
    },
    {
      "cell_type": "code",
      "source": [
        "c = count_matrix.todense()\n",
        "c"
      ],
      "metadata": {
        "colab": {
          "base_uri": "https://localhost:8080/"
        },
        "id": "ouRuUm1QJkr3",
        "outputId": "8e81a4d5-845d-47b8-83de-ebe823d82743"
      },
      "execution_count": null,
      "outputs": [
        {
          "output_type": "execute_result",
          "data": {
            "text/plain": [
              "matrix([[0, 0, 0, ..., 0, 0, 0],\n",
              "        [0, 0, 0, ..., 0, 0, 0],\n",
              "        [0, 0, 0, ..., 0, 0, 0],\n",
              "        ...,\n",
              "        [0, 0, 0, ..., 1, 1, 0],\n",
              "        [0, 0, 0, ..., 0, 0, 0],\n",
              "        [0, 0, 0, ..., 0, 0, 0]])"
            ]
          },
          "metadata": {},
          "execution_count": 300
        }
      ]
    },
    {
      "cell_type": "code",
      "source": [
        "print(count_matrix[0,:])"
      ],
      "metadata": {
        "colab": {
          "base_uri": "https://localhost:8080/"
        },
        "id": "C8jSu5GlJnws",
        "outputId": "ab500d42-0abe-498e-de49-9a93085dca1a"
      },
      "execution_count": null,
      "outputs": [
        {
          "output_type": "stream",
          "name": "stdout",
          "text": [
            "  (0, 1650)\t1\n",
            "  (0, 1975)\t1\n",
            "  (0, 274)\t1\n",
            "  (0, 568)\t1\n",
            "  (0, 217)\t1\n",
            "  (0, 236)\t1\n",
            "  (0, 2202)\t1\n",
            "  (0, 93)\t1\n",
            "  (0, 862)\t1\n",
            "  (0, 1868)\t1\n",
            "  (0, 1708)\t1\n",
            "  (0, 1093)\t1\n",
            "  (0, 2551)\t1\n",
            "  (0, 1499)\t1\n",
            "  (0, 2569)\t1\n",
            "  (0, 624)\t1\n",
            "  (0, 2238)\t1\n"
          ]
        }
      ]
    },
    {
      "cell_type": "markdown",
      "source": [
        "# Menghitung nilai cosine similarity"
      ],
      "metadata": {
        "id": "-VT4DcFazahw"
      }
    },
    {
      "cell_type": "code",
      "source": [
        "cosine_sim = cosine_similarity(count_matrix, count_matrix)\n",
        "cosine_sim"
      ],
      "metadata": {
        "colab": {
          "base_uri": "https://localhost:8080/"
        },
        "id": "wqBvsTvpJvvN",
        "outputId": "da09f08a-2d69-4392-ddf8-2f2507bbaf74"
      },
      "execution_count": null,
      "outputs": [
        {
          "output_type": "execute_result",
          "data": {
            "text/plain": [
              "array([[1.        , 0.        , 0.13453456, ..., 0.0951303 , 0.06726728,\n",
              "        0.2300895 ],\n",
              "       [0.        , 1.        , 0.        , ..., 0.        , 0.09805807,\n",
              "        0.        ],\n",
              "       [0.13453456, 0.        , 1.        , ..., 0.10878566, 0.11538462,\n",
              "        0.0877058 ],\n",
              "       ...,\n",
              "       [0.0951303 , 0.        , 0.10878566, ..., 1.        , 0.10878566,\n",
              "        0.12403473],\n",
              "       [0.06726728, 0.09805807, 0.11538462, ..., 0.10878566, 1.        ,\n",
              "        0.0877058 ],\n",
              "       [0.2300895 , 0.        , 0.0877058 , ..., 0.12403473, 0.0877058 ,\n",
              "        1.        ]])"
            ]
          },
          "metadata": {},
          "execution_count": 302
        }
      ]
    },
    {
      "cell_type": "markdown",
      "source": [
        "# Membuat rekomendasi"
      ],
      "metadata": {
        "id": "VXnByRnLzhF9"
      }
    },
    {
      "cell_type": "code",
      "source": [
        "indices = pd.Series(df.index)\n",
        "indices"
      ],
      "metadata": {
        "colab": {
          "base_uri": "https://localhost:8080/"
        },
        "id": "3CzLGpAyJyX7",
        "outputId": "52977f97-b073-47e6-8e03-d22385ed6c08"
      },
      "execution_count": null,
      "outputs": [
        {
          "output_type": "execute_result",
          "data": {
            "text/plain": [
              "0      AALI\n",
              "1      ABBA\n",
              "2      ABDA\n",
              "3      ABMM\n",
              "4      ACES\n",
              "       ... \n",
              "878    ZATA\n",
              "879    ZBRA\n",
              "880    ZINC\n",
              "881    ZONE\n",
              "882    ZYRX\n",
              "Name: _id, Length: 883, dtype: object"
            ]
          },
          "metadata": {},
          "execution_count": 303
        }
      ]
    },
    {
      "cell_type": "code",
      "source": [
        "df.index[400]"
      ],
      "metadata": {
        "colab": {
          "base_uri": "https://localhost:8080/",
          "height": 36
        },
        "id": "E_TIYOI9Xptm",
        "outputId": "8e0f3096-e6c0-48bf-e21d-b57d9cb247ee"
      },
      "execution_count": null,
      "outputs": [
        {
          "output_type": "execute_result",
          "data": {
            "text/plain": [
              "'IPOL'"
            ],
            "application/vnd.google.colaboratory.intrinsic+json": {
              "type": "string"
            }
          },
          "metadata": {},
          "execution_count": 304
        }
      ]
    },
    {
      "cell_type": "code",
      "source": [
        "def recomendations(id, cosine_sim = cosine_sim):\n",
        "  recomended_stock= []\n",
        "  idx = indices[indices == id].index[0]\n",
        "\n",
        "  score_series = pd.Series(cosine_sim[idx]).sort_values(ascending = False)\n",
        "\n",
        "  top_10_indexes = list(score_series.iloc[1:11].index)\n",
        "\n",
        "  print(top_10_indexes)\n",
        "\n",
        "  for i in top_10_indexes:\n",
        "    recomended_stock.append(list(df.index)[i])\n",
        "\n",
        "  return recomended_stock"
      ],
      "metadata": {
        "id": "y03k-6u5J1fN"
      },
      "execution_count": null,
      "outputs": []
    },
    {
      "cell_type": "code",
      "source": [],
      "metadata": {
        "id": "Rdznb2NVw8wA"
      },
      "execution_count": null,
      "outputs": []
    },
    {
      "cell_type": "markdown",
      "source": [
        "# Menjalankan rekomendasi"
      ],
      "metadata": {
        "id": "72v06GHG2xMC"
      }
    },
    {
      "cell_type": "code",
      "source": [
        "recomendations('IPOL')"
      ],
      "metadata": {
        "colab": {
          "base_uri": "https://localhost:8080/"
        },
        "id": "feWk3n-RKFsw",
        "outputId": "a181d970-54b5-436d-85e4-18f93ffdd8cd"
      },
      "execution_count": null,
      "outputs": [
        {
          "output_type": "stream",
          "name": "stdout",
          "text": [
            "[155, 739, 876, 42, 369, 762, 375, 755, 281, 737]\n"
          ]
        },
        {
          "output_type": "execute_result",
          "data": {
            "text/plain": [
              "['BRNA',\n",
              " 'SMKL',\n",
              " 'YPAS',\n",
              " 'APLI',\n",
              " 'IIKP',\n",
              " 'SRSN',\n",
              " 'IMPC',\n",
              " 'SPMA',\n",
              " 'ESIP',\n",
              " 'SMGR']"
            ]
          },
          "metadata": {},
          "execution_count": 330
        }
      ]
    },
    {
      "cell_type": "code",
      "source": [
        "df['bag_of_words'].loc['IPOL']"
      ],
      "metadata": {
        "id": "a5UDx-teKI86",
        "colab": {
          "base_uri": "https://localhost:8080/",
          "height": 36
        },
        "outputId": "c0fdf960-54a7-473b-94cd-78561cc585d3"
      },
      "execution_count": null,
      "outputs": [
        {
          "output_type": "execute_result",
          "data": {
            "text/plain": [
              "'barangbaku wadahkemasan company scope activities plastic sheets industry trading imports'"
            ],
            "application/vnd.google.colaboratory.intrinsic+json": {
              "type": "string"
            }
          },
          "metadata": {},
          "execution_count": 307
        }
      ]
    },
    {
      "cell_type": "code",
      "source": [
        "df['bag_of_words'].loc['BRNA']"
      ],
      "metadata": {
        "colab": {
          "base_uri": "https://localhost:8080/",
          "height": 36
        },
        "id": "U6KTMe9l1Nx2",
        "outputId": "b465abbe-0c05-46bc-b551-e2fe999cd441"
      },
      "execution_count": null,
      "outputs": [
        {
          "output_type": "execute_result",
          "data": {
            "text/plain": [
              "'barangbaku wadahkemasan scope company activities mainly engage plastic industry industries use fiberglass main materials'"
            ],
            "application/vnd.google.colaboratory.intrinsic+json": {
              "type": "string"
            }
          },
          "metadata": {},
          "execution_count": 308
        }
      ]
    },
    {
      "cell_type": "code",
      "source": [
        "df['bag_of_words'].loc['SMKL']"
      ],
      "metadata": {
        "colab": {
          "base_uri": "https://localhost:8080/",
          "height": 36
        },
        "id": "-q0SnZYj1T_x",
        "outputId": "0c6cbd8b-1fd9-4e09-f145-22113e0838b2"
      },
      "execution_count": null,
      "outputs": [
        {
          "output_type": "execute_result",
          "data": {
            "text/plain": [
              "'barangbaku wadahkemasan scope company activities currently covers field paper packaging industry'"
            ],
            "application/vnd.google.colaboratory.intrinsic+json": {
              "type": "string"
            }
          },
          "metadata": {},
          "execution_count": 309
        }
      ]
    },
    {
      "cell_type": "code",
      "source": [
        "df['bag_of_words'].loc['YPAS']"
      ],
      "metadata": {
        "colab": {
          "base_uri": "https://localhost:8080/",
          "height": 36
        },
        "id": "rfPk-L9B1bYK",
        "outputId": "2e771d40-63ad-4903-cb3a-955454debdcf"
      },
      "execution_count": null,
      "outputs": [
        {
          "output_type": "execute_result",
          "data": {
            "text/plain": [
              "'barangbaku wadahkemasan company scope activities mainly comprises manufacturing plastic bags relatedproducts'"
            ],
            "application/vnd.google.colaboratory.intrinsic+json": {
              "type": "string"
            }
          },
          "metadata": {},
          "execution_count": 310
        }
      ]
    },
    {
      "cell_type": "code",
      "source": [
        "df['bag_of_words'].loc['APLI']"
      ],
      "metadata": {
        "colab": {
          "base_uri": "https://localhost:8080/",
          "height": 36
        },
        "id": "-k9O5JYB1mH4",
        "outputId": "86e0b6f4-bd13-4ca8-dae0-711d3c84dca2"
      },
      "execution_count": null,
      "outputs": [
        {
          "output_type": "execute_result",
          "data": {
            "text/plain": [
              "'barangbaku barangkimia company scope activities comprises manufacturing trading industrial plastic sheets polyvinyl chloride pvc synthetic leather'"
            ],
            "application/vnd.google.colaboratory.intrinsic+json": {
              "type": "string"
            }
          },
          "metadata": {},
          "execution_count": 311
        }
      ]
    },
    {
      "cell_type": "code",
      "source": [
        "df['bag_of_words'].loc['IIKP']"
      ],
      "metadata": {
        "colab": {
          "base_uri": "https://localhost:8080/",
          "height": 36
        },
        "id": "Ig8NEOEo10pD",
        "outputId": "3bda0bf2-6c8e-458f-dec8-4e195b4acda8"
      },
      "execution_count": null,
      "outputs": [
        {
          "output_type": "execute_result",
          "data": {
            "text/plain": [
              "'siklikal peralatanolahragabaranghobi company scope activities fishing trading industry plantation'"
            ],
            "application/vnd.google.colaboratory.intrinsic+json": {
              "type": "string"
            }
          },
          "metadata": {},
          "execution_count": 312
        }
      ]
    },
    {
      "cell_type": "code",
      "source": [
        "df['bag_of_words'].loc['SRSN']"
      ],
      "metadata": {
        "colab": {
          "base_uri": "https://localhost:8080/",
          "height": 36
        },
        "id": "Xp7Eyw5k1-lY",
        "outputId": "26d76dd1-9ec7-44c2-de6b-bca8ed544595"
      },
      "execution_count": null,
      "outputs": [
        {
          "output_type": "execute_result",
          "data": {
            "text/plain": [
              "'barangbaku barangkimia company  scope activities comprise garment industry basic chemicals plastic packaging export import trading industries currently engage'"
            ],
            "application/vnd.google.colaboratory.intrinsic+json": {
              "type": "string"
            }
          },
          "metadata": {},
          "execution_count": 313
        }
      ]
    },
    {
      "cell_type": "code",
      "source": [
        "df['bag_of_words'].loc['IMPC']"
      ],
      "metadata": {
        "colab": {
          "base_uri": "https://localhost:8080/",
          "height": 36
        },
        "id": "RjNKBs1q2G1y",
        "outputId": "7483ab5b-b953-4bdf-b638-7835402b4ba2"
      },
      "execution_count": null,
      "outputs": [
        {
          "output_type": "execute_result",
          "data": {
            "text/plain": [
              "'perindustrian produkperlengkapanbangunan scope company activities engage industry trading financial institutions'"
            ],
            "application/vnd.google.colaboratory.intrinsic+json": {
              "type": "string"
            }
          },
          "metadata": {},
          "execution_count": 314
        }
      ]
    },
    {
      "cell_type": "code",
      "source": [
        "df['bag_of_words'].loc['SPMA']"
      ],
      "metadata": {
        "colab": {
          "base_uri": "https://localhost:8080/",
          "height": 36
        },
        "id": "oPGoIUyd2Zdy",
        "outputId": "7c0d4a16-db7c-4cd5-d34c-2d57b812ac5d"
      },
      "execution_count": null,
      "outputs": [
        {
          "output_type": "execute_result",
          "data": {
            "text/plain": [
              "'barangbaku wadahkemasan company scope activities comprise manufacture paper related products'"
            ],
            "application/vnd.google.colaboratory.intrinsic+json": {
              "type": "string"
            }
          },
          "metadata": {},
          "execution_count": 315
        }
      ]
    },
    {
      "cell_type": "code",
      "source": [
        "df['bag_of_words'].loc['ESIP']"
      ],
      "metadata": {
        "colab": {
          "base_uri": "https://localhost:8080/",
          "height": 54
        },
        "id": "7EIim1Yt26nw",
        "outputId": "fd4380bf-5ba5-4f46-e112-f69d9fbc204d"
      },
      "execution_count": null,
      "outputs": [
        {
          "output_type": "execute_result",
          "data": {
            "text/plain": [
              "'barangbaku wadahkemasan business activities company engaged manufacturing plastics packaging plastic goods industry large scale rubber trading trade products various kinds'"
            ],
            "application/vnd.google.colaboratory.intrinsic+json": {
              "type": "string"
            }
          },
          "metadata": {},
          "execution_count": 316
        }
      ]
    },
    {
      "cell_type": "code",
      "source": [
        "df['bag_of_words'].loc['SMGR']"
      ],
      "metadata": {
        "id": "BjegcDl83AYl",
        "colab": {
          "base_uri": "https://localhost:8080/",
          "height": 36
        },
        "outputId": "d4940e15-1ee0-4e88-86ca-d3be68122d9e"
      },
      "execution_count": null,
      "outputs": [
        {
          "output_type": "execute_result",
          "data": {
            "text/plain": [
              "'barangbaku materialkonstruksi scope activities company accordance articles association engage thecement industry'"
            ],
            "application/vnd.google.colaboratory.intrinsic+json": {
              "type": "string"
            }
          },
          "metadata": {},
          "execution_count": 317
        }
      ]
    },
    {
      "cell_type": "markdown",
      "source": [
        "# Sekarang mari coba pakai memakai protofolio user"
      ],
      "metadata": {
        "id": "aKlhBoy0Y4zL"
      }
    },
    {
      "cell_type": "code",
      "source": [
        "df_user"
      ],
      "metadata": {
        "id": "ZbDBOWD6Y7de"
      },
      "execution_count": null,
      "outputs": []
    },
    {
      "cell_type": "code",
      "source": [
        "#menjadikan id menjadi index\n",
        "df_user.set_index('id', inplace = True)\n",
        "df_user.head()"
      ],
      "metadata": {
        "id": "I-PUkNr9ZDcK"
      },
      "execution_count": null,
      "outputs": []
    },
    {
      "cell_type": "code",
      "source": [
        "#gunakan ini untuk tahu ide user ada apa saja\n",
        "print(df_user.to_string())"
      ],
      "metadata": {
        "id": "kLp5qPTYM5QW"
      },
      "execution_count": null,
      "outputs": []
    },
    {
      "cell_type": "markdown",
      "source": [
        "## Masukkan id user disini"
      ],
      "metadata": {
        "id": "2O4n9kzORpi3"
      }
    },
    {
      "cell_type": "code",
      "source": [
        "# Membuat fungsi untuk memanggil nama portofolio berdasarkan ID\n",
        "def get_portofolio_name(id):\n",
        "    try:\n",
        "        portofolio = df_user.loc[id, 'portofolio']\n",
        "        return portofolio if isinstance(portofolio, list) else portofolio\n",
        "    except KeyError:\n",
        "        return 'ID tidak ditemukan'\n",
        "\n",
        "# Menggunakan fungsi untuk memanggil nama portofolio\n",
        "id = input(\"Masukkan ID: \")\n",
        "nama_portofolio = get_portofolio_name(id)\n",
        "print(\"Nama portofolio:\", nama_portofolio)"
      ],
      "metadata": {
        "colab": {
          "base_uri": "https://localhost:8080/"
        },
        "id": "OQZ9bQ42f5Ra",
        "outputId": "9aca30d2-5461-49c3-b80f-80ff8e61d44b"
      },
      "execution_count": null,
      "outputs": [
        {
          "output_type": "stream",
          "name": "stdout",
          "text": [
            "Masukkan ID: RISMIBAN70\n",
            "Nama portofolio: ['DMAS', 'GMFI', 'CFIN']\n"
          ]
        }
      ]
    },
    {
      "cell_type": "code",
      "source": [],
      "metadata": {
        "id": "ZUUXcoWDRpIQ"
      },
      "execution_count": null,
      "outputs": []
    },
    {
      "cell_type": "code",
      "source": [
        "len(nama_portofolio)"
      ],
      "metadata": {
        "colab": {
          "base_uri": "https://localhost:8080/"
        },
        "id": "I6B3I454mmdN",
        "outputId": "e791816c-a05a-4b52-db11-fe314a9f5fcd"
      },
      "execution_count": null,
      "outputs": [
        {
          "output_type": "execute_result",
          "data": {
            "text/plain": [
              "3"
            ]
          },
          "metadata": {},
          "execution_count": 465
        }
      ]
    },
    {
      "cell_type": "code",
      "source": [
        "df_portofolio_user = df.loc[nama_portofolio]\n",
        "df_portofolio_user"
      ],
      "metadata": {
        "colab": {
          "base_uri": "https://localhost:8080/",
          "height": 174
        },
        "id": "0exWFUPrnmzc",
        "outputId": "3f485cfa-a77e-4d89-b173-43f9e1834786"
      },
      "execution_count": null,
      "outputs": [
        {
          "output_type": "execute_result",
          "data": {
            "text/plain": [
              "                                           bag_of_words\n",
              "_id                                                    \n",
              "DMAS  properti pengelolapengembangrealestat currentl...\n",
              "GMFI  infrastruktur operatorinfrastrukturtransportas...\n",
              "CFIN  keuangan pembiayaankonsumen company main activ..."
            ],
            "text/html": [
              "\n",
              "  <div id=\"df-3f2ed97b-6d37-4ddd-a919-070aa8d4faec\">\n",
              "    <div class=\"colab-df-container\">\n",
              "      <div>\n",
              "<style scoped>\n",
              "    .dataframe tbody tr th:only-of-type {\n",
              "        vertical-align: middle;\n",
              "    }\n",
              "\n",
              "    .dataframe tbody tr th {\n",
              "        vertical-align: top;\n",
              "    }\n",
              "\n",
              "    .dataframe thead th {\n",
              "        text-align: right;\n",
              "    }\n",
              "</style>\n",
              "<table border=\"1\" class=\"dataframe\">\n",
              "  <thead>\n",
              "    <tr style=\"text-align: right;\">\n",
              "      <th></th>\n",
              "      <th>bag_of_words</th>\n",
              "    </tr>\n",
              "    <tr>\n",
              "      <th>_id</th>\n",
              "      <th></th>\n",
              "    </tr>\n",
              "  </thead>\n",
              "  <tbody>\n",
              "    <tr>\n",
              "      <th>DMAS</th>\n",
              "      <td>properti pengelolapengembangrealestat currentl...</td>\n",
              "    </tr>\n",
              "    <tr>\n",
              "      <th>GMFI</th>\n",
              "      <td>infrastruktur operatorinfrastrukturtransportas...</td>\n",
              "    </tr>\n",
              "    <tr>\n",
              "      <th>CFIN</th>\n",
              "      <td>keuangan pembiayaankonsumen company main activ...</td>\n",
              "    </tr>\n",
              "  </tbody>\n",
              "</table>\n",
              "</div>\n",
              "      <button class=\"colab-df-convert\" onclick=\"convertToInteractive('df-3f2ed97b-6d37-4ddd-a919-070aa8d4faec')\"\n",
              "              title=\"Convert this dataframe to an interactive table.\"\n",
              "              style=\"display:none;\">\n",
              "        \n",
              "  <svg xmlns=\"http://www.w3.org/2000/svg\" height=\"24px\"viewBox=\"0 0 24 24\"\n",
              "       width=\"24px\">\n",
              "    <path d=\"M0 0h24v24H0V0z\" fill=\"none\"/>\n",
              "    <path d=\"M18.56 5.44l.94 2.06.94-2.06 2.06-.94-2.06-.94-.94-2.06-.94 2.06-2.06.94zm-11 1L8.5 8.5l.94-2.06 2.06-.94-2.06-.94L8.5 2.5l-.94 2.06-2.06.94zm10 10l.94 2.06.94-2.06 2.06-.94-2.06-.94-.94-2.06-.94 2.06-2.06.94z\"/><path d=\"M17.41 7.96l-1.37-1.37c-.4-.4-.92-.59-1.43-.59-.52 0-1.04.2-1.43.59L10.3 9.45l-7.72 7.72c-.78.78-.78 2.05 0 2.83L4 21.41c.39.39.9.59 1.41.59.51 0 1.02-.2 1.41-.59l7.78-7.78 2.81-2.81c.8-.78.8-2.07 0-2.86zM5.41 20L4 18.59l7.72-7.72 1.47 1.35L5.41 20z\"/>\n",
              "  </svg>\n",
              "      </button>\n",
              "      \n",
              "  <style>\n",
              "    .colab-df-container {\n",
              "      display:flex;\n",
              "      flex-wrap:wrap;\n",
              "      gap: 12px;\n",
              "    }\n",
              "\n",
              "    .colab-df-convert {\n",
              "      background-color: #E8F0FE;\n",
              "      border: none;\n",
              "      border-radius: 50%;\n",
              "      cursor: pointer;\n",
              "      display: none;\n",
              "      fill: #1967D2;\n",
              "      height: 32px;\n",
              "      padding: 0 0 0 0;\n",
              "      width: 32px;\n",
              "    }\n",
              "\n",
              "    .colab-df-convert:hover {\n",
              "      background-color: #E2EBFA;\n",
              "      box-shadow: 0px 1px 2px rgba(60, 64, 67, 0.3), 0px 1px 3px 1px rgba(60, 64, 67, 0.15);\n",
              "      fill: #174EA6;\n",
              "    }\n",
              "\n",
              "    [theme=dark] .colab-df-convert {\n",
              "      background-color: #3B4455;\n",
              "      fill: #D2E3FC;\n",
              "    }\n",
              "\n",
              "    [theme=dark] .colab-df-convert:hover {\n",
              "      background-color: #434B5C;\n",
              "      box-shadow: 0px 1px 3px 1px rgba(0, 0, 0, 0.15);\n",
              "      filter: drop-shadow(0px 1px 2px rgba(0, 0, 0, 0.3));\n",
              "      fill: #FFFFFF;\n",
              "    }\n",
              "  </style>\n",
              "\n",
              "      <script>\n",
              "        const buttonEl =\n",
              "          document.querySelector('#df-3f2ed97b-6d37-4ddd-a919-070aa8d4faec button.colab-df-convert');\n",
              "        buttonEl.style.display =\n",
              "          google.colab.kernel.accessAllowed ? 'block' : 'none';\n",
              "\n",
              "        async function convertToInteractive(key) {\n",
              "          const element = document.querySelector('#df-3f2ed97b-6d37-4ddd-a919-070aa8d4faec');\n",
              "          const dataTable =\n",
              "            await google.colab.kernel.invokeFunction('convertToInteractive',\n",
              "                                                     [key], {});\n",
              "          if (!dataTable) return;\n",
              "\n",
              "          const docLinkHtml = 'Like what you see? Visit the ' +\n",
              "            '<a target=\"_blank\" href=https://colab.research.google.com/notebooks/data_table.ipynb>data table notebook</a>'\n",
              "            + ' to learn more about interactive tables.';\n",
              "          element.innerHTML = '';\n",
              "          dataTable['output_type'] = 'display_data';\n",
              "          await google.colab.output.renderOutput(dataTable, element);\n",
              "          const docLink = document.createElement('div');\n",
              "          docLink.innerHTML = docLinkHtml;\n",
              "          element.appendChild(docLink);\n",
              "        }\n",
              "      </script>\n",
              "    </div>\n",
              "  </div>\n",
              "  "
            ]
          },
          "metadata": {},
          "execution_count": 466
        }
      ]
    },
    {
      "cell_type": "code",
      "source": [
        "bag_of_words_dari_portofolio_usser = ' '.join(df_portofolio_user['bag_of_words'].tolist())"
      ],
      "metadata": {
        "id": "PSk3hERnveJ1"
      },
      "execution_count": null,
      "outputs": []
    },
    {
      "cell_type": "code",
      "source": [
        "bag_of_words_dari_portofolio_usser"
      ],
      "metadata": {
        "colab": {
          "base_uri": "https://localhost:8080/",
          "height": 90
        },
        "id": "CTwTxJ-Av-_d",
        "outputId": "666fe343-abdd-4061-da0b-f8bc2e1eaf80"
      },
      "execution_count": null,
      "outputs": [
        {
          "output_type": "execute_result",
          "data": {
            "text/plain": [
              "'properti pengelolapengembangrealestat currently company engages development industrial area supported thedevelopment houses commercial infrastruktur operatorinfrastrukturtransportasi scope company activities field aircraft maintenance services components calibration engine industrial manufacturing supporting facilities engineering material logistics warehousing consignment well consulting training provision experts component keuangan pembiayaankonsumen company main activities cover investment financing working capital multifunction'"
            ],
            "application/vnd.google.colaboratory.intrinsic+json": {
              "type": "string"
            }
          },
          "metadata": {},
          "execution_count": 468
        }
      ]
    },
    {
      "cell_type": "code",
      "source": [
        "from nltk.tokenize import word_tokenize\n",
        "tokens = word_tokenize(bag_of_words_dari_portofolio_usser)"
      ],
      "metadata": {
        "id": "6byVshx40JyO"
      },
      "execution_count": null,
      "outputs": []
    },
    {
      "cell_type": "code",
      "source": [
        "# Menghitung frekuensi kemunculan kata-kata dari bag_of_words_dari_portofolio_usse karena sepertinya kebanyakan bacot diatas itu\n",
        "from collections import Counter\n",
        "\n",
        "word_freq = Counter(tokens)"
      ],
      "metadata": {
        "id": "qr7wrSs-wB4D"
      },
      "execution_count": null,
      "outputs": []
    },
    {
      "cell_type": "code",
      "source": [
        "# Mengambil kata-kata inti (kata-kata dengan frekuensi tertinggi)\n",
        "key_words_portofolio_user = [word for word, freq in word_freq.most_common(20)]\n",
        "key_words_portofolio_user"
      ],
      "metadata": {
        "colab": {
          "base_uri": "https://localhost:8080/"
        },
        "id": "g8OBZoPEyFNN",
        "outputId": "83861a19-4e11-4019-b089-ce61a64ac0dd"
      },
      "execution_count": null,
      "outputs": [
        {
          "output_type": "execute_result",
          "data": {
            "text/plain": [
              "['company',\n",
              " 'industrial',\n",
              " 'activities',\n",
              " 'properti',\n",
              " 'pengelolapengembangrealestat',\n",
              " 'currently',\n",
              " 'engages',\n",
              " 'development',\n",
              " 'area',\n",
              " 'supported',\n",
              " 'thedevelopment',\n",
              " 'houses',\n",
              " 'commercial',\n",
              " 'infrastruktur',\n",
              " 'operatorinfrastrukturtransportasi',\n",
              " 'scope',\n",
              " 'field',\n",
              " 'aircraft',\n",
              " 'maintenance',\n",
              " 'services']"
            ]
          },
          "metadata": {},
          "execution_count": 471
        }
      ]
    },
    {
      "cell_type": "code",
      "source": [
        "key_words_portofolio_user_result = ' '.join(key_words_portofolio_user)"
      ],
      "metadata": {
        "id": "15ULFVCV8OjR"
      },
      "execution_count": null,
      "outputs": []
    },
    {
      "cell_type": "code",
      "source": [
        "type(key_words_portofolio_user_result)"
      ],
      "metadata": {
        "colab": {
          "base_uri": "https://localhost:8080/"
        },
        "id": "FrNCTPfF8HPW",
        "outputId": "f8b4ec5e-af69-438c-bfde-9090225eacaf"
      },
      "execution_count": null,
      "outputs": [
        {
          "output_type": "execute_result",
          "data": {
            "text/plain": [
              "str"
            ]
          },
          "metadata": {},
          "execution_count": 473
        }
      ]
    },
    {
      "cell_type": "code",
      "source": [
        "key_words_portofolio_user_result"
      ],
      "metadata": {
        "colab": {
          "base_uri": "https://localhost:8080/",
          "height": 54
        },
        "id": "WrLN1HMo8cMj",
        "outputId": "1f6969ab-5cf8-43e9-b14f-79434f2bcfbe"
      },
      "execution_count": null,
      "outputs": [
        {
          "output_type": "execute_result",
          "data": {
            "text/plain": [
              "'company industrial activities properti pengelolapengembangrealestat currently engages development area supported thedevelopment houses commercial infrastruktur operatorinfrastrukturtransportasi scope field aircraft maintenance services'"
            ],
            "application/vnd.google.colaboratory.intrinsic+json": {
              "type": "string"
            }
          },
          "metadata": {},
          "execution_count": 474
        }
      ]
    },
    {
      "cell_type": "code",
      "source": [
        "df.tail()"
      ],
      "metadata": {
        "colab": {
          "base_uri": "https://localhost:8080/",
          "height": 237
        },
        "id": "oHtUlPPy2cdT",
        "outputId": "a76daf56-0441-4d84-9a47-df4a1c8c09f5"
      },
      "execution_count": null,
      "outputs": [
        {
          "output_type": "execute_result",
          "data": {
            "text/plain": [
              "                                                      bag_of_words\n",
              "_id                                                               \n",
              "ZBRA             infrastruktur utilitasgas scope activities com...\n",
              "ZINC             barangbaku logammineral pt kapuas prima coal t...\n",
              "ZONE             siklikal ritelkhusus company operates business...\n",
              "ZYRX             teknologi perangkatkomputer company  scope act...\n",
              "portofolio_user  keuangan jasainvestasi equity capital markets1..."
            ],
            "text/html": [
              "\n",
              "  <div id=\"df-81bd8641-6cd2-497d-be86-9939473a5bb0\">\n",
              "    <div class=\"colab-df-container\">\n",
              "      <div>\n",
              "<style scoped>\n",
              "    .dataframe tbody tr th:only-of-type {\n",
              "        vertical-align: middle;\n",
              "    }\n",
              "\n",
              "    .dataframe tbody tr th {\n",
              "        vertical-align: top;\n",
              "    }\n",
              "\n",
              "    .dataframe thead th {\n",
              "        text-align: right;\n",
              "    }\n",
              "</style>\n",
              "<table border=\"1\" class=\"dataframe\">\n",
              "  <thead>\n",
              "    <tr style=\"text-align: right;\">\n",
              "      <th></th>\n",
              "      <th>bag_of_words</th>\n",
              "    </tr>\n",
              "    <tr>\n",
              "      <th>_id</th>\n",
              "      <th></th>\n",
              "    </tr>\n",
              "  </thead>\n",
              "  <tbody>\n",
              "    <tr>\n",
              "      <th>ZBRA</th>\n",
              "      <td>infrastruktur utilitasgas scope activities com...</td>\n",
              "    </tr>\n",
              "    <tr>\n",
              "      <th>ZINC</th>\n",
              "      <td>barangbaku logammineral pt kapuas prima coal t...</td>\n",
              "    </tr>\n",
              "    <tr>\n",
              "      <th>ZONE</th>\n",
              "      <td>siklikal ritelkhusus company operates business...</td>\n",
              "    </tr>\n",
              "    <tr>\n",
              "      <th>ZYRX</th>\n",
              "      <td>teknologi perangkatkomputer company  scope act...</td>\n",
              "    </tr>\n",
              "    <tr>\n",
              "      <th>portofolio_user</th>\n",
              "      <td>keuangan jasainvestasi equity capital markets1...</td>\n",
              "    </tr>\n",
              "  </tbody>\n",
              "</table>\n",
              "</div>\n",
              "      <button class=\"colab-df-convert\" onclick=\"convertToInteractive('df-81bd8641-6cd2-497d-be86-9939473a5bb0')\"\n",
              "              title=\"Convert this dataframe to an interactive table.\"\n",
              "              style=\"display:none;\">\n",
              "        \n",
              "  <svg xmlns=\"http://www.w3.org/2000/svg\" height=\"24px\"viewBox=\"0 0 24 24\"\n",
              "       width=\"24px\">\n",
              "    <path d=\"M0 0h24v24H0V0z\" fill=\"none\"/>\n",
              "    <path d=\"M18.56 5.44l.94 2.06.94-2.06 2.06-.94-2.06-.94-.94-2.06-.94 2.06-2.06.94zm-11 1L8.5 8.5l.94-2.06 2.06-.94-2.06-.94L8.5 2.5l-.94 2.06-2.06.94zm10 10l.94 2.06.94-2.06 2.06-.94-2.06-.94-.94-2.06-.94 2.06-2.06.94z\"/><path d=\"M17.41 7.96l-1.37-1.37c-.4-.4-.92-.59-1.43-.59-.52 0-1.04.2-1.43.59L10.3 9.45l-7.72 7.72c-.78.78-.78 2.05 0 2.83L4 21.41c.39.39.9.59 1.41.59.51 0 1.02-.2 1.41-.59l7.78-7.78 2.81-2.81c.8-.78.8-2.07 0-2.86zM5.41 20L4 18.59l7.72-7.72 1.47 1.35L5.41 20z\"/>\n",
              "  </svg>\n",
              "      </button>\n",
              "      \n",
              "  <style>\n",
              "    .colab-df-container {\n",
              "      display:flex;\n",
              "      flex-wrap:wrap;\n",
              "      gap: 12px;\n",
              "    }\n",
              "\n",
              "    .colab-df-convert {\n",
              "      background-color: #E8F0FE;\n",
              "      border: none;\n",
              "      border-radius: 50%;\n",
              "      cursor: pointer;\n",
              "      display: none;\n",
              "      fill: #1967D2;\n",
              "      height: 32px;\n",
              "      padding: 0 0 0 0;\n",
              "      width: 32px;\n",
              "    }\n",
              "\n",
              "    .colab-df-convert:hover {\n",
              "      background-color: #E2EBFA;\n",
              "      box-shadow: 0px 1px 2px rgba(60, 64, 67, 0.3), 0px 1px 3px 1px rgba(60, 64, 67, 0.15);\n",
              "      fill: #174EA6;\n",
              "    }\n",
              "\n",
              "    [theme=dark] .colab-df-convert {\n",
              "      background-color: #3B4455;\n",
              "      fill: #D2E3FC;\n",
              "    }\n",
              "\n",
              "    [theme=dark] .colab-df-convert:hover {\n",
              "      background-color: #434B5C;\n",
              "      box-shadow: 0px 1px 3px 1px rgba(0, 0, 0, 0.15);\n",
              "      filter: drop-shadow(0px 1px 2px rgba(0, 0, 0, 0.3));\n",
              "      fill: #FFFFFF;\n",
              "    }\n",
              "  </style>\n",
              "\n",
              "      <script>\n",
              "        const buttonEl =\n",
              "          document.querySelector('#df-81bd8641-6cd2-497d-be86-9939473a5bb0 button.colab-df-convert');\n",
              "        buttonEl.style.display =\n",
              "          google.colab.kernel.accessAllowed ? 'block' : 'none';\n",
              "\n",
              "        async function convertToInteractive(key) {\n",
              "          const element = document.querySelector('#df-81bd8641-6cd2-497d-be86-9939473a5bb0');\n",
              "          const dataTable =\n",
              "            await google.colab.kernel.invokeFunction('convertToInteractive',\n",
              "                                                     [key], {});\n",
              "          if (!dataTable) return;\n",
              "\n",
              "          const docLinkHtml = 'Like what you see? Visit the ' +\n",
              "            '<a target=\"_blank\" href=https://colab.research.google.com/notebooks/data_table.ipynb>data table notebook</a>'\n",
              "            + ' to learn more about interactive tables.';\n",
              "          element.innerHTML = '';\n",
              "          dataTable['output_type'] = 'display_data';\n",
              "          await google.colab.output.renderOutput(dataTable, element);\n",
              "          const docLink = document.createElement('div');\n",
              "          docLink.innerHTML = docLinkHtml;\n",
              "          element.appendChild(docLink);\n",
              "        }\n",
              "      </script>\n",
              "    </div>\n",
              "  </div>\n",
              "  "
            ]
          },
          "metadata": {},
          "execution_count": 475
        }
      ]
    },
    {
      "cell_type": "code",
      "source": [
        "#jadi portofolio user akan dijadikan satu dan diumpamakan sebagai saham yang tersendiri\n",
        "new_row = {'bag_of_words': key_words_portofolio_user_result}\n",
        "df.loc['portofolio_user'] = new_row"
      ],
      "metadata": {
        "id": "jkXCuGp77lxP"
      },
      "execution_count": null,
      "outputs": []
    },
    {
      "cell_type": "code",
      "source": [
        "df.tail()\n",
        "#misalkan ada saham namanya portofolio_user"
      ],
      "metadata": {
        "colab": {
          "base_uri": "https://localhost:8080/",
          "height": 237
        },
        "id": "d5u657ezMrNg",
        "outputId": "3d1c2aab-e967-42c4-ed22-1fe9c3fc07ea"
      },
      "execution_count": null,
      "outputs": [
        {
          "output_type": "execute_result",
          "data": {
            "text/plain": [
              "                                                      bag_of_words\n",
              "_id                                                               \n",
              "ZBRA             infrastruktur utilitasgas scope activities com...\n",
              "ZINC             barangbaku logammineral pt kapuas prima coal t...\n",
              "ZONE             siklikal ritelkhusus company operates business...\n",
              "ZYRX             teknologi perangkatkomputer company  scope act...\n",
              "portofolio_user  company industrial activities properti pengelo..."
            ],
            "text/html": [
              "\n",
              "  <div id=\"df-f8b2adbc-4a73-474b-b912-72e94266715d\">\n",
              "    <div class=\"colab-df-container\">\n",
              "      <div>\n",
              "<style scoped>\n",
              "    .dataframe tbody tr th:only-of-type {\n",
              "        vertical-align: middle;\n",
              "    }\n",
              "\n",
              "    .dataframe tbody tr th {\n",
              "        vertical-align: top;\n",
              "    }\n",
              "\n",
              "    .dataframe thead th {\n",
              "        text-align: right;\n",
              "    }\n",
              "</style>\n",
              "<table border=\"1\" class=\"dataframe\">\n",
              "  <thead>\n",
              "    <tr style=\"text-align: right;\">\n",
              "      <th></th>\n",
              "      <th>bag_of_words</th>\n",
              "    </tr>\n",
              "    <tr>\n",
              "      <th>_id</th>\n",
              "      <th></th>\n",
              "    </tr>\n",
              "  </thead>\n",
              "  <tbody>\n",
              "    <tr>\n",
              "      <th>ZBRA</th>\n",
              "      <td>infrastruktur utilitasgas scope activities com...</td>\n",
              "    </tr>\n",
              "    <tr>\n",
              "      <th>ZINC</th>\n",
              "      <td>barangbaku logammineral pt kapuas prima coal t...</td>\n",
              "    </tr>\n",
              "    <tr>\n",
              "      <th>ZONE</th>\n",
              "      <td>siklikal ritelkhusus company operates business...</td>\n",
              "    </tr>\n",
              "    <tr>\n",
              "      <th>ZYRX</th>\n",
              "      <td>teknologi perangkatkomputer company  scope act...</td>\n",
              "    </tr>\n",
              "    <tr>\n",
              "      <th>portofolio_user</th>\n",
              "      <td>company industrial activities properti pengelo...</td>\n",
              "    </tr>\n",
              "  </tbody>\n",
              "</table>\n",
              "</div>\n",
              "      <button class=\"colab-df-convert\" onclick=\"convertToInteractive('df-f8b2adbc-4a73-474b-b912-72e94266715d')\"\n",
              "              title=\"Convert this dataframe to an interactive table.\"\n",
              "              style=\"display:none;\">\n",
              "        \n",
              "  <svg xmlns=\"http://www.w3.org/2000/svg\" height=\"24px\"viewBox=\"0 0 24 24\"\n",
              "       width=\"24px\">\n",
              "    <path d=\"M0 0h24v24H0V0z\" fill=\"none\"/>\n",
              "    <path d=\"M18.56 5.44l.94 2.06.94-2.06 2.06-.94-2.06-.94-.94-2.06-.94 2.06-2.06.94zm-11 1L8.5 8.5l.94-2.06 2.06-.94-2.06-.94L8.5 2.5l-.94 2.06-2.06.94zm10 10l.94 2.06.94-2.06 2.06-.94-2.06-.94-.94-2.06-.94 2.06-2.06.94z\"/><path d=\"M17.41 7.96l-1.37-1.37c-.4-.4-.92-.59-1.43-.59-.52 0-1.04.2-1.43.59L10.3 9.45l-7.72 7.72c-.78.78-.78 2.05 0 2.83L4 21.41c.39.39.9.59 1.41.59.51 0 1.02-.2 1.41-.59l7.78-7.78 2.81-2.81c.8-.78.8-2.07 0-2.86zM5.41 20L4 18.59l7.72-7.72 1.47 1.35L5.41 20z\"/>\n",
              "  </svg>\n",
              "      </button>\n",
              "      \n",
              "  <style>\n",
              "    .colab-df-container {\n",
              "      display:flex;\n",
              "      flex-wrap:wrap;\n",
              "      gap: 12px;\n",
              "    }\n",
              "\n",
              "    .colab-df-convert {\n",
              "      background-color: #E8F0FE;\n",
              "      border: none;\n",
              "      border-radius: 50%;\n",
              "      cursor: pointer;\n",
              "      display: none;\n",
              "      fill: #1967D2;\n",
              "      height: 32px;\n",
              "      padding: 0 0 0 0;\n",
              "      width: 32px;\n",
              "    }\n",
              "\n",
              "    .colab-df-convert:hover {\n",
              "      background-color: #E2EBFA;\n",
              "      box-shadow: 0px 1px 2px rgba(60, 64, 67, 0.3), 0px 1px 3px 1px rgba(60, 64, 67, 0.15);\n",
              "      fill: #174EA6;\n",
              "    }\n",
              "\n",
              "    [theme=dark] .colab-df-convert {\n",
              "      background-color: #3B4455;\n",
              "      fill: #D2E3FC;\n",
              "    }\n",
              "\n",
              "    [theme=dark] .colab-df-convert:hover {\n",
              "      background-color: #434B5C;\n",
              "      box-shadow: 0px 1px 3px 1px rgba(0, 0, 0, 0.15);\n",
              "      filter: drop-shadow(0px 1px 2px rgba(0, 0, 0, 0.3));\n",
              "      fill: #FFFFFF;\n",
              "    }\n",
              "  </style>\n",
              "\n",
              "      <script>\n",
              "        const buttonEl =\n",
              "          document.querySelector('#df-f8b2adbc-4a73-474b-b912-72e94266715d button.colab-df-convert');\n",
              "        buttonEl.style.display =\n",
              "          google.colab.kernel.accessAllowed ? 'block' : 'none';\n",
              "\n",
              "        async function convertToInteractive(key) {\n",
              "          const element = document.querySelector('#df-f8b2adbc-4a73-474b-b912-72e94266715d');\n",
              "          const dataTable =\n",
              "            await google.colab.kernel.invokeFunction('convertToInteractive',\n",
              "                                                     [key], {});\n",
              "          if (!dataTable) return;\n",
              "\n",
              "          const docLinkHtml = 'Like what you see? Visit the ' +\n",
              "            '<a target=\"_blank\" href=https://colab.research.google.com/notebooks/data_table.ipynb>data table notebook</a>'\n",
              "            + ' to learn more about interactive tables.';\n",
              "          element.innerHTML = '';\n",
              "          dataTable['output_type'] = 'display_data';\n",
              "          await google.colab.output.renderOutput(dataTable, element);\n",
              "          const docLink = document.createElement('div');\n",
              "          docLink.innerHTML = docLinkHtml;\n",
              "          element.appendChild(docLink);\n",
              "        }\n",
              "      </script>\n",
              "    </div>\n",
              "  </div>\n",
              "  "
            ]
          },
          "metadata": {},
          "execution_count": 477
        }
      ]
    },
    {
      "cell_type": "markdown",
      "source": [
        "## Membuat cosine similarity untuk cara ini"
      ],
      "metadata": {
        "id": "Z9_v1Hwc8nqz"
      }
    },
    {
      "cell_type": "code",
      "source": [
        "count_matrix_2 = count.fit_transform(df['bag_of_words'])"
      ],
      "metadata": {
        "id": "8qM--97k8qXe"
      },
      "execution_count": null,
      "outputs": []
    },
    {
      "cell_type": "code",
      "source": [
        "cosine_sim_2 = cosine_similarity(count_matrix_2, count_matrix_2)\n",
        "cosine_sim_2"
      ],
      "metadata": {
        "colab": {
          "base_uri": "https://localhost:8080/"
        },
        "id": "5j4vwHjw8td5",
        "outputId": "413a6f44-acf9-4c56-c156-5789c96c5f9d"
      },
      "execution_count": null,
      "outputs": [
        {
          "output_type": "execute_result",
          "data": {
            "text/plain": [
              "array([[1.        , 0.        , 0.13453456, ..., 0.06726728, 0.2300895 ,\n",
              "        0.21693046],\n",
              "       [0.        , 1.        , 0.        , ..., 0.09805807, 0.        ,\n",
              "        0.        ],\n",
              "       [0.13453456, 0.        , 1.        , ..., 0.11538462, 0.0877058 ,\n",
              "        0.06201737],\n",
              "       ...,\n",
              "       [0.06726728, 0.09805807, 0.11538462, ..., 1.        , 0.0877058 ,\n",
              "        0.06201737],\n",
              "       [0.2300895 , 0.        , 0.0877058 , ..., 0.0877058 , 1.        ,\n",
              "        0.21213203],\n",
              "       [0.21693046, 0.        , 0.06201737, ..., 0.06201737, 0.21213203,\n",
              "        1.        ]])"
            ]
          },
          "metadata": {},
          "execution_count": 479
        }
      ]
    },
    {
      "cell_type": "code",
      "source": [
        "indices = pd.Series(df.index)\n",
        "indices"
      ],
      "metadata": {
        "colab": {
          "base_uri": "https://localhost:8080/"
        },
        "id": "YKQSdl0B839p",
        "outputId": "3857d3bb-ad01-4775-c3a7-f923151ccd4a"
      },
      "execution_count": null,
      "outputs": [
        {
          "output_type": "execute_result",
          "data": {
            "text/plain": [
              "0                 AALI\n",
              "1                 ABBA\n",
              "2                 ABDA\n",
              "3                 ABMM\n",
              "4                 ACES\n",
              "            ...       \n",
              "879               ZBRA\n",
              "880               ZINC\n",
              "881               ZONE\n",
              "882               ZYRX\n",
              "883    portofolio_user\n",
              "Name: _id, Length: 884, dtype: object"
            ]
          },
          "metadata": {},
          "execution_count": 480
        }
      ]
    },
    {
      "cell_type": "code",
      "source": [],
      "metadata": {
        "id": "Or1dA2N3R0bq"
      },
      "execution_count": null,
      "outputs": []
    },
    {
      "cell_type": "markdown",
      "source": [
        "## Ini adalah hasil rekomendasinya"
      ],
      "metadata": {
        "id": "tq_z7AQTR022"
      }
    },
    {
      "cell_type": "code",
      "source": [
        "recomended_stock= []\n",
        "idx = indices[indices == 'portofolio_user'].index[0]\n",
        "score_series = pd.Series(cosine_sim_2[idx]).sort_values(ascending = False)\n",
        "\n",
        "top_10_indexes = list(score_series.iloc[1:11].index)\n",
        "\n",
        "print(top_10_indexes)\n",
        "\n",
        "for i in top_10_indexes:\n",
        "   recomended_stock.append(list(df.index)[i])\n",
        "\n",
        "print(recomended_stock)"
      ],
      "metadata": {
        "colab": {
          "base_uri": "https://localhost:8080/"
        },
        "id": "_uuETAvv-7jR",
        "outputId": "49df5282-e973-41de-a7fe-4e4e6bd9f75e"
      },
      "execution_count": null,
      "outputs": [
        {
          "output_type": "stream",
          "name": "stdout",
          "text": [
            "[245, 382, 459, 320, 640, 307, 115, 270, 482, 67]\n",
            "['DMAS', 'INDO', 'KOTA', 'GMFI', 'POLL', 'GAMA', 'BIKA', 'ELTY', 'LPCK', 'ATAP']\n"
          ]
        }
      ]
    },
    {
      "cell_type": "markdown",
      "source": [
        "## mari kita cek hasil rekomendasinya"
      ],
      "metadata": {
        "id": "GGgYN8qaSAO8"
      }
    },
    {
      "cell_type": "code",
      "source": [
        "df.loc['DMAS']['bag_of_words']"
      ],
      "metadata": {
        "colab": {
          "base_uri": "https://localhost:8080/",
          "height": 36
        },
        "id": "vLKpARa29UIm",
        "outputId": "e5ca1d02-7098-4835-abe2-897ed85ea1a2"
      },
      "execution_count": null,
      "outputs": [
        {
          "output_type": "execute_result",
          "data": {
            "text/plain": [
              "'properti pengelolapengembangrealestat currently company engages development industrial area supported thedevelopment houses commercial'"
            ],
            "application/vnd.google.colaboratory.intrinsic+json": {
              "type": "string"
            }
          },
          "metadata": {},
          "execution_count": 482
        }
      ]
    },
    {
      "cell_type": "code",
      "source": [
        "df.loc['INDO']['bag_of_words']"
      ],
      "metadata": {
        "colab": {
          "base_uri": "https://localhost:8080/",
          "height": 36
        },
        "id": "ePheD7JZLjGa",
        "outputId": "28841bb5-d30f-4205-c025-1dfc7f32b243"
      },
      "execution_count": null,
      "outputs": [
        {
          "output_type": "execute_result",
          "data": {
            "text/plain": [
              "'properti pengelolapengembangrealestat scope company activities field real estate'"
            ],
            "application/vnd.google.colaboratory.intrinsic+json": {
              "type": "string"
            }
          },
          "metadata": {},
          "execution_count": 483
        }
      ]
    },
    {
      "cell_type": "code",
      "source": [
        "df.loc['KOTA']['bag_of_words']"
      ],
      "metadata": {
        "colab": {
          "base_uri": "https://localhost:8080/",
          "height": 36
        },
        "id": "CoMXUnkPROSK",
        "outputId": "a49605a1-cb40-41b9-805a-fa05fbc1d385"
      },
      "execution_count": null,
      "outputs": [
        {
          "output_type": "execute_result",
          "data": {
            "text/plain": [
              "'properti pengelolapengembangrealestat company  scope activities among others engage development real estate services trading'"
            ],
            "application/vnd.google.colaboratory.intrinsic+json": {
              "type": "string"
            }
          },
          "metadata": {},
          "execution_count": 484
        }
      ]
    },
    {
      "cell_type": "code",
      "source": [
        "df.loc['GMFI']['bag_of_words']"
      ],
      "metadata": {
        "colab": {
          "base_uri": "https://localhost:8080/",
          "height": 54
        },
        "id": "Kvc-j0rGRSmG",
        "outputId": "fc8173b8-1625-4f13-e4ea-51dd23e66735"
      },
      "execution_count": null,
      "outputs": [
        {
          "output_type": "execute_result",
          "data": {
            "text/plain": [
              "'infrastruktur operatorinfrastrukturtransportasi scope company activities field aircraft maintenance services components calibration engine industrial manufacturing supporting facilities engineering material logistics warehousing consignment well consulting training provision experts component'"
            ],
            "application/vnd.google.colaboratory.intrinsic+json": {
              "type": "string"
            }
          },
          "metadata": {},
          "execution_count": 485
        }
      ]
    },
    {
      "cell_type": "code",
      "source": [
        "df.loc['POLL']['bag_of_words']"
      ],
      "metadata": {
        "colab": {
          "base_uri": "https://localhost:8080/",
          "height": 54
        },
        "id": "txWVYDkZRZQQ",
        "outputId": "d6195203-c589-4258-c70d-c9063d53c11e"
      },
      "execution_count": null,
      "outputs": [
        {
          "output_type": "execute_result",
          "data": {
            "text/plain": [
              "'properti pengelolapengembangrealestat scope company activities move field implement plan oversee general development work construction installation residential areas business service sector running property management rental agent consultant operation maintenance real estate area operations industrial hotel services'"
            ],
            "application/vnd.google.colaboratory.intrinsic+json": {
              "type": "string"
            }
          },
          "metadata": {},
          "execution_count": 487
        }
      ]
    },
    {
      "cell_type": "code",
      "source": [],
      "metadata": {
        "id": "y6KtD3FQRewt"
      },
      "execution_count": null,
      "outputs": []
    },
    {
      "cell_type": "markdown",
      "source": [
        "# MLFLow"
      ],
      "metadata": {
        "id": "R5SkHQqVmP2F"
      }
    },
    {
      "cell_type": "code",
      "source": [
        "pip install mlflow"
      ],
      "metadata": {
        "id": "Oxu3J3lymRjF",
        "outputId": "7fd75c95-b4f5-4fbd-e8d4-382e0a03c7c8",
        "colab": {
          "base_uri": "https://localhost:8080/"
        }
      },
      "execution_count": null,
      "outputs": [
        {
          "output_type": "stream",
          "name": "stdout",
          "text": [
            "Looking in indexes: https://pypi.org/simple, https://us-python.pkg.dev/colab-wheels/public/simple/\n",
            "Collecting mlflow\n",
            "  Downloading mlflow-2.4.1-py3-none-any.whl (18.1 MB)\n",
            "\u001b[2K     \u001b[90m━━━━━━━━━━━━━━━━━━━━━━━━━━━━━━━━━━━━━━━━\u001b[0m \u001b[32m18.1/18.1 MB\u001b[0m \u001b[31m32.8 MB/s\u001b[0m eta \u001b[36m0:00:00\u001b[0m\n",
            "\u001b[?25hRequirement already satisfied: click<9,>=7.0 in /usr/local/lib/python3.10/dist-packages (from mlflow) (8.1.3)\n",
            "Requirement already satisfied: cloudpickle<3 in /usr/local/lib/python3.10/dist-packages (from mlflow) (2.2.1)\n",
            "Collecting databricks-cli<1,>=0.8.7 (from mlflow)\n",
            "  Downloading databricks-cli-0.17.7.tar.gz (83 kB)\n",
            "\u001b[2K     \u001b[90m━━━━━━━━━━━━━━━━━━━━━━━━━━━━━━━━━━━━━━━━\u001b[0m \u001b[32m83.5/83.5 kB\u001b[0m \u001b[31m10.7 MB/s\u001b[0m eta \u001b[36m0:00:00\u001b[0m\n",
            "\u001b[?25h  Preparing metadata (setup.py) ... \u001b[?25l\u001b[?25hdone\n",
            "Requirement already satisfied: entrypoints<1 in /usr/local/lib/python3.10/dist-packages (from mlflow) (0.4)\n",
            "Collecting gitpython<4,>=2.1.0 (from mlflow)\n",
            "  Downloading GitPython-3.1.31-py3-none-any.whl (184 kB)\n",
            "\u001b[2K     \u001b[90m━━━━━━━━━━━━━━━━━━━━━━━━━━━━━━━━━━━━━━\u001b[0m \u001b[32m184.3/184.3 kB\u001b[0m \u001b[31m16.0 MB/s\u001b[0m eta \u001b[36m0:00:00\u001b[0m\n",
            "\u001b[?25hRequirement already satisfied: pyyaml<7,>=5.1 in /usr/local/lib/python3.10/dist-packages (from mlflow) (6.0)\n",
            "Requirement already satisfied: protobuf<5,>=3.12.0 in /usr/local/lib/python3.10/dist-packages (from mlflow) (3.20.3)\n",
            "Requirement already satisfied: pytz<2024 in /usr/local/lib/python3.10/dist-packages (from mlflow) (2022.7.1)\n",
            "Requirement already satisfied: requests<3,>=2.17.3 in /usr/local/lib/python3.10/dist-packages (from mlflow) (2.27.1)\n",
            "Requirement already satisfied: packaging<24 in /usr/local/lib/python3.10/dist-packages (from mlflow) (23.1)\n",
            "Collecting importlib-metadata!=4.7.0,<7,>=3.7.0 (from mlflow)\n",
            "  Downloading importlib_metadata-6.6.0-py3-none-any.whl (22 kB)\n",
            "Requirement already satisfied: sqlparse<1,>=0.4.0 in /usr/local/lib/python3.10/dist-packages (from mlflow) (0.4.4)\n",
            "Collecting alembic!=1.10.0,<2 (from mlflow)\n",
            "  Downloading alembic-1.11.1-py3-none-any.whl (224 kB)\n",
            "\u001b[2K     \u001b[90m━━━━━━━━━━━━━━━━━━━━━━━━━━━━━━━━━━━━━━\u001b[0m \u001b[32m224.5/224.5 kB\u001b[0m \u001b[31m17.1 MB/s\u001b[0m eta \u001b[36m0:00:00\u001b[0m\n",
            "\u001b[?25hCollecting docker<7,>=4.0.0 (from mlflow)\n",
            "  Downloading docker-6.1.3-py3-none-any.whl (148 kB)\n",
            "\u001b[2K     \u001b[90m━━━━━━━━━━━━━━━━━━━━━━━━━━━━━━━━━━━━━━\u001b[0m \u001b[32m148.1/148.1 kB\u001b[0m \u001b[31m13.3 MB/s\u001b[0m eta \u001b[36m0:00:00\u001b[0m\n",
            "\u001b[?25hRequirement already satisfied: Flask<3 in /usr/local/lib/python3.10/dist-packages (from mlflow) (2.2.4)\n",
            "Requirement already satisfied: numpy<2 in /usr/local/lib/python3.10/dist-packages (from mlflow) (1.22.4)\n",
            "Requirement already satisfied: scipy<2 in /usr/local/lib/python3.10/dist-packages (from mlflow) (1.10.1)\n",
            "Requirement already satisfied: pandas<3 in /usr/local/lib/python3.10/dist-packages (from mlflow) (1.5.3)\n",
            "Collecting querystring-parser<2 (from mlflow)\n",
            "  Downloading querystring_parser-1.2.4-py2.py3-none-any.whl (7.9 kB)\n",
            "Requirement already satisfied: sqlalchemy<3,>=1.4.0 in /usr/local/lib/python3.10/dist-packages (from mlflow) (2.0.10)\n",
            "Requirement already satisfied: scikit-learn<2 in /usr/local/lib/python3.10/dist-packages (from mlflow) (1.2.2)\n",
            "Requirement already satisfied: pyarrow<13,>=4.0.0 in /usr/local/lib/python3.10/dist-packages (from mlflow) (9.0.0)\n",
            "Requirement already satisfied: markdown<4,>=3.3 in /usr/local/lib/python3.10/dist-packages (from mlflow) (3.4.3)\n",
            "Requirement already satisfied: matplotlib<4 in /usr/local/lib/python3.10/dist-packages (from mlflow) (3.7.1)\n",
            "Collecting gunicorn<21 (from mlflow)\n",
            "  Downloading gunicorn-20.1.0-py3-none-any.whl (79 kB)\n",
            "\u001b[2K     \u001b[90m━━━━━━━━━━━━━━━━━━━━━━━━━━━━━━━━━━━━━━━━\u001b[0m \u001b[32m79.5/79.5 kB\u001b[0m \u001b[31m10.0 MB/s\u001b[0m eta \u001b[36m0:00:00\u001b[0m\n",
            "\u001b[?25hRequirement already satisfied: Jinja2<4,>=2.11 in /usr/local/lib/python3.10/dist-packages (from mlflow) (3.1.2)\n",
            "Collecting Mako (from alembic!=1.10.0,<2->mlflow)\n",
            "  Downloading Mako-1.2.4-py3-none-any.whl (78 kB)\n",
            "\u001b[2K     \u001b[90m━━━━━━━━━━━━━━━━━━━━━━━━━━━━━━━━━━━━━━━━\u001b[0m \u001b[32m78.7/78.7 kB\u001b[0m \u001b[31m3.9 MB/s\u001b[0m eta \u001b[36m0:00:00\u001b[0m\n",
            "\u001b[?25hRequirement already satisfied: typing-extensions>=4 in /usr/local/lib/python3.10/dist-packages (from alembic!=1.10.0,<2->mlflow) (4.5.0)\n",
            "Collecting pyjwt>=1.7.0 (from databricks-cli<1,>=0.8.7->mlflow)\n",
            "  Downloading PyJWT-2.7.0-py3-none-any.whl (22 kB)\n",
            "Requirement already satisfied: oauthlib>=3.1.0 in /usr/local/lib/python3.10/dist-packages (from databricks-cli<1,>=0.8.7->mlflow) (3.2.2)\n",
            "Requirement already satisfied: tabulate>=0.7.7 in /usr/local/lib/python3.10/dist-packages (from databricks-cli<1,>=0.8.7->mlflow) (0.8.10)\n",
            "Requirement already satisfied: six>=1.10.0 in /usr/local/lib/python3.10/dist-packages (from databricks-cli<1,>=0.8.7->mlflow) (1.16.0)\n",
            "Requirement already satisfied: urllib3<2.0.0,>=1.26.7 in /usr/local/lib/python3.10/dist-packages (from databricks-cli<1,>=0.8.7->mlflow) (1.26.15)\n",
            "Requirement already satisfied: websocket-client>=0.32.0 in /usr/local/lib/python3.10/dist-packages (from docker<7,>=4.0.0->mlflow) (1.5.1)\n",
            "Requirement already satisfied: Werkzeug>=2.2.2 in /usr/local/lib/python3.10/dist-packages (from Flask<3->mlflow) (2.3.0)\n",
            "Requirement already satisfied: itsdangerous>=2.0 in /usr/local/lib/python3.10/dist-packages (from Flask<3->mlflow) (2.1.2)\n",
            "Collecting gitdb<5,>=4.0.1 (from gitpython<4,>=2.1.0->mlflow)\n",
            "  Downloading gitdb-4.0.10-py3-none-any.whl (62 kB)\n",
            "\u001b[2K     \u001b[90m━━━━━━━━━━━━━━━━━━━━━━━━━━━━━━━━━━━━━━━━\u001b[0m \u001b[32m62.7/62.7 kB\u001b[0m \u001b[31m7.4 MB/s\u001b[0m eta \u001b[36m0:00:00\u001b[0m\n",
            "\u001b[?25hRequirement already satisfied: setuptools>=3.0 in /usr/local/lib/python3.10/dist-packages (from gunicorn<21->mlflow) (67.7.2)\n",
            "Requirement already satisfied: zipp>=0.5 in /usr/local/lib/python3.10/dist-packages (from importlib-metadata!=4.7.0,<7,>=3.7.0->mlflow) (3.15.0)\n",
            "Requirement already satisfied: MarkupSafe>=2.0 in /usr/local/lib/python3.10/dist-packages (from Jinja2<4,>=2.11->mlflow) (2.1.2)\n",
            "Requirement already satisfied: contourpy>=1.0.1 in /usr/local/lib/python3.10/dist-packages (from matplotlib<4->mlflow) (1.0.7)\n",
            "Requirement already satisfied: cycler>=0.10 in /usr/local/lib/python3.10/dist-packages (from matplotlib<4->mlflow) (0.11.0)\n",
            "Requirement already satisfied: fonttools>=4.22.0 in /usr/local/lib/python3.10/dist-packages (from matplotlib<4->mlflow) (4.39.3)\n",
            "Requirement already satisfied: kiwisolver>=1.0.1 in /usr/local/lib/python3.10/dist-packages (from matplotlib<4->mlflow) (1.4.4)\n",
            "Requirement already satisfied: pillow>=6.2.0 in /usr/local/lib/python3.10/dist-packages (from matplotlib<4->mlflow) (8.4.0)\n",
            "Requirement already satisfied: pyparsing>=2.3.1 in /usr/local/lib/python3.10/dist-packages (from matplotlib<4->mlflow) (3.0.9)\n",
            "Requirement already satisfied: python-dateutil>=2.7 in /usr/local/lib/python3.10/dist-packages (from matplotlib<4->mlflow) (2.8.2)\n",
            "Requirement already satisfied: certifi>=2017.4.17 in /usr/local/lib/python3.10/dist-packages (from requests<3,>=2.17.3->mlflow) (2022.12.7)\n",
            "Requirement already satisfied: charset-normalizer~=2.0.0 in /usr/local/lib/python3.10/dist-packages (from requests<3,>=2.17.3->mlflow) (2.0.12)\n",
            "Requirement already satisfied: idna<4,>=2.5 in /usr/local/lib/python3.10/dist-packages (from requests<3,>=2.17.3->mlflow) (3.4)\n",
            "Requirement already satisfied: joblib>=1.1.1 in /usr/local/lib/python3.10/dist-packages (from scikit-learn<2->mlflow) (1.2.0)\n",
            "Requirement already satisfied: threadpoolctl>=2.0.0 in /usr/local/lib/python3.10/dist-packages (from scikit-learn<2->mlflow) (3.1.0)\n",
            "Requirement already satisfied: greenlet!=0.4.17 in /usr/local/lib/python3.10/dist-packages (from sqlalchemy<3,>=1.4.0->mlflow) (2.0.2)\n",
            "Collecting smmap<6,>=3.0.1 (from gitdb<5,>=4.0.1->gitpython<4,>=2.1.0->mlflow)\n",
            "  Downloading smmap-5.0.0-py3-none-any.whl (24 kB)\n",
            "Building wheels for collected packages: databricks-cli\n",
            "  Building wheel for databricks-cli (setup.py) ... \u001b[?25l\u001b[?25hdone\n",
            "  Created wheel for databricks-cli: filename=databricks_cli-0.17.7-py3-none-any.whl size=143860 sha256=9e242226848f4f86b4b5d93a900ef5ddbf8011616c57a5c058f1c049b0fadfae\n",
            "  Stored in directory: /root/.cache/pip/wheels/ae/63/93/5402c1a09c1868a59d0b05013484e07af97a9d7b3dbd5bd39a\n",
            "Successfully built databricks-cli\n",
            "Installing collected packages: smmap, querystring-parser, pyjwt, Mako, importlib-metadata, gunicorn, gitdb, docker, databricks-cli, alembic, gitpython, mlflow\n",
            "Successfully installed Mako-1.2.4 alembic-1.11.1 databricks-cli-0.17.7 docker-6.1.3 gitdb-4.0.10 gitpython-3.1.31 gunicorn-20.1.0 importlib-metadata-6.6.0 mlflow-2.4.1 pyjwt-2.7.0 querystring-parser-1.2.4 smmap-5.0.0\n"
          ]
        }
      ]
    },
    {
      "cell_type": "code",
      "source": [],
      "metadata": {
        "id": "fFPXRBwDmR4u"
      },
      "execution_count": null,
      "outputs": []
    }
  ]
}