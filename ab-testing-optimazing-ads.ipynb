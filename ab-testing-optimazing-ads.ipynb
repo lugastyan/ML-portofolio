{
 "cells": [
  {
   "cell_type": "raw",
   "id": "80a4dcda",
   "metadata": {
    "papermill": {
     "duration": 0.007673,
     "end_time": "2024-03-07T04:32:48.537980",
     "exception": false,
     "start_time": "2024-03-07T04:32:48.530307",
     "status": "completed"
    },
    "tags": []
   },
   "source": [
    "Problem : Which promotion was the most effective?\n",
    "\n",
    "Scenario : \n",
    "Rantai restoran makanan cepat saji berencana untuk menambahkan menu baru. Namun, mereka masih ragu tentang tiga kampanye pemasaran yang mungkin untuk mempromosikan produk baru tersebut. Untuk mengetahui promosi mana yang paling efektif dalam meningkatkan penjualan, produk baru akan diperkenalkan di beberapa pasar yang dipilih secara acak. Setiap pasar akan menggunakan promosi yang berbeda, dan penjualan produk baru tersebut akan dicatat setiap minggunya selama empat minggu pertama.\n",
    "\n",
    "======================================================================================================================\n",
    "\n",
    "Description of the dataset : \n",
    "1. MarketID          : an inhouse tag used to describe market type, we won't be using it.\n",
    "2. MarketSize        : there are thhree types of market size : small, medium and large.\n",
    "3. AgeOfStores       : Age of store in years (1-28). The mean age of store is 8.5 years.\n",
    "4. LocationID        : Unique identifier for store location. Each location identified by number. The total number is 137.\n",
    "5. Promotion         : One of three promotions that were tested (1,2,3). We don't really know the specifics of each promotion.\n",
    "6. Week              : One of weeks when the promotions were run (1-4)\n",
    "7. SalesInThousands  : Sales amount for a specific Location ID, promotion and week. The mean amount od sales ate 53.5 thousand dollars.\n",
    "\n",
    "========================================================================================================================\n",
    "\n",
    "\n",
    "1. MarketID          : Sebuah tag internal yang digunakan untuk menggambarkan jenis pasar, kami tidak akan menggunakannya.\n",
    "2. MarketSize        : Ada tiga jenis ukuran pasar: kecil, sedang, dan besar.\n",
    "3. AgeOfStores       : Usia toko dalam tahun (1-28). Rata-rata usia toko adalah 8.5 tahun.\n",
    "4. LocationID        : Pengenal unik untuk lokasi toko. Setiap lokasi diidentifikasi dengan nomor. Totalnya adalah 137.\n",
    "5. Promotion         : Salah satu dari tiga promosi yang diuji (1,2,3). Kami tidak benar-benar mengetahui detail dari setiap promosi.\n",
    "6. Week              : Salah satu minggu ketika promosi dijalankan (1-4).\n",
    "7. SalesInThousands  : Jumlah penjualan untuk Lokasi ID, promosi, dan minggu tertentu. Rata-rata jumlah penjualan adalah 53.5 ribu dolar.\n"
   ]
  },
  {
   "cell_type": "code",
   "execution_count": null,
   "id": "5136aa2c",
   "metadata": {
    "papermill": {
     "duration": 0.00683,
     "end_time": "2024-03-07T04:32:48.551802",
     "exception": false,
     "start_time": "2024-03-07T04:32:48.544972",
     "status": "completed"
    },
    "tags": []
   },
   "outputs": [],
   "source": []
  },
  {
   "cell_type": "markdown",
   "id": "2b80278c",
   "metadata": {
    "papermill": {
     "duration": 0.006808,
     "end_time": "2024-03-07T04:32:48.565656",
     "exception": false,
     "start_time": "2024-03-07T04:32:48.558848",
     "status": "completed"
    },
    "tags": []
   },
   "source": []
  },
  {
   "cell_type": "code",
   "execution_count": 1,
   "id": "e4173176",
   "metadata": {
    "_cell_guid": "b1076dfc-b9ad-4769-8c92-a6c4dae69d19",
    "_uuid": "8f2839f25d086af736a60e9eeb907d3b93b6e0e5",
    "execution": {
     "iopub.execute_input": "2024-03-07T04:32:48.581740Z",
     "iopub.status.busy": "2024-03-07T04:32:48.581158Z",
     "iopub.status.idle": "2024-03-07T04:32:49.570464Z",
     "shell.execute_reply": "2024-03-07T04:32:49.569344Z"
    },
    "papermill": {
     "duration": 0.999643,
     "end_time": "2024-03-07T04:32:49.572421",
     "exception": false,
     "start_time": "2024-03-07T04:32:48.572778",
     "status": "completed"
    },
    "tags": []
   },
   "outputs": [
    {
     "data": {
      "text/html": [
       "<div>\n",
       "<style scoped>\n",
       "    .dataframe tbody tr th:only-of-type {\n",
       "        vertical-align: middle;\n",
       "    }\n",
       "\n",
       "    .dataframe tbody tr th {\n",
       "        vertical-align: top;\n",
       "    }\n",
       "\n",
       "    .dataframe thead th {\n",
       "        text-align: right;\n",
       "    }\n",
       "</style>\n",
       "<table border=\"1\" class=\"dataframe\">\n",
       "  <thead>\n",
       "    <tr style=\"text-align: right;\">\n",
       "      <th></th>\n",
       "      <th>MarketID</th>\n",
       "      <th>MarketSize</th>\n",
       "      <th>LocationID</th>\n",
       "      <th>AgeOfStore</th>\n",
       "      <th>Promotion</th>\n",
       "      <th>week</th>\n",
       "      <th>SalesInThousands</th>\n",
       "    </tr>\n",
       "  </thead>\n",
       "  <tbody>\n",
       "    <tr>\n",
       "      <th>0</th>\n",
       "      <td>1</td>\n",
       "      <td>Medium</td>\n",
       "      <td>1</td>\n",
       "      <td>4</td>\n",
       "      <td>3</td>\n",
       "      <td>1</td>\n",
       "      <td>33.73</td>\n",
       "    </tr>\n",
       "    <tr>\n",
       "      <th>1</th>\n",
       "      <td>1</td>\n",
       "      <td>Medium</td>\n",
       "      <td>1</td>\n",
       "      <td>4</td>\n",
       "      <td>3</td>\n",
       "      <td>2</td>\n",
       "      <td>35.67</td>\n",
       "    </tr>\n",
       "    <tr>\n",
       "      <th>2</th>\n",
       "      <td>1</td>\n",
       "      <td>Medium</td>\n",
       "      <td>1</td>\n",
       "      <td>4</td>\n",
       "      <td>3</td>\n",
       "      <td>3</td>\n",
       "      <td>29.03</td>\n",
       "    </tr>\n",
       "    <tr>\n",
       "      <th>3</th>\n",
       "      <td>1</td>\n",
       "      <td>Medium</td>\n",
       "      <td>1</td>\n",
       "      <td>4</td>\n",
       "      <td>3</td>\n",
       "      <td>4</td>\n",
       "      <td>39.25</td>\n",
       "    </tr>\n",
       "    <tr>\n",
       "      <th>4</th>\n",
       "      <td>1</td>\n",
       "      <td>Medium</td>\n",
       "      <td>2</td>\n",
       "      <td>5</td>\n",
       "      <td>2</td>\n",
       "      <td>1</td>\n",
       "      <td>27.81</td>\n",
       "    </tr>\n",
       "    <tr>\n",
       "      <th>5</th>\n",
       "      <td>1</td>\n",
       "      <td>Medium</td>\n",
       "      <td>2</td>\n",
       "      <td>5</td>\n",
       "      <td>2</td>\n",
       "      <td>2</td>\n",
       "      <td>34.67</td>\n",
       "    </tr>\n",
       "    <tr>\n",
       "      <th>6</th>\n",
       "      <td>1</td>\n",
       "      <td>Medium</td>\n",
       "      <td>2</td>\n",
       "      <td>5</td>\n",
       "      <td>2</td>\n",
       "      <td>3</td>\n",
       "      <td>27.98</td>\n",
       "    </tr>\n",
       "    <tr>\n",
       "      <th>7</th>\n",
       "      <td>1</td>\n",
       "      <td>Medium</td>\n",
       "      <td>2</td>\n",
       "      <td>5</td>\n",
       "      <td>2</td>\n",
       "      <td>4</td>\n",
       "      <td>27.72</td>\n",
       "    </tr>\n",
       "    <tr>\n",
       "      <th>8</th>\n",
       "      <td>1</td>\n",
       "      <td>Medium</td>\n",
       "      <td>3</td>\n",
       "      <td>12</td>\n",
       "      <td>1</td>\n",
       "      <td>1</td>\n",
       "      <td>44.54</td>\n",
       "    </tr>\n",
       "    <tr>\n",
       "      <th>9</th>\n",
       "      <td>1</td>\n",
       "      <td>Medium</td>\n",
       "      <td>3</td>\n",
       "      <td>12</td>\n",
       "      <td>1</td>\n",
       "      <td>2</td>\n",
       "      <td>37.94</td>\n",
       "    </tr>\n",
       "    <tr>\n",
       "      <th>10</th>\n",
       "      <td>1</td>\n",
       "      <td>Medium</td>\n",
       "      <td>3</td>\n",
       "      <td>12</td>\n",
       "      <td>1</td>\n",
       "      <td>3</td>\n",
       "      <td>45.49</td>\n",
       "    </tr>\n",
       "    <tr>\n",
       "      <th>11</th>\n",
       "      <td>1</td>\n",
       "      <td>Medium</td>\n",
       "      <td>3</td>\n",
       "      <td>12</td>\n",
       "      <td>1</td>\n",
       "      <td>4</td>\n",
       "      <td>34.75</td>\n",
       "    </tr>\n",
       "    <tr>\n",
       "      <th>12</th>\n",
       "      <td>1</td>\n",
       "      <td>Medium</td>\n",
       "      <td>4</td>\n",
       "      <td>1</td>\n",
       "      <td>2</td>\n",
       "      <td>1</td>\n",
       "      <td>39.28</td>\n",
       "    </tr>\n",
       "    <tr>\n",
       "      <th>13</th>\n",
       "      <td>1</td>\n",
       "      <td>Medium</td>\n",
       "      <td>4</td>\n",
       "      <td>1</td>\n",
       "      <td>2</td>\n",
       "      <td>2</td>\n",
       "      <td>39.80</td>\n",
       "    </tr>\n",
       "    <tr>\n",
       "      <th>14</th>\n",
       "      <td>1</td>\n",
       "      <td>Medium</td>\n",
       "      <td>4</td>\n",
       "      <td>1</td>\n",
       "      <td>2</td>\n",
       "      <td>3</td>\n",
       "      <td>24.77</td>\n",
       "    </tr>\n",
       "    <tr>\n",
       "      <th>15</th>\n",
       "      <td>1</td>\n",
       "      <td>Medium</td>\n",
       "      <td>4</td>\n",
       "      <td>1</td>\n",
       "      <td>2</td>\n",
       "      <td>4</td>\n",
       "      <td>30.98</td>\n",
       "    </tr>\n",
       "    <tr>\n",
       "      <th>16</th>\n",
       "      <td>1</td>\n",
       "      <td>Medium</td>\n",
       "      <td>5</td>\n",
       "      <td>10</td>\n",
       "      <td>2</td>\n",
       "      <td>1</td>\n",
       "      <td>30.37</td>\n",
       "    </tr>\n",
       "    <tr>\n",
       "      <th>17</th>\n",
       "      <td>1</td>\n",
       "      <td>Medium</td>\n",
       "      <td>5</td>\n",
       "      <td>10</td>\n",
       "      <td>2</td>\n",
       "      <td>2</td>\n",
       "      <td>24.82</td>\n",
       "    </tr>\n",
       "    <tr>\n",
       "      <th>18</th>\n",
       "      <td>1</td>\n",
       "      <td>Medium</td>\n",
       "      <td>5</td>\n",
       "      <td>10</td>\n",
       "      <td>2</td>\n",
       "      <td>3</td>\n",
       "      <td>37.47</td>\n",
       "    </tr>\n",
       "    <tr>\n",
       "      <th>19</th>\n",
       "      <td>1</td>\n",
       "      <td>Medium</td>\n",
       "      <td>5</td>\n",
       "      <td>10</td>\n",
       "      <td>2</td>\n",
       "      <td>4</td>\n",
       "      <td>23.35</td>\n",
       "    </tr>\n",
       "    <tr>\n",
       "      <th>20</th>\n",
       "      <td>1</td>\n",
       "      <td>Medium</td>\n",
       "      <td>6</td>\n",
       "      <td>10</td>\n",
       "      <td>3</td>\n",
       "      <td>1</td>\n",
       "      <td>32.90</td>\n",
       "    </tr>\n",
       "    <tr>\n",
       "      <th>21</th>\n",
       "      <td>1</td>\n",
       "      <td>Medium</td>\n",
       "      <td>6</td>\n",
       "      <td>10</td>\n",
       "      <td>3</td>\n",
       "      <td>2</td>\n",
       "      <td>22.18</td>\n",
       "    </tr>\n",
       "    <tr>\n",
       "      <th>22</th>\n",
       "      <td>1</td>\n",
       "      <td>Medium</td>\n",
       "      <td>6</td>\n",
       "      <td>10</td>\n",
       "      <td>3</td>\n",
       "      <td>3</td>\n",
       "      <td>42.98</td>\n",
       "    </tr>\n",
       "    <tr>\n",
       "      <th>23</th>\n",
       "      <td>1</td>\n",
       "      <td>Medium</td>\n",
       "      <td>6</td>\n",
       "      <td>10</td>\n",
       "      <td>3</td>\n",
       "      <td>4</td>\n",
       "      <td>26.68</td>\n",
       "    </tr>\n",
       "    <tr>\n",
       "      <th>24</th>\n",
       "      <td>1</td>\n",
       "      <td>Medium</td>\n",
       "      <td>7</td>\n",
       "      <td>15</td>\n",
       "      <td>1</td>\n",
       "      <td>1</td>\n",
       "      <td>42.92</td>\n",
       "    </tr>\n",
       "  </tbody>\n",
       "</table>\n",
       "</div>"
      ],
      "text/plain": [
       "    MarketID MarketSize  LocationID  AgeOfStore  Promotion  week  \\\n",
       "0          1     Medium           1           4          3     1   \n",
       "1          1     Medium           1           4          3     2   \n",
       "2          1     Medium           1           4          3     3   \n",
       "3          1     Medium           1           4          3     4   \n",
       "4          1     Medium           2           5          2     1   \n",
       "5          1     Medium           2           5          2     2   \n",
       "6          1     Medium           2           5          2     3   \n",
       "7          1     Medium           2           5          2     4   \n",
       "8          1     Medium           3          12          1     1   \n",
       "9          1     Medium           3          12          1     2   \n",
       "10         1     Medium           3          12          1     3   \n",
       "11         1     Medium           3          12          1     4   \n",
       "12         1     Medium           4           1          2     1   \n",
       "13         1     Medium           4           1          2     2   \n",
       "14         1     Medium           4           1          2     3   \n",
       "15         1     Medium           4           1          2     4   \n",
       "16         1     Medium           5          10          2     1   \n",
       "17         1     Medium           5          10          2     2   \n",
       "18         1     Medium           5          10          2     3   \n",
       "19         1     Medium           5          10          2     4   \n",
       "20         1     Medium           6          10          3     1   \n",
       "21         1     Medium           6          10          3     2   \n",
       "22         1     Medium           6          10          3     3   \n",
       "23         1     Medium           6          10          3     4   \n",
       "24         1     Medium           7          15          1     1   \n",
       "\n",
       "    SalesInThousands  \n",
       "0              33.73  \n",
       "1              35.67  \n",
       "2              29.03  \n",
       "3              39.25  \n",
       "4              27.81  \n",
       "5              34.67  \n",
       "6              27.98  \n",
       "7              27.72  \n",
       "8              44.54  \n",
       "9              37.94  \n",
       "10             45.49  \n",
       "11             34.75  \n",
       "12             39.28  \n",
       "13             39.80  \n",
       "14             24.77  \n",
       "15             30.98  \n",
       "16             30.37  \n",
       "17             24.82  \n",
       "18             37.47  \n",
       "19             23.35  \n",
       "20             32.90  \n",
       "21             22.18  \n",
       "22             42.98  \n",
       "23             26.68  \n",
       "24             42.92  "
      ]
     },
     "execution_count": 1,
     "metadata": {},
     "output_type": "execute_result"
    }
   ],
   "source": [
    "import pandas as pd\n",
    "import matplotlib.pyplot as plt\n",
    "\n",
    "file_name = '/kaggle/input/marketing/WA_Fn-UseC_-Marketing-Campaign-Eff-UseC_-FastF.csv'\n",
    "df = pd.read_csv(file_name)\n",
    "\n",
    "df.head(25)"
   ]
  },
  {
   "cell_type": "raw",
   "id": "22f8b68d",
   "metadata": {
    "papermill": {
     "duration": 0.007027,
     "end_time": "2024-03-07T04:32:49.586945",
     "exception": false,
     "start_time": "2024-03-07T04:32:49.579918",
     "status": "completed"
    },
    "tags": []
   },
   "source": []
  },
  {
   "cell_type": "code",
   "execution_count": 2,
   "id": "c7c82d80",
   "metadata": {
    "execution": {
     "iopub.execute_input": "2024-03-07T04:32:49.603624Z",
     "iopub.status.busy": "2024-03-07T04:32:49.603235Z",
     "iopub.status.idle": "2024-03-07T04:32:49.619573Z",
     "shell.execute_reply": "2024-03-07T04:32:49.618851Z"
    },
    "papermill": {
     "duration": 0.026875,
     "end_time": "2024-03-07T04:32:49.621326",
     "exception": false,
     "start_time": "2024-03-07T04:32:49.594451",
     "status": "completed"
    },
    "tags": []
   },
   "outputs": [
    {
     "name": "stdout",
     "output_type": "stream",
     "text": [
      "Raw        :  548\n",
      "Columns    :  7\n",
      "\n",
      "Features   : \n",
      " ['MarketID', 'MarketSize', 'LocationID', 'AgeOfStore', 'Promotion', 'week', 'SalesInThousands']\n",
      "\n",
      "Missing Values : \n",
      " MarketID            0\n",
      "MarketSize          0\n",
      "LocationID          0\n",
      "AgeOfStore          0\n",
      "Promotion           0\n",
      "week                0\n",
      "SalesInThousands    0\n",
      "dtype: int64\n",
      "\n",
      "Unique Value   : \n",
      " MarketID             10\n",
      "MarketSize            3\n",
      "LocationID          137\n",
      "AgeOfStore           25\n",
      "Promotion             3\n",
      "week                  4\n",
      "SalesInThousands    517\n",
      "dtype: int64\n"
     ]
    }
   ],
   "source": [
    "print('Raw        : ',df.shape[0])\n",
    "print('Columns    : ', df.shape[1])\n",
    "print('\\nFeatures   : \\n', df.columns.tolist())\n",
    "print('\\nMissing Values : \\n', df.isnull().sum())\n",
    "print('\\nUnique Value   : \\n', df.nunique())"
   ]
  },
  {
   "cell_type": "code",
   "execution_count": 3,
   "id": "ec44fe04",
   "metadata": {
    "execution": {
     "iopub.execute_input": "2024-03-07T04:32:49.639138Z",
     "iopub.status.busy": "2024-03-07T04:32:49.638488Z",
     "iopub.status.idle": "2024-03-07T04:32:49.666780Z",
     "shell.execute_reply": "2024-03-07T04:32:49.665174Z"
    },
    "papermill": {
     "duration": 0.039996,
     "end_time": "2024-03-07T04:32:49.668894",
     "exception": false,
     "start_time": "2024-03-07T04:32:49.628898",
     "status": "completed"
    },
    "tags": []
   },
   "outputs": [
    {
     "data": {
      "text/html": [
       "<div>\n",
       "<style scoped>\n",
       "    .dataframe tbody tr th:only-of-type {\n",
       "        vertical-align: middle;\n",
       "    }\n",
       "\n",
       "    .dataframe tbody tr th {\n",
       "        vertical-align: top;\n",
       "    }\n",
       "\n",
       "    .dataframe thead th {\n",
       "        text-align: right;\n",
       "    }\n",
       "</style>\n",
       "<table border=\"1\" class=\"dataframe\">\n",
       "  <thead>\n",
       "    <tr style=\"text-align: right;\">\n",
       "      <th></th>\n",
       "      <th>MarketID</th>\n",
       "      <th>LocationID</th>\n",
       "      <th>AgeOfStore</th>\n",
       "      <th>Promotion</th>\n",
       "      <th>week</th>\n",
       "      <th>SalesInThousands</th>\n",
       "    </tr>\n",
       "  </thead>\n",
       "  <tbody>\n",
       "    <tr>\n",
       "      <th>count</th>\n",
       "      <td>548.000000</td>\n",
       "      <td>548.000000</td>\n",
       "      <td>548.000000</td>\n",
       "      <td>548.000000</td>\n",
       "      <td>548.000000</td>\n",
       "      <td>548.000000</td>\n",
       "    </tr>\n",
       "    <tr>\n",
       "      <th>mean</th>\n",
       "      <td>5.715328</td>\n",
       "      <td>479.656934</td>\n",
       "      <td>8.503650</td>\n",
       "      <td>2.029197</td>\n",
       "      <td>2.500000</td>\n",
       "      <td>53.466204</td>\n",
       "    </tr>\n",
       "    <tr>\n",
       "      <th>std</th>\n",
       "      <td>2.877001</td>\n",
       "      <td>287.973679</td>\n",
       "      <td>6.638345</td>\n",
       "      <td>0.810729</td>\n",
       "      <td>1.119055</td>\n",
       "      <td>16.755216</td>\n",
       "    </tr>\n",
       "    <tr>\n",
       "      <th>min</th>\n",
       "      <td>1.000000</td>\n",
       "      <td>1.000000</td>\n",
       "      <td>1.000000</td>\n",
       "      <td>1.000000</td>\n",
       "      <td>1.000000</td>\n",
       "      <td>17.340000</td>\n",
       "    </tr>\n",
       "    <tr>\n",
       "      <th>25%</th>\n",
       "      <td>3.000000</td>\n",
       "      <td>216.000000</td>\n",
       "      <td>4.000000</td>\n",
       "      <td>1.000000</td>\n",
       "      <td>1.750000</td>\n",
       "      <td>42.545000</td>\n",
       "    </tr>\n",
       "    <tr>\n",
       "      <th>50%</th>\n",
       "      <td>6.000000</td>\n",
       "      <td>504.000000</td>\n",
       "      <td>7.000000</td>\n",
       "      <td>2.000000</td>\n",
       "      <td>2.500000</td>\n",
       "      <td>50.200000</td>\n",
       "    </tr>\n",
       "    <tr>\n",
       "      <th>75%</th>\n",
       "      <td>8.000000</td>\n",
       "      <td>708.000000</td>\n",
       "      <td>12.000000</td>\n",
       "      <td>3.000000</td>\n",
       "      <td>3.250000</td>\n",
       "      <td>60.477500</td>\n",
       "    </tr>\n",
       "    <tr>\n",
       "      <th>max</th>\n",
       "      <td>10.000000</td>\n",
       "      <td>920.000000</td>\n",
       "      <td>28.000000</td>\n",
       "      <td>3.000000</td>\n",
       "      <td>4.000000</td>\n",
       "      <td>99.650000</td>\n",
       "    </tr>\n",
       "  </tbody>\n",
       "</table>\n",
       "</div>"
      ],
      "text/plain": [
       "         MarketID  LocationID  AgeOfStore   Promotion        week  \\\n",
       "count  548.000000  548.000000  548.000000  548.000000  548.000000   \n",
       "mean     5.715328  479.656934    8.503650    2.029197    2.500000   \n",
       "std      2.877001  287.973679    6.638345    0.810729    1.119055   \n",
       "min      1.000000    1.000000    1.000000    1.000000    1.000000   \n",
       "25%      3.000000  216.000000    4.000000    1.000000    1.750000   \n",
       "50%      6.000000  504.000000    7.000000    2.000000    2.500000   \n",
       "75%      8.000000  708.000000   12.000000    3.000000    3.250000   \n",
       "max     10.000000  920.000000   28.000000    3.000000    4.000000   \n",
       "\n",
       "       SalesInThousands  \n",
       "count        548.000000  \n",
       "mean          53.466204  \n",
       "std           16.755216  \n",
       "min           17.340000  \n",
       "25%           42.545000  \n",
       "50%           50.200000  \n",
       "75%           60.477500  \n",
       "max           99.650000  "
      ]
     },
     "execution_count": 3,
     "metadata": {},
     "output_type": "execute_result"
    }
   ],
   "source": [
    "df.describe()"
   ]
  },
  {
   "cell_type": "markdown",
   "id": "e2d1190a",
   "metadata": {
    "papermill": {
     "duration": 0.007143,
     "end_time": "2024-03-07T04:32:49.684156",
     "exception": false,
     "start_time": "2024-03-07T04:32:49.677013",
     "status": "completed"
    },
    "tags": []
   },
   "source": [
    "EDA"
   ]
  },
  {
   "cell_type": "code",
   "execution_count": 4,
   "id": "af47a487",
   "metadata": {
    "execution": {
     "iopub.execute_input": "2024-03-07T04:32:49.700566Z",
     "iopub.status.busy": "2024-03-07T04:32:49.700257Z",
     "iopub.status.idle": "2024-03-07T04:32:49.914966Z",
     "shell.execute_reply": "2024-03-07T04:32:49.914012Z"
    },
    "papermill": {
     "duration": 0.225205,
     "end_time": "2024-03-07T04:32:49.916887",
     "exception": false,
     "start_time": "2024-03-07T04:32:49.691682",
     "status": "completed"
    },
    "tags": []
   },
   "outputs": [
    {
     "data": {
      "image/png": "[encoded data removed]",
      "text/plain": [
       "<Figure size 800x800 with 1 Axes>"
      ]
     },
     "metadata": {},
     "output_type": "display_data"
    }
   ],
   "source": [
    "plt.style.use('ggplot')\n",
    "\n",
    "ax = df.groupby('Promotion').sum()['SalesInThousands'].plot.pie(figsize = (8,8),\n",
    "                                                               autopct='%1.0f%%',\n",
    "                                                               shadow=True,\n",
    "                                                               explode = (0,0.1,0))\n",
    "\n",
    "ax.set_ylabel('')\n",
    "ax.set_title('Sales Distribution Across the 3 Different Promotions')\n",
    "\n",
    "plt.show()"
   ]
  },
  {
   "cell_type": "code",
   "execution_count": 5,
   "id": "5e615802",
   "metadata": {
    "execution": {
     "iopub.execute_input": "2024-03-07T04:32:49.939721Z",
     "iopub.status.busy": "2024-03-07T04:32:49.939089Z",
     "iopub.status.idle": "2024-03-07T04:32:49.955661Z",
     "shell.execute_reply": "2024-03-07T04:32:49.954814Z"
    },
    "papermill": {
     "duration": 0.030032,
     "end_time": "2024-03-07T04:32:49.957430",
     "exception": false,
     "start_time": "2024-03-07T04:32:49.927398",
     "status": "completed"
    },
    "tags": []
   },
   "outputs": [
    {
     "data": {
      "text/html": [
       "<div>\n",
       "<style scoped>\n",
       "    .dataframe tbody tr th:only-of-type {\n",
       "        vertical-align: middle;\n",
       "    }\n",
       "\n",
       "    .dataframe tbody tr th {\n",
       "        vertical-align: top;\n",
       "    }\n",
       "\n",
       "    .dataframe thead th {\n",
       "        text-align: right;\n",
       "    }\n",
       "</style>\n",
       "<table border=\"1\" class=\"dataframe\">\n",
       "  <thead>\n",
       "    <tr style=\"text-align: right;\">\n",
       "      <th>MarketSize</th>\n",
       "      <th>Large</th>\n",
       "      <th>Medium</th>\n",
       "      <th>Small</th>\n",
       "    </tr>\n",
       "    <tr>\n",
       "      <th>Promotion</th>\n",
       "      <th></th>\n",
       "      <th></th>\n",
       "      <th></th>\n",
       "    </tr>\n",
       "  </thead>\n",
       "  <tbody>\n",
       "    <tr>\n",
       "      <th>1</th>\n",
       "      <td>56</td>\n",
       "      <td>96</td>\n",
       "      <td>20</td>\n",
       "    </tr>\n",
       "    <tr>\n",
       "      <th>2</th>\n",
       "      <td>64</td>\n",
       "      <td>108</td>\n",
       "      <td>16</td>\n",
       "    </tr>\n",
       "    <tr>\n",
       "      <th>3</th>\n",
       "      <td>48</td>\n",
       "      <td>116</td>\n",
       "      <td>24</td>\n",
       "    </tr>\n",
       "  </tbody>\n",
       "</table>\n",
       "</div>"
      ],
      "text/plain": [
       "MarketSize  Large  Medium  Small\n",
       "Promotion                       \n",
       "1              56      96     20\n",
       "2              64     108     16\n",
       "3              48     116     24"
      ]
     },
     "execution_count": 5,
     "metadata": {},
     "output_type": "execute_result"
    }
   ],
   "source": [
    "# Now we view tge promotions in each market size\n",
    "df.groupby(['Promotion','MarketSize']).count()['MarketID'].unstack()"
   ]
  },
  {
   "cell_type": "code",
   "execution_count": 6,
   "id": "12c7f7ce",
   "metadata": {
    "execution": {
     "iopub.execute_input": "2024-03-07T04:32:49.977049Z",
     "iopub.status.busy": "2024-03-07T04:32:49.976709Z",
     "iopub.status.idle": "2024-03-07T04:32:50.236980Z",
     "shell.execute_reply": "2024-03-07T04:32:50.236380Z"
    },
    "papermill": {
     "duration": 0.271535,
     "end_time": "2024-03-07T04:32:50.238578",
     "exception": false,
     "start_time": "2024-03-07T04:32:49.967043",
     "status": "completed"
    },
    "tags": []
   },
   "outputs": [
    {
     "data": {
      "image/png": "[encoded data removed]",
      "text/plain": [
       "<Figure size 1200x1000 with 1 Axes>"
      ]
     },
     "metadata": {},
     "output_type": "display_data"
    }
   ],
   "source": [
    "# Put this into plot\n",
    "\n",
    "ax = df.groupby(['Promotion','MarketSize']).count()['MarketID'].unstack('MarketSize').plot(\n",
    "kind='bar',\n",
    "figsize= (12,10),\n",
    "grid=True)\n",
    "\n",
    "\n",
    "ax.set_ylabel('Count')\n",
    "ax.set_title('Breakdowns of market size acriss different promotions')\n",
    "\n",
    "plt.show()"
   ]
  },
  {
   "cell_type": "code",
   "execution_count": 7,
   "id": "caf61d0b",
   "metadata": {
    "execution": {
     "iopub.execute_input": "2024-03-07T04:32:50.259305Z",
     "iopub.status.busy": "2024-03-07T04:32:50.257573Z",
     "iopub.status.idle": "2024-03-07T04:32:50.514391Z",
     "shell.execute_reply": "2024-03-07T04:32:50.513309Z"
    },
    "papermill": {
     "duration": 0.268484,
     "end_time": "2024-03-07T04:32:50.516373",
     "exception": false,
     "start_time": "2024-03-07T04:32:50.247889",
     "status": "completed"
    },
    "tags": []
   },
   "outputs": [
    {
     "data": {
      "image/png": "[encoded data removed]",
      "text/plain": [
       "<Figure size 1200x1000 with 1 Axes>"
      ]
     },
     "metadata": {},
     "output_type": "display_data"
    }
   ],
   "source": [
    "# Put this into plot\n",
    "\n",
    "ax = df.groupby(['Promotion','MarketSize']).count()['MarketID'].unstack('MarketSize').plot(\n",
    "kind='bar',\n",
    "figsize= (12,10),\n",
    "grid=True,\n",
    "stacked=True)\n",
    "\n",
    "\n",
    "ax.set_ylabel('Count')\n",
    "ax.set_title('Breakdowns of market size acriss different promotions')\n",
    "\n",
    "plt.show()"
   ]
  },
  {
   "cell_type": "code",
   "execution_count": 8,
   "id": "3fb5fa19",
   "metadata": {
    "execution": {
     "iopub.execute_input": "2024-03-07T04:32:50.535815Z",
     "iopub.status.busy": "2024-03-07T04:32:50.535402Z",
     "iopub.status.idle": "2024-03-07T04:32:50.546422Z",
     "shell.execute_reply": "2024-03-07T04:32:50.545224Z"
    },
    "papermill": {
     "duration": 0.023595,
     "end_time": "2024-03-07T04:32:50.548800",
     "exception": false,
     "start_time": "2024-03-07T04:32:50.525205",
     "status": "completed"
    },
    "tags": []
   },
   "outputs": [
    {
     "data": {
      "text/plain": [
       "AgeOfStore\n",
       "1     80\n",
       "2     20\n",
       "3     32\n",
       "4     44\n",
       "5     44\n",
       "6     36\n",
       "7     40\n",
       "8     40\n",
       "9     28\n",
       "10    24\n",
       "11    16\n",
       "12    24\n",
       "13    20\n",
       "14    12\n",
       "15     8\n",
       "17     4\n",
       "18     8\n",
       "19    20\n",
       "20     4\n",
       "22    12\n",
       "23     8\n",
       "24    12\n",
       "25     4\n",
       "27     4\n",
       "28     4\n",
       "Name: MarketID, dtype: int64"
      ]
     },
     "execution_count": 8,
     "metadata": {},
     "output_type": "execute_result"
    }
   ],
   "source": [
    "df.groupby('AgeOfStore').count()['MarketID']"
   ]
  },
  {
   "cell_type": "code",
   "execution_count": 9,
   "id": "f1bbf62c",
   "metadata": {
    "execution": {
     "iopub.execute_input": "2024-03-07T04:32:50.569471Z",
     "iopub.status.busy": "2024-03-07T04:32:50.568744Z",
     "iopub.status.idle": "2024-03-07T04:32:50.888096Z",
     "shell.execute_reply": "2024-03-07T04:32:50.886542Z"
    },
    "papermill": {
     "duration": 0.33182,
     "end_time": "2024-03-07T04:32:50.890152",
     "exception": false,
     "start_time": "2024-03-07T04:32:50.558332",
     "status": "completed"
    },
    "tags": []
   },
   "outputs": [
    {
     "data": {
      "image/png": "[encoded data removed]",
      "text/plain": [
       "<Figure size 1200x700 with 1 Axes>"
      ]
     },
     "metadata": {},
     "output_type": "display_data"
    }
   ],
   "source": [
    "ax = df.groupby('AgeOfStore').count()['MarketID'].plot(\n",
    "kind='bar',\n",
    "figsize=(12,7),\n",
    "grid=True)\n",
    "\n",
    "ax.set_xlabel('Age')\n",
    "ax.set_ylabel('Count')\n",
    "ax.set_title('Overall Distributions Store Ages')\n",
    "\n",
    "plt.show()"
   ]
  },
  {
   "cell_type": "code",
   "execution_count": 10,
   "id": "305148f6",
   "metadata": {
    "execution": {
     "iopub.execute_input": "2024-03-07T04:32:50.910092Z",
     "iopub.status.busy": "2024-03-07T04:32:50.909800Z",
     "iopub.status.idle": "2024-03-07T04:32:50.920429Z",
     "shell.execute_reply": "2024-03-07T04:32:50.919745Z"
    },
    "papermill": {
     "duration": 0.022778,
     "end_time": "2024-03-07T04:32:50.922177",
     "exception": false,
     "start_time": "2024-03-07T04:32:50.899399",
     "status": "completed"
    },
    "tags": []
   },
   "outputs": [
    {
     "data": {
      "text/plain": [
       "MarketID\n",
       "3     88\n",
       "10    80\n",
       "5     60\n",
       "6     60\n",
       "7     60\n",
       "1     52\n",
       "8     48\n",
       "9     40\n",
       "4     36\n",
       "2     24\n",
       "Name: count, dtype: int64"
      ]
     },
     "execution_count": 10,
     "metadata": {},
     "output_type": "execute_result"
    }
   ],
   "source": [
    "df['MarketID'].value_counts()"
   ]
  },
  {
   "cell_type": "code",
   "execution_count": 11,
   "id": "1e46613f",
   "metadata": {
    "execution": {
     "iopub.execute_input": "2024-03-07T04:32:50.943163Z",
     "iopub.status.busy": "2024-03-07T04:32:50.942610Z",
     "iopub.status.idle": "2024-03-07T04:32:50.953861Z",
     "shell.execute_reply": "2024-03-07T04:32:50.952832Z"
    },
    "papermill": {
     "duration": 0.023737,
     "end_time": "2024-03-07T04:32:50.955625",
     "exception": false,
     "start_time": "2024-03-07T04:32:50.931888",
     "status": "completed"
    },
    "tags": []
   },
   "outputs": [
    {
     "data": {
      "text/plain": [
       "AgeOfStore  Promotion\n",
       "1           1            24\n",
       "            2            36\n",
       "            3            20\n",
       "2           1             8\n",
       "            2             8\n",
       "            3             4\n",
       "3           1            16\n",
       "            2            12\n",
       "            3             4\n",
       "4           1            16\n",
       "            2            12\n",
       "            3            16\n",
       "5           1             8\n",
       "            2            12\n",
       "            3            24\n",
       "6           1            20\n",
       "            2             4\n",
       "            3            12\n",
       "7           1             4\n",
       "            2            24\n",
       "            3            12\n",
       "8           1            12\n",
       "            2             8\n",
       "            3            20\n",
       "9           1             8\n",
       "            2            12\n",
       "            3             8\n",
       "10          2            16\n",
       "            3             8\n",
       "11          1             4\n",
       "            3            12\n",
       "12          1            12\n",
       "            2             4\n",
       "            3             8\n",
       "13          1            12\n",
       "            2             8\n",
       "14          2             8\n",
       "            3             4\n",
       "15          1             4\n",
       "            2             4\n",
       "17          3             4\n",
       "18          1             8\n",
       "19          1             4\n",
       "            2             8\n",
       "            3             8\n",
       "20          3             4\n",
       "22          1             4\n",
       "            3             8\n",
       "23          2             4\n",
       "            3             4\n",
       "24          1             4\n",
       "            3             8\n",
       "25          2             4\n",
       "27          1             4\n",
       "28          2             4\n",
       "Name: MarketID, dtype: int64"
      ]
     },
     "execution_count": 11,
     "metadata": {},
     "output_type": "execute_result"
    }
   ],
   "source": [
    "df.groupby(['AgeOfStore','Promotion']).count()['MarketID']"
   ]
  },
  {
   "cell_type": "code",
   "execution_count": 12,
   "id": "a2c3ad96",
   "metadata": {
    "execution": {
     "iopub.execute_input": "2024-03-07T04:32:50.977410Z",
     "iopub.status.busy": "2024-03-07T04:32:50.977027Z",
     "iopub.status.idle": "2024-03-07T04:32:51.483116Z",
     "shell.execute_reply": "2024-03-07T04:32:51.482289Z"
    },
    "papermill": {
     "duration": 0.519478,
     "end_time": "2024-03-07T04:32:51.484856",
     "exception": false,
     "start_time": "2024-03-07T04:32:50.965378",
     "status": "completed"
    },
    "tags": []
   },
   "outputs": [
    {
     "data": {
      "image/png": "[encoded data removed]",
      "text/plain": [
       "<Figure size 1400x1800 with 1 Axes>"
      ]
     },
     "metadata": {},
     "output_type": "display_data"
    }
   ],
   "source": [
    "# Let's plot \n",
    "\n",
    "ax = df.groupby(['AgeOfStore','Promotion']).count()['MarketID'].unstack('Promotion').iloc[::-1].plot(\n",
    "kind='barh',\n",
    "figsize=(14,18),\n",
    "grid=True)\n",
    "\n",
    "ax.set_ylabel('age')\n",
    "ax.set_xlabel('Count')\n",
    "\n",
    "ax.set_title('Overall distributions of age of store')\n",
    "\n",
    "plt.show()"
   ]
  },
  {
   "cell_type": "code",
   "execution_count": 13,
   "id": "f6414ed1",
   "metadata": {
    "execution": {
     "iopub.execute_input": "2024-03-07T04:32:51.506879Z",
     "iopub.status.busy": "2024-03-07T04:32:51.506355Z",
     "iopub.status.idle": "2024-03-07T04:32:51.552519Z",
     "shell.execute_reply": "2024-03-07T04:32:51.551243Z"
    },
    "papermill": {
     "duration": 0.060053,
     "end_time": "2024-03-07T04:32:51.555085",
     "exception": false,
     "start_time": "2024-03-07T04:32:51.495032",
     "status": "completed"
    },
    "tags": []
   },
   "outputs": [
    {
     "data": {
      "text/html": [
       "<div>\n",
       "<style scoped>\n",
       "    .dataframe tbody tr th:only-of-type {\n",
       "        vertical-align: middle;\n",
       "    }\n",
       "\n",
       "    .dataframe tbody tr th {\n",
       "        vertical-align: top;\n",
       "    }\n",
       "\n",
       "    .dataframe thead th {\n",
       "        text-align: right;\n",
       "    }\n",
       "</style>\n",
       "<table border=\"1\" class=\"dataframe\">\n",
       "  <thead>\n",
       "    <tr style=\"text-align: right;\">\n",
       "      <th></th>\n",
       "      <th>count</th>\n",
       "      <th>mean</th>\n",
       "      <th>std</th>\n",
       "      <th>min</th>\n",
       "      <th>25%</th>\n",
       "      <th>50%</th>\n",
       "      <th>75%</th>\n",
       "      <th>max</th>\n",
       "    </tr>\n",
       "    <tr>\n",
       "      <th>Promotion</th>\n",
       "      <th></th>\n",
       "      <th></th>\n",
       "      <th></th>\n",
       "      <th></th>\n",
       "      <th></th>\n",
       "      <th></th>\n",
       "      <th></th>\n",
       "      <th></th>\n",
       "    </tr>\n",
       "  </thead>\n",
       "  <tbody>\n",
       "    <tr>\n",
       "      <th>1</th>\n",
       "      <td>172.0</td>\n",
       "      <td>8.279070</td>\n",
       "      <td>6.636160</td>\n",
       "      <td>1.0</td>\n",
       "      <td>3.0</td>\n",
       "      <td>6.0</td>\n",
       "      <td>12.0</td>\n",
       "      <td>27.0</td>\n",
       "    </tr>\n",
       "    <tr>\n",
       "      <th>2</th>\n",
       "      <td>188.0</td>\n",
       "      <td>7.978723</td>\n",
       "      <td>6.597648</td>\n",
       "      <td>1.0</td>\n",
       "      <td>3.0</td>\n",
       "      <td>7.0</td>\n",
       "      <td>10.0</td>\n",
       "      <td>28.0</td>\n",
       "    </tr>\n",
       "    <tr>\n",
       "      <th>3</th>\n",
       "      <td>188.0</td>\n",
       "      <td>9.234043</td>\n",
       "      <td>6.651646</td>\n",
       "      <td>1.0</td>\n",
       "      <td>5.0</td>\n",
       "      <td>8.0</td>\n",
       "      <td>12.0</td>\n",
       "      <td>24.0</td>\n",
       "    </tr>\n",
       "  </tbody>\n",
       "</table>\n",
       "</div>"
      ],
      "text/plain": [
       "           count      mean       std  min  25%  50%   75%   max\n",
       "Promotion                                                      \n",
       "1          172.0  8.279070  6.636160  1.0  3.0  6.0  12.0  27.0\n",
       "2          188.0  7.978723  6.597648  1.0  3.0  7.0  10.0  28.0\n",
       "3          188.0  9.234043  6.651646  1.0  5.0  8.0  12.0  24.0"
      ]
     },
     "execution_count": 13,
     "metadata": {},
     "output_type": "execute_result"
    }
   ],
   "source": [
    "df.groupby(['Promotion']).describe()['AgeOfStore']"
   ]
  },
  {
   "cell_type": "markdown",
   "id": "73a0e465",
   "metadata": {
    "papermill": {
     "duration": 0.010317,
     "end_time": "2024-03-07T04:32:51.576157",
     "exception": false,
     "start_time": "2024-03-07T04:32:51.565840",
     "status": "completed"
    },
    "tags": []
   },
   "source": [
    "Tabel ini memudahkan untuk memahami distribusi usia toko secara keseluruhan dari statistik ringkas kami.\n",
    "Kelompok uji memiliki profil usia yang serupa dan rata-rata usia toko adalah sekitar 8 hingga 9 tahun untuk ketiga kelompok ini. \n",
    "Sebagian besar toko berusia 10 - 12 tahun atau bahkan lebih muda. Dapat terlihat bahwa profil toko serupa satu sama lain. \n",
    "Hal ini menunjukkan bahwa kelompok sampel kami terkendali dengan baik dan hasil pengujian A/B akan bermakna dan dapat dipercaya."
   ]
  },
  {
   "cell_type": "markdown",
   "id": "1c2af4bb",
   "metadata": {
    "papermill": {
     "duration": 0.010127,
     "end_time": "2024-03-07T04:32:51.597404",
     "exception": false,
     "start_time": "2024-03-07T04:32:51.587277",
     "status": "completed"
    },
    "tags": []
   },
   "source": [
    "A/B testing "
   ]
  },
  {
   "cell_type": "code",
   "execution_count": 14,
   "id": "afe7635a",
   "metadata": {
    "execution": {
     "iopub.execute_input": "2024-03-07T04:32:51.620264Z",
     "iopub.status.busy": "2024-03-07T04:32:51.619951Z",
     "iopub.status.idle": "2024-03-07T04:32:51.630059Z",
     "shell.execute_reply": "2024-03-07T04:32:51.629139Z"
    },
    "papermill": {
     "duration": 0.023924,
     "end_time": "2024-03-07T04:32:51.631955",
     "exception": false,
     "start_time": "2024-03-07T04:32:51.608031",
     "status": "completed"
    },
    "tags": []
   },
   "outputs": [],
   "source": [
    "means = df.groupby('Promotion')['SalesInThousands'].mean()\n",
    "stds = df.groupby('Promotion')['SalesInThousands'].std()\n",
    "ns = df.groupby('Promotion')['SalesInThousands'].count()\n"
   ]
  },
  {
   "cell_type": "markdown",
   "id": "3e359fb4",
   "metadata": {
    "papermill": {
     "duration": 0.009655,
     "end_time": "2024-03-07T04:32:51.651997",
     "exception": false,
     "start_time": "2024-03-07T04:32:51.642342",
     "status": "completed"
    },
    "tags": []
   },
   "source": [
    "T-value:\n",
    "\n",
    "T-value adalah angka yang mengukur seberapa besar perbedaan antara dua kelompok data. Semakin besar nilainya, semakin besar perbedaannya. Jika nilainya kecil, mungkin perbedaannya juga kecil. T-value memberi tahu kita seberapa kuat perbedaan antara kelompok-kelompok data itu.\n",
    "\n",
    "P-value:\n",
    "\n",
    "P-value adalah angka yang memberi tahu kita seberapa mungkin perbedaan yang kita lihat antara dua kelompok data terjadi secara kebetulan. Semakin kecil nilainya, semakin kecil kemungkinan perbedaan itu terjadi karena kebetulan. Jika nilainya sangat kecil, biasanya kita menganggap perbedaan tersebut signifikan secara statistik."
   ]
  },
  {
   "cell_type": "code",
   "execution_count": 15,
   "id": "066de8a6",
   "metadata": {
    "execution": {
     "iopub.execute_input": "2024-03-07T04:32:51.673170Z",
     "iopub.status.busy": "2024-03-07T04:32:51.672697Z",
     "iopub.status.idle": "2024-03-07T04:32:51.679162Z",
     "shell.execute_reply": "2024-03-07T04:32:51.678571Z"
    },
    "papermill": {
     "duration": 0.019023,
     "end_time": "2024-03-07T04:32:51.680784",
     "exception": false,
     "start_time": "2024-03-07T04:32:51.661761",
     "status": "completed"
    },
    "tags": []
   },
   "outputs": [
    {
     "data": {
      "text/plain": [
       "Promotion\n",
       "1    58.099012\n",
       "2    47.329415\n",
       "3    55.364468\n",
       "Name: SalesInThousands, dtype: float64"
      ]
     },
     "execution_count": 15,
     "metadata": {},
     "output_type": "execute_result"
    }
   ],
   "source": [
    "means"
   ]
  },
  {
   "cell_type": "code",
   "execution_count": 16,
   "id": "4083dddf",
   "metadata": {
    "execution": {
     "iopub.execute_input": "2024-03-07T04:32:51.702786Z",
     "iopub.status.busy": "2024-03-07T04:32:51.701957Z",
     "iopub.status.idle": "2024-03-07T04:32:51.709600Z",
     "shell.execute_reply": "2024-03-07T04:32:51.708508Z"
    },
    "papermill": {
     "duration": 0.020765,
     "end_time": "2024-03-07T04:32:51.711718",
     "exception": false,
     "start_time": "2024-03-07T04:32:51.690953",
     "status": "completed"
    },
    "tags": []
   },
   "outputs": [
    {
     "data": {
      "text/plain": [
       "Promotion\n",
       "1    16.553782\n",
       "2    15.108955\n",
       "3    16.766231\n",
       "Name: SalesInThousands, dtype: float64"
      ]
     },
     "execution_count": 16,
     "metadata": {},
     "output_type": "execute_result"
    }
   ],
   "source": [
    "stds"
   ]
  },
  {
   "cell_type": "code",
   "execution_count": 17,
   "id": "55736a5d",
   "metadata": {
    "execution": {
     "iopub.execute_input": "2024-03-07T04:32:51.735325Z",
     "iopub.status.busy": "2024-03-07T04:32:51.734959Z",
     "iopub.status.idle": "2024-03-07T04:32:51.742388Z",
     "shell.execute_reply": "2024-03-07T04:32:51.740482Z"
    },
    "papermill": {
     "duration": 0.021637,
     "end_time": "2024-03-07T04:32:51.744796",
     "exception": false,
     "start_time": "2024-03-07T04:32:51.723159",
     "status": "completed"
    },
    "tags": []
   },
   "outputs": [
    {
     "data": {
      "text/plain": [
       "Promotion\n",
       "1    172\n",
       "2    188\n",
       "3    188\n",
       "Name: SalesInThousands, dtype: int64"
      ]
     },
     "execution_count": 17,
     "metadata": {},
     "output_type": "execute_result"
    }
   ],
   "source": [
    "ns"
   ]
  },
  {
   "cell_type": "markdown",
   "id": "bc1b06b6",
   "metadata": {
    "papermill": {
     "duration": 0.009863,
     "end_time": "2024-03-07T04:32:51.765258",
     "exception": false,
     "start_time": "2024-03-07T04:32:51.755395",
     "status": "completed"
    },
    "tags": []
   },
   "source": [
    "Comparing promotion 1 vs promotion 2 in an A/B test"
   ]
  },
  {
   "cell_type": "code",
   "execution_count": 18,
   "id": "7bf97451",
   "metadata": {
    "execution": {
     "iopub.execute_input": "2024-03-07T04:32:51.787788Z",
     "iopub.status.busy": "2024-03-07T04:32:51.786890Z",
     "iopub.status.idle": "2024-03-07T04:32:52.890335Z",
     "shell.execute_reply": "2024-03-07T04:32:52.889179Z"
    },
    "papermill": {
     "duration": 1.116776,
     "end_time": "2024-03-07T04:32:52.892352",
     "exception": false,
     "start_time": "2024-03-07T04:32:51.775576",
     "status": "completed"
    },
    "tags": []
   },
   "outputs": [
    {
     "name": "stdout",
     "output_type": "stream",
     "text": [
      "t-value =  6.42752867090748\n",
      "p-value =  4.2903687179871785e-10\n"
     ]
    }
   ],
   "source": [
    "# Computing the t and p values using scipy\n",
    "\n",
    "from scipy import stats\n",
    "\n",
    "t, p = stats.ttest_ind(df.loc[df['Promotion'] == 1, 'SalesInThousands'].values,\n",
    "                      df.loc[df['Promotion'] == 2, 'SalesInThousands'].values,\n",
    "                      equal_var=False)\n",
    "\n",
    "print('t-value = ', t)\n",
    "print('p-value = ', p) # 0.00000000042903687179871785 "
   ]
  },
  {
   "cell_type": "markdown",
   "id": "f904fdf8",
   "metadata": {
    "papermill": {
     "duration": 0.010656,
     "end_time": "2024-03-07T04:32:52.913809",
     "exception": false,
     "start_time": "2024-03-07T04:32:52.903153",
     "status": "completed"
    },
    "tags": []
   },
   "source": [
    "t-value besar, ini menunjukkan bahwa perbedaan antara rata-rata kedua kelompok (promotion 1 dan 2) itu signifikan dan tidak terjadi secara kebetulan.\n",
    "\n",
    "p yang sangat kecil menunjukkan bahwa perbedaan antara rata-rata kedua kelompok adalah signifikan secara statistik.\n",
    "\n",
    "Jadi, kombinasi nilai t yang besar dan nilai p yang kecil menunjukkan bahwa perbedaan antara kedua kelompok adalah signifikan\n",
    "\n"
   ]
  },
  {
   "cell_type": "code",
   "execution_count": 19,
   "id": "9542160e",
   "metadata": {
    "execution": {
     "iopub.execute_input": "2024-03-07T04:32:52.937176Z",
     "iopub.status.busy": "2024-03-07T04:32:52.936460Z",
     "iopub.status.idle": "2024-03-07T04:32:52.943676Z",
     "shell.execute_reply": "2024-03-07T04:32:52.942576Z"
    },
    "papermill": {
     "duration": 0.021102,
     "end_time": "2024-03-07T04:32:52.945629",
     "exception": false,
     "start_time": "2024-03-07T04:32:52.924527",
     "status": "completed"
    },
    "tags": []
   },
   "outputs": [
    {
     "data": {
      "text/plain": [
       "9993.03"
      ]
     },
     "execution_count": 19,
     "metadata": {},
     "output_type": "execute_result"
    }
   ],
   "source": [
    "df.loc[df['Promotion'] == 1, 'SalesInThousands'].values.sum()"
   ]
  },
  {
   "cell_type": "code",
   "execution_count": 20,
   "id": "c2332e7c",
   "metadata": {
    "execution": {
     "iopub.execute_input": "2024-03-07T04:32:52.968838Z",
     "iopub.status.busy": "2024-03-07T04:32:52.968267Z",
     "iopub.status.idle": "2024-03-07T04:32:52.974527Z",
     "shell.execute_reply": "2024-03-07T04:32:52.973806Z"
    },
    "papermill": {
     "duration": 0.020144,
     "end_time": "2024-03-07T04:32:52.976816",
     "exception": false,
     "start_time": "2024-03-07T04:32:52.956672",
     "status": "completed"
    },
    "tags": []
   },
   "outputs": [
    {
     "data": {
      "text/plain": [
       "8897.929999999998"
      ]
     },
     "execution_count": 20,
     "metadata": {},
     "output_type": "execute_result"
    }
   ],
   "source": [
    "df.loc[df['Promotion'] == 2, 'SalesInThousands'].values.sum()"
   ]
  },
  {
   "cell_type": "markdown",
   "id": "5e0b0ac2",
   "metadata": {
    "papermill": {
     "duration": 0.010693,
     "end_time": "2024-03-07T04:32:52.998872",
     "exception": false,
     "start_time": "2024-03-07T04:32:52.988179",
     "status": "completed"
    },
    "tags": []
   },
   "source": [
    "Comparising promotion 1 vs promotion 3 in an A/B test"
   ]
  },
  {
   "cell_type": "code",
   "execution_count": 21,
   "id": "7b7878eb",
   "metadata": {
    "execution": {
     "iopub.execute_input": "2024-03-07T04:32:53.022972Z",
     "iopub.status.busy": "2024-03-07T04:32:53.022391Z",
     "iopub.status.idle": "2024-03-07T04:32:53.030704Z",
     "shell.execute_reply": "2024-03-07T04:32:53.029299Z"
    },
    "papermill": {
     "duration": 0.023232,
     "end_time": "2024-03-07T04:32:53.033021",
     "exception": false,
     "start_time": "2024-03-07T04:32:53.009789",
     "status": "completed"
    },
    "tags": []
   },
   "outputs": [
    {
     "name": "stdout",
     "output_type": "stream",
     "text": [
      "T-Value =  1.5560224307758634\n",
      "P-value =  0.12059147742229478\n"
     ]
    }
   ],
   "source": [
    "t, p = stats.ttest_ind(\n",
    "        df.loc[df['Promotion'] == 1, 'SalesInThousands'].values,\n",
    "        df.loc[df['Promotion'] == 3, 'SalesInThousands'].values,\n",
    "        equal_var=False)\n",
    "\n",
    "\n",
    "print('T-Value = ', t)\n",
    "print('P-value = ', p)"
   ]
  },
  {
   "cell_type": "markdown",
   "id": "e6519a4e",
   "metadata": {
    "papermill": {
     "duration": 0.010783,
     "end_time": "2024-03-07T04:32:53.055042",
     "exception": false,
     "start_time": "2024-03-07T04:32:53.044259",
     "status": "completed"
    },
    "tags": []
   },
   "source": [
    "Analisis : \n",
    "Nilai T-Value adalah positif, menunjukkan bahwa terdapat perbedaan antara kelompok, meskipun tingkat signifikansinya  tidak terlalu besar.\n",
    "\n",
    "P-value adalah probabilitas perbedaan antar kelompok terjadi secara kebetulan. Semakin kecil nilai P-value, semakin signifikan perbedaannya. Dalam konteks ini, P-value (0.1205) lebih besar dari tingkat signifikansi yang umumnya digunakan (misalnya 0.05), yang menunjukkan bahwa perbedaan yang diamati mungkin terjadi secara kebetulan.\n",
    "\n",
    "Dengan demikian, hasil analisis menunjukkan bahwa perbedaan antara kelompok (promotion 1 dan promotion 3) tidak cukup signifikan secara statistik untuk dianggap sebagai hasil yang pasti. Simpelnya dua hal ini sebenarnya sama saja. "
   ]
  },
  {
   "cell_type": "code",
   "execution_count": null,
   "id": "0306e71b",
   "metadata": {
    "papermill": {
     "duration": 0.010405,
     "end_time": "2024-03-07T04:32:53.076155",
     "exception": false,
     "start_time": "2024-03-07T04:32:53.065750",
     "status": "completed"
    },
    "tags": []
   },
   "outputs": [],
   "source": []
  },
  {
   "cell_type": "code",
   "execution_count": 22,
   "id": "9e6cf580",
   "metadata": {
    "execution": {
     "iopub.execute_input": "2024-03-07T04:32:53.099346Z",
     "iopub.status.busy": "2024-03-07T04:32:53.099013Z",
     "iopub.status.idle": "2024-03-07T04:32:53.107434Z",
     "shell.execute_reply": "2024-03-07T04:32:53.106516Z"
    },
    "papermill": {
     "duration": 0.022093,
     "end_time": "2024-03-07T04:32:53.109212",
     "exception": false,
     "start_time": "2024-03-07T04:32:53.087119",
     "status": "completed"
    },
    "tags": []
   },
   "outputs": [
    {
     "name": "stdout",
     "output_type": "stream",
     "text": [
      "T-Value =  -4.88139271089348\n",
      "P-value =  1.5692733176039892e-06\n"
     ]
    }
   ],
   "source": [
    "t, p = stats.ttest_ind(\n",
    "        df.loc[df['Promotion'] == 2, 'SalesInThousands'].values,\n",
    "        df.loc[df['Promotion'] == 3, 'SalesInThousands'].values,\n",
    "        equal_var=False)\n",
    "\n",
    "\n",
    "print('T-Value = ', t)\n",
    "print('P-value = ', p)"
   ]
  },
  {
   "cell_type": "markdown",
   "id": "5c2e8b71",
   "metadata": {
    "papermill": {
     "duration": 0.010618,
     "end_time": "2024-03-07T04:32:53.130771",
     "exception": false,
     "start_time": "2024-03-07T04:32:53.120153",
     "status": "completed"
    },
    "tags": []
   },
   "source": [
    "Dengan demikian, hasil analisis menunjukkan bahwa terdapat perbedaan yang signifikan secara statistik antara dua kelompok dalam sampel, dengan perbedaan tersebut memiliki arah yang berlawanan. Ini menunjukkan bahwa ada faktor atau variabel yang berbeda secara signifikan antara dua kelompok tersebut."
   ]
  },
  {
   "cell_type": "markdown",
   "id": "565210b5",
   "metadata": {
    "papermill": {
     "duration": 0.010966,
     "end_time": "2024-03-07T04:32:53.152732",
     "exception": false,
     "start_time": "2024-03-07T04:32:53.141766",
     "status": "completed"
    },
    "tags": []
   },
   "source": [
    "KESIMPULAN : \n",
    "\n",
    "Promotion 1 vs Promotion 2:\n",
    "\n",
    "T-Value yang tinggi (positif) dan P-Value yang sangat rendah menunjukkan bahwa ada perbedaan signifikan antara Promotion 1 dan Promotion 2. Promotion 1 lebih unggul daripada Promotion 2 secara signifikan.\n",
    "\n",
    "Promotion 1 vs Promotion 3:\n",
    "\n",
    "T-Value yang rendah dan P-Value yang tinggi menunjukkan bahwa tidak ada perbedaan signifikan antara Promotion 1 dan Promotion 3. Kedua promosi memiliki kinerja yang serupa secara statistik.\n",
    "\n",
    "Promotion 2 vs Promotion 3:\n",
    "\n",
    "T-Value yang rendah (negatif) dan P-Value yang sangat rendah menunjukkan bahwa ada perbedaan signifikan antara Promotion 2 dan Promotion 3. Promotion 2 lebih unggul daripada Promotion 3 secara signifikan.\n",
    "\n",
    "Dengan demikian, berdasarkan hasil A/B testing, Promotion 1 lebih unggul daripada Promotion 2, sementara Promotion 2 lebih unggul daripada Promotion 3."
   ]
  },
  {
   "cell_type": "code",
   "execution_count": null,
   "id": "0224ff33",
   "metadata": {
    "papermill": {
     "duration": 0.010843,
     "end_time": "2024-03-07T04:32:53.174858",
     "exception": false,
     "start_time": "2024-03-07T04:32:53.164015",
     "status": "completed"
    },
    "tags": []
   },
   "outputs": [],
   "source": []
  }
 ],
 "metadata": {
  "kaggle": {
   "accelerator": "none",
   "dataSources": [
    {
     "datasetId": 4533870,
     "sourceId": 7753979,
     "sourceType": "datasetVersion"
    }
   ],
   "dockerImageVersionId": 30664,
   "isGpuEnabled": false,
   "isInternetEnabled": false,
   "language": "python",
   "sourceType": "notebook"
  },
  "kernelspec": {
   "display_name": "Python 3",
   "language": "python",
   "name": "python3"
  },
  "language_info": {
   "codemirror_mode": {
    "name": "ipython",
    "version": 3
   },
   "file_extension": ".py",
   "mimetype": "text/x-python",
   "name": "python",
   "nbconvert_exporter": "python",
   "pygments_lexer": "ipython3",
   "version": "3.10.13"
  },
  "papermill": {
   "default_parameters": {},
   "duration": 7.691739,
   "end_time": "2024-03-07T04:32:53.708641",
   "environment_variables": {},
   "exception": null,
   "input_path": "__notebook__.ipynb",
   "output_path": "__notebook__.ipynb",
   "parameters": {},
   "start_time": "2024-03-07T04:32:46.016902",
   "version": "2.5.0"
  }
 },
 "nbformat": 4,
 "nbformat_minor": 5
}
